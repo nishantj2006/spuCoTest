{
  "nbformat": 4,
  "nbformat_minor": 0,
  "metadata": {
    "colab": {
      "provenance": []
    },
    "kernelspec": {
      "name": "python3",
      "display_name": "Python 3"
    },
    "language_info": {
      "name": "python"
    }
  },
  "cells": [
    {
      "cell_type": "code",
      "execution_count": 1,
      "metadata": {
        "colab": {
          "base_uri": "https://localhost:8080/"
        },
        "id": "-MiJfnju5FVM",
        "outputId": "a6a8a02b-c1d2-4eb3-9f35-1c47d8a48fdf"
      },
      "outputs": [
        {
          "output_type": "stream",
          "name": "stdout",
          "text": [
            "Requirement already satisfied: spuco in /usr/local/lib/python3.12/dist-packages (2.0.3)\n",
            "Requirement already satisfied: matplotlib>=3.7.1 in /usr/local/lib/python3.12/dist-packages (from spuco) (3.10.0)\n",
            "Requirement already satisfied: numpy>=1.23.5 in /usr/local/lib/python3.12/dist-packages (from spuco) (2.0.2)\n",
            "Requirement already satisfied: setuptools>=61.0 in /usr/local/lib/python3.12/dist-packages (from spuco) (75.2.0)\n",
            "Requirement already satisfied: torch>=2.0.0 in /usr/local/lib/python3.12/dist-packages (from spuco) (2.8.0+cu126)\n",
            "Requirement already satisfied: torchvision>=0.15.1 in /usr/local/lib/python3.12/dist-packages (from spuco) (0.23.0+cu126)\n",
            "Requirement already satisfied: tqdm>=4.65.0 in /usr/local/lib/python3.12/dist-packages (from spuco) (4.67.1)\n",
            "Requirement already satisfied: scikit-learn>=0.20.0 in /usr/local/lib/python3.12/dist-packages (from spuco) (1.6.1)\n",
            "Requirement already satisfied: wilds>=2.0.0 in /usr/local/lib/python3.12/dist-packages (from spuco) (2.0.0)\n",
            "Requirement already satisfied: transformers>=3.5.0 in /usr/local/lib/python3.12/dist-packages (from spuco) (4.56.1)\n",
            "Requirement already satisfied: umap-learn>=0.5.5 in /usr/local/lib/python3.12/dist-packages (from spuco) (0.5.9.post2)\n",
            "Requirement already satisfied: grad-cam>=1.5.0 in /usr/local/lib/python3.12/dist-packages (from spuco) (1.5.5)\n",
            "Requirement already satisfied: Pillow in /usr/local/lib/python3.12/dist-packages (from grad-cam>=1.5.0->spuco) (11.3.0)\n",
            "Requirement already satisfied: ttach in /usr/local/lib/python3.12/dist-packages (from grad-cam>=1.5.0->spuco) (0.0.3)\n",
            "Requirement already satisfied: opencv-python in /usr/local/lib/python3.12/dist-packages (from grad-cam>=1.5.0->spuco) (4.12.0.88)\n",
            "Requirement already satisfied: contourpy>=1.0.1 in /usr/local/lib/python3.12/dist-packages (from matplotlib>=3.7.1->spuco) (1.3.3)\n",
            "Requirement already satisfied: cycler>=0.10 in /usr/local/lib/python3.12/dist-packages (from matplotlib>=3.7.1->spuco) (0.12.1)\n",
            "Requirement already satisfied: fonttools>=4.22.0 in /usr/local/lib/python3.12/dist-packages (from matplotlib>=3.7.1->spuco) (4.60.0)\n",
            "Requirement already satisfied: kiwisolver>=1.3.1 in /usr/local/lib/python3.12/dist-packages (from matplotlib>=3.7.1->spuco) (1.4.9)\n",
            "Requirement already satisfied: packaging>=20.0 in /usr/local/lib/python3.12/dist-packages (from matplotlib>=3.7.1->spuco) (25.0)\n",
            "Requirement already satisfied: pyparsing>=2.3.1 in /usr/local/lib/python3.12/dist-packages (from matplotlib>=3.7.1->spuco) (3.2.4)\n",
            "Requirement already satisfied: python-dateutil>=2.7 in /usr/local/lib/python3.12/dist-packages (from matplotlib>=3.7.1->spuco) (2.9.0.post0)\n",
            "Requirement already satisfied: scipy>=1.6.0 in /usr/local/lib/python3.12/dist-packages (from scikit-learn>=0.20.0->spuco) (1.16.2)\n",
            "Requirement already satisfied: joblib>=1.2.0 in /usr/local/lib/python3.12/dist-packages (from scikit-learn>=0.20.0->spuco) (1.5.2)\n",
            "Requirement already satisfied: threadpoolctl>=3.1.0 in /usr/local/lib/python3.12/dist-packages (from scikit-learn>=0.20.0->spuco) (3.6.0)\n",
            "Requirement already satisfied: filelock in /usr/local/lib/python3.12/dist-packages (from torch>=2.0.0->spuco) (3.19.1)\n",
            "Requirement already satisfied: typing-extensions>=4.10.0 in /usr/local/lib/python3.12/dist-packages (from torch>=2.0.0->spuco) (4.15.0)\n",
            "Requirement already satisfied: sympy>=1.13.3 in /usr/local/lib/python3.12/dist-packages (from torch>=2.0.0->spuco) (1.13.3)\n",
            "Requirement already satisfied: networkx in /usr/local/lib/python3.12/dist-packages (from torch>=2.0.0->spuco) (3.5)\n",
            "Requirement already satisfied: jinja2 in /usr/local/lib/python3.12/dist-packages (from torch>=2.0.0->spuco) (3.1.6)\n",
            "Requirement already satisfied: fsspec in /usr/local/lib/python3.12/dist-packages (from torch>=2.0.0->spuco) (2025.3.0)\n",
            "Requirement already satisfied: nvidia-cuda-nvrtc-cu12==12.6.77 in /usr/local/lib/python3.12/dist-packages (from torch>=2.0.0->spuco) (12.6.77)\n",
            "Requirement already satisfied: nvidia-cuda-runtime-cu12==12.6.77 in /usr/local/lib/python3.12/dist-packages (from torch>=2.0.0->spuco) (12.6.77)\n",
            "Requirement already satisfied: nvidia-cuda-cupti-cu12==12.6.80 in /usr/local/lib/python3.12/dist-packages (from torch>=2.0.0->spuco) (12.6.80)\n",
            "Requirement already satisfied: nvidia-cudnn-cu12==9.10.2.21 in /usr/local/lib/python3.12/dist-packages (from torch>=2.0.0->spuco) (9.10.2.21)\n",
            "Requirement already satisfied: nvidia-cublas-cu12==12.6.4.1 in /usr/local/lib/python3.12/dist-packages (from torch>=2.0.0->spuco) (12.6.4.1)\n",
            "Requirement already satisfied: nvidia-cufft-cu12==11.3.0.4 in /usr/local/lib/python3.12/dist-packages (from torch>=2.0.0->spuco) (11.3.0.4)\n",
            "Requirement already satisfied: nvidia-curand-cu12==10.3.7.77 in /usr/local/lib/python3.12/dist-packages (from torch>=2.0.0->spuco) (10.3.7.77)\n",
            "Requirement already satisfied: nvidia-cusolver-cu12==11.7.1.2 in /usr/local/lib/python3.12/dist-packages (from torch>=2.0.0->spuco) (11.7.1.2)\n",
            "Requirement already satisfied: nvidia-cusparse-cu12==12.5.4.2 in /usr/local/lib/python3.12/dist-packages (from torch>=2.0.0->spuco) (12.5.4.2)\n",
            "Requirement already satisfied: nvidia-cusparselt-cu12==0.7.1 in /usr/local/lib/python3.12/dist-packages (from torch>=2.0.0->spuco) (0.7.1)\n",
            "Requirement already satisfied: nvidia-nccl-cu12==2.27.3 in /usr/local/lib/python3.12/dist-packages (from torch>=2.0.0->spuco) (2.27.3)\n",
            "Requirement already satisfied: nvidia-nvtx-cu12==12.6.77 in /usr/local/lib/python3.12/dist-packages (from torch>=2.0.0->spuco) (12.6.77)\n",
            "Requirement already satisfied: nvidia-nvjitlink-cu12==12.6.85 in /usr/local/lib/python3.12/dist-packages (from torch>=2.0.0->spuco) (12.6.85)\n",
            "Requirement already satisfied: nvidia-cufile-cu12==1.11.1.6 in /usr/local/lib/python3.12/dist-packages (from torch>=2.0.0->spuco) (1.11.1.6)\n",
            "Requirement already satisfied: triton==3.4.0 in /usr/local/lib/python3.12/dist-packages (from torch>=2.0.0->spuco) (3.4.0)\n",
            "Requirement already satisfied: huggingface-hub<1.0,>=0.34.0 in /usr/local/lib/python3.12/dist-packages (from transformers>=3.5.0->spuco) (0.35.0)\n",
            "Requirement already satisfied: pyyaml>=5.1 in /usr/local/lib/python3.12/dist-packages (from transformers>=3.5.0->spuco) (6.0.2)\n",
            "Requirement already satisfied: regex!=2019.12.17 in /usr/local/lib/python3.12/dist-packages (from transformers>=3.5.0->spuco) (2024.11.6)\n",
            "Requirement already satisfied: requests in /usr/local/lib/python3.12/dist-packages (from transformers>=3.5.0->spuco) (2.32.4)\n",
            "Requirement already satisfied: tokenizers<=0.23.0,>=0.22.0 in /usr/local/lib/python3.12/dist-packages (from transformers>=3.5.0->spuco) (0.22.0)\n",
            "Requirement already satisfied: safetensors>=0.4.3 in /usr/local/lib/python3.12/dist-packages (from transformers>=3.5.0->spuco) (0.6.2)\n",
            "Requirement already satisfied: numba>=0.51.2 in /usr/local/lib/python3.12/dist-packages (from umap-learn>=0.5.5->spuco) (0.60.0)\n",
            "Requirement already satisfied: pynndescent>=0.5 in /usr/local/lib/python3.12/dist-packages (from umap-learn>=0.5.5->spuco) (0.5.13)\n",
            "Requirement already satisfied: ogb>=1.2.6 in /usr/local/lib/python3.12/dist-packages (from wilds>=2.0.0->spuco) (1.3.6)\n",
            "Requirement already satisfied: outdated>=0.2.0 in /usr/local/lib/python3.12/dist-packages (from wilds>=2.0.0->spuco) (0.2.2)\n",
            "Requirement already satisfied: pandas>=1.1.0 in /usr/local/lib/python3.12/dist-packages (from wilds>=2.0.0->spuco) (2.2.2)\n",
            "Requirement already satisfied: pytz>=2020.4 in /usr/local/lib/python3.12/dist-packages (from wilds>=2.0.0->spuco) (2025.2)\n",
            "Requirement already satisfied: hf-xet<2.0.0,>=1.1.3 in /usr/local/lib/python3.12/dist-packages (from huggingface-hub<1.0,>=0.34.0->transformers>=3.5.0->spuco) (1.1.10)\n",
            "Requirement already satisfied: llvmlite<0.44,>=0.43.0dev0 in /usr/local/lib/python3.12/dist-packages (from numba>=0.51.2->umap-learn>=0.5.5->spuco) (0.43.0)\n",
            "Requirement already satisfied: six>=1.12.0 in /usr/local/lib/python3.12/dist-packages (from ogb>=1.2.6->wilds>=2.0.0->spuco) (1.17.0)\n",
            "Requirement already satisfied: urllib3>=1.24.0 in /usr/local/lib/python3.12/dist-packages (from ogb>=1.2.6->wilds>=2.0.0->spuco) (2.5.0)\n",
            "Requirement already satisfied: littleutils in /usr/local/lib/python3.12/dist-packages (from outdated>=0.2.0->wilds>=2.0.0->spuco) (0.2.4)\n",
            "Requirement already satisfied: tzdata>=2022.7 in /usr/local/lib/python3.12/dist-packages (from pandas>=1.1.0->wilds>=2.0.0->spuco) (2025.2)\n",
            "Requirement already satisfied: mpmath<1.4,>=1.1.0 in /usr/local/lib/python3.12/dist-packages (from sympy>=1.13.3->torch>=2.0.0->spuco) (1.3.0)\n",
            "Requirement already satisfied: MarkupSafe>=2.0 in /usr/local/lib/python3.12/dist-packages (from jinja2->torch>=2.0.0->spuco) (3.0.2)\n",
            "Requirement already satisfied: charset_normalizer<4,>=2 in /usr/local/lib/python3.12/dist-packages (from requests->transformers>=3.5.0->spuco) (3.4.3)\n",
            "Requirement already satisfied: idna<4,>=2.5 in /usr/local/lib/python3.12/dist-packages (from requests->transformers>=3.5.0->spuco) (3.10)\n",
            "Requirement already satisfied: certifi>=2017.4.17 in /usr/local/lib/python3.12/dist-packages (from requests->transformers>=3.5.0->spuco) (2025.8.3)\n"
          ]
        }
      ],
      "source": [
        "pip install spuco"
      ]
    },
    {
      "cell_type": "code",
      "source": [
        "import torch\n",
        "from spuco.datasets import SpuCoMNIST, SpuriousFeatureDifficulty\n",
        "from spuco.models import model_factory\n",
        "from torch.optim import SGD\n",
        "from spuco.robust_train import ERM\n",
        "from spuco.group_inference import Cluster, ClusterAlg\n",
        "from spuco.robust_train import GroupBalanceBatchERM, ClassBalanceBatchERM\n",
        "from spuco.models import model_factory\n",
        "from spuco.evaluate import Evaluator"
      ],
      "metadata": {
        "id": "ITACcG8H6HW6"
      },
      "execution_count": 2,
      "outputs": []
    },
    {
      "cell_type": "code",
      "source": [
        "classes = [[0, 1], [2, 3], [4, 5], [6, 7], [8, 9]]\n",
        "difficulty = SpuriousFeatureDifficulty.MAGNITUDE_LARGE\n",
        "\n",
        "trainset = SpuCoMNIST(\n",
        "    root=\"/data/mnist/\",\n",
        "    spurious_feature_difficulty=difficulty,\n",
        "    spurious_correlation_strength=0.995,\n",
        "    classes=classes,\n",
        "    split=\"train\"\n",
        ")\n",
        "trainset.initialize()\n",
        "\n",
        "testset = SpuCoMNIST(\n",
        "    root=\"/data/mnist/\",\n",
        "    spurious_feature_difficulty=difficulty,\n",
        "    classes=classes,\n",
        "    split=\"test\"\n",
        ")\n",
        "testset.initialize()"
      ],
      "metadata": {
        "id": "AFsTOzdr-76Y"
      },
      "execution_count": 3,
      "outputs": []
    },
    {
      "cell_type": "code",
      "source": [
        "model = model_factory(\"lenet\", trainset[0][0].shape, trainset.num_classes)\n",
        "\n",
        "erm = ERM(\n",
        "    model=model,\n",
        "    num_epochs=1,\n",
        "    trainset=trainset,\n",
        "    batch_size=64,\n",
        "    optimizer=SGD(model.parameters(), lr=1e-2, momentum=0.9, nesterov=True),\n",
        "    verbose=True\n",
        ")\n",
        "erm.train()\n"
      ],
      "metadata": {
        "colab": {
          "base_uri": "https://localhost:8080/"
        },
        "id": "SboTjaDxvSOj",
        "outputId": "7f9fab22-cc96-4af5-bf16-b1f00cc5e8b0"
      },
      "execution_count": 4,
      "outputs": [
        {
          "output_type": "stream",
          "name": "stderr",
          "text": [
            "/usr/local/lib/python3.12/dist-packages/torch/utils/data/dataloader.py:627: UserWarning: This DataLoader will create 4 worker processes in total. Our suggested max number of worker in current system is 2, which is smaller than what this DataLoader is going to create. Please be aware that excessive worker creation might get DataLoader running slow or even freeze, lower the worker number to avoid potential slowness/freeze if necessary.\n",
            "  warnings.warn(\n",
            "Epoch 0:   0%|          | 0/751 [00:00<?, ?batch/s]/usr/local/lib/python3.12/dist-packages/torch/utils/data/dataloader.py:666: UserWarning: 'pin_memory' argument is set as true but no accelerator is found, then device pinned memory won't be used.\n",
            "  warnings.warn(warn_msg)\n",
            "Epoch 0:   1%|          | 5/751 [00:00<01:03, 11.72batch/s, accuracy=25.0%, loss=1.61]   "
          ]
        },
        {
          "output_type": "stream",
          "name": "stdout",
          "text": [
            "ERM | Epoch 0 | Loss: 1.6126527786254883 | Accuracy: 25.0%\n",
            "ERM | Epoch 0 | Loss: 1.617069125175476 | Accuracy: 14.0625%\n",
            "ERM | Epoch 0 | Loss: 1.6137303113937378 | Accuracy: 18.75%\n",
            "ERM | Epoch 0 | Loss: 1.6172858476638794 | Accuracy: 20.3125%\n",
            "ERM | Epoch 0 | Loss: 1.61290442943573 | Accuracy: 20.3125%\n",
            "ERM | Epoch 0 | Loss: 1.605165958404541 | Accuracy: 25.0%\n"
          ]
        },
        {
          "output_type": "stream",
          "name": "stderr",
          "text": [
            "Epoch 0:   1%|▏         | 11/751 [00:00<00:38, 19.12batch/s, accuracy=25.0%, loss=1.61]  "
          ]
        },
        {
          "output_type": "stream",
          "name": "stdout",
          "text": [
            "ERM | Epoch 0 | Loss: 1.6169335842132568 | Accuracy: 12.5%\n",
            "ERM | Epoch 0 | Loss: 1.6186540126800537 | Accuracy: 12.5%\n",
            "ERM | Epoch 0 | Loss: 1.6035881042480469 | Accuracy: 18.75%\n",
            "ERM | Epoch 0 | Loss: 1.6060463190078735 | Accuracy: 26.5625%\n",
            "ERM | Epoch 0 | Loss: 1.5969494581222534 | Accuracy: 26.5625%\n",
            "ERM | Epoch 0 | Loss: 1.6063811779022217 | Accuracy: 25.0%\n"
          ]
        },
        {
          "output_type": "stream",
          "name": "stderr",
          "text": [
            "Epoch 0:   2%|▏         | 17/751 [00:00<00:31, 23.37batch/s, accuracy=21.875%, loss=1.59]"
          ]
        },
        {
          "output_type": "stream",
          "name": "stdout",
          "text": [
            "ERM | Epoch 0 | Loss: 1.5976061820983887 | Accuracy: 31.25%\n",
            "ERM | Epoch 0 | Loss: 1.5943719148635864 | Accuracy: 28.125%\n",
            "ERM | Epoch 0 | Loss: 1.5987900495529175 | Accuracy: 21.875%\n",
            "ERM | Epoch 0 | Loss: 1.5914759635925293 | Accuracy: 26.5625%\n",
            "ERM | Epoch 0 | Loss: 1.6034231185913086 | Accuracy: 15.625%\n",
            "ERM | Epoch 0 | Loss: 1.592761754989624 | Accuracy: 21.875%\n"
          ]
        },
        {
          "output_type": "stream",
          "name": "stderr",
          "text": [
            "Epoch 0:   3%|▎         | 23/751 [00:01<00:29, 24.92batch/s, accuracy=18.75%, loss=1.59]"
          ]
        },
        {
          "output_type": "stream",
          "name": "stdout",
          "text": [
            "ERM | Epoch 0 | Loss: 1.5932104587554932 | Accuracy: 21.875%\n",
            "ERM | Epoch 0 | Loss: 1.5893040895462036 | Accuracy: 26.5625%\n",
            "ERM | Epoch 0 | Loss: 1.5900694131851196 | Accuracy: 23.4375%\n",
            "ERM | Epoch 0 | Loss: 1.5958870649337769 | Accuracy: 14.0625%\n",
            "ERM | Epoch 0 | Loss: 1.5867910385131836 | Accuracy: 18.75%\n"
          ]
        },
        {
          "output_type": "stream",
          "name": "stderr",
          "text": [
            "Epoch 0:   4%|▍         | 30/751 [00:01<00:26, 27.05batch/s, accuracy=31.25%, loss=1.57]"
          ]
        },
        {
          "output_type": "stream",
          "name": "stdout",
          "text": [
            "ERM | Epoch 0 | Loss: 1.593240737915039 | Accuracy: 7.8125%\n",
            "ERM | Epoch 0 | Loss: 1.5795488357543945 | Accuracy: 23.4375%\n",
            "ERM | Epoch 0 | Loss: 1.580531358718872 | Accuracy: 15.625%\n",
            "ERM | Epoch 0 | Loss: 1.5652611255645752 | Accuracy: 39.0625%\n",
            "ERM | Epoch 0 | Loss: 1.5735805034637451 | Accuracy: 29.6875%\n",
            "ERM | Epoch 0 | Loss: 1.562283992767334 | Accuracy: 50.0%\n",
            "ERM | Epoch 0 | Loss: 1.5745571851730347 | Accuracy: 31.25%\n"
          ]
        },
        {
          "output_type": "stream",
          "name": "stderr",
          "text": [
            "Epoch 0:   5%|▍         | 37/751 [00:01<00:24, 28.97batch/s, accuracy=68.75%, loss=1.5]"
          ]
        },
        {
          "output_type": "stream",
          "name": "stdout",
          "text": [
            "ERM | Epoch 0 | Loss: 1.5611339807510376 | Accuracy: 43.75%\n",
            "ERM | Epoch 0 | Loss: 1.5569472312927246 | Accuracy: 54.6875%\n",
            "ERM | Epoch 0 | Loss: 1.5413157939910889 | Accuracy: 60.9375%\n",
            "ERM | Epoch 0 | Loss: 1.5431873798370361 | Accuracy: 53.125%\n",
            "ERM | Epoch 0 | Loss: 1.515876054763794 | Accuracy: 65.625%\n",
            "ERM | Epoch 0 | Loss: 1.520876169204712 | Accuracy: 56.25%\n",
            "ERM | Epoch 0 | Loss: 1.4950053691864014 | Accuracy: 68.75%\n"
          ]
        },
        {
          "output_type": "stream",
          "name": "stderr",
          "text": [
            "Epoch 0:   6%|▌         | 43/751 [00:01<00:25, 28.12batch/s, accuracy=59.375%, loss=1.36]"
          ]
        },
        {
          "output_type": "stream",
          "name": "stdout",
          "text": [
            "ERM | Epoch 0 | Loss: 1.4988749027252197 | Accuracy: 60.9375%\n",
            "ERM | Epoch 0 | Loss: 1.4710172414779663 | Accuracy: 62.5%\n",
            "ERM | Epoch 0 | Loss: 1.4388198852539062 | Accuracy: 62.5%\n",
            "ERM | Epoch 0 | Loss: 1.4185922145843506 | Accuracy: 70.3125%\n",
            "ERM | Epoch 0 | Loss: 1.4027540683746338 | Accuracy: 57.8125%\n",
            "ERM | Epoch 0 | Loss: 1.3599042892456055 | Accuracy: 59.375%\n"
          ]
        },
        {
          "output_type": "stream",
          "name": "stderr",
          "text": [
            "Epoch 0:   6%|▌         | 46/751 [00:02<00:24, 28.41batch/s, accuracy=62.5%, loss=0.892]   "
          ]
        },
        {
          "output_type": "stream",
          "name": "stdout",
          "text": [
            "ERM | Epoch 0 | Loss: 1.3361328840255737 | Accuracy: 48.4375%\n",
            "ERM | Epoch 0 | Loss: 1.267914891242981 | Accuracy: 62.5%\n",
            "ERM | Epoch 0 | Loss: 1.2031077146530151 | Accuracy: 70.3125%\n",
            "ERM | Epoch 0 | Loss: 1.1557165384292603 | Accuracy: 65.625%\n",
            "ERM | Epoch 0 | Loss: 1.0437531471252441 | Accuracy: 64.0625%\n",
            "ERM | Epoch 0 | Loss: 0.9117487668991089 | Accuracy: 70.3125%\n"
          ]
        },
        {
          "output_type": "stream",
          "name": "stderr",
          "text": [
            "Epoch 0:   7%|▋         | 54/751 [00:02<00:23, 29.63batch/s, accuracy=98.4375%, loss=0.48]"
          ]
        },
        {
          "output_type": "stream",
          "name": "stdout",
          "text": [
            "ERM | Epoch 0 | Loss: 0.8920019865036011 | Accuracy: 62.5%\n",
            "ERM | Epoch 0 | Loss: 0.7943616509437561 | Accuracy: 59.375%\n",
            "ERM | Epoch 0 | Loss: 0.6452685594558716 | Accuracy: 100.0%\n",
            "ERM | Epoch 0 | Loss: 0.6003568172454834 | Accuracy: 73.4375%\n",
            "ERM | Epoch 0 | Loss: 0.6496375799179077 | Accuracy: 96.875%\n",
            "ERM | Epoch 0 | Loss: 0.47985759377479553 | Accuracy: 98.4375%\n"
          ]
        },
        {
          "output_type": "stream",
          "name": "stderr",
          "text": [
            "Epoch 0:   8%|▊         | 60/751 [00:02<00:23, 29.16batch/s, accuracy=98.4375%, loss=0.266]"
          ]
        },
        {
          "output_type": "stream",
          "name": "stdout",
          "text": [
            "ERM | Epoch 0 | Loss: 0.29632630944252014 | Accuracy: 98.4375%\n",
            "ERM | Epoch 0 | Loss: 0.2711600363254547 | Accuracy: 100.0%\n",
            "ERM | Epoch 0 | Loss: 0.31635063886642456 | Accuracy: 98.4375%\n",
            "ERM | Epoch 0 | Loss: 0.11222925782203674 | Accuracy: 100.0%\n",
            "ERM | Epoch 0 | Loss: 0.06488045305013657 | Accuracy: 100.0%\n",
            "ERM | Epoch 0 | Loss: 0.03361247852444649 | Accuracy: 100.0%\n",
            "ERM | Epoch 0 | Loss: 0.2664791941642761 | Accuracy: 98.4375%\n"
          ]
        },
        {
          "output_type": "stream",
          "name": "stderr",
          "text": [
            "Epoch 0:   9%|▉         | 68/751 [00:02<00:21, 32.10batch/s, accuracy=100.0%, loss=0.00178]"
          ]
        },
        {
          "output_type": "stream",
          "name": "stdout",
          "text": [
            "ERM | Epoch 0 | Loss: 0.026642704382538795 | Accuracy: 100.0%\n",
            "ERM | Epoch 0 | Loss: 0.01354023814201355 | Accuracy: 100.0%\n",
            "ERM | Epoch 0 | Loss: 0.006458625663071871 | Accuracy: 100.0%\n",
            "ERM | Epoch 0 | Loss: 0.12185274809598923 | Accuracy: 98.4375%\n",
            "ERM | Epoch 0 | Loss: 0.002981839468702674 | Accuracy: 100.0%\n",
            "ERM | Epoch 0 | Loss: 0.0017766571836546063 | Accuracy: 100.0%\n",
            "ERM | Epoch 0 | Loss: 0.0017832255689427257 | Accuracy: 100.0%\n"
          ]
        },
        {
          "output_type": "stream",
          "name": "stderr",
          "text": [
            "Epoch 0:  10%|█         | 76/751 [00:02<00:20, 32.23batch/s, accuracy=100.0%, loss=0.00026] "
          ]
        },
        {
          "output_type": "stream",
          "name": "stdout",
          "text": [
            "ERM | Epoch 0 | Loss: 0.14941775798797607 | Accuracy: 98.4375%\n",
            "ERM | Epoch 0 | Loss: 0.013125394470989704 | Accuracy: 100.0%\n",
            "ERM | Epoch 0 | Loss: 0.0020993282087147236 | Accuracy: 100.0%\n",
            "ERM | Epoch 0 | Loss: 0.0024008695036172867 | Accuracy: 100.0%\n",
            "ERM | Epoch 0 | Loss: 0.0005236843135207891 | Accuracy: 100.0%\n",
            "ERM | Epoch 0 | Loss: 0.0007134393090382218 | Accuracy: 100.0%\n",
            "ERM | Epoch 0 | Loss: 0.00047866013483144343 | Accuracy: 100.0%\n"
          ]
        },
        {
          "output_type": "stream",
          "name": "stderr",
          "text": [
            "Epoch 0:  11%|█         | 84/751 [00:03<00:19, 33.99batch/s, accuracy=98.4375%, loss=0.386]"
          ]
        },
        {
          "output_type": "stream",
          "name": "stdout",
          "text": [
            "ERM | Epoch 0 | Loss: 0.0002604472974780947 | Accuracy: 100.0%\n",
            "ERM | Epoch 0 | Loss: 0.0005107737379148602 | Accuracy: 100.0%\n",
            "ERM | Epoch 0 | Loss: 0.17151570320129395 | Accuracy: 98.4375%\n",
            "ERM | Epoch 0 | Loss: 0.0005677972221747041 | Accuracy: 100.0%\n",
            "ERM | Epoch 0 | Loss: 0.320509135723114 | Accuracy: 98.4375%\n",
            "ERM | Epoch 0 | Loss: 0.14685273170471191 | Accuracy: 98.4375%\n",
            "ERM | Epoch 0 | Loss: 0.0009725640993565321 | Accuracy: 100.0%\n",
            "ERM | Epoch 0 | Loss: 0.386470228433609 | Accuracy: 98.4375%\n"
          ]
        },
        {
          "output_type": "stream",
          "name": "stderr",
          "text": [
            "Epoch 0:  12%|█▏        | 88/751 [00:03<00:19, 34.06batch/s, accuracy=98.4375%, loss=0.0934]"
          ]
        },
        {
          "output_type": "stream",
          "name": "stdout",
          "text": [
            "ERM | Epoch 0 | Loss: 0.5203897953033447 | Accuracy: 96.875%\n",
            "ERM | Epoch 0 | Loss: 0.00861335638910532 | Accuracy: 100.0%\n",
            "ERM | Epoch 0 | Loss: 0.0022484201472252607 | Accuracy: 100.0%\n",
            "ERM | Epoch 0 | Loss: 0.003480503335595131 | Accuracy: 100.0%\n",
            "ERM | Epoch 0 | Loss: 0.0016299518756568432 | Accuracy: 100.0%\n",
            "ERM | Epoch 0 | Loss: 0.4715605676174164 | Accuracy: 96.875%\n",
            "ERM | Epoch 0 | Loss: 0.09342368692159653 | Accuracy: 98.4375%\n"
          ]
        },
        {
          "output_type": "stream",
          "name": "stderr",
          "text": [
            "Epoch 0:  13%|█▎        | 96/751 [00:03<00:20, 32.58batch/s, accuracy=100.0%, loss=0.00544]"
          ]
        },
        {
          "output_type": "stream",
          "name": "stdout",
          "text": [
            "ERM | Epoch 0 | Loss: 0.045623958110809326 | Accuracy: 100.0%\n",
            "ERM | Epoch 0 | Loss: 0.0038608985487371683 | Accuracy: 100.0%\n",
            "ERM | Epoch 0 | Loss: 0.01823997125029564 | Accuracy: 100.0%\n",
            "ERM | Epoch 0 | Loss: 0.005755922757089138 | Accuracy: 100.0%\n",
            "ERM | Epoch 0 | Loss: 0.007321854121983051 | Accuracy: 100.0%\n",
            "ERM | Epoch 0 | Loss: 0.0053245932795107365 | Accuracy: 100.0%\n",
            "ERM | Epoch 0 | Loss: 0.005442165303975344 | Accuracy: 100.0%\n"
          ]
        },
        {
          "output_type": "stream",
          "name": "stderr",
          "text": [
            "Epoch 0:  14%|█▍        | 104/751 [00:03<00:21, 30.77batch/s, accuracy=100.0%, loss=0.0107]"
          ]
        },
        {
          "output_type": "stream",
          "name": "stdout",
          "text": [
            "ERM | Epoch 0 | Loss: 0.004008562304079533 | Accuracy: 100.0%\n",
            "ERM | Epoch 0 | Loss: 0.27139151096343994 | Accuracy: 98.4375%\n",
            "ERM | Epoch 0 | Loss: 0.00320856343023479 | Accuracy: 100.0%\n",
            "ERM | Epoch 0 | Loss: 0.004676793236285448 | Accuracy: 100.0%\n",
            "ERM | Epoch 0 | Loss: 0.0050578066147863865 | Accuracy: 100.0%\n",
            "ERM | Epoch 0 | Loss: 0.01067482028156519 | Accuracy: 100.0%\n"
          ]
        },
        {
          "output_type": "stream",
          "name": "stderr",
          "text": [
            "Epoch 0:  14%|█▍        | 108/751 [00:04<00:24, 26.28batch/s, accuracy=100.0%, loss=0.00459]"
          ]
        },
        {
          "output_type": "stream",
          "name": "stdout",
          "text": [
            "ERM | Epoch 0 | Loss: 0.3498147130012512 | Accuracy: 98.4375%\n",
            "ERM | Epoch 0 | Loss: 0.007695133797824383 | Accuracy: 100.0%\n",
            "ERM | Epoch 0 | Loss: 0.006271726917475462 | Accuracy: 100.0%\n",
            "ERM | Epoch 0 | Loss: 0.1774955838918686 | Accuracy: 98.4375%\n",
            "ERM | Epoch 0 | Loss: 0.004495559725910425 | Accuracy: 100.0%\n",
            "ERM | Epoch 0 | Loss: 0.004591092001646757 | Accuracy: 100.0%\n"
          ]
        },
        {
          "output_type": "stream",
          "name": "stderr",
          "text": [
            "Epoch 0:  15%|█▌        | 115/751 [00:04<00:22, 27.81batch/s, accuracy=100.0%, loss=0.00665]"
          ]
        },
        {
          "output_type": "stream",
          "name": "stdout",
          "text": [
            "ERM | Epoch 0 | Loss: 0.004670376423746347 | Accuracy: 100.0%\n",
            "ERM | Epoch 0 | Loss: 0.004859888926148415 | Accuracy: 100.0%\n",
            "ERM | Epoch 0 | Loss: 0.07697780430316925 | Accuracy: 98.4375%\n",
            "ERM | Epoch 0 | Loss: 0.008765782229602337 | Accuracy: 100.0%\n",
            "ERM | Epoch 0 | Loss: 0.008266296237707138 | Accuracy: 100.0%\n",
            "ERM | Epoch 0 | Loss: 0.010199938900768757 | Accuracy: 100.0%\n",
            "ERM | Epoch 0 | Loss: 0.006646143272519112 | Accuracy: 100.0%\n"
          ]
        },
        {
          "output_type": "stream",
          "name": "stderr",
          "text": [
            "Epoch 0:  16%|█▌        | 122/751 [00:04<00:21, 29.30batch/s, accuracy=98.4375%, loss=0.0983]"
          ]
        },
        {
          "output_type": "stream",
          "name": "stdout",
          "text": [
            "ERM | Epoch 0 | Loss: 0.007042492739856243 | Accuracy: 100.0%\n",
            "ERM | Epoch 0 | Loss: 0.00424550287425518 | Accuracy: 100.0%\n",
            "ERM | Epoch 0 | Loss: 0.0037287084851413965 | Accuracy: 100.0%\n",
            "ERM | Epoch 0 | Loss: 0.003927050624042749 | Accuracy: 100.0%\n",
            "ERM | Epoch 0 | Loss: 0.0027173503767699003 | Accuracy: 100.0%\n",
            "ERM | Epoch 0 | Loss: 0.003099205903708935 | Accuracy: 100.0%\n",
            "ERM | Epoch 0 | Loss: 0.09828705340623856 | Accuracy: 98.4375%\n"
          ]
        },
        {
          "output_type": "stream",
          "name": "stderr",
          "text": [
            "Epoch 0:  17%|█▋        | 128/751 [00:04<00:22, 27.70batch/s, accuracy=100.0%, loss=0.00843] "
          ]
        },
        {
          "output_type": "stream",
          "name": "stdout",
          "text": [
            "ERM | Epoch 0 | Loss: 0.0025695073418319225 | Accuracy: 100.0%\n",
            "ERM | Epoch 0 | Loss: 0.0029270430095493793 | Accuracy: 100.0%\n",
            "ERM | Epoch 0 | Loss: 0.003862246172502637 | Accuracy: 100.0%\n",
            "ERM | Epoch 0 | Loss: 0.16553278267383575 | Accuracy: 98.4375%\n",
            "ERM | Epoch 0 | Loss: 0.09919749945402145 | Accuracy: 98.4375%\n",
            "ERM | Epoch 0 | Loss: 0.008434494957327843 | Accuracy: 100.0%\n"
          ]
        },
        {
          "output_type": "stream",
          "name": "stderr",
          "text": [
            "Epoch 0:  18%|█▊        | 134/751 [00:04<00:24, 25.44batch/s, accuracy=100.0%, loss=0.00928]"
          ]
        },
        {
          "output_type": "stream",
          "name": "stdout",
          "text": [
            "ERM | Epoch 0 | Loss: 0.008975476957857609 | Accuracy: 100.0%\n",
            "ERM | Epoch 0 | Loss: 0.06914958357810974 | Accuracy: 98.4375%\n",
            "ERM | Epoch 0 | Loss: 0.011518553830683231 | Accuracy: 100.0%\n",
            "ERM | Epoch 0 | Loss: 0.273735374212265 | Accuracy: 98.4375%\n",
            "ERM | Epoch 0 | Loss: 0.009281540289521217 | Accuracy: 100.0%\n"
          ]
        },
        {
          "output_type": "stream",
          "name": "stderr",
          "text": [
            "Epoch 0:  18%|█▊        | 137/751 [00:05<00:26, 22.81batch/s, accuracy=100.0%, loss=0.00526]"
          ]
        },
        {
          "output_type": "stream",
          "name": "stdout",
          "text": [
            "ERM | Epoch 0 | Loss: 0.19773578643798828 | Accuracy: 98.4375%\n",
            "ERM | Epoch 0 | Loss: 0.006067374721169472 | Accuracy: 100.0%\n",
            "ERM | Epoch 0 | Loss: 0.006550605408847332 | Accuracy: 100.0%\n",
            "ERM | Epoch 0 | Loss: 0.0052648382261395454 | Accuracy: 100.0%\n"
          ]
        },
        {
          "output_type": "stream",
          "name": "stderr",
          "text": [
            "Epoch 0:  19%|█▊        | 140/751 [00:05<00:28, 21.34batch/s, accuracy=100.0%, loss=0.00512]"
          ]
        },
        {
          "output_type": "stream",
          "name": "stdout",
          "text": [
            "ERM | Epoch 0 | Loss: 0.006916883401572704 | Accuracy: 100.0%\n",
            "ERM | Epoch 0 | Loss: 0.005084621720016003 | Accuracy: 100.0%\n",
            "ERM | Epoch 0 | Loss: 0.005116828717291355 | Accuracy: 100.0%\n"
          ]
        },
        {
          "output_type": "stream",
          "name": "stderr",
          "text": [
            "Epoch 0:  19%|█▉        | 145/751 [00:05<00:33, 18.17batch/s, accuracy=98.4375%, loss=0.228]"
          ]
        },
        {
          "output_type": "stream",
          "name": "stdout",
          "text": [
            "ERM | Epoch 0 | Loss: 0.0063692061230540276 | Accuracy: 100.0%\n",
            "ERM | Epoch 0 | Loss: 0.00598120829090476 | Accuracy: 100.0%\n",
            "ERM | Epoch 0 | Loss: 0.004270980600267649 | Accuracy: 100.0%\n",
            "ERM | Epoch 0 | Loss: 0.0034451885148882866 | Accuracy: 100.0%\n",
            "ERM | Epoch 0 | Loss: 0.22839635610580444 | Accuracy: 98.4375%\n"
          ]
        },
        {
          "output_type": "stream",
          "name": "stderr",
          "text": [
            "Epoch 0:  20%|██        | 151/751 [00:05<00:30, 19.67batch/s, accuracy=100.0%, loss=0.00499]"
          ]
        },
        {
          "output_type": "stream",
          "name": "stdout",
          "text": [
            "ERM | Epoch 0 | Loss: 0.11535758525133133 | Accuracy: 98.4375%\n",
            "ERM | Epoch 0 | Loss: 0.004288768861442804 | Accuracy: 100.0%\n",
            "ERM | Epoch 0 | Loss: 0.004992702975869179 | Accuracy: 100.0%\n",
            "ERM | Epoch 0 | Loss: 0.0049871341325342655 | Accuracy: 100.0%\n"
          ]
        },
        {
          "output_type": "stream",
          "name": "stderr",
          "text": [
            "Epoch 0:  21%|██        | 154/751 [00:06<00:32, 18.33batch/s, accuracy=98.4375%, loss=0.0967]"
          ]
        },
        {
          "output_type": "stream",
          "name": "stdout",
          "text": [
            "ERM | Epoch 0 | Loss: 0.00581038324162364 | Accuracy: 100.0%\n",
            "ERM | Epoch 0 | Loss: 0.004806145094335079 | Accuracy: 100.0%\n",
            "ERM | Epoch 0 | Loss: 0.004715688060969114 | Accuracy: 100.0%\n",
            "ERM | Epoch 0 | Loss: 0.09667991101741791 | Accuracy: 98.4375%\n"
          ]
        },
        {
          "output_type": "stream",
          "name": "stderr",
          "text": [
            "Epoch 0:  21%|██        | 158/751 [00:06<00:36, 16.26batch/s, accuracy=98.4375%, loss=0.285]"
          ]
        },
        {
          "output_type": "stream",
          "name": "stdout",
          "text": [
            "ERM | Epoch 0 | Loss: 0.006126186344772577 | Accuracy: 100.0%\n",
            "ERM | Epoch 0 | Loss: 0.26549386978149414 | Accuracy: 96.875%\n",
            "ERM | Epoch 0 | Loss: 0.2853584587574005 | Accuracy: 98.4375%\n"
          ]
        },
        {
          "output_type": "stream",
          "name": "stderr",
          "text": [
            "Epoch 0:  21%|██▏       | 160/751 [00:06<00:37, 15.92batch/s, accuracy=100.0%, loss=0.00492]"
          ]
        },
        {
          "output_type": "stream",
          "name": "stdout",
          "text": [
            "ERM | Epoch 0 | Loss: 0.018101949244737625 | Accuracy: 100.0%\n",
            "ERM | Epoch 0 | Loss: 0.006086201407015324 | Accuracy: 100.0%\n",
            "ERM | Epoch 0 | Loss: 0.005037019494920969 | Accuracy: 100.0%\n"
          ]
        },
        {
          "output_type": "stream",
          "name": "stderr",
          "text": [
            "Epoch 0:  22%|██▏       | 164/751 [00:06<00:37, 15.49batch/s, accuracy=100.0%, loss=0.00461]"
          ]
        },
        {
          "output_type": "stream",
          "name": "stdout",
          "text": [
            "ERM | Epoch 0 | Loss: 0.004918753169476986 | Accuracy: 100.0%\n",
            "ERM | Epoch 0 | Loss: 0.004886881448328495 | Accuracy: 100.0%\n",
            "ERM | Epoch 0 | Loss: 0.005822699051350355 | Accuracy: 100.0%\n",
            "ERM | Epoch 0 | Loss: 0.004608681425452232 | Accuracy: 100.0%\n"
          ]
        },
        {
          "output_type": "stream",
          "name": "stderr",
          "text": [
            "Epoch 0:  22%|██▏       | 168/751 [00:07<00:35, 16.25batch/s, accuracy=100.0%, loss=0.00668]"
          ]
        },
        {
          "output_type": "stream",
          "name": "stdout",
          "text": [
            "ERM | Epoch 0 | Loss: 0.005207172129303217 | Accuracy: 100.0%\n",
            "ERM | Epoch 0 | Loss: 0.005471002776175737 | Accuracy: 100.0%\n",
            "ERM | Epoch 0 | Loss: 0.0065048751421272755 | Accuracy: 100.0%\n",
            "ERM | Epoch 0 | Loss: 0.006678844336420298 | Accuracy: 100.0%\n"
          ]
        },
        {
          "output_type": "stream",
          "name": "stderr",
          "text": [
            "Epoch 0:  23%|██▎       | 172/751 [00:07<00:35, 16.16batch/s, accuracy=100.0%, loss=0.00416]"
          ]
        },
        {
          "output_type": "stream",
          "name": "stdout",
          "text": [
            "ERM | Epoch 0 | Loss: 0.00577141810208559 | Accuracy: 100.0%\n",
            "ERM | Epoch 0 | Loss: 0.005055448040366173 | Accuracy: 100.0%\n",
            "ERM | Epoch 0 | Loss: 0.004395853262394667 | Accuracy: 100.0%\n",
            "ERM | Epoch 0 | Loss: 0.004163051024079323 | Accuracy: 100.0%\n"
          ]
        },
        {
          "output_type": "stream",
          "name": "stderr",
          "text": [
            "Epoch 0:  23%|██▎       | 176/751 [00:07<00:35, 16.05batch/s, accuracy=98.4375%, loss=0.0932]"
          ]
        },
        {
          "output_type": "stream",
          "name": "stdout",
          "text": [
            "ERM | Epoch 0 | Loss: 0.0032705406192690134 | Accuracy: 100.0%\n",
            "ERM | Epoch 0 | Loss: 0.1155894473195076 | Accuracy: 98.4375%\n",
            "ERM | Epoch 0 | Loss: 0.09322572499513626 | Accuracy: 98.4375%\n"
          ]
        },
        {
          "output_type": "stream",
          "name": "stderr",
          "text": [
            "Epoch 0:  24%|██▍       | 180/751 [00:07<00:35, 16.07batch/s, accuracy=100.0%, loss=0.0066]"
          ]
        },
        {
          "output_type": "stream",
          "name": "stdout",
          "text": [
            "ERM | Epoch 0 | Loss: 0.004099911078810692 | Accuracy: 100.0%\n",
            "ERM | Epoch 0 | Loss: 0.004970387555658817 | Accuracy: 100.0%\n",
            "ERM | Epoch 0 | Loss: 0.007215616758912802 | Accuracy: 100.0%\n",
            "ERM | Epoch 0 | Loss: 0.006598238367587328 | Accuracy: 100.0%\n"
          ]
        },
        {
          "output_type": "stream",
          "name": "stderr",
          "text": [
            "Epoch 0:  24%|██▍       | 182/751 [00:07<00:35, 15.90batch/s, accuracy=100.0%, loss=0.00301]"
          ]
        },
        {
          "output_type": "stream",
          "name": "stdout",
          "text": [
            "ERM | Epoch 0 | Loss: 0.004833746701478958 | Accuracy: 100.0%\n",
            "ERM | Epoch 0 | Loss: 0.003717168467119336 | Accuracy: 100.0%\n",
            "ERM | Epoch 0 | Loss: 0.0030053865630179644 | Accuracy: 100.0%\n"
          ]
        },
        {
          "output_type": "stream",
          "name": "stderr",
          "text": [
            "Epoch 0:  25%|██▌       | 188/751 [00:08<00:28, 19.98batch/s, accuracy=100.0%, loss=0.0066] "
          ]
        },
        {
          "output_type": "stream",
          "name": "stdout",
          "text": [
            "ERM | Epoch 0 | Loss: 0.19005803763866425 | Accuracy: 98.4375%\n",
            "ERM | Epoch 0 | Loss: 0.002916674129664898 | Accuracy: 100.0%\n",
            "ERM | Epoch 0 | Loss: 0.004401764832437038 | Accuracy: 100.0%\n",
            "ERM | Epoch 0 | Loss: 0.3053452968597412 | Accuracy: 96.875%\n",
            "ERM | Epoch 0 | Loss: 0.004518426954746246 | Accuracy: 100.0%\n",
            "ERM | Epoch 0 | Loss: 0.005586698651313782 | Accuracy: 100.0%\n"
          ]
        },
        {
          "output_type": "stream",
          "name": "stderr",
          "text": [
            "Epoch 0:  26%|██▌       | 195/751 [00:08<00:22, 25.00batch/s, accuracy=98.4375%, loss=0.102] "
          ]
        },
        {
          "output_type": "stream",
          "name": "stdout",
          "text": [
            "ERM | Epoch 0 | Loss: 0.006601059343665838 | Accuracy: 100.0%\n",
            "ERM | Epoch 0 | Loss: 0.008947260677814484 | Accuracy: 100.0%\n",
            "ERM | Epoch 0 | Loss: 0.0068126157857477665 | Accuracy: 100.0%\n",
            "ERM | Epoch 0 | Loss: 0.006894990336149931 | Accuracy: 100.0%\n",
            "ERM | Epoch 0 | Loss: 0.13419395685195923 | Accuracy: 98.4375%\n",
            "ERM | Epoch 0 | Loss: 0.06580976396799088 | Accuracy: 98.4375%\n",
            "ERM | Epoch 0 | Loss: 0.10220618546009064 | Accuracy: 98.4375%\n"
          ]
        },
        {
          "output_type": "stream",
          "name": "stderr",
          "text": [
            "Epoch 0:  27%|██▋       | 203/751 [00:08<00:18, 30.37batch/s, accuracy=100.0%, loss=0.00608]"
          ]
        },
        {
          "output_type": "stream",
          "name": "stdout",
          "text": [
            "ERM | Epoch 0 | Loss: 0.010900129564106464 | Accuracy: 100.0%\n",
            "ERM | Epoch 0 | Loss: 0.01135440357029438 | Accuracy: 100.0%\n",
            "ERM | Epoch 0 | Loss: 0.008950748480856419 | Accuracy: 100.0%\n",
            "ERM | Epoch 0 | Loss: 0.0090131014585495 | Accuracy: 100.0%\n",
            "ERM | Epoch 0 | Loss: 0.006149255204945803 | Accuracy: 100.0%\n",
            "ERM | Epoch 0 | Loss: 0.1766769289970398 | Accuracy: 98.4375%\n",
            "ERM | Epoch 0 | Loss: 0.00598754920065403 | Accuracy: 100.0%\n",
            "ERM | Epoch 0 | Loss: 0.006084602791815996 | Accuracy: 100.0%\n"
          ]
        },
        {
          "output_type": "stream",
          "name": "stderr",
          "text": [
            "Epoch 0:  28%|██▊       | 213/751 [00:08<00:13, 39.02batch/s, accuracy=100.0%, loss=0.00605]"
          ]
        },
        {
          "output_type": "stream",
          "name": "stdout",
          "text": [
            "ERM | Epoch 0 | Loss: 0.1672590672969818 | Accuracy: 98.4375%\n",
            "ERM | Epoch 0 | Loss: 0.08225590735673904 | Accuracy: 98.4375%\n",
            "ERM | Epoch 0 | Loss: 0.006574319209903479 | Accuracy: 100.0%\n",
            "ERM | Epoch 0 | Loss: 0.009483875706791878 | Accuracy: 100.0%\n",
            "ERM | Epoch 0 | Loss: 0.010015496052801609 | Accuracy: 100.0%\n",
            "ERM | Epoch 0 | Loss: 0.36393603682518005 | Accuracy: 96.875%\n",
            "ERM | Epoch 0 | Loss: 0.008157117292284966 | Accuracy: 100.0%\n",
            "ERM | Epoch 0 | Loss: 0.008507242426276207 | Accuracy: 100.0%\n",
            "ERM | Epoch 0 | Loss: 0.007452593185007572 | Accuracy: 100.0%\n",
            "ERM | Epoch 0 | Loss: 0.006046632770448923 | Accuracy: 100.0%\n"
          ]
        },
        {
          "output_type": "stream",
          "name": "stderr",
          "text": [
            "Epoch 0:  30%|██▉       | 223/751 [00:09<00:12, 43.67batch/s, accuracy=100.0%, loss=0.00707]"
          ]
        },
        {
          "output_type": "stream",
          "name": "stdout",
          "text": [
            "ERM | Epoch 0 | Loss: 0.13168495893478394 | Accuracy: 98.4375%\n",
            "ERM | Epoch 0 | Loss: 0.007568638771772385 | Accuracy: 100.0%\n",
            "ERM | Epoch 0 | Loss: 0.006341457366943359 | Accuracy: 100.0%\n",
            "ERM | Epoch 0 | Loss: 0.007588818669319153 | Accuracy: 100.0%\n",
            "ERM | Epoch 0 | Loss: 0.00843421183526516 | Accuracy: 100.0%\n",
            "ERM | Epoch 0 | Loss: 0.00677154678851366 | Accuracy: 100.0%\n",
            "ERM | Epoch 0 | Loss: 0.10809716582298279 | Accuracy: 98.4375%\n",
            "ERM | Epoch 0 | Loss: 0.0061140297912061214 | Accuracy: 100.0%\n",
            "ERM | Epoch 0 | Loss: 0.007795719429850578 | Accuracy: 100.0%\n",
            "ERM | Epoch 0 | Loss: 0.007068428210914135 | Accuracy: 100.0%\n"
          ]
        },
        {
          "output_type": "stream",
          "name": "stderr",
          "text": [
            "Epoch 0:  31%|███       | 233/751 [00:09<00:11, 46.03batch/s, accuracy=96.875%, loss=0.418] "
          ]
        },
        {
          "output_type": "stream",
          "name": "stdout",
          "text": [
            "ERM | Epoch 0 | Loss: 0.008845319040119648 | Accuracy: 100.0%\n",
            "ERM | Epoch 0 | Loss: 0.006860315799713135 | Accuracy: 100.0%\n",
            "ERM | Epoch 0 | Loss: 0.005528012756258249 | Accuracy: 100.0%\n",
            "ERM | Epoch 0 | Loss: 0.004727408289909363 | Accuracy: 100.0%\n",
            "ERM | Epoch 0 | Loss: 0.0046169450506567955 | Accuracy: 100.0%\n",
            "ERM | Epoch 0 | Loss: 0.004290015436708927 | Accuracy: 100.0%\n",
            "ERM | Epoch 0 | Loss: 0.003628123551607132 | Accuracy: 100.0%\n",
            "ERM | Epoch 0 | Loss: 0.0035190361086279154 | Accuracy: 100.0%\n",
            "ERM | Epoch 0 | Loss: 0.0032865465618669987 | Accuracy: 100.0%\n",
            "ERM | Epoch 0 | Loss: 0.4177437722682953 | Accuracy: 96.875%\n"
          ]
        },
        {
          "output_type": "stream",
          "name": "stderr",
          "text": [
            "Epoch 0:  32%|███▏      | 243/751 [00:09<00:11, 45.44batch/s, accuracy=98.4375%, loss=0.0786]"
          ]
        },
        {
          "output_type": "stream",
          "name": "stdout",
          "text": [
            "ERM | Epoch 0 | Loss: 0.0037196846678853035 | Accuracy: 100.0%\n",
            "ERM | Epoch 0 | Loss: 0.004232720471918583 | Accuracy: 100.0%\n",
            "ERM | Epoch 0 | Loss: 0.0038793303538113832 | Accuracy: 100.0%\n",
            "ERM | Epoch 0 | Loss: 0.17913517355918884 | Accuracy: 96.875%\n",
            "ERM | Epoch 0 | Loss: 0.0076025137677788734 | Accuracy: 100.0%\n",
            "ERM | Epoch 0 | Loss: 0.31213149428367615 | Accuracy: 96.875%\n",
            "ERM | Epoch 0 | Loss: 0.01108834333717823 | Accuracy: 100.0%\n",
            "ERM | Epoch 0 | Loss: 0.009048722684383392 | Accuracy: 100.0%\n",
            "ERM | Epoch 0 | Loss: 0.00891815684735775 | Accuracy: 100.0%\n",
            "ERM | Epoch 0 | Loss: 0.078572578728199 | Accuracy: 98.4375%\n"
          ]
        },
        {
          "output_type": "stream",
          "name": "stderr",
          "text": [
            "Epoch 0:  34%|███▎      | 253/751 [00:09<00:10, 47.42batch/s, accuracy=100.0%, loss=0.00548]"
          ]
        },
        {
          "output_type": "stream",
          "name": "stdout",
          "text": [
            "ERM | Epoch 0 | Loss: 0.1557982712984085 | Accuracy: 98.4375%\n",
            "ERM | Epoch 0 | Loss: 0.015809006989002228 | Accuracy: 100.0%\n",
            "ERM | Epoch 0 | Loss: 0.012265797704458237 | Accuracy: 100.0%\n",
            "ERM | Epoch 0 | Loss: 0.012401233427226543 | Accuracy: 100.0%\n",
            "ERM | Epoch 0 | Loss: 0.011828850954771042 | Accuracy: 100.0%\n",
            "ERM | Epoch 0 | Loss: 0.008925567381083965 | Accuracy: 100.0%\n",
            "ERM | Epoch 0 | Loss: 0.008092781528830528 | Accuracy: 100.0%\n",
            "ERM | Epoch 0 | Loss: 0.007259493228048086 | Accuracy: 100.0%\n",
            "ERM | Epoch 0 | Loss: 0.007765226066112518 | Accuracy: 100.0%\n",
            "ERM | Epoch 0 | Loss: 0.007162497378885746 | Accuracy: 100.0%\n",
            "ERM | Epoch 0 | Loss: 0.005480710417032242 | Accuracy: 100.0%\n"
          ]
        },
        {
          "output_type": "stream",
          "name": "stderr",
          "text": [
            "Epoch 0:  35%|███▌      | 264/751 [00:09<00:10, 48.40batch/s, accuracy=98.4375%, loss=0.126]"
          ]
        },
        {
          "output_type": "stream",
          "name": "stdout",
          "text": [
            "ERM | Epoch 0 | Loss: 0.006289422977715731 | Accuracy: 100.0%\n",
            "ERM | Epoch 0 | Loss: 0.004942267667502165 | Accuracy: 100.0%\n",
            "ERM | Epoch 0 | Loss: 0.14122655987739563 | Accuracy: 98.4375%\n",
            "ERM | Epoch 0 | Loss: 0.10477085411548615 | Accuracy: 98.4375%\n",
            "ERM | Epoch 0 | Loss: 0.005460565444082022 | Accuracy: 100.0%\n",
            "ERM | Epoch 0 | Loss: 0.21214355528354645 | Accuracy: 98.4375%\n",
            "ERM | Epoch 0 | Loss: 0.007197204511612654 | Accuracy: 100.0%\n",
            "ERM | Epoch 0 | Loss: 0.00794540997594595 | Accuracy: 100.0%\n",
            "ERM | Epoch 0 | Loss: 0.00729679549112916 | Accuracy: 100.0%\n",
            "ERM | Epoch 0 | Loss: 0.12627580761909485 | Accuracy: 98.4375%\n"
          ]
        },
        {
          "output_type": "stream",
          "name": "stderr",
          "text": [
            "Epoch 0:  36%|███▋      | 274/751 [00:10<00:09, 48.65batch/s, accuracy=100.0%, loss=0.00711]"
          ]
        },
        {
          "output_type": "stream",
          "name": "stdout",
          "text": [
            "ERM | Epoch 0 | Loss: 0.009913841262459755 | Accuracy: 100.0%\n",
            "ERM | Epoch 0 | Loss: 0.006525604519993067 | Accuracy: 100.0%\n",
            "ERM | Epoch 0 | Loss: 0.006398474331945181 | Accuracy: 100.0%\n",
            "ERM | Epoch 0 | Loss: 0.3110870122909546 | Accuracy: 96.875%\n",
            "ERM | Epoch 0 | Loss: 0.0056654419749975204 | Accuracy: 100.0%\n",
            "ERM | Epoch 0 | Loss: 0.005683850962668657 | Accuracy: 100.0%\n",
            "ERM | Epoch 0 | Loss: 0.16658303141593933 | Accuracy: 98.4375%\n",
            "ERM | Epoch 0 | Loss: 0.0068109831772744656 | Accuracy: 100.0%\n",
            "ERM | Epoch 0 | Loss: 0.09399769455194473 | Accuracy: 98.4375%\n",
            "ERM | Epoch 0 | Loss: 0.007112502586096525 | Accuracy: 100.0%\n"
          ]
        },
        {
          "output_type": "stream",
          "name": "stderr",
          "text": [
            "Epoch 0:  38%|███▊      | 284/751 [00:10<00:09, 48.10batch/s, accuracy=100.0%, loss=0.0106]"
          ]
        },
        {
          "output_type": "stream",
          "name": "stdout",
          "text": [
            "ERM | Epoch 0 | Loss: 0.007769366260617971 | Accuracy: 100.0%\n",
            "ERM | Epoch 0 | Loss: 0.008662672713398933 | Accuracy: 100.0%\n",
            "ERM | Epoch 0 | Loss: 0.007931535132229328 | Accuracy: 100.0%\n",
            "ERM | Epoch 0 | Loss: 0.10002270340919495 | Accuracy: 98.4375%\n",
            "ERM | Epoch 0 | Loss: 0.007250203751027584 | Accuracy: 100.0%\n",
            "ERM | Epoch 0 | Loss: 0.17727132141590118 | Accuracy: 96.875%\n",
            "ERM | Epoch 0 | Loss: 0.18356136977672577 | Accuracy: 98.4375%\n",
            "ERM | Epoch 0 | Loss: 0.00931386835873127 | Accuracy: 100.0%\n",
            "ERM | Epoch 0 | Loss: 0.010945986956357956 | Accuracy: 100.0%\n"
          ]
        },
        {
          "output_type": "stream",
          "name": "stderr",
          "text": [
            "Epoch 0:  39%|███▉      | 294/751 [00:10<00:09, 46.22batch/s, accuracy=100.0%, loss=0.00656]"
          ]
        },
        {
          "output_type": "stream",
          "name": "stdout",
          "text": [
            "ERM | Epoch 0 | Loss: 0.010637804865837097 | Accuracy: 100.0%\n",
            "ERM | Epoch 0 | Loss: 0.010315236635506153 | Accuracy: 100.0%\n",
            "ERM | Epoch 0 | Loss: 0.009808407165110111 | Accuracy: 100.0%\n",
            "ERM | Epoch 0 | Loss: 0.009530038572847843 | Accuracy: 100.0%\n",
            "ERM | Epoch 0 | Loss: 0.13899244368076324 | Accuracy: 98.4375%\n",
            "ERM | Epoch 0 | Loss: 0.008863366208970547 | Accuracy: 100.0%\n",
            "ERM | Epoch 0 | Loss: 0.007336985319852829 | Accuracy: 100.0%\n",
            "ERM | Epoch 0 | Loss: 0.006719668861478567 | Accuracy: 100.0%\n",
            "ERM | Epoch 0 | Loss: 0.0064961910247802734 | Accuracy: 100.0%\n",
            "ERM | Epoch 0 | Loss: 0.006560460198670626 | Accuracy: 100.0%\n"
          ]
        },
        {
          "output_type": "stream",
          "name": "stderr",
          "text": [
            "Epoch 0:  40%|████      | 304/751 [00:10<00:09, 46.99batch/s, accuracy=100.0%, loss=0.00934]"
          ]
        },
        {
          "output_type": "stream",
          "name": "stdout",
          "text": [
            "ERM | Epoch 0 | Loss: 0.005853656213730574 | Accuracy: 100.0%\n",
            "ERM | Epoch 0 | Loss: 0.006862700916826725 | Accuracy: 100.0%\n",
            "ERM | Epoch 0 | Loss: 0.27492913603782654 | Accuracy: 96.875%\n",
            "ERM | Epoch 0 | Loss: 0.09872335195541382 | Accuracy: 98.4375%\n",
            "ERM | Epoch 0 | Loss: 0.00660954462364316 | Accuracy: 100.0%\n",
            "ERM | Epoch 0 | Loss: 0.18662533164024353 | Accuracy: 98.4375%\n",
            "ERM | Epoch 0 | Loss: 0.11452014744281769 | Accuracy: 98.4375%\n",
            "ERM | Epoch 0 | Loss: 0.008211806416511536 | Accuracy: 100.0%\n",
            "ERM | Epoch 0 | Loss: 0.009351460263133049 | Accuracy: 100.0%\n",
            "ERM | Epoch 0 | Loss: 0.009342995472252369 | Accuracy: 100.0%\n"
          ]
        },
        {
          "output_type": "stream",
          "name": "stderr",
          "text": [
            "Epoch 0:  42%|████▏     | 314/751 [00:10<00:09, 46.77batch/s, accuracy=100.0%, loss=0.00944]"
          ]
        },
        {
          "output_type": "stream",
          "name": "stdout",
          "text": [
            "ERM | Epoch 0 | Loss: 0.16069194674491882 | Accuracy: 98.4375%\n",
            "ERM | Epoch 0 | Loss: 0.00899956189095974 | Accuracy: 100.0%\n",
            "ERM | Epoch 0 | Loss: 0.007883209735155106 | Accuracy: 100.0%\n",
            "ERM | Epoch 0 | Loss: 0.008080197498202324 | Accuracy: 100.0%\n",
            "ERM | Epoch 0 | Loss: 0.17366503179073334 | Accuracy: 96.875%\n",
            "ERM | Epoch 0 | Loss: 0.0948922261595726 | Accuracy: 98.4375%\n",
            "ERM | Epoch 0 | Loss: 0.008431222289800644 | Accuracy: 100.0%\n",
            "ERM | Epoch 0 | Loss: 0.14851413667201996 | Accuracy: 98.4375%\n",
            "ERM | Epoch 0 | Loss: 0.01121506653726101 | Accuracy: 100.0%\n",
            "ERM | Epoch 0 | Loss: 0.009441164322197437 | Accuracy: 100.0%\n"
          ]
        },
        {
          "output_type": "stream",
          "name": "stderr",
          "text": [
            "Epoch 0:  43%|████▎     | 324/751 [00:11<00:09, 47.40batch/s, accuracy=100.0%, loss=0.0107]"
          ]
        },
        {
          "output_type": "stream",
          "name": "stdout",
          "text": [
            "ERM | Epoch 0 | Loss: 0.01108643040060997 | Accuracy: 100.0%\n",
            "ERM | Epoch 0 | Loss: 0.12455299496650696 | Accuracy: 98.4375%\n",
            "ERM | Epoch 0 | Loss: 0.012115239165723324 | Accuracy: 100.0%\n",
            "ERM | Epoch 0 | Loss: 0.009926351718604565 | Accuracy: 100.0%\n",
            "ERM | Epoch 0 | Loss: 0.009327050298452377 | Accuracy: 100.0%\n",
            "ERM | Epoch 0 | Loss: 0.25413984060287476 | Accuracy: 96.875%\n",
            "ERM | Epoch 0 | Loss: 0.01167694665491581 | Accuracy: 100.0%\n",
            "ERM | Epoch 0 | Loss: 0.00982231181114912 | Accuracy: 100.0%\n",
            "ERM | Epoch 0 | Loss: 0.009910734370350838 | Accuracy: 100.0%\n",
            "ERM | Epoch 0 | Loss: 0.010714035481214523 | Accuracy: 100.0%\n"
          ]
        },
        {
          "output_type": "stream",
          "name": "stderr",
          "text": [
            "Epoch 0:  44%|████▍     | 329/751 [00:11<00:09, 46.54batch/s, accuracy=100.0%, loss=0.00635]"
          ]
        },
        {
          "output_type": "stream",
          "name": "stdout",
          "text": [
            "ERM | Epoch 0 | Loss: 0.10567338019609451 | Accuracy: 98.4375%\n",
            "ERM | Epoch 0 | Loss: 0.010436196811497211 | Accuracy: 100.0%\n",
            "ERM | Epoch 0 | Loss: 0.01106932107359171 | Accuracy: 100.0%\n",
            "ERM | Epoch 0 | Loss: 0.1744609922170639 | Accuracy: 98.4375%\n",
            "ERM | Epoch 0 | Loss: 0.008846225216984749 | Accuracy: 100.0%\n",
            "ERM | Epoch 0 | Loss: 0.007421053946018219 | Accuracy: 100.0%\n",
            "ERM | Epoch 0 | Loss: 0.00916228350251913 | Accuracy: 100.0%\n",
            "ERM | Epoch 0 | Loss: 0.006420664023607969 | Accuracy: 100.0%\n",
            "ERM | Epoch 0 | Loss: 0.0063530560582876205 | Accuracy: 100.0%\n"
          ]
        },
        {
          "output_type": "stream",
          "name": "stderr",
          "text": [
            "Epoch 0:  45%|████▌     | 339/751 [00:11<00:09, 45.32batch/s, accuracy=100.0%, loss=0.00405]"
          ]
        },
        {
          "output_type": "stream",
          "name": "stdout",
          "text": [
            "ERM | Epoch 0 | Loss: 0.11406303942203522 | Accuracy: 98.4375%\n",
            "ERM | Epoch 0 | Loss: 0.10492810606956482 | Accuracy: 98.4375%\n",
            "ERM | Epoch 0 | Loss: 0.005261420737951994 | Accuracy: 100.0%\n",
            "ERM | Epoch 0 | Loss: 0.0049843862652778625 | Accuracy: 100.0%\n",
            "ERM | Epoch 0 | Loss: 0.005039903800934553 | Accuracy: 100.0%\n",
            "ERM | Epoch 0 | Loss: 0.005784573033452034 | Accuracy: 100.0%\n",
            "ERM | Epoch 0 | Loss: 0.00523070152848959 | Accuracy: 100.0%\n",
            "ERM | Epoch 0 | Loss: 0.004160458687692881 | Accuracy: 100.0%\n",
            "ERM | Epoch 0 | Loss: 0.004380231723189354 | Accuracy: 100.0%\n",
            "ERM | Epoch 0 | Loss: 0.004049687646329403 | Accuracy: 100.0%\n"
          ]
        },
        {
          "output_type": "stream",
          "name": "stderr",
          "text": [
            "Epoch 0:  46%|████▋     | 349/751 [00:11<00:08, 46.45batch/s, accuracy=98.4375%, loss=0.105]"
          ]
        },
        {
          "output_type": "stream",
          "name": "stdout",
          "text": [
            "ERM | Epoch 0 | Loss: 0.004061519633978605 | Accuracy: 100.0%\n",
            "ERM | Epoch 0 | Loss: 0.0035112507175654173 | Accuracy: 100.0%\n",
            "ERM | Epoch 0 | Loss: 0.0034946573432534933 | Accuracy: 100.0%\n",
            "ERM | Epoch 0 | Loss: 0.1326245367527008 | Accuracy: 98.4375%\n",
            "ERM | Epoch 0 | Loss: 0.0027459263801574707 | Accuracy: 100.0%\n",
            "ERM | Epoch 0 | Loss: 0.13148930668830872 | Accuracy: 98.4375%\n",
            "ERM | Epoch 0 | Loss: 0.003239682409912348 | Accuracy: 100.0%\n",
            "ERM | Epoch 0 | Loss: 0.0034900447353720665 | Accuracy: 100.0%\n",
            "ERM | Epoch 0 | Loss: 0.003137343330308795 | Accuracy: 100.0%\n",
            "ERM | Epoch 0 | Loss: 0.1052589938044548 | Accuracy: 98.4375%\n"
          ]
        },
        {
          "output_type": "stream",
          "name": "stderr",
          "text": [
            "Epoch 0:  48%|████▊     | 359/751 [00:12<00:08, 47.36batch/s, accuracy=100.0%, loss=0.00651]"
          ]
        },
        {
          "output_type": "stream",
          "name": "stdout",
          "text": [
            "ERM | Epoch 0 | Loss: 0.0037298400420695543 | Accuracy: 100.0%\n",
            "ERM | Epoch 0 | Loss: 0.1169477254152298 | Accuracy: 98.4375%\n",
            "ERM | Epoch 0 | Loss: 0.004909143783152103 | Accuracy: 100.0%\n",
            "ERM | Epoch 0 | Loss: 0.005167639348655939 | Accuracy: 100.0%\n",
            "ERM | Epoch 0 | Loss: 0.005506579764187336 | Accuracy: 100.0%\n",
            "ERM | Epoch 0 | Loss: 0.0067197647877037525 | Accuracy: 100.0%\n",
            "ERM | Epoch 0 | Loss: 0.29944121837615967 | Accuracy: 96.875%\n",
            "ERM | Epoch 0 | Loss: 0.13038115203380585 | Accuracy: 98.4375%\n",
            "ERM | Epoch 0 | Loss: 0.006470276042819023 | Accuracy: 100.0%\n",
            "ERM | Epoch 0 | Loss: 0.006514099892228842 | Accuracy: 100.0%\n"
          ]
        },
        {
          "output_type": "stream",
          "name": "stderr",
          "text": [
            "Epoch 0:  49%|████▉     | 369/751 [00:12<00:08, 47.25batch/s, accuracy=100.0%, loss=0.0125]"
          ]
        },
        {
          "output_type": "stream",
          "name": "stdout",
          "text": [
            "ERM | Epoch 0 | Loss: 0.00736741628497839 | Accuracy: 100.0%\n",
            "ERM | Epoch 0 | Loss: 0.006828957237303257 | Accuracy: 100.0%\n",
            "ERM | Epoch 0 | Loss: 0.007290801499038935 | Accuracy: 100.0%\n",
            "ERM | Epoch 0 | Loss: 0.12085569649934769 | Accuracy: 98.4375%\n",
            "ERM | Epoch 0 | Loss: 0.2270183563232422 | Accuracy: 98.4375%\n",
            "ERM | Epoch 0 | Loss: 0.1073029562830925 | Accuracy: 98.4375%\n",
            "ERM | Epoch 0 | Loss: 0.007344771176576614 | Accuracy: 100.0%\n",
            "ERM | Epoch 0 | Loss: 0.20721423625946045 | Accuracy: 98.4375%\n",
            "ERM | Epoch 0 | Loss: 0.011229606345295906 | Accuracy: 100.0%\n",
            "ERM | Epoch 0 | Loss: 0.012495974078774452 | Accuracy: 100.0%\n"
          ]
        },
        {
          "output_type": "stream",
          "name": "stderr",
          "text": [
            "Epoch 0:  50%|█████     | 379/751 [00:12<00:07, 47.17batch/s, accuracy=100.0%, loss=0.011] "
          ]
        },
        {
          "output_type": "stream",
          "name": "stdout",
          "text": [
            "ERM | Epoch 0 | Loss: 0.010862676426768303 | Accuracy: 100.0%\n",
            "ERM | Epoch 0 | Loss: 0.1602879911661148 | Accuracy: 98.4375%\n",
            "ERM | Epoch 0 | Loss: 0.11853185296058655 | Accuracy: 98.4375%\n",
            "ERM | Epoch 0 | Loss: 0.009858617559075356 | Accuracy: 100.0%\n",
            "ERM | Epoch 0 | Loss: 0.010255460627377033 | Accuracy: 100.0%\n",
            "ERM | Epoch 0 | Loss: 0.009928915649652481 | Accuracy: 100.0%\n",
            "ERM | Epoch 0 | Loss: 0.009997994638979435 | Accuracy: 100.0%\n",
            "ERM | Epoch 0 | Loss: 0.1003001257777214 | Accuracy: 98.4375%\n",
            "ERM | Epoch 0 | Loss: 0.17679214477539062 | Accuracy: 96.875%\n",
            "ERM | Epoch 0 | Loss: 0.010971042327582836 | Accuracy: 100.0%\n"
          ]
        },
        {
          "output_type": "stream",
          "name": "stderr",
          "text": [
            "Epoch 0:  52%|█████▏    | 389/751 [00:12<00:07, 46.49batch/s, accuracy=100.0%, loss=0.00788]"
          ]
        },
        {
          "output_type": "stream",
          "name": "stdout",
          "text": [
            "ERM | Epoch 0 | Loss: 0.010600085370242596 | Accuracy: 100.0%\n",
            "ERM | Epoch 0 | Loss: 0.010134121403098106 | Accuracy: 100.0%\n",
            "ERM | Epoch 0 | Loss: 0.116328164935112 | Accuracy: 98.4375%\n",
            "ERM | Epoch 0 | Loss: 0.10651259869337082 | Accuracy: 98.4375%\n",
            "ERM | Epoch 0 | Loss: 0.011789648793637753 | Accuracy: 100.0%\n",
            "ERM | Epoch 0 | Loss: 0.010729520581662655 | Accuracy: 100.0%\n",
            "ERM | Epoch 0 | Loss: 0.010750953108072281 | Accuracy: 100.0%\n",
            "ERM | Epoch 0 | Loss: 0.009644100442528725 | Accuracy: 100.0%\n",
            "ERM | Epoch 0 | Loss: 0.00849132053554058 | Accuracy: 100.0%\n",
            "ERM | Epoch 0 | Loss: 0.007879437878727913 | Accuracy: 100.0%\n"
          ]
        },
        {
          "output_type": "stream",
          "name": "stderr",
          "text": [
            "Epoch 0:  53%|█████▎    | 399/751 [00:12<00:07, 47.20batch/s, accuracy=100.0%, loss=0.00888]"
          ]
        },
        {
          "output_type": "stream",
          "name": "stdout",
          "text": [
            "ERM | Epoch 0 | Loss: 0.007753326091915369 | Accuracy: 100.0%\n",
            "ERM | Epoch 0 | Loss: 0.10796547681093216 | Accuracy: 98.4375%\n",
            "ERM | Epoch 0 | Loss: 0.22622738778591156 | Accuracy: 96.875%\n",
            "ERM | Epoch 0 | Loss: 0.009660565294325352 | Accuracy: 100.0%\n",
            "ERM | Epoch 0 | Loss: 0.09507392346858978 | Accuracy: 98.4375%\n",
            "ERM | Epoch 0 | Loss: 0.012043330818414688 | Accuracy: 100.0%\n",
            "ERM | Epoch 0 | Loss: 0.010207434184849262 | Accuracy: 100.0%\n",
            "ERM | Epoch 0 | Loss: 0.00938628800213337 | Accuracy: 100.0%\n",
            "ERM | Epoch 0 | Loss: 0.0071327113546431065 | Accuracy: 100.0%\n",
            "ERM | Epoch 0 | Loss: 0.008880207315087318 | Accuracy: 100.0%\n"
          ]
        },
        {
          "output_type": "stream",
          "name": "stderr",
          "text": [
            "Epoch 0:  54%|█████▍    | 409/751 [00:13<00:07, 47.37batch/s, accuracy=100.0%, loss=0.00418]"
          ]
        },
        {
          "output_type": "stream",
          "name": "stdout",
          "text": [
            "ERM | Epoch 0 | Loss: 0.0065457262098789215 | Accuracy: 100.0%\n",
            "ERM | Epoch 0 | Loss: 0.005505230277776718 | Accuracy: 100.0%\n",
            "ERM | Epoch 0 | Loss: 0.005330190993845463 | Accuracy: 100.0%\n",
            "ERM | Epoch 0 | Loss: 0.004703332670032978 | Accuracy: 100.0%\n",
            "ERM | Epoch 0 | Loss: 0.17135092616081238 | Accuracy: 98.4375%\n",
            "ERM | Epoch 0 | Loss: 0.10041595995426178 | Accuracy: 98.4375%\n",
            "ERM | Epoch 0 | Loss: 0.0044098179787397385 | Accuracy: 100.0%\n",
            "ERM | Epoch 0 | Loss: 0.004499101545661688 | Accuracy: 100.0%\n",
            "ERM | Epoch 0 | Loss: 0.0038437959738075733 | Accuracy: 100.0%\n",
            "ERM | Epoch 0 | Loss: 0.004182188771665096 | Accuracy: 100.0%\n"
          ]
        },
        {
          "output_type": "stream",
          "name": "stderr",
          "text": [
            "Epoch 0:  56%|█████▌    | 420/751 [00:13<00:06, 48.69batch/s, accuracy=98.4375%, loss=0.153]"
          ]
        },
        {
          "output_type": "stream",
          "name": "stdout",
          "text": [
            "ERM | Epoch 0 | Loss: 0.004647395107895136 | Accuracy: 100.0%\n",
            "ERM | Epoch 0 | Loss: 0.004694430623203516 | Accuracy: 100.0%\n",
            "ERM | Epoch 0 | Loss: 0.003627746133133769 | Accuracy: 100.0%\n",
            "ERM | Epoch 0 | Loss: 0.11353294551372528 | Accuracy: 98.4375%\n",
            "ERM | Epoch 0 | Loss: 0.1624600887298584 | Accuracy: 98.4375%\n",
            "ERM | Epoch 0 | Loss: 0.0043169185519218445 | Accuracy: 100.0%\n",
            "ERM | Epoch 0 | Loss: 0.11108577996492386 | Accuracy: 98.4375%\n",
            "ERM | Epoch 0 | Loss: 0.1387835443019867 | Accuracy: 98.4375%\n",
            "ERM | Epoch 0 | Loss: 0.0043870084919035435 | Accuracy: 100.0%\n",
            "ERM | Epoch 0 | Loss: 0.15342652797698975 | Accuracy: 98.4375%\n"
          ]
        },
        {
          "output_type": "stream",
          "name": "stderr",
          "text": [
            "Epoch 0:  57%|█████▋    | 430/751 [00:13<00:06, 48.23batch/s, accuracy=98.4375%, loss=0.158]"
          ]
        },
        {
          "output_type": "stream",
          "name": "stdout",
          "text": [
            "ERM | Epoch 0 | Loss: 0.0062777092680335045 | Accuracy: 100.0%\n",
            "ERM | Epoch 0 | Loss: 0.008458961732685566 | Accuracy: 100.0%\n",
            "ERM | Epoch 0 | Loss: 0.009491664357483387 | Accuracy: 100.0%\n",
            "ERM | Epoch 0 | Loss: 0.10913490504026413 | Accuracy: 98.4375%\n",
            "ERM | Epoch 0 | Loss: 0.010755665600299835 | Accuracy: 100.0%\n",
            "ERM | Epoch 0 | Loss: 0.009253841824829578 | Accuracy: 100.0%\n",
            "ERM | Epoch 0 | Loss: 0.009057927876710892 | Accuracy: 100.0%\n",
            "ERM | Epoch 0 | Loss: 0.15475879609584808 | Accuracy: 98.4375%\n",
            "ERM | Epoch 0 | Loss: 0.00883123092353344 | Accuracy: 100.0%\n",
            "ERM | Epoch 0 | Loss: 0.15802545845508575 | Accuracy: 98.4375%\n"
          ]
        },
        {
          "output_type": "stream",
          "name": "stderr",
          "text": [
            "Epoch 0:  59%|█████▊    | 440/751 [00:13<00:06, 46.25batch/s, accuracy=100.0%, loss=0.00679]"
          ]
        },
        {
          "output_type": "stream",
          "name": "stdout",
          "text": [
            "ERM | Epoch 0 | Loss: 0.00623414246365428 | Accuracy: 100.0%\n",
            "ERM | Epoch 0 | Loss: 0.008480858989059925 | Accuracy: 100.0%\n",
            "ERM | Epoch 0 | Loss: 0.007211470976471901 | Accuracy: 100.0%\n",
            "ERM | Epoch 0 | Loss: 0.007616034708917141 | Accuracy: 100.0%\n",
            "ERM | Epoch 0 | Loss: 0.007260901853442192 | Accuracy: 100.0%\n",
            "ERM | Epoch 0 | Loss: 0.006467358209192753 | Accuracy: 100.0%\n",
            "ERM | Epoch 0 | Loss: 0.0787910670042038 | Accuracy: 98.4375%\n",
            "ERM | Epoch 0 | Loss: 0.008670047856867313 | Accuracy: 100.0%\n",
            "ERM | Epoch 0 | Loss: 0.0067908247001469135 | Accuracy: 100.0%\n"
          ]
        },
        {
          "output_type": "stream",
          "name": "stderr",
          "text": [
            "Epoch 0:  59%|█████▉    | 445/751 [00:13<00:07, 41.94batch/s, accuracy=100.0%, loss=0.00417]"
          ]
        },
        {
          "output_type": "stream",
          "name": "stdout",
          "text": [
            "ERM | Epoch 0 | Loss: 0.008524835109710693 | Accuracy: 100.0%\n",
            "ERM | Epoch 0 | Loss: 0.006809289567172527 | Accuracy: 100.0%\n",
            "ERM | Epoch 0 | Loss: 0.0067700594663619995 | Accuracy: 100.0%\n",
            "ERM | Epoch 0 | Loss: 0.00444105314090848 | Accuracy: 100.0%\n",
            "ERM | Epoch 0 | Loss: 0.13160434365272522 | Accuracy: 98.4375%\n",
            "ERM | Epoch 0 | Loss: 0.0044320416636765 | Accuracy: 100.0%\n",
            "ERM | Epoch 0 | Loss: 0.004167746286839247 | Accuracy: 100.0%\n"
          ]
        },
        {
          "output_type": "stream",
          "name": "stderr",
          "text": [
            "Epoch 0:  60%|██████    | 454/751 [00:14<00:08, 36.61batch/s, accuracy=100.0%, loss=0.00587]"
          ]
        },
        {
          "output_type": "stream",
          "name": "stdout",
          "text": [
            "ERM | Epoch 0 | Loss: 0.003912623971700668 | Accuracy: 100.0%\n",
            "ERM | Epoch 0 | Loss: 0.2696341574192047 | Accuracy: 96.875%\n",
            "ERM | Epoch 0 | Loss: 0.004122369457036257 | Accuracy: 100.0%\n",
            "ERM | Epoch 0 | Loss: 0.004809817299246788 | Accuracy: 100.0%\n",
            "ERM | Epoch 0 | Loss: 0.16012762486934662 | Accuracy: 98.4375%\n",
            "ERM | Epoch 0 | Loss: 0.0059864334762096405 | Accuracy: 100.0%\n",
            "ERM | Epoch 0 | Loss: 0.004460674244910479 | Accuracy: 100.0%\n",
            "ERM | Epoch 0 | Loss: 0.005868059583008289 | Accuracy: 100.0%\n"
          ]
        },
        {
          "output_type": "stream",
          "name": "stderr",
          "text": [
            "Epoch 0:  62%|██████▏   | 464/751 [00:14<00:07, 40.55batch/s, accuracy=100.0%, loss=0.0041] "
          ]
        },
        {
          "output_type": "stream",
          "name": "stdout",
          "text": [
            "ERM | Epoch 0 | Loss: 0.006370329298079014 | Accuracy: 100.0%\n",
            "ERM | Epoch 0 | Loss: 0.005062539130449295 | Accuracy: 100.0%\n",
            "ERM | Epoch 0 | Loss: 0.004642851185053587 | Accuracy: 100.0%\n",
            "ERM | Epoch 0 | Loss: 0.0052221426740288734 | Accuracy: 100.0%\n",
            "ERM | Epoch 0 | Loss: 0.003859736258164048 | Accuracy: 100.0%\n",
            "ERM | Epoch 0 | Loss: 0.0035434092860668898 | Accuracy: 100.0%\n",
            "ERM | Epoch 0 | Loss: 0.003211552044376731 | Accuracy: 100.0%\n",
            "ERM | Epoch 0 | Loss: 0.1752149760723114 | Accuracy: 98.4375%\n",
            "ERM | Epoch 0 | Loss: 0.004097584169358015 | Accuracy: 100.0%\n"
          ]
        },
        {
          "output_type": "stream",
          "name": "stderr",
          "text": [
            "Epoch 0:  63%|██████▎   | 474/751 [00:14<00:06, 40.99batch/s, accuracy=100.0%, loss=0.0089] "
          ]
        },
        {
          "output_type": "stream",
          "name": "stdout",
          "text": [
            "ERM | Epoch 0 | Loss: 0.0033753032330423594 | Accuracy: 100.0%\n",
            "ERM | Epoch 0 | Loss: 0.004025634843856096 | Accuracy: 100.0%\n",
            "ERM | Epoch 0 | Loss: 0.0035557544324547052 | Accuracy: 100.0%\n",
            "ERM | Epoch 0 | Loss: 0.12339118868112564 | Accuracy: 98.4375%\n",
            "ERM | Epoch 0 | Loss: 0.004082634113729 | Accuracy: 100.0%\n",
            "ERM | Epoch 0 | Loss: 0.25741884112358093 | Accuracy: 96.875%\n",
            "ERM | Epoch 0 | Loss: 0.004771033767610788 | Accuracy: 100.0%\n",
            "ERM | Epoch 0 | Loss: 0.3616904318332672 | Accuracy: 95.3125%\n",
            "ERM | Epoch 0 | Loss: 0.008895130828022957 | Accuracy: 100.0%\n"
          ]
        },
        {
          "output_type": "stream",
          "name": "stderr",
          "text": [
            "Epoch 0:  64%|██████▍   | 484/751 [00:14<00:06, 43.78batch/s, accuracy=98.4375%, loss=0.13]"
          ]
        },
        {
          "output_type": "stream",
          "name": "stdout",
          "text": [
            "ERM | Epoch 0 | Loss: 0.007181257475167513 | Accuracy: 100.0%\n",
            "ERM | Epoch 0 | Loss: 0.015450716018676758 | Accuracy: 100.0%\n",
            "ERM | Epoch 0 | Loss: 0.012623295187950134 | Accuracy: 100.0%\n",
            "ERM | Epoch 0 | Loss: 0.012649022042751312 | Accuracy: 100.0%\n",
            "ERM | Epoch 0 | Loss: 0.10457170754671097 | Accuracy: 98.4375%\n",
            "ERM | Epoch 0 | Loss: 0.009588348679244518 | Accuracy: 100.0%\n",
            "ERM | Epoch 0 | Loss: 0.08789647370576859 | Accuracy: 98.4375%\n",
            "ERM | Epoch 0 | Loss: 0.12514658272266388 | Accuracy: 98.4375%\n",
            "ERM | Epoch 0 | Loss: 0.011754026636481285 | Accuracy: 100.0%\n",
            "ERM | Epoch 0 | Loss: 0.12952691316604614 | Accuracy: 98.4375%\n"
          ]
        },
        {
          "output_type": "stream",
          "name": "stderr",
          "text": [
            "Epoch 0:  66%|██████▌   | 494/751 [00:14<00:05, 45.68batch/s, accuracy=100.0%, loss=0.00967]"
          ]
        },
        {
          "output_type": "stream",
          "name": "stdout",
          "text": [
            "ERM | Epoch 0 | Loss: 0.10011837631464005 | Accuracy: 98.4375%\n",
            "ERM | Epoch 0 | Loss: 0.015691176056861877 | Accuracy: 100.0%\n",
            "ERM | Epoch 0 | Loss: 0.0987534299492836 | Accuracy: 98.4375%\n",
            "ERM | Epoch 0 | Loss: 0.11002332717180252 | Accuracy: 98.4375%\n",
            "ERM | Epoch 0 | Loss: 0.010739445686340332 | Accuracy: 100.0%\n",
            "ERM | Epoch 0 | Loss: 0.01191642228513956 | Accuracy: 100.0%\n",
            "ERM | Epoch 0 | Loss: 0.012604865245521069 | Accuracy: 100.0%\n",
            "ERM | Epoch 0 | Loss: 0.010859165340662003 | Accuracy: 100.0%\n",
            "ERM | Epoch 0 | Loss: 0.10220976173877716 | Accuracy: 98.4375%\n",
            "ERM | Epoch 0 | Loss: 0.009666617959737778 | Accuracy: 100.0%\n"
          ]
        },
        {
          "output_type": "stream",
          "name": "stderr",
          "text": [
            "Epoch 0:  67%|██████▋   | 504/751 [00:15<00:05, 45.77batch/s, accuracy=100.0%, loss=0.00852] "
          ]
        },
        {
          "output_type": "stream",
          "name": "stdout",
          "text": [
            "ERM | Epoch 0 | Loss: 0.012243791483342648 | Accuracy: 100.0%\n",
            "ERM | Epoch 0 | Loss: 0.10135670751333237 | Accuracy: 98.4375%\n",
            "ERM | Epoch 0 | Loss: 0.00952113140374422 | Accuracy: 100.0%\n",
            "ERM | Epoch 0 | Loss: 0.010004307143390179 | Accuracy: 100.0%\n",
            "ERM | Epoch 0 | Loss: 0.009020743891596794 | Accuracy: 100.0%\n",
            "ERM | Epoch 0 | Loss: 0.14100216329097748 | Accuracy: 98.4375%\n",
            "ERM | Epoch 0 | Loss: 0.007929242216050625 | Accuracy: 100.0%\n",
            "ERM | Epoch 0 | Loss: 0.008433079347014427 | Accuracy: 100.0%\n",
            "ERM | Epoch 0 | Loss: 0.08892745524644852 | Accuracy: 98.4375%\n",
            "ERM | Epoch 0 | Loss: 0.008517788723111153 | Accuracy: 100.0%\n"
          ]
        },
        {
          "output_type": "stream",
          "name": "stderr",
          "text": [
            "Epoch 0:  68%|██████▊   | 514/751 [00:15<00:05, 46.48batch/s, accuracy=100.0%, loss=0.00344]"
          ]
        },
        {
          "output_type": "stream",
          "name": "stdout",
          "text": [
            "ERM | Epoch 0 | Loss: 0.008670704439282417 | Accuracy: 100.0%\n",
            "ERM | Epoch 0 | Loss: 0.00763408187776804 | Accuracy: 100.0%\n",
            "ERM | Epoch 0 | Loss: 0.005099426954984665 | Accuracy: 100.0%\n",
            "ERM | Epoch 0 | Loss: 0.006375875324010849 | Accuracy: 100.0%\n",
            "ERM | Epoch 0 | Loss: 0.1364748775959015 | Accuracy: 98.4375%\n",
            "ERM | Epoch 0 | Loss: 0.005489767529070377 | Accuracy: 100.0%\n",
            "ERM | Epoch 0 | Loss: 0.0051742796786129475 | Accuracy: 100.0%\n",
            "ERM | Epoch 0 | Loss: 0.004707515239715576 | Accuracy: 100.0%\n",
            "ERM | Epoch 0 | Loss: 0.003415286773815751 | Accuracy: 100.0%\n",
            "ERM | Epoch 0 | Loss: 0.0034443773329257965 | Accuracy: 100.0%\n"
          ]
        },
        {
          "output_type": "stream",
          "name": "stderr",
          "text": [
            "Epoch 0:  70%|██████▉   | 524/751 [00:15<00:05, 44.99batch/s, accuracy=100.0%, loss=0.00241]"
          ]
        },
        {
          "output_type": "stream",
          "name": "stdout",
          "text": [
            "ERM | Epoch 0 | Loss: 0.003796465927734971 | Accuracy: 100.0%\n",
            "ERM | Epoch 0 | Loss: 0.003444191999733448 | Accuracy: 100.0%\n",
            "ERM | Epoch 0 | Loss: 0.1292603760957718 | Accuracy: 98.4375%\n",
            "ERM | Epoch 0 | Loss: 0.0032567332964390516 | Accuracy: 100.0%\n",
            "ERM | Epoch 0 | Loss: 0.002777841640636325 | Accuracy: 100.0%\n",
            "ERM | Epoch 0 | Loss: 0.0031528843101114035 | Accuracy: 100.0%\n",
            "ERM | Epoch 0 | Loss: 0.002176026813685894 | Accuracy: 100.0%\n",
            "ERM | Epoch 0 | Loss: 0.0027074168901890516 | Accuracy: 100.0%\n",
            "ERM | Epoch 0 | Loss: 0.002410349203273654 | Accuracy: 100.0%\n"
          ]
        },
        {
          "output_type": "stream",
          "name": "stderr",
          "text": [
            "Epoch 0:  71%|███████   | 534/751 [00:15<00:04, 46.08batch/s, accuracy=100.0%, loss=0.00456]"
          ]
        },
        {
          "output_type": "stream",
          "name": "stdout",
          "text": [
            "ERM | Epoch 0 | Loss: 0.002481840318068862 | Accuracy: 100.0%\n",
            "ERM | Epoch 0 | Loss: 0.0022862530313432217 | Accuracy: 100.0%\n",
            "ERM | Epoch 0 | Loss: 0.23234379291534424 | Accuracy: 96.875%\n",
            "ERM | Epoch 0 | Loss: 0.002519872272387147 | Accuracy: 100.0%\n",
            "ERM | Epoch 0 | Loss: 0.11776256561279297 | Accuracy: 98.4375%\n",
            "ERM | Epoch 0 | Loss: 0.0033982954919338226 | Accuracy: 100.0%\n",
            "ERM | Epoch 0 | Loss: 0.004581619519740343 | Accuracy: 100.0%\n",
            "ERM | Epoch 0 | Loss: 0.003871951485052705 | Accuracy: 100.0%\n",
            "ERM | Epoch 0 | Loss: 0.005193154327571392 | Accuracy: 100.0%\n",
            "ERM | Epoch 0 | Loss: 0.004557101521641016 | Accuracy: 100.0%\n"
          ]
        },
        {
          "output_type": "stream",
          "name": "stderr",
          "text": [
            "Epoch 0:  72%|███████▏  | 544/751 [00:16<00:04, 46.88batch/s, accuracy=98.4375%, loss=0.169]"
          ]
        },
        {
          "output_type": "stream",
          "name": "stdout",
          "text": [
            "ERM | Epoch 0 | Loss: 0.004414454568177462 | Accuracy: 100.0%\n",
            "ERM | Epoch 0 | Loss: 0.00420543784275651 | Accuracy: 100.0%\n",
            "ERM | Epoch 0 | Loss: 0.003338688751682639 | Accuracy: 100.0%\n",
            "ERM | Epoch 0 | Loss: 0.0038842358626425266 | Accuracy: 100.0%\n",
            "ERM | Epoch 0 | Loss: 0.13033056259155273 | Accuracy: 98.4375%\n",
            "ERM | Epoch 0 | Loss: 0.17132775485515594 | Accuracy: 98.4375%\n",
            "ERM | Epoch 0 | Loss: 0.00406407006084919 | Accuracy: 100.0%\n",
            "ERM | Epoch 0 | Loss: 0.004273639060556889 | Accuracy: 100.0%\n",
            "ERM | Epoch 0 | Loss: 0.0043494319543242455 | Accuracy: 100.0%\n",
            "ERM | Epoch 0 | Loss: 0.16910265386104584 | Accuracy: 98.4375%\n"
          ]
        },
        {
          "output_type": "stream",
          "name": "stderr",
          "text": [
            "Epoch 0:  74%|███████▍  | 554/751 [00:16<00:04, 46.14batch/s, accuracy=100.0%, loss=0.00448]"
          ]
        },
        {
          "output_type": "stream",
          "name": "stdout",
          "text": [
            "ERM | Epoch 0 | Loss: 0.0043235537596046925 | Accuracy: 100.0%\n",
            "ERM | Epoch 0 | Loss: 0.005762564949691296 | Accuracy: 100.0%\n",
            "ERM | Epoch 0 | Loss: 0.004798633977770805 | Accuracy: 100.0%\n",
            "ERM | Epoch 0 | Loss: 0.13114020228385925 | Accuracy: 98.4375%\n",
            "ERM | Epoch 0 | Loss: 0.005127597600221634 | Accuracy: 100.0%\n",
            "ERM | Epoch 0 | Loss: 0.09789876639842987 | Accuracy: 98.4375%\n",
            "ERM | Epoch 0 | Loss: 0.00441594747826457 | Accuracy: 100.0%\n",
            "ERM | Epoch 0 | Loss: 0.00406294409185648 | Accuracy: 100.0%\n",
            "ERM | Epoch 0 | Loss: 0.1211891919374466 | Accuracy: 98.4375%\n",
            "ERM | Epoch 0 | Loss: 0.004479552619159222 | Accuracy: 100.0%\n"
          ]
        },
        {
          "output_type": "stream",
          "name": "stderr",
          "text": [
            "Epoch 0:  75%|███████▌  | 564/751 [00:16<00:03, 46.76batch/s, accuracy=96.875%, loss=0.245]"
          ]
        },
        {
          "output_type": "stream",
          "name": "stdout",
          "text": [
            "ERM | Epoch 0 | Loss: 0.10855863243341446 | Accuracy: 98.4375%\n",
            "ERM | Epoch 0 | Loss: 0.12742459774017334 | Accuracy: 98.4375%\n",
            "ERM | Epoch 0 | Loss: 0.12082863599061966 | Accuracy: 98.4375%\n",
            "ERM | Epoch 0 | Loss: 0.01002982072532177 | Accuracy: 100.0%\n",
            "ERM | Epoch 0 | Loss: 0.1879313439130783 | Accuracy: 96.875%\n",
            "ERM | Epoch 0 | Loss: 0.00995754823088646 | Accuracy: 100.0%\n",
            "ERM | Epoch 0 | Loss: 0.011040025390684605 | Accuracy: 100.0%\n",
            "ERM | Epoch 0 | Loss: 0.014754464849829674 | Accuracy: 100.0%\n",
            "ERM | Epoch 0 | Loss: 0.09647757560014725 | Accuracy: 98.4375%\n",
            "ERM | Epoch 0 | Loss: 0.2447979897260666 | Accuracy: 96.875%\n"
          ]
        },
        {
          "output_type": "stream",
          "name": "stderr",
          "text": [
            "Epoch 0:  76%|███████▌  | 569/751 [00:16<00:03, 45.67batch/s, accuracy=100.0%, loss=0.019]  "
          ]
        },
        {
          "output_type": "stream",
          "name": "stdout",
          "text": [
            "ERM | Epoch 0 | Loss: 0.015184218063950539 | Accuracy: 100.0%\n",
            "ERM | Epoch 0 | Loss: 0.15927225351333618 | Accuracy: 98.4375%\n",
            "ERM | Epoch 0 | Loss: 0.1549787074327469 | Accuracy: 98.4375%\n",
            "ERM | Epoch 0 | Loss: 0.015135384164750576 | Accuracy: 100.0%\n",
            "ERM | Epoch 0 | Loss: 0.09757710248231888 | Accuracy: 98.4375%\n",
            "ERM | Epoch 0 | Loss: 0.08941785246133804 | Accuracy: 98.4375%\n",
            "ERM | Epoch 0 | Loss: 0.12295379489660263 | Accuracy: 98.4375%\n",
            "ERM | Epoch 0 | Loss: 0.10311298072338104 | Accuracy: 98.4375%\n",
            "ERM | Epoch 0 | Loss: 0.019039271399378777 | Accuracy: 100.0%\n"
          ]
        },
        {
          "output_type": "stream",
          "name": "stderr",
          "text": [
            "Epoch 0:  77%|███████▋  | 579/751 [00:16<00:03, 45.15batch/s, accuracy=100.0%, loss=0.00582]"
          ]
        },
        {
          "output_type": "stream",
          "name": "stdout",
          "text": [
            "ERM | Epoch 0 | Loss: 0.02118832617998123 | Accuracy: 100.0%\n",
            "ERM | Epoch 0 | Loss: 0.015697283670306206 | Accuracy: 100.0%\n",
            "ERM | Epoch 0 | Loss: 0.014838607050478458 | Accuracy: 100.0%\n",
            "ERM | Epoch 0 | Loss: 0.011669843457639217 | Accuracy: 100.0%\n",
            "ERM | Epoch 0 | Loss: 0.012063464149832726 | Accuracy: 100.0%\n",
            "ERM | Epoch 0 | Loss: 0.12655805051326752 | Accuracy: 98.4375%\n",
            "ERM | Epoch 0 | Loss: 0.00887319352477789 | Accuracy: 100.0%\n",
            "ERM | Epoch 0 | Loss: 0.008192534558475018 | Accuracy: 100.0%\n",
            "ERM | Epoch 0 | Loss: 0.00659007066860795 | Accuracy: 100.0%\n",
            "ERM | Epoch 0 | Loss: 0.00581785524263978 | Accuracy: 100.0%\n"
          ]
        },
        {
          "output_type": "stream",
          "name": "stderr",
          "text": [
            "Epoch 0:  78%|███████▊  | 589/751 [00:17<00:03, 45.58batch/s, accuracy=100.0%, loss=0.0035] "
          ]
        },
        {
          "output_type": "stream",
          "name": "stdout",
          "text": [
            "ERM | Epoch 0 | Loss: 0.00550101650878787 | Accuracy: 100.0%\n",
            "ERM | Epoch 0 | Loss: 0.11115514487028122 | Accuracy: 98.4375%\n",
            "ERM | Epoch 0 | Loss: 0.004519111942499876 | Accuracy: 100.0%\n",
            "ERM | Epoch 0 | Loss: 0.004565181210637093 | Accuracy: 100.0%\n",
            "ERM | Epoch 0 | Loss: 0.14066269993782043 | Accuracy: 98.4375%\n",
            "ERM | Epoch 0 | Loss: 0.0049364203587174416 | Accuracy: 100.0%\n",
            "ERM | Epoch 0 | Loss: 0.0036071492359042168 | Accuracy: 100.0%\n",
            "ERM | Epoch 0 | Loss: 0.0039176237769424915 | Accuracy: 100.0%\n",
            "ERM | Epoch 0 | Loss: 0.003978064749389887 | Accuracy: 100.0%\n",
            "ERM | Epoch 0 | Loss: 0.0034991379361599684 | Accuracy: 100.0%\n"
          ]
        },
        {
          "output_type": "stream",
          "name": "stderr",
          "text": [
            "Epoch 0:  80%|███████▉  | 599/751 [00:17<00:03, 45.78batch/s, accuracy=98.4375%, loss=0.0949]"
          ]
        },
        {
          "output_type": "stream",
          "name": "stdout",
          "text": [
            "ERM | Epoch 0 | Loss: 0.0032583626452833414 | Accuracy: 100.0%\n",
            "ERM | Epoch 0 | Loss: 0.00261287996545434 | Accuracy: 100.0%\n",
            "ERM | Epoch 0 | Loss: 0.24527591466903687 | Accuracy: 96.875%\n",
            "ERM | Epoch 0 | Loss: 0.0033319382928311825 | Accuracy: 100.0%\n",
            "ERM | Epoch 0 | Loss: 0.002831290476024151 | Accuracy: 100.0%\n",
            "ERM | Epoch 0 | Loss: 0.003375023603439331 | Accuracy: 100.0%\n",
            "ERM | Epoch 0 | Loss: 0.0042227888479828835 | Accuracy: 100.0%\n",
            "ERM | Epoch 0 | Loss: 0.003438386134803295 | Accuracy: 100.0%\n",
            "ERM | Epoch 0 | Loss: 0.11829168349504471 | Accuracy: 98.4375%\n",
            "ERM | Epoch 0 | Loss: 0.09492675960063934 | Accuracy: 98.4375%\n"
          ]
        },
        {
          "output_type": "stream",
          "name": "stderr",
          "text": [
            "Epoch 0:  81%|████████  | 609/751 [00:17<00:03, 46.13batch/s, accuracy=100.0%, loss=0.00617]"
          ]
        },
        {
          "output_type": "stream",
          "name": "stdout",
          "text": [
            "ERM | Epoch 0 | Loss: 0.004784132353961468 | Accuracy: 100.0%\n",
            "ERM | Epoch 0 | Loss: 0.1179632917046547 | Accuracy: 98.4375%\n",
            "ERM | Epoch 0 | Loss: 0.008761894889175892 | Accuracy: 100.0%\n",
            "ERM | Epoch 0 | Loss: 0.0951954647898674 | Accuracy: 98.4375%\n",
            "ERM | Epoch 0 | Loss: 0.011758296750485897 | Accuracy: 100.0%\n",
            "ERM | Epoch 0 | Loss: 0.015192145481705666 | Accuracy: 100.0%\n",
            "ERM | Epoch 0 | Loss: 0.008830851875245571 | Accuracy: 100.0%\n",
            "ERM | Epoch 0 | Loss: 0.010009636171162128 | Accuracy: 100.0%\n",
            "ERM | Epoch 0 | Loss: 0.00808347761631012 | Accuracy: 100.0%\n",
            "ERM | Epoch 0 | Loss: 0.006168431602418423 | Accuracy: 100.0%\n"
          ]
        },
        {
          "output_type": "stream",
          "name": "stderr",
          "text": [
            "Epoch 0:  82%|████████▏ | 619/751 [00:17<00:02, 44.64batch/s, accuracy=100.0%, loss=0.00418]"
          ]
        },
        {
          "output_type": "stream",
          "name": "stdout",
          "text": [
            "ERM | Epoch 0 | Loss: 0.005196136888116598 | Accuracy: 100.0%\n",
            "ERM | Epoch 0 | Loss: 0.14282120764255524 | Accuracy: 98.4375%\n",
            "ERM | Epoch 0 | Loss: 0.0045972843654453754 | Accuracy: 100.0%\n",
            "ERM | Epoch 0 | Loss: 0.004094243515282869 | Accuracy: 100.0%\n",
            "ERM | Epoch 0 | Loss: 0.1442999690771103 | Accuracy: 98.4375%\n",
            "ERM | Epoch 0 | Loss: 0.004032645374536514 | Accuracy: 100.0%\n",
            "ERM | Epoch 0 | Loss: 0.20132629573345184 | Accuracy: 96.875%\n",
            "ERM | Epoch 0 | Loss: 0.004026785958558321 | Accuracy: 100.0%\n",
            "ERM | Epoch 0 | Loss: 0.004176153335720301 | Accuracy: 100.0%\n"
          ]
        },
        {
          "output_type": "stream",
          "name": "stderr",
          "text": [
            "Epoch 0:  84%|████████▍ | 629/751 [00:17<00:02, 45.40batch/s, accuracy=100.0%, loss=0.00726]"
          ]
        },
        {
          "output_type": "stream",
          "name": "stdout",
          "text": [
            "ERM | Epoch 0 | Loss: 0.004308874718844891 | Accuracy: 100.0%\n",
            "ERM | Epoch 0 | Loss: 0.003997611813247204 | Accuracy: 100.0%\n",
            "ERM | Epoch 0 | Loss: 0.0038091114256531 | Accuracy: 100.0%\n",
            "ERM | Epoch 0 | Loss: 0.1294577568769455 | Accuracy: 98.4375%\n",
            "ERM | Epoch 0 | Loss: 0.11175666749477386 | Accuracy: 98.4375%\n",
            "ERM | Epoch 0 | Loss: 0.10264980792999268 | Accuracy: 98.4375%\n",
            "ERM | Epoch 0 | Loss: 0.005087726283818483 | Accuracy: 100.0%\n",
            "ERM | Epoch 0 | Loss: 0.006545794662088156 | Accuracy: 100.0%\n",
            "ERM | Epoch 0 | Loss: 0.0074730063788592815 | Accuracy: 100.0%\n",
            "ERM | Epoch 0 | Loss: 0.007260894402861595 | Accuracy: 100.0%\n"
          ]
        },
        {
          "output_type": "stream",
          "name": "stderr",
          "text": [
            "Epoch 0:  85%|████████▌ | 639/751 [00:18<00:02, 45.72batch/s, accuracy=98.4375%, loss=0.113]"
          ]
        },
        {
          "output_type": "stream",
          "name": "stdout",
          "text": [
            "ERM | Epoch 0 | Loss: 0.007148473057895899 | Accuracy: 100.0%\n",
            "ERM | Epoch 0 | Loss: 0.00750586437061429 | Accuracy: 100.0%\n",
            "ERM | Epoch 0 | Loss: 0.008036104030907154 | Accuracy: 100.0%\n",
            "ERM | Epoch 0 | Loss: 0.006249377503991127 | Accuracy: 100.0%\n",
            "ERM | Epoch 0 | Loss: 0.13183635473251343 | Accuracy: 98.4375%\n",
            "ERM | Epoch 0 | Loss: 0.004535782150924206 | Accuracy: 100.0%\n",
            "ERM | Epoch 0 | Loss: 0.18399742245674133 | Accuracy: 98.4375%\n",
            "ERM | Epoch 0 | Loss: 0.004185199737548828 | Accuracy: 100.0%\n",
            "ERM | Epoch 0 | Loss: 0.004269894678145647 | Accuracy: 100.0%\n",
            "ERM | Epoch 0 | Loss: 0.1129297986626625 | Accuracy: 98.4375%\n"
          ]
        },
        {
          "output_type": "stream",
          "name": "stderr",
          "text": [
            "Epoch 0:  86%|████████▋ | 649/751 [00:18<00:02, 46.42batch/s, accuracy=100.0%, loss=0.0103] "
          ]
        },
        {
          "output_type": "stream",
          "name": "stdout",
          "text": [
            "ERM | Epoch 0 | Loss: 0.004283978138118982 | Accuracy: 100.0%\n",
            "ERM | Epoch 0 | Loss: 0.1251325160264969 | Accuracy: 98.4375%\n",
            "ERM | Epoch 0 | Loss: 0.00545547716319561 | Accuracy: 100.0%\n",
            "ERM | Epoch 0 | Loss: 0.23037089407444 | Accuracy: 96.875%\n",
            "ERM | Epoch 0 | Loss: 0.1258951872587204 | Accuracy: 98.4375%\n",
            "ERM | Epoch 0 | Loss: 0.008471434935927391 | Accuracy: 100.0%\n",
            "ERM | Epoch 0 | Loss: 0.006667817942798138 | Accuracy: 100.0%\n",
            "ERM | Epoch 0 | Loss: 0.09600043296813965 | Accuracy: 98.4375%\n",
            "ERM | Epoch 0 | Loss: 0.16482771933078766 | Accuracy: 98.4375%\n",
            "ERM | Epoch 0 | Loss: 0.010326464660465717 | Accuracy: 100.0%\n"
          ]
        },
        {
          "output_type": "stream",
          "name": "stderr",
          "text": [
            "Epoch 0:  88%|████████▊ | 659/751 [00:18<00:01, 46.29batch/s, accuracy=100.0%, loss=0.00798]"
          ]
        },
        {
          "output_type": "stream",
          "name": "stdout",
          "text": [
            "ERM | Epoch 0 | Loss: 0.011536982841789722 | Accuracy: 100.0%\n",
            "ERM | Epoch 0 | Loss: 0.01131388545036316 | Accuracy: 100.0%\n",
            "ERM | Epoch 0 | Loss: 0.008498414419591427 | Accuracy: 100.0%\n",
            "ERM | Epoch 0 | Loss: 0.009540321305394173 | Accuracy: 100.0%\n",
            "ERM | Epoch 0 | Loss: 0.10659995675086975 | Accuracy: 98.4375%\n",
            "ERM | Epoch 0 | Loss: 0.1019907146692276 | Accuracy: 98.4375%\n",
            "ERM | Epoch 0 | Loss: 0.00802582036703825 | Accuracy: 100.0%\n",
            "ERM | Epoch 0 | Loss: 0.00790636520832777 | Accuracy: 100.0%\n",
            "ERM | Epoch 0 | Loss: 0.007980813272297382 | Accuracy: 100.0%\n"
          ]
        },
        {
          "output_type": "stream",
          "name": "stderr",
          "text": [
            "Epoch 0:  88%|████████▊ | 664/751 [00:18<00:02, 39.08batch/s, accuracy=98.4375%, loss=0.102]"
          ]
        },
        {
          "output_type": "stream",
          "name": "stdout",
          "text": [
            "ERM | Epoch 0 | Loss: 0.12081281840801239 | Accuracy: 98.4375%\n",
            "ERM | Epoch 0 | Loss: 0.007187476381659508 | Accuracy: 100.0%\n",
            "ERM | Epoch 0 | Loss: 0.007035833317786455 | Accuracy: 100.0%\n",
            "ERM | Epoch 0 | Loss: 0.0064308494329452515 | Accuracy: 100.0%\n",
            "ERM | Epoch 0 | Loss: 0.0058647096157073975 | Accuracy: 100.0%\n",
            "ERM | Epoch 0 | Loss: 0.10209669917821884 | Accuracy: 98.4375%\n"
          ]
        },
        {
          "output_type": "stream",
          "name": "stderr",
          "text": [
            "Epoch 0:  90%|████████▉ | 673/751 [00:19<00:02, 34.76batch/s, accuracy=98.4375%, loss=0.0871]"
          ]
        },
        {
          "output_type": "stream",
          "name": "stdout",
          "text": [
            "ERM | Epoch 0 | Loss: 0.14685353636741638 | Accuracy: 98.4375%\n",
            "ERM | Epoch 0 | Loss: 0.11696606874465942 | Accuracy: 98.4375%\n",
            "ERM | Epoch 0 | Loss: 0.006547783967107534 | Accuracy: 100.0%\n",
            "ERM | Epoch 0 | Loss: 0.007102671544998884 | Accuracy: 100.0%\n",
            "ERM | Epoch 0 | Loss: 0.007101662922650576 | Accuracy: 100.0%\n",
            "ERM | Epoch 0 | Loss: 0.08032992482185364 | Accuracy: 98.4375%\n",
            "ERM | Epoch 0 | Loss: 0.0871165469288826 | Accuracy: 98.4375%\n"
          ]
        },
        {
          "output_type": "stream",
          "name": "stderr",
          "text": [
            "Epoch 0:  91%|█████████ | 681/751 [00:19<00:02, 34.22batch/s, accuracy=100.0%, loss=0.00669]"
          ]
        },
        {
          "output_type": "stream",
          "name": "stdout",
          "text": [
            "ERM | Epoch 0 | Loss: 0.014242210425436497 | Accuracy: 100.0%\n",
            "ERM | Epoch 0 | Loss: 0.10749367624521255 | Accuracy: 98.4375%\n",
            "ERM | Epoch 0 | Loss: 0.01507058460265398 | Accuracy: 100.0%\n",
            "ERM | Epoch 0 | Loss: 0.012939671985805035 | Accuracy: 100.0%\n",
            "ERM | Epoch 0 | Loss: 0.01027240976691246 | Accuracy: 100.0%\n",
            "ERM | Epoch 0 | Loss: 0.006206120364367962 | Accuracy: 100.0%\n",
            "ERM | Epoch 0 | Loss: 0.006687877234071493 | Accuracy: 100.0%\n"
          ]
        },
        {
          "output_type": "stream",
          "name": "stderr",
          "text": [
            "Epoch 0:  91%|█████████ | 685/751 [00:19<00:01, 33.43batch/s, accuracy=100.0%, loss=0.00479]"
          ]
        },
        {
          "output_type": "stream",
          "name": "stdout",
          "text": [
            "ERM | Epoch 0 | Loss: 0.23345588147640228 | Accuracy: 96.875%\n",
            "ERM | Epoch 0 | Loss: 0.005469285883009434 | Accuracy: 100.0%\n",
            "ERM | Epoch 0 | Loss: 0.003842295380309224 | Accuracy: 100.0%\n",
            "ERM | Epoch 0 | Loss: 0.131178617477417 | Accuracy: 98.4375%\n",
            "ERM | Epoch 0 | Loss: 0.004154265392571688 | Accuracy: 100.0%\n",
            "ERM | Epoch 0 | Loss: 0.004859994165599346 | Accuracy: 100.0%\n",
            "ERM | Epoch 0 | Loss: 0.004786767531186342 | Accuracy: 100.0%\n"
          ]
        },
        {
          "output_type": "stream",
          "name": "stderr",
          "text": [
            "Epoch 0:  92%|█████████▏| 693/751 [00:19<00:01, 33.63batch/s, accuracy=100.0%, loss=0.00507]"
          ]
        },
        {
          "output_type": "stream",
          "name": "stdout",
          "text": [
            "ERM | Epoch 0 | Loss: 0.0041480171494185925 | Accuracy: 100.0%\n",
            "ERM | Epoch 0 | Loss: 0.24423277378082275 | Accuracy: 96.875%\n",
            "ERM | Epoch 0 | Loss: 0.00498694833368063 | Accuracy: 100.0%\n",
            "ERM | Epoch 0 | Loss: 0.004647731315344572 | Accuracy: 100.0%\n",
            "ERM | Epoch 0 | Loss: 0.005455018952488899 | Accuracy: 100.0%\n",
            "ERM | Epoch 0 | Loss: 0.00506593706086278 | Accuracy: 100.0%\n",
            "ERM | Epoch 0 | Loss: 0.005065364297479391 | Accuracy: 100.0%\n"
          ]
        },
        {
          "output_type": "stream",
          "name": "stderr",
          "text": [
            "Epoch 0:  93%|█████████▎| 701/751 [00:19<00:01, 33.33batch/s, accuracy=100.0%, loss=0.00335]"
          ]
        },
        {
          "output_type": "stream",
          "name": "stdout",
          "text": [
            "ERM | Epoch 0 | Loss: 0.005125249270349741 | Accuracy: 100.0%\n",
            "ERM | Epoch 0 | Loss: 0.004597460851073265 | Accuracy: 100.0%\n",
            "ERM | Epoch 0 | Loss: 0.004102917388081551 | Accuracy: 100.0%\n",
            "ERM | Epoch 0 | Loss: 0.004501271061599255 | Accuracy: 100.0%\n",
            "ERM | Epoch 0 | Loss: 0.004616161808371544 | Accuracy: 100.0%\n",
            "ERM | Epoch 0 | Loss: 0.1427173614501953 | Accuracy: 98.4375%\n",
            "ERM | Epoch 0 | Loss: 0.0033535007387399673 | Accuracy: 100.0%\n"
          ]
        },
        {
          "output_type": "stream",
          "name": "stderr",
          "text": [
            "Epoch 0:  94%|█████████▍| 709/751 [00:20<00:01, 32.30batch/s, accuracy=100.0%, loss=0.00266]"
          ]
        },
        {
          "output_type": "stream",
          "name": "stdout",
          "text": [
            "ERM | Epoch 0 | Loss: 0.004394071642309427 | Accuracy: 100.0%\n",
            "ERM | Epoch 0 | Loss: 0.004429953638464212 | Accuracy: 100.0%\n",
            "ERM | Epoch 0 | Loss: 0.0038896696642041206 | Accuracy: 100.0%\n",
            "ERM | Epoch 0 | Loss: 0.003721349872648716 | Accuracy: 100.0%\n",
            "ERM | Epoch 0 | Loss: 0.0028100907802581787 | Accuracy: 100.0%\n",
            "ERM | Epoch 0 | Loss: 0.003002490382641554 | Accuracy: 100.0%\n",
            "ERM | Epoch 0 | Loss: 0.0026552623603492975 | Accuracy: 100.0%\n"
          ]
        },
        {
          "output_type": "stream",
          "name": "stderr",
          "text": [
            "Epoch 0:  95%|█████████▍| 713/751 [00:20<00:01, 32.57batch/s, accuracy=100.0%, loss=0.00154]"
          ]
        },
        {
          "output_type": "stream",
          "name": "stdout",
          "text": [
            "ERM | Epoch 0 | Loss: 0.0027290235739201307 | Accuracy: 100.0%\n",
            "ERM | Epoch 0 | Loss: 0.0028756873216480017 | Accuracy: 100.0%\n",
            "ERM | Epoch 0 | Loss: 0.002478838199749589 | Accuracy: 100.0%\n",
            "ERM | Epoch 0 | Loss: 0.002708003157749772 | Accuracy: 100.0%\n",
            "ERM | Epoch 0 | Loss: 0.0023596889805048704 | Accuracy: 100.0%\n",
            "ERM | Epoch 0 | Loss: 0.0018578144954517484 | Accuracy: 100.0%\n",
            "ERM | Epoch 0 | Loss: 0.0015405367594212294 | Accuracy: 100.0%\n"
          ]
        },
        {
          "output_type": "stream",
          "name": "stderr",
          "text": [
            "Epoch 0:  96%|█████████▌| 721/751 [00:20<00:00, 32.56batch/s, accuracy=98.4375%, loss=0.155]"
          ]
        },
        {
          "output_type": "stream",
          "name": "stdout",
          "text": [
            "ERM | Epoch 0 | Loss: 0.0017104765865951777 | Accuracy: 100.0%\n",
            "ERM | Epoch 0 | Loss: 0.0015365484869107604 | Accuracy: 100.0%\n",
            "ERM | Epoch 0 | Loss: 0.001433560624718666 | Accuracy: 100.0%\n",
            "ERM | Epoch 0 | Loss: 0.0014030009042471647 | Accuracy: 100.0%\n",
            "ERM | Epoch 0 | Loss: 0.0012598605826497078 | Accuracy: 100.0%\n",
            "ERM | Epoch 0 | Loss: 0.001105611096136272 | Accuracy: 100.0%\n",
            "ERM | Epoch 0 | Loss: 0.1550970822572708 | Accuracy: 98.4375%\n"
          ]
        },
        {
          "output_type": "stream",
          "name": "stderr",
          "text": [
            "Epoch 0:  97%|█████████▋| 729/751 [00:20<00:00, 33.32batch/s, accuracy=100.0%, loss=0.00958]"
          ]
        },
        {
          "output_type": "stream",
          "name": "stdout",
          "text": [
            "ERM | Epoch 0 | Loss: 0.0011491243494674563 | Accuracy: 100.0%\n",
            "ERM | Epoch 0 | Loss: 0.0012507409555837512 | Accuracy: 100.0%\n",
            "ERM | Epoch 0 | Loss: 0.10717327892780304 | Accuracy: 98.4375%\n",
            "ERM | Epoch 0 | Loss: 0.2608514130115509 | Accuracy: 96.875%\n",
            "ERM | Epoch 0 | Loss: 0.0028488049283623695 | Accuracy: 100.0%\n",
            "ERM | Epoch 0 | Loss: 0.13896159827709198 | Accuracy: 98.4375%\n",
            "ERM | Epoch 0 | Loss: 0.009581412188708782 | Accuracy: 100.0%\n"
          ]
        },
        {
          "output_type": "stream",
          "name": "stderr",
          "text": [
            "Epoch 0:  98%|█████████▊| 733/751 [00:20<00:00, 31.86batch/s, accuracy=100.0%, loss=0.0106] "
          ]
        },
        {
          "output_type": "stream",
          "name": "stdout",
          "text": [
            "ERM | Epoch 0 | Loss: 0.007328019477427006 | Accuracy: 100.0%\n",
            "ERM | Epoch 0 | Loss: 0.008384044282138348 | Accuracy: 100.0%\n",
            "ERM | Epoch 0 | Loss: 0.12534219026565552 | Accuracy: 98.4375%\n",
            "ERM | Epoch 0 | Loss: 0.09266289323568344 | Accuracy: 98.4375%\n",
            "ERM | Epoch 0 | Loss: 0.008289228193461895 | Accuracy: 100.0%\n",
            "ERM | Epoch 0 | Loss: 0.010577402077615261 | Accuracy: 100.0%\n"
          ]
        },
        {
          "output_type": "stream",
          "name": "stderr",
          "text": [
            "Epoch 0:  99%|█████████▊| 741/751 [00:21<00:00, 30.49batch/s, accuracy=100.0%, loss=0.00363]"
          ]
        },
        {
          "output_type": "stream",
          "name": "stdout",
          "text": [
            "ERM | Epoch 0 | Loss: 0.01538815163075924 | Accuracy: 100.0%\n",
            "ERM | Epoch 0 | Loss: 0.11762584745883942 | Accuracy: 98.4375%\n",
            "ERM | Epoch 0 | Loss: 0.12335693091154099 | Accuracy: 98.4375%\n",
            "ERM | Epoch 0 | Loss: 0.004684087820351124 | Accuracy: 100.0%\n",
            "ERM | Epoch 0 | Loss: 0.00472665298730135 | Accuracy: 100.0%\n",
            "ERM | Epoch 0 | Loss: 0.0041250078938901424 | Accuracy: 100.0%\n"
          ]
        },
        {
          "output_type": "stream",
          "name": "stderr",
          "text": [
            "Epoch 0: 100%|█████████▉| 749/751 [00:21<00:00, 32.04batch/s, accuracy=100.0%, loss=0.00785]"
          ]
        },
        {
          "output_type": "stream",
          "name": "stdout",
          "text": [
            "ERM | Epoch 0 | Loss: 0.003634745255112648 | Accuracy: 100.0%\n",
            "ERM | Epoch 0 | Loss: 0.14608077704906464 | Accuracy: 98.4375%\n",
            "ERM | Epoch 0 | Loss: 0.004588183015584946 | Accuracy: 100.0%\n",
            "ERM | Epoch 0 | Loss: 0.004352257587015629 | Accuracy: 100.0%\n",
            "ERM | Epoch 0 | Loss: 0.00509799737483263 | Accuracy: 100.0%\n",
            "ERM | Epoch 0 | Loss: 0.20914508402347565 | Accuracy: 96.875%\n",
            "ERM | Epoch 0 | Loss: 0.007846737280488014 | Accuracy: 100.0%\n"
          ]
        },
        {
          "output_type": "stream",
          "name": "stderr",
          "text": [
            "Epoch 0: 100%|██████████| 751/751 [00:21<00:00, 34.74batch/s, accuracy=100.0%, loss=0.00701]"
          ]
        },
        {
          "output_type": "stream",
          "name": "stdout",
          "text": [
            "ERM | Epoch 0 | Loss: 0.008846305310726166 | Accuracy: 100.0%\n",
            "ERM | Epoch 0 | Loss: 0.007009162101894617 | Accuracy: 100.0%\n"
          ]
        },
        {
          "output_type": "stream",
          "name": "stderr",
          "text": [
            "\n"
          ]
        }
      ]
    },
    {
      "cell_type": "code",
      "source": [
        "evaluator = Evaluator(\n",
        "    testset=trainset,\n",
        "    group_partition=testset.group_partition,\n",
        "    group_weights=trainset.group_weights,\n",
        "    batch_size=64,\n",
        "    model=model,\n",
        "    verbose=True\n",
        ")\n",
        "evaluator.evaluate()"
      ],
      "metadata": {
        "colab": {
          "base_uri": "https://localhost:8080/"
        },
        "id": "hkbxziaPvPPF",
        "outputId": "6d170d81-32fb-4cf5-d880-0c91e7c60464"
      },
      "execution_count": 5,
      "outputs": [
        {
          "output_type": "stream",
          "name": "stderr",
          "text": [
            "Evaluating group-wise accuracy:   4%|▍         | 1/25 [00:00<00:12,  1.98it/s]"
          ]
        },
        {
          "output_type": "stream",
          "name": "stdout",
          "text": [
            "Group (0, 0) Accuracy: 99.05437352245863\n"
          ]
        },
        {
          "output_type": "stream",
          "name": "stderr",
          "text": [
            "\rEvaluating group-wise accuracy:   8%|▊         | 2/25 [00:00<00:09,  2.38it/s]"
          ]
        },
        {
          "output_type": "stream",
          "name": "stdout",
          "text": [
            "Group (0, 1) Accuracy: 99.76359338061465\n"
          ]
        },
        {
          "output_type": "stream",
          "name": "stderr",
          "text": [
            "\rEvaluating group-wise accuracy:  12%|█▏        | 3/25 [00:01<00:08,  2.56it/s]"
          ]
        },
        {
          "output_type": "stream",
          "name": "stdout",
          "text": [
            "Group (0, 2) Accuracy: 99.05437352245863\n"
          ]
        },
        {
          "output_type": "stream",
          "name": "stderr",
          "text": [
            "\rEvaluating group-wise accuracy:  16%|█▌        | 4/25 [00:01<00:08,  2.60it/s]"
          ]
        },
        {
          "output_type": "stream",
          "name": "stdout",
          "text": [
            "Group (0, 3) Accuracy: 99.52718676122932\n"
          ]
        },
        {
          "output_type": "stream",
          "name": "stderr",
          "text": [
            "\rEvaluating group-wise accuracy:  20%|██        | 5/25 [00:01<00:07,  2.65it/s]"
          ]
        },
        {
          "output_type": "stream",
          "name": "stdout",
          "text": [
            "Group (0, 4) Accuracy: 100.0\n"
          ]
        },
        {
          "output_type": "stream",
          "name": "stderr",
          "text": [
            "\rEvaluating group-wise accuracy:  24%|██▍       | 6/25 [00:02<00:07,  2.68it/s]"
          ]
        },
        {
          "output_type": "stream",
          "name": "stdout",
          "text": [
            "Group (1, 0) Accuracy: 99.75550122249389\n"
          ]
        },
        {
          "output_type": "stream",
          "name": "stderr",
          "text": [
            "\rEvaluating group-wise accuracy:  28%|██▊       | 7/25 [00:02<00:06,  2.64it/s]"
          ]
        },
        {
          "output_type": "stream",
          "name": "stdout",
          "text": [
            "Group (1, 1) Accuracy: 98.77750611246944\n"
          ]
        },
        {
          "output_type": "stream",
          "name": "stderr",
          "text": [
            "\rEvaluating group-wise accuracy:  32%|███▏      | 8/25 [00:03<00:06,  2.69it/s]"
          ]
        },
        {
          "output_type": "stream",
          "name": "stdout",
          "text": [
            "Group (1, 2) Accuracy: 99.75490196078431\n"
          ]
        },
        {
          "output_type": "stream",
          "name": "stderr",
          "text": [
            "\rEvaluating group-wise accuracy:  36%|███▌      | 9/25 [00:04<00:11,  1.42it/s]"
          ]
        },
        {
          "output_type": "stream",
          "name": "stdout",
          "text": [
            "Group (1, 3) Accuracy: 98.77450980392157\n"
          ]
        },
        {
          "output_type": "stream",
          "name": "stderr",
          "text": [
            "\rEvaluating group-wise accuracy:  40%|████      | 10/25 [00:06<00:16,  1.11s/it]"
          ]
        },
        {
          "output_type": "stream",
          "name": "stdout",
          "text": [
            "Group (1, 4) Accuracy: 99.75490196078431\n"
          ]
        },
        {
          "output_type": "stream",
          "name": "stderr",
          "text": [
            "\rEvaluating group-wise accuracy:  44%|████▍     | 11/25 [00:06<00:12,  1.13it/s]"
          ]
        },
        {
          "output_type": "stream",
          "name": "stdout",
          "text": [
            "Group (2, 0) Accuracy: 99.73333333333333\n"
          ]
        },
        {
          "output_type": "stream",
          "name": "stderr",
          "text": [
            "\rEvaluating group-wise accuracy:  48%|████▊     | 12/25 [00:07<00:09,  1.38it/s]"
          ]
        },
        {
          "output_type": "stream",
          "name": "stdout",
          "text": [
            "Group (2, 1) Accuracy: 99.46666666666667\n"
          ]
        },
        {
          "output_type": "stream",
          "name": "stderr",
          "text": [
            "\rEvaluating group-wise accuracy:  52%|█████▏    | 13/25 [00:07<00:07,  1.63it/s]"
          ]
        },
        {
          "output_type": "stream",
          "name": "stdout",
          "text": [
            "Group (2, 2) Accuracy: 99.73333333333333\n"
          ]
        },
        {
          "output_type": "stream",
          "name": "stderr",
          "text": [
            "\rEvaluating group-wise accuracy:  56%|█████▌    | 14/25 [00:07<00:05,  1.85it/s]"
          ]
        },
        {
          "output_type": "stream",
          "name": "stdout",
          "text": [
            "Group (2, 3) Accuracy: 98.66666666666667\n"
          ]
        },
        {
          "output_type": "stream",
          "name": "stderr",
          "text": [
            "\rEvaluating group-wise accuracy:  60%|██████    | 15/25 [00:08<00:04,  2.07it/s]"
          ]
        },
        {
          "output_type": "stream",
          "name": "stdout",
          "text": [
            "Group (2, 4) Accuracy: 99.73262032085562\n"
          ]
        },
        {
          "output_type": "stream",
          "name": "stderr",
          "text": [
            "\rEvaluating group-wise accuracy:  64%|██████▍   | 16/25 [00:08<00:04,  2.24it/s]"
          ]
        },
        {
          "output_type": "stream",
          "name": "stdout",
          "text": [
            "Group (3, 0) Accuracy: 98.99497487437186\n"
          ]
        },
        {
          "output_type": "stream",
          "name": "stderr",
          "text": [
            "\rEvaluating group-wise accuracy:  68%|██████▊   | 17/25 [00:09<00:05,  1.55it/s]"
          ]
        },
        {
          "output_type": "stream",
          "name": "stdout",
          "text": [
            "Group (3, 1) Accuracy: 99.49622166246851\n"
          ]
        },
        {
          "output_type": "stream",
          "name": "stderr",
          "text": [
            "\rEvaluating group-wise accuracy:  72%|███████▏  | 18/25 [00:12<00:09,  1.31s/it]"
          ]
        },
        {
          "output_type": "stream",
          "name": "stdout",
          "text": [
            "Group (3, 2) Accuracy: 99.49622166246851\n"
          ]
        },
        {
          "output_type": "stream",
          "name": "stderr",
          "text": [
            "\rEvaluating group-wise accuracy:  76%|███████▌  | 19/25 [00:14<00:09,  1.58s/it]"
          ]
        },
        {
          "output_type": "stream",
          "name": "stdout",
          "text": [
            "Group (3, 3) Accuracy: 98.74055415617129\n"
          ]
        },
        {
          "output_type": "stream",
          "name": "stderr",
          "text": [
            "\rEvaluating group-wise accuracy:  80%|████████  | 20/25 [00:17<00:09,  1.88s/it]"
          ]
        },
        {
          "output_type": "stream",
          "name": "stdout",
          "text": [
            "Group (3, 4) Accuracy: 100.0\n"
          ]
        },
        {
          "output_type": "stream",
          "name": "stderr",
          "text": [
            "\rEvaluating group-wise accuracy:  84%|████████▍ | 21/25 [00:17<00:05,  1.43s/it]"
          ]
        },
        {
          "output_type": "stream",
          "name": "stdout",
          "text": [
            "Group (4, 0) Accuracy: 100.0\n"
          ]
        },
        {
          "output_type": "stream",
          "name": "stderr",
          "text": [
            "\rEvaluating group-wise accuracy:  88%|████████▊ | 22/25 [00:18<00:03,  1.11s/it]"
          ]
        },
        {
          "output_type": "stream",
          "name": "stdout",
          "text": [
            "Group (4, 1) Accuracy: 99.74811083123426\n"
          ]
        },
        {
          "output_type": "stream",
          "name": "stderr",
          "text": [
            "\rEvaluating group-wise accuracy:  92%|█████████▏| 23/25 [00:18<00:01,  1.12it/s]"
          ]
        },
        {
          "output_type": "stream",
          "name": "stdout",
          "text": [
            "Group (4, 2) Accuracy: 99.24433249370277\n"
          ]
        },
        {
          "output_type": "stream",
          "name": "stderr",
          "text": [
            "\rEvaluating group-wise accuracy:  96%|█████████▌| 24/25 [00:18<00:00,  1.36it/s]"
          ]
        },
        {
          "output_type": "stream",
          "name": "stdout",
          "text": [
            "Group (4, 3) Accuracy: 99.74747474747475\n"
          ]
        },
        {
          "output_type": "stream",
          "name": "stderr",
          "text": [
            "Evaluating group-wise accuracy: 100%|██████████| 25/25 [00:19<00:00,  1.29it/s]"
          ]
        },
        {
          "output_type": "stream",
          "name": "stdout",
          "text": [
            "Group (4, 4) Accuracy: 100.0\n"
          ]
        },
        {
          "output_type": "stream",
          "name": "stderr",
          "text": [
            "\n"
          ]
        },
        {
          "output_type": "execute_result",
          "data": {
            "text/plain": [
              "{(0, 0): 99.05437352245863,\n",
              " (0, 1): 99.76359338061465,\n",
              " (0, 2): 99.05437352245863,\n",
              " (0, 3): 99.52718676122932,\n",
              " (0, 4): 100.0,\n",
              " (1, 0): 99.75550122249389,\n",
              " (1, 1): 98.77750611246944,\n",
              " (1, 2): 99.75490196078431,\n",
              " (1, 3): 98.77450980392157,\n",
              " (1, 4): 99.75490196078431,\n",
              " (2, 0): 99.73333333333333,\n",
              " (2, 1): 99.46666666666667,\n",
              " (2, 2): 99.73333333333333,\n",
              " (2, 3): 98.66666666666667,\n",
              " (2, 4): 99.73262032085562,\n",
              " (3, 0): 98.99497487437186,\n",
              " (3, 1): 99.49622166246851,\n",
              " (3, 2): 99.49622166246851,\n",
              " (3, 3): 98.74055415617129,\n",
              " (3, 4): 100.0,\n",
              " (4, 0): 100.0,\n",
              " (4, 1): 99.74811083123426,\n",
              " (4, 2): 99.24433249370277,\n",
              " (4, 3): 99.74747474747475,\n",
              " (4, 4): 100.0}"
            ]
          },
          "metadata": {},
          "execution_count": 5
        }
      ]
    },
    {
      "cell_type": "code",
      "source": [
        "evaluator = Evaluator(\n",
        "    testset=testset,\n",
        "    group_partition=testset.group_partition,\n",
        "    group_weights=trainset.group_weights,\n",
        "    batch_size=64,\n",
        "    model=model,\n",
        "    verbose=True\n",
        ")\n",
        "evaluator.evaluate()"
      ],
      "metadata": {
        "colab": {
          "base_uri": "https://localhost:8080/"
        },
        "id": "G5_puwAhv7fy",
        "outputId": "4bf2918f-932c-4bf5-a304-20c14c4c1fc6"
      },
      "execution_count": 6,
      "outputs": [
        {
          "output_type": "stream",
          "name": "stderr",
          "text": [
            "Evaluating group-wise accuracy:   4%|▍         | 1/25 [00:01<00:26,  1.12s/it]"
          ]
        },
        {
          "output_type": "stream",
          "name": "stdout",
          "text": [
            "Group (0, 0) Accuracy: 100.0\n"
          ]
        },
        {
          "output_type": "stream",
          "name": "stderr",
          "text": [
            "\rEvaluating group-wise accuracy:   8%|▊         | 2/25 [00:03<00:37,  1.63s/it]"
          ]
        },
        {
          "output_type": "stream",
          "name": "stdout",
          "text": [
            "Group (0, 1) Accuracy: 0.0\n"
          ]
        },
        {
          "output_type": "stream",
          "name": "stderr",
          "text": [
            "\rEvaluating group-wise accuracy:  12%|█▏        | 3/25 [00:05<00:45,  2.09s/it]"
          ]
        },
        {
          "output_type": "stream",
          "name": "stdout",
          "text": [
            "Group (0, 2) Accuracy: 0.0\n"
          ]
        },
        {
          "output_type": "stream",
          "name": "stderr",
          "text": [
            "\rEvaluating group-wise accuracy:  16%|█▌        | 4/25 [00:08<00:51,  2.44s/it]"
          ]
        },
        {
          "output_type": "stream",
          "name": "stdout",
          "text": [
            "Group (0, 3) Accuracy: 0.0\n"
          ]
        },
        {
          "output_type": "stream",
          "name": "stderr",
          "text": [
            "\rEvaluating group-wise accuracy:  20%|██        | 5/25 [00:09<00:33,  1.70s/it]"
          ]
        },
        {
          "output_type": "stream",
          "name": "stdout",
          "text": [
            "Group (0, 4) Accuracy: 0.0\n"
          ]
        },
        {
          "output_type": "stream",
          "name": "stderr",
          "text": [
            "\rEvaluating group-wise accuracy:  24%|██▍       | 6/25 [00:09<00:23,  1.25s/it]"
          ]
        },
        {
          "output_type": "stream",
          "name": "stdout",
          "text": [
            "Group (1, 0) Accuracy: 0.0\n"
          ]
        },
        {
          "output_type": "stream",
          "name": "stderr",
          "text": [
            "\rEvaluating group-wise accuracy:  28%|██▊       | 7/25 [00:09<00:17,  1.04it/s]"
          ]
        },
        {
          "output_type": "stream",
          "name": "stdout",
          "text": [
            "Group (1, 1) Accuracy: 100.0\n"
          ]
        },
        {
          "output_type": "stream",
          "name": "stderr",
          "text": [
            "\rEvaluating group-wise accuracy:  32%|███▏      | 8/25 [00:10<00:17,  1.01s/it]"
          ]
        },
        {
          "output_type": "stream",
          "name": "stdout",
          "text": [
            "Group (1, 2) Accuracy: 0.0\n"
          ]
        },
        {
          "output_type": "stream",
          "name": "stderr",
          "text": [
            "\rEvaluating group-wise accuracy:  36%|███▌      | 9/25 [00:12<00:18,  1.13s/it]"
          ]
        },
        {
          "output_type": "stream",
          "name": "stdout",
          "text": [
            "Group (1, 3) Accuracy: 0.0\n"
          ]
        },
        {
          "output_type": "stream",
          "name": "stderr",
          "text": [
            "\rEvaluating group-wise accuracy:  40%|████      | 10/25 [00:14<00:20,  1.40s/it]"
          ]
        },
        {
          "output_type": "stream",
          "name": "stdout",
          "text": [
            "Group (1, 4) Accuracy: 0.0\n"
          ]
        },
        {
          "output_type": "stream",
          "name": "stderr",
          "text": [
            "\rEvaluating group-wise accuracy:  44%|████▍     | 11/25 [00:16<00:22,  1.58s/it]"
          ]
        },
        {
          "output_type": "stream",
          "name": "stdout",
          "text": [
            "Group (2, 0) Accuracy: 0.0\n"
          ]
        },
        {
          "output_type": "stream",
          "name": "stderr",
          "text": [
            "\rEvaluating group-wise accuracy:  48%|████▊     | 12/25 [00:20<00:30,  2.34s/it]"
          ]
        },
        {
          "output_type": "stream",
          "name": "stdout",
          "text": [
            "Group (2, 1) Accuracy: 0.0\n"
          ]
        },
        {
          "output_type": "stream",
          "name": "stderr",
          "text": [
            "\rEvaluating group-wise accuracy:  52%|█████▏    | 13/25 [00:20<00:20,  1.74s/it]"
          ]
        },
        {
          "output_type": "stream",
          "name": "stdout",
          "text": [
            "Group (2, 2) Accuracy: 100.0\n"
          ]
        },
        {
          "output_type": "stream",
          "name": "stderr",
          "text": [
            "\rEvaluating group-wise accuracy:  56%|█████▌    | 14/25 [00:21<00:14,  1.33s/it]"
          ]
        },
        {
          "output_type": "stream",
          "name": "stdout",
          "text": [
            "Group (2, 3) Accuracy: 0.0\n"
          ]
        },
        {
          "output_type": "stream",
          "name": "stderr",
          "text": [
            "\rEvaluating group-wise accuracy:  60%|██████    | 15/25 [00:21<00:10,  1.04s/it]"
          ]
        },
        {
          "output_type": "stream",
          "name": "stdout",
          "text": [
            "Group (2, 4) Accuracy: 0.0\n"
          ]
        },
        {
          "output_type": "stream",
          "name": "stderr",
          "text": [
            "\rEvaluating group-wise accuracy:  64%|██████▍   | 16/25 [00:21<00:07,  1.19it/s]"
          ]
        },
        {
          "output_type": "stream",
          "name": "stdout",
          "text": [
            "Group (3, 0) Accuracy: 0.0\n"
          ]
        },
        {
          "output_type": "stream",
          "name": "stderr",
          "text": [
            "\rEvaluating group-wise accuracy:  68%|██████▊   | 17/25 [00:22<00:05,  1.43it/s]"
          ]
        },
        {
          "output_type": "stream",
          "name": "stdout",
          "text": [
            "Group (3, 1) Accuracy: 0.0\n"
          ]
        },
        {
          "output_type": "stream",
          "name": "stderr",
          "text": [
            "\rEvaluating group-wise accuracy:  72%|███████▏  | 18/25 [00:22<00:04,  1.68it/s]"
          ]
        },
        {
          "output_type": "stream",
          "name": "stdout",
          "text": [
            "Group (3, 2) Accuracy: 0.0\n"
          ]
        },
        {
          "output_type": "stream",
          "name": "stderr",
          "text": [
            "\rEvaluating group-wise accuracy:  76%|███████▌  | 19/25 [00:23<00:03,  1.88it/s]"
          ]
        },
        {
          "output_type": "stream",
          "name": "stdout",
          "text": [
            "Group (3, 3) Accuracy: 100.0\n"
          ]
        },
        {
          "output_type": "stream",
          "name": "stderr",
          "text": [
            "\rEvaluating group-wise accuracy:  80%|████████  | 20/25 [00:23<00:02,  2.07it/s]"
          ]
        },
        {
          "output_type": "stream",
          "name": "stdout",
          "text": [
            "Group (3, 4) Accuracy: 0.0\n"
          ]
        },
        {
          "output_type": "stream",
          "name": "stderr",
          "text": [
            "\rEvaluating group-wise accuracy:  84%|████████▍ | 21/25 [00:23<00:01,  2.23it/s]"
          ]
        },
        {
          "output_type": "stream",
          "name": "stdout",
          "text": [
            "Group (4, 0) Accuracy: 0.0\n"
          ]
        },
        {
          "output_type": "stream",
          "name": "stderr",
          "text": [
            "\rEvaluating group-wise accuracy:  88%|████████▊ | 22/25 [00:24<00:01,  2.33it/s]"
          ]
        },
        {
          "output_type": "stream",
          "name": "stdout",
          "text": [
            "Group (4, 1) Accuracy: 0.0\n"
          ]
        },
        {
          "output_type": "stream",
          "name": "stderr",
          "text": [
            "\rEvaluating group-wise accuracy:  92%|█████████▏| 23/25 [00:24<00:00,  2.46it/s]"
          ]
        },
        {
          "output_type": "stream",
          "name": "stdout",
          "text": [
            "Group (4, 2) Accuracy: 0.0\n"
          ]
        },
        {
          "output_type": "stream",
          "name": "stderr",
          "text": [
            "\rEvaluating group-wise accuracy:  96%|█████████▌| 24/25 [00:24<00:00,  2.52it/s]"
          ]
        },
        {
          "output_type": "stream",
          "name": "stdout",
          "text": [
            "Group (4, 3) Accuracy: 0.0\n"
          ]
        },
        {
          "output_type": "stream",
          "name": "stderr",
          "text": [
            "Evaluating group-wise accuracy: 100%|██████████| 25/25 [00:25<00:00,  1.01s/it]"
          ]
        },
        {
          "output_type": "stream",
          "name": "stdout",
          "text": [
            "Group (4, 4) Accuracy: 100.0\n"
          ]
        },
        {
          "output_type": "stream",
          "name": "stderr",
          "text": [
            "\n"
          ]
        },
        {
          "output_type": "execute_result",
          "data": {
            "text/plain": [
              "{(0, 0): 100.0,\n",
              " (0, 1): 0.0,\n",
              " (0, 2): 0.0,\n",
              " (0, 3): 0.0,\n",
              " (0, 4): 0.0,\n",
              " (1, 0): 0.0,\n",
              " (1, 1): 100.0,\n",
              " (1, 2): 0.0,\n",
              " (1, 3): 0.0,\n",
              " (1, 4): 0.0,\n",
              " (2, 0): 0.0,\n",
              " (2, 1): 0.0,\n",
              " (2, 2): 100.0,\n",
              " (2, 3): 0.0,\n",
              " (2, 4): 0.0,\n",
              " (3, 0): 0.0,\n",
              " (3, 1): 0.0,\n",
              " (3, 2): 0.0,\n",
              " (3, 3): 100.0,\n",
              " (3, 4): 0.0,\n",
              " (4, 0): 0.0,\n",
              " (4, 1): 0.0,\n",
              " (4, 2): 0.0,\n",
              " (4, 3): 0.0,\n",
              " (4, 4): 100.0}"
            ]
          },
          "metadata": {},
          "execution_count": 6
        }
      ]
    },
    {
      "cell_type": "code",
      "source": [
        "cluster = Cluster(\n",
        "    Z=erm.trainer.get_trainset_outputs(),\n",
        "    class_labels=trainset.labels,\n",
        "    cluster_alg=ClusterAlg.KMEANS,\n",
        "    num_clusters=2,\n",
        "    verbose=True\n",
        ")\n",
        "group_partition = cluster.infer_groups()"
      ],
      "metadata": {
        "colab": {
          "base_uri": "https://localhost:8080/"
        },
        "id": "VxWaoH_8z5Vu",
        "outputId": "069d30e0-1da0-4384-9924-6105c41b8c1d"
      },
      "execution_count": 7,
      "outputs": [
        {
          "output_type": "stream",
          "name": "stderr",
          "text": [
            "Getting model outputs: 100%|██████████| 751/751 [00:09<00:00, 80.10batch/s]\n",
            "Clustering class-wise: 100%|██████████| 5/5 [00:00<00:00, 15.18it/s]\n"
          ]
        }
      ]
    },
    {
      "cell_type": "code",
      "source": [
        "model = model_factory(\"lenet\", trainset[0][0].shape, trainset.num_classes)\n",
        "group_balance_erm = GroupBalanceBatchERM(\n",
        "    model=model,\n",
        "    num_epochs=5,\n",
        "    trainset=trainset,\n",
        "    group_partition=group_partition,\n",
        "    batch_size=64,\n",
        "    optimizer=SGD(model.parameters(), lr=1e-3, weight_decay=5e-4, momentum=0.9, nesterov=True),\n",
        "    verbose=True\n",
        ")\n",
        "group_balance_erm.train()"
      ],
      "metadata": {
        "colab": {
          "base_uri": "https://localhost:8080/"
        },
        "id": "HOPQRtO52yt6",
        "outputId": "6dfcc3c4-08e1-42b0-8b56-54fabd194ddc"
      },
      "execution_count": 8,
      "outputs": [
        {
          "output_type": "stream",
          "name": "stderr",
          "text": [
            "/usr/local/lib/python3.12/dist-packages/torch/utils/data/dataloader.py:627: UserWarning: This DataLoader will create 4 worker processes in total. Our suggested max number of worker in current system is 2, which is smaller than what this DataLoader is going to create. Please be aware that excessive worker creation might get DataLoader running slow or even freeze, lower the worker number to avoid potential slowness/freeze if necessary.\n",
            "  warnings.warn(\n",
            "Epoch 0:   0%|          | 0/751 [00:00<?, ?batch/s]/usr/local/lib/python3.12/dist-packages/torch/utils/data/dataloader.py:666: UserWarning: 'pin_memory' argument is set as true but no accelerator is found, then device pinned memory won't be used.\n",
            "  warnings.warn(warn_msg)\n",
            "Epoch 0:   1%|          | 6/751 [00:00<00:36, 20.61batch/s, accuracy=20.3125%, loss=1.61]"
          ]
        },
        {
          "output_type": "stream",
          "name": "stdout",
          "text": [
            "GB | Epoch 0 | Loss: 1.6154820919036865 | Accuracy: 20.3125%\n",
            "GB | Epoch 0 | Loss: 1.6161824464797974 | Accuracy: 15.625%\n",
            "GB | Epoch 0 | Loss: 1.606046438217163 | Accuracy: 26.5625%\n",
            "GB | Epoch 0 | Loss: 1.6184799671173096 | Accuracy: 17.1875%\n",
            "GB | Epoch 0 | Loss: 1.6065982580184937 | Accuracy: 23.4375%\n",
            "GB | Epoch 0 | Loss: 1.6129543781280518 | Accuracy: 18.75%\n",
            "GB | Epoch 0 | Loss: 1.6218305826187134 | Accuracy: 12.5%\n",
            "GB | Epoch 0 | Loss: 1.615598201751709 | Accuracy: 20.3125%\n",
            "GB | Epoch 0 | Loss: 1.6162816286087036 | Accuracy: 18.75%\n",
            "GB | Epoch 0 | Loss: 1.6079238653182983 | Accuracy: 20.3125%\n"
          ]
        },
        {
          "output_type": "stream",
          "name": "stderr",
          "text": [
            "Epoch 0:   2%|▏         | 16/751 [00:00<00:20, 35.36batch/s, accuracy=20.3125%, loss=1.61]"
          ]
        },
        {
          "output_type": "stream",
          "name": "stdout",
          "text": [
            "GB | Epoch 0 | Loss: 1.6251025199890137 | Accuracy: 15.625%\n",
            "GB | Epoch 0 | Loss: 1.6092593669891357 | Accuracy: 18.75%\n",
            "GB | Epoch 0 | Loss: 1.602655053138733 | Accuracy: 26.5625%\n",
            "GB | Epoch 0 | Loss: 1.610275387763977 | Accuracy: 20.3125%\n",
            "GB | Epoch 0 | Loss: 1.6091235876083374 | Accuracy: 20.3125%\n",
            "GB | Epoch 0 | Loss: 1.6009323596954346 | Accuracy: 23.4375%\n",
            "GB | Epoch 0 | Loss: 1.6097906827926636 | Accuracy: 18.75%\n",
            "GB | Epoch 0 | Loss: 1.6138826608657837 | Accuracy: 18.75%\n",
            "GB | Epoch 0 | Loss: 1.6114143133163452 | Accuracy: 20.3125%\n"
          ]
        },
        {
          "output_type": "stream",
          "name": "stderr",
          "text": [
            "Epoch 0:   3%|▎         | 25/751 [00:00<00:18, 39.18batch/s, accuracy=28.125%, loss=1.6]  "
          ]
        },
        {
          "output_type": "stream",
          "name": "stdout",
          "text": [
            "GB | Epoch 0 | Loss: 1.5980710983276367 | Accuracy: 31.25%\n",
            "GB | Epoch 0 | Loss: 1.6177526712417603 | Accuracy: 14.0625%\n",
            "GB | Epoch 0 | Loss: 1.6257283687591553 | Accuracy: 9.375%\n",
            "GB | Epoch 0 | Loss: 1.6188361644744873 | Accuracy: 14.0625%\n",
            "GB | Epoch 0 | Loss: 1.6195802688598633 | Accuracy: 14.0625%\n",
            "GB | Epoch 0 | Loss: 1.6058573722839355 | Accuracy: 21.875%\n",
            "GB | Epoch 0 | Loss: 1.6134867668151855 | Accuracy: 20.3125%\n",
            "GB | Epoch 0 | Loss: 1.6137224435806274 | Accuracy: 17.1875%\n",
            "GB | Epoch 0 | Loss: 1.6083555221557617 | Accuracy: 23.4375%\n",
            "GB | Epoch 0 | Loss: 1.6026787757873535 | Accuracy: 28.125%\n"
          ]
        },
        {
          "output_type": "stream",
          "name": "stderr",
          "text": [
            "Epoch 0:   5%|▍         | 35/751 [00:01<00:16, 42.87batch/s, accuracy=18.75%, loss=1.62] "
          ]
        },
        {
          "output_type": "stream",
          "name": "stdout",
          "text": [
            "GB | Epoch 0 | Loss: 1.6079604625701904 | Accuracy: 25.0%\n",
            "GB | Epoch 0 | Loss: 1.6139219999313354 | Accuracy: 17.1875%\n",
            "GB | Epoch 0 | Loss: 1.6117359399795532 | Accuracy: 14.0625%\n",
            "GB | Epoch 0 | Loss: 1.6204888820648193 | Accuracy: 10.9375%\n",
            "GB | Epoch 0 | Loss: 1.6204071044921875 | Accuracy: 14.0625%\n",
            "GB | Epoch 0 | Loss: 1.6149320602416992 | Accuracy: 14.0625%\n",
            "GB | Epoch 0 | Loss: 1.611764669418335 | Accuracy: 18.75%\n",
            "GB | Epoch 0 | Loss: 1.6082041263580322 | Accuracy: 23.4375%\n",
            "GB | Epoch 0 | Loss: 1.603294849395752 | Accuracy: 26.5625%\n",
            "GB | Epoch 0 | Loss: 1.6170506477355957 | Accuracy: 18.75%\n"
          ]
        },
        {
          "output_type": "stream",
          "name": "stderr",
          "text": [
            "Epoch 0:   6%|▌         | 45/751 [00:01<00:15, 44.46batch/s, accuracy=15.625%, loss=1.62] "
          ]
        },
        {
          "output_type": "stream",
          "name": "stdout",
          "text": [
            "GB | Epoch 0 | Loss: 1.6093305349349976 | Accuracy: 21.875%\n",
            "GB | Epoch 0 | Loss: 1.6141512393951416 | Accuracy: 20.3125%\n",
            "GB | Epoch 0 | Loss: 1.6135607957839966 | Accuracy: 17.1875%\n",
            "GB | Epoch 0 | Loss: 1.6089797019958496 | Accuracy: 18.75%\n",
            "GB | Epoch 0 | Loss: 1.6135063171386719 | Accuracy: 15.625%\n",
            "GB | Epoch 0 | Loss: 1.615024447441101 | Accuracy: 17.1875%\n",
            "GB | Epoch 0 | Loss: 1.6147679090499878 | Accuracy: 18.75%\n",
            "GB | Epoch 0 | Loss: 1.6102004051208496 | Accuracy: 20.3125%\n",
            "GB | Epoch 0 | Loss: 1.6132183074951172 | Accuracy: 17.1875%\n",
            "GB | Epoch 0 | Loss: 1.6153367757797241 | Accuracy: 15.625%\n"
          ]
        },
        {
          "output_type": "stream",
          "name": "stderr",
          "text": [
            "Epoch 0:   7%|▋         | 55/751 [00:01<00:15, 45.10batch/s, accuracy=18.75%, loss=1.61] "
          ]
        },
        {
          "output_type": "stream",
          "name": "stdout",
          "text": [
            "GB | Epoch 0 | Loss: 1.6116853952407837 | Accuracy: 14.0625%\n",
            "GB | Epoch 0 | Loss: 1.6108677387237549 | Accuracy: 21.875%\n",
            "GB | Epoch 0 | Loss: 1.6011593341827393 | Accuracy: 26.5625%\n",
            "GB | Epoch 0 | Loss: 1.6084551811218262 | Accuracy: 18.75%\n",
            "GB | Epoch 0 | Loss: 1.611161708831787 | Accuracy: 20.3125%\n",
            "GB | Epoch 0 | Loss: 1.6106168031692505 | Accuracy: 21.875%\n",
            "GB | Epoch 0 | Loss: 1.6172008514404297 | Accuracy: 12.5%\n",
            "GB | Epoch 0 | Loss: 1.6144527196884155 | Accuracy: 17.1875%\n",
            "GB | Epoch 0 | Loss: 1.6041315793991089 | Accuracy: 26.5625%\n",
            "GB | Epoch 0 | Loss: 1.6059134006500244 | Accuracy: 18.75%\n"
          ]
        },
        {
          "output_type": "stream",
          "name": "stderr",
          "text": [
            "Epoch 0:   9%|▊         | 65/751 [00:01<00:14, 45.74batch/s, accuracy=34.375%, loss=1.59] "
          ]
        },
        {
          "output_type": "stream",
          "name": "stdout",
          "text": [
            "GB | Epoch 0 | Loss: 1.593428373336792 | Accuracy: 31.25%\n",
            "GB | Epoch 0 | Loss: 1.6106029748916626 | Accuracy: 20.3125%\n",
            "GB | Epoch 0 | Loss: 1.6059658527374268 | Accuracy: 21.875%\n",
            "GB | Epoch 0 | Loss: 1.6028966903686523 | Accuracy: 26.5625%\n",
            "GB | Epoch 0 | Loss: 1.609999179840088 | Accuracy: 17.1875%\n",
            "GB | Epoch 0 | Loss: 1.6102356910705566 | Accuracy: 17.1875%\n",
            "GB | Epoch 0 | Loss: 1.6121115684509277 | Accuracy: 20.3125%\n",
            "GB | Epoch 0 | Loss: 1.6208136081695557 | Accuracy: 12.5%\n",
            "GB | Epoch 0 | Loss: 1.6151936054229736 | Accuracy: 14.0625%\n",
            "GB | Epoch 0 | Loss: 1.5933901071548462 | Accuracy: 34.375%\n"
          ]
        },
        {
          "output_type": "stream",
          "name": "stderr",
          "text": [
            "Epoch 0:  10%|▉         | 75/751 [00:01<00:14, 46.74batch/s, accuracy=18.75%, loss=1.61]  "
          ]
        },
        {
          "output_type": "stream",
          "name": "stdout",
          "text": [
            "GB | Epoch 0 | Loss: 1.6081429719924927 | Accuracy: 21.875%\n",
            "GB | Epoch 0 | Loss: 1.6096997261047363 | Accuracy: 20.3125%\n",
            "GB | Epoch 0 | Loss: 1.613291621208191 | Accuracy: 17.1875%\n",
            "GB | Epoch 0 | Loss: 1.6114424467086792 | Accuracy: 25.0%\n",
            "GB | Epoch 0 | Loss: 1.609439492225647 | Accuracy: 15.625%\n",
            "GB | Epoch 0 | Loss: 1.6115655899047852 | Accuracy: 20.3125%\n",
            "GB | Epoch 0 | Loss: 1.600728988647461 | Accuracy: 31.25%\n",
            "GB | Epoch 0 | Loss: 1.6082289218902588 | Accuracy: 15.625%\n",
            "GB | Epoch 0 | Loss: 1.6072877645492554 | Accuracy: 18.75%\n",
            "GB | Epoch 0 | Loss: 1.613957166671753 | Accuracy: 20.3125%\n",
            "GB | Epoch 0 | Loss: 1.6128321886062622 | Accuracy: 18.75%\n"
          ]
        },
        {
          "output_type": "stream",
          "name": "stderr",
          "text": [
            "Epoch 0:  11%|█▏        | 86/751 [00:02<00:13, 48.07batch/s, accuracy=21.875%, loss=1.6]"
          ]
        },
        {
          "output_type": "stream",
          "name": "stdout",
          "text": [
            "GB | Epoch 0 | Loss: 1.6070852279663086 | Accuracy: 28.125%\n",
            "GB | Epoch 0 | Loss: 1.6073033809661865 | Accuracy: 20.3125%\n",
            "GB | Epoch 0 | Loss: 1.6150050163269043 | Accuracy: 15.625%\n",
            "GB | Epoch 0 | Loss: 1.6108194589614868 | Accuracy: 21.875%\n",
            "GB | Epoch 0 | Loss: 1.6130571365356445 | Accuracy: 14.0625%\n",
            "GB | Epoch 0 | Loss: 1.6067153215408325 | Accuracy: 23.4375%\n",
            "GB | Epoch 0 | Loss: 1.603317141532898 | Accuracy: 20.3125%\n",
            "GB | Epoch 0 | Loss: 1.6110714673995972 | Accuracy: 21.875%\n",
            "GB | Epoch 0 | Loss: 1.6132093667984009 | Accuracy: 18.75%\n",
            "GB | Epoch 0 | Loss: 1.6048533916473389 | Accuracy: 21.875%\n"
          ]
        },
        {
          "output_type": "stream",
          "name": "stderr",
          "text": [
            "Epoch 0:  13%|█▎        | 96/751 [00:02<00:13, 48.02batch/s, accuracy=25.0%, loss=1.61]"
          ]
        },
        {
          "output_type": "stream",
          "name": "stdout",
          "text": [
            "GB | Epoch 0 | Loss: 1.5952131748199463 | Accuracy: 32.8125%\n",
            "GB | Epoch 0 | Loss: 1.6081538200378418 | Accuracy: 23.4375%\n",
            "GB | Epoch 0 | Loss: 1.6149839162826538 | Accuracy: 18.75%\n",
            "GB | Epoch 0 | Loss: 1.6033602952957153 | Accuracy: 23.4375%\n",
            "GB | Epoch 0 | Loss: 1.6043200492858887 | Accuracy: 21.875%\n",
            "GB | Epoch 0 | Loss: 1.6074435710906982 | Accuracy: 17.1875%\n",
            "GB | Epoch 0 | Loss: 1.6094716787338257 | Accuracy: 20.3125%\n",
            "GB | Epoch 0 | Loss: 1.616010308265686 | Accuracy: 18.75%\n",
            "GB | Epoch 0 | Loss: 1.6083754301071167 | Accuracy: 25.0%\n",
            "GB | Epoch 0 | Loss: 1.6069257259368896 | Accuracy: 25.0%\n"
          ]
        },
        {
          "output_type": "stream",
          "name": "stderr",
          "text": [
            "Epoch 0:  14%|█▍        | 106/751 [00:02<00:13, 48.18batch/s, accuracy=15.625%, loss=1.61] "
          ]
        },
        {
          "output_type": "stream",
          "name": "stdout",
          "text": [
            "GB | Epoch 0 | Loss: 1.6096924543380737 | Accuracy: 21.875%\n",
            "GB | Epoch 0 | Loss: 1.6233495473861694 | Accuracy: 7.8125%\n",
            "GB | Epoch 0 | Loss: 1.6089874505996704 | Accuracy: 21.875%\n",
            "GB | Epoch 0 | Loss: 1.607940435409546 | Accuracy: 23.4375%\n",
            "GB | Epoch 0 | Loss: 1.6037304401397705 | Accuracy: 25.0%\n",
            "GB | Epoch 0 | Loss: 1.6108602285385132 | Accuracy: 17.1875%\n",
            "GB | Epoch 0 | Loss: 1.6078298091888428 | Accuracy: 15.625%\n",
            "GB | Epoch 0 | Loss: 1.5952550172805786 | Accuracy: 34.375%\n",
            "GB | Epoch 0 | Loss: 1.6146501302719116 | Accuracy: 14.0625%\n",
            "GB | Epoch 0 | Loss: 1.611115574836731 | Accuracy: 15.625%\n"
          ]
        },
        {
          "output_type": "stream",
          "name": "stderr",
          "text": [
            "Epoch 0:  15%|█▌        | 116/751 [00:02<00:13, 45.44batch/s, accuracy=25.0%, loss=1.6]    "
          ]
        },
        {
          "output_type": "stream",
          "name": "stdout",
          "text": [
            "GB | Epoch 0 | Loss: 1.6118355989456177 | Accuracy: 21.875%\n",
            "GB | Epoch 0 | Loss: 1.6037644147872925 | Accuracy: 26.5625%\n",
            "GB | Epoch 0 | Loss: 1.61481773853302 | Accuracy: 14.0625%\n",
            "GB | Epoch 0 | Loss: 1.6067715883255005 | Accuracy: 21.875%\n",
            "GB | Epoch 0 | Loss: 1.6189464330673218 | Accuracy: 6.25%\n",
            "GB | Epoch 0 | Loss: 1.604126214981079 | Accuracy: 23.4375%\n",
            "GB | Epoch 0 | Loss: 1.6148045063018799 | Accuracy: 18.75%\n",
            "GB | Epoch 0 | Loss: 1.6115374565124512 | Accuracy: 17.1875%\n",
            "GB | Epoch 0 | Loss: 1.6021184921264648 | Accuracy: 25.0%\n"
          ]
        },
        {
          "output_type": "stream",
          "name": "stderr",
          "text": [
            "Epoch 0:  17%|█▋        | 126/751 [00:02<00:13, 46.64batch/s, accuracy=32.8125%, loss=1.6] "
          ]
        },
        {
          "output_type": "stream",
          "name": "stdout",
          "text": [
            "GB | Epoch 0 | Loss: 1.6045281887054443 | Accuracy: 21.875%\n",
            "GB | Epoch 0 | Loss: 1.6047568321228027 | Accuracy: 28.125%\n",
            "GB | Epoch 0 | Loss: 1.617492914199829 | Accuracy: 10.9375%\n",
            "GB | Epoch 0 | Loss: 1.6102256774902344 | Accuracy: 20.3125%\n",
            "GB | Epoch 0 | Loss: 1.6074000597000122 | Accuracy: 18.75%\n",
            "GB | Epoch 0 | Loss: 1.6062636375427246 | Accuracy: 26.5625%\n",
            "GB | Epoch 0 | Loss: 1.6061819791793823 | Accuracy: 21.875%\n",
            "GB | Epoch 0 | Loss: 1.6077399253845215 | Accuracy: 18.75%\n",
            "GB | Epoch 0 | Loss: 1.6148359775543213 | Accuracy: 10.9375%\n",
            "GB | Epoch 0 | Loss: 1.5981467962265015 | Accuracy: 32.8125%\n"
          ]
        },
        {
          "output_type": "stream",
          "name": "stderr",
          "text": [
            "Epoch 0:  18%|█▊        | 136/751 [00:03<00:12, 47.39batch/s, accuracy=20.3125%, loss=1.61]"
          ]
        },
        {
          "output_type": "stream",
          "name": "stdout",
          "text": [
            "GB | Epoch 0 | Loss: 1.6046502590179443 | Accuracy: 23.4375%\n",
            "GB | Epoch 0 | Loss: 1.6117933988571167 | Accuracy: 18.75%\n",
            "GB | Epoch 0 | Loss: 1.6021441221237183 | Accuracy: 28.125%\n",
            "GB | Epoch 0 | Loss: 1.6077775955200195 | Accuracy: 25.0%\n",
            "GB | Epoch 0 | Loss: 1.6081310510635376 | Accuracy: 20.3125%\n",
            "GB | Epoch 0 | Loss: 1.607158899307251 | Accuracy: 17.1875%\n",
            "GB | Epoch 0 | Loss: 1.6111760139465332 | Accuracy: 17.1875%\n",
            "GB | Epoch 0 | Loss: 1.6090197563171387 | Accuracy: 23.4375%\n",
            "GB | Epoch 0 | Loss: 1.601223349571228 | Accuracy: 28.125%\n",
            "GB | Epoch 0 | Loss: 1.6133694648742676 | Accuracy: 20.3125%\n"
          ]
        },
        {
          "output_type": "stream",
          "name": "stderr",
          "text": [
            "Epoch 0:  19%|█▉        | 146/751 [00:03<00:12, 48.56batch/s, accuracy=15.625%, loss=1.61]"
          ]
        },
        {
          "output_type": "stream",
          "name": "stdout",
          "text": [
            "GB | Epoch 0 | Loss: 1.6088011264801025 | Accuracy: 15.625%\n",
            "GB | Epoch 0 | Loss: 1.6038744449615479 | Accuracy: 23.4375%\n",
            "GB | Epoch 0 | Loss: 1.5977586507797241 | Accuracy: 28.125%\n",
            "GB | Epoch 0 | Loss: 1.6021971702575684 | Accuracy: 26.5625%\n",
            "GB | Epoch 0 | Loss: 1.6021889448165894 | Accuracy: 21.875%\n",
            "GB | Epoch 0 | Loss: 1.6136735677719116 | Accuracy: 18.75%\n",
            "GB | Epoch 0 | Loss: 1.6108580827713013 | Accuracy: 17.1875%\n",
            "GB | Epoch 0 | Loss: 1.6113389730453491 | Accuracy: 17.1875%\n",
            "GB | Epoch 0 | Loss: 1.6106746196746826 | Accuracy: 12.5%\n",
            "GB | Epoch 0 | Loss: 1.609944462776184 | Accuracy: 15.625%\n"
          ]
        },
        {
          "output_type": "stream",
          "name": "stderr",
          "text": [
            "Epoch 0:  21%|██        | 156/751 [00:03<00:12, 48.29batch/s, accuracy=15.625%, loss=1.61] "
          ]
        },
        {
          "output_type": "stream",
          "name": "stdout",
          "text": [
            "GB | Epoch 0 | Loss: 1.6045620441436768 | Accuracy: 26.5625%\n",
            "GB | Epoch 0 | Loss: 1.6076287031173706 | Accuracy: 21.875%\n",
            "GB | Epoch 0 | Loss: 1.6060580015182495 | Accuracy: 18.75%\n",
            "GB | Epoch 0 | Loss: 1.6052061319351196 | Accuracy: 21.875%\n",
            "GB | Epoch 0 | Loss: 1.6031641960144043 | Accuracy: 26.5625%\n",
            "GB | Epoch 0 | Loss: 1.6147377490997314 | Accuracy: 15.625%\n",
            "GB | Epoch 0 | Loss: 1.6074548959732056 | Accuracy: 20.3125%\n",
            "GB | Epoch 0 | Loss: 1.6069475412368774 | Accuracy: 18.75%\n",
            "GB | Epoch 0 | Loss: 1.6145203113555908 | Accuracy: 10.9375%\n",
            "GB | Epoch 0 | Loss: 1.613513708114624 | Accuracy: 15.625%\n"
          ]
        },
        {
          "output_type": "stream",
          "name": "stderr",
          "text": [
            "Epoch 0:  22%|██▏       | 166/751 [00:03<00:12, 46.34batch/s, accuracy=15.625%, loss=1.61]"
          ]
        },
        {
          "output_type": "stream",
          "name": "stdout",
          "text": [
            "GB | Epoch 0 | Loss: 1.609217643737793 | Accuracy: 25.0%\n",
            "GB | Epoch 0 | Loss: 1.6118605136871338 | Accuracy: 15.625%\n",
            "GB | Epoch 0 | Loss: 1.608746886253357 | Accuracy: 23.4375%\n",
            "GB | Epoch 0 | Loss: 1.6044243574142456 | Accuracy: 21.875%\n",
            "GB | Epoch 0 | Loss: 1.6125890016555786 | Accuracy: 14.0625%\n",
            "GB | Epoch 0 | Loss: 1.6045470237731934 | Accuracy: 25.0%\n",
            "GB | Epoch 0 | Loss: 1.615837574005127 | Accuracy: 10.9375%\n",
            "GB | Epoch 0 | Loss: 1.6076385974884033 | Accuracy: 21.875%\n",
            "GB | Epoch 0 | Loss: 1.6071668863296509 | Accuracy: 18.75%\n"
          ]
        },
        {
          "output_type": "stream",
          "name": "stderr",
          "text": [
            "Epoch 0:  23%|██▎       | 176/751 [00:04<00:12, 46.86batch/s, accuracy=25.0%, loss=1.61]   "
          ]
        },
        {
          "output_type": "stream",
          "name": "stdout",
          "text": [
            "GB | Epoch 0 | Loss: 1.6106430292129517 | Accuracy: 15.625%\n",
            "GB | Epoch 0 | Loss: 1.6037179231643677 | Accuracy: 26.5625%\n",
            "GB | Epoch 0 | Loss: 1.6070950031280518 | Accuracy: 25.0%\n",
            "GB | Epoch 0 | Loss: 1.6060420274734497 | Accuracy: 20.3125%\n",
            "GB | Epoch 0 | Loss: 1.612281322479248 | Accuracy: 15.625%\n",
            "GB | Epoch 0 | Loss: 1.5976642370224 | Accuracy: 32.8125%\n",
            "GB | Epoch 0 | Loss: 1.6146974563598633 | Accuracy: 12.5%\n",
            "GB | Epoch 0 | Loss: 1.6018354892730713 | Accuracy: 21.875%\n",
            "GB | Epoch 0 | Loss: 1.6068453788757324 | Accuracy: 20.3125%\n",
            "GB | Epoch 0 | Loss: 1.6068997383117676 | Accuracy: 25.0%\n"
          ]
        },
        {
          "output_type": "stream",
          "name": "stderr",
          "text": [
            "Epoch 0:  25%|██▍       | 186/751 [00:04<00:11, 47.29batch/s, accuracy=18.75%, loss=1.61]"
          ]
        },
        {
          "output_type": "stream",
          "name": "stdout",
          "text": [
            "GB | Epoch 0 | Loss: 1.6117409467697144 | Accuracy: 20.3125%\n",
            "GB | Epoch 0 | Loss: 1.6045194864273071 | Accuracy: 23.4375%\n",
            "GB | Epoch 0 | Loss: 1.6037667989730835 | Accuracy: 23.4375%\n",
            "GB | Epoch 0 | Loss: 1.607142448425293 | Accuracy: 18.75%\n",
            "GB | Epoch 0 | Loss: 1.6095874309539795 | Accuracy: 20.3125%\n",
            "GB | Epoch 0 | Loss: 1.5994598865509033 | Accuracy: 28.125%\n",
            "GB | Epoch 0 | Loss: 1.6056485176086426 | Accuracy: 25.0%\n",
            "GB | Epoch 0 | Loss: 1.6061779260635376 | Accuracy: 21.875%\n",
            "GB | Epoch 0 | Loss: 1.598077416419983 | Accuracy: 31.25%\n",
            "GB | Epoch 0 | Loss: 1.6096354722976685 | Accuracy: 18.75%\n"
          ]
        },
        {
          "output_type": "stream",
          "name": "stderr",
          "text": [
            "Epoch 0:  26%|██▌       | 196/751 [00:04<00:11, 48.01batch/s, accuracy=12.5%, loss=1.61] "
          ]
        },
        {
          "output_type": "stream",
          "name": "stdout",
          "text": [
            "GB | Epoch 0 | Loss: 1.6021085977554321 | Accuracy: 25.0%\n",
            "GB | Epoch 0 | Loss: 1.607840895652771 | Accuracy: 18.75%\n",
            "GB | Epoch 0 | Loss: 1.601912498474121 | Accuracy: 21.875%\n",
            "GB | Epoch 0 | Loss: 1.6090803146362305 | Accuracy: 15.625%\n",
            "GB | Epoch 0 | Loss: 1.608320951461792 | Accuracy: 20.3125%\n",
            "GB | Epoch 0 | Loss: 1.609084963798523 | Accuracy: 21.875%\n",
            "GB | Epoch 0 | Loss: 1.6053682565689087 | Accuracy: 18.75%\n",
            "GB | Epoch 0 | Loss: 1.602650761604309 | Accuracy: 29.6875%\n",
            "GB | Epoch 0 | Loss: 1.6038224697113037 | Accuracy: 28.125%\n",
            "GB | Epoch 0 | Loss: 1.6123496294021606 | Accuracy: 12.5%\n"
          ]
        },
        {
          "output_type": "stream",
          "name": "stderr",
          "text": [
            "Epoch 0:  27%|██▋       | 206/751 [00:04<00:11, 46.97batch/s, accuracy=17.1875%, loss=1.61]"
          ]
        },
        {
          "output_type": "stream",
          "name": "stdout",
          "text": [
            "GB | Epoch 0 | Loss: 1.6070098876953125 | Accuracy: 12.5%\n",
            "GB | Epoch 0 | Loss: 1.610163927078247 | Accuracy: 15.625%\n",
            "GB | Epoch 0 | Loss: 1.6024281978607178 | Accuracy: 23.4375%\n",
            "GB | Epoch 0 | Loss: 1.6054255962371826 | Accuracy: 18.75%\n",
            "GB | Epoch 0 | Loss: 1.605393886566162 | Accuracy: 18.75%\n",
            "GB | Epoch 0 | Loss: 1.6075224876403809 | Accuracy: 18.75%\n",
            "GB | Epoch 0 | Loss: 1.6114835739135742 | Accuracy: 12.5%\n",
            "GB | Epoch 0 | Loss: 1.6044189929962158 | Accuracy: 20.3125%\n",
            "GB | Epoch 0 | Loss: 1.6002966165542603 | Accuracy: 26.5625%\n",
            "GB | Epoch 0 | Loss: 1.6095410585403442 | Accuracy: 17.1875%\n"
          ]
        },
        {
          "output_type": "stream",
          "name": "stderr",
          "text": [
            "Epoch 0:  29%|██▉       | 216/751 [00:04<00:11, 45.54batch/s, accuracy=9.375%, loss=1.62]  "
          ]
        },
        {
          "output_type": "stream",
          "name": "stdout",
          "text": [
            "GB | Epoch 0 | Loss: 1.6077384948730469 | Accuracy: 17.1875%\n",
            "GB | Epoch 0 | Loss: 1.6045032739639282 | Accuracy: 23.4375%\n",
            "GB | Epoch 0 | Loss: 1.6067562103271484 | Accuracy: 17.1875%\n",
            "GB | Epoch 0 | Loss: 1.6088582277297974 | Accuracy: 21.875%\n",
            "GB | Epoch 0 | Loss: 1.6080175638198853 | Accuracy: 12.5%\n",
            "GB | Epoch 0 | Loss: 1.6020022630691528 | Accuracy: 28.125%\n",
            "GB | Epoch 0 | Loss: 1.5972660779953003 | Accuracy: 25.0%\n",
            "GB | Epoch 0 | Loss: 1.605292558670044 | Accuracy: 20.3125%\n",
            "GB | Epoch 0 | Loss: 1.608647346496582 | Accuracy: 20.3125%\n",
            "GB | Epoch 0 | Loss: 1.6166412830352783 | Accuracy: 9.375%\n"
          ]
        },
        {
          "output_type": "stream",
          "name": "stderr",
          "text": [
            "Epoch 0:  30%|███       | 226/751 [00:05<00:11, 47.12batch/s, accuracy=18.75%, loss=1.61]"
          ]
        },
        {
          "output_type": "stream",
          "name": "stdout",
          "text": [
            "GB | Epoch 0 | Loss: 1.6065901517868042 | Accuracy: 21.875%\n",
            "GB | Epoch 0 | Loss: 1.6078144311904907 | Accuracy: 20.3125%\n",
            "GB | Epoch 0 | Loss: 1.6055891513824463 | Accuracy: 15.625%\n",
            "GB | Epoch 0 | Loss: 1.6052260398864746 | Accuracy: 17.1875%\n",
            "GB | Epoch 0 | Loss: 1.6038472652435303 | Accuracy: 25.0%\n",
            "GB | Epoch 0 | Loss: 1.6120926141738892 | Accuracy: 9.375%\n",
            "GB | Epoch 0 | Loss: 1.6148618459701538 | Accuracy: 12.5%\n",
            "GB | Epoch 0 | Loss: 1.6082642078399658 | Accuracy: 17.1875%\n",
            "GB | Epoch 0 | Loss: 1.6033015251159668 | Accuracy: 21.875%\n",
            "GB | Epoch 0 | Loss: 1.6099517345428467 | Accuracy: 18.75%\n"
          ]
        },
        {
          "output_type": "stream",
          "name": "stderr",
          "text": [
            "Epoch 0:  31%|███▏      | 236/751 [00:05<00:11, 46.74batch/s, accuracy=18.75%, loss=1.61]  "
          ]
        },
        {
          "output_type": "stream",
          "name": "stdout",
          "text": [
            "GB | Epoch 0 | Loss: 1.6108002662658691 | Accuracy: 17.1875%\n",
            "GB | Epoch 0 | Loss: 1.6066311597824097 | Accuracy: 20.3125%\n",
            "GB | Epoch 0 | Loss: 1.609747290611267 | Accuracy: 14.0625%\n",
            "GB | Epoch 0 | Loss: 1.6054198741912842 | Accuracy: 25.0%\n",
            "GB | Epoch 0 | Loss: 1.6099578142166138 | Accuracy: 20.3125%\n",
            "GB | Epoch 0 | Loss: 1.5997941493988037 | Accuracy: 31.25%\n",
            "GB | Epoch 0 | Loss: 1.6102948188781738 | Accuracy: 14.0625%\n",
            "GB | Epoch 0 | Loss: 1.6028387546539307 | Accuracy: 18.75%\n",
            "GB | Epoch 0 | Loss: 1.615373134613037 | Accuracy: 17.1875%\n",
            "GB | Epoch 0 | Loss: 1.6076655387878418 | Accuracy: 18.75%\n"
          ]
        },
        {
          "output_type": "stream",
          "name": "stderr",
          "text": [
            "Epoch 0:  33%|███▎      | 246/751 [00:05<00:10, 47.19batch/s, accuracy=32.8125%, loss=1.6]"
          ]
        },
        {
          "output_type": "stream",
          "name": "stdout",
          "text": [
            "GB | Epoch 0 | Loss: 1.6088662147521973 | Accuracy: 14.0625%\n",
            "GB | Epoch 0 | Loss: 1.6012969017028809 | Accuracy: 26.5625%\n",
            "GB | Epoch 0 | Loss: 1.605303168296814 | Accuracy: 18.75%\n",
            "GB | Epoch 0 | Loss: 1.60586678981781 | Accuracy: 20.3125%\n",
            "GB | Epoch 0 | Loss: 1.60414457321167 | Accuracy: 26.5625%\n",
            "GB | Epoch 0 | Loss: 1.6014013290405273 | Accuracy: 26.5625%\n",
            "GB | Epoch 0 | Loss: 1.6035213470458984 | Accuracy: 25.0%\n",
            "GB | Epoch 0 | Loss: 1.6151318550109863 | Accuracy: 15.625%\n",
            "GB | Epoch 0 | Loss: 1.604538917541504 | Accuracy: 21.875%\n",
            "GB | Epoch 0 | Loss: 1.5972084999084473 | Accuracy: 32.8125%\n"
          ]
        },
        {
          "output_type": "stream",
          "name": "stderr",
          "text": [
            "Epoch 0:  34%|███▍      | 256/751 [00:05<00:10, 47.30batch/s, accuracy=14.0625%, loss=1.61]"
          ]
        },
        {
          "output_type": "stream",
          "name": "stdout",
          "text": [
            "GB | Epoch 0 | Loss: 1.6020032167434692 | Accuracy: 26.5625%\n",
            "GB | Epoch 0 | Loss: 1.608802080154419 | Accuracy: 20.3125%\n",
            "GB | Epoch 0 | Loss: 1.5972893238067627 | Accuracy: 25.0%\n",
            "GB | Epoch 0 | Loss: 1.605645775794983 | Accuracy: 20.3125%\n",
            "GB | Epoch 0 | Loss: 1.6019606590270996 | Accuracy: 26.5625%\n",
            "GB | Epoch 0 | Loss: 1.6027270555496216 | Accuracy: 23.4375%\n",
            "GB | Epoch 0 | Loss: 1.6026278734207153 | Accuracy: 26.5625%\n",
            "GB | Epoch 0 | Loss: 1.6086772680282593 | Accuracy: 20.3125%\n",
            "GB | Epoch 0 | Loss: 1.603229284286499 | Accuracy: 17.1875%\n",
            "GB | Epoch 0 | Loss: 1.6073641777038574 | Accuracy: 14.0625%\n"
          ]
        },
        {
          "output_type": "stream",
          "name": "stderr",
          "text": [
            "Epoch 0:  35%|███▌      | 266/751 [00:05<00:10, 44.61batch/s, accuracy=18.75%, loss=1.61]  "
          ]
        },
        {
          "output_type": "stream",
          "name": "stdout",
          "text": [
            "GB | Epoch 0 | Loss: 1.6048738956451416 | Accuracy: 25.0%\n",
            "GB | Epoch 0 | Loss: 1.5977287292480469 | Accuracy: 32.8125%\n",
            "GB | Epoch 0 | Loss: 1.60540771484375 | Accuracy: 21.875%\n",
            "GB | Epoch 0 | Loss: 1.6079872846603394 | Accuracy: 23.4375%\n",
            "GB | Epoch 0 | Loss: 1.5998053550720215 | Accuracy: 28.125%\n",
            "GB | Epoch 0 | Loss: 1.5979264974594116 | Accuracy: 28.125%\n",
            "GB | Epoch 0 | Loss: 1.6024409532546997 | Accuracy: 23.4375%\n",
            "GB | Epoch 0 | Loss: 1.6099278926849365 | Accuracy: 17.1875%\n",
            "GB | Epoch 0 | Loss: 1.6068886518478394 | Accuracy: 18.75%\n"
          ]
        },
        {
          "output_type": "stream",
          "name": "stderr",
          "text": [
            "Epoch 0:  37%|███▋      | 276/751 [00:06<00:10, 46.19batch/s, accuracy=25.0%, loss=1.6]    "
          ]
        },
        {
          "output_type": "stream",
          "name": "stdout",
          "text": [
            "GB | Epoch 0 | Loss: 1.608289122581482 | Accuracy: 14.0625%\n",
            "GB | Epoch 0 | Loss: 1.6017236709594727 | Accuracy: 21.875%\n",
            "GB | Epoch 0 | Loss: 1.6078391075134277 | Accuracy: 15.625%\n",
            "GB | Epoch 0 | Loss: 1.6059248447418213 | Accuracy: 18.75%\n",
            "GB | Epoch 0 | Loss: 1.6049202680587769 | Accuracy: 18.75%\n",
            "GB | Epoch 0 | Loss: 1.6061136722564697 | Accuracy: 20.3125%\n",
            "GB | Epoch 0 | Loss: 1.6060097217559814 | Accuracy: 21.875%\n",
            "GB | Epoch 0 | Loss: 1.602110505104065 | Accuracy: 26.5625%\n",
            "GB | Epoch 0 | Loss: 1.6102910041809082 | Accuracy: 10.9375%\n",
            "GB | Epoch 0 | Loss: 1.5997921228408813 | Accuracy: 25.0%\n"
          ]
        },
        {
          "output_type": "stream",
          "name": "stderr",
          "text": [
            "Epoch 0:  38%|███▊      | 286/751 [00:06<00:10, 46.31batch/s, accuracy=29.6875%, loss=1.6]"
          ]
        },
        {
          "output_type": "stream",
          "name": "stdout",
          "text": [
            "GB | Epoch 0 | Loss: 1.6033879518508911 | Accuracy: 23.4375%\n",
            "GB | Epoch 0 | Loss: 1.6017569303512573 | Accuracy: 29.6875%\n",
            "GB | Epoch 0 | Loss: 1.6073442697525024 | Accuracy: 20.3125%\n",
            "GB | Epoch 0 | Loss: 1.5992532968521118 | Accuracy: 28.125%\n",
            "GB | Epoch 0 | Loss: 1.608903408050537 | Accuracy: 17.1875%\n",
            "GB | Epoch 0 | Loss: 1.6062275171279907 | Accuracy: 20.3125%\n",
            "GB | Epoch 0 | Loss: 1.6165932416915894 | Accuracy: 9.375%\n",
            "GB | Epoch 0 | Loss: 1.5976520776748657 | Accuracy: 31.25%\n",
            "GB | Epoch 0 | Loss: 1.6099344491958618 | Accuracy: 15.625%\n",
            "GB | Epoch 0 | Loss: 1.6016757488250732 | Accuracy: 29.6875%\n"
          ]
        },
        {
          "output_type": "stream",
          "name": "stderr",
          "text": [
            "Epoch 0:  39%|███▉      | 296/751 [00:06<00:09, 46.23batch/s, accuracy=12.5%, loss=1.61]  "
          ]
        },
        {
          "output_type": "stream",
          "name": "stdout",
          "text": [
            "GB | Epoch 0 | Loss: 1.6056208610534668 | Accuracy: 25.0%\n",
            "GB | Epoch 0 | Loss: 1.5945546627044678 | Accuracy: 28.125%\n",
            "GB | Epoch 0 | Loss: 1.6046591997146606 | Accuracy: 20.3125%\n",
            "GB | Epoch 0 | Loss: 1.6086889505386353 | Accuracy: 20.3125%\n",
            "GB | Epoch 0 | Loss: 1.5968077182769775 | Accuracy: 26.5625%\n",
            "GB | Epoch 0 | Loss: 1.6088744401931763 | Accuracy: 18.75%\n",
            "GB | Epoch 0 | Loss: 1.6069477796554565 | Accuracy: 21.875%\n",
            "GB | Epoch 0 | Loss: 1.605994701385498 | Accuracy: 23.4375%\n",
            "GB | Epoch 0 | Loss: 1.6079161167144775 | Accuracy: 21.875%\n",
            "GB | Epoch 0 | Loss: 1.6144990921020508 | Accuracy: 12.5%\n"
          ]
        },
        {
          "output_type": "stream",
          "name": "stderr",
          "text": [
            "Epoch 0:  40%|████      | 301/751 [00:06<00:09, 46.39batch/s, accuracy=23.4375%, loss=1.6]"
          ]
        },
        {
          "output_type": "stream",
          "name": "stdout",
          "text": [
            "GB | Epoch 0 | Loss: 1.60306978225708 | Accuracy: 20.3125%\n",
            "GB | Epoch 0 | Loss: 1.6024643182754517 | Accuracy: 21.875%\n",
            "GB | Epoch 0 | Loss: 1.6000080108642578 | Accuracy: 23.4375%\n",
            "GB | Epoch 0 | Loss: 1.6096694469451904 | Accuracy: 23.4375%\n",
            "GB | Epoch 0 | Loss: 1.5999548435211182 | Accuracy: 25.0%\n",
            "GB | Epoch 0 | Loss: 1.6084649562835693 | Accuracy: 15.625%\n",
            "GB | Epoch 0 | Loss: 1.6030898094177246 | Accuracy: 26.5625%\n",
            "GB | Epoch 0 | Loss: 1.5980825424194336 | Accuracy: 23.4375%\n"
          ]
        },
        {
          "output_type": "stream",
          "name": "stderr",
          "text": [
            "Epoch 0:  41%|████      | 306/751 [00:07<00:13, 32.89batch/s, accuracy=15.625%, loss=1.61]"
          ]
        },
        {
          "output_type": "stream",
          "name": "stdout",
          "text": [
            "GB | Epoch 0 | Loss: 1.6023527383804321 | Accuracy: 29.6875%\n",
            "GB | Epoch 0 | Loss: 1.6082149744033813 | Accuracy: 15.625%\n"
          ]
        },
        {
          "output_type": "stream",
          "name": "stderr",
          "text": [
            "Epoch 0:  41%|████▏     | 310/751 [00:07<00:21, 20.56batch/s, accuracy=20.3125%, loss=1.61]"
          ]
        },
        {
          "output_type": "stream",
          "name": "stdout",
          "text": [
            "GB | Epoch 0 | Loss: 1.6061291694641113 | Accuracy: 14.0625%\n",
            "GB | Epoch 0 | Loss: 1.6010502576828003 | Accuracy: 26.5625%\n",
            "GB | Epoch 0 | Loss: 1.6093425750732422 | Accuracy: 20.3125%\n"
          ]
        },
        {
          "output_type": "stream",
          "name": "stderr",
          "text": [
            "Epoch 0:  42%|████▏     | 313/751 [00:07<00:23, 18.79batch/s, accuracy=25.0%, loss=1.6]"
          ]
        },
        {
          "output_type": "stream",
          "name": "stdout",
          "text": [
            "GB | Epoch 0 | Loss: 1.607670783996582 | Accuracy: 14.0625%\n",
            "GB | Epoch 0 | Loss: 1.604404091835022 | Accuracy: 21.875%\n",
            "GB | Epoch 0 | Loss: 1.6009947061538696 | Accuracy: 25.0%\n"
          ]
        },
        {
          "output_type": "stream",
          "name": "stderr",
          "text": [
            "Epoch 0:  42%|████▏     | 316/751 [00:07<00:27, 16.07batch/s, accuracy=26.5625%, loss=1.6]"
          ]
        },
        {
          "output_type": "stream",
          "name": "stdout",
          "text": [
            "GB | Epoch 0 | Loss: 1.606603980064392 | Accuracy: 15.625%\n",
            "GB | Epoch 0 | Loss: 1.611513376235962 | Accuracy: 9.375%\n",
            "GB | Epoch 0 | Loss: 1.6032801866531372 | Accuracy: 26.5625%\n"
          ]
        },
        {
          "output_type": "stream",
          "name": "stderr",
          "text": [
            "Epoch 0:  42%|████▏     | 316/751 [00:08<00:27, 16.07batch/s, accuracy=20.3125%, loss=1.61]"
          ]
        },
        {
          "output_type": "stream",
          "name": "stdout",
          "text": [
            "GB | Epoch 0 | Loss: 1.6090877056121826 | Accuracy: 17.1875%\n",
            "GB | Epoch 0 | Loss: 1.6087487936019897 | Accuracy: 20.3125%\n"
          ]
        },
        {
          "output_type": "stream",
          "name": "stderr",
          "text": [
            "Epoch 0:  43%|████▎     | 322/751 [00:08<00:28, 15.18batch/s, accuracy=20.3125%, loss=1.61]"
          ]
        },
        {
          "output_type": "stream",
          "name": "stdout",
          "text": [
            "GB | Epoch 0 | Loss: 1.607211947441101 | Accuracy: 17.1875%\n",
            "GB | Epoch 0 | Loss: 1.6097967624664307 | Accuracy: 18.75%\n",
            "GB | Epoch 0 | Loss: 1.6083369255065918 | Accuracy: 25.0%\n",
            "GB | Epoch 0 | Loss: 1.6052213907241821 | Accuracy: 20.3125%\n"
          ]
        },
        {
          "output_type": "stream",
          "name": "stderr",
          "text": [
            "Epoch 0:  43%|████▎     | 324/751 [00:08<00:35, 12.12batch/s, accuracy=28.125%, loss=1.6]"
          ]
        },
        {
          "output_type": "stream",
          "name": "stdout",
          "text": [
            "GB | Epoch 0 | Loss: 1.611580729484558 | Accuracy: 18.75%\n",
            "GB | Epoch 0 | Loss: 1.602933645248413 | Accuracy: 28.125%\n"
          ]
        },
        {
          "output_type": "stream",
          "name": "stderr",
          "text": [
            "Epoch 0:  43%|████▎     | 326/751 [00:08<00:43,  9.75batch/s, accuracy=25.0%, loss=1.6]"
          ]
        },
        {
          "output_type": "stream",
          "name": "stdout",
          "text": [
            "GB | Epoch 0 | Loss: 1.603495478630066 | Accuracy: 23.4375%\n",
            "GB | Epoch 0 | Loss: 1.6041314601898193 | Accuracy: 25.0%\n"
          ]
        },
        {
          "output_type": "stream",
          "name": "stderr",
          "text": [
            "Epoch 0:  44%|████▎     | 328/751 [00:09<00:50,  8.37batch/s, accuracy=25.0%, loss=1.61]"
          ]
        },
        {
          "output_type": "stream",
          "name": "stdout",
          "text": [
            "GB | Epoch 0 | Loss: 1.5993216037750244 | Accuracy: 34.375%\n",
            "GB | Epoch 0 | Loss: 1.6089802980422974 | Accuracy: 25.0%\n"
          ]
        },
        {
          "output_type": "stream",
          "name": "stderr",
          "text": [
            "Epoch 0:  44%|████▍     | 330/751 [00:09<00:55,  7.59batch/s, accuracy=20.3125%, loss=1.61]"
          ]
        },
        {
          "output_type": "stream",
          "name": "stdout",
          "text": [
            "GB | Epoch 0 | Loss: 1.6047351360321045 | Accuracy: 25.0%\n",
            "GB | Epoch 0 | Loss: 1.6101572513580322 | Accuracy: 20.3125%\n"
          ]
        },
        {
          "output_type": "stream",
          "name": "stderr",
          "text": [
            "Epoch 0:  44%|████▍     | 332/751 [00:09<01:00,  6.90batch/s, accuracy=31.25%, loss=1.59]"
          ]
        },
        {
          "output_type": "stream",
          "name": "stdout",
          "text": [
            "GB | Epoch 0 | Loss: 1.6033047437667847 | Accuracy: 25.0%\n",
            "GB | Epoch 0 | Loss: 1.5949370861053467 | Accuracy: 31.25%\n"
          ]
        },
        {
          "output_type": "stream",
          "name": "stderr",
          "text": [
            "Epoch 0:  44%|████▍     | 334/751 [00:10<01:03,  6.59batch/s, accuracy=23.4375%, loss=1.6]"
          ]
        },
        {
          "output_type": "stream",
          "name": "stdout",
          "text": [
            "GB | Epoch 0 | Loss: 1.6030291318893433 | Accuracy: 26.5625%\n",
            "GB | Epoch 0 | Loss: 1.601921796798706 | Accuracy: 23.4375%\n"
          ]
        },
        {
          "output_type": "stream",
          "name": "stderr",
          "text": [
            "Epoch 0:  45%|████▍     | 337/751 [00:10<00:50,  8.20batch/s, accuracy=26.5625%, loss=1.61]"
          ]
        },
        {
          "output_type": "stream",
          "name": "stdout",
          "text": [
            "GB | Epoch 0 | Loss: 1.605319619178772 | Accuracy: 21.875%\n",
            "GB | Epoch 0 | Loss: 1.6077604293823242 | Accuracy: 23.4375%\n",
            "GB | Epoch 0 | Loss: 1.6077890396118164 | Accuracy: 26.5625%\n"
          ]
        },
        {
          "output_type": "stream",
          "name": "stderr",
          "text": [
            "Epoch 0:  45%|████▌     | 339/751 [00:10<00:47,  8.63batch/s, accuracy=31.25%, loss=1.6]"
          ]
        },
        {
          "output_type": "stream",
          "name": "stdout",
          "text": [
            "GB | Epoch 0 | Loss: 1.5980794429779053 | Accuracy: 32.8125%\n",
            "GB | Epoch 0 | Loss: 1.603358268737793 | Accuracy: 31.25%\n"
          ]
        },
        {
          "output_type": "stream",
          "name": "stderr",
          "text": [
            "Epoch 0:  45%|████▌     | 341/751 [00:11<00:48,  8.48batch/s, accuracy=26.5625%, loss=1.61]"
          ]
        },
        {
          "output_type": "stream",
          "name": "stdout",
          "text": [
            "GB | Epoch 0 | Loss: 1.599732756614685 | Accuracy: 31.25%\n",
            "GB | Epoch 0 | Loss: 1.6061073541641235 | Accuracy: 26.5625%\n"
          ]
        },
        {
          "output_type": "stream",
          "name": "stderr",
          "text": [
            "Epoch 0:  46%|████▌     | 343/751 [00:11<00:51,  7.86batch/s, accuracy=25.0%, loss=1.6]"
          ]
        },
        {
          "output_type": "stream",
          "name": "stdout",
          "text": [
            "GB | Epoch 0 | Loss: 1.6040666103363037 | Accuracy: 26.5625%\n",
            "GB | Epoch 0 | Loss: 1.6013013124465942 | Accuracy: 25.0%\n"
          ]
        },
        {
          "output_type": "stream",
          "name": "stderr",
          "text": [
            "Epoch 0:  46%|████▌     | 345/751 [00:11<00:53,  7.52batch/s, accuracy=29.6875%, loss=1.61]"
          ]
        },
        {
          "output_type": "stream",
          "name": "stdout",
          "text": [
            "GB | Epoch 0 | Loss: 1.5991246700286865 | Accuracy: 31.25%\n",
            "GB | Epoch 0 | Loss: 1.598326563835144 | Accuracy: 31.25%\n",
            "GB | Epoch 0 | Loss: 1.6090214252471924 | Accuracy: 29.6875%\n"
          ]
        },
        {
          "output_type": "stream",
          "name": "stderr",
          "text": [
            "Epoch 0:  46%|████▋     | 349/751 [00:11<00:40,  9.94batch/s, accuracy=28.125%, loss=1.6]"
          ]
        },
        {
          "output_type": "stream",
          "name": "stdout",
          "text": [
            "GB | Epoch 0 | Loss: 1.6083136796951294 | Accuracy: 21.875%\n",
            "GB | Epoch 0 | Loss: 1.6021965742111206 | Accuracy: 28.125%\n",
            "GB | Epoch 0 | Loss: 1.604300618171692 | Accuracy: 28.125%\n"
          ]
        },
        {
          "output_type": "stream",
          "name": "stderr",
          "text": [
            "Epoch 0:  47%|████▋     | 353/751 [00:12<00:30, 13.02batch/s, accuracy=28.125%, loss=1.61]"
          ]
        },
        {
          "output_type": "stream",
          "name": "stdout",
          "text": [
            "GB | Epoch 0 | Loss: 1.604118824005127 | Accuracy: 29.6875%\n",
            "GB | Epoch 0 | Loss: 1.607255458831787 | Accuracy: 20.3125%\n",
            "GB | Epoch 0 | Loss: 1.5936745405197144 | Accuracy: 37.5%\n",
            "GB | Epoch 0 | Loss: 1.6054795980453491 | Accuracy: 28.125%\n"
          ]
        },
        {
          "output_type": "stream",
          "name": "stderr",
          "text": [
            "Epoch 0:  48%|████▊     | 357/751 [00:12<00:30, 13.03batch/s, accuracy=26.5625%, loss=1.6]"
          ]
        },
        {
          "output_type": "stream",
          "name": "stdout",
          "text": [
            "GB | Epoch 0 | Loss: 1.6040107011795044 | Accuracy: 29.6875%\n",
            "GB | Epoch 0 | Loss: 1.6025575399398804 | Accuracy: 26.5625%\n",
            "GB | Epoch 0 | Loss: 1.5980372428894043 | Accuracy: 34.375%\n",
            "GB | Epoch 0 | Loss: 1.6016687154769897 | Accuracy: 26.5625%\n"
          ]
        },
        {
          "output_type": "stream",
          "name": "stderr",
          "text": [
            "Epoch 0:  48%|████▊     | 359/751 [00:12<00:29, 13.26batch/s, accuracy=29.6875%, loss=1.6]"
          ]
        },
        {
          "output_type": "stream",
          "name": "stdout",
          "text": [
            "GB | Epoch 0 | Loss: 1.5975725650787354 | Accuracy: 28.125%\n",
            "GB | Epoch 0 | Loss: 1.602838397026062 | Accuracy: 28.125%\n",
            "GB | Epoch 0 | Loss: 1.6032687425613403 | Accuracy: 29.6875%\n"
          ]
        },
        {
          "output_type": "stream",
          "name": "stderr",
          "text": [
            "Epoch 0:  48%|████▊     | 361/751 [00:12<00:30, 12.75batch/s, accuracy=25.0%, loss=1.6]   "
          ]
        },
        {
          "output_type": "stream",
          "name": "stdout",
          "text": [
            "GB | Epoch 0 | Loss: 1.6037681102752686 | Accuracy: 26.5625%\n",
            "GB | Epoch 0 | Loss: 1.6025447845458984 | Accuracy: 25.0%\n"
          ]
        },
        {
          "output_type": "stream",
          "name": "stderr",
          "text": [
            "Epoch 0:  48%|████▊     | 363/751 [00:13<00:34, 11.30batch/s, accuracy=26.5625%, loss=1.6]"
          ]
        },
        {
          "output_type": "stream",
          "name": "stdout",
          "text": [
            "GB | Epoch 0 | Loss: 1.6081762313842773 | Accuracy: 25.0%\n",
            "GB | Epoch 0 | Loss: 1.607568383216858 | Accuracy: 25.0%\n"
          ]
        },
        {
          "output_type": "stream",
          "name": "stderr",
          "text": [
            "Epoch 0:  49%|████▊     | 365/751 [00:13<00:36, 10.71batch/s, accuracy=26.5625%, loss=1.61]"
          ]
        },
        {
          "output_type": "stream",
          "name": "stdout",
          "text": [
            "GB | Epoch 0 | Loss: 1.6030250787734985 | Accuracy: 26.5625%\n",
            "GB | Epoch 0 | Loss: 1.602409839630127 | Accuracy: 31.25%\n"
          ]
        },
        {
          "output_type": "stream",
          "name": "stderr",
          "text": [
            "Epoch 0:  49%|████▉     | 367/751 [00:13<00:37, 10.34batch/s, accuracy=28.125%, loss=1.6]  "
          ]
        },
        {
          "output_type": "stream",
          "name": "stdout",
          "text": [
            "GB | Epoch 0 | Loss: 1.6087241172790527 | Accuracy: 26.5625%\n",
            "GB | Epoch 0 | Loss: 1.6009705066680908 | Accuracy: 28.125%\n"
          ]
        },
        {
          "output_type": "stream",
          "name": "stderr",
          "text": [
            "Epoch 0:  49%|████▉     | 371/751 [00:13<00:39,  9.64batch/s, accuracy=35.9375%, loss=1.6]"
          ]
        },
        {
          "output_type": "stream",
          "name": "stdout",
          "text": [
            "GB | Epoch 0 | Loss: 1.5969792604446411 | Accuracy: 35.9375%\n",
            "GB | Epoch 0 | Loss: 1.6071257591247559 | Accuracy: 25.0%\n",
            "GB | Epoch 0 | Loss: 1.5975322723388672 | Accuracy: 35.9375%\n"
          ]
        },
        {
          "output_type": "stream",
          "name": "stderr",
          "text": [
            "Epoch 0:  50%|████▉     | 373/751 [00:14<00:40,  9.33batch/s, accuracy=21.875%, loss=1.6]"
          ]
        },
        {
          "output_type": "stream",
          "name": "stdout",
          "text": [
            "GB | Epoch 0 | Loss: 1.5874059200286865 | Accuracy: 48.4375%\n",
            "GB | Epoch 0 | Loss: 1.6027517318725586 | Accuracy: 21.875%\n"
          ]
        },
        {
          "output_type": "stream",
          "name": "stderr",
          "text": [
            "Epoch 0:  50%|████▉     | 375/751 [00:14<00:43,  8.73batch/s, accuracy=34.375%, loss=1.6]"
          ]
        },
        {
          "output_type": "stream",
          "name": "stdout",
          "text": [
            "GB | Epoch 0 | Loss: 1.6019009351730347 | Accuracy: 32.8125%\n",
            "GB | Epoch 0 | Loss: 1.5991631746292114 | Accuracy: 34.375%\n"
          ]
        },
        {
          "output_type": "stream",
          "name": "stderr",
          "text": [
            "Epoch 0:  50%|█████     | 378/751 [00:14<00:41,  8.95batch/s, accuracy=23.4375%, loss=1.6]"
          ]
        },
        {
          "output_type": "stream",
          "name": "stdout",
          "text": [
            "GB | Epoch 0 | Loss: 1.6010240316390991 | Accuracy: 32.8125%\n",
            "GB | Epoch 0 | Loss: 1.6052651405334473 | Accuracy: 31.25%\n",
            "GB | Epoch 0 | Loss: 1.6034345626831055 | Accuracy: 23.4375%\n"
          ]
        },
        {
          "output_type": "stream",
          "name": "stderr",
          "text": [
            "Epoch 0:  51%|█████     | 381/751 [00:15<00:38,  9.61batch/s, accuracy=20.3125%, loss=1.6]"
          ]
        },
        {
          "output_type": "stream",
          "name": "stdout",
          "text": [
            "GB | Epoch 0 | Loss: 1.5989582538604736 | Accuracy: 26.5625%\n",
            "GB | Epoch 0 | Loss: 1.599772572517395 | Accuracy: 28.125%\n",
            "GB | Epoch 0 | Loss: 1.6034116744995117 | Accuracy: 20.3125%\n"
          ]
        },
        {
          "output_type": "stream",
          "name": "stderr",
          "text": [
            "Epoch 0:  51%|█████     | 384/751 [00:15<00:34, 10.51batch/s, accuracy=23.4375%, loss=1.61]"
          ]
        },
        {
          "output_type": "stream",
          "name": "stdout",
          "text": [
            "GB | Epoch 0 | Loss: 1.60179603099823 | Accuracy: 28.125%\n",
            "GB | Epoch 0 | Loss: 1.599340796470642 | Accuracy: 35.9375%\n",
            "GB | Epoch 0 | Loss: 1.60750150680542 | Accuracy: 23.4375%\n"
          ]
        },
        {
          "output_type": "stream",
          "name": "stderr",
          "text": [
            "Epoch 0:  51%|█████▏    | 386/751 [00:15<00:38,  9.58batch/s, accuracy=42.1875%, loss=1.6]"
          ]
        },
        {
          "output_type": "stream",
          "name": "stdout",
          "text": [
            "GB | Epoch 0 | Loss: 1.605560064315796 | Accuracy: 21.875%\n",
            "GB | Epoch 0 | Loss: 1.5976186990737915 | Accuracy: 42.1875%\n"
          ]
        },
        {
          "output_type": "stream",
          "name": "stderr",
          "text": [
            "Epoch 0:  52%|█████▏    | 388/751 [00:15<00:42,  8.50batch/s, accuracy=25.0%, loss=1.61]"
          ]
        },
        {
          "output_type": "stream",
          "name": "stdout",
          "text": [
            "GB | Epoch 0 | Loss: 1.6016772985458374 | Accuracy: 32.8125%\n",
            "GB | Epoch 0 | Loss: 1.6075655221939087 | Accuracy: 25.0%\n"
          ]
        },
        {
          "output_type": "stream",
          "name": "stderr",
          "text": [
            "Epoch 0:  52%|█████▏    | 391/751 [00:16<00:38,  9.29batch/s, accuracy=31.25%, loss=1.6]"
          ]
        },
        {
          "output_type": "stream",
          "name": "stdout",
          "text": [
            "GB | Epoch 0 | Loss: 1.599841833114624 | Accuracy: 34.375%\n",
            "GB | Epoch 0 | Loss: 1.599961519241333 | Accuracy: 29.6875%\n",
            "GB | Epoch 0 | Loss: 1.5985782146453857 | Accuracy: 31.25%\n"
          ]
        },
        {
          "output_type": "stream",
          "name": "stderr",
          "text": [
            "Epoch 0:  52%|█████▏    | 393/751 [00:16<00:40,  8.86batch/s, accuracy=18.75%, loss=1.61]"
          ]
        },
        {
          "output_type": "stream",
          "name": "stdout",
          "text": [
            "GB | Epoch 0 | Loss: 1.5979762077331543 | Accuracy: 34.375%\n",
            "GB | Epoch 0 | Loss: 1.610525131225586 | Accuracy: 18.75%\n"
          ]
        },
        {
          "output_type": "stream",
          "name": "stderr",
          "text": [
            "Epoch 0:  53%|█████▎    | 395/751 [00:16<00:41,  8.53batch/s, accuracy=29.6875%, loss=1.6]"
          ]
        },
        {
          "output_type": "stream",
          "name": "stdout",
          "text": [
            "GB | Epoch 0 | Loss: 1.6096947193145752 | Accuracy: 15.625%\n",
            "GB | Epoch 0 | Loss: 1.5961579084396362 | Accuracy: 29.6875%\n"
          ]
        },
        {
          "output_type": "stream",
          "name": "stderr",
          "text": [
            "Epoch 0:  53%|█████▎    | 397/751 [00:16<00:40,  8.71batch/s, accuracy=26.5625%, loss=1.6]"
          ]
        },
        {
          "output_type": "stream",
          "name": "stdout",
          "text": [
            "GB | Epoch 0 | Loss: 1.6054524183273315 | Accuracy: 23.4375%\n",
            "GB | Epoch 0 | Loss: 1.597367525100708 | Accuracy: 26.5625%\n"
          ]
        },
        {
          "output_type": "stream",
          "name": "stderr",
          "text": [
            "Epoch 0:  53%|█████▎    | 399/751 [00:17<00:42,  8.30batch/s, accuracy=21.875%, loss=1.61]"
          ]
        },
        {
          "output_type": "stream",
          "name": "stdout",
          "text": [
            "GB | Epoch 0 | Loss: 1.6018078327178955 | Accuracy: 28.125%\n",
            "GB | Epoch 0 | Loss: 1.6063584089279175 | Accuracy: 21.875%\n"
          ]
        },
        {
          "output_type": "stream",
          "name": "stderr",
          "text": [
            "Epoch 0:  53%|█████▎    | 401/751 [00:17<00:46,  7.45batch/s, accuracy=31.25%, loss=1.6]"
          ]
        },
        {
          "output_type": "stream",
          "name": "stdout",
          "text": [
            "GB | Epoch 0 | Loss: 1.5975531339645386 | Accuracy: 28.125%\n",
            "GB | Epoch 0 | Loss: 1.5950992107391357 | Accuracy: 31.25%\n"
          ]
        },
        {
          "output_type": "stream",
          "name": "stderr",
          "text": [
            "Epoch 0:  54%|█████▎    | 403/751 [00:17<00:44,  7.83batch/s, accuracy=25.0%, loss=1.6]"
          ]
        },
        {
          "output_type": "stream",
          "name": "stdout",
          "text": [
            "GB | Epoch 0 | Loss: 1.6038299798965454 | Accuracy: 23.4375%\n",
            "GB | Epoch 0 | Loss: 1.6031488180160522 | Accuracy: 25.0%\n"
          ]
        },
        {
          "output_type": "stream",
          "name": "stderr",
          "text": [
            "Epoch 0:  54%|█████▍    | 406/751 [00:17<00:34, 10.14batch/s, accuracy=25.0%, loss=1.6]"
          ]
        },
        {
          "output_type": "stream",
          "name": "stdout",
          "text": [
            "GB | Epoch 0 | Loss: 1.6041395664215088 | Accuracy: 20.3125%\n",
            "GB | Epoch 0 | Loss: 1.5988186597824097 | Accuracy: 25.0%\n",
            "GB | Epoch 0 | Loss: 1.6041709184646606 | Accuracy: 25.0%\n"
          ]
        },
        {
          "output_type": "stream",
          "name": "stderr",
          "text": [
            "Epoch 0:  54%|█████▍    | 408/751 [00:18<00:36,  9.29batch/s, accuracy=35.9375%, loss=1.6]"
          ]
        },
        {
          "output_type": "stream",
          "name": "stdout",
          "text": [
            "GB | Epoch 0 | Loss: 1.6066352128982544 | Accuracy: 25.0%\n",
            "GB | Epoch 0 | Loss: 1.5961267948150635 | Accuracy: 35.9375%\n"
          ]
        },
        {
          "output_type": "stream",
          "name": "stderr",
          "text": [
            "Epoch 0:  55%|█████▍    | 410/751 [00:18<00:38,  8.89batch/s, accuracy=26.5625%, loss=1.6]"
          ]
        },
        {
          "output_type": "stream",
          "name": "stdout",
          "text": [
            "GB | Epoch 0 | Loss: 1.5970954895019531 | Accuracy: 29.6875%\n",
            "GB | Epoch 0 | Loss: 1.5982050895690918 | Accuracy: 26.5625%\n"
          ]
        },
        {
          "output_type": "stream",
          "name": "stderr",
          "text": [
            "Epoch 0:  55%|█████▍    | 413/751 [00:18<00:34,  9.72batch/s, accuracy=17.1875%, loss=1.61]"
          ]
        },
        {
          "output_type": "stream",
          "name": "stdout",
          "text": [
            "GB | Epoch 0 | Loss: 1.613821029663086 | Accuracy: 17.1875%\n",
            "GB | Epoch 0 | Loss: 1.6048691272735596 | Accuracy: 20.3125%\n",
            "GB | Epoch 0 | Loss: 1.6068228483200073 | Accuracy: 17.1875%\n"
          ]
        },
        {
          "output_type": "stream",
          "name": "stderr",
          "text": [
            "Epoch 0:  55%|█████▌    | 415/751 [00:18<00:37,  8.91batch/s, accuracy=23.4375%, loss=1.61]"
          ]
        },
        {
          "output_type": "stream",
          "name": "stdout",
          "text": [
            "GB | Epoch 0 | Loss: 1.5948388576507568 | Accuracy: 28.125%\n",
            "GB | Epoch 0 | Loss: 1.6058909893035889 | Accuracy: 23.4375%\n"
          ]
        },
        {
          "output_type": "stream",
          "name": "stderr",
          "text": [
            "Epoch 0:  56%|█████▌    | 417/751 [00:19<00:39,  8.50batch/s, accuracy=15.625%, loss=1.61]"
          ]
        },
        {
          "output_type": "stream",
          "name": "stdout",
          "text": [
            "GB | Epoch 0 | Loss: 1.5911266803741455 | Accuracy: 32.8125%\n",
            "GB | Epoch 0 | Loss: 1.611483097076416 | Accuracy: 15.625%\n"
          ]
        },
        {
          "output_type": "stream",
          "name": "stderr",
          "text": [
            "Epoch 0:  56%|█████▌    | 419/751 [00:19<00:40,  8.25batch/s, accuracy=18.75%, loss=1.61]"
          ]
        },
        {
          "output_type": "stream",
          "name": "stdout",
          "text": [
            "GB | Epoch 0 | Loss: 1.589002251625061 | Accuracy: 32.8125%\n",
            "GB | Epoch 0 | Loss: 1.6092973947525024 | Accuracy: 18.75%\n"
          ]
        },
        {
          "output_type": "stream",
          "name": "stderr",
          "text": [
            "Epoch 0:  56%|█████▌    | 421/751 [00:19<00:38,  8.46batch/s, accuracy=26.5625%, loss=1.6]"
          ]
        },
        {
          "output_type": "stream",
          "name": "stdout",
          "text": [
            "GB | Epoch 0 | Loss: 1.5937577486038208 | Accuracy: 29.6875%\n",
            "GB | Epoch 0 | Loss: 1.598793864250183 | Accuracy: 26.5625%\n"
          ]
        },
        {
          "output_type": "stream",
          "name": "stderr",
          "text": [
            "Epoch 0:  56%|█████▋    | 423/751 [00:19<00:41,  7.87batch/s, accuracy=20.3125%, loss=1.6]"
          ]
        },
        {
          "output_type": "stream",
          "name": "stdout",
          "text": [
            "GB | Epoch 0 | Loss: 1.5973023176193237 | Accuracy: 29.6875%\n",
            "GB | Epoch 0 | Loss: 1.601628065109253 | Accuracy: 20.3125%\n"
          ]
        },
        {
          "output_type": "stream",
          "name": "stderr",
          "text": [
            "Epoch 0:  57%|█████▋    | 425/751 [00:20<00:42,  7.73batch/s, accuracy=28.125%, loss=1.59]"
          ]
        },
        {
          "output_type": "stream",
          "name": "stdout",
          "text": [
            "GB | Epoch 0 | Loss: 1.600486159324646 | Accuracy: 18.75%\n",
            "GB | Epoch 0 | Loss: 1.5925827026367188 | Accuracy: 28.125%\n"
          ]
        },
        {
          "output_type": "stream",
          "name": "stderr",
          "text": [
            "Epoch 0:  57%|█████▋    | 428/751 [00:20<00:32,  9.83batch/s, accuracy=20.3125%, loss=1.6]"
          ]
        },
        {
          "output_type": "stream",
          "name": "stdout",
          "text": [
            "GB | Epoch 0 | Loss: 1.594003677368164 | Accuracy: 29.6875%\n",
            "GB | Epoch 0 | Loss: 1.5978411436080933 | Accuracy: 35.9375%\n",
            "GB | Epoch 0 | Loss: 1.5981979370117188 | Accuracy: 20.3125%\n"
          ]
        },
        {
          "output_type": "stream",
          "name": "stderr",
          "text": [
            "Epoch 0:  57%|█████▋    | 430/751 [00:20<00:36,  8.82batch/s, accuracy=21.875%, loss=1.61]"
          ]
        },
        {
          "output_type": "stream",
          "name": "stdout",
          "text": [
            "GB | Epoch 0 | Loss: 1.6059138774871826 | Accuracy: 14.0625%\n",
            "GB | Epoch 0 | Loss: 1.6085197925567627 | Accuracy: 21.875%\n"
          ]
        },
        {
          "output_type": "stream",
          "name": "stderr",
          "text": [
            "Epoch 0:  58%|█████▊    | 432/751 [00:20<00:38,  8.25batch/s, accuracy=25.0%, loss=1.6]"
          ]
        },
        {
          "output_type": "stream",
          "name": "stdout",
          "text": [
            "GB | Epoch 0 | Loss: 1.6088528633117676 | Accuracy: 18.75%\n",
            "GB | Epoch 0 | Loss: 1.6028165817260742 | Accuracy: 25.0%\n"
          ]
        },
        {
          "output_type": "stream",
          "name": "stderr",
          "text": [
            "Epoch 0:  58%|█████▊    | 434/751 [00:21<00:39,  8.07batch/s, accuracy=26.5625%, loss=1.6]"
          ]
        },
        {
          "output_type": "stream",
          "name": "stdout",
          "text": [
            "GB | Epoch 0 | Loss: 1.5972094535827637 | Accuracy: 31.25%\n",
            "GB | Epoch 0 | Loss: 1.5964632034301758 | Accuracy: 26.5625%\n"
          ]
        },
        {
          "output_type": "stream",
          "name": "stderr",
          "text": [
            "Epoch 0:  58%|█████▊    | 436/751 [00:21<00:39,  7.96batch/s, accuracy=23.4375%, loss=1.6] "
          ]
        },
        {
          "output_type": "stream",
          "name": "stdout",
          "text": [
            "GB | Epoch 0 | Loss: 1.6124675273895264 | Accuracy: 14.0625%\n",
            "GB | Epoch 0 | Loss: 1.5934702157974243 | Accuracy: 26.5625%\n",
            "GB | Epoch 0 | Loss: 1.59955632686615 | Accuracy: 23.4375%\n"
          ]
        },
        {
          "output_type": "stream",
          "name": "stderr",
          "text": [
            "Epoch 0:  58%|█████▊    | 439/751 [00:21<00:38,  8.21batch/s, accuracy=26.5625%, loss=1.61]"
          ]
        },
        {
          "output_type": "stream",
          "name": "stdout",
          "text": [
            "GB | Epoch 0 | Loss: 1.5991060733795166 | Accuracy: 20.3125%\n",
            "GB | Epoch 0 | Loss: 1.605415940284729 | Accuracy: 26.5625%\n"
          ]
        },
        {
          "output_type": "stream",
          "name": "stderr",
          "text": [
            "Epoch 0:  59%|█████▊    | 441/751 [00:22<00:44,  6.93batch/s, accuracy=23.4375%, loss=1.6]"
          ]
        },
        {
          "output_type": "stream",
          "name": "stdout",
          "text": [
            "GB | Epoch 0 | Loss: 1.6126301288604736 | Accuracy: 17.1875%\n",
            "GB | Epoch 0 | Loss: 1.5966097116470337 | Accuracy: 23.4375%\n"
          ]
        },
        {
          "output_type": "stream",
          "name": "stderr",
          "text": [
            "Epoch 0:  59%|█████▉    | 443/751 [00:22<00:54,  5.69batch/s, accuracy=23.4375%, loss=1.59]"
          ]
        },
        {
          "output_type": "stream",
          "name": "stdout",
          "text": [
            "GB | Epoch 0 | Loss: 1.597927212715149 | Accuracy: 23.4375%\n",
            "GB | Epoch 0 | Loss: 1.5934029817581177 | Accuracy: 23.4375%\n"
          ]
        },
        {
          "output_type": "stream",
          "name": "stderr",
          "text": [
            "Epoch 0:  59%|█████▉    | 445/751 [00:22<00:56,  5.37batch/s, accuracy=34.375%, loss=1.59]"
          ]
        },
        {
          "output_type": "stream",
          "name": "stdout",
          "text": [
            "GB | Epoch 0 | Loss: 1.6107492446899414 | Accuracy: 20.3125%\n",
            "GB | Epoch 0 | Loss: 1.5864859819412231 | Accuracy: 34.375%\n"
          ]
        },
        {
          "output_type": "stream",
          "name": "stderr",
          "text": [
            "Epoch 0:  59%|█████▉    | 446/751 [00:23<00:59,  5.10batch/s, accuracy=23.4375%, loss=1.61]"
          ]
        },
        {
          "output_type": "stream",
          "name": "stdout",
          "text": [
            "GB | Epoch 0 | Loss: 1.601205825805664 | Accuracy: 21.875%\n"
          ]
        },
        {
          "output_type": "stream",
          "name": "stderr",
          "text": [
            "Epoch 0:  60%|█████▉    | 447/751 [00:23<01:00,  4.98batch/s, accuracy=23.4375%, loss=1.6] "
          ]
        },
        {
          "output_type": "stream",
          "name": "stdout",
          "text": [
            "GB | Epoch 0 | Loss: 1.6090399026870728 | Accuracy: 23.4375%\n"
          ]
        },
        {
          "output_type": "stream",
          "name": "stderr",
          "text": [
            "Epoch 0:  60%|█████▉    | 449/751 [00:23<00:59,  5.11batch/s, accuracy=25.0%, loss=1.6]"
          ]
        },
        {
          "output_type": "stream",
          "name": "stdout",
          "text": [
            "GB | Epoch 0 | Loss: 1.6019364595413208 | Accuracy: 23.4375%\n",
            "GB | Epoch 0 | Loss: 1.5974760055541992 | Accuracy: 25.0%\n"
          ]
        },
        {
          "output_type": "stream",
          "name": "stderr",
          "text": [
            "Epoch 0:  60%|██████    | 451/751 [00:24<00:58,  5.13batch/s, accuracy=25.0%, loss=1.6]"
          ]
        },
        {
          "output_type": "stream",
          "name": "stdout",
          "text": [
            "GB | Epoch 0 | Loss: 1.5993859767913818 | Accuracy: 28.125%\n",
            "GB | Epoch 0 | Loss: 1.6013182401657104 | Accuracy: 25.0%\n"
          ]
        },
        {
          "output_type": "stream",
          "name": "stderr",
          "text": [
            "Epoch 0:  60%|██████    | 453/751 [00:24<00:47,  6.23batch/s, accuracy=28.125%, loss=1.6]"
          ]
        },
        {
          "output_type": "stream",
          "name": "stdout",
          "text": [
            "GB | Epoch 0 | Loss: 1.6130940914154053 | Accuracy: 20.3125%\n",
            "GB | Epoch 0 | Loss: 1.5989012718200684 | Accuracy: 28.125%\n"
          ]
        },
        {
          "output_type": "stream",
          "name": "stderr",
          "text": [
            "Epoch 0:  61%|██████    | 455/751 [00:24<00:49,  5.94batch/s, accuracy=26.5625%, loss=1.6]"
          ]
        },
        {
          "output_type": "stream",
          "name": "stdout",
          "text": [
            "GB | Epoch 0 | Loss: 1.6002510786056519 | Accuracy: 21.875%\n",
            "GB | Epoch 0 | Loss: 1.601833462715149 | Accuracy: 26.5625%\n"
          ]
        },
        {
          "output_type": "stream",
          "name": "stderr",
          "text": [
            "Epoch 0:  61%|██████    | 457/751 [00:25<00:43,  6.79batch/s, accuracy=29.6875%, loss=1.6]"
          ]
        },
        {
          "output_type": "stream",
          "name": "stdout",
          "text": [
            "GB | Epoch 0 | Loss: 1.6131864786148071 | Accuracy: 15.625%\n",
            "GB | Epoch 0 | Loss: 1.5954591035842896 | Accuracy: 29.6875%\n"
          ]
        },
        {
          "output_type": "stream",
          "name": "stderr",
          "text": [
            "Epoch 0:  61%|██████    | 459/751 [00:25<00:38,  7.53batch/s, accuracy=31.25%, loss=1.59]"
          ]
        },
        {
          "output_type": "stream",
          "name": "stdout",
          "text": [
            "GB | Epoch 0 | Loss: 1.6018011569976807 | Accuracy: 28.125%\n",
            "GB | Epoch 0 | Loss: 1.5924972295761108 | Accuracy: 31.25%\n"
          ]
        },
        {
          "output_type": "stream",
          "name": "stderr",
          "text": [
            "Epoch 0:  62%|██████▏   | 462/751 [00:25<00:32,  8.85batch/s, accuracy=28.125%, loss=1.6]"
          ]
        },
        {
          "output_type": "stream",
          "name": "stdout",
          "text": [
            "GB | Epoch 0 | Loss: 1.6050496101379395 | Accuracy: 28.125%\n",
            "GB | Epoch 0 | Loss: 1.6032778024673462 | Accuracy: 25.0%\n",
            "GB | Epoch 0 | Loss: 1.6020349264144897 | Accuracy: 28.125%\n"
          ]
        },
        {
          "output_type": "stream",
          "name": "stderr",
          "text": [
            "Epoch 0:  62%|██████▏   | 464/751 [00:25<00:28, 10.19batch/s, accuracy=26.5625%, loss=1.6]"
          ]
        },
        {
          "output_type": "stream",
          "name": "stdout",
          "text": [
            "GB | Epoch 0 | Loss: 1.5897607803344727 | Accuracy: 35.9375%\n",
            "GB | Epoch 0 | Loss: 1.5962986946105957 | Accuracy: 29.6875%\n",
            "GB | Epoch 0 | Loss: 1.5981621742248535 | Accuracy: 26.5625%\n"
          ]
        },
        {
          "output_type": "stream",
          "name": "stderr",
          "text": [
            "Epoch 0:  62%|██████▏   | 468/751 [00:26<00:25, 10.99batch/s, accuracy=34.375%, loss=1.59]"
          ]
        },
        {
          "output_type": "stream",
          "name": "stdout",
          "text": [
            "GB | Epoch 0 | Loss: 1.5933786630630493 | Accuracy: 37.5%\n",
            "GB | Epoch 0 | Loss: 1.6003164052963257 | Accuracy: 23.4375%\n",
            "GB | Epoch 0 | Loss: 1.589233160018921 | Accuracy: 34.375%\n"
          ]
        },
        {
          "output_type": "stream",
          "name": "stderr",
          "text": [
            "Epoch 0:  63%|██████▎   | 470/751 [00:26<00:25, 11.16batch/s, accuracy=34.375%, loss=1.6]"
          ]
        },
        {
          "output_type": "stream",
          "name": "stdout",
          "text": [
            "GB | Epoch 0 | Loss: 1.6047734022140503 | Accuracy: 21.875%\n",
            "GB | Epoch 0 | Loss: 1.5953898429870605 | Accuracy: 34.375%\n"
          ]
        },
        {
          "output_type": "stream",
          "name": "stderr",
          "text": [
            "Epoch 0:  63%|██████▎   | 474/751 [00:26<00:23, 11.89batch/s, accuracy=26.5625%, loss=1.6]"
          ]
        },
        {
          "output_type": "stream",
          "name": "stdout",
          "text": [
            "GB | Epoch 0 | Loss: 1.5928406715393066 | Accuracy: 37.5%\n",
            "GB | Epoch 0 | Loss: 1.5866750478744507 | Accuracy: 40.625%\n",
            "GB | Epoch 0 | Loss: 1.5987247228622437 | Accuracy: 29.6875%\n",
            "GB | Epoch 0 | Loss: 1.598393440246582 | Accuracy: 26.5625%\n"
          ]
        },
        {
          "output_type": "stream",
          "name": "stderr",
          "text": [
            "Epoch 0:  63%|██████▎   | 476/751 [00:26<00:22, 12.47batch/s, accuracy=31.25%, loss=1.59] "
          ]
        },
        {
          "output_type": "stream",
          "name": "stdout",
          "text": [
            "GB | Epoch 0 | Loss: 1.5968791246414185 | Accuracy: 29.6875%\n",
            "GB | Epoch 0 | Loss: 1.5944840908050537 | Accuracy: 26.5625%\n",
            "GB | Epoch 0 | Loss: 1.5918843746185303 | Accuracy: 34.375%\n"
          ]
        },
        {
          "output_type": "stream",
          "name": "stderr",
          "text": [
            "Epoch 0:  64%|██████▍   | 480/751 [00:27<00:21, 12.70batch/s, accuracy=23.4375%, loss=1.6]"
          ]
        },
        {
          "output_type": "stream",
          "name": "stdout",
          "text": [
            "GB | Epoch 0 | Loss: 1.5941914319992065 | Accuracy: 31.25%\n",
            "GB | Epoch 0 | Loss: 1.5947312116622925 | Accuracy: 26.5625%\n",
            "GB | Epoch 0 | Loss: 1.5975334644317627 | Accuracy: 23.4375%\n"
          ]
        },
        {
          "output_type": "stream",
          "name": "stderr",
          "text": [
            "Epoch 0:  64%|██████▍   | 482/751 [00:27<00:23, 11.58batch/s, accuracy=25.0%, loss=1.6]   "
          ]
        },
        {
          "output_type": "stream",
          "name": "stdout",
          "text": [
            "GB | Epoch 0 | Loss: 1.5909911394119263 | Accuracy: 31.25%\n",
            "GB | Epoch 0 | Loss: 1.6050617694854736 | Accuracy: 15.625%\n",
            "GB | Epoch 0 | Loss: 1.5997706651687622 | Accuracy: 25.0%\n"
          ]
        },
        {
          "output_type": "stream",
          "name": "stderr",
          "text": [
            "Epoch 0:  65%|██████▍   | 486/751 [00:27<00:25, 10.59batch/s, accuracy=14.0625%, loss=1.61]"
          ]
        },
        {
          "output_type": "stream",
          "name": "stdout",
          "text": [
            "GB | Epoch 0 | Loss: 1.5974936485290527 | Accuracy: 28.125%\n",
            "GB | Epoch 0 | Loss: 1.5982298851013184 | Accuracy: 26.5625%\n",
            "GB | Epoch 0 | Loss: 1.6120848655700684 | Accuracy: 14.0625%\n"
          ]
        },
        {
          "output_type": "stream",
          "name": "stderr",
          "text": [
            "Epoch 0:  65%|██████▍   | 488/751 [00:27<00:25, 10.49batch/s, accuracy=25.0%, loss=1.6]"
          ]
        },
        {
          "output_type": "stream",
          "name": "stdout",
          "text": [
            "GB | Epoch 0 | Loss: 1.5971065759658813 | Accuracy: 23.4375%\n",
            "GB | Epoch 0 | Loss: 1.5962446928024292 | Accuracy: 25.0%\n",
            "GB | Epoch 0 | Loss: 1.6034717559814453 | Accuracy: 25.0%\n"
          ]
        },
        {
          "output_type": "stream",
          "name": "stderr",
          "text": [
            "Epoch 0:  66%|██████▌   | 492/751 [00:28<00:23, 11.12batch/s, accuracy=21.875%, loss=1.61]"
          ]
        },
        {
          "output_type": "stream",
          "name": "stdout",
          "text": [
            "GB | Epoch 0 | Loss: 1.6022833585739136 | Accuracy: 26.5625%\n",
            "GB | Epoch 0 | Loss: 1.5931252241134644 | Accuracy: 26.5625%\n",
            "GB | Epoch 0 | Loss: 1.6083507537841797 | Accuracy: 21.875%\n"
          ]
        },
        {
          "output_type": "stream",
          "name": "stderr",
          "text": [
            "Epoch 0:  66%|██████▌   | 494/751 [00:28<00:23, 11.02batch/s, accuracy=28.125%, loss=1.6]"
          ]
        },
        {
          "output_type": "stream",
          "name": "stdout",
          "text": [
            "GB | Epoch 0 | Loss: 1.6010063886642456 | Accuracy: 29.6875%\n",
            "GB | Epoch 0 | Loss: 1.5956453084945679 | Accuracy: 28.125%\n",
            "GB | Epoch 0 | Loss: 1.599715232849121 | Accuracy: 28.125%\n"
          ]
        },
        {
          "output_type": "stream",
          "name": "stderr",
          "text": [
            "Epoch 0:  66%|██████▌   | 496/751 [00:28<00:23, 10.63batch/s, accuracy=26.5625%, loss=1.6] "
          ]
        },
        {
          "output_type": "stream",
          "name": "stdout",
          "text": [
            "GB | Epoch 0 | Loss: 1.5878870487213135 | Accuracy: 32.8125%\n",
            "GB | Epoch 0 | Loss: 1.5993520021438599 | Accuracy: 26.5625%\n"
          ]
        },
        {
          "output_type": "stream",
          "name": "stderr",
          "text": [
            "Epoch 0:  67%|██████▋   | 502/751 [00:29<00:17, 13.97batch/s, accuracy=35.9375%, loss=1.59]"
          ]
        },
        {
          "output_type": "stream",
          "name": "stdout",
          "text": [
            "GB | Epoch 0 | Loss: 1.5968782901763916 | Accuracy: 26.5625%\n",
            "GB | Epoch 0 | Loss: 1.5980936288833618 | Accuracy: 29.6875%\n",
            "GB | Epoch 0 | Loss: 1.590836763381958 | Accuracy: 34.375%\n",
            "GB | Epoch 0 | Loss: 1.5977027416229248 | Accuracy: 26.5625%\n",
            "GB | Epoch 0 | Loss: 1.5995452404022217 | Accuracy: 25.0%\n",
            "GB | Epoch 0 | Loss: 1.5984448194503784 | Accuracy: 20.3125%\n",
            "GB | Epoch 0 | Loss: 1.5926495790481567 | Accuracy: 35.9375%\n"
          ]
        },
        {
          "output_type": "stream",
          "name": "stderr",
          "text": [
            "Epoch 0:  68%|██████▊   | 511/751 [00:29<00:09, 24.29batch/s, accuracy=25.0%, loss=1.6]  "
          ]
        },
        {
          "output_type": "stream",
          "name": "stdout",
          "text": [
            "GB | Epoch 0 | Loss: 1.6049569845199585 | Accuracy: 26.5625%\n",
            "GB | Epoch 0 | Loss: 1.602808952331543 | Accuracy: 20.3125%\n",
            "GB | Epoch 0 | Loss: 1.607011318206787 | Accuracy: 21.875%\n",
            "GB | Epoch 0 | Loss: 1.5956637859344482 | Accuracy: 31.25%\n",
            "GB | Epoch 0 | Loss: 1.6089849472045898 | Accuracy: 15.625%\n",
            "GB | Epoch 0 | Loss: 1.5946354866027832 | Accuracy: 25.0%\n",
            "GB | Epoch 0 | Loss: 1.5927541255950928 | Accuracy: 28.125%\n",
            "GB | Epoch 0 | Loss: 1.6001510620117188 | Accuracy: 26.5625%\n",
            "GB | Epoch 0 | Loss: 1.5934864282608032 | Accuracy: 31.25%\n",
            "GB | Epoch 0 | Loss: 1.6020758152008057 | Accuracy: 25.0%\n"
          ]
        },
        {
          "output_type": "stream",
          "name": "stderr",
          "text": [
            "Epoch 0:  69%|██████▉   | 521/751 [00:29<00:06, 33.61batch/s, accuracy=25.0%, loss=1.59] "
          ]
        },
        {
          "output_type": "stream",
          "name": "stdout",
          "text": [
            "GB | Epoch 0 | Loss: 1.5974336862564087 | Accuracy: 26.5625%\n",
            "GB | Epoch 0 | Loss: 1.6006089448928833 | Accuracy: 23.4375%\n",
            "GB | Epoch 0 | Loss: 1.5928707122802734 | Accuracy: 29.6875%\n",
            "GB | Epoch 0 | Loss: 1.6038016080856323 | Accuracy: 18.75%\n",
            "GB | Epoch 0 | Loss: 1.5919649600982666 | Accuracy: 18.75%\n",
            "GB | Epoch 0 | Loss: 1.6004970073699951 | Accuracy: 29.6875%\n",
            "GB | Epoch 0 | Loss: 1.5932830572128296 | Accuracy: 31.25%\n",
            "GB | Epoch 0 | Loss: 1.5951788425445557 | Accuracy: 28.125%\n",
            "GB | Epoch 0 | Loss: 1.596886396408081 | Accuracy: 34.375%\n",
            "GB | Epoch 0 | Loss: 1.5916838645935059 | Accuracy: 25.0%\n"
          ]
        },
        {
          "output_type": "stream",
          "name": "stderr",
          "text": [
            "Epoch 0:  71%|███████   | 531/751 [00:29<00:05, 37.88batch/s, accuracy=18.75%, loss=1.59]  "
          ]
        },
        {
          "output_type": "stream",
          "name": "stdout",
          "text": [
            "GB | Epoch 0 | Loss: 1.6036179065704346 | Accuracy: 20.3125%\n",
            "GB | Epoch 0 | Loss: 1.5855894088745117 | Accuracy: 25.0%\n",
            "GB | Epoch 0 | Loss: 1.5848963260650635 | Accuracy: 26.5625%\n",
            "GB | Epoch 0 | Loss: 1.60049569606781 | Accuracy: 28.125%\n",
            "GB | Epoch 0 | Loss: 1.597044587135315 | Accuracy: 20.3125%\n",
            "GB | Epoch 0 | Loss: 1.5847957134246826 | Accuracy: 28.125%\n",
            "GB | Epoch 0 | Loss: 1.5923529863357544 | Accuracy: 20.3125%\n",
            "GB | Epoch 0 | Loss: 1.5863823890686035 | Accuracy: 23.4375%\n",
            "GB | Epoch 0 | Loss: 1.592162847518921 | Accuracy: 18.75%\n"
          ]
        },
        {
          "output_type": "stream",
          "name": "stderr",
          "text": [
            "Epoch 0:  72%|███████▏  | 541/751 [00:29<00:05, 41.75batch/s, accuracy=23.4375%, loss=1.59]"
          ]
        },
        {
          "output_type": "stream",
          "name": "stdout",
          "text": [
            "GB | Epoch 0 | Loss: 1.601858139038086 | Accuracy: 17.1875%\n",
            "GB | Epoch 0 | Loss: 1.5956618785858154 | Accuracy: 23.4375%\n",
            "GB | Epoch 0 | Loss: 1.608817458152771 | Accuracy: 15.625%\n",
            "GB | Epoch 0 | Loss: 1.5815396308898926 | Accuracy: 31.25%\n",
            "GB | Epoch 0 | Loss: 1.6079853773117065 | Accuracy: 20.3125%\n",
            "GB | Epoch 0 | Loss: 1.5915073156356812 | Accuracy: 18.75%\n",
            "GB | Epoch 0 | Loss: 1.5975396633148193 | Accuracy: 17.1875%\n",
            "GB | Epoch 0 | Loss: 1.5986117124557495 | Accuracy: 17.1875%\n",
            "GB | Epoch 0 | Loss: 1.5979746580123901 | Accuracy: 18.75%\n",
            "GB | Epoch 0 | Loss: 1.5902798175811768 | Accuracy: 23.4375%\n"
          ]
        },
        {
          "output_type": "stream",
          "name": "stderr",
          "text": [
            "Epoch 0:  73%|███████▎  | 551/751 [00:30<00:04, 43.79batch/s, accuracy=18.75%, loss=1.6]   "
          ]
        },
        {
          "output_type": "stream",
          "name": "stdout",
          "text": [
            "GB | Epoch 0 | Loss: 1.593493938446045 | Accuracy: 21.875%\n",
            "GB | Epoch 0 | Loss: 1.5931520462036133 | Accuracy: 17.1875%\n",
            "GB | Epoch 0 | Loss: 1.585512638092041 | Accuracy: 29.6875%\n",
            "GB | Epoch 0 | Loss: 1.5941050052642822 | Accuracy: 20.3125%\n",
            "GB | Epoch 0 | Loss: 1.6057342290878296 | Accuracy: 15.625%\n",
            "GB | Epoch 0 | Loss: 1.5944020748138428 | Accuracy: 21.875%\n",
            "GB | Epoch 0 | Loss: 1.5887951850891113 | Accuracy: 23.4375%\n",
            "GB | Epoch 0 | Loss: 1.6099716424942017 | Accuracy: 9.375%\n",
            "GB | Epoch 0 | Loss: 1.6075938940048218 | Accuracy: 14.0625%\n",
            "GB | Epoch 0 | Loss: 1.5979278087615967 | Accuracy: 18.75%\n"
          ]
        },
        {
          "output_type": "stream",
          "name": "stderr",
          "text": [
            "Epoch 0:  75%|███████▍  | 561/751 [00:30<00:04, 44.34batch/s, accuracy=25.0%, loss=1.59]   "
          ]
        },
        {
          "output_type": "stream",
          "name": "stdout",
          "text": [
            "GB | Epoch 0 | Loss: 1.5904545783996582 | Accuracy: 25.0%\n",
            "GB | Epoch 0 | Loss: 1.6050094366073608 | Accuracy: 17.1875%\n",
            "GB | Epoch 0 | Loss: 1.5937597751617432 | Accuracy: 20.3125%\n",
            "GB | Epoch 0 | Loss: 1.5921062231063843 | Accuracy: 21.875%\n",
            "GB | Epoch 0 | Loss: 1.5949102640151978 | Accuracy: 18.75%\n",
            "GB | Epoch 0 | Loss: 1.596712350845337 | Accuracy: 21.875%\n",
            "GB | Epoch 0 | Loss: 1.5945312976837158 | Accuracy: 15.625%\n",
            "GB | Epoch 0 | Loss: 1.5904760360717773 | Accuracy: 21.875%\n",
            "GB | Epoch 0 | Loss: 1.594854474067688 | Accuracy: 23.4375%\n",
            "GB | Epoch 0 | Loss: 1.5857959985733032 | Accuracy: 25.0%\n"
          ]
        },
        {
          "output_type": "stream",
          "name": "stderr",
          "text": [
            "Epoch 0:  76%|███████▌  | 571/751 [00:30<00:04, 44.32batch/s, accuracy=23.4375%, loss=1.59]"
          ]
        },
        {
          "output_type": "stream",
          "name": "stdout",
          "text": [
            "GB | Epoch 0 | Loss: 1.589914083480835 | Accuracy: 23.4375%\n",
            "GB | Epoch 0 | Loss: 1.596392035484314 | Accuracy: 20.3125%\n",
            "GB | Epoch 0 | Loss: 1.5954904556274414 | Accuracy: 23.4375%\n",
            "GB | Epoch 0 | Loss: 1.5873275995254517 | Accuracy: 23.4375%\n",
            "GB | Epoch 0 | Loss: 1.5997440814971924 | Accuracy: 20.3125%\n",
            "GB | Epoch 0 | Loss: 1.5901468992233276 | Accuracy: 20.3125%\n",
            "GB | Epoch 0 | Loss: 1.6185036897659302 | Accuracy: 17.1875%\n",
            "GB | Epoch 0 | Loss: 1.578758955001831 | Accuracy: 26.5625%\n",
            "GB | Epoch 0 | Loss: 1.5885227918624878 | Accuracy: 23.4375%\n"
          ]
        },
        {
          "output_type": "stream",
          "name": "stderr",
          "text": [
            "Epoch 0:  77%|███████▋  | 581/751 [00:30<00:03, 43.12batch/s, accuracy=18.75%, loss=1.58]"
          ]
        },
        {
          "output_type": "stream",
          "name": "stdout",
          "text": [
            "GB | Epoch 0 | Loss: 1.578940987586975 | Accuracy: 25.0%\n",
            "GB | Epoch 0 | Loss: 1.594283103942871 | Accuracy: 23.4375%\n",
            "GB | Epoch 0 | Loss: 1.6061058044433594 | Accuracy: 9.375%\n",
            "GB | Epoch 0 | Loss: 1.5708578824996948 | Accuracy: 29.6875%\n",
            "GB | Epoch 0 | Loss: 1.5882035493850708 | Accuracy: 18.75%\n",
            "GB | Epoch 0 | Loss: 1.5944515466690063 | Accuracy: 17.1875%\n",
            "GB | Epoch 0 | Loss: 1.6024798154830933 | Accuracy: 20.3125%\n",
            "GB | Epoch 0 | Loss: 1.5932260751724243 | Accuracy: 18.75%\n",
            "GB | Epoch 0 | Loss: 1.5836668014526367 | Accuracy: 18.75%\n"
          ]
        },
        {
          "output_type": "stream",
          "name": "stderr",
          "text": [
            "Epoch 0:  79%|███████▊  | 591/751 [00:30<00:03, 44.28batch/s, accuracy=23.4375%, loss=1.59]"
          ]
        },
        {
          "output_type": "stream",
          "name": "stdout",
          "text": [
            "GB | Epoch 0 | Loss: 1.5716252326965332 | Accuracy: 34.375%\n",
            "GB | Epoch 0 | Loss: 1.5859336853027344 | Accuracy: 25.0%\n",
            "GB | Epoch 0 | Loss: 1.5895991325378418 | Accuracy: 23.4375%\n",
            "GB | Epoch 0 | Loss: 1.5990699529647827 | Accuracy: 10.9375%\n",
            "GB | Epoch 0 | Loss: 1.6038843393325806 | Accuracy: 20.3125%\n",
            "GB | Epoch 0 | Loss: 1.5840332508087158 | Accuracy: 37.5%\n",
            "GB | Epoch 0 | Loss: 1.5935848951339722 | Accuracy: 17.1875%\n",
            "GB | Epoch 0 | Loss: 1.5817956924438477 | Accuracy: 21.875%\n",
            "GB | Epoch 0 | Loss: 1.5847134590148926 | Accuracy: 20.3125%\n",
            "GB | Epoch 0 | Loss: 1.590423345565796 | Accuracy: 23.4375%\n"
          ]
        },
        {
          "output_type": "stream",
          "name": "stderr",
          "text": [
            "Epoch 0:  80%|████████  | 601/751 [00:31<00:03, 44.14batch/s, accuracy=25.0%, loss=1.59]"
          ]
        },
        {
          "output_type": "stream",
          "name": "stdout",
          "text": [
            "GB | Epoch 0 | Loss: 1.5856159925460815 | Accuracy: 23.4375%\n",
            "GB | Epoch 0 | Loss: 1.6141859292984009 | Accuracy: 17.1875%\n",
            "GB | Epoch 0 | Loss: 1.58949613571167 | Accuracy: 29.6875%\n",
            "GB | Epoch 0 | Loss: 1.5837868452072144 | Accuracy: 25.0%\n",
            "GB | Epoch 0 | Loss: 1.601593017578125 | Accuracy: 17.1875%\n",
            "GB | Epoch 0 | Loss: 1.605338454246521 | Accuracy: 25.0%\n",
            "GB | Epoch 0 | Loss: 1.6078275442123413 | Accuracy: 14.0625%\n",
            "GB | Epoch 0 | Loss: 1.5827736854553223 | Accuracy: 28.125%\n",
            "GB | Epoch 0 | Loss: 1.5834110975265503 | Accuracy: 29.6875%\n",
            "GB | Epoch 0 | Loss: 1.5883924961090088 | Accuracy: 25.0%\n"
          ]
        },
        {
          "output_type": "stream",
          "name": "stderr",
          "text": [
            "Epoch 0:  81%|████████▏ | 611/751 [00:31<00:03, 45.37batch/s, accuracy=26.5625%, loss=1.58]"
          ]
        },
        {
          "output_type": "stream",
          "name": "stdout",
          "text": [
            "GB | Epoch 0 | Loss: 1.596164584159851 | Accuracy: 25.0%\n",
            "GB | Epoch 0 | Loss: 1.5958322286605835 | Accuracy: 25.0%\n",
            "GB | Epoch 0 | Loss: 1.5866247415542603 | Accuracy: 28.125%\n",
            "GB | Epoch 0 | Loss: 1.568906545639038 | Accuracy: 32.8125%\n",
            "GB | Epoch 0 | Loss: 1.5990736484527588 | Accuracy: 26.5625%\n",
            "GB | Epoch 0 | Loss: 1.584439754486084 | Accuracy: 25.0%\n",
            "GB | Epoch 0 | Loss: 1.5867061614990234 | Accuracy: 28.125%\n",
            "GB | Epoch 0 | Loss: 1.5977765321731567 | Accuracy: 20.3125%\n",
            "GB | Epoch 0 | Loss: 1.5833587646484375 | Accuracy: 29.6875%\n",
            "GB | Epoch 0 | Loss: 1.5797208547592163 | Accuracy: 26.5625%\n"
          ]
        },
        {
          "output_type": "stream",
          "name": "stderr",
          "text": [
            "Epoch 0:  82%|████████▏ | 616/751 [00:31<00:02, 45.19batch/s, accuracy=23.4375%, loss=1.6] "
          ]
        },
        {
          "output_type": "stream",
          "name": "stdout",
          "text": [
            "GB | Epoch 0 | Loss: 1.5804760456085205 | Accuracy: 32.8125%\n",
            "GB | Epoch 0 | Loss: 1.5951507091522217 | Accuracy: 25.0%\n",
            "GB | Epoch 0 | Loss: 1.5967079401016235 | Accuracy: 25.0%\n",
            "GB | Epoch 0 | Loss: 1.5992258787155151 | Accuracy: 15.625%\n",
            "GB | Epoch 0 | Loss: 1.5948891639709473 | Accuracy: 28.125%\n",
            "GB | Epoch 0 | Loss: 1.5767173767089844 | Accuracy: 37.5%\n",
            "GB | Epoch 0 | Loss: 1.5909429788589478 | Accuracy: 23.4375%\n",
            "GB | Epoch 0 | Loss: 1.5765104293823242 | Accuracy: 23.4375%\n",
            "GB | Epoch 0 | Loss: 1.6007370948791504 | Accuracy: 23.4375%\n"
          ]
        },
        {
          "output_type": "stream",
          "name": "stderr",
          "text": [
            "Epoch 0:  83%|████████▎ | 626/751 [00:31<00:02, 43.19batch/s, accuracy=34.375%, loss=1.58]"
          ]
        },
        {
          "output_type": "stream",
          "name": "stdout",
          "text": [
            "GB | Epoch 0 | Loss: 1.5910918712615967 | Accuracy: 23.4375%\n",
            "GB | Epoch 0 | Loss: 1.5997271537780762 | Accuracy: 20.3125%\n",
            "GB | Epoch 0 | Loss: 1.5990232229232788 | Accuracy: 29.6875%\n",
            "GB | Epoch 0 | Loss: 1.5828052759170532 | Accuracy: 28.125%\n",
            "GB | Epoch 0 | Loss: 1.60446298122406 | Accuracy: 21.875%\n",
            "GB | Epoch 0 | Loss: 1.6045185327529907 | Accuracy: 25.0%\n",
            "GB | Epoch 0 | Loss: 1.5798577070236206 | Accuracy: 31.25%\n",
            "GB | Epoch 0 | Loss: 1.5801376104354858 | Accuracy: 37.5%\n",
            "GB | Epoch 0 | Loss: 1.5825704336166382 | Accuracy: 34.375%\n"
          ]
        },
        {
          "output_type": "stream",
          "name": "stderr",
          "text": [
            "Epoch 0:  85%|████████▍ | 636/751 [00:32<00:02, 43.42batch/s, accuracy=29.6875%, loss=1.58]"
          ]
        },
        {
          "output_type": "stream",
          "name": "stdout",
          "text": [
            "GB | Epoch 0 | Loss: 1.5810467004776 | Accuracy: 35.9375%\n",
            "GB | Epoch 0 | Loss: 1.586490273475647 | Accuracy: 29.6875%\n",
            "GB | Epoch 0 | Loss: 1.5987001657485962 | Accuracy: 35.9375%\n",
            "GB | Epoch 0 | Loss: 1.5906003713607788 | Accuracy: 28.125%\n",
            "GB | Epoch 0 | Loss: 1.5886698961257935 | Accuracy: 34.375%\n",
            "GB | Epoch 0 | Loss: 1.581926941871643 | Accuracy: 31.25%\n",
            "GB | Epoch 0 | Loss: 1.583861231803894 | Accuracy: 31.25%\n",
            "GB | Epoch 0 | Loss: 1.58463454246521 | Accuracy: 25.0%\n",
            "GB | Epoch 0 | Loss: 1.57915461063385 | Accuracy: 29.6875%\n"
          ]
        },
        {
          "output_type": "stream",
          "name": "stderr",
          "text": [
            "Epoch 0:  86%|████████▌ | 646/751 [00:32<00:02, 42.94batch/s, accuracy=31.25%, loss=1.58] "
          ]
        },
        {
          "output_type": "stream",
          "name": "stdout",
          "text": [
            "GB | Epoch 0 | Loss: 1.6033214330673218 | Accuracy: 31.25%\n",
            "GB | Epoch 0 | Loss: 1.6023986339569092 | Accuracy: 32.8125%\n",
            "GB | Epoch 0 | Loss: 1.5815081596374512 | Accuracy: 34.375%\n",
            "GB | Epoch 0 | Loss: 1.5831905603408813 | Accuracy: 35.9375%\n",
            "GB | Epoch 0 | Loss: 1.5815144777297974 | Accuracy: 35.9375%\n",
            "GB | Epoch 0 | Loss: 1.590385913848877 | Accuracy: 28.125%\n",
            "GB | Epoch 0 | Loss: 1.572379231452942 | Accuracy: 32.8125%\n",
            "GB | Epoch 0 | Loss: 1.5957062244415283 | Accuracy: 32.8125%\n",
            "GB | Epoch 0 | Loss: 1.5828927755355835 | Accuracy: 31.25%\n"
          ]
        },
        {
          "output_type": "stream",
          "name": "stderr",
          "text": [
            "Epoch 0:  87%|████████▋ | 656/751 [00:32<00:02, 44.02batch/s, accuracy=34.375%, loss=1.58]"
          ]
        },
        {
          "output_type": "stream",
          "name": "stdout",
          "text": [
            "GB | Epoch 0 | Loss: 1.5581423044204712 | Accuracy: 43.75%\n",
            "GB | Epoch 0 | Loss: 1.57828950881958 | Accuracy: 40.625%\n",
            "GB | Epoch 0 | Loss: 1.5886467695236206 | Accuracy: 26.5625%\n",
            "GB | Epoch 0 | Loss: 1.588024616241455 | Accuracy: 28.125%\n",
            "GB | Epoch 0 | Loss: 1.5976210832595825 | Accuracy: 32.8125%\n",
            "GB | Epoch 0 | Loss: 1.5882765054702759 | Accuracy: 35.9375%\n",
            "GB | Epoch 0 | Loss: 1.5949127674102783 | Accuracy: 25.0%\n",
            "GB | Epoch 0 | Loss: 1.5925127267837524 | Accuracy: 28.125%\n",
            "GB | Epoch 0 | Loss: 1.5709768533706665 | Accuracy: 40.625%\n",
            "GB | Epoch 0 | Loss: 1.5832545757293701 | Accuracy: 34.375%\n"
          ]
        },
        {
          "output_type": "stream",
          "name": "stderr",
          "text": [
            "Epoch 0:  89%|████████▊ | 666/751 [00:32<00:01, 44.06batch/s, accuracy=34.375%, loss=1.58]"
          ]
        },
        {
          "output_type": "stream",
          "name": "stdout",
          "text": [
            "GB | Epoch 0 | Loss: 1.574828863143921 | Accuracy: 45.3125%\n",
            "GB | Epoch 0 | Loss: 1.5817605257034302 | Accuracy: 35.9375%\n",
            "GB | Epoch 0 | Loss: 1.5824878215789795 | Accuracy: 28.125%\n",
            "GB | Epoch 0 | Loss: 1.5885571241378784 | Accuracy: 32.8125%\n",
            "GB | Epoch 0 | Loss: 1.5753659009933472 | Accuracy: 39.0625%\n",
            "GB | Epoch 0 | Loss: 1.5877748727798462 | Accuracy: 34.375%\n",
            "GB | Epoch 0 | Loss: 1.5826042890548706 | Accuracy: 35.9375%\n",
            "GB | Epoch 0 | Loss: 1.5697777271270752 | Accuracy: 31.25%\n",
            "GB | Epoch 0 | Loss: 1.5821497440338135 | Accuracy: 34.375%\n"
          ]
        },
        {
          "output_type": "stream",
          "name": "stderr",
          "text": [
            "Epoch 0:  90%|█████████ | 676/751 [00:32<00:01, 43.11batch/s, accuracy=23.4375%, loss=1.59]"
          ]
        },
        {
          "output_type": "stream",
          "name": "stdout",
          "text": [
            "GB | Epoch 0 | Loss: 1.5810383558273315 | Accuracy: 39.0625%\n",
            "GB | Epoch 0 | Loss: 1.5880600214004517 | Accuracy: 26.5625%\n",
            "GB | Epoch 0 | Loss: 1.5668729543685913 | Accuracy: 32.8125%\n",
            "GB | Epoch 0 | Loss: 1.5873855352401733 | Accuracy: 26.5625%\n",
            "GB | Epoch 0 | Loss: 1.5805398225784302 | Accuracy: 32.8125%\n",
            "GB | Epoch 0 | Loss: 1.5802297592163086 | Accuracy: 34.375%\n",
            "GB | Epoch 0 | Loss: 1.592272400856018 | Accuracy: 26.5625%\n",
            "GB | Epoch 0 | Loss: 1.569809913635254 | Accuracy: 37.5%\n",
            "GB | Epoch 0 | Loss: 1.5821595191955566 | Accuracy: 23.4375%\n",
            "GB | Epoch 0 | Loss: 1.589194416999817 | Accuracy: 23.4375%\n"
          ]
        },
        {
          "output_type": "stream",
          "name": "stderr",
          "text": [
            "Epoch 0:  91%|█████████▏| 686/751 [00:33<00:01, 44.07batch/s, accuracy=20.3125%, loss=1.6]"
          ]
        },
        {
          "output_type": "stream",
          "name": "stdout",
          "text": [
            "GB | Epoch 0 | Loss: 1.5604417324066162 | Accuracy: 37.5%\n",
            "GB | Epoch 0 | Loss: 1.5866583585739136 | Accuracy: 25.0%\n",
            "GB | Epoch 0 | Loss: 1.5663236379623413 | Accuracy: 28.125%\n",
            "GB | Epoch 0 | Loss: 1.5761399269104004 | Accuracy: 34.375%\n",
            "GB | Epoch 0 | Loss: 1.5775448083877563 | Accuracy: 29.6875%\n",
            "GB | Epoch 0 | Loss: 1.5647748708724976 | Accuracy: 40.625%\n",
            "GB | Epoch 0 | Loss: 1.5884164571762085 | Accuracy: 25.0%\n",
            "GB | Epoch 0 | Loss: 1.571020483970642 | Accuracy: 26.5625%\n",
            "GB | Epoch 0 | Loss: 1.5927910804748535 | Accuracy: 29.6875%\n",
            "GB | Epoch 0 | Loss: 1.5992093086242676 | Accuracy: 20.3125%\n"
          ]
        },
        {
          "output_type": "stream",
          "name": "stderr",
          "text": [
            "Epoch 0:  92%|█████████▏| 691/751 [00:33<00:01, 44.12batch/s, accuracy=42.1875%, loss=1.55]"
          ]
        },
        {
          "output_type": "stream",
          "name": "stdout",
          "text": [
            "GB | Epoch 0 | Loss: 1.5884335041046143 | Accuracy: 40.625%\n",
            "GB | Epoch 0 | Loss: 1.569271445274353 | Accuracy: 37.5%\n",
            "GB | Epoch 0 | Loss: 1.5635991096496582 | Accuracy: 31.25%\n",
            "GB | Epoch 0 | Loss: 1.5707236528396606 | Accuracy: 31.25%\n",
            "GB | Epoch 0 | Loss: 1.5807121992111206 | Accuracy: 39.0625%\n",
            "GB | Epoch 0 | Loss: 1.6046069860458374 | Accuracy: 26.5625%\n",
            "GB | Epoch 0 | Loss: 1.5605659484863281 | Accuracy: 40.625%\n",
            "GB | Epoch 0 | Loss: 1.5852203369140625 | Accuracy: 28.125%\n",
            "GB | Epoch 0 | Loss: 1.5536022186279297 | Accuracy: 42.1875%\n"
          ]
        },
        {
          "output_type": "stream",
          "name": "stderr",
          "text": [
            "Epoch 0:  93%|█████████▎| 701/751 [00:33<00:01, 43.97batch/s, accuracy=29.6875%, loss=1.58]"
          ]
        },
        {
          "output_type": "stream",
          "name": "stdout",
          "text": [
            "GB | Epoch 0 | Loss: 1.583253264427185 | Accuracy: 25.0%\n",
            "GB | Epoch 0 | Loss: 1.5947483777999878 | Accuracy: 26.5625%\n",
            "GB | Epoch 0 | Loss: 1.590592861175537 | Accuracy: 32.8125%\n",
            "GB | Epoch 0 | Loss: 1.5458412170410156 | Accuracy: 46.875%\n",
            "GB | Epoch 0 | Loss: 1.5786454677581787 | Accuracy: 29.6875%\n",
            "GB | Epoch 0 | Loss: 1.5914685726165771 | Accuracy: 31.25%\n",
            "GB | Epoch 0 | Loss: 1.587146282196045 | Accuracy: 28.125%\n",
            "GB | Epoch 0 | Loss: 1.5963126420974731 | Accuracy: 29.6875%\n",
            "GB | Epoch 0 | Loss: 1.5680756568908691 | Accuracy: 25.0%\n",
            "GB | Epoch 0 | Loss: 1.5845527648925781 | Accuracy: 29.6875%\n"
          ]
        },
        {
          "output_type": "stream",
          "name": "stderr",
          "text": [
            "Epoch 0:  95%|█████████▍| 711/751 [00:33<00:00, 43.74batch/s, accuracy=40.625%, loss=1.57] "
          ]
        },
        {
          "output_type": "stream",
          "name": "stdout",
          "text": [
            "GB | Epoch 0 | Loss: 1.5804362297058105 | Accuracy: 35.9375%\n",
            "GB | Epoch 0 | Loss: 1.5899029970169067 | Accuracy: 20.3125%\n",
            "GB | Epoch 0 | Loss: 1.5642824172973633 | Accuracy: 39.0625%\n",
            "GB | Epoch 0 | Loss: 1.5934215784072876 | Accuracy: 29.6875%\n",
            "GB | Epoch 0 | Loss: 1.5953742265701294 | Accuracy: 34.375%\n",
            "GB | Epoch 0 | Loss: 1.5717194080352783 | Accuracy: 40.625%\n",
            "GB | Epoch 0 | Loss: 1.5618633031845093 | Accuracy: 35.9375%\n",
            "GB | Epoch 0 | Loss: 1.5484988689422607 | Accuracy: 35.9375%\n",
            "GB | Epoch 0 | Loss: 1.5700796842575073 | Accuracy: 40.625%\n"
          ]
        },
        {
          "output_type": "stream",
          "name": "stderr",
          "text": [
            "Epoch 0:  96%|█████████▌| 721/751 [00:34<00:00, 44.09batch/s, accuracy=31.25%, loss=1.58]  "
          ]
        },
        {
          "output_type": "stream",
          "name": "stdout",
          "text": [
            "GB | Epoch 0 | Loss: 1.5855647325515747 | Accuracy: 26.5625%\n",
            "GB | Epoch 0 | Loss: 1.569081425666809 | Accuracy: 32.8125%\n",
            "GB | Epoch 0 | Loss: 1.5778197050094604 | Accuracy: 35.9375%\n",
            "GB | Epoch 0 | Loss: 1.5858639478683472 | Accuracy: 34.375%\n",
            "GB | Epoch 0 | Loss: 1.5777113437652588 | Accuracy: 32.8125%\n",
            "GB | Epoch 0 | Loss: 1.5646796226501465 | Accuracy: 35.9375%\n",
            "GB | Epoch 0 | Loss: 1.5961991548538208 | Accuracy: 29.6875%\n",
            "GB | Epoch 0 | Loss: 1.603002667427063 | Accuracy: 31.25%\n",
            "GB | Epoch 0 | Loss: 1.5719932317733765 | Accuracy: 32.8125%\n",
            "GB | Epoch 0 | Loss: 1.5785200595855713 | Accuracy: 31.25%\n"
          ]
        },
        {
          "output_type": "stream",
          "name": "stderr",
          "text": [
            "Epoch 0:  97%|█████████▋| 731/751 [00:34<00:00, 44.32batch/s, accuracy=29.6875%, loss=1.57]"
          ]
        },
        {
          "output_type": "stream",
          "name": "stdout",
          "text": [
            "GB | Epoch 0 | Loss: 1.5842556953430176 | Accuracy: 32.8125%\n",
            "GB | Epoch 0 | Loss: 1.5964210033416748 | Accuracy: 29.6875%\n",
            "GB | Epoch 0 | Loss: 1.569633960723877 | Accuracy: 40.625%\n",
            "GB | Epoch 0 | Loss: 1.566351294517517 | Accuracy: 32.8125%\n",
            "GB | Epoch 0 | Loss: 1.5756512880325317 | Accuracy: 29.6875%\n",
            "GB | Epoch 0 | Loss: 1.583237886428833 | Accuracy: 29.6875%\n",
            "GB | Epoch 0 | Loss: 1.567419171333313 | Accuracy: 32.8125%\n",
            "GB | Epoch 0 | Loss: 1.5758365392684937 | Accuracy: 29.6875%\n",
            "GB | Epoch 0 | Loss: 1.5875614881515503 | Accuracy: 26.5625%\n"
          ]
        },
        {
          "output_type": "stream",
          "name": "stderr",
          "text": [
            "Epoch 0:  99%|█████████▊| 741/751 [00:34<00:00, 44.65batch/s, accuracy=32.8125%, loss=1.54]"
          ]
        },
        {
          "output_type": "stream",
          "name": "stdout",
          "text": [
            "GB | Epoch 0 | Loss: 1.5719329118728638 | Accuracy: 29.6875%\n",
            "GB | Epoch 0 | Loss: 1.5792555809020996 | Accuracy: 39.0625%\n",
            "GB | Epoch 0 | Loss: 1.5836015939712524 | Accuracy: 39.0625%\n",
            "GB | Epoch 0 | Loss: 1.5486090183258057 | Accuracy: 39.0625%\n",
            "GB | Epoch 0 | Loss: 1.5819674730300903 | Accuracy: 34.375%\n",
            "GB | Epoch 0 | Loss: 1.5851047039031982 | Accuracy: 31.25%\n",
            "GB | Epoch 0 | Loss: 1.5539504289627075 | Accuracy: 35.9375%\n",
            "GB | Epoch 0 | Loss: 1.5813815593719482 | Accuracy: 37.5%\n",
            "GB | Epoch 0 | Loss: 1.5785443782806396 | Accuracy: 26.5625%\n",
            "GB | Epoch 0 | Loss: 1.544249176979065 | Accuracy: 32.8125%\n"
          ]
        },
        {
          "output_type": "stream",
          "name": "stderr",
          "text": [
            "Epoch 0:  99%|█████████▉| 746/751 [00:34<00:00, 44.87batch/s, accuracy=25.0%, loss=1.61]  "
          ]
        },
        {
          "output_type": "stream",
          "name": "stdout",
          "text": [
            "GB | Epoch 0 | Loss: 1.5733827352523804 | Accuracy: 43.75%\n",
            "GB | Epoch 0 | Loss: 1.5808457136154175 | Accuracy: 26.5625%\n",
            "GB | Epoch 0 | Loss: 1.5733931064605713 | Accuracy: 34.375%\n",
            "GB | Epoch 0 | Loss: 1.5587328672409058 | Accuracy: 42.1875%\n",
            "GB | Epoch 0 | Loss: 1.5812950134277344 | Accuracy: 34.375%\n",
            "GB | Epoch 0 | Loss: 1.5866817235946655 | Accuracy: 26.5625%\n",
            "GB | Epoch 0 | Loss: 1.5684961080551147 | Accuracy: 34.375%\n",
            "GB | Epoch 0 | Loss: 1.6075642108917236 | Accuracy: 25.0%\n"
          ]
        },
        {
          "output_type": "stream",
          "name": "stderr",
          "text": [
            "Epoch 0: 100%|██████████| 751/751 [00:34<00:00, 21.61batch/s, accuracy=25.0%, loss=1.61]\n",
            "Epoch 1:   1%|          | 4/751 [00:00<01:11, 10.42batch/s, accuracy=34.375%, loss=1.57] "
          ]
        },
        {
          "output_type": "stream",
          "name": "stdout",
          "text": [
            "GB | Epoch 1 | Loss: 1.5878541469573975 | Accuracy: 34.375%\n",
            "GB | Epoch 1 | Loss: 1.5691169500350952 | Accuracy: 32.8125%\n",
            "GB | Epoch 1 | Loss: 1.5898433923721313 | Accuracy: 28.125%\n",
            "GB | Epoch 1 | Loss: 1.5837260484695435 | Accuracy: 31.25%\n",
            "GB | Epoch 1 | Loss: 1.5656962394714355 | Accuracy: 37.5%\n",
            "GB | Epoch 1 | Loss: 1.6135640144348145 | Accuracy: 23.4375%\n",
            "GB | Epoch 1 | Loss: 1.571454644203186 | Accuracy: 34.375%\n"
          ]
        },
        {
          "output_type": "stream",
          "name": "stderr",
          "text": [
            "Epoch 1:   2%|▏         | 12/751 [00:00<00:32, 22.41batch/s, accuracy=32.8125%, loss=1.55]"
          ]
        },
        {
          "output_type": "stream",
          "name": "stdout",
          "text": [
            "GB | Epoch 1 | Loss: 1.6140496730804443 | Accuracy: 26.5625%\n",
            "GB | Epoch 1 | Loss: 1.5664020776748657 | Accuracy: 31.25%\n",
            "GB | Epoch 1 | Loss: 1.5589730739593506 | Accuracy: 39.0625%\n",
            "GB | Epoch 1 | Loss: 1.5820446014404297 | Accuracy: 35.9375%\n",
            "GB | Epoch 1 | Loss: 1.5538474321365356 | Accuracy: 43.75%\n",
            "GB | Epoch 1 | Loss: 1.538631558418274 | Accuracy: 43.75%\n",
            "GB | Epoch 1 | Loss: 1.552941918373108 | Accuracy: 32.8125%\n"
          ]
        },
        {
          "output_type": "stream",
          "name": "stderr",
          "text": [
            "Epoch 1:   3%|▎         | 20/751 [00:00<00:26, 27.81batch/s, accuracy=45.3125%, loss=1.53]"
          ]
        },
        {
          "output_type": "stream",
          "name": "stdout",
          "text": [
            "GB | Epoch 1 | Loss: 1.5805329084396362 | Accuracy: 35.9375%\n",
            "GB | Epoch 1 | Loss: 1.5745757818222046 | Accuracy: 32.8125%\n",
            "GB | Epoch 1 | Loss: 1.589656114578247 | Accuracy: 32.8125%\n",
            "GB | Epoch 1 | Loss: 1.5937544107437134 | Accuracy: 28.125%\n",
            "GB | Epoch 1 | Loss: 1.5582259893417358 | Accuracy: 37.5%\n",
            "GB | Epoch 1 | Loss: 1.5471338033676147 | Accuracy: 42.1875%\n",
            "GB | Epoch 1 | Loss: 1.5272438526153564 | Accuracy: 45.3125%\n"
          ]
        },
        {
          "output_type": "stream",
          "name": "stderr",
          "text": [
            "Epoch 1:   4%|▎         | 28/751 [00:01<00:24, 29.48batch/s, accuracy=25.0%, loss=1.59]"
          ]
        },
        {
          "output_type": "stream",
          "name": "stdout",
          "text": [
            "GB | Epoch 1 | Loss: 1.5749741792678833 | Accuracy: 34.375%\n",
            "GB | Epoch 1 | Loss: 1.5315430164337158 | Accuracy: 39.0625%\n",
            "GB | Epoch 1 | Loss: 1.566768765449524 | Accuracy: 31.25%\n",
            "GB | Epoch 1 | Loss: 1.5314222574234009 | Accuracy: 46.875%\n",
            "GB | Epoch 1 | Loss: 1.5545154809951782 | Accuracy: 40.625%\n",
            "GB | Epoch 1 | Loss: 1.5787354707717896 | Accuracy: 39.0625%\n",
            "GB | Epoch 1 | Loss: 1.5919395685195923 | Accuracy: 25.0%\n"
          ]
        },
        {
          "output_type": "stream",
          "name": "stderr",
          "text": [
            "Epoch 1:   4%|▍         | 32/751 [00:01<00:23, 30.33batch/s, accuracy=26.5625%, loss=1.58]"
          ]
        },
        {
          "output_type": "stream",
          "name": "stdout",
          "text": [
            "GB | Epoch 1 | Loss: 1.5941338539123535 | Accuracy: 26.5625%\n",
            "GB | Epoch 1 | Loss: 1.5475815534591675 | Accuracy: 40.625%\n",
            "GB | Epoch 1 | Loss: 1.545292854309082 | Accuracy: 29.6875%\n",
            "GB | Epoch 1 | Loss: 1.5679357051849365 | Accuracy: 37.5%\n",
            "GB | Epoch 1 | Loss: 1.5682475566864014 | Accuracy: 39.0625%\n",
            "GB | Epoch 1 | Loss: 1.5709326267242432 | Accuracy: 29.6875%\n",
            "GB | Epoch 1 | Loss: 1.5815296173095703 | Accuracy: 26.5625%\n"
          ]
        },
        {
          "output_type": "stream",
          "name": "stderr",
          "text": [
            "Epoch 1:   5%|▌         | 40/751 [00:01<00:22, 31.31batch/s, accuracy=34.375%, loss=1.57]"
          ]
        },
        {
          "output_type": "stream",
          "name": "stdout",
          "text": [
            "GB | Epoch 1 | Loss: 1.5574249029159546 | Accuracy: 37.5%\n",
            "GB | Epoch 1 | Loss: 1.5668200254440308 | Accuracy: 32.8125%\n",
            "GB | Epoch 1 | Loss: 1.5653022527694702 | Accuracy: 29.6875%\n",
            "GB | Epoch 1 | Loss: 1.5860503911972046 | Accuracy: 28.125%\n",
            "GB | Epoch 1 | Loss: 1.5803693532943726 | Accuracy: 32.8125%\n",
            "GB | Epoch 1 | Loss: 1.550094485282898 | Accuracy: 31.25%\n",
            "GB | Epoch 1 | Loss: 1.5698503255844116 | Accuracy: 34.375%\n"
          ]
        },
        {
          "output_type": "stream",
          "name": "stderr",
          "text": [
            "Epoch 1:   6%|▋         | 48/751 [00:01<00:21, 32.08batch/s, accuracy=39.0625%, loss=1.54]"
          ]
        },
        {
          "output_type": "stream",
          "name": "stdout",
          "text": [
            "GB | Epoch 1 | Loss: 1.5324394702911377 | Accuracy: 45.3125%\n",
            "GB | Epoch 1 | Loss: 1.5425668954849243 | Accuracy: 45.3125%\n",
            "GB | Epoch 1 | Loss: 1.5431257486343384 | Accuracy: 40.625%\n",
            "GB | Epoch 1 | Loss: 1.5448664426803589 | Accuracy: 37.5%\n",
            "GB | Epoch 1 | Loss: 1.571305751800537 | Accuracy: 34.375%\n",
            "GB | Epoch 1 | Loss: 1.5366829633712769 | Accuracy: 37.5%\n",
            "GB | Epoch 1 | Loss: 1.5394530296325684 | Accuracy: 39.0625%\n"
          ]
        },
        {
          "output_type": "stream",
          "name": "stderr",
          "text": [
            "Epoch 1:   7%|▋         | 56/751 [00:02<00:21, 32.60batch/s, accuracy=37.5%, loss=1.55]"
          ]
        },
        {
          "output_type": "stream",
          "name": "stdout",
          "text": [
            "GB | Epoch 1 | Loss: 1.57218337059021 | Accuracy: 32.8125%\n",
            "GB | Epoch 1 | Loss: 1.5670397281646729 | Accuracy: 39.0625%\n",
            "GB | Epoch 1 | Loss: 1.5485910177230835 | Accuracy: 34.375%\n",
            "GB | Epoch 1 | Loss: 1.5598810911178589 | Accuracy: 37.5%\n",
            "GB | Epoch 1 | Loss: 1.5864373445510864 | Accuracy: 28.125%\n",
            "GB | Epoch 1 | Loss: 1.5383825302124023 | Accuracy: 37.5%\n",
            "GB | Epoch 1 | Loss: 1.5474677085876465 | Accuracy: 37.5%\n"
          ]
        },
        {
          "output_type": "stream",
          "name": "stderr",
          "text": [
            "Epoch 1:   8%|▊         | 60/751 [00:02<00:21, 32.52batch/s, accuracy=26.5625%, loss=1.56]"
          ]
        },
        {
          "output_type": "stream",
          "name": "stdout",
          "text": [
            "GB | Epoch 1 | Loss: 1.5347039699554443 | Accuracy: 39.0625%\n",
            "GB | Epoch 1 | Loss: 1.5892691612243652 | Accuracy: 20.3125%\n",
            "GB | Epoch 1 | Loss: 1.5282191038131714 | Accuracy: 43.75%\n",
            "GB | Epoch 1 | Loss: 1.5745757818222046 | Accuracy: 39.0625%\n",
            "GB | Epoch 1 | Loss: 1.5384149551391602 | Accuracy: 37.5%\n",
            "GB | Epoch 1 | Loss: 1.5572240352630615 | Accuracy: 26.5625%\n"
          ]
        },
        {
          "output_type": "stream",
          "name": "stderr",
          "text": [
            "Epoch 1:   9%|▉         | 68/751 [00:02<00:22, 30.58batch/s, accuracy=31.25%, loss=1.55]  "
          ]
        },
        {
          "output_type": "stream",
          "name": "stdout",
          "text": [
            "GB | Epoch 1 | Loss: 1.5137243270874023 | Accuracy: 40.625%\n",
            "GB | Epoch 1 | Loss: 1.5482759475708008 | Accuracy: 45.3125%\n",
            "GB | Epoch 1 | Loss: 1.571630597114563 | Accuracy: 39.0625%\n",
            "GB | Epoch 1 | Loss: 1.5660613775253296 | Accuracy: 35.9375%\n",
            "GB | Epoch 1 | Loss: 1.5167158842086792 | Accuracy: 40.625%\n",
            "GB | Epoch 1 | Loss: 1.5286809206008911 | Accuracy: 39.0625%\n",
            "GB | Epoch 1 | Loss: 1.5475462675094604 | Accuracy: 31.25%\n"
          ]
        },
        {
          "output_type": "stream",
          "name": "stderr",
          "text": [
            "Epoch 1:  10%|█         | 76/751 [00:02<00:21, 30.87batch/s, accuracy=34.375%, loss=1.56]"
          ]
        },
        {
          "output_type": "stream",
          "name": "stdout",
          "text": [
            "GB | Epoch 1 | Loss: 1.5612950325012207 | Accuracy: 35.9375%\n",
            "GB | Epoch 1 | Loss: 1.5417500734329224 | Accuracy: 45.3125%\n",
            "GB | Epoch 1 | Loss: 1.588684320449829 | Accuracy: 26.5625%\n",
            "GB | Epoch 1 | Loss: 1.5606355667114258 | Accuracy: 34.375%\n",
            "GB | Epoch 1 | Loss: 1.6012152433395386 | Accuracy: 28.125%\n",
            "GB | Epoch 1 | Loss: 1.5713015794754028 | Accuracy: 28.125%\n",
            "GB | Epoch 1 | Loss: 1.5597718954086304 | Accuracy: 34.375%\n"
          ]
        },
        {
          "output_type": "stream",
          "name": "stderr",
          "text": [
            "Epoch 1:  11%|█         | 80/751 [00:02<00:21, 30.79batch/s, accuracy=32.8125%, loss=1.57]"
          ]
        },
        {
          "output_type": "stream",
          "name": "stdout",
          "text": [
            "GB | Epoch 1 | Loss: 1.5375667810440063 | Accuracy: 35.9375%\n",
            "GB | Epoch 1 | Loss: 1.5031647682189941 | Accuracy: 40.625%\n",
            "GB | Epoch 1 | Loss: 1.5292179584503174 | Accuracy: 43.75%\n",
            "GB | Epoch 1 | Loss: 1.555869221687317 | Accuracy: 39.0625%\n",
            "GB | Epoch 1 | Loss: 1.5489376783370972 | Accuracy: 37.5%\n",
            "GB | Epoch 1 | Loss: 1.56874418258667 | Accuracy: 29.6875%\n",
            "GB | Epoch 1 | Loss: 1.5715481042861938 | Accuracy: 32.8125%\n"
          ]
        },
        {
          "output_type": "stream",
          "name": "stderr",
          "text": [
            "Epoch 1:  12%|█▏        | 88/751 [00:03<00:21, 30.70batch/s, accuracy=39.0625%, loss=1.55]"
          ]
        },
        {
          "output_type": "stream",
          "name": "stdout",
          "text": [
            "GB | Epoch 1 | Loss: 1.5316007137298584 | Accuracy: 37.5%\n",
            "GB | Epoch 1 | Loss: 1.552720546722412 | Accuracy: 28.125%\n",
            "GB | Epoch 1 | Loss: 1.5178316831588745 | Accuracy: 39.0625%\n",
            "GB | Epoch 1 | Loss: 1.5674546957015991 | Accuracy: 28.125%\n",
            "GB | Epoch 1 | Loss: 1.5624127388000488 | Accuracy: 29.6875%\n",
            "GB | Epoch 1 | Loss: 1.5643723011016846 | Accuracy: 34.375%\n",
            "GB | Epoch 1 | Loss: 1.5549983978271484 | Accuracy: 39.0625%\n"
          ]
        },
        {
          "output_type": "stream",
          "name": "stderr",
          "text": [
            "Epoch 1:  13%|█▎        | 96/751 [00:03<00:21, 29.78batch/s, accuracy=37.5%, loss=1.55]   "
          ]
        },
        {
          "output_type": "stream",
          "name": "stdout",
          "text": [
            "GB | Epoch 1 | Loss: 1.5301408767700195 | Accuracy: 35.9375%\n",
            "GB | Epoch 1 | Loss: 1.542545199394226 | Accuracy: 35.9375%\n",
            "GB | Epoch 1 | Loss: 1.5143179893493652 | Accuracy: 39.0625%\n",
            "GB | Epoch 1 | Loss: 1.5233125686645508 | Accuracy: 40.625%\n",
            "GB | Epoch 1 | Loss: 1.5120261907577515 | Accuracy: 39.0625%\n",
            "GB | Epoch 1 | Loss: 1.5734704732894897 | Accuracy: 39.0625%\n",
            "GB | Epoch 1 | Loss: 1.5460323095321655 | Accuracy: 37.5%\n"
          ]
        },
        {
          "output_type": "stream",
          "name": "stderr",
          "text": [
            "Epoch 1:  14%|█▍        | 106/751 [00:03<00:17, 36.87batch/s, accuracy=43.75%, loss=1.56]  "
          ]
        },
        {
          "output_type": "stream",
          "name": "stdout",
          "text": [
            "GB | Epoch 1 | Loss: 1.5358537435531616 | Accuracy: 51.5625%\n",
            "GB | Epoch 1 | Loss: 1.5479401350021362 | Accuracy: 43.75%\n",
            "GB | Epoch 1 | Loss: 1.5163421630859375 | Accuracy: 48.4375%\n",
            "GB | Epoch 1 | Loss: 1.5350860357284546 | Accuracy: 42.1875%\n",
            "GB | Epoch 1 | Loss: 1.5086802244186401 | Accuracy: 43.75%\n",
            "GB | Epoch 1 | Loss: 1.5444415807724 | Accuracy: 40.625%\n",
            "GB | Epoch 1 | Loss: 1.532515525817871 | Accuracy: 40.625%\n",
            "GB | Epoch 1 | Loss: 1.5342532396316528 | Accuracy: 45.3125%\n",
            "GB | Epoch 1 | Loss: 1.5416812896728516 | Accuracy: 42.1875%\n",
            "GB | Epoch 1 | Loss: 1.5642156600952148 | Accuracy: 43.75%\n"
          ]
        },
        {
          "output_type": "stream",
          "name": "stderr",
          "text": [
            "Epoch 1:  15%|█▌        | 116/751 [00:03<00:15, 40.74batch/s, accuracy=46.875%, loss=1.53]"
          ]
        },
        {
          "output_type": "stream",
          "name": "stdout",
          "text": [
            "GB | Epoch 1 | Loss: 1.5024266242980957 | Accuracy: 45.3125%\n",
            "GB | Epoch 1 | Loss: 1.5643757581710815 | Accuracy: 39.0625%\n",
            "GB | Epoch 1 | Loss: 1.532893180847168 | Accuracy: 40.625%\n",
            "GB | Epoch 1 | Loss: 1.5574750900268555 | Accuracy: 32.8125%\n",
            "GB | Epoch 1 | Loss: 1.6063241958618164 | Accuracy: 28.125%\n",
            "GB | Epoch 1 | Loss: 1.5181971788406372 | Accuracy: 50.0%\n",
            "GB | Epoch 1 | Loss: 1.5211503505706787 | Accuracy: 50.0%\n",
            "GB | Epoch 1 | Loss: 1.4641832113265991 | Accuracy: 51.5625%\n",
            "GB | Epoch 1 | Loss: 1.5689506530761719 | Accuracy: 31.25%\n",
            "GB | Epoch 1 | Loss: 1.5307658910751343 | Accuracy: 46.875%\n"
          ]
        },
        {
          "output_type": "stream",
          "name": "stderr",
          "text": [
            "Epoch 1:  17%|█▋        | 126/751 [00:04<00:14, 42.54batch/s, accuracy=45.3125%, loss=1.5]"
          ]
        },
        {
          "output_type": "stream",
          "name": "stdout",
          "text": [
            "GB | Epoch 1 | Loss: 1.5246292352676392 | Accuracy: 48.4375%\n",
            "GB | Epoch 1 | Loss: 1.512693166732788 | Accuracy: 50.0%\n",
            "GB | Epoch 1 | Loss: 1.5849826335906982 | Accuracy: 34.375%\n",
            "GB | Epoch 1 | Loss: 1.5717473030090332 | Accuracy: 31.25%\n",
            "GB | Epoch 1 | Loss: 1.5424357652664185 | Accuracy: 39.0625%\n",
            "GB | Epoch 1 | Loss: 1.476198673248291 | Accuracy: 53.125%\n",
            "GB | Epoch 1 | Loss: 1.5288727283477783 | Accuracy: 37.5%\n",
            "GB | Epoch 1 | Loss: 1.5471006631851196 | Accuracy: 40.625%\n",
            "GB | Epoch 1 | Loss: 1.497865915298462 | Accuracy: 45.3125%\n"
          ]
        },
        {
          "output_type": "stream",
          "name": "stderr",
          "text": [
            "Epoch 1:  18%|█▊        | 136/751 [00:04<00:14, 43.81batch/s, accuracy=40.625%, loss=1.54]"
          ]
        },
        {
          "output_type": "stream",
          "name": "stdout",
          "text": [
            "GB | Epoch 1 | Loss: 1.5688562393188477 | Accuracy: 40.625%\n",
            "GB | Epoch 1 | Loss: 1.6110634803771973 | Accuracy: 31.25%\n",
            "GB | Epoch 1 | Loss: 1.5305253267288208 | Accuracy: 54.6875%\n",
            "GB | Epoch 1 | Loss: 1.5343235731124878 | Accuracy: 43.75%\n",
            "GB | Epoch 1 | Loss: 1.5343873500823975 | Accuracy: 40.625%\n",
            "GB | Epoch 1 | Loss: 1.507123589515686 | Accuracy: 50.0%\n",
            "GB | Epoch 1 | Loss: 1.5914536714553833 | Accuracy: 35.9375%\n",
            "GB | Epoch 1 | Loss: 1.5295339822769165 | Accuracy: 53.125%\n",
            "GB | Epoch 1 | Loss: 1.528709888458252 | Accuracy: 45.3125%\n",
            "GB | Epoch 1 | Loss: 1.5448676347732544 | Accuracy: 40.625%\n"
          ]
        },
        {
          "output_type": "stream",
          "name": "stderr",
          "text": [
            "Epoch 1:  19%|█▉        | 141/751 [00:04<00:14, 41.67batch/s, accuracy=51.5625%, loss=1.53]"
          ]
        },
        {
          "output_type": "stream",
          "name": "stdout",
          "text": [
            "GB | Epoch 1 | Loss: 1.551383137702942 | Accuracy: 37.5%\n",
            "GB | Epoch 1 | Loss: 1.5608813762664795 | Accuracy: 32.8125%\n",
            "GB | Epoch 1 | Loss: 1.5680208206176758 | Accuracy: 40.625%\n",
            "GB | Epoch 1 | Loss: 1.53202486038208 | Accuracy: 48.4375%\n",
            "GB | Epoch 1 | Loss: 1.5423394441604614 | Accuracy: 39.0625%\n",
            "GB | Epoch 1 | Loss: 1.5001258850097656 | Accuracy: 46.875%\n",
            "GB | Epoch 1 | Loss: 1.587648630142212 | Accuracy: 29.6875%\n",
            "GB | Epoch 1 | Loss: 1.5175992250442505 | Accuracy: 51.5625%\n",
            "GB | Epoch 1 | Loss: 1.5288165807724 | Accuracy: 51.5625%\n"
          ]
        },
        {
          "output_type": "stream",
          "name": "stderr",
          "text": [
            "Epoch 1:  20%|██        | 151/751 [00:04<00:14, 42.85batch/s, accuracy=31.25%, loss=1.63]  "
          ]
        },
        {
          "output_type": "stream",
          "name": "stdout",
          "text": [
            "GB | Epoch 1 | Loss: 1.502115249633789 | Accuracy: 40.625%\n",
            "GB | Epoch 1 | Loss: 1.5341150760650635 | Accuracy: 42.1875%\n",
            "GB | Epoch 1 | Loss: 1.5362086296081543 | Accuracy: 45.3125%\n",
            "GB | Epoch 1 | Loss: 1.5042800903320312 | Accuracy: 50.0%\n",
            "GB | Epoch 1 | Loss: 1.4927634000778198 | Accuracy: 48.4375%\n",
            "GB | Epoch 1 | Loss: 1.5226593017578125 | Accuracy: 48.4375%\n",
            "GB | Epoch 1 | Loss: 1.5299290418624878 | Accuracy: 40.625%\n",
            "GB | Epoch 1 | Loss: 1.4630345106124878 | Accuracy: 45.3125%\n",
            "GB | Epoch 1 | Loss: 1.6250858306884766 | Accuracy: 31.25%\n"
          ]
        },
        {
          "output_type": "stream",
          "name": "stderr",
          "text": [
            "Epoch 1:  21%|██▏       | 161/751 [00:04<00:13, 43.82batch/s, accuracy=32.8125%, loss=1.6]"
          ]
        },
        {
          "output_type": "stream",
          "name": "stdout",
          "text": [
            "GB | Epoch 1 | Loss: 1.5438132286071777 | Accuracy: 43.75%\n",
            "GB | Epoch 1 | Loss: 1.5378031730651855 | Accuracy: 48.4375%\n",
            "GB | Epoch 1 | Loss: 1.5247091054916382 | Accuracy: 43.75%\n",
            "GB | Epoch 1 | Loss: 1.601355791091919 | Accuracy: 35.9375%\n",
            "GB | Epoch 1 | Loss: 1.5410257577896118 | Accuracy: 46.875%\n",
            "GB | Epoch 1 | Loss: 1.4425804615020752 | Accuracy: 57.8125%\n",
            "GB | Epoch 1 | Loss: 1.5089218616485596 | Accuracy: 53.125%\n",
            "GB | Epoch 1 | Loss: 1.5642166137695312 | Accuracy: 28.125%\n",
            "GB | Epoch 1 | Loss: 1.6046854257583618 | Accuracy: 32.8125%\n"
          ]
        },
        {
          "output_type": "stream",
          "name": "stderr",
          "text": [
            "Epoch 1:  23%|██▎       | 171/751 [00:05<00:13, 43.92batch/s, accuracy=45.3125%, loss=1.51]"
          ]
        },
        {
          "output_type": "stream",
          "name": "stdout",
          "text": [
            "GB | Epoch 1 | Loss: 1.4938892126083374 | Accuracy: 43.75%\n",
            "GB | Epoch 1 | Loss: 1.5066554546356201 | Accuracy: 50.0%\n",
            "GB | Epoch 1 | Loss: 1.582513689994812 | Accuracy: 43.75%\n",
            "GB | Epoch 1 | Loss: 1.5063648223876953 | Accuracy: 43.75%\n",
            "GB | Epoch 1 | Loss: 1.5659220218658447 | Accuracy: 29.6875%\n",
            "GB | Epoch 1 | Loss: 1.573935866355896 | Accuracy: 32.8125%\n",
            "GB | Epoch 1 | Loss: 1.521848201751709 | Accuracy: 40.625%\n",
            "GB | Epoch 1 | Loss: 1.4921870231628418 | Accuracy: 43.75%\n",
            "GB | Epoch 1 | Loss: 1.5078532695770264 | Accuracy: 45.3125%\n"
          ]
        },
        {
          "output_type": "stream",
          "name": "stderr",
          "text": [
            "Epoch 1:  24%|██▍       | 181/751 [00:05<00:13, 43.47batch/s, accuracy=48.4375%, loss=1.49]"
          ]
        },
        {
          "output_type": "stream",
          "name": "stdout",
          "text": [
            "GB | Epoch 1 | Loss: 1.5352281332015991 | Accuracy: 42.1875%\n",
            "GB | Epoch 1 | Loss: 1.4939219951629639 | Accuracy: 45.3125%\n",
            "GB | Epoch 1 | Loss: 1.4952224493026733 | Accuracy: 48.4375%\n",
            "GB | Epoch 1 | Loss: 1.5582834482192993 | Accuracy: 39.0625%\n",
            "GB | Epoch 1 | Loss: 1.5419257879257202 | Accuracy: 42.1875%\n",
            "GB | Epoch 1 | Loss: 1.5006628036499023 | Accuracy: 50.0%\n",
            "GB | Epoch 1 | Loss: 1.5189555883407593 | Accuracy: 45.3125%\n",
            "GB | Epoch 1 | Loss: 1.5004589557647705 | Accuracy: 31.25%\n",
            "GB | Epoch 1 | Loss: 1.4885414838790894 | Accuracy: 48.4375%\n"
          ]
        },
        {
          "output_type": "stream",
          "name": "stderr",
          "text": [
            "Epoch 1:  25%|██▍       | 186/751 [00:05<00:13, 41.80batch/s, accuracy=35.9375%, loss=1.58]"
          ]
        },
        {
          "output_type": "stream",
          "name": "stdout",
          "text": [
            "GB | Epoch 1 | Loss: 1.4471772909164429 | Accuracy: 51.5625%\n",
            "GB | Epoch 1 | Loss: 1.5607281923294067 | Accuracy: 32.8125%\n",
            "GB | Epoch 1 | Loss: 1.517114281654358 | Accuracy: 43.75%\n",
            "GB | Epoch 1 | Loss: 1.4989959001541138 | Accuracy: 43.75%\n",
            "GB | Epoch 1 | Loss: 1.5608853101730347 | Accuracy: 34.375%\n",
            "GB | Epoch 1 | Loss: 1.5148940086364746 | Accuracy: 46.875%\n",
            "GB | Epoch 1 | Loss: 1.4938099384307861 | Accuracy: 42.1875%\n",
            "GB | Epoch 1 | Loss: 1.5126395225524902 | Accuracy: 46.875%\n",
            "GB | Epoch 1 | Loss: 1.5780270099639893 | Accuracy: 35.9375%\n"
          ]
        },
        {
          "output_type": "stream",
          "name": "stderr",
          "text": [
            "Epoch 1:  26%|██▌       | 196/751 [00:05<00:13, 42.67batch/s, accuracy=51.5625%, loss=1.49]"
          ]
        },
        {
          "output_type": "stream",
          "name": "stdout",
          "text": [
            "GB | Epoch 1 | Loss: 1.5146901607513428 | Accuracy: 43.75%\n",
            "GB | Epoch 1 | Loss: 1.5555450916290283 | Accuracy: 29.6875%\n",
            "GB | Epoch 1 | Loss: 1.4886417388916016 | Accuracy: 42.1875%\n",
            "GB | Epoch 1 | Loss: 1.4957009553909302 | Accuracy: 46.875%\n",
            "GB | Epoch 1 | Loss: 1.5458173751831055 | Accuracy: 39.0625%\n",
            "GB | Epoch 1 | Loss: 1.5178498029708862 | Accuracy: 48.4375%\n",
            "GB | Epoch 1 | Loss: 1.4717615842819214 | Accuracy: 56.25%\n",
            "GB | Epoch 1 | Loss: 1.5142303705215454 | Accuracy: 46.875%\n",
            "GB | Epoch 1 | Loss: 1.4852354526519775 | Accuracy: 51.5625%\n"
          ]
        },
        {
          "output_type": "stream",
          "name": "stderr",
          "text": [
            "Epoch 1:  27%|██▋       | 206/751 [00:05<00:12, 43.13batch/s, accuracy=48.4375%, loss=1.52]"
          ]
        },
        {
          "output_type": "stream",
          "name": "stdout",
          "text": [
            "GB | Epoch 1 | Loss: 1.438990592956543 | Accuracy: 53.125%\n",
            "GB | Epoch 1 | Loss: 1.524731993675232 | Accuracy: 40.625%\n",
            "GB | Epoch 1 | Loss: 1.5682871341705322 | Accuracy: 45.3125%\n",
            "GB | Epoch 1 | Loss: 1.489514708518982 | Accuracy: 56.25%\n",
            "GB | Epoch 1 | Loss: 1.4276742935180664 | Accuracy: 62.5%\n",
            "GB | Epoch 1 | Loss: 1.580155611038208 | Accuracy: 40.625%\n",
            "GB | Epoch 1 | Loss: 1.505132794380188 | Accuracy: 50.0%\n",
            "GB | Epoch 1 | Loss: 1.5326201915740967 | Accuracy: 45.3125%\n",
            "GB | Epoch 1 | Loss: 1.5189440250396729 | Accuracy: 48.4375%\n"
          ]
        },
        {
          "output_type": "stream",
          "name": "stderr",
          "text": [
            "Epoch 1:  29%|██▉       | 216/751 [00:06<00:12, 43.83batch/s, accuracy=51.5625%, loss=1.48]"
          ]
        },
        {
          "output_type": "stream",
          "name": "stdout",
          "text": [
            "GB | Epoch 1 | Loss: 1.4888973236083984 | Accuracy: 59.375%\n",
            "GB | Epoch 1 | Loss: 1.4760326147079468 | Accuracy: 54.6875%\n",
            "GB | Epoch 1 | Loss: 1.5157116651535034 | Accuracy: 48.4375%\n",
            "GB | Epoch 1 | Loss: 1.4820820093154907 | Accuracy: 46.875%\n",
            "GB | Epoch 1 | Loss: 1.555419921875 | Accuracy: 43.75%\n",
            "GB | Epoch 1 | Loss: 1.4927339553833008 | Accuracy: 48.4375%\n",
            "GB | Epoch 1 | Loss: 1.5188674926757812 | Accuracy: 43.75%\n",
            "GB | Epoch 1 | Loss: 1.5427700281143188 | Accuracy: 43.75%\n",
            "GB | Epoch 1 | Loss: 1.5142574310302734 | Accuracy: 46.875%\n",
            "GB | Epoch 1 | Loss: 1.4833958148956299 | Accuracy: 51.5625%\n"
          ]
        },
        {
          "output_type": "stream",
          "name": "stderr",
          "text": [
            "Epoch 1:  30%|███       | 226/751 [00:06<00:11, 43.86batch/s, accuracy=56.25%, loss=1.44]"
          ]
        },
        {
          "output_type": "stream",
          "name": "stdout",
          "text": [
            "GB | Epoch 1 | Loss: 1.468424916267395 | Accuracy: 54.6875%\n",
            "GB | Epoch 1 | Loss: 1.497393012046814 | Accuracy: 43.75%\n",
            "GB | Epoch 1 | Loss: 1.450822353363037 | Accuracy: 56.25%\n",
            "GB | Epoch 1 | Loss: 1.543778657913208 | Accuracy: 48.4375%\n",
            "GB | Epoch 1 | Loss: 1.4933371543884277 | Accuracy: 46.875%\n",
            "GB | Epoch 1 | Loss: 1.5244214534759521 | Accuracy: 48.4375%\n",
            "GB | Epoch 1 | Loss: 1.5470668077468872 | Accuracy: 42.1875%\n",
            "GB | Epoch 1 | Loss: 1.492366909980774 | Accuracy: 43.75%\n",
            "GB | Epoch 1 | Loss: 1.4361802339553833 | Accuracy: 56.25%\n"
          ]
        },
        {
          "output_type": "stream",
          "name": "stderr",
          "text": [
            "Epoch 1:  31%|███▏      | 236/751 [00:06<00:12, 42.13batch/s, accuracy=46.875%, loss=1.5]"
          ]
        },
        {
          "output_type": "stream",
          "name": "stdout",
          "text": [
            "GB | Epoch 1 | Loss: 1.496543049812317 | Accuracy: 46.875%\n",
            "GB | Epoch 1 | Loss: 1.4981398582458496 | Accuracy: 39.0625%\n",
            "GB | Epoch 1 | Loss: 1.4986952543258667 | Accuracy: 51.5625%\n",
            "GB | Epoch 1 | Loss: 1.4227216243743896 | Accuracy: 57.8125%\n",
            "GB | Epoch 1 | Loss: 1.5155143737792969 | Accuracy: 46.875%\n",
            "GB | Epoch 1 | Loss: 1.5167485475540161 | Accuracy: 48.4375%\n",
            "GB | Epoch 1 | Loss: 1.5616483688354492 | Accuracy: 40.625%\n",
            "GB | Epoch 1 | Loss: 1.4635984897613525 | Accuracy: 56.25%\n",
            "GB | Epoch 1 | Loss: 1.4955469369888306 | Accuracy: 46.875%\n"
          ]
        },
        {
          "output_type": "stream",
          "name": "stderr",
          "text": [
            "Epoch 1:  33%|███▎      | 246/751 [00:06<00:11, 43.22batch/s, accuracy=43.75%, loss=1.48]"
          ]
        },
        {
          "output_type": "stream",
          "name": "stdout",
          "text": [
            "GB | Epoch 1 | Loss: 1.5173618793487549 | Accuracy: 43.75%\n",
            "GB | Epoch 1 | Loss: 1.522986888885498 | Accuracy: 42.1875%\n",
            "GB | Epoch 1 | Loss: 1.4900004863739014 | Accuracy: 48.4375%\n",
            "GB | Epoch 1 | Loss: 1.4344345331192017 | Accuracy: 54.6875%\n",
            "GB | Epoch 1 | Loss: 1.508051872253418 | Accuracy: 43.75%\n",
            "GB | Epoch 1 | Loss: 1.4587866067886353 | Accuracy: 45.3125%\n",
            "GB | Epoch 1 | Loss: 1.412522554397583 | Accuracy: 50.0%\n",
            "GB | Epoch 1 | Loss: 1.4406734704971313 | Accuracy: 51.5625%\n",
            "GB | Epoch 1 | Loss: 1.4998962879180908 | Accuracy: 45.3125%\n",
            "GB | Epoch 1 | Loss: 1.4779629707336426 | Accuracy: 43.75%\n"
          ]
        },
        {
          "output_type": "stream",
          "name": "stderr",
          "text": [
            "Epoch 1:  34%|███▍      | 256/751 [00:07<00:11, 44.16batch/s, accuracy=45.3125%, loss=1.51]"
          ]
        },
        {
          "output_type": "stream",
          "name": "stdout",
          "text": [
            "GB | Epoch 1 | Loss: 1.575779676437378 | Accuracy: 35.9375%\n",
            "GB | Epoch 1 | Loss: 1.4611659049987793 | Accuracy: 39.0625%\n",
            "GB | Epoch 1 | Loss: 1.4706040620803833 | Accuracy: 51.5625%\n",
            "GB | Epoch 1 | Loss: 1.561604619026184 | Accuracy: 35.9375%\n",
            "GB | Epoch 1 | Loss: 1.4296234846115112 | Accuracy: 48.4375%\n",
            "GB | Epoch 1 | Loss: 1.518865942955017 | Accuracy: 40.625%\n",
            "GB | Epoch 1 | Loss: 1.504044771194458 | Accuracy: 45.3125%\n",
            "GB | Epoch 1 | Loss: 1.5268898010253906 | Accuracy: 37.5%\n",
            "GB | Epoch 1 | Loss: 1.5341418981552124 | Accuracy: 35.9375%\n",
            "GB | Epoch 1 | Loss: 1.5132371187210083 | Accuracy: 45.3125%\n"
          ]
        },
        {
          "output_type": "stream",
          "name": "stderr",
          "text": [
            "Epoch 1:  35%|███▌      | 266/751 [00:07<00:11, 44.04batch/s, accuracy=62.5%, loss=1.38]"
          ]
        },
        {
          "output_type": "stream",
          "name": "stdout",
          "text": [
            "GB | Epoch 1 | Loss: 1.4660087823867798 | Accuracy: 54.6875%\n",
            "GB | Epoch 1 | Loss: 1.5546374320983887 | Accuracy: 40.625%\n",
            "GB | Epoch 1 | Loss: 1.5425931215286255 | Accuracy: 48.4375%\n",
            "GB | Epoch 1 | Loss: 1.4652297496795654 | Accuracy: 48.4375%\n",
            "GB | Epoch 1 | Loss: 1.4462182521820068 | Accuracy: 48.4375%\n",
            "GB | Epoch 1 | Loss: 1.4235512018203735 | Accuracy: 57.8125%\n",
            "GB | Epoch 1 | Loss: 1.4835366010665894 | Accuracy: 43.75%\n",
            "GB | Epoch 1 | Loss: 1.4805608987808228 | Accuracy: 45.3125%\n",
            "GB | Epoch 1 | Loss: 1.5714399814605713 | Accuracy: 40.625%\n",
            "GB | Epoch 1 | Loss: 1.3759604692459106 | Accuracy: 62.5%\n"
          ]
        },
        {
          "output_type": "stream",
          "name": "stderr",
          "text": [
            "Epoch 1:  36%|███▌      | 271/751 [00:07<00:10, 44.23batch/s, accuracy=45.3125%, loss=1.41]"
          ]
        },
        {
          "output_type": "stream",
          "name": "stdout",
          "text": [
            "GB | Epoch 1 | Loss: 1.5007202625274658 | Accuracy: 50.0%\n",
            "GB | Epoch 1 | Loss: 1.4346692562103271 | Accuracy: 48.4375%\n",
            "GB | Epoch 1 | Loss: 1.496971607208252 | Accuracy: 53.125%\n",
            "GB | Epoch 1 | Loss: 1.5237840414047241 | Accuracy: 51.5625%\n",
            "GB | Epoch 1 | Loss: 1.4634895324707031 | Accuracy: 53.125%\n",
            "GB | Epoch 1 | Loss: 1.3622957468032837 | Accuracy: 65.625%\n",
            "GB | Epoch 1 | Loss: 1.4488985538482666 | Accuracy: 54.6875%\n",
            "GB | Epoch 1 | Loss: 1.4268916845321655 | Accuracy: 51.5625%\n",
            "GB | Epoch 1 | Loss: 1.4702636003494263 | Accuracy: 51.5625%\n"
          ]
        },
        {
          "output_type": "stream",
          "name": "stderr",
          "text": [
            "Epoch 1:  37%|███▋      | 281/751 [00:07<00:11, 41.73batch/s, accuracy=53.125%, loss=1.46]"
          ]
        },
        {
          "output_type": "stream",
          "name": "stdout",
          "text": [
            "GB | Epoch 1 | Loss: 1.4147800207138062 | Accuracy: 45.3125%\n",
            "GB | Epoch 1 | Loss: 1.5101481676101685 | Accuracy: 50.0%\n",
            "GB | Epoch 1 | Loss: 1.4160550832748413 | Accuracy: 53.125%\n",
            "GB | Epoch 1 | Loss: 1.4378364086151123 | Accuracy: 51.5625%\n",
            "GB | Epoch 1 | Loss: 1.4627313613891602 | Accuracy: 48.4375%\n",
            "GB | Epoch 1 | Loss: 1.503119945526123 | Accuracy: 39.0625%\n",
            "GB | Epoch 1 | Loss: 1.4636173248291016 | Accuracy: 53.125%\n",
            "GB | Epoch 1 | Loss: 1.388401985168457 | Accuracy: 56.25%\n",
            "GB | Epoch 1 | Loss: 1.4614001512527466 | Accuracy: 53.125%\n"
          ]
        },
        {
          "output_type": "stream",
          "name": "stderr",
          "text": [
            "Epoch 1:  39%|███▊      | 291/751 [00:07<00:10, 43.09batch/s, accuracy=54.6875%, loss=1.42]"
          ]
        },
        {
          "output_type": "stream",
          "name": "stdout",
          "text": [
            "GB | Epoch 1 | Loss: 1.3692742586135864 | Accuracy: 60.9375%\n",
            "GB | Epoch 1 | Loss: 1.5086748600006104 | Accuracy: 43.75%\n",
            "GB | Epoch 1 | Loss: 1.3846572637557983 | Accuracy: 60.9375%\n",
            "GB | Epoch 1 | Loss: 1.5281031131744385 | Accuracy: 43.75%\n",
            "GB | Epoch 1 | Loss: 1.3485552072525024 | Accuracy: 60.9375%\n",
            "GB | Epoch 1 | Loss: 1.4867208003997803 | Accuracy: 53.125%\n",
            "GB | Epoch 1 | Loss: 1.443032145500183 | Accuracy: 50.0%\n",
            "GB | Epoch 1 | Loss: 1.4012113809585571 | Accuracy: 54.6875%\n",
            "GB | Epoch 1 | Loss: 1.4371849298477173 | Accuracy: 56.25%\n",
            "GB | Epoch 1 | Loss: 1.4179413318634033 | Accuracy: 54.6875%\n"
          ]
        },
        {
          "output_type": "stream",
          "name": "stderr",
          "text": [
            "Epoch 1:  40%|████      | 301/751 [00:08<00:10, 43.52batch/s, accuracy=43.75%, loss=1.53]"
          ]
        },
        {
          "output_type": "stream",
          "name": "stdout",
          "text": [
            "GB | Epoch 1 | Loss: 1.5621763467788696 | Accuracy: 40.625%\n",
            "GB | Epoch 1 | Loss: 1.4106003046035767 | Accuracy: 53.125%\n",
            "GB | Epoch 1 | Loss: 1.4810130596160889 | Accuracy: 45.3125%\n",
            "GB | Epoch 1 | Loss: 1.529050588607788 | Accuracy: 39.0625%\n",
            "GB | Epoch 1 | Loss: 1.5273551940917969 | Accuracy: 48.4375%\n",
            "GB | Epoch 1 | Loss: 1.4853919744491577 | Accuracy: 46.875%\n",
            "GB | Epoch 1 | Loss: 1.4119857549667358 | Accuracy: 54.6875%\n",
            "GB | Epoch 1 | Loss: 1.4136408567428589 | Accuracy: 56.25%\n",
            "GB | Epoch 1 | Loss: 1.5332645177841187 | Accuracy: 43.75%\n"
          ]
        },
        {
          "output_type": "stream",
          "name": "stderr",
          "text": [
            "Epoch 1:  41%|████▏     | 311/751 [00:08<00:10, 43.15batch/s, accuracy=57.8125%, loss=1.41]"
          ]
        },
        {
          "output_type": "stream",
          "name": "stdout",
          "text": [
            "GB | Epoch 1 | Loss: 1.4177019596099854 | Accuracy: 54.6875%\n",
            "GB | Epoch 1 | Loss: 1.45234215259552 | Accuracy: 53.125%\n",
            "GB | Epoch 1 | Loss: 1.355423092842102 | Accuracy: 54.6875%\n",
            "GB | Epoch 1 | Loss: 1.4016081094741821 | Accuracy: 59.375%\n",
            "GB | Epoch 1 | Loss: 1.3814294338226318 | Accuracy: 51.5625%\n",
            "GB | Epoch 1 | Loss: 1.4297360181808472 | Accuracy: 48.4375%\n",
            "GB | Epoch 1 | Loss: 1.4867157936096191 | Accuracy: 40.625%\n",
            "GB | Epoch 1 | Loss: 1.555160403251648 | Accuracy: 43.75%\n",
            "GB | Epoch 1 | Loss: 1.406105875968933 | Accuracy: 57.8125%\n"
          ]
        },
        {
          "output_type": "stream",
          "name": "stderr",
          "text": [
            "Epoch 1:  43%|████▎     | 321/751 [00:08<00:09, 43.62batch/s, accuracy=50.0%, loss=1.49]"
          ]
        },
        {
          "output_type": "stream",
          "name": "stdout",
          "text": [
            "GB | Epoch 1 | Loss: 1.4536855220794678 | Accuracy: 48.4375%\n",
            "GB | Epoch 1 | Loss: 1.501212239265442 | Accuracy: 53.125%\n",
            "GB | Epoch 1 | Loss: 1.45701265335083 | Accuracy: 50.0%\n",
            "GB | Epoch 1 | Loss: 1.4236472845077515 | Accuracy: 50.0%\n",
            "GB | Epoch 1 | Loss: 1.4624364376068115 | Accuracy: 51.5625%\n",
            "GB | Epoch 1 | Loss: 1.4326754808425903 | Accuracy: 53.125%\n",
            "GB | Epoch 1 | Loss: 1.552424430847168 | Accuracy: 39.0625%\n",
            "GB | Epoch 1 | Loss: 1.492348313331604 | Accuracy: 46.875%\n",
            "GB | Epoch 1 | Loss: 1.4939559698104858 | Accuracy: 50.0%\n"
          ]
        },
        {
          "output_type": "stream",
          "name": "stderr",
          "text": [
            "Epoch 1:  43%|████▎     | 326/751 [00:08<00:10, 41.90batch/s, accuracy=48.4375%, loss=1.46]"
          ]
        },
        {
          "output_type": "stream",
          "name": "stdout",
          "text": [
            "GB | Epoch 1 | Loss: 1.3596563339233398 | Accuracy: 56.25%\n",
            "GB | Epoch 1 | Loss: 1.4243605136871338 | Accuracy: 51.5625%\n",
            "GB | Epoch 1 | Loss: 1.5153776407241821 | Accuracy: 48.4375%\n",
            "GB | Epoch 1 | Loss: 1.4954644441604614 | Accuracy: 37.5%\n",
            "GB | Epoch 1 | Loss: 1.4343796968460083 | Accuracy: 48.4375%\n",
            "GB | Epoch 1 | Loss: 1.4286919832229614 | Accuracy: 54.6875%\n",
            "GB | Epoch 1 | Loss: 1.5427533388137817 | Accuracy: 43.75%\n",
            "GB | Epoch 1 | Loss: 1.3943240642547607 | Accuracy: 57.8125%\n",
            "GB | Epoch 1 | Loss: 1.4579145908355713 | Accuracy: 48.4375%\n"
          ]
        },
        {
          "output_type": "stream",
          "name": "stderr",
          "text": [
            "Epoch 1:  45%|████▍     | 336/751 [00:09<00:09, 42.82batch/s, accuracy=46.875%, loss=1.44]"
          ]
        },
        {
          "output_type": "stream",
          "name": "stdout",
          "text": [
            "GB | Epoch 1 | Loss: 1.415055274963379 | Accuracy: 56.25%\n",
            "GB | Epoch 1 | Loss: 1.3381983041763306 | Accuracy: 56.25%\n",
            "GB | Epoch 1 | Loss: 1.4097882509231567 | Accuracy: 48.4375%\n",
            "GB | Epoch 1 | Loss: 1.3963301181793213 | Accuracy: 60.9375%\n",
            "GB | Epoch 1 | Loss: 1.4639660120010376 | Accuracy: 43.75%\n",
            "GB | Epoch 1 | Loss: 1.3823950290679932 | Accuracy: 53.125%\n",
            "GB | Epoch 1 | Loss: 1.5440375804901123 | Accuracy: 42.1875%\n",
            "GB | Epoch 1 | Loss: 1.5222498178482056 | Accuracy: 43.75%\n",
            "GB | Epoch 1 | Loss: 1.4400571584701538 | Accuracy: 46.875%\n"
          ]
        },
        {
          "output_type": "stream",
          "name": "stderr",
          "text": [
            "Epoch 1:  46%|████▌     | 346/751 [00:09<00:09, 43.37batch/s, accuracy=59.375%, loss=1.38]"
          ]
        },
        {
          "output_type": "stream",
          "name": "stdout",
          "text": [
            "GB | Epoch 1 | Loss: 1.5212830305099487 | Accuracy: 42.1875%\n",
            "GB | Epoch 1 | Loss: 1.4002283811569214 | Accuracy: 53.125%\n",
            "GB | Epoch 1 | Loss: 1.4577040672302246 | Accuracy: 46.875%\n",
            "GB | Epoch 1 | Loss: 1.5157734155654907 | Accuracy: 39.0625%\n",
            "GB | Epoch 1 | Loss: 1.4603092670440674 | Accuracy: 50.0%\n",
            "GB | Epoch 1 | Loss: 1.5099657773971558 | Accuracy: 48.4375%\n",
            "GB | Epoch 1 | Loss: 1.4857351779937744 | Accuracy: 43.75%\n",
            "GB | Epoch 1 | Loss: 1.4101746082305908 | Accuracy: 56.25%\n",
            "GB | Epoch 1 | Loss: 1.384379267692566 | Accuracy: 59.375%\n"
          ]
        },
        {
          "output_type": "stream",
          "name": "stderr",
          "text": [
            "Epoch 1:  47%|████▋     | 356/751 [00:09<00:09, 43.24batch/s, accuracy=56.25%, loss=1.37]"
          ]
        },
        {
          "output_type": "stream",
          "name": "stdout",
          "text": [
            "GB | Epoch 1 | Loss: 1.4570212364196777 | Accuracy: 50.0%\n",
            "GB | Epoch 1 | Loss: 1.4465094804763794 | Accuracy: 56.25%\n",
            "GB | Epoch 1 | Loss: 1.3993581533432007 | Accuracy: 53.125%\n",
            "GB | Epoch 1 | Loss: 1.3733365535736084 | Accuracy: 51.5625%\n",
            "GB | Epoch 1 | Loss: 1.4611632823944092 | Accuracy: 48.4375%\n",
            "GB | Epoch 1 | Loss: 1.3931024074554443 | Accuracy: 59.375%\n",
            "GB | Epoch 1 | Loss: 1.4530553817749023 | Accuracy: 46.875%\n",
            "GB | Epoch 1 | Loss: 1.4654176235198975 | Accuracy: 43.75%\n",
            "GB | Epoch 1 | Loss: 1.3701821565628052 | Accuracy: 56.25%\n"
          ]
        },
        {
          "output_type": "stream",
          "name": "stderr",
          "text": [
            "Epoch 1:  49%|████▊     | 366/751 [00:09<00:08, 43.48batch/s, accuracy=57.8125%, loss=1.39]"
          ]
        },
        {
          "output_type": "stream",
          "name": "stdout",
          "text": [
            "GB | Epoch 1 | Loss: 1.4497047662734985 | Accuracy: 50.0%\n",
            "GB | Epoch 1 | Loss: 1.4377421140670776 | Accuracy: 51.5625%\n",
            "GB | Epoch 1 | Loss: 1.3841148614883423 | Accuracy: 50.0%\n",
            "GB | Epoch 1 | Loss: 1.4155232906341553 | Accuracy: 48.4375%\n",
            "GB | Epoch 1 | Loss: 1.4134281873703003 | Accuracy: 53.125%\n",
            "GB | Epoch 1 | Loss: 1.4472581148147583 | Accuracy: 50.0%\n",
            "GB | Epoch 1 | Loss: 1.4533145427703857 | Accuracy: 50.0%\n",
            "GB | Epoch 1 | Loss: 1.3069545030593872 | Accuracy: 56.25%\n",
            "GB | Epoch 1 | Loss: 1.3908761739730835 | Accuracy: 57.8125%\n"
          ]
        },
        {
          "output_type": "stream",
          "name": "stderr",
          "text": [
            "Epoch 1:  49%|████▉     | 371/751 [00:09<00:09, 41.74batch/s, accuracy=50.0%, loss=1.42]"
          ]
        },
        {
          "output_type": "stream",
          "name": "stdout",
          "text": [
            "GB | Epoch 1 | Loss: 1.5281734466552734 | Accuracy: 42.1875%\n",
            "GB | Epoch 1 | Loss: 1.4004515409469604 | Accuracy: 51.5625%\n",
            "GB | Epoch 1 | Loss: 1.3548671007156372 | Accuracy: 56.25%\n",
            "GB | Epoch 1 | Loss: 1.507039189338684 | Accuracy: 46.875%\n",
            "GB | Epoch 1 | Loss: 1.342733383178711 | Accuracy: 56.25%\n",
            "GB | Epoch 1 | Loss: 1.403061866760254 | Accuracy: 53.125%\n",
            "GB | Epoch 1 | Loss: 1.5627107620239258 | Accuracy: 35.9375%\n",
            "GB | Epoch 1 | Loss: 1.497022032737732 | Accuracy: 43.75%\n",
            "GB | Epoch 1 | Loss: 1.4214266538619995 | Accuracy: 50.0%\n"
          ]
        },
        {
          "output_type": "stream",
          "name": "stderr",
          "text": [
            "Epoch 1:  51%|█████     | 381/751 [00:10<00:08, 43.16batch/s, accuracy=62.5%, loss=1.28]   "
          ]
        },
        {
          "output_type": "stream",
          "name": "stdout",
          "text": [
            "GB | Epoch 1 | Loss: 1.471692442893982 | Accuracy: 48.4375%\n",
            "GB | Epoch 1 | Loss: 1.4576830863952637 | Accuracy: 46.875%\n",
            "GB | Epoch 1 | Loss: 1.4045926332473755 | Accuracy: 54.6875%\n",
            "GB | Epoch 1 | Loss: 1.3574503660202026 | Accuracy: 56.25%\n",
            "GB | Epoch 1 | Loss: 1.4930018186569214 | Accuracy: 37.5%\n",
            "GB | Epoch 1 | Loss: 1.4175965785980225 | Accuracy: 50.0%\n",
            "GB | Epoch 1 | Loss: 1.3733488321304321 | Accuracy: 50.0%\n",
            "GB | Epoch 1 | Loss: 1.3832440376281738 | Accuracy: 54.6875%\n",
            "GB | Epoch 1 | Loss: 1.2783801555633545 | Accuracy: 62.5%\n"
          ]
        },
        {
          "output_type": "stream",
          "name": "stderr",
          "text": [
            "Epoch 1:  52%|█████▏    | 391/751 [00:10<00:08, 43.32batch/s, accuracy=40.625%, loss=1.5]  "
          ]
        },
        {
          "output_type": "stream",
          "name": "stdout",
          "text": [
            "GB | Epoch 1 | Loss: 1.3455219268798828 | Accuracy: 51.5625%\n",
            "GB | Epoch 1 | Loss: 1.3857425451278687 | Accuracy: 56.25%\n",
            "GB | Epoch 1 | Loss: 1.4331353902816772 | Accuracy: 45.3125%\n",
            "GB | Epoch 1 | Loss: 1.323889136314392 | Accuracy: 60.9375%\n",
            "GB | Epoch 1 | Loss: 1.5330464839935303 | Accuracy: 40.625%\n",
            "GB | Epoch 1 | Loss: 1.360512614250183 | Accuracy: 54.6875%\n",
            "GB | Epoch 1 | Loss: 1.4728899002075195 | Accuracy: 45.3125%\n",
            "GB | Epoch 1 | Loss: 1.3945529460906982 | Accuracy: 56.25%\n",
            "GB | Epoch 1 | Loss: 1.4158591032028198 | Accuracy: 48.4375%\n"
          ]
        },
        {
          "output_type": "stream",
          "name": "stderr",
          "text": [
            "Epoch 1:  53%|█████▎    | 401/751 [00:10<00:08, 43.29batch/s, accuracy=48.4375%, loss=1.42]"
          ]
        },
        {
          "output_type": "stream",
          "name": "stdout",
          "text": [
            "GB | Epoch 1 | Loss: 1.5011117458343506 | Accuracy: 40.625%\n",
            "GB | Epoch 1 | Loss: 1.3266079425811768 | Accuracy: 56.25%\n",
            "GB | Epoch 1 | Loss: 1.4755243062973022 | Accuracy: 42.1875%\n",
            "GB | Epoch 1 | Loss: 1.4063595533370972 | Accuracy: 51.5625%\n",
            "GB | Epoch 1 | Loss: 1.3917649984359741 | Accuracy: 46.875%\n",
            "GB | Epoch 1 | Loss: 1.5107589960098267 | Accuracy: 45.3125%\n",
            "GB | Epoch 1 | Loss: 1.4270952939987183 | Accuracy: 51.5625%\n",
            "GB | Epoch 1 | Loss: 1.5015720129013062 | Accuracy: 43.75%\n",
            "GB | Epoch 1 | Loss: 1.4169905185699463 | Accuracy: 48.4375%\n"
          ]
        },
        {
          "output_type": "stream",
          "name": "stderr",
          "text": [
            "Epoch 1:  55%|█████▍    | 411/751 [00:10<00:07, 43.34batch/s, accuracy=46.875%, loss=1.44]"
          ]
        },
        {
          "output_type": "stream",
          "name": "stdout",
          "text": [
            "GB | Epoch 1 | Loss: 1.320223093032837 | Accuracy: 59.375%\n",
            "GB | Epoch 1 | Loss: 1.4937552213668823 | Accuracy: 40.625%\n",
            "GB | Epoch 1 | Loss: 1.5599652528762817 | Accuracy: 35.9375%\n",
            "GB | Epoch 1 | Loss: 1.4120956659317017 | Accuracy: 51.5625%\n",
            "GB | Epoch 1 | Loss: 1.3895829916000366 | Accuracy: 51.5625%\n",
            "GB | Epoch 1 | Loss: 1.4358845949172974 | Accuracy: 48.4375%\n",
            "GB | Epoch 1 | Loss: 1.405822992324829 | Accuracy: 50.0%\n",
            "GB | Epoch 1 | Loss: 1.4502522945404053 | Accuracy: 43.75%\n",
            "GB | Epoch 1 | Loss: 1.4396724700927734 | Accuracy: 46.875%\n"
          ]
        },
        {
          "output_type": "stream",
          "name": "stderr",
          "text": [
            "Epoch 1:  55%|█████▌    | 416/751 [00:10<00:07, 41.91batch/s, accuracy=48.4375%, loss=1.37]"
          ]
        },
        {
          "output_type": "stream",
          "name": "stdout",
          "text": [
            "GB | Epoch 1 | Loss: 1.388974666595459 | Accuracy: 50.0%\n",
            "GB | Epoch 1 | Loss: 1.5099049806594849 | Accuracy: 43.75%\n",
            "GB | Epoch 1 | Loss: 1.373591661453247 | Accuracy: 50.0%\n",
            "GB | Epoch 1 | Loss: 1.3483418226242065 | Accuracy: 59.375%\n",
            "GB | Epoch 1 | Loss: 1.3286492824554443 | Accuracy: 53.125%\n",
            "GB | Epoch 1 | Loss: 1.420510172843933 | Accuracy: 51.5625%\n",
            "GB | Epoch 1 | Loss: 1.4068816900253296 | Accuracy: 46.875%\n",
            "GB | Epoch 1 | Loss: 1.4111733436584473 | Accuracy: 42.1875%\n",
            "GB | Epoch 1 | Loss: 1.372744083404541 | Accuracy: 48.4375%\n"
          ]
        },
        {
          "output_type": "stream",
          "name": "stderr",
          "text": [
            "Epoch 1:  57%|█████▋    | 426/751 [00:11<00:07, 42.35batch/s, accuracy=57.8125%, loss=1.33]"
          ]
        },
        {
          "output_type": "stream",
          "name": "stdout",
          "text": [
            "GB | Epoch 1 | Loss: 1.4089428186416626 | Accuracy: 46.875%\n",
            "GB | Epoch 1 | Loss: 1.3869930505752563 | Accuracy: 56.25%\n",
            "GB | Epoch 1 | Loss: 1.4198795557022095 | Accuracy: 53.125%\n",
            "GB | Epoch 1 | Loss: 1.5156246423721313 | Accuracy: 39.0625%\n",
            "GB | Epoch 1 | Loss: 1.3866453170776367 | Accuracy: 48.4375%\n",
            "GB | Epoch 1 | Loss: 1.2300444841384888 | Accuracy: 62.5%\n",
            "GB | Epoch 1 | Loss: 1.4720665216445923 | Accuracy: 45.3125%\n",
            "GB | Epoch 1 | Loss: 1.532263159751892 | Accuracy: 43.75%\n",
            "GB | Epoch 1 | Loss: 1.3271498680114746 | Accuracy: 57.8125%\n"
          ]
        },
        {
          "output_type": "stream",
          "name": "stderr",
          "text": [
            "Epoch 1:  58%|█████▊    | 436/751 [00:11<00:07, 42.70batch/s, accuracy=50.0%, loss=1.42]"
          ]
        },
        {
          "output_type": "stream",
          "name": "stdout",
          "text": [
            "GB | Epoch 1 | Loss: 1.3907376527786255 | Accuracy: 51.5625%\n",
            "GB | Epoch 1 | Loss: 1.4266642332077026 | Accuracy: 48.4375%\n",
            "GB | Epoch 1 | Loss: 1.3718193769454956 | Accuracy: 50.0%\n",
            "GB | Epoch 1 | Loss: 1.5360172986984253 | Accuracy: 43.75%\n",
            "GB | Epoch 1 | Loss: 1.3975825309753418 | Accuracy: 48.4375%\n",
            "GB | Epoch 1 | Loss: 1.4130090475082397 | Accuracy: 48.4375%\n",
            "GB | Epoch 1 | Loss: 1.3610001802444458 | Accuracy: 50.0%\n",
            "GB | Epoch 1 | Loss: 1.3732070922851562 | Accuracy: 50.0%\n",
            "GB | Epoch 1 | Loss: 1.4195330142974854 | Accuracy: 50.0%\n"
          ]
        },
        {
          "output_type": "stream",
          "name": "stderr",
          "text": [
            "Epoch 1:  59%|█████▉    | 446/751 [00:11<00:07, 42.80batch/s, accuracy=43.75%, loss=1.5]   "
          ]
        },
        {
          "output_type": "stream",
          "name": "stdout",
          "text": [
            "GB | Epoch 1 | Loss: 1.325957179069519 | Accuracy: 53.125%\n",
            "GB | Epoch 1 | Loss: 1.459097981452942 | Accuracy: 46.875%\n",
            "GB | Epoch 1 | Loss: 1.3574554920196533 | Accuracy: 56.25%\n",
            "GB | Epoch 1 | Loss: 1.4432978630065918 | Accuracy: 50.0%\n",
            "GB | Epoch 1 | Loss: 1.4371169805526733 | Accuracy: 48.4375%\n",
            "GB | Epoch 1 | Loss: 1.4860039949417114 | Accuracy: 42.1875%\n",
            "GB | Epoch 1 | Loss: 1.3467447757720947 | Accuracy: 50.0%\n",
            "GB | Epoch 1 | Loss: 1.327849268913269 | Accuracy: 54.6875%\n",
            "GB | Epoch 1 | Loss: 1.4967939853668213 | Accuracy: 43.75%\n"
          ]
        },
        {
          "output_type": "stream",
          "name": "stderr",
          "text": [
            "Epoch 1:  61%|██████    | 456/751 [00:11<00:07, 41.31batch/s, accuracy=51.5625%, loss=1.4]"
          ]
        },
        {
          "output_type": "stream",
          "name": "stdout",
          "text": [
            "GB | Epoch 1 | Loss: 1.379836082458496 | Accuracy: 54.6875%\n",
            "GB | Epoch 1 | Loss: 1.4139245748519897 | Accuracy: 50.0%\n",
            "GB | Epoch 1 | Loss: 1.292443871498108 | Accuracy: 54.6875%\n",
            "GB | Epoch 1 | Loss: 1.3753230571746826 | Accuracy: 48.4375%\n",
            "GB | Epoch 1 | Loss: 1.4726310968399048 | Accuracy: 43.75%\n",
            "GB | Epoch 1 | Loss: 1.5426970720291138 | Accuracy: 39.0625%\n",
            "GB | Epoch 1 | Loss: 1.47133207321167 | Accuracy: 43.75%\n",
            "GB | Epoch 1 | Loss: 1.5030431747436523 | Accuracy: 40.625%\n",
            "GB | Epoch 1 | Loss: 1.404772162437439 | Accuracy: 51.5625%\n"
          ]
        },
        {
          "output_type": "stream",
          "name": "stderr",
          "text": [
            "Epoch 1:  61%|██████▏   | 461/751 [00:11<00:07, 40.46batch/s, accuracy=48.4375%, loss=1.38]"
          ]
        },
        {
          "output_type": "stream",
          "name": "stdout",
          "text": [
            "GB | Epoch 1 | Loss: 1.3988919258117676 | Accuracy: 46.875%\n",
            "GB | Epoch 1 | Loss: 1.3816670179367065 | Accuracy: 53.125%\n",
            "GB | Epoch 1 | Loss: 1.414785385131836 | Accuracy: 48.4375%\n",
            "GB | Epoch 1 | Loss: 1.342511773109436 | Accuracy: 51.5625%\n",
            "GB | Epoch 1 | Loss: 1.4726202487945557 | Accuracy: 43.75%\n",
            "GB | Epoch 1 | Loss: 1.289425015449524 | Accuracy: 57.8125%\n",
            "GB | Epoch 1 | Loss: 1.3477972745895386 | Accuracy: 54.6875%\n",
            "GB | Epoch 1 | Loss: 1.4076554775238037 | Accuracy: 50.0%\n",
            "GB | Epoch 1 | Loss: 1.3821337223052979 | Accuracy: 48.4375%\n"
          ]
        },
        {
          "output_type": "stream",
          "name": "stderr",
          "text": [
            "Epoch 1:  63%|██████▎   | 471/751 [00:12<00:06, 41.81batch/s, accuracy=39.0625%, loss=1.5]"
          ]
        },
        {
          "output_type": "stream",
          "name": "stdout",
          "text": [
            "GB | Epoch 1 | Loss: 1.5768022537231445 | Accuracy: 35.9375%\n",
            "GB | Epoch 1 | Loss: 1.3580851554870605 | Accuracy: 54.6875%\n",
            "GB | Epoch 1 | Loss: 1.3737457990646362 | Accuracy: 54.6875%\n",
            "GB | Epoch 1 | Loss: 1.4363526105880737 | Accuracy: 50.0%\n",
            "GB | Epoch 1 | Loss: 1.3905612230300903 | Accuracy: 54.6875%\n",
            "GB | Epoch 1 | Loss: 1.3296663761138916 | Accuracy: 54.6875%\n",
            "GB | Epoch 1 | Loss: 1.3810540437698364 | Accuracy: 46.875%\n",
            "GB | Epoch 1 | Loss: 1.4572625160217285 | Accuracy: 46.875%\n",
            "GB | Epoch 1 | Loss: 1.5028624534606934 | Accuracy: 39.0625%\n"
          ]
        },
        {
          "output_type": "stream",
          "name": "stderr",
          "text": [
            "Epoch 1:  64%|██████▍   | 481/751 [00:12<00:06, 42.38batch/s, accuracy=46.875%, loss=1.46]"
          ]
        },
        {
          "output_type": "stream",
          "name": "stdout",
          "text": [
            "GB | Epoch 1 | Loss: 1.3824748992919922 | Accuracy: 54.6875%\n",
            "GB | Epoch 1 | Loss: 1.3836545944213867 | Accuracy: 48.4375%\n",
            "GB | Epoch 1 | Loss: 1.4255003929138184 | Accuracy: 48.4375%\n",
            "GB | Epoch 1 | Loss: 1.4892926216125488 | Accuracy: 39.0625%\n",
            "GB | Epoch 1 | Loss: 1.4038687944412231 | Accuracy: 48.4375%\n",
            "GB | Epoch 1 | Loss: 1.4686177968978882 | Accuracy: 43.75%\n",
            "GB | Epoch 1 | Loss: 1.3760491609573364 | Accuracy: 51.5625%\n",
            "GB | Epoch 1 | Loss: 1.43898344039917 | Accuracy: 50.0%\n",
            "GB | Epoch 1 | Loss: 1.4637812376022339 | Accuracy: 46.875%\n"
          ]
        },
        {
          "output_type": "stream",
          "name": "stderr",
          "text": [
            "Epoch 1:  65%|██████▌   | 491/751 [00:12<00:06, 43.09batch/s, accuracy=60.9375%, loss=1.22]"
          ]
        },
        {
          "output_type": "stream",
          "name": "stdout",
          "text": [
            "GB | Epoch 1 | Loss: 1.5288605690002441 | Accuracy: 40.625%\n",
            "GB | Epoch 1 | Loss: 1.4189889430999756 | Accuracy: 50.0%\n",
            "GB | Epoch 1 | Loss: 1.4092446565628052 | Accuracy: 48.4375%\n",
            "GB | Epoch 1 | Loss: 1.3224002122879028 | Accuracy: 56.25%\n",
            "GB | Epoch 1 | Loss: 1.3491120338439941 | Accuracy: 54.6875%\n",
            "GB | Epoch 1 | Loss: 1.3247203826904297 | Accuracy: 57.8125%\n",
            "GB | Epoch 1 | Loss: 1.4822908639907837 | Accuracy: 46.875%\n",
            "GB | Epoch 1 | Loss: 1.4071307182312012 | Accuracy: 46.875%\n",
            "GB | Epoch 1 | Loss: 1.3704437017440796 | Accuracy: 48.4375%\n",
            "GB | Epoch 1 | Loss: 1.22040855884552 | Accuracy: 60.9375%\n"
          ]
        },
        {
          "output_type": "stream",
          "name": "stderr",
          "text": [
            "Epoch 1:  67%|██████▋   | 501/751 [00:12<00:05, 42.99batch/s, accuracy=51.5625%, loss=1.41]"
          ]
        },
        {
          "output_type": "stream",
          "name": "stdout",
          "text": [
            "GB | Epoch 1 | Loss: 1.415690541267395 | Accuracy: 46.875%\n",
            "GB | Epoch 1 | Loss: 1.3735458850860596 | Accuracy: 54.6875%\n",
            "GB | Epoch 1 | Loss: 1.369493007659912 | Accuracy: 48.4375%\n",
            "GB | Epoch 1 | Loss: 1.454699158668518 | Accuracy: 39.0625%\n",
            "GB | Epoch 1 | Loss: 1.3440662622451782 | Accuracy: 53.125%\n",
            "GB | Epoch 1 | Loss: 1.4062165021896362 | Accuracy: 50.0%\n",
            "GB | Epoch 1 | Loss: 1.4378938674926758 | Accuracy: 42.1875%\n",
            "GB | Epoch 1 | Loss: 1.3382803201675415 | Accuracy: 48.4375%\n",
            "GB | Epoch 1 | Loss: 1.4078830480575562 | Accuracy: 51.5625%\n"
          ]
        },
        {
          "output_type": "stream",
          "name": "stderr",
          "text": [
            "Epoch 1:  68%|██████▊   | 511/751 [00:13<00:05, 42.33batch/s, accuracy=57.8125%, loss=1.3]"
          ]
        },
        {
          "output_type": "stream",
          "name": "stdout",
          "text": [
            "GB | Epoch 1 | Loss: 1.3392629623413086 | Accuracy: 53.125%\n",
            "GB | Epoch 1 | Loss: 1.4062854051589966 | Accuracy: 46.875%\n",
            "GB | Epoch 1 | Loss: 1.2542251348495483 | Accuracy: 57.8125%\n",
            "GB | Epoch 1 | Loss: 1.387091040611267 | Accuracy: 48.4375%\n",
            "GB | Epoch 1 | Loss: 1.3920537233352661 | Accuracy: 48.4375%\n",
            "GB | Epoch 1 | Loss: 1.3617984056472778 | Accuracy: 53.125%\n",
            "GB | Epoch 1 | Loss: 1.3782728910446167 | Accuracy: 46.875%\n",
            "GB | Epoch 1 | Loss: 1.4854825735092163 | Accuracy: 40.625%\n",
            "GB | Epoch 1 | Loss: 1.300339698791504 | Accuracy: 57.8125%\n"
          ]
        },
        {
          "output_type": "stream",
          "name": "stderr",
          "text": [
            "Epoch 1:  69%|██████▊   | 516/751 [00:13<00:05, 42.26batch/s, accuracy=50.0%, loss=1.35]  "
          ]
        },
        {
          "output_type": "stream",
          "name": "stdout",
          "text": [
            "GB | Epoch 1 | Loss: 1.488147497177124 | Accuracy: 35.9375%\n",
            "GB | Epoch 1 | Loss: 1.2041141986846924 | Accuracy: 64.0625%\n",
            "GB | Epoch 1 | Loss: 1.3908041715621948 | Accuracy: 48.4375%\n",
            "GB | Epoch 1 | Loss: 1.342771291732788 | Accuracy: 51.5625%\n",
            "GB | Epoch 1 | Loss: 1.3975375890731812 | Accuracy: 46.875%\n",
            "GB | Epoch 1 | Loss: 1.3591958284378052 | Accuracy: 50.0%\n",
            "GB | Epoch 1 | Loss: 1.2298095226287842 | Accuracy: 64.0625%\n",
            "GB | Epoch 1 | Loss: 1.3547059297561646 | Accuracy: 46.875%\n",
            "GB | Epoch 1 | Loss: 1.3504756689071655 | Accuracy: 50.0%\n"
          ]
        },
        {
          "output_type": "stream",
          "name": "stderr",
          "text": [
            "Epoch 1:  70%|███████   | 526/751 [00:13<00:05, 39.50batch/s, accuracy=54.6875%, loss=1.32]"
          ]
        },
        {
          "output_type": "stream",
          "name": "stdout",
          "text": [
            "GB | Epoch 1 | Loss: 1.3935199975967407 | Accuracy: 48.4375%\n",
            "GB | Epoch 1 | Loss: 1.4759976863861084 | Accuracy: 43.75%\n",
            "GB | Epoch 1 | Loss: 1.2426284551620483 | Accuracy: 59.375%\n",
            "GB | Epoch 1 | Loss: 1.4550132751464844 | Accuracy: 45.3125%\n",
            "GB | Epoch 1 | Loss: 1.3230549097061157 | Accuracy: 53.125%\n",
            "GB | Epoch 1 | Loss: 1.4236856698989868 | Accuracy: 43.75%\n",
            "GB | Epoch 1 | Loss: 1.3207341432571411 | Accuracy: 54.6875%\n"
          ]
        },
        {
          "output_type": "stream",
          "name": "stderr",
          "text": [
            "Epoch 1:  71%|███████   | 534/751 [00:13<00:06, 35.28batch/s, accuracy=59.375%, loss=1.28]"
          ]
        },
        {
          "output_type": "stream",
          "name": "stdout",
          "text": [
            "GB | Epoch 1 | Loss: 1.3622270822525024 | Accuracy: 53.125%\n",
            "GB | Epoch 1 | Loss: 1.3615933656692505 | Accuracy: 48.4375%\n",
            "GB | Epoch 1 | Loss: 1.3428752422332764 | Accuracy: 53.125%\n",
            "GB | Epoch 1 | Loss: 1.4037408828735352 | Accuracy: 48.4375%\n",
            "GB | Epoch 1 | Loss: 1.422121286392212 | Accuracy: 48.4375%\n",
            "GB | Epoch 1 | Loss: 1.420744776725769 | Accuracy: 45.3125%\n",
            "GB | Epoch 1 | Loss: 1.2767366170883179 | Accuracy: 59.375%\n"
          ]
        },
        {
          "output_type": "stream",
          "name": "stderr",
          "text": [
            "Epoch 1:  72%|███████▏  | 538/751 [00:13<00:06, 34.54batch/s, accuracy=48.4375%, loss=1.45]"
          ]
        },
        {
          "output_type": "stream",
          "name": "stdout",
          "text": [
            "GB | Epoch 1 | Loss: 1.389230489730835 | Accuracy: 48.4375%\n",
            "GB | Epoch 1 | Loss: 1.387058973312378 | Accuracy: 53.125%\n",
            "GB | Epoch 1 | Loss: 1.439558982849121 | Accuracy: 46.875%\n",
            "GB | Epoch 1 | Loss: 1.3915488719940186 | Accuracy: 45.3125%\n",
            "GB | Epoch 1 | Loss: 1.5192755460739136 | Accuracy: 37.5%\n",
            "GB | Epoch 1 | Loss: 1.3834145069122314 | Accuracy: 50.0%\n",
            "GB | Epoch 1 | Loss: 1.4545314311981201 | Accuracy: 48.4375%\n"
          ]
        },
        {
          "output_type": "stream",
          "name": "stderr",
          "text": [
            "Epoch 1:  73%|███████▎  | 546/751 [00:14<00:06, 32.37batch/s, accuracy=50.0%, loss=1.39] "
          ]
        },
        {
          "output_type": "stream",
          "name": "stdout",
          "text": [
            "GB | Epoch 1 | Loss: 1.4488900899887085 | Accuracy: 46.875%\n",
            "GB | Epoch 1 | Loss: 1.4899216890335083 | Accuracy: 40.625%\n",
            "GB | Epoch 1 | Loss: 1.2759567499160767 | Accuracy: 54.6875%\n",
            "GB | Epoch 1 | Loss: 1.246130347251892 | Accuracy: 56.25%\n",
            "GB | Epoch 1 | Loss: 1.440433144569397 | Accuracy: 43.75%\n",
            "GB | Epoch 1 | Loss: 1.3890349864959717 | Accuracy: 50.0%\n"
          ]
        },
        {
          "output_type": "stream",
          "name": "stderr",
          "text": [
            "Epoch 1:  73%|███████▎  | 550/751 [00:14<00:06, 31.39batch/s, accuracy=45.3125%, loss=1.39]"
          ]
        },
        {
          "output_type": "stream",
          "name": "stdout",
          "text": [
            "GB | Epoch 1 | Loss: 1.4980067014694214 | Accuracy: 39.0625%\n",
            "GB | Epoch 1 | Loss: 1.3612529039382935 | Accuracy: 50.0%\n",
            "GB | Epoch 1 | Loss: 1.3922920227050781 | Accuracy: 43.75%\n",
            "GB | Epoch 1 | Loss: 1.4143611192703247 | Accuracy: 43.75%\n",
            "GB | Epoch 1 | Loss: 1.3712681531906128 | Accuracy: 46.875%\n",
            "GB | Epoch 1 | Loss: 1.387783408164978 | Accuracy: 45.3125%\n"
          ]
        },
        {
          "output_type": "stream",
          "name": "stderr",
          "text": [
            "Epoch 1:  74%|███████▍  | 558/751 [00:14<00:06, 29.79batch/s, accuracy=46.875%, loss=1.33]"
          ]
        },
        {
          "output_type": "stream",
          "name": "stdout",
          "text": [
            "GB | Epoch 1 | Loss: 1.3851964473724365 | Accuracy: 51.5625%\n",
            "GB | Epoch 1 | Loss: 1.3298847675323486 | Accuracy: 48.4375%\n",
            "GB | Epoch 1 | Loss: 1.480281114578247 | Accuracy: 40.625%\n",
            "GB | Epoch 1 | Loss: 1.3905415534973145 | Accuracy: 53.125%\n",
            "GB | Epoch 1 | Loss: 1.3532443046569824 | Accuracy: 53.125%\n",
            "GB | Epoch 1 | Loss: 1.332404613494873 | Accuracy: 46.875%\n"
          ]
        },
        {
          "output_type": "stream",
          "name": "stderr",
          "text": [
            "Epoch 1:  75%|███████▌  | 566/751 [00:14<00:06, 30.73batch/s, accuracy=51.5625%, loss=1.37]"
          ]
        },
        {
          "output_type": "stream",
          "name": "stdout",
          "text": [
            "GB | Epoch 1 | Loss: 1.4814984798431396 | Accuracy: 40.625%\n",
            "GB | Epoch 1 | Loss: 1.2756948471069336 | Accuracy: 57.8125%\n",
            "GB | Epoch 1 | Loss: 1.314333438873291 | Accuracy: 56.25%\n",
            "GB | Epoch 1 | Loss: 1.316706895828247 | Accuracy: 53.125%\n",
            "GB | Epoch 1 | Loss: 1.315152883529663 | Accuracy: 57.8125%\n",
            "GB | Epoch 1 | Loss: 1.2704542875289917 | Accuracy: 57.8125%\n",
            "GB | Epoch 1 | Loss: 1.3664339780807495 | Accuracy: 51.5625%\n"
          ]
        },
        {
          "output_type": "stream",
          "name": "stderr",
          "text": [
            "Epoch 1:  76%|███████▌  | 570/751 [00:15<00:05, 30.55batch/s, accuracy=57.8125%, loss=1.26]"
          ]
        },
        {
          "output_type": "stream",
          "name": "stdout",
          "text": [
            "GB | Epoch 1 | Loss: 1.3670145273208618 | Accuracy: 46.875%\n",
            "GB | Epoch 1 | Loss: 1.4626743793487549 | Accuracy: 40.625%\n",
            "GB | Epoch 1 | Loss: 1.4404851198196411 | Accuracy: 42.1875%\n",
            "GB | Epoch 1 | Loss: 1.4995752573013306 | Accuracy: 40.625%\n",
            "GB | Epoch 1 | Loss: 1.1550521850585938 | Accuracy: 64.0625%\n",
            "GB | Epoch 1 | Loss: 1.233193278312683 | Accuracy: 57.8125%\n",
            "GB | Epoch 1 | Loss: 1.2564904689788818 | Accuracy: 57.8125%\n"
          ]
        },
        {
          "output_type": "stream",
          "name": "stderr",
          "text": [
            "Epoch 1:  77%|███████▋  | 577/751 [00:15<00:05, 29.61batch/s, accuracy=45.3125%, loss=1.45]"
          ]
        },
        {
          "output_type": "stream",
          "name": "stdout",
          "text": [
            "GB | Epoch 1 | Loss: 1.2199674844741821 | Accuracy: 60.9375%\n",
            "GB | Epoch 1 | Loss: 1.5134031772613525 | Accuracy: 32.8125%\n",
            "GB | Epoch 1 | Loss: 1.3057161569595337 | Accuracy: 56.25%\n",
            "GB | Epoch 1 | Loss: 1.2910985946655273 | Accuracy: 54.6875%\n",
            "GB | Epoch 1 | Loss: 1.239722728729248 | Accuracy: 60.9375%\n",
            "GB | Epoch 1 | Loss: 1.4772331714630127 | Accuracy: 35.9375%\n",
            "GB | Epoch 1 | Loss: 1.4475115537643433 | Accuracy: 45.3125%\n"
          ]
        },
        {
          "output_type": "stream",
          "name": "stderr",
          "text": [
            "Epoch 1:  78%|███████▊  | 585/751 [00:15<00:05, 30.10batch/s, accuracy=45.3125%, loss=1.42]"
          ]
        },
        {
          "output_type": "stream",
          "name": "stdout",
          "text": [
            "GB | Epoch 1 | Loss: 1.437829613685608 | Accuracy: 45.3125%\n",
            "GB | Epoch 1 | Loss: 1.3514046669006348 | Accuracy: 50.0%\n",
            "GB | Epoch 1 | Loss: 1.3606247901916504 | Accuracy: 50.0%\n",
            "GB | Epoch 1 | Loss: 1.3560200929641724 | Accuracy: 51.5625%\n",
            "GB | Epoch 1 | Loss: 1.3626065254211426 | Accuracy: 51.5625%\n",
            "GB | Epoch 1 | Loss: 1.3734852075576782 | Accuracy: 46.875%\n",
            "GB | Epoch 1 | Loss: 1.4164910316467285 | Accuracy: 45.3125%\n"
          ]
        },
        {
          "output_type": "stream",
          "name": "stderr",
          "text": [
            "Epoch 1:  79%|███████▉  | 593/751 [00:15<00:05, 30.18batch/s, accuracy=46.875%, loss=1.43]"
          ]
        },
        {
          "output_type": "stream",
          "name": "stdout",
          "text": [
            "GB | Epoch 1 | Loss: 1.3547340631484985 | Accuracy: 48.4375%\n",
            "GB | Epoch 1 | Loss: 1.3873777389526367 | Accuracy: 50.0%\n",
            "GB | Epoch 1 | Loss: 1.442543625831604 | Accuracy: 40.625%\n",
            "GB | Epoch 1 | Loss: 1.35145902633667 | Accuracy: 48.4375%\n",
            "GB | Epoch 1 | Loss: 1.236552119255066 | Accuracy: 59.375%\n",
            "GB | Epoch 1 | Loss: 1.2344623804092407 | Accuracy: 59.375%\n"
          ]
        },
        {
          "output_type": "stream",
          "name": "stderr",
          "text": [
            "Epoch 1:  79%|███████▉  | 597/751 [00:15<00:05, 29.22batch/s, accuracy=59.375%, loss=1.22] "
          ]
        },
        {
          "output_type": "stream",
          "name": "stdout",
          "text": [
            "GB | Epoch 1 | Loss: 1.4270795583724976 | Accuracy: 46.875%\n",
            "GB | Epoch 1 | Loss: 1.3430228233337402 | Accuracy: 51.5625%\n",
            "GB | Epoch 1 | Loss: 1.2359634637832642 | Accuracy: 54.6875%\n",
            "GB | Epoch 1 | Loss: 1.2523702383041382 | Accuracy: 57.8125%\n",
            "GB | Epoch 1 | Loss: 1.3095097541809082 | Accuracy: 48.4375%\n",
            "GB | Epoch 1 | Loss: 1.2171976566314697 | Accuracy: 59.375%\n"
          ]
        },
        {
          "output_type": "stream",
          "name": "stderr",
          "text": [
            "Epoch 1:  80%|████████  | 603/751 [00:16<00:05, 28.16batch/s, accuracy=51.5625%, loss=1.29]"
          ]
        },
        {
          "output_type": "stream",
          "name": "stdout",
          "text": [
            "GB | Epoch 1 | Loss: 1.4019666910171509 | Accuracy: 45.3125%\n",
            "GB | Epoch 1 | Loss: 1.2270311117172241 | Accuracy: 56.25%\n",
            "GB | Epoch 1 | Loss: 1.3613345623016357 | Accuracy: 50.0%\n",
            "GB | Epoch 1 | Loss: 1.3516366481781006 | Accuracy: 50.0%\n",
            "GB | Epoch 1 | Loss: 1.2878596782684326 | Accuracy: 50.0%\n",
            "GB | Epoch 1 | Loss: 1.29349684715271 | Accuracy: 51.5625%\n"
          ]
        },
        {
          "output_type": "stream",
          "name": "stderr",
          "text": [
            "Epoch 1:  81%|████████  | 609/751 [00:16<00:05, 27.92batch/s, accuracy=54.6875%, loss=1.3]"
          ]
        },
        {
          "output_type": "stream",
          "name": "stdout",
          "text": [
            "GB | Epoch 1 | Loss: 1.3107035160064697 | Accuracy: 51.5625%\n",
            "GB | Epoch 1 | Loss: 1.399381399154663 | Accuracy: 45.3125%\n",
            "GB | Epoch 1 | Loss: 1.3465209007263184 | Accuracy: 48.4375%\n",
            "GB | Epoch 1 | Loss: 1.3418949842453003 | Accuracy: 53.125%\n",
            "GB | Epoch 1 | Loss: 1.363698124885559 | Accuracy: 46.875%\n",
            "GB | Epoch 1 | Loss: 1.2972419261932373 | Accuracy: 54.6875%\n"
          ]
        },
        {
          "output_type": "stream",
          "name": "stderr",
          "text": [
            "Epoch 1:  82%|████████▏ | 615/751 [00:16<00:05, 26.71batch/s, accuracy=56.25%, loss=1.25]"
          ]
        },
        {
          "output_type": "stream",
          "name": "stdout",
          "text": [
            "GB | Epoch 1 | Loss: 1.3459806442260742 | Accuracy: 50.0%\n",
            "GB | Epoch 1 | Loss: 1.2526410818099976 | Accuracy: 56.25%\n",
            "GB | Epoch 1 | Loss: 1.4276598691940308 | Accuracy: 43.75%\n",
            "GB | Epoch 1 | Loss: 1.1414812803268433 | Accuracy: 60.9375%\n",
            "GB | Epoch 1 | Loss: 1.4023118019104004 | Accuracy: 43.75%\n",
            "GB | Epoch 1 | Loss: 1.2519773244857788 | Accuracy: 56.25%\n"
          ]
        },
        {
          "output_type": "stream",
          "name": "stderr",
          "text": [
            "Epoch 1:  83%|████████▎ | 621/751 [00:16<00:04, 27.07batch/s, accuracy=40.625%, loss=1.4]  "
          ]
        },
        {
          "output_type": "stream",
          "name": "stdout",
          "text": [
            "GB | Epoch 1 | Loss: 1.31392240524292 | Accuracy: 54.6875%\n",
            "GB | Epoch 1 | Loss: 1.431289553642273 | Accuracy: 40.625%\n",
            "GB | Epoch 1 | Loss: 1.5262911319732666 | Accuracy: 39.0625%\n",
            "GB | Epoch 1 | Loss: 1.3804768323898315 | Accuracy: 43.75%\n",
            "GB | Epoch 1 | Loss: 1.42583167552948 | Accuracy: 48.4375%\n",
            "GB | Epoch 1 | Loss: 1.3952512741088867 | Accuracy: 40.625%\n"
          ]
        },
        {
          "output_type": "stream",
          "name": "stderr",
          "text": [
            "Epoch 1:  84%|████████▍ | 629/751 [00:16<00:04, 28.58batch/s, accuracy=46.875%, loss=1.38]"
          ]
        },
        {
          "output_type": "stream",
          "name": "stdout",
          "text": [
            "GB | Epoch 1 | Loss: 1.3658556938171387 | Accuracy: 48.4375%\n",
            "GB | Epoch 1 | Loss: 1.4419647455215454 | Accuracy: 42.1875%\n",
            "GB | Epoch 1 | Loss: 1.406385064125061 | Accuracy: 48.4375%\n",
            "GB | Epoch 1 | Loss: 1.3206231594085693 | Accuracy: 53.125%\n",
            "GB | Epoch 1 | Loss: 1.3404654264450073 | Accuracy: 46.875%\n",
            "GB | Epoch 1 | Loss: 1.3786885738372803 | Accuracy: 46.875%\n"
          ]
        },
        {
          "output_type": "stream",
          "name": "stderr",
          "text": [
            "Epoch 1:  85%|████████▍ | 638/751 [00:17<00:03, 34.53batch/s, accuracy=48.4375%, loss=1.37]"
          ]
        },
        {
          "output_type": "stream",
          "name": "stdout",
          "text": [
            "GB | Epoch 1 | Loss: 1.196793794631958 | Accuracy: 62.5%\n",
            "GB | Epoch 1 | Loss: 1.4185898303985596 | Accuracy: 45.3125%\n",
            "GB | Epoch 1 | Loss: 1.3675044775009155 | Accuracy: 43.75%\n",
            "GB | Epoch 1 | Loss: 1.2025103569030762 | Accuracy: 57.8125%\n",
            "GB | Epoch 1 | Loss: 1.3242299556732178 | Accuracy: 46.875%\n",
            "GB | Epoch 1 | Loss: 1.4699022769927979 | Accuracy: 37.5%\n",
            "GB | Epoch 1 | Loss: 1.241547703742981 | Accuracy: 56.25%\n",
            "GB | Epoch 1 | Loss: 1.398622989654541 | Accuracy: 43.75%\n",
            "GB | Epoch 1 | Loss: 1.3655539751052856 | Accuracy: 48.4375%\n"
          ]
        },
        {
          "output_type": "stream",
          "name": "stderr",
          "text": [
            "Epoch 1:  86%|████████▌ | 647/751 [00:17<00:02, 37.51batch/s, accuracy=46.875%, loss=1.33]"
          ]
        },
        {
          "output_type": "stream",
          "name": "stdout",
          "text": [
            "GB | Epoch 1 | Loss: 1.4604220390319824 | Accuracy: 40.625%\n",
            "GB | Epoch 1 | Loss: 1.3352954387664795 | Accuracy: 48.4375%\n",
            "GB | Epoch 1 | Loss: 1.3921622037887573 | Accuracy: 45.3125%\n",
            "GB | Epoch 1 | Loss: 1.1314839124679565 | Accuracy: 68.75%\n",
            "GB | Epoch 1 | Loss: 1.220266342163086 | Accuracy: 60.9375%\n",
            "GB | Epoch 1 | Loss: 1.4361751079559326 | Accuracy: 43.75%\n",
            "GB | Epoch 1 | Loss: 1.4046889543533325 | Accuracy: 45.3125%\n",
            "GB | Epoch 1 | Loss: 1.349020004272461 | Accuracy: 48.4375%\n",
            "GB | Epoch 1 | Loss: 1.3346623182296753 | Accuracy: 46.875%\n"
          ]
        },
        {
          "output_type": "stream",
          "name": "stderr",
          "text": [
            "Epoch 1:  87%|████████▋ | 652/751 [00:17<00:02, 38.65batch/s, accuracy=45.3125%, loss=1.44]"
          ]
        },
        {
          "output_type": "stream",
          "name": "stdout",
          "text": [
            "GB | Epoch 1 | Loss: 1.3274452686309814 | Accuracy: 46.875%\n",
            "GB | Epoch 1 | Loss: 1.2678438425064087 | Accuracy: 53.125%\n",
            "GB | Epoch 1 | Loss: 1.228928804397583 | Accuracy: 54.6875%\n",
            "GB | Epoch 1 | Loss: 1.2210710048675537 | Accuracy: 56.25%\n",
            "GB | Epoch 1 | Loss: 1.2829365730285645 | Accuracy: 57.8125%\n",
            "GB | Epoch 1 | Loss: 1.3253480195999146 | Accuracy: 48.4375%\n",
            "GB | Epoch 1 | Loss: 1.1496464014053345 | Accuracy: 64.0625%\n",
            "GB | Epoch 1 | Loss: 1.3452422618865967 | Accuracy: 45.3125%\n",
            "GB | Epoch 1 | Loss: 1.438111662864685 | Accuracy: 45.3125%\n"
          ]
        },
        {
          "output_type": "stream",
          "name": "stderr",
          "text": [
            "Epoch 1:  88%|████████▊ | 662/751 [00:17<00:02, 40.08batch/s, accuracy=45.3125%, loss=1.4]"
          ]
        },
        {
          "output_type": "stream",
          "name": "stdout",
          "text": [
            "GB | Epoch 1 | Loss: 1.3907335996627808 | Accuracy: 45.3125%\n",
            "GB | Epoch 1 | Loss: 1.2868586778640747 | Accuracy: 53.125%\n",
            "GB | Epoch 1 | Loss: 1.2885202169418335 | Accuracy: 53.125%\n",
            "GB | Epoch 1 | Loss: 1.319928765296936 | Accuracy: 50.0%\n",
            "GB | Epoch 1 | Loss: 1.3204443454742432 | Accuracy: 50.0%\n",
            "GB | Epoch 1 | Loss: 1.3007858991622925 | Accuracy: 50.0%\n",
            "GB | Epoch 1 | Loss: 1.330546259880066 | Accuracy: 48.4375%\n",
            "GB | Epoch 1 | Loss: 1.2251321077346802 | Accuracy: 56.25%\n",
            "GB | Epoch 1 | Loss: 1.3986411094665527 | Accuracy: 45.3125%\n"
          ]
        },
        {
          "output_type": "stream",
          "name": "stderr",
          "text": [
            "Epoch 1:  89%|████████▉ | 672/751 [00:18<00:01, 40.94batch/s, accuracy=54.6875%, loss=1.26]"
          ]
        },
        {
          "output_type": "stream",
          "name": "stdout",
          "text": [
            "GB | Epoch 1 | Loss: 1.2781087160110474 | Accuracy: 48.4375%\n",
            "GB | Epoch 1 | Loss: 1.4645757675170898 | Accuracy: 42.1875%\n",
            "GB | Epoch 1 | Loss: 1.4330615997314453 | Accuracy: 46.875%\n",
            "GB | Epoch 1 | Loss: 1.4428143501281738 | Accuracy: 42.1875%\n",
            "GB | Epoch 1 | Loss: 1.389691948890686 | Accuracy: 45.3125%\n",
            "GB | Epoch 1 | Loss: 1.3034049272537231 | Accuracy: 50.0%\n",
            "GB | Epoch 1 | Loss: 1.2421178817749023 | Accuracy: 54.6875%\n",
            "GB | Epoch 1 | Loss: 1.3132771253585815 | Accuracy: 46.875%\n",
            "GB | Epoch 1 | Loss: 1.2645317316055298 | Accuracy: 54.6875%\n"
          ]
        },
        {
          "output_type": "stream",
          "name": "stderr",
          "text": [
            "Epoch 1:  91%|█████████ | 682/751 [00:18<00:01, 41.31batch/s, accuracy=51.5625%, loss=1.3]"
          ]
        },
        {
          "output_type": "stream",
          "name": "stdout",
          "text": [
            "GB | Epoch 1 | Loss: 1.244877815246582 | Accuracy: 54.6875%\n",
            "GB | Epoch 1 | Loss: 1.4361999034881592 | Accuracy: 37.5%\n",
            "GB | Epoch 1 | Loss: 1.2752753496170044 | Accuracy: 53.125%\n",
            "GB | Epoch 1 | Loss: 1.1181138753890991 | Accuracy: 62.5%\n",
            "GB | Epoch 1 | Loss: 1.2712842226028442 | Accuracy: 50.0%\n",
            "GB | Epoch 1 | Loss: 1.3593958616256714 | Accuracy: 43.75%\n",
            "GB | Epoch 1 | Loss: 1.363929271697998 | Accuracy: 48.4375%\n",
            "GB | Epoch 1 | Loss: 1.396287202835083 | Accuracy: 45.3125%\n"
          ]
        },
        {
          "output_type": "stream",
          "name": "stderr",
          "text": [
            "Epoch 1:  91%|█████████▏| 687/751 [00:18<00:01, 40.13batch/s, accuracy=48.4375%, loss=1.32]"
          ]
        },
        {
          "output_type": "stream",
          "name": "stdout",
          "text": [
            "GB | Epoch 1 | Loss: 1.2989908456802368 | Accuracy: 51.5625%\n",
            "GB | Epoch 1 | Loss: 1.1391738653182983 | Accuracy: 64.0625%\n",
            "GB | Epoch 1 | Loss: 1.2621653079986572 | Accuracy: 51.5625%\n",
            "GB | Epoch 1 | Loss: 1.2398737668991089 | Accuracy: 54.6875%\n",
            "GB | Epoch 1 | Loss: 1.345391869544983 | Accuracy: 46.875%\n",
            "GB | Epoch 1 | Loss: 1.15989351272583 | Accuracy: 62.5%\n",
            "GB | Epoch 1 | Loss: 1.3377612829208374 | Accuracy: 46.875%\n",
            "GB | Epoch 1 | Loss: 1.2545734643936157 | Accuracy: 51.5625%\n",
            "GB | Epoch 1 | Loss: 1.318890929222107 | Accuracy: 48.4375%\n"
          ]
        },
        {
          "output_type": "stream",
          "name": "stderr",
          "text": [
            "Epoch 1:  93%|█████████▎| 697/751 [00:18<00:01, 40.80batch/s, accuracy=56.25%, loss=1.21]  "
          ]
        },
        {
          "output_type": "stream",
          "name": "stdout",
          "text": [
            "GB | Epoch 1 | Loss: 1.3081855773925781 | Accuracy: 51.5625%\n",
            "GB | Epoch 1 | Loss: 1.4196535348892212 | Accuracy: 43.75%\n",
            "GB | Epoch 1 | Loss: 1.249011754989624 | Accuracy: 50.0%\n",
            "GB | Epoch 1 | Loss: 1.1977317333221436 | Accuracy: 56.25%\n",
            "GB | Epoch 1 | Loss: 1.2968379259109497 | Accuracy: 50.0%\n",
            "GB | Epoch 1 | Loss: 1.4221240282058716 | Accuracy: 40.625%\n",
            "GB | Epoch 1 | Loss: 1.4066237211227417 | Accuracy: 40.625%\n",
            "GB | Epoch 1 | Loss: 1.3451189994812012 | Accuracy: 42.1875%\n",
            "GB | Epoch 1 | Loss: 1.21450936794281 | Accuracy: 56.25%\n"
          ]
        },
        {
          "output_type": "stream",
          "name": "stderr",
          "text": [
            "Epoch 1:  94%|█████████▍| 707/751 [00:18<00:01, 42.22batch/s, accuracy=46.875%, loss=1.32] "
          ]
        },
        {
          "output_type": "stream",
          "name": "stdout",
          "text": [
            "GB | Epoch 1 | Loss: 1.2196388244628906 | Accuracy: 57.8125%\n",
            "GB | Epoch 1 | Loss: 1.4460325241088867 | Accuracy: 40.625%\n",
            "GB | Epoch 1 | Loss: 1.2667661905288696 | Accuracy: 53.125%\n",
            "GB | Epoch 1 | Loss: 1.359757661819458 | Accuracy: 42.1875%\n",
            "GB | Epoch 1 | Loss: 1.3966490030288696 | Accuracy: 40.625%\n",
            "GB | Epoch 1 | Loss: 1.304619550704956 | Accuracy: 51.5625%\n",
            "GB | Epoch 1 | Loss: 1.1641770601272583 | Accuracy: 57.8125%\n",
            "GB | Epoch 1 | Loss: 1.323062539100647 | Accuracy: 51.5625%\n",
            "GB | Epoch 1 | Loss: 1.3152709007263184 | Accuracy: 46.875%\n"
          ]
        },
        {
          "output_type": "stream",
          "name": "stderr",
          "text": [
            "Epoch 1:  95%|█████████▌| 717/751 [00:19<00:00, 42.82batch/s, accuracy=56.25%, loss=1.19]  "
          ]
        },
        {
          "output_type": "stream",
          "name": "stdout",
          "text": [
            "GB | Epoch 1 | Loss: 1.2849862575531006 | Accuracy: 45.3125%\n",
            "GB | Epoch 1 | Loss: 1.2745386362075806 | Accuracy: 51.5625%\n",
            "GB | Epoch 1 | Loss: 1.2633670568466187 | Accuracy: 51.5625%\n",
            "GB | Epoch 1 | Loss: 1.2003309726715088 | Accuracy: 59.375%\n",
            "GB | Epoch 1 | Loss: 1.177443265914917 | Accuracy: 60.9375%\n",
            "GB | Epoch 1 | Loss: 1.445810317993164 | Accuracy: 35.9375%\n",
            "GB | Epoch 1 | Loss: 1.3568600416183472 | Accuracy: 43.75%\n",
            "GB | Epoch 1 | Loss: 1.1317417621612549 | Accuracy: 60.9375%\n",
            "GB | Epoch 1 | Loss: 1.1930359601974487 | Accuracy: 56.25%\n"
          ]
        },
        {
          "output_type": "stream",
          "name": "stderr",
          "text": [
            "Epoch 1:  97%|█████████▋| 727/751 [00:19<00:00, 42.50batch/s, accuracy=46.875%, loss=1.36]"
          ]
        },
        {
          "output_type": "stream",
          "name": "stdout",
          "text": [
            "GB | Epoch 1 | Loss: 1.119648814201355 | Accuracy: 64.0625%\n",
            "GB | Epoch 1 | Loss: 1.2054591178894043 | Accuracy: 51.5625%\n",
            "GB | Epoch 1 | Loss: 1.2477455139160156 | Accuracy: 56.25%\n",
            "GB | Epoch 1 | Loss: 1.3152666091918945 | Accuracy: 43.75%\n",
            "GB | Epoch 1 | Loss: 1.3139393329620361 | Accuracy: 48.4375%\n",
            "GB | Epoch 1 | Loss: 1.2149388790130615 | Accuracy: 56.25%\n",
            "GB | Epoch 1 | Loss: 1.3038685321807861 | Accuracy: 50.0%\n",
            "GB | Epoch 1 | Loss: 1.3163260221481323 | Accuracy: 46.875%\n",
            "GB | Epoch 1 | Loss: 1.3640031814575195 | Accuracy: 46.875%\n"
          ]
        },
        {
          "output_type": "stream",
          "name": "stderr",
          "text": [
            "Epoch 1:  97%|█████████▋| 732/751 [00:19<00:00, 41.89batch/s, accuracy=56.25%, loss=1.18]"
          ]
        },
        {
          "output_type": "stream",
          "name": "stdout",
          "text": [
            "GB | Epoch 1 | Loss: 1.261743426322937 | Accuracy: 48.4375%\n",
            "GB | Epoch 1 | Loss: 1.2192620038986206 | Accuracy: 56.25%\n",
            "GB | Epoch 1 | Loss: 1.1798263788223267 | Accuracy: 56.25%\n",
            "GB | Epoch 1 | Loss: 1.2407461404800415 | Accuracy: 51.5625%\n",
            "GB | Epoch 1 | Loss: 1.3103225231170654 | Accuracy: 46.875%\n",
            "GB | Epoch 1 | Loss: 1.1747666597366333 | Accuracy: 54.6875%\n",
            "GB | Epoch 1 | Loss: 1.2337992191314697 | Accuracy: 51.5625%\n",
            "GB | Epoch 1 | Loss: 1.2033803462982178 | Accuracy: 56.25%\n",
            "GB | Epoch 1 | Loss: 1.176658034324646 | Accuracy: 56.25%\n"
          ]
        },
        {
          "output_type": "stream",
          "name": "stderr",
          "text": [
            "Epoch 1:  99%|█████████▉| 742/751 [00:19<00:00, 42.05batch/s, accuracy=59.375%, loss=1.15]"
          ]
        },
        {
          "output_type": "stream",
          "name": "stdout",
          "text": [
            "GB | Epoch 1 | Loss: 1.1943086385726929 | Accuracy: 54.6875%\n",
            "GB | Epoch 1 | Loss: 1.3067411184310913 | Accuracy: 50.0%\n",
            "GB | Epoch 1 | Loss: 1.1259950399398804 | Accuracy: 62.5%\n",
            "GB | Epoch 1 | Loss: 1.1648463010787964 | Accuracy: 57.8125%\n",
            "GB | Epoch 1 | Loss: 1.2606748342514038 | Accuracy: 45.3125%\n",
            "GB | Epoch 1 | Loss: 1.3271729946136475 | Accuracy: 42.1875%\n",
            "GB | Epoch 1 | Loss: 1.2298988103866577 | Accuracy: 53.125%\n",
            "GB | Epoch 1 | Loss: 1.2798748016357422 | Accuracy: 46.875%\n",
            "GB | Epoch 1 | Loss: 1.1475163698196411 | Accuracy: 59.375%\n"
          ]
        },
        {
          "output_type": "stream",
          "name": "stderr",
          "text": [
            "Epoch 1:  99%|█████████▉| 747/751 [00:19<00:00, 43.22batch/s, accuracy=75.0%, loss=0.851]  "
          ]
        },
        {
          "output_type": "stream",
          "name": "stdout",
          "text": [
            "GB | Epoch 1 | Loss: 1.3029091358184814 | Accuracy: 48.4375%\n",
            "GB | Epoch 1 | Loss: 1.3146862983703613 | Accuracy: 46.875%\n",
            "GB | Epoch 1 | Loss: 1.1777331829071045 | Accuracy: 57.8125%\n",
            "GB | Epoch 1 | Loss: 1.2550257444381714 | Accuracy: 56.25%\n",
            "GB | Epoch 1 | Loss: 1.257677435874939 | Accuracy: 51.5625%\n",
            "GB | Epoch 1 | Loss: 0.8508393168449402 | Accuracy: 75.0%\n"
          ]
        },
        {
          "output_type": "stream",
          "name": "stderr",
          "text": [
            "Epoch 1: 100%|██████████| 751/751 [00:20<00:00, 37.47batch/s, accuracy=75.0%, loss=0.851]\n",
            "Epoch 2:   1%|          | 5/751 [00:00<00:43, 17.05batch/s, accuracy=45.3125%, loss=1.33]"
          ]
        },
        {
          "output_type": "stream",
          "name": "stdout",
          "text": [
            "GB | Epoch 2 | Loss: 1.275559425354004 | Accuracy: 56.25%\n",
            "GB | Epoch 2 | Loss: 1.2201277017593384 | Accuracy: 57.8125%\n",
            "GB | Epoch 2 | Loss: 1.2730845212936401 | Accuracy: 51.5625%\n",
            "GB | Epoch 2 | Loss: 1.3666919469833374 | Accuracy: 46.875%\n",
            "GB | Epoch 2 | Loss: 1.2085309028625488 | Accuracy: 50.0%\n",
            "GB | Epoch 2 | Loss: 1.2220654487609863 | Accuracy: 53.125%\n",
            "GB | Epoch 2 | Loss: 1.3295193910598755 | Accuracy: 45.3125%\n",
            "GB | Epoch 2 | Loss: 1.3267322778701782 | Accuracy: 45.3125%\n"
          ]
        },
        {
          "output_type": "stream",
          "name": "stderr",
          "text": [
            "Epoch 2:   2%|▏         | 13/751 [00:00<00:25, 29.10batch/s, accuracy=50.0%, loss=1.23]"
          ]
        },
        {
          "output_type": "stream",
          "name": "stdout",
          "text": [
            "GB | Epoch 2 | Loss: 1.3671683073043823 | Accuracy: 43.75%\n",
            "GB | Epoch 2 | Loss: 1.296462893486023 | Accuracy: 50.0%\n",
            "GB | Epoch 2 | Loss: 1.1426527500152588 | Accuracy: 57.8125%\n",
            "GB | Epoch 2 | Loss: 1.2368483543395996 | Accuracy: 51.5625%\n",
            "GB | Epoch 2 | Loss: 1.2451207637786865 | Accuracy: 51.5625%\n",
            "GB | Epoch 2 | Loss: 1.033488154411316 | Accuracy: 64.0625%\n",
            "GB | Epoch 2 | Loss: 1.2711859941482544 | Accuracy: 50.0%\n",
            "GB | Epoch 2 | Loss: 1.2312688827514648 | Accuracy: 50.0%\n"
          ]
        },
        {
          "output_type": "stream",
          "name": "stderr",
          "text": [
            "Epoch 2:   3%|▎         | 22/751 [00:00<00:20, 35.15batch/s, accuracy=64.0625%, loss=1.15]"
          ]
        },
        {
          "output_type": "stream",
          "name": "stdout",
          "text": [
            "GB | Epoch 2 | Loss: 1.1883175373077393 | Accuracy: 56.25%\n",
            "GB | Epoch 2 | Loss: 1.2326916456222534 | Accuracy: 51.5625%\n",
            "GB | Epoch 2 | Loss: 1.3227815628051758 | Accuracy: 42.1875%\n",
            "GB | Epoch 2 | Loss: 1.3397603034973145 | Accuracy: 46.875%\n",
            "GB | Epoch 2 | Loss: 1.150127649307251 | Accuracy: 59.375%\n",
            "GB | Epoch 2 | Loss: 1.2011559009552002 | Accuracy: 54.6875%\n",
            "GB | Epoch 2 | Loss: 1.1918402910232544 | Accuracy: 57.8125%\n",
            "GB | Epoch 2 | Loss: 1.2658696174621582 | Accuracy: 51.5625%\n",
            "GB | Epoch 2 | Loss: 1.1522358655929565 | Accuracy: 64.0625%\n"
          ]
        },
        {
          "output_type": "stream",
          "name": "stderr",
          "text": [
            "Epoch 2:   4%|▍         | 30/751 [00:01<00:19, 37.44batch/s, accuracy=53.125%, loss=1.2]"
          ]
        },
        {
          "output_type": "stream",
          "name": "stdout",
          "text": [
            "GB | Epoch 2 | Loss: 1.1597994565963745 | Accuracy: 64.0625%\n",
            "GB | Epoch 2 | Loss: 1.2509952783584595 | Accuracy: 51.5625%\n",
            "GB | Epoch 2 | Loss: 1.0891127586364746 | Accuracy: 60.9375%\n",
            "GB | Epoch 2 | Loss: 1.239337682723999 | Accuracy: 53.125%\n",
            "GB | Epoch 2 | Loss: 1.348352074623108 | Accuracy: 40.625%\n",
            "GB | Epoch 2 | Loss: 1.2191718816757202 | Accuracy: 54.6875%\n",
            "GB | Epoch 2 | Loss: 1.278186559677124 | Accuracy: 46.875%\n",
            "GB | Epoch 2 | Loss: 1.3657983541488647 | Accuracy: 43.75%\n"
          ]
        },
        {
          "output_type": "stream",
          "name": "stderr",
          "text": [
            "Epoch 2:   5%|▌         | 38/751 [00:01<00:18, 38.35batch/s, accuracy=56.25%, loss=1.12] "
          ]
        },
        {
          "output_type": "stream",
          "name": "stdout",
          "text": [
            "GB | Epoch 2 | Loss: 1.2021363973617554 | Accuracy: 53.125%\n",
            "GB | Epoch 2 | Loss: 1.24017333984375 | Accuracy: 46.875%\n",
            "GB | Epoch 2 | Loss: 1.1414296627044678 | Accuracy: 53.125%\n",
            "GB | Epoch 2 | Loss: 1.2533208131790161 | Accuracy: 48.4375%\n",
            "GB | Epoch 2 | Loss: 1.1804561614990234 | Accuracy: 51.5625%\n",
            "GB | Epoch 2 | Loss: 1.2511671781539917 | Accuracy: 51.5625%\n",
            "GB | Epoch 2 | Loss: 1.254158616065979 | Accuracy: 51.5625%\n",
            "GB | Epoch 2 | Loss: 1.1409776210784912 | Accuracy: 59.375%\n",
            "GB | Epoch 2 | Loss: 1.124446988105774 | Accuracy: 56.25%\n"
          ]
        },
        {
          "output_type": "stream",
          "name": "stderr",
          "text": [
            "Epoch 2:   6%|▋         | 47/751 [00:01<00:18, 37.22batch/s, accuracy=48.4375%, loss=1.3]"
          ]
        },
        {
          "output_type": "stream",
          "name": "stdout",
          "text": [
            "GB | Epoch 2 | Loss: 1.1785324811935425 | Accuracy: 57.8125%\n",
            "GB | Epoch 2 | Loss: 1.330871820449829 | Accuracy: 43.75%\n",
            "GB | Epoch 2 | Loss: 1.2606700658798218 | Accuracy: 43.75%\n",
            "GB | Epoch 2 | Loss: 1.037981390953064 | Accuracy: 59.375%\n",
            "GB | Epoch 2 | Loss: 1.2165025472640991 | Accuracy: 53.125%\n",
            "GB | Epoch 2 | Loss: 1.1710789203643799 | Accuracy: 56.25%\n",
            "GB | Epoch 2 | Loss: 1.1372510194778442 | Accuracy: 59.375%\n",
            "GB | Epoch 2 | Loss: 1.30037522315979 | Accuracy: 48.4375%\n"
          ]
        },
        {
          "output_type": "stream",
          "name": "stderr",
          "text": [
            "Epoch 2:   7%|▋         | 55/751 [00:01<00:18, 37.99batch/s, accuracy=56.25%, loss=1.12] "
          ]
        },
        {
          "output_type": "stream",
          "name": "stdout",
          "text": [
            "GB | Epoch 2 | Loss: 1.1463316679000854 | Accuracy: 53.125%\n",
            "GB | Epoch 2 | Loss: 1.1488642692565918 | Accuracy: 59.375%\n",
            "GB | Epoch 2 | Loss: 1.2487690448760986 | Accuracy: 45.3125%\n",
            "GB | Epoch 2 | Loss: 1.112813115119934 | Accuracy: 57.8125%\n",
            "GB | Epoch 2 | Loss: 1.3101691007614136 | Accuracy: 42.1875%\n",
            "GB | Epoch 2 | Loss: 1.2521330118179321 | Accuracy: 45.3125%\n",
            "GB | Epoch 2 | Loss: 1.1032707691192627 | Accuracy: 59.375%\n",
            "GB | Epoch 2 | Loss: 1.4161432981491089 | Accuracy: 40.625%\n",
            "GB | Epoch 2 | Loss: 1.124371886253357 | Accuracy: 56.25%\n"
          ]
        },
        {
          "output_type": "stream",
          "name": "stderr",
          "text": [
            "Epoch 2:   9%|▊         | 64/751 [00:01<00:17, 38.78batch/s, accuracy=54.6875%, loss=1.17]"
          ]
        },
        {
          "output_type": "stream",
          "name": "stdout",
          "text": [
            "GB | Epoch 2 | Loss: 1.4320145845413208 | Accuracy: 37.5%\n",
            "GB | Epoch 2 | Loss: 1.1604838371276855 | Accuracy: 57.8125%\n",
            "GB | Epoch 2 | Loss: 1.1945258378982544 | Accuracy: 53.125%\n",
            "GB | Epoch 2 | Loss: 1.159609317779541 | Accuracy: 56.25%\n",
            "GB | Epoch 2 | Loss: 1.1928640604019165 | Accuracy: 57.8125%\n",
            "GB | Epoch 2 | Loss: 1.292145848274231 | Accuracy: 48.4375%\n",
            "GB | Epoch 2 | Loss: 1.2579156160354614 | Accuracy: 50.0%\n",
            "GB | Epoch 2 | Loss: 1.1749979257583618 | Accuracy: 54.6875%\n"
          ]
        },
        {
          "output_type": "stream",
          "name": "stderr",
          "text": [
            "Epoch 2:  10%|▉         | 73/751 [00:02<00:16, 39.97batch/s, accuracy=48.4375%, loss=1.31]"
          ]
        },
        {
          "output_type": "stream",
          "name": "stdout",
          "text": [
            "GB | Epoch 2 | Loss: 1.136264443397522 | Accuracy: 62.5%\n",
            "GB | Epoch 2 | Loss: 1.2229423522949219 | Accuracy: 51.5625%\n",
            "GB | Epoch 2 | Loss: 1.3200008869171143 | Accuracy: 51.5625%\n",
            "GB | Epoch 2 | Loss: 1.2609388828277588 | Accuracy: 48.4375%\n",
            "GB | Epoch 2 | Loss: 1.223151683807373 | Accuracy: 53.125%\n",
            "GB | Epoch 2 | Loss: 1.2344090938568115 | Accuracy: 60.9375%\n",
            "GB | Epoch 2 | Loss: 1.225877046585083 | Accuracy: 51.5625%\n",
            "GB | Epoch 2 | Loss: 1.1382502317428589 | Accuracy: 60.9375%\n",
            "GB | Epoch 2 | Loss: 1.314173936843872 | Accuracy: 48.4375%\n"
          ]
        },
        {
          "output_type": "stream",
          "name": "stderr",
          "text": [
            "Epoch 2:  11%|█         | 82/751 [00:02<00:16, 40.03batch/s, accuracy=57.8125%, loss=1.15]"
          ]
        },
        {
          "output_type": "stream",
          "name": "stdout",
          "text": [
            "GB | Epoch 2 | Loss: 1.2524373531341553 | Accuracy: 48.4375%\n",
            "GB | Epoch 2 | Loss: 1.2686874866485596 | Accuracy: 43.75%\n",
            "GB | Epoch 2 | Loss: 1.275378704071045 | Accuracy: 50.0%\n",
            "GB | Epoch 2 | Loss: 1.175400972366333 | Accuracy: 54.6875%\n",
            "GB | Epoch 2 | Loss: 1.1649454832077026 | Accuracy: 53.125%\n",
            "GB | Epoch 2 | Loss: 1.2632858753204346 | Accuracy: 48.4375%\n",
            "GB | Epoch 2 | Loss: 1.0708184242248535 | Accuracy: 62.5%\n",
            "GB | Epoch 2 | Loss: 1.154018521308899 | Accuracy: 57.8125%\n"
          ]
        },
        {
          "output_type": "stream",
          "name": "stderr",
          "text": [
            "Epoch 2:  12%|█▏        | 90/751 [00:02<00:17, 37.68batch/s, accuracy=56.25%, loss=1.21]"
          ]
        },
        {
          "output_type": "stream",
          "name": "stdout",
          "text": [
            "GB | Epoch 2 | Loss: 1.1939088106155396 | Accuracy: 51.5625%\n",
            "GB | Epoch 2 | Loss: 1.1303551197052002 | Accuracy: 57.8125%\n",
            "GB | Epoch 2 | Loss: 1.222272515296936 | Accuracy: 53.125%\n",
            "GB | Epoch 2 | Loss: 1.1705241203308105 | Accuracy: 54.6875%\n",
            "GB | Epoch 2 | Loss: 1.1034727096557617 | Accuracy: 54.6875%\n",
            "GB | Epoch 2 | Loss: 1.0832217931747437 | Accuracy: 60.9375%\n",
            "GB | Epoch 2 | Loss: 1.1467238664627075 | Accuracy: 56.25%\n",
            "GB | Epoch 2 | Loss: 1.2074217796325684 | Accuracy: 56.25%\n"
          ]
        },
        {
          "output_type": "stream",
          "name": "stderr",
          "text": [
            "Epoch 2:  13%|█▎        | 99/751 [00:02<00:16, 38.73batch/s, accuracy=51.5625%, loss=1.17]"
          ]
        },
        {
          "output_type": "stream",
          "name": "stdout",
          "text": [
            "GB | Epoch 2 | Loss: 1.0657691955566406 | Accuracy: 64.0625%\n",
            "GB | Epoch 2 | Loss: 1.1486995220184326 | Accuracy: 54.6875%\n",
            "GB | Epoch 2 | Loss: 1.1621196269989014 | Accuracy: 51.5625%\n",
            "GB | Epoch 2 | Loss: 0.9831841588020325 | Accuracy: 67.1875%\n",
            "GB | Epoch 2 | Loss: 1.085872769355774 | Accuracy: 57.8125%\n",
            "GB | Epoch 2 | Loss: 1.1652830839157104 | Accuracy: 51.5625%\n",
            "GB | Epoch 2 | Loss: 1.1722570657730103 | Accuracy: 57.8125%\n",
            "GB | Epoch 2 | Loss: 1.076446294784546 | Accuracy: 57.8125%\n",
            "GB | Epoch 2 | Loss: 1.1705726385116577 | Accuracy: 51.5625%\n"
          ]
        },
        {
          "output_type": "stream",
          "name": "stderr",
          "text": [
            "Epoch 2:  14%|█▍        | 108/751 [00:03<00:16, 39.82batch/s, accuracy=51.5625%, loss=1.15]"
          ]
        },
        {
          "output_type": "stream",
          "name": "stdout",
          "text": [
            "GB | Epoch 2 | Loss: 1.1286081075668335 | Accuracy: 54.6875%\n",
            "GB | Epoch 2 | Loss: 1.096291184425354 | Accuracy: 64.0625%\n",
            "GB | Epoch 2 | Loss: 1.163364052772522 | Accuracy: 54.6875%\n",
            "GB | Epoch 2 | Loss: 1.1053931713104248 | Accuracy: 54.6875%\n",
            "GB | Epoch 2 | Loss: 1.2068092823028564 | Accuracy: 51.5625%\n",
            "GB | Epoch 2 | Loss: 1.189684271812439 | Accuracy: 53.125%\n",
            "GB | Epoch 2 | Loss: 1.1757793426513672 | Accuracy: 53.125%\n",
            "GB | Epoch 2 | Loss: 1.1936129331588745 | Accuracy: 53.125%\n",
            "GB | Epoch 2 | Loss: 1.1526329517364502 | Accuracy: 51.5625%\n"
          ]
        },
        {
          "output_type": "stream",
          "name": "stderr",
          "text": [
            "Epoch 2:  16%|█▌        | 117/751 [00:03<00:15, 40.38batch/s, accuracy=53.125%, loss=1.23] "
          ]
        },
        {
          "output_type": "stream",
          "name": "stdout",
          "text": [
            "GB | Epoch 2 | Loss: 1.0528483390808105 | Accuracy: 67.1875%\n",
            "GB | Epoch 2 | Loss: 1.2427376508712769 | Accuracy: 43.75%\n",
            "GB | Epoch 2 | Loss: 1.3866225481033325 | Accuracy: 46.875%\n",
            "GB | Epoch 2 | Loss: 1.1788804531097412 | Accuracy: 57.8125%\n",
            "GB | Epoch 2 | Loss: 1.3404916524887085 | Accuracy: 39.0625%\n",
            "GB | Epoch 2 | Loss: 1.083219289779663 | Accuracy: 54.6875%\n",
            "GB | Epoch 2 | Loss: 1.1582415103912354 | Accuracy: 53.125%\n",
            "GB | Epoch 2 | Loss: 1.0855376720428467 | Accuracy: 57.8125%\n",
            "GB | Epoch 2 | Loss: 1.2333900928497314 | Accuracy: 53.125%\n"
          ]
        },
        {
          "output_type": "stream",
          "name": "stderr",
          "text": [
            "Epoch 2:  17%|█▋        | 127/751 [00:03<00:15, 40.87batch/s, accuracy=53.125%, loss=1.2] "
          ]
        },
        {
          "output_type": "stream",
          "name": "stdout",
          "text": [
            "GB | Epoch 2 | Loss: 1.0825241804122925 | Accuracy: 59.375%\n",
            "GB | Epoch 2 | Loss: 1.080405592918396 | Accuracy: 51.5625%\n",
            "GB | Epoch 2 | Loss: 1.1979665756225586 | Accuracy: 51.5625%\n",
            "GB | Epoch 2 | Loss: 1.1536037921905518 | Accuracy: 56.25%\n",
            "GB | Epoch 2 | Loss: 1.0026367902755737 | Accuracy: 71.875%\n",
            "GB | Epoch 2 | Loss: 1.2464255094528198 | Accuracy: 45.3125%\n",
            "GB | Epoch 2 | Loss: 1.2318357229232788 | Accuracy: 50.0%\n",
            "GB | Epoch 2 | Loss: 1.1999626159667969 | Accuracy: 51.5625%\n",
            "GB | Epoch 2 | Loss: 1.1960114240646362 | Accuracy: 53.125%\n"
          ]
        },
        {
          "output_type": "stream",
          "name": "stderr",
          "text": [
            "Epoch 2:  18%|█▊        | 137/751 [00:03<00:15, 40.01batch/s, accuracy=64.0625%, loss=1.11]"
          ]
        },
        {
          "output_type": "stream",
          "name": "stdout",
          "text": [
            "GB | Epoch 2 | Loss: 1.2252568006515503 | Accuracy: 53.125%\n",
            "GB | Epoch 2 | Loss: 1.0190551280975342 | Accuracy: 62.5%\n",
            "GB | Epoch 2 | Loss: 1.084470510482788 | Accuracy: 60.9375%\n",
            "GB | Epoch 2 | Loss: 1.2480720281600952 | Accuracy: 50.0%\n",
            "GB | Epoch 2 | Loss: 1.0449951887130737 | Accuracy: 60.9375%\n",
            "GB | Epoch 2 | Loss: 1.0688778162002563 | Accuracy: 60.9375%\n",
            "GB | Epoch 2 | Loss: 1.0382927656173706 | Accuracy: 64.0625%\n",
            "GB | Epoch 2 | Loss: 1.1387500762939453 | Accuracy: 62.5%\n",
            "GB | Epoch 2 | Loss: 1.105434775352478 | Accuracy: 64.0625%\n"
          ]
        },
        {
          "output_type": "stream",
          "name": "stderr",
          "text": [
            "Epoch 2:  19%|█▉        | 142/751 [00:03<00:15, 40.59batch/s, accuracy=56.25%, loss=1.05] "
          ]
        },
        {
          "output_type": "stream",
          "name": "stdout",
          "text": [
            "GB | Epoch 2 | Loss: 0.9437016844749451 | Accuracy: 71.875%\n",
            "GB | Epoch 2 | Loss: 1.0864015817642212 | Accuracy: 59.375%\n",
            "GB | Epoch 2 | Loss: 1.1583889722824097 | Accuracy: 53.125%\n",
            "GB | Epoch 2 | Loss: 1.1543827056884766 | Accuracy: 53.125%\n",
            "GB | Epoch 2 | Loss: 1.1421005725860596 | Accuracy: 54.6875%\n",
            "GB | Epoch 2 | Loss: 1.1538591384887695 | Accuracy: 53.125%\n",
            "GB | Epoch 2 | Loss: 1.01583731174469 | Accuracy: 62.5%\n",
            "GB | Epoch 2 | Loss: 1.157052755355835 | Accuracy: 53.125%\n",
            "GB | Epoch 2 | Loss: 1.0514559745788574 | Accuracy: 56.25%\n"
          ]
        },
        {
          "output_type": "stream",
          "name": "stderr",
          "text": [
            "Epoch 2:  20%|██        | 152/751 [00:04<00:14, 40.26batch/s, accuracy=50.0%, loss=1.18]   "
          ]
        },
        {
          "output_type": "stream",
          "name": "stdout",
          "text": [
            "GB | Epoch 2 | Loss: 1.1845040321350098 | Accuracy: 54.6875%\n",
            "GB | Epoch 2 | Loss: 1.0937308073043823 | Accuracy: 53.125%\n",
            "GB | Epoch 2 | Loss: 1.1771998405456543 | Accuracy: 51.5625%\n",
            "GB | Epoch 2 | Loss: 1.1317722797393799 | Accuracy: 57.8125%\n",
            "GB | Epoch 2 | Loss: 1.2071592807769775 | Accuracy: 48.4375%\n",
            "GB | Epoch 2 | Loss: 1.171846866607666 | Accuracy: 59.375%\n",
            "GB | Epoch 2 | Loss: 0.9460224509239197 | Accuracy: 65.625%\n",
            "GB | Epoch 2 | Loss: 1.226011037826538 | Accuracy: 45.3125%\n",
            "GB | Epoch 2 | Loss: 1.1812036037445068 | Accuracy: 50.0%\n"
          ]
        },
        {
          "output_type": "stream",
          "name": "stderr",
          "text": [
            "Epoch 2:  21%|██▏       | 161/751 [00:04<00:16, 36.49batch/s, accuracy=46.875%, loss=1.23] "
          ]
        },
        {
          "output_type": "stream",
          "name": "stdout",
          "text": [
            "GB | Epoch 2 | Loss: 1.1055110692977905 | Accuracy: 56.25%\n",
            "GB | Epoch 2 | Loss: 1.0052655935287476 | Accuracy: 65.625%\n",
            "GB | Epoch 2 | Loss: 1.0552418231964111 | Accuracy: 60.9375%\n",
            "GB | Epoch 2 | Loss: 1.0619724988937378 | Accuracy: 62.5%\n",
            "GB | Epoch 2 | Loss: 1.0881799459457397 | Accuracy: 60.9375%\n",
            "GB | Epoch 2 | Loss: 1.079622507095337 | Accuracy: 60.9375%\n",
            "GB | Epoch 2 | Loss: 1.2284255027770996 | Accuracy: 46.875%\n"
          ]
        },
        {
          "output_type": "stream",
          "name": "stderr",
          "text": [
            "Epoch 2:  22%|██▏       | 165/751 [00:04<00:16, 35.05batch/s, accuracy=64.0625%, loss=0.998]"
          ]
        },
        {
          "output_type": "stream",
          "name": "stdout",
          "text": [
            "GB | Epoch 2 | Loss: 1.1009544134140015 | Accuracy: 57.8125%\n",
            "GB | Epoch 2 | Loss: 1.2154910564422607 | Accuracy: 48.4375%\n",
            "GB | Epoch 2 | Loss: 1.0470118522644043 | Accuracy: 60.9375%\n",
            "GB | Epoch 2 | Loss: 1.13753080368042 | Accuracy: 56.25%\n",
            "GB | Epoch 2 | Loss: 1.1640403270721436 | Accuracy: 56.25%\n",
            "GB | Epoch 2 | Loss: 1.1906942129135132 | Accuracy: 56.25%\n"
          ]
        },
        {
          "output_type": "stream",
          "name": "stderr",
          "text": [
            "Epoch 2:  23%|██▎       | 173/751 [00:04<00:18, 31.43batch/s, accuracy=57.8125%, loss=1.06]"
          ]
        },
        {
          "output_type": "stream",
          "name": "stdout",
          "text": [
            "GB | Epoch 2 | Loss: 0.9977737069129944 | Accuracy: 64.0625%\n",
            "GB | Epoch 2 | Loss: 1.065330147743225 | Accuracy: 50.0%\n",
            "GB | Epoch 2 | Loss: 1.0190887451171875 | Accuracy: 60.9375%\n",
            "GB | Epoch 2 | Loss: 0.9900292158126831 | Accuracy: 62.5%\n",
            "GB | Epoch 2 | Loss: 1.1252022981643677 | Accuracy: 54.6875%\n",
            "GB | Epoch 2 | Loss: 1.1433206796646118 | Accuracy: 53.125%\n",
            "GB | Epoch 2 | Loss: 1.0647668838500977 | Accuracy: 57.8125%\n"
          ]
        },
        {
          "output_type": "stream",
          "name": "stderr",
          "text": [
            "Epoch 2:  24%|██▍       | 183/751 [00:05<00:15, 36.44batch/s, accuracy=68.75%, loss=0.971]  "
          ]
        },
        {
          "output_type": "stream",
          "name": "stdout",
          "text": [
            "GB | Epoch 2 | Loss: 0.9270322918891907 | Accuracy: 78.125%\n",
            "GB | Epoch 2 | Loss: 1.022769808769226 | Accuracy: 59.375%\n",
            "GB | Epoch 2 | Loss: 1.0754635334014893 | Accuracy: 67.1875%\n",
            "GB | Epoch 2 | Loss: 1.0179176330566406 | Accuracy: 60.9375%\n",
            "GB | Epoch 2 | Loss: 1.2108824253082275 | Accuracy: 53.125%\n",
            "GB | Epoch 2 | Loss: 1.0991370677947998 | Accuracy: 59.375%\n",
            "GB | Epoch 2 | Loss: 1.0668537616729736 | Accuracy: 56.25%\n",
            "GB | Epoch 2 | Loss: 0.9135052561759949 | Accuracy: 70.3125%\n",
            "GB | Epoch 2 | Loss: 0.9712789058685303 | Accuracy: 68.75%\n"
          ]
        },
        {
          "output_type": "stream",
          "name": "stderr",
          "text": [
            "Epoch 2:  26%|██▌       | 193/751 [00:05<00:14, 38.99batch/s, accuracy=60.9375%, loss=1.05]"
          ]
        },
        {
          "output_type": "stream",
          "name": "stdout",
          "text": [
            "GB | Epoch 2 | Loss: 1.1128129959106445 | Accuracy: 59.375%\n",
            "GB | Epoch 2 | Loss: 1.0772571563720703 | Accuracy: 59.375%\n",
            "GB | Epoch 2 | Loss: 1.0152331590652466 | Accuracy: 60.9375%\n",
            "GB | Epoch 2 | Loss: 0.8896359801292419 | Accuracy: 68.75%\n",
            "GB | Epoch 2 | Loss: 1.009572982788086 | Accuracy: 59.375%\n",
            "GB | Epoch 2 | Loss: 1.0693559646606445 | Accuracy: 64.0625%\n",
            "GB | Epoch 2 | Loss: 1.0645703077316284 | Accuracy: 59.375%\n",
            "GB | Epoch 2 | Loss: 0.9237725138664246 | Accuracy: 67.1875%\n",
            "GB | Epoch 2 | Loss: 1.0503804683685303 | Accuracy: 60.9375%\n"
          ]
        },
        {
          "output_type": "stream",
          "name": "stderr",
          "text": [
            "Epoch 2:  27%|██▋       | 202/751 [00:05<00:13, 40.57batch/s, accuracy=64.0625%, loss=1.03]"
          ]
        },
        {
          "output_type": "stream",
          "name": "stdout",
          "text": [
            "GB | Epoch 2 | Loss: 1.0175782442092896 | Accuracy: 65.625%\n",
            "GB | Epoch 2 | Loss: 1.1184451580047607 | Accuracy: 53.125%\n",
            "GB | Epoch 2 | Loss: 1.023591160774231 | Accuracy: 59.375%\n",
            "GB | Epoch 2 | Loss: 1.0243901014328003 | Accuracy: 64.0625%\n",
            "GB | Epoch 2 | Loss: 1.0671790838241577 | Accuracy: 62.5%\n",
            "GB | Epoch 2 | Loss: 1.0540192127227783 | Accuracy: 60.9375%\n",
            "GB | Epoch 2 | Loss: 1.0207043886184692 | Accuracy: 59.375%\n",
            "GB | Epoch 2 | Loss: 1.166312575340271 | Accuracy: 53.125%\n",
            "GB | Epoch 2 | Loss: 1.0250356197357178 | Accuracy: 64.0625%\n"
          ]
        },
        {
          "output_type": "stream",
          "name": "stderr",
          "text": [
            "Epoch 2:  28%|██▊       | 207/751 [00:05<00:13, 40.42batch/s, accuracy=57.8125%, loss=1.07]"
          ]
        },
        {
          "output_type": "stream",
          "name": "stdout",
          "text": [
            "GB | Epoch 2 | Loss: 1.039582371711731 | Accuracy: 57.8125%\n",
            "GB | Epoch 2 | Loss: 1.1494886875152588 | Accuracy: 53.125%\n",
            "GB | Epoch 2 | Loss: 0.9415867924690247 | Accuracy: 70.3125%\n",
            "GB | Epoch 2 | Loss: 1.0819740295410156 | Accuracy: 57.8125%\n",
            "GB | Epoch 2 | Loss: 0.967592716217041 | Accuracy: 65.625%\n",
            "GB | Epoch 2 | Loss: 1.0985910892486572 | Accuracy: 57.8125%\n",
            "GB | Epoch 2 | Loss: 1.0399701595306396 | Accuracy: 59.375%\n",
            "GB | Epoch 2 | Loss: 1.0503010749816895 | Accuracy: 56.25%\n",
            "GB | Epoch 2 | Loss: 1.0684679746627808 | Accuracy: 57.8125%\n"
          ]
        },
        {
          "output_type": "stream",
          "name": "stderr",
          "text": [
            "Epoch 2:  29%|██▉       | 216/751 [00:05<00:13, 38.49batch/s, accuracy=71.875%, loss=0.867]"
          ]
        },
        {
          "output_type": "stream",
          "name": "stdout",
          "text": [
            "GB | Epoch 2 | Loss: 1.0505069494247437 | Accuracy: 60.9375%\n",
            "GB | Epoch 2 | Loss: 0.9227055907249451 | Accuracy: 73.4375%\n",
            "GB | Epoch 2 | Loss: 1.0322524309158325 | Accuracy: 64.0625%\n",
            "GB | Epoch 2 | Loss: 0.8412874937057495 | Accuracy: 71.875%\n",
            "GB | Epoch 2 | Loss: 1.1492881774902344 | Accuracy: 59.375%\n",
            "GB | Epoch 2 | Loss: 0.9523850083351135 | Accuracy: 68.75%\n",
            "GB | Epoch 2 | Loss: 0.9863739013671875 | Accuracy: 62.5%\n",
            "GB | Epoch 2 | Loss: 0.8674251437187195 | Accuracy: 71.875%\n"
          ]
        },
        {
          "output_type": "stream",
          "name": "stderr",
          "text": [
            "Epoch 2:  30%|██▉       | 224/751 [00:06<00:13, 38.45batch/s, accuracy=68.75%, loss=0.798]  "
          ]
        },
        {
          "output_type": "stream",
          "name": "stdout",
          "text": [
            "GB | Epoch 2 | Loss: 0.8969226479530334 | Accuracy: 65.625%\n",
            "GB | Epoch 2 | Loss: 0.9021264314651489 | Accuracy: 67.1875%\n",
            "GB | Epoch 2 | Loss: 0.9013016223907471 | Accuracy: 73.4375%\n",
            "GB | Epoch 2 | Loss: 1.0403428077697754 | Accuracy: 64.0625%\n",
            "GB | Epoch 2 | Loss: 1.0476453304290771 | Accuracy: 59.375%\n",
            "GB | Epoch 2 | Loss: 0.8679664731025696 | Accuracy: 71.875%\n",
            "GB | Epoch 2 | Loss: 1.0838063955307007 | Accuracy: 54.6875%\n",
            "GB | Epoch 2 | Loss: 0.882914662361145 | Accuracy: 67.1875%\n"
          ]
        },
        {
          "output_type": "stream",
          "name": "stderr",
          "text": [
            "Epoch 2:  31%|███       | 233/751 [00:06<00:13, 38.86batch/s, accuracy=56.25%, loss=1.09]   "
          ]
        },
        {
          "output_type": "stream",
          "name": "stdout",
          "text": [
            "GB | Epoch 2 | Loss: 0.7976565957069397 | Accuracy: 68.75%\n",
            "GB | Epoch 2 | Loss: 1.0401140451431274 | Accuracy: 60.9375%\n",
            "GB | Epoch 2 | Loss: 0.9536203742027283 | Accuracy: 70.3125%\n",
            "GB | Epoch 2 | Loss: 1.1228082180023193 | Accuracy: 54.6875%\n",
            "GB | Epoch 2 | Loss: 1.0503783226013184 | Accuracy: 59.375%\n",
            "GB | Epoch 2 | Loss: 1.1408495903015137 | Accuracy: 48.4375%\n",
            "GB | Epoch 2 | Loss: 0.8938745856285095 | Accuracy: 64.0625%\n",
            "GB | Epoch 2 | Loss: 1.0901031494140625 | Accuracy: 56.25%\n"
          ]
        },
        {
          "output_type": "stream",
          "name": "stderr",
          "text": [
            "Epoch 2:  32%|███▏      | 242/751 [00:06<00:13, 38.88batch/s, accuracy=67.1875%, loss=1.06]"
          ]
        },
        {
          "output_type": "stream",
          "name": "stdout",
          "text": [
            "GB | Epoch 2 | Loss: 1.0688475370407104 | Accuracy: 56.25%\n",
            "GB | Epoch 2 | Loss: 0.7588120698928833 | Accuracy: 78.125%\n",
            "GB | Epoch 2 | Loss: 1.050166368484497 | Accuracy: 59.375%\n",
            "GB | Epoch 2 | Loss: 1.0458372831344604 | Accuracy: 57.8125%\n",
            "GB | Epoch 2 | Loss: 1.1627968549728394 | Accuracy: 57.8125%\n",
            "GB | Epoch 2 | Loss: 1.0512206554412842 | Accuracy: 60.9375%\n",
            "GB | Epoch 2 | Loss: 0.8002666234970093 | Accuracy: 79.6875%\n",
            "GB | Epoch 2 | Loss: 0.9117870926856995 | Accuracy: 65.625%\n",
            "GB | Epoch 2 | Loss: 1.0566655397415161 | Accuracy: 67.1875%\n"
          ]
        },
        {
          "output_type": "stream",
          "name": "stderr",
          "text": [
            "Epoch 2:  33%|███▎      | 251/751 [00:06<00:12, 40.50batch/s, accuracy=59.375%, loss=1.06] "
          ]
        },
        {
          "output_type": "stream",
          "name": "stdout",
          "text": [
            "GB | Epoch 2 | Loss: 0.891508936882019 | Accuracy: 65.625%\n",
            "GB | Epoch 2 | Loss: 1.032055377960205 | Accuracy: 62.5%\n",
            "GB | Epoch 2 | Loss: 0.8993774056434631 | Accuracy: 65.625%\n",
            "GB | Epoch 2 | Loss: 1.0641045570373535 | Accuracy: 56.25%\n",
            "GB | Epoch 2 | Loss: 1.011366605758667 | Accuracy: 62.5%\n",
            "GB | Epoch 2 | Loss: 0.8710101842880249 | Accuracy: 70.3125%\n",
            "GB | Epoch 2 | Loss: 0.9119598865509033 | Accuracy: 62.5%\n",
            "GB | Epoch 2 | Loss: 1.0893640518188477 | Accuracy: 54.6875%\n",
            "GB | Epoch 2 | Loss: 1.0563416481018066 | Accuracy: 59.375%\n"
          ]
        },
        {
          "output_type": "stream",
          "name": "stderr",
          "text": [
            "Epoch 2:  35%|███▍      | 261/751 [00:06<00:12, 39.05batch/s, accuracy=68.75%, loss=0.909]"
          ]
        },
        {
          "output_type": "stream",
          "name": "stdout",
          "text": [
            "GB | Epoch 2 | Loss: 1.0345091819763184 | Accuracy: 51.5625%\n",
            "GB | Epoch 2 | Loss: 0.9436987638473511 | Accuracy: 65.625%\n",
            "GB | Epoch 2 | Loss: 0.8812474608421326 | Accuracy: 71.875%\n",
            "GB | Epoch 2 | Loss: 1.1163902282714844 | Accuracy: 56.25%\n",
            "GB | Epoch 2 | Loss: 0.9745716452598572 | Accuracy: 56.25%\n",
            "GB | Epoch 2 | Loss: 0.901941180229187 | Accuracy: 60.9375%\n",
            "GB | Epoch 2 | Loss: 0.8127481341362 | Accuracy: 76.5625%\n",
            "GB | Epoch 2 | Loss: 0.9090938568115234 | Accuracy: 68.75%\n"
          ]
        },
        {
          "output_type": "stream",
          "name": "stderr",
          "text": [
            "Epoch 2:  35%|███▌      | 265/751 [00:07<00:13, 35.36batch/s, accuracy=65.625%, loss=1.04] "
          ]
        },
        {
          "output_type": "stream",
          "name": "stdout",
          "text": [
            "GB | Epoch 2 | Loss: 0.9146761298179626 | Accuracy: 67.1875%\n",
            "GB | Epoch 2 | Loss: 0.8725452423095703 | Accuracy: 67.1875%\n",
            "GB | Epoch 2 | Loss: 0.8509705066680908 | Accuracy: 71.875%\n",
            "GB | Epoch 2 | Loss: 1.0672968626022339 | Accuracy: 64.0625%\n",
            "GB | Epoch 2 | Loss: 0.9768355488777161 | Accuracy: 59.375%\n",
            "GB | Epoch 2 | Loss: 0.9276649355888367 | Accuracy: 65.625%\n"
          ]
        },
        {
          "output_type": "stream",
          "name": "stderr",
          "text": [
            "Epoch 2:  36%|███▋      | 273/751 [00:07<00:13, 34.17batch/s, accuracy=60.9375%, loss=1.03]"
          ]
        },
        {
          "output_type": "stream",
          "name": "stdout",
          "text": [
            "GB | Epoch 2 | Loss: 1.0394288301467896 | Accuracy: 65.625%\n",
            "GB | Epoch 2 | Loss: 0.8856740593910217 | Accuracy: 70.3125%\n",
            "GB | Epoch 2 | Loss: 1.0009183883666992 | Accuracy: 65.625%\n",
            "GB | Epoch 2 | Loss: 0.9425224661827087 | Accuracy: 60.9375%\n",
            "GB | Epoch 2 | Loss: 0.9913661479949951 | Accuracy: 59.375%\n",
            "GB | Epoch 2 | Loss: 1.1252816915512085 | Accuracy: 54.6875%\n",
            "GB | Epoch 2 | Loss: 1.0331625938415527 | Accuracy: 60.9375%\n"
          ]
        },
        {
          "output_type": "stream",
          "name": "stderr",
          "text": [
            "Epoch 2:  37%|███▋      | 277/751 [00:07<00:14, 32.16batch/s, accuracy=67.1875%, loss=0.881]"
          ]
        },
        {
          "output_type": "stream",
          "name": "stdout",
          "text": [
            "GB | Epoch 2 | Loss: 0.8104644417762756 | Accuracy: 71.875%\n",
            "GB | Epoch 2 | Loss: 0.8636307120323181 | Accuracy: 68.75%\n",
            "GB | Epoch 2 | Loss: 0.9349534511566162 | Accuracy: 65.625%\n",
            "GB | Epoch 2 | Loss: 0.9277505278587341 | Accuracy: 73.4375%\n",
            "GB | Epoch 2 | Loss: 0.9122605323791504 | Accuracy: 65.625%\n",
            "GB | Epoch 2 | Loss: 0.8809210658073425 | Accuracy: 67.1875%\n"
          ]
        },
        {
          "output_type": "stream",
          "name": "stderr",
          "text": [
            "Epoch 2:  38%|███▊      | 285/751 [00:07<00:15, 30.16batch/s, accuracy=75.0%, loss=0.83]    "
          ]
        },
        {
          "output_type": "stream",
          "name": "stdout",
          "text": [
            "GB | Epoch 2 | Loss: 0.6673089265823364 | Accuracy: 79.6875%\n",
            "GB | Epoch 2 | Loss: 0.9324147701263428 | Accuracy: 60.9375%\n",
            "GB | Epoch 2 | Loss: 0.8490370512008667 | Accuracy: 71.875%\n",
            "GB | Epoch 2 | Loss: 0.9285576343536377 | Accuracy: 67.1875%\n",
            "GB | Epoch 2 | Loss: 0.8655633926391602 | Accuracy: 70.3125%\n",
            "GB | Epoch 2 | Loss: 0.8304728269577026 | Accuracy: 75.0%\n"
          ]
        },
        {
          "output_type": "stream",
          "name": "stderr",
          "text": [
            "Epoch 2:  38%|███▊      | 289/751 [00:08<00:16, 28.45batch/s, accuracy=71.875%, loss=0.749]"
          ]
        },
        {
          "output_type": "stream",
          "name": "stdout",
          "text": [
            "GB | Epoch 2 | Loss: 0.8918545842170715 | Accuracy: 71.875%\n",
            "GB | Epoch 2 | Loss: 0.8559293150901794 | Accuracy: 70.3125%\n",
            "GB | Epoch 2 | Loss: 0.8203810453414917 | Accuracy: 73.4375%\n",
            "GB | Epoch 2 | Loss: 0.9219525456428528 | Accuracy: 73.4375%\n",
            "GB | Epoch 2 | Loss: 0.9737734198570251 | Accuracy: 65.625%\n",
            "GB | Epoch 2 | Loss: 0.7485530376434326 | Accuracy: 71.875%\n"
          ]
        },
        {
          "output_type": "stream",
          "name": "stderr",
          "text": [
            "Epoch 2:  39%|███▉      | 296/751 [00:08<00:15, 28.74batch/s, accuracy=54.6875%, loss=1.01]"
          ]
        },
        {
          "output_type": "stream",
          "name": "stdout",
          "text": [
            "GB | Epoch 2 | Loss: 0.979710042476654 | Accuracy: 64.0625%\n",
            "GB | Epoch 2 | Loss: 0.8667746186256409 | Accuracy: 68.75%\n",
            "GB | Epoch 2 | Loss: 0.8321568369865417 | Accuracy: 67.1875%\n",
            "GB | Epoch 2 | Loss: 0.947970449924469 | Accuracy: 68.75%\n",
            "GB | Epoch 2 | Loss: 0.9250733256340027 | Accuracy: 62.5%\n",
            "GB | Epoch 2 | Loss: 1.0135458707809448 | Accuracy: 54.6875%\n"
          ]
        },
        {
          "output_type": "stream",
          "name": "stderr",
          "text": [
            "Epoch 2:  40%|████      | 303/751 [00:08<00:15, 29.77batch/s, accuracy=68.75%, loss=0.842]  "
          ]
        },
        {
          "output_type": "stream",
          "name": "stdout",
          "text": [
            "GB | Epoch 2 | Loss: 0.850197970867157 | Accuracy: 68.75%\n",
            "GB | Epoch 2 | Loss: 0.974402904510498 | Accuracy: 60.9375%\n",
            "GB | Epoch 2 | Loss: 0.9717628359794617 | Accuracy: 59.375%\n",
            "GB | Epoch 2 | Loss: 1.067222237586975 | Accuracy: 65.625%\n",
            "GB | Epoch 2 | Loss: 1.0246065855026245 | Accuracy: 56.25%\n",
            "GB | Epoch 2 | Loss: 0.841552197933197 | Accuracy: 73.4375%\n",
            "GB | Epoch 2 | Loss: 0.841520369052887 | Accuracy: 68.75%\n"
          ]
        },
        {
          "output_type": "stream",
          "name": "stderr",
          "text": [
            "Epoch 2:  41%|████▏     | 310/751 [00:08<00:14, 30.41batch/s, accuracy=60.9375%, loss=0.895]"
          ]
        },
        {
          "output_type": "stream",
          "name": "stdout",
          "text": [
            "GB | Epoch 2 | Loss: 0.7826339602470398 | Accuracy: 75.0%\n",
            "GB | Epoch 2 | Loss: 0.8750360012054443 | Accuracy: 65.625%\n",
            "GB | Epoch 2 | Loss: 0.8734748959541321 | Accuracy: 64.0625%\n",
            "GB | Epoch 2 | Loss: 0.8080058097839355 | Accuracy: 71.875%\n",
            "GB | Epoch 2 | Loss: 0.7791961431503296 | Accuracy: 71.875%\n",
            "GB | Epoch 2 | Loss: 0.9446107745170593 | Accuracy: 65.625%\n",
            "GB | Epoch 2 | Loss: 0.8945367932319641 | Accuracy: 60.9375%\n"
          ]
        },
        {
          "output_type": "stream",
          "name": "stderr",
          "text": [
            "Epoch 2:  42%|████▏     | 318/751 [00:08<00:13, 31.41batch/s, accuracy=57.8125%, loss=0.963]"
          ]
        },
        {
          "output_type": "stream",
          "name": "stdout",
          "text": [
            "GB | Epoch 2 | Loss: 0.8386514782905579 | Accuracy: 68.75%\n",
            "GB | Epoch 2 | Loss: 0.947240948677063 | Accuracy: 68.75%\n",
            "GB | Epoch 2 | Loss: 0.8274686932563782 | Accuracy: 73.4375%\n",
            "GB | Epoch 2 | Loss: 0.8571183681488037 | Accuracy: 67.1875%\n",
            "GB | Epoch 2 | Loss: 0.8607038259506226 | Accuracy: 73.4375%\n",
            "GB | Epoch 2 | Loss: 0.9729788303375244 | Accuracy: 67.1875%\n",
            "GB | Epoch 2 | Loss: 0.9630449414253235 | Accuracy: 57.8125%\n"
          ]
        },
        {
          "output_type": "stream",
          "name": "stderr",
          "text": [
            "Epoch 2:  43%|████▎     | 326/751 [00:09<00:13, 31.46batch/s, accuracy=73.4375%, loss=0.775]"
          ]
        },
        {
          "output_type": "stream",
          "name": "stdout",
          "text": [
            "GB | Epoch 2 | Loss: 1.020898699760437 | Accuracy: 56.25%\n",
            "GB | Epoch 2 | Loss: 0.8276727199554443 | Accuracy: 73.4375%\n",
            "GB | Epoch 2 | Loss: 0.7794567942619324 | Accuracy: 71.875%\n",
            "GB | Epoch 2 | Loss: 1.0112152099609375 | Accuracy: 60.9375%\n",
            "GB | Epoch 2 | Loss: 0.7287971377372742 | Accuracy: 76.5625%\n",
            "GB | Epoch 2 | Loss: 0.9059827327728271 | Accuracy: 64.0625%\n",
            "GB | Epoch 2 | Loss: 0.7754656672477722 | Accuracy: 73.4375%\n"
          ]
        },
        {
          "output_type": "stream",
          "name": "stderr",
          "text": [
            "Epoch 2:  44%|████▍     | 334/751 [00:09<00:12, 33.34batch/s, accuracy=67.1875%, loss=0.865]"
          ]
        },
        {
          "output_type": "stream",
          "name": "stdout",
          "text": [
            "GB | Epoch 2 | Loss: 0.8098546266555786 | Accuracy: 68.75%\n",
            "GB | Epoch 2 | Loss: 0.9026457667350769 | Accuracy: 67.1875%\n",
            "GB | Epoch 2 | Loss: 0.8467352390289307 | Accuracy: 73.4375%\n",
            "GB | Epoch 2 | Loss: 0.7884690165519714 | Accuracy: 71.875%\n",
            "GB | Epoch 2 | Loss: 0.8892965912818909 | Accuracy: 67.1875%\n",
            "GB | Epoch 2 | Loss: 0.8168500661849976 | Accuracy: 71.875%\n",
            "GB | Epoch 2 | Loss: 0.7241109013557434 | Accuracy: 78.125%\n",
            "GB | Epoch 2 | Loss: 0.8650669455528259 | Accuracy: 67.1875%\n"
          ]
        },
        {
          "output_type": "stream",
          "name": "stderr",
          "text": [
            "Epoch 2:  45%|████▌     | 338/751 [00:09<00:13, 31.65batch/s, accuracy=75.0%, loss=0.815] "
          ]
        },
        {
          "output_type": "stream",
          "name": "stdout",
          "text": [
            "GB | Epoch 2 | Loss: 0.7620776891708374 | Accuracy: 68.75%\n",
            "GB | Epoch 2 | Loss: 1.041698932647705 | Accuracy: 60.9375%\n",
            "GB | Epoch 2 | Loss: 0.9475327730178833 | Accuracy: 60.9375%\n",
            "GB | Epoch 2 | Loss: 0.9943287372589111 | Accuracy: 50.0%\n",
            "GB | Epoch 2 | Loss: 0.880677342414856 | Accuracy: 68.75%\n",
            "GB | Epoch 2 | Loss: 0.8149661421775818 | Accuracy: 75.0%\n"
          ]
        },
        {
          "output_type": "stream",
          "name": "stderr",
          "text": [
            "Epoch 2:  46%|████▌     | 346/751 [00:09<00:13, 29.15batch/s, accuracy=62.5%, loss=0.887]"
          ]
        },
        {
          "output_type": "stream",
          "name": "stdout",
          "text": [
            "GB | Epoch 2 | Loss: 0.8240521550178528 | Accuracy: 75.0%\n",
            "GB | Epoch 2 | Loss: 0.8848592042922974 | Accuracy: 64.0625%\n",
            "GB | Epoch 2 | Loss: 0.7462177276611328 | Accuracy: 78.125%\n",
            "GB | Epoch 2 | Loss: 0.9446489810943604 | Accuracy: 62.5%\n",
            "GB | Epoch 2 | Loss: 0.8005466461181641 | Accuracy: 68.75%\n",
            "GB | Epoch 2 | Loss: 0.8873081207275391 | Accuracy: 62.5%\n"
          ]
        },
        {
          "output_type": "stream",
          "name": "stderr",
          "text": [
            "Epoch 2:  47%|████▋     | 352/751 [00:10<00:13, 28.74batch/s, accuracy=62.5%, loss=0.839]"
          ]
        },
        {
          "output_type": "stream",
          "name": "stdout",
          "text": [
            "GB | Epoch 2 | Loss: 1.0524523258209229 | Accuracy: 57.8125%\n",
            "GB | Epoch 2 | Loss: 0.9856378436088562 | Accuracy: 57.8125%\n",
            "GB | Epoch 2 | Loss: 0.9632307291030884 | Accuracy: 57.8125%\n",
            "GB | Epoch 2 | Loss: 0.7606711983680725 | Accuracy: 78.125%\n",
            "GB | Epoch 2 | Loss: 0.8673703670501709 | Accuracy: 71.875%\n",
            "GB | Epoch 2 | Loss: 0.8390598297119141 | Accuracy: 62.5%\n"
          ]
        },
        {
          "output_type": "stream",
          "name": "stderr",
          "text": [
            "Epoch 2:  47%|████▋     | 356/751 [00:10<00:12, 30.43batch/s, accuracy=59.375%, loss=0.988]"
          ]
        },
        {
          "output_type": "stream",
          "name": "stdout",
          "text": [
            "GB | Epoch 2 | Loss: 0.7968268394470215 | Accuracy: 70.3125%\n",
            "GB | Epoch 2 | Loss: 0.6833629608154297 | Accuracy: 81.25%\n",
            "GB | Epoch 2 | Loss: 0.9773470163345337 | Accuracy: 60.9375%\n",
            "GB | Epoch 2 | Loss: 1.016829252243042 | Accuracy: 67.1875%\n",
            "GB | Epoch 2 | Loss: 0.6880975365638733 | Accuracy: 78.125%\n",
            "GB | Epoch 2 | Loss: 0.868951141834259 | Accuracy: 62.5%\n",
            "GB | Epoch 2 | Loss: 0.9879691004753113 | Accuracy: 59.375%\n"
          ]
        },
        {
          "output_type": "stream",
          "name": "stderr",
          "text": [
            "Epoch 2:  48%|████▊     | 364/751 [00:10<00:12, 30.86batch/s, accuracy=82.8125%, loss=0.624]"
          ]
        },
        {
          "output_type": "stream",
          "name": "stdout",
          "text": [
            "GB | Epoch 2 | Loss: 0.8404207825660706 | Accuracy: 64.0625%\n",
            "GB | Epoch 2 | Loss: 0.9791858792304993 | Accuracy: 65.625%\n",
            "GB | Epoch 2 | Loss: 0.9253681898117065 | Accuracy: 68.75%\n",
            "GB | Epoch 2 | Loss: 0.8996403217315674 | Accuracy: 60.9375%\n",
            "GB | Epoch 2 | Loss: 0.879603385925293 | Accuracy: 71.875%\n",
            "GB | Epoch 2 | Loss: 0.6240970492362976 | Accuracy: 82.8125%\n"
          ]
        },
        {
          "output_type": "stream",
          "name": "stderr",
          "text": [
            "Epoch 2:  49%|████▉     | 368/751 [00:10<00:13, 29.22batch/s, accuracy=70.3125%, loss=0.886]"
          ]
        },
        {
          "output_type": "stream",
          "name": "stdout",
          "text": [
            "GB | Epoch 2 | Loss: 0.7544254660606384 | Accuracy: 71.875%\n",
            "GB | Epoch 2 | Loss: 0.8669878244400024 | Accuracy: 64.0625%\n",
            "GB | Epoch 2 | Loss: 1.0102428197860718 | Accuracy: 60.9375%\n",
            "GB | Epoch 2 | Loss: 0.807446300983429 | Accuracy: 73.4375%\n",
            "GB | Epoch 2 | Loss: 0.7317380309104919 | Accuracy: 70.3125%\n",
            "GB | Epoch 2 | Loss: 0.8859289288520813 | Accuracy: 70.3125%\n"
          ]
        },
        {
          "output_type": "stream",
          "name": "stderr",
          "text": [
            "Epoch 2:  50%|████▉     | 375/751 [00:10<00:12, 29.63batch/s, accuracy=70.3125%, loss=0.881]"
          ]
        },
        {
          "output_type": "stream",
          "name": "stdout",
          "text": [
            "GB | Epoch 2 | Loss: 0.9163439869880676 | Accuracy: 65.625%\n",
            "GB | Epoch 2 | Loss: 0.7182237505912781 | Accuracy: 73.4375%\n",
            "GB | Epoch 2 | Loss: 0.8794587850570679 | Accuracy: 65.625%\n",
            "GB | Epoch 2 | Loss: 0.8171772360801697 | Accuracy: 70.3125%\n",
            "GB | Epoch 2 | Loss: 0.767099916934967 | Accuracy: 71.875%\n",
            "GB | Epoch 2 | Loss: 0.9512794613838196 | Accuracy: 60.9375%\n",
            "GB | Epoch 2 | Loss: 0.8807467818260193 | Accuracy: 70.3125%\n"
          ]
        },
        {
          "output_type": "stream",
          "name": "stderr",
          "text": [
            "Epoch 2:  51%|█████     | 382/751 [00:11<00:12, 29.12batch/s, accuracy=71.875%, loss=0.757]"
          ]
        },
        {
          "output_type": "stream",
          "name": "stdout",
          "text": [
            "GB | Epoch 2 | Loss: 0.7867662906646729 | Accuracy: 67.1875%\n",
            "GB | Epoch 2 | Loss: 0.6916868090629578 | Accuracy: 71.875%\n",
            "GB | Epoch 2 | Loss: 0.7803590297698975 | Accuracy: 79.6875%\n",
            "GB | Epoch 2 | Loss: 0.7827903628349304 | Accuracy: 65.625%\n",
            "GB | Epoch 2 | Loss: 0.8710734844207764 | Accuracy: 71.875%\n",
            "GB | Epoch 2 | Loss: 0.6998195052146912 | Accuracy: 73.4375%\n",
            "GB | Epoch 2 | Loss: 0.7569215893745422 | Accuracy: 71.875%\n"
          ]
        },
        {
          "output_type": "stream",
          "name": "stderr",
          "text": [
            "Epoch 2:  52%|█████▏    | 390/751 [00:11<00:11, 32.45batch/s, accuracy=60.9375%, loss=0.945]"
          ]
        },
        {
          "output_type": "stream",
          "name": "stdout",
          "text": [
            "GB | Epoch 2 | Loss: 0.7370983362197876 | Accuracy: 76.5625%\n",
            "GB | Epoch 2 | Loss: 0.8683315515518188 | Accuracy: 73.4375%\n",
            "GB | Epoch 2 | Loss: 0.7253934144973755 | Accuracy: 76.5625%\n",
            "GB | Epoch 2 | Loss: 0.883156418800354 | Accuracy: 65.625%\n",
            "GB | Epoch 2 | Loss: 0.6951491832733154 | Accuracy: 68.75%\n",
            "GB | Epoch 2 | Loss: 0.7433133125305176 | Accuracy: 73.4375%\n",
            "GB | Epoch 2 | Loss: 0.9122819304466248 | Accuracy: 57.8125%\n",
            "GB | Epoch 2 | Loss: 0.9448167085647583 | Accuracy: 60.9375%\n"
          ]
        },
        {
          "output_type": "stream",
          "name": "stderr",
          "text": [
            "Epoch 2:  53%|█████▎    | 399/751 [00:11<00:09, 36.49batch/s, accuracy=78.125%, loss=0.699] "
          ]
        },
        {
          "output_type": "stream",
          "name": "stdout",
          "text": [
            "GB | Epoch 2 | Loss: 0.902442991733551 | Accuracy: 60.9375%\n",
            "GB | Epoch 2 | Loss: 0.6374303102493286 | Accuracy: 78.125%\n",
            "GB | Epoch 2 | Loss: 1.0334579944610596 | Accuracy: 60.9375%\n",
            "GB | Epoch 2 | Loss: 0.690902590751648 | Accuracy: 76.5625%\n",
            "GB | Epoch 2 | Loss: 0.7774143218994141 | Accuracy: 78.125%\n",
            "GB | Epoch 2 | Loss: 0.8327252268791199 | Accuracy: 65.625%\n",
            "GB | Epoch 2 | Loss: 0.7923130393028259 | Accuracy: 68.75%\n",
            "GB | Epoch 2 | Loss: 0.6670466065406799 | Accuracy: 79.6875%\n",
            "GB | Epoch 2 | Loss: 0.6990272402763367 | Accuracy: 78.125%\n"
          ]
        },
        {
          "output_type": "stream",
          "name": "stderr",
          "text": [
            "Epoch 2:  54%|█████▍    | 408/751 [00:11<00:09, 38.08batch/s, accuracy=73.4375%, loss=0.849]"
          ]
        },
        {
          "output_type": "stream",
          "name": "stdout",
          "text": [
            "GB | Epoch 2 | Loss: 0.7281115651130676 | Accuracy: 70.3125%\n",
            "GB | Epoch 2 | Loss: 0.89124596118927 | Accuracy: 64.0625%\n",
            "GB | Epoch 2 | Loss: 0.7171157002449036 | Accuracy: 73.4375%\n",
            "GB | Epoch 2 | Loss: 0.809996485710144 | Accuracy: 64.0625%\n",
            "GB | Epoch 2 | Loss: 0.7362326979637146 | Accuracy: 79.6875%\n",
            "GB | Epoch 2 | Loss: 0.7944749593734741 | Accuracy: 68.75%\n",
            "GB | Epoch 2 | Loss: 0.8195260763168335 | Accuracy: 64.0625%\n",
            "GB | Epoch 2 | Loss: 0.7164691090583801 | Accuracy: 70.3125%\n",
            "GB | Epoch 2 | Loss: 0.8490345478057861 | Accuracy: 73.4375%\n"
          ]
        },
        {
          "output_type": "stream",
          "name": "stderr",
          "text": [
            "Epoch 2:  56%|█████▌    | 417/751 [00:11<00:08, 39.83batch/s, accuracy=85.9375%, loss=0.522]"
          ]
        },
        {
          "output_type": "stream",
          "name": "stdout",
          "text": [
            "GB | Epoch 2 | Loss: 0.7006409764289856 | Accuracy: 75.0%\n",
            "GB | Epoch 2 | Loss: 0.7347733974456787 | Accuracy: 71.875%\n",
            "GB | Epoch 2 | Loss: 0.8052261471748352 | Accuracy: 73.4375%\n",
            "GB | Epoch 2 | Loss: 0.9059581756591797 | Accuracy: 68.75%\n",
            "GB | Epoch 2 | Loss: 0.8286275267601013 | Accuracy: 70.3125%\n",
            "GB | Epoch 2 | Loss: 0.8944747447967529 | Accuracy: 64.0625%\n",
            "GB | Epoch 2 | Loss: 0.7127676010131836 | Accuracy: 70.3125%\n",
            "GB | Epoch 2 | Loss: 0.8000739812850952 | Accuracy: 67.1875%\n",
            "GB | Epoch 2 | Loss: 0.5222498774528503 | Accuracy: 85.9375%\n"
          ]
        },
        {
          "output_type": "stream",
          "name": "stderr",
          "text": [
            "Epoch 2:  57%|█████▋    | 426/751 [00:12<00:08, 39.88batch/s, accuracy=73.4375%, loss=0.621]"
          ]
        },
        {
          "output_type": "stream",
          "name": "stdout",
          "text": [
            "GB | Epoch 2 | Loss: 0.6677559018135071 | Accuracy: 76.5625%\n",
            "GB | Epoch 2 | Loss: 0.8062803149223328 | Accuracy: 70.3125%\n",
            "GB | Epoch 2 | Loss: 0.6856640577316284 | Accuracy: 71.875%\n",
            "GB | Epoch 2 | Loss: 0.6425905823707581 | Accuracy: 78.125%\n",
            "GB | Epoch 2 | Loss: 0.9295085668563843 | Accuracy: 59.375%\n",
            "GB | Epoch 2 | Loss: 0.7177395224571228 | Accuracy: 68.75%\n",
            "GB | Epoch 2 | Loss: 1.0541372299194336 | Accuracy: 59.375%\n",
            "GB | Epoch 2 | Loss: 0.6602768898010254 | Accuracy: 78.125%\n",
            "GB | Epoch 2 | Loss: 0.6205387711524963 | Accuracy: 73.4375%\n"
          ]
        },
        {
          "output_type": "stream",
          "name": "stderr",
          "text": [
            "Epoch 2:  58%|█████▊    | 434/751 [00:12<00:08, 38.66batch/s, accuracy=67.1875%, loss=0.762]"
          ]
        },
        {
          "output_type": "stream",
          "name": "stdout",
          "text": [
            "GB | Epoch 2 | Loss: 0.7789186835289001 | Accuracy: 68.75%\n",
            "GB | Epoch 2 | Loss: 0.6514109373092651 | Accuracy: 78.125%\n",
            "GB | Epoch 2 | Loss: 0.6816637516021729 | Accuracy: 75.0%\n",
            "GB | Epoch 2 | Loss: 0.6226974129676819 | Accuracy: 81.25%\n",
            "GB | Epoch 2 | Loss: 0.837246298789978 | Accuracy: 67.1875%\n",
            "GB | Epoch 2 | Loss: 0.7317801713943481 | Accuracy: 70.3125%\n",
            "GB | Epoch 2 | Loss: 0.5665234923362732 | Accuracy: 81.25%\n",
            "GB | Epoch 2 | Loss: 0.7622058391571045 | Accuracy: 67.1875%\n"
          ]
        },
        {
          "output_type": "stream",
          "name": "stderr",
          "text": [
            "Epoch 2:  59%|█████▉    | 442/751 [00:12<00:07, 38.90batch/s, accuracy=65.625%, loss=0.873]"
          ]
        },
        {
          "output_type": "stream",
          "name": "stdout",
          "text": [
            "GB | Epoch 2 | Loss: 0.8473196625709534 | Accuracy: 70.3125%\n",
            "GB | Epoch 2 | Loss: 0.8452266454696655 | Accuracy: 65.625%\n",
            "GB | Epoch 2 | Loss: 0.8438266515731812 | Accuracy: 65.625%\n",
            "GB | Epoch 2 | Loss: 0.9607457518577576 | Accuracy: 65.625%\n",
            "GB | Epoch 2 | Loss: 0.7789689302444458 | Accuracy: 70.3125%\n",
            "GB | Epoch 2 | Loss: 0.781262993812561 | Accuracy: 71.875%\n",
            "GB | Epoch 2 | Loss: 0.7324550747871399 | Accuracy: 71.875%\n",
            "GB | Epoch 2 | Loss: 0.8169448375701904 | Accuracy: 68.75%\n",
            "GB | Epoch 2 | Loss: 0.8731680512428284 | Accuracy: 65.625%\n"
          ]
        },
        {
          "output_type": "stream",
          "name": "stderr",
          "text": [
            "Epoch 2:  60%|██████    | 451/751 [00:12<00:07, 39.73batch/s, accuracy=71.875%, loss=0.757] "
          ]
        },
        {
          "output_type": "stream",
          "name": "stdout",
          "text": [
            "GB | Epoch 2 | Loss: 0.6758826971054077 | Accuracy: 76.5625%\n",
            "GB | Epoch 2 | Loss: 0.9699847102165222 | Accuracy: 67.1875%\n",
            "GB | Epoch 2 | Loss: 0.8101750612258911 | Accuracy: 70.3125%\n",
            "GB | Epoch 2 | Loss: 0.81858229637146 | Accuracy: 71.875%\n",
            "GB | Epoch 2 | Loss: 0.7753270268440247 | Accuracy: 75.0%\n",
            "GB | Epoch 2 | Loss: 0.6820340752601624 | Accuracy: 76.5625%\n",
            "GB | Epoch 2 | Loss: 0.8236933946609497 | Accuracy: 70.3125%\n",
            "GB | Epoch 2 | Loss: 0.6219169497489929 | Accuracy: 73.4375%\n",
            "GB | Epoch 2 | Loss: 0.7566570043563843 | Accuracy: 71.875%\n"
          ]
        },
        {
          "output_type": "stream",
          "name": "stderr",
          "text": [
            "Epoch 2:  61%|██████▏   | 460/751 [00:13<00:07, 39.95batch/s, accuracy=76.5625%, loss=0.801]"
          ]
        },
        {
          "output_type": "stream",
          "name": "stdout",
          "text": [
            "GB | Epoch 2 | Loss: 0.7597165703773499 | Accuracy: 78.125%\n",
            "GB | Epoch 2 | Loss: 0.8479045033454895 | Accuracy: 67.1875%\n",
            "GB | Epoch 2 | Loss: 0.7573575973510742 | Accuracy: 70.3125%\n",
            "GB | Epoch 2 | Loss: 0.7180747389793396 | Accuracy: 75.0%\n",
            "GB | Epoch 2 | Loss: 0.8094272017478943 | Accuracy: 67.1875%\n",
            "GB | Epoch 2 | Loss: 0.6855370998382568 | Accuracy: 79.6875%\n",
            "GB | Epoch 2 | Loss: 0.5674481987953186 | Accuracy: 82.8125%\n",
            "GB | Epoch 2 | Loss: 0.800973117351532 | Accuracy: 76.5625%\n"
          ]
        },
        {
          "output_type": "stream",
          "name": "stderr",
          "text": [
            "Epoch 2:  62%|██████▏   | 469/751 [00:13<00:07, 40.21batch/s, accuracy=68.75%, loss=0.761] "
          ]
        },
        {
          "output_type": "stream",
          "name": "stdout",
          "text": [
            "GB | Epoch 2 | Loss: 0.6494112014770508 | Accuracy: 79.6875%\n",
            "GB | Epoch 2 | Loss: 0.7064261436462402 | Accuracy: 76.5625%\n",
            "GB | Epoch 2 | Loss: 0.7622288465499878 | Accuracy: 67.1875%\n",
            "GB | Epoch 2 | Loss: 0.7873488068580627 | Accuracy: 71.875%\n",
            "GB | Epoch 2 | Loss: 0.838954508304596 | Accuracy: 73.4375%\n",
            "GB | Epoch 2 | Loss: 0.7288069128990173 | Accuracy: 70.3125%\n",
            "GB | Epoch 2 | Loss: 0.6937361359596252 | Accuracy: 71.875%\n",
            "GB | Epoch 2 | Loss: 0.807800829410553 | Accuracy: 71.875%\n"
          ]
        },
        {
          "output_type": "stream",
          "name": "stderr",
          "text": [
            "Epoch 2:  64%|██████▍   | 479/751 [00:13<00:06, 39.23batch/s, accuracy=79.6875%, loss=0.606]"
          ]
        },
        {
          "output_type": "stream",
          "name": "stdout",
          "text": [
            "GB | Epoch 2 | Loss: 0.7607735991477966 | Accuracy: 68.75%\n",
            "GB | Epoch 2 | Loss: 0.6656540036201477 | Accuracy: 71.875%\n",
            "GB | Epoch 2 | Loss: 0.7234503030776978 | Accuracy: 70.3125%\n",
            "GB | Epoch 2 | Loss: 0.7484592795372009 | Accuracy: 65.625%\n",
            "GB | Epoch 2 | Loss: 0.8101111054420471 | Accuracy: 67.1875%\n",
            "GB | Epoch 2 | Loss: 0.7233317494392395 | Accuracy: 73.4375%\n",
            "GB | Epoch 2 | Loss: 0.6589998006820679 | Accuracy: 79.6875%\n",
            "GB | Epoch 2 | Loss: 0.6062079071998596 | Accuracy: 79.6875%\n"
          ]
        },
        {
          "output_type": "stream",
          "name": "stderr",
          "text": [
            "Epoch 2:  65%|██████▍   | 488/751 [00:13<00:06, 39.93batch/s, accuracy=64.0625%, loss=0.839]"
          ]
        },
        {
          "output_type": "stream",
          "name": "stdout",
          "text": [
            "GB | Epoch 2 | Loss: 0.7270007729530334 | Accuracy: 79.6875%\n",
            "GB | Epoch 2 | Loss: 0.6336157917976379 | Accuracy: 79.6875%\n",
            "GB | Epoch 2 | Loss: 0.6048963069915771 | Accuracy: 82.8125%\n",
            "GB | Epoch 2 | Loss: 0.6553820967674255 | Accuracy: 78.125%\n",
            "GB | Epoch 2 | Loss: 0.7403295636177063 | Accuracy: 76.5625%\n",
            "GB | Epoch 2 | Loss: 0.7550920844078064 | Accuracy: 71.875%\n",
            "GB | Epoch 2 | Loss: 0.7385851144790649 | Accuracy: 73.4375%\n",
            "GB | Epoch 2 | Loss: 0.5095566511154175 | Accuracy: 84.375%\n",
            "GB | Epoch 2 | Loss: 0.838625431060791 | Accuracy: 64.0625%\n"
          ]
        },
        {
          "output_type": "stream",
          "name": "stderr",
          "text": [
            "Epoch 2:  66%|██████▌   | 496/751 [00:13<00:06, 39.62batch/s, accuracy=71.875%, loss=0.678] "
          ]
        },
        {
          "output_type": "stream",
          "name": "stdout",
          "text": [
            "GB | Epoch 2 | Loss: 0.7814647555351257 | Accuracy: 78.125%\n",
            "GB | Epoch 2 | Loss: 0.6031611561775208 | Accuracy: 82.8125%\n",
            "GB | Epoch 2 | Loss: 0.7207441329956055 | Accuracy: 73.4375%\n",
            "GB | Epoch 2 | Loss: 0.7851760387420654 | Accuracy: 75.0%\n",
            "GB | Epoch 2 | Loss: 0.7113696932792664 | Accuracy: 73.4375%\n",
            "GB | Epoch 2 | Loss: 0.7020167112350464 | Accuracy: 70.3125%\n",
            "GB | Epoch 2 | Loss: 0.6489721536636353 | Accuracy: 68.75%\n",
            "GB | Epoch 2 | Loss: 0.6485469937324524 | Accuracy: 79.6875%\n",
            "GB | Epoch 2 | Loss: 0.6782419085502625 | Accuracy: 71.875%\n"
          ]
        },
        {
          "output_type": "stream",
          "name": "stderr",
          "text": [
            "Epoch 2:  67%|██████▋   | 505/751 [00:14<00:06, 39.93batch/s, accuracy=78.125%, loss=0.589]"
          ]
        },
        {
          "output_type": "stream",
          "name": "stdout",
          "text": [
            "GB | Epoch 2 | Loss: 0.5935657024383545 | Accuracy: 82.8125%\n",
            "GB | Epoch 2 | Loss: 0.8803028464317322 | Accuracy: 62.5%\n",
            "GB | Epoch 2 | Loss: 0.6200230121612549 | Accuracy: 84.375%\n",
            "GB | Epoch 2 | Loss: 0.5256948471069336 | Accuracy: 79.6875%\n",
            "GB | Epoch 2 | Loss: 0.5196796655654907 | Accuracy: 78.125%\n",
            "GB | Epoch 2 | Loss: 0.4811724126338959 | Accuracy: 89.0625%\n",
            "GB | Epoch 2 | Loss: 0.6203582882881165 | Accuracy: 85.9375%\n",
            "GB | Epoch 2 | Loss: 0.782878041267395 | Accuracy: 75.0%\n",
            "GB | Epoch 2 | Loss: 0.5892258882522583 | Accuracy: 78.125%\n"
          ]
        },
        {
          "output_type": "stream",
          "name": "stderr",
          "text": [
            "Epoch 2:  68%|██████▊   | 514/751 [00:14<00:06, 39.25batch/s, accuracy=70.3125%, loss=0.664]"
          ]
        },
        {
          "output_type": "stream",
          "name": "stdout",
          "text": [
            "GB | Epoch 2 | Loss: 0.7005852460861206 | Accuracy: 73.4375%\n",
            "GB | Epoch 2 | Loss: 0.7769175171852112 | Accuracy: 70.3125%\n",
            "GB | Epoch 2 | Loss: 0.6857130527496338 | Accuracy: 73.4375%\n",
            "GB | Epoch 2 | Loss: 0.5814035534858704 | Accuracy: 79.6875%\n",
            "GB | Epoch 2 | Loss: 0.7535876035690308 | Accuracy: 76.5625%\n",
            "GB | Epoch 2 | Loss: 0.6731199622154236 | Accuracy: 71.875%\n",
            "GB | Epoch 2 | Loss: 0.6995124220848083 | Accuracy: 73.4375%\n",
            "GB | Epoch 2 | Loss: 0.664111316204071 | Accuracy: 70.3125%\n"
          ]
        },
        {
          "output_type": "stream",
          "name": "stderr",
          "text": [
            "Epoch 2:  70%|██████▉   | 522/751 [00:14<00:05, 38.55batch/s, accuracy=71.875%, loss=0.656]"
          ]
        },
        {
          "output_type": "stream",
          "name": "stdout",
          "text": [
            "GB | Epoch 2 | Loss: 0.7235676050186157 | Accuracy: 78.125%\n",
            "GB | Epoch 2 | Loss: 0.5393384695053101 | Accuracy: 76.5625%\n",
            "GB | Epoch 2 | Loss: 0.49427318572998047 | Accuracy: 79.6875%\n",
            "GB | Epoch 2 | Loss: 0.9431891441345215 | Accuracy: 68.75%\n",
            "GB | Epoch 2 | Loss: 0.7165225744247437 | Accuracy: 70.3125%\n",
            "GB | Epoch 2 | Loss: 0.6670421957969666 | Accuracy: 71.875%\n",
            "GB | Epoch 2 | Loss: 0.7485416531562805 | Accuracy: 68.75%\n",
            "GB | Epoch 2 | Loss: 0.6564451456069946 | Accuracy: 71.875%\n"
          ]
        },
        {
          "output_type": "stream",
          "name": "stderr",
          "text": [
            "Epoch 2:  71%|███████   | 530/751 [00:14<00:05, 39.06batch/s, accuracy=71.875%, loss=0.639]"
          ]
        },
        {
          "output_type": "stream",
          "name": "stdout",
          "text": [
            "GB | Epoch 2 | Loss: 0.5975242257118225 | Accuracy: 85.9375%\n",
            "GB | Epoch 2 | Loss: 0.7440755367279053 | Accuracy: 71.875%\n",
            "GB | Epoch 2 | Loss: 0.5946826338768005 | Accuracy: 78.125%\n",
            "GB | Epoch 2 | Loss: 0.6973380446434021 | Accuracy: 73.4375%\n",
            "GB | Epoch 2 | Loss: 0.5975652933120728 | Accuracy: 82.8125%\n",
            "GB | Epoch 2 | Loss: 0.8559595346450806 | Accuracy: 68.75%\n",
            "GB | Epoch 2 | Loss: 0.5586296916007996 | Accuracy: 89.0625%\n",
            "GB | Epoch 2 | Loss: 0.6392449140548706 | Accuracy: 71.875%\n"
          ]
        },
        {
          "output_type": "stream",
          "name": "stderr",
          "text": [
            "Epoch 2:  72%|███████▏  | 539/751 [00:15<00:05, 39.90batch/s, accuracy=82.8125%, loss=0.595]"
          ]
        },
        {
          "output_type": "stream",
          "name": "stdout",
          "text": [
            "GB | Epoch 2 | Loss: 0.4508376121520996 | Accuracy: 87.5%\n",
            "GB | Epoch 2 | Loss: 0.6634869575500488 | Accuracy: 76.5625%\n",
            "GB | Epoch 2 | Loss: 0.5644558668136597 | Accuracy: 79.6875%\n",
            "GB | Epoch 2 | Loss: 0.6725374460220337 | Accuracy: 75.0%\n",
            "GB | Epoch 2 | Loss: 0.715103805065155 | Accuracy: 73.4375%\n",
            "GB | Epoch 2 | Loss: 0.5780321359634399 | Accuracy: 81.25%\n",
            "GB | Epoch 2 | Loss: 0.5835491418838501 | Accuracy: 81.25%\n",
            "GB | Epoch 2 | Loss: 0.5077518224716187 | Accuracy: 79.6875%\n",
            "GB | Epoch 2 | Loss: 0.59544837474823 | Accuracy: 82.8125%\n"
          ]
        },
        {
          "output_type": "stream",
          "name": "stderr",
          "text": [
            "Epoch 2:  73%|███████▎  | 547/751 [00:15<00:05, 39.59batch/s, accuracy=70.3125%, loss=0.835]"
          ]
        },
        {
          "output_type": "stream",
          "name": "stdout",
          "text": [
            "GB | Epoch 2 | Loss: 0.5598998069763184 | Accuracy: 82.8125%\n",
            "GB | Epoch 2 | Loss: 0.624674916267395 | Accuracy: 78.125%\n",
            "GB | Epoch 2 | Loss: 0.7283902168273926 | Accuracy: 79.6875%\n",
            "GB | Epoch 2 | Loss: 0.6213836073875427 | Accuracy: 87.5%\n",
            "GB | Epoch 2 | Loss: 0.5601263642311096 | Accuracy: 78.125%\n",
            "GB | Epoch 2 | Loss: 0.5026302933692932 | Accuracy: 79.6875%\n",
            "GB | Epoch 2 | Loss: 0.4789220988750458 | Accuracy: 82.8125%\n",
            "GB | Epoch 2 | Loss: 0.5926554799079895 | Accuracy: 78.125%\n",
            "GB | Epoch 2 | Loss: 0.8347065448760986 | Accuracy: 70.3125%\n"
          ]
        },
        {
          "output_type": "stream",
          "name": "stderr",
          "text": [
            "Epoch 2:  74%|███████▍  | 556/751 [00:15<00:05, 38.82batch/s, accuracy=70.3125%, loss=0.648]"
          ]
        },
        {
          "output_type": "stream",
          "name": "stdout",
          "text": [
            "GB | Epoch 2 | Loss: 0.5643064379692078 | Accuracy: 79.6875%\n",
            "GB | Epoch 2 | Loss: 0.5069804787635803 | Accuracy: 82.8125%\n",
            "GB | Epoch 2 | Loss: 0.6682345867156982 | Accuracy: 79.6875%\n",
            "GB | Epoch 2 | Loss: 0.5553666353225708 | Accuracy: 79.6875%\n",
            "GB | Epoch 2 | Loss: 0.5418580770492554 | Accuracy: 75.0%\n",
            "GB | Epoch 2 | Loss: 0.5899927616119385 | Accuracy: 75.0%\n",
            "GB | Epoch 2 | Loss: 0.5833712220191956 | Accuracy: 81.25%\n",
            "GB | Epoch 2 | Loss: 0.6484094262123108 | Accuracy: 70.3125%\n"
          ]
        },
        {
          "output_type": "stream",
          "name": "stderr",
          "text": [
            "Epoch 2:  75%|███████▌  | 564/751 [00:15<00:04, 38.34batch/s, accuracy=70.3125%, loss=0.784]"
          ]
        },
        {
          "output_type": "stream",
          "name": "stdout",
          "text": [
            "GB | Epoch 2 | Loss: 0.5707505941390991 | Accuracy: 79.6875%\n",
            "GB | Epoch 2 | Loss: 0.5194099545478821 | Accuracy: 82.8125%\n",
            "GB | Epoch 2 | Loss: 0.5302819609642029 | Accuracy: 81.25%\n",
            "GB | Epoch 2 | Loss: 0.5659729242324829 | Accuracy: 81.25%\n",
            "GB | Epoch 2 | Loss: 0.532041072845459 | Accuracy: 75.0%\n",
            "GB | Epoch 2 | Loss: 0.4843062460422516 | Accuracy: 84.375%\n",
            "GB | Epoch 2 | Loss: 0.5706158876419067 | Accuracy: 85.9375%\n",
            "GB | Epoch 2 | Loss: 0.4412982761859894 | Accuracy: 85.9375%\n",
            "GB | Epoch 2 | Loss: 0.7843948006629944 | Accuracy: 70.3125%\n"
          ]
        },
        {
          "output_type": "stream",
          "name": "stderr",
          "text": [
            "Epoch 2:  76%|███████▌  | 572/751 [00:15<00:04, 38.71batch/s, accuracy=89.0625%, loss=0.447]"
          ]
        },
        {
          "output_type": "stream",
          "name": "stdout",
          "text": [
            "GB | Epoch 2 | Loss: 0.4524211883544922 | Accuracy: 87.5%\n",
            "GB | Epoch 2 | Loss: 0.5508837699890137 | Accuracy: 75.0%\n",
            "GB | Epoch 2 | Loss: 0.5185453295707703 | Accuracy: 82.8125%\n",
            "GB | Epoch 2 | Loss: 0.6985456943511963 | Accuracy: 71.875%\n",
            "GB | Epoch 2 | Loss: 0.4581907093524933 | Accuracy: 84.375%\n",
            "GB | Epoch 2 | Loss: 0.6158692240715027 | Accuracy: 81.25%\n",
            "GB | Epoch 2 | Loss: 0.5172356963157654 | Accuracy: 81.25%\n",
            "GB | Epoch 2 | Loss: 0.5549576878547668 | Accuracy: 76.5625%\n",
            "GB | Epoch 2 | Loss: 0.4474760591983795 | Accuracy: 89.0625%\n"
          ]
        },
        {
          "output_type": "stream",
          "name": "stderr",
          "text": [
            "Epoch 2:  77%|███████▋  | 582/751 [00:16<00:04, 39.63batch/s, accuracy=76.5625%, loss=0.667]"
          ]
        },
        {
          "output_type": "stream",
          "name": "stdout",
          "text": [
            "GB | Epoch 2 | Loss: 0.5234737396240234 | Accuracy: 82.8125%\n",
            "GB | Epoch 2 | Loss: 0.5174118876457214 | Accuracy: 81.25%\n",
            "GB | Epoch 2 | Loss: 0.613680362701416 | Accuracy: 81.25%\n",
            "GB | Epoch 2 | Loss: 0.5775963068008423 | Accuracy: 85.9375%\n",
            "GB | Epoch 2 | Loss: 0.5410188436508179 | Accuracy: 79.6875%\n",
            "GB | Epoch 2 | Loss: 0.7303497195243835 | Accuracy: 73.4375%\n",
            "GB | Epoch 2 | Loss: 0.6761112809181213 | Accuracy: 67.1875%\n",
            "GB | Epoch 2 | Loss: 0.6158124804496765 | Accuracy: 78.125%\n",
            "GB | Epoch 2 | Loss: 0.6668125987052917 | Accuracy: 76.5625%\n"
          ]
        },
        {
          "output_type": "stream",
          "name": "stderr",
          "text": [
            "Epoch 2:  79%|███████▊  | 591/751 [00:16<00:03, 40.09batch/s, accuracy=87.5%, loss=0.457]   "
          ]
        },
        {
          "output_type": "stream",
          "name": "stdout",
          "text": [
            "GB | Epoch 2 | Loss: 0.736799955368042 | Accuracy: 73.4375%\n",
            "GB | Epoch 2 | Loss: 0.5611294507980347 | Accuracy: 76.5625%\n",
            "GB | Epoch 2 | Loss: 0.6284899115562439 | Accuracy: 78.125%\n",
            "GB | Epoch 2 | Loss: 0.45751020312309265 | Accuracy: 89.0625%\n",
            "GB | Epoch 2 | Loss: 0.6506850123405457 | Accuracy: 70.3125%\n",
            "GB | Epoch 2 | Loss: 0.5847554802894592 | Accuracy: 78.125%\n",
            "GB | Epoch 2 | Loss: 0.5318113565444946 | Accuracy: 85.9375%\n",
            "GB | Epoch 2 | Loss: 0.702377200126648 | Accuracy: 76.5625%\n",
            "GB | Epoch 2 | Loss: 0.45684683322906494 | Accuracy: 87.5%\n"
          ]
        },
        {
          "output_type": "stream",
          "name": "stderr",
          "text": [
            "Epoch 2:  80%|███████▉  | 600/751 [00:16<00:03, 38.30batch/s, accuracy=79.6875%, loss=0.628]"
          ]
        },
        {
          "output_type": "stream",
          "name": "stdout",
          "text": [
            "GB | Epoch 2 | Loss: 0.4574631452560425 | Accuracy: 85.9375%\n",
            "GB | Epoch 2 | Loss: 0.49705398082733154 | Accuracy: 87.5%\n",
            "GB | Epoch 2 | Loss: 0.5165427327156067 | Accuracy: 79.6875%\n",
            "GB | Epoch 2 | Loss: 0.612926185131073 | Accuracy: 76.5625%\n",
            "GB | Epoch 2 | Loss: 0.6809383034706116 | Accuracy: 78.125%\n",
            "GB | Epoch 2 | Loss: 0.6293483972549438 | Accuracy: 76.5625%\n",
            "GB | Epoch 2 | Loss: 0.6797606945037842 | Accuracy: 68.75%\n",
            "GB | Epoch 2 | Loss: 0.6276983022689819 | Accuracy: 79.6875%\n"
          ]
        },
        {
          "output_type": "stream",
          "name": "stderr",
          "text": [
            "Epoch 2:  81%|████████  | 608/751 [00:16<00:03, 38.95batch/s, accuracy=84.375%, loss=0.508] "
          ]
        },
        {
          "output_type": "stream",
          "name": "stdout",
          "text": [
            "GB | Epoch 2 | Loss: 0.4974120557308197 | Accuracy: 84.375%\n",
            "GB | Epoch 2 | Loss: 0.5233210921287537 | Accuracy: 79.6875%\n",
            "GB | Epoch 2 | Loss: 0.5916848182678223 | Accuracy: 79.6875%\n",
            "GB | Epoch 2 | Loss: 0.629653811454773 | Accuracy: 79.6875%\n",
            "GB | Epoch 2 | Loss: 0.44356676936149597 | Accuracy: 89.0625%\n",
            "GB | Epoch 2 | Loss: 0.5802094340324402 | Accuracy: 76.5625%\n",
            "GB | Epoch 2 | Loss: 0.510326623916626 | Accuracy: 79.6875%\n",
            "GB | Epoch 2 | Loss: 0.6214667558670044 | Accuracy: 79.6875%\n",
            "GB | Epoch 2 | Loss: 0.5084633827209473 | Accuracy: 84.375%\n"
          ]
        },
        {
          "output_type": "stream",
          "name": "stderr",
          "text": [
            "Epoch 2:  82%|████████▏ | 617/751 [00:17<00:03, 39.71batch/s, accuracy=78.125%, loss=0.569]"
          ]
        },
        {
          "output_type": "stream",
          "name": "stdout",
          "text": [
            "GB | Epoch 2 | Loss: 0.44092366099357605 | Accuracy: 85.9375%\n",
            "GB | Epoch 2 | Loss: 0.5572772026062012 | Accuracy: 82.8125%\n",
            "GB | Epoch 2 | Loss: 0.47067713737487793 | Accuracy: 81.25%\n",
            "GB | Epoch 2 | Loss: 0.4921656548976898 | Accuracy: 84.375%\n",
            "GB | Epoch 2 | Loss: 0.6865700483322144 | Accuracy: 75.0%\n",
            "GB | Epoch 2 | Loss: 0.4890429675579071 | Accuracy: 76.5625%\n",
            "GB | Epoch 2 | Loss: 0.41053497791290283 | Accuracy: 82.8125%\n",
            "GB | Epoch 2 | Loss: 0.4387649893760681 | Accuracy: 84.375%\n",
            "GB | Epoch 2 | Loss: 0.5689312815666199 | Accuracy: 78.125%\n"
          ]
        },
        {
          "output_type": "stream",
          "name": "stderr",
          "text": [
            "Epoch 2:  83%|████████▎ | 626/751 [00:17<00:03, 40.37batch/s, accuracy=78.125%, loss=0.518]"
          ]
        },
        {
          "output_type": "stream",
          "name": "stdout",
          "text": [
            "GB | Epoch 2 | Loss: 0.7821526527404785 | Accuracy: 73.4375%\n",
            "GB | Epoch 2 | Loss: 0.7009313702583313 | Accuracy: 82.8125%\n",
            "GB | Epoch 2 | Loss: 0.5277442932128906 | Accuracy: 81.25%\n",
            "GB | Epoch 2 | Loss: 0.40001699328422546 | Accuracy: 89.0625%\n",
            "GB | Epoch 2 | Loss: 0.6855787038803101 | Accuracy: 78.125%\n",
            "GB | Epoch 2 | Loss: 0.683172881603241 | Accuracy: 73.4375%\n",
            "GB | Epoch 2 | Loss: 0.7668702006340027 | Accuracy: 73.4375%\n",
            "GB | Epoch 2 | Loss: 0.611853301525116 | Accuracy: 78.125%\n",
            "GB | Epoch 2 | Loss: 0.517584502696991 | Accuracy: 78.125%\n"
          ]
        },
        {
          "output_type": "stream",
          "name": "stderr",
          "text": [
            "Epoch 2:  85%|████████▍ | 636/751 [00:17<00:02, 40.20batch/s, accuracy=84.375%, loss=0.513]"
          ]
        },
        {
          "output_type": "stream",
          "name": "stdout",
          "text": [
            "GB | Epoch 2 | Loss: 0.3437865078449249 | Accuracy: 92.1875%\n",
            "GB | Epoch 2 | Loss: 0.5001798868179321 | Accuracy: 82.8125%\n",
            "GB | Epoch 2 | Loss: 0.8301807641983032 | Accuracy: 76.5625%\n",
            "GB | Epoch 2 | Loss: 0.6252550482749939 | Accuracy: 76.5625%\n",
            "GB | Epoch 2 | Loss: 0.6482955813407898 | Accuracy: 75.0%\n",
            "GB | Epoch 2 | Loss: 0.6249407529830933 | Accuracy: 70.3125%\n",
            "GB | Epoch 2 | Loss: 0.7258819937705994 | Accuracy: 70.3125%\n",
            "GB | Epoch 2 | Loss: 0.5007128715515137 | Accuracy: 89.0625%\n",
            "GB | Epoch 2 | Loss: 0.5130690336227417 | Accuracy: 84.375%\n"
          ]
        },
        {
          "output_type": "stream",
          "name": "stderr",
          "text": [
            "Epoch 2:  85%|████████▌ | 641/751 [00:17<00:02, 38.64batch/s, accuracy=78.125%, loss=0.591] "
          ]
        },
        {
          "output_type": "stream",
          "name": "stdout",
          "text": [
            "GB | Epoch 2 | Loss: 0.5130771398544312 | Accuracy: 82.8125%\n",
            "GB | Epoch 2 | Loss: 0.664642870426178 | Accuracy: 78.125%\n",
            "GB | Epoch 2 | Loss: 0.6475314497947693 | Accuracy: 81.25%\n",
            "GB | Epoch 2 | Loss: 0.5460096597671509 | Accuracy: 78.125%\n",
            "GB | Epoch 2 | Loss: 0.4936218857765198 | Accuracy: 82.8125%\n",
            "GB | Epoch 2 | Loss: 0.54131680727005 | Accuracy: 78.125%\n",
            "GB | Epoch 2 | Loss: 0.6133489012718201 | Accuracy: 82.8125%\n",
            "GB | Epoch 2 | Loss: 0.5913796424865723 | Accuracy: 78.125%\n"
          ]
        },
        {
          "output_type": "stream",
          "name": "stderr",
          "text": [
            "Epoch 2:  87%|████████▋ | 650/751 [00:17<00:02, 38.97batch/s, accuracy=75.0%, loss=0.619]   "
          ]
        },
        {
          "output_type": "stream",
          "name": "stdout",
          "text": [
            "GB | Epoch 2 | Loss: 0.5962817072868347 | Accuracy: 81.25%\n",
            "GB | Epoch 2 | Loss: 0.4525894224643707 | Accuracy: 84.375%\n",
            "GB | Epoch 2 | Loss: 0.5908016562461853 | Accuracy: 81.25%\n",
            "GB | Epoch 2 | Loss: 0.4195440709590912 | Accuracy: 90.625%\n",
            "GB | Epoch 2 | Loss: 0.8486496806144714 | Accuracy: 67.1875%\n",
            "GB | Epoch 2 | Loss: 0.6598978638648987 | Accuracy: 81.25%\n",
            "GB | Epoch 2 | Loss: 0.4348372220993042 | Accuracy: 89.0625%\n",
            "GB | Epoch 2 | Loss: 0.6187719106674194 | Accuracy: 75.0%\n"
          ]
        },
        {
          "output_type": "stream",
          "name": "stderr",
          "text": [
            "Epoch 2:  88%|████████▊ | 658/751 [00:18<00:02, 39.30batch/s, accuracy=82.8125%, loss=0.476]"
          ]
        },
        {
          "output_type": "stream",
          "name": "stdout",
          "text": [
            "GB | Epoch 2 | Loss: 0.4028123617172241 | Accuracy: 85.9375%\n",
            "GB | Epoch 2 | Loss: 0.6384018659591675 | Accuracy: 78.125%\n",
            "GB | Epoch 2 | Loss: 0.6403554677963257 | Accuracy: 68.75%\n",
            "GB | Epoch 2 | Loss: 0.4973587989807129 | Accuracy: 81.25%\n",
            "GB | Epoch 2 | Loss: 0.5461492538452148 | Accuracy: 81.25%\n",
            "GB | Epoch 2 | Loss: 0.5809732675552368 | Accuracy: 79.6875%\n",
            "GB | Epoch 2 | Loss: 0.4746880531311035 | Accuracy: 82.8125%\n",
            "GB | Epoch 2 | Loss: 0.43191301822662354 | Accuracy: 85.9375%\n",
            "GB | Epoch 2 | Loss: 0.4763392210006714 | Accuracy: 82.8125%\n"
          ]
        },
        {
          "output_type": "stream",
          "name": "stderr",
          "text": [
            "Epoch 2:  89%|████████▉ | 667/751 [00:18<00:02, 39.69batch/s, accuracy=84.375%, loss=0.465] "
          ]
        },
        {
          "output_type": "stream",
          "name": "stdout",
          "text": [
            "GB | Epoch 2 | Loss: 0.65744549036026 | Accuracy: 79.6875%\n",
            "GB | Epoch 2 | Loss: 0.5442782640457153 | Accuracy: 79.6875%\n",
            "GB | Epoch 2 | Loss: 0.40182220935821533 | Accuracy: 90.625%\n",
            "GB | Epoch 2 | Loss: 0.7099684476852417 | Accuracy: 73.4375%\n",
            "GB | Epoch 2 | Loss: 0.527133047580719 | Accuracy: 82.8125%\n",
            "GB | Epoch 2 | Loss: 0.6931806206703186 | Accuracy: 78.125%\n",
            "GB | Epoch 2 | Loss: 0.48705917596817017 | Accuracy: 82.8125%\n",
            "GB | Epoch 2 | Loss: 0.46497875452041626 | Accuracy: 84.375%\n"
          ]
        },
        {
          "output_type": "stream",
          "name": "stderr",
          "text": [
            "Epoch 2:  90%|█████████ | 676/751 [00:18<00:01, 40.04batch/s, accuracy=79.6875%, loss=0.654]"
          ]
        },
        {
          "output_type": "stream",
          "name": "stdout",
          "text": [
            "GB | Epoch 2 | Loss: 0.48835211992263794 | Accuracy: 84.375%\n",
            "GB | Epoch 2 | Loss: 0.49666744470596313 | Accuracy: 84.375%\n",
            "GB | Epoch 2 | Loss: 0.6064753532409668 | Accuracy: 85.9375%\n",
            "GB | Epoch 2 | Loss: 0.4700114130973816 | Accuracy: 89.0625%\n",
            "GB | Epoch 2 | Loss: 0.5569823384284973 | Accuracy: 78.125%\n",
            "GB | Epoch 2 | Loss: 0.4873168468475342 | Accuracy: 78.125%\n",
            "GB | Epoch 2 | Loss: 0.48956722021102905 | Accuracy: 84.375%\n",
            "GB | Epoch 2 | Loss: 0.36296865344047546 | Accuracy: 84.375%\n",
            "GB | Epoch 2 | Loss: 0.6535669565200806 | Accuracy: 79.6875%\n"
          ]
        },
        {
          "output_type": "stream",
          "name": "stderr",
          "text": [
            "Epoch 2:  91%|█████████ | 684/751 [00:18<00:01, 38.28batch/s, accuracy=81.25%, loss=0.452]  "
          ]
        },
        {
          "output_type": "stream",
          "name": "stdout",
          "text": [
            "GB | Epoch 2 | Loss: 0.49929699301719666 | Accuracy: 81.25%\n",
            "GB | Epoch 2 | Loss: 0.6424901485443115 | Accuracy: 78.125%\n",
            "GB | Epoch 2 | Loss: 0.5534794330596924 | Accuracy: 78.125%\n",
            "GB | Epoch 2 | Loss: 0.485541969537735 | Accuracy: 81.25%\n",
            "GB | Epoch 2 | Loss: 0.49664732813835144 | Accuracy: 79.6875%\n",
            "GB | Epoch 2 | Loss: 0.4522792398929596 | Accuracy: 84.375%\n",
            "GB | Epoch 2 | Loss: 0.5261768698692322 | Accuracy: 76.5625%\n",
            "GB | Epoch 2 | Loss: 0.45233312249183655 | Accuracy: 81.25%\n"
          ]
        },
        {
          "output_type": "stream",
          "name": "stderr",
          "text": [
            "Epoch 2:  92%|█████████▏| 693/751 [00:18<00:01, 39.81batch/s, accuracy=76.5625%, loss=0.509]"
          ]
        },
        {
          "output_type": "stream",
          "name": "stdout",
          "text": [
            "GB | Epoch 2 | Loss: 0.49081259965896606 | Accuracy: 82.8125%\n",
            "GB | Epoch 2 | Loss: 0.46427375078201294 | Accuracy: 85.9375%\n",
            "GB | Epoch 2 | Loss: 0.5293671488761902 | Accuracy: 82.8125%\n",
            "GB | Epoch 2 | Loss: 0.4105748236179352 | Accuracy: 89.0625%\n",
            "GB | Epoch 2 | Loss: 0.6070941686630249 | Accuracy: 73.4375%\n",
            "GB | Epoch 2 | Loss: 0.51758873462677 | Accuracy: 81.25%\n",
            "GB | Epoch 2 | Loss: 0.38481974601745605 | Accuracy: 89.0625%\n",
            "GB | Epoch 2 | Loss: 0.5289199948310852 | Accuracy: 85.9375%\n",
            "GB | Epoch 2 | Loss: 0.5088745951652527 | Accuracy: 76.5625%\n"
          ]
        },
        {
          "output_type": "stream",
          "name": "stderr",
          "text": [
            "Epoch 2:  93%|█████████▎| 701/751 [00:19<00:01, 39.35batch/s, accuracy=89.0625%, loss=0.421]"
          ]
        },
        {
          "output_type": "stream",
          "name": "stdout",
          "text": [
            "GB | Epoch 2 | Loss: 0.6489150524139404 | Accuracy: 78.125%\n",
            "GB | Epoch 2 | Loss: 0.6032378673553467 | Accuracy: 82.8125%\n",
            "GB | Epoch 2 | Loss: 0.4271891117095947 | Accuracy: 87.5%\n",
            "GB | Epoch 2 | Loss: 0.7395259737968445 | Accuracy: 78.125%\n",
            "GB | Epoch 2 | Loss: 0.3881562352180481 | Accuracy: 85.9375%\n",
            "GB | Epoch 2 | Loss: 0.6390962600708008 | Accuracy: 76.5625%\n",
            "GB | Epoch 2 | Loss: 0.44319063425064087 | Accuracy: 85.9375%\n",
            "GB | Epoch 2 | Loss: 0.42074015736579895 | Accuracy: 89.0625%\n"
          ]
        },
        {
          "output_type": "stream",
          "name": "stderr",
          "text": [
            "Epoch 2:  94%|█████████▍| 709/751 [00:19<00:01, 39.22batch/s, accuracy=84.375%, loss=0.421]"
          ]
        },
        {
          "output_type": "stream",
          "name": "stdout",
          "text": [
            "GB | Epoch 2 | Loss: 0.41238728165626526 | Accuracy: 85.9375%\n",
            "GB | Epoch 2 | Loss: 0.4375382959842682 | Accuracy: 87.5%\n",
            "GB | Epoch 2 | Loss: 0.2962407171726227 | Accuracy: 95.3125%\n",
            "GB | Epoch 2 | Loss: 0.46135732531547546 | Accuracy: 84.375%\n",
            "GB | Epoch 2 | Loss: 0.4314135015010834 | Accuracy: 81.25%\n",
            "GB | Epoch 2 | Loss: 0.4149895906448364 | Accuracy: 89.0625%\n",
            "GB | Epoch 2 | Loss: 0.5055972337722778 | Accuracy: 81.25%\n",
            "GB | Epoch 2 | Loss: 0.42107832431793213 | Accuracy: 84.375%\n"
          ]
        },
        {
          "output_type": "stream",
          "name": "stderr",
          "text": [
            "Epoch 2:  96%|█████████▌| 718/751 [00:19<00:00, 39.61batch/s, accuracy=89.0625%, loss=0.348]"
          ]
        },
        {
          "output_type": "stream",
          "name": "stdout",
          "text": [
            "GB | Epoch 2 | Loss: 0.5276176929473877 | Accuracy: 79.6875%\n",
            "GB | Epoch 2 | Loss: 0.5451633334159851 | Accuracy: 78.125%\n",
            "GB | Epoch 2 | Loss: 0.4782639145851135 | Accuracy: 81.25%\n",
            "GB | Epoch 2 | Loss: 0.606157660484314 | Accuracy: 82.8125%\n",
            "GB | Epoch 2 | Loss: 0.4152918756008148 | Accuracy: 87.5%\n",
            "GB | Epoch 2 | Loss: 0.6916372776031494 | Accuracy: 73.4375%\n",
            "GB | Epoch 2 | Loss: 0.5617911219596863 | Accuracy: 84.375%\n",
            "GB | Epoch 2 | Loss: 0.4435551166534424 | Accuracy: 81.25%\n",
            "GB | Epoch 2 | Loss: 0.34756121039390564 | Accuracy: 89.0625%\n"
          ]
        },
        {
          "output_type": "stream",
          "name": "stderr",
          "text": [
            "Epoch 2:  97%|█████████▋| 727/751 [00:19<00:00, 38.09batch/s, accuracy=73.4375%, loss=0.677]"
          ]
        },
        {
          "output_type": "stream",
          "name": "stdout",
          "text": [
            "GB | Epoch 2 | Loss: 0.45610031485557556 | Accuracy: 84.375%\n",
            "GB | Epoch 2 | Loss: 0.41804826259613037 | Accuracy: 82.8125%\n",
            "GB | Epoch 2 | Loss: 0.5169901251792908 | Accuracy: 85.9375%\n",
            "GB | Epoch 2 | Loss: 0.514387309551239 | Accuracy: 79.6875%\n",
            "GB | Epoch 2 | Loss: 0.39588531851768494 | Accuracy: 87.5%\n",
            "GB | Epoch 2 | Loss: 0.4680401682853699 | Accuracy: 85.9375%\n",
            "GB | Epoch 2 | Loss: 0.4789978563785553 | Accuracy: 78.125%\n",
            "GB | Epoch 2 | Loss: 0.6767786741256714 | Accuracy: 73.4375%\n"
          ]
        },
        {
          "output_type": "stream",
          "name": "stderr",
          "text": [
            "Epoch 2:  98%|█████████▊| 736/751 [00:20<00:00, 39.24batch/s, accuracy=87.5%, loss=0.41]    "
          ]
        },
        {
          "output_type": "stream",
          "name": "stdout",
          "text": [
            "GB | Epoch 2 | Loss: 0.39587199687957764 | Accuracy: 87.5%\n",
            "GB | Epoch 2 | Loss: 0.4839709401130676 | Accuracy: 90.625%\n",
            "GB | Epoch 2 | Loss: 0.42818188667297363 | Accuracy: 82.8125%\n",
            "GB | Epoch 2 | Loss: 0.41090062260627747 | Accuracy: 87.5%\n",
            "GB | Epoch 2 | Loss: 0.411033034324646 | Accuracy: 89.0625%\n",
            "GB | Epoch 2 | Loss: 0.3586512506008148 | Accuracy: 90.625%\n",
            "GB | Epoch 2 | Loss: 0.6294909119606018 | Accuracy: 71.875%\n",
            "GB | Epoch 2 | Loss: 0.5646407604217529 | Accuracy: 76.5625%\n",
            "GB | Epoch 2 | Loss: 0.4097571074962616 | Accuracy: 87.5%\n"
          ]
        },
        {
          "output_type": "stream",
          "name": "stderr",
          "text": [
            "Epoch 2:  99%|█████████▉| 745/751 [00:20<00:00, 40.07batch/s, accuracy=79.6875%, loss=0.544]"
          ]
        },
        {
          "output_type": "stream",
          "name": "stdout",
          "text": [
            "GB | Epoch 2 | Loss: 0.5015642046928406 | Accuracy: 87.5%\n",
            "GB | Epoch 2 | Loss: 0.4842066168785095 | Accuracy: 76.5625%\n",
            "GB | Epoch 2 | Loss: 0.5030913949012756 | Accuracy: 78.125%\n",
            "GB | Epoch 2 | Loss: 0.5786483287811279 | Accuracy: 76.5625%\n",
            "GB | Epoch 2 | Loss: 0.446519672870636 | Accuracy: 81.25%\n",
            "GB | Epoch 2 | Loss: 0.3910385072231293 | Accuracy: 87.5%\n",
            "GB | Epoch 2 | Loss: 0.5173887610435486 | Accuracy: 82.8125%\n",
            "GB | Epoch 2 | Loss: 0.3690383732318878 | Accuracy: 87.5%\n",
            "GB | Epoch 2 | Loss: 0.5440630912780762 | Accuracy: 79.6875%\n"
          ]
        },
        {
          "output_type": "stream",
          "name": "stderr",
          "text": [
            "Epoch 2: 100%|█████████▉| 750/751 [00:20<00:00, 40.85batch/s, accuracy=75.0%, loss=0.533]   "
          ]
        },
        {
          "output_type": "stream",
          "name": "stdout",
          "text": [
            "GB | Epoch 2 | Loss: 0.43686211109161377 | Accuracy: 84.375%\n",
            "GB | Epoch 2 | Loss: 0.5603331923484802 | Accuracy: 81.25%\n",
            "GB | Epoch 2 | Loss: 0.3819582760334015 | Accuracy: 87.5%\n",
            "GB | Epoch 2 | Loss: 0.35885089635849 | Accuracy: 89.0625%\n",
            "GB | Epoch 2 | Loss: 0.532642662525177 | Accuracy: 75.0%\n"
          ]
        },
        {
          "output_type": "stream",
          "name": "stderr",
          "text": [
            "Epoch 2: 100%|██████████| 751/751 [00:20<00:00, 36.55batch/s, accuracy=75.0%, loss=0.533]\n",
            "Epoch 3:   1%|          | 5/751 [00:00<00:46, 15.90batch/s, accuracy=76.5625%, loss=0.562]"
          ]
        },
        {
          "output_type": "stream",
          "name": "stdout",
          "text": [
            "GB | Epoch 3 | Loss: 1.0875229835510254 | Accuracy: 62.5%\n",
            "GB | Epoch 3 | Loss: 0.530879020690918 | Accuracy: 76.5625%\n",
            "GB | Epoch 3 | Loss: 0.39145660400390625 | Accuracy: 85.9375%\n",
            "GB | Epoch 3 | Loss: 0.5102906227111816 | Accuracy: 78.125%\n",
            "GB | Epoch 3 | Loss: 0.35341811180114746 | Accuracy: 85.9375%\n",
            "GB | Epoch 3 | Loss: 0.5272980332374573 | Accuracy: 84.375%\n",
            "GB | Epoch 3 | Loss: 0.483896404504776 | Accuracy: 79.6875%\n"
          ]
        },
        {
          "output_type": "stream",
          "name": "stderr",
          "text": [
            "Epoch 3:   2%|▏         | 12/751 [00:00<00:32, 23.04batch/s, accuracy=79.6875%, loss=0.48]"
          ]
        },
        {
          "output_type": "stream",
          "name": "stdout",
          "text": [
            "GB | Epoch 3 | Loss: 0.5618135929107666 | Accuracy: 76.5625%\n",
            "GB | Epoch 3 | Loss: 0.39980077743530273 | Accuracy: 89.0625%\n",
            "GB | Epoch 3 | Loss: 0.44722333550453186 | Accuracy: 79.6875%\n",
            "GB | Epoch 3 | Loss: 0.5354347229003906 | Accuracy: 82.8125%\n",
            "GB | Epoch 3 | Loss: 0.4671449661254883 | Accuracy: 81.25%\n",
            "GB | Epoch 3 | Loss: 0.4802708923816681 | Accuracy: 79.6875%\n"
          ]
        },
        {
          "output_type": "stream",
          "name": "stderr",
          "text": [
            "Epoch 3:   3%|▎         | 19/751 [00:00<00:27, 26.84batch/s, accuracy=85.9375%, loss=0.404]"
          ]
        },
        {
          "output_type": "stream",
          "name": "stdout",
          "text": [
            "GB | Epoch 3 | Loss: 0.5122138261795044 | Accuracy: 84.375%\n",
            "GB | Epoch 3 | Loss: 0.4187280833721161 | Accuracy: 84.375%\n",
            "GB | Epoch 3 | Loss: 0.3280479311943054 | Accuracy: 92.1875%\n",
            "GB | Epoch 3 | Loss: 0.45128148794174194 | Accuracy: 81.25%\n",
            "GB | Epoch 3 | Loss: 0.500232994556427 | Accuracy: 84.375%\n",
            "GB | Epoch 3 | Loss: 0.6355131268501282 | Accuracy: 87.5%\n",
            "GB | Epoch 3 | Loss: 0.40364694595336914 | Accuracy: 85.9375%\n"
          ]
        },
        {
          "output_type": "stream",
          "name": "stderr",
          "text": [
            "Epoch 3:   3%|▎         | 26/751 [00:01<00:25, 28.32batch/s, accuracy=85.9375%, loss=0.39]"
          ]
        },
        {
          "output_type": "stream",
          "name": "stdout",
          "text": [
            "GB | Epoch 3 | Loss: 0.31766530871391296 | Accuracy: 92.1875%\n",
            "GB | Epoch 3 | Loss: 0.36386337876319885 | Accuracy: 90.625%\n",
            "GB | Epoch 3 | Loss: 0.5291394591331482 | Accuracy: 81.25%\n",
            "GB | Epoch 3 | Loss: 0.3807414174079895 | Accuracy: 89.0625%\n",
            "GB | Epoch 3 | Loss: 0.4552471339702606 | Accuracy: 84.375%\n",
            "GB | Epoch 3 | Loss: 0.38961300253868103 | Accuracy: 85.9375%\n"
          ]
        },
        {
          "output_type": "stream",
          "name": "stderr",
          "text": [
            "Epoch 3:   4%|▍         | 30/751 [00:01<00:24, 29.00batch/s, accuracy=82.8125%, loss=0.517]"
          ]
        },
        {
          "output_type": "stream",
          "name": "stdout",
          "text": [
            "GB | Epoch 3 | Loss: 0.445415735244751 | Accuracy: 81.25%\n",
            "GB | Epoch 3 | Loss: 0.43712544441223145 | Accuracy: 84.375%\n",
            "GB | Epoch 3 | Loss: 0.5985469818115234 | Accuracy: 76.5625%\n",
            "GB | Epoch 3 | Loss: 0.4712792634963989 | Accuracy: 81.25%\n",
            "GB | Epoch 3 | Loss: 0.49626782536506653 | Accuracy: 84.375%\n",
            "GB | Epoch 3 | Loss: 0.5170482993125916 | Accuracy: 82.8125%\n"
          ]
        },
        {
          "output_type": "stream",
          "name": "stderr",
          "text": [
            "Epoch 3:   5%|▍         | 36/751 [00:01<00:25, 28.49batch/s, accuracy=79.6875%, loss=0.466]"
          ]
        },
        {
          "output_type": "stream",
          "name": "stdout",
          "text": [
            "GB | Epoch 3 | Loss: 0.44268399477005005 | Accuracy: 85.9375%\n",
            "GB | Epoch 3 | Loss: 0.5561935305595398 | Accuracy: 79.6875%\n",
            "GB | Epoch 3 | Loss: 0.5336527228355408 | Accuracy: 81.25%\n",
            "GB | Epoch 3 | Loss: 0.42689597606658936 | Accuracy: 89.0625%\n",
            "GB | Epoch 3 | Loss: 0.5335140824317932 | Accuracy: 84.375%\n",
            "GB | Epoch 3 | Loss: 0.38308078050613403 | Accuracy: 84.375%\n",
            "GB | Epoch 3 | Loss: 0.46595266461372375 | Accuracy: 79.6875%\n"
          ]
        },
        {
          "output_type": "stream",
          "name": "stderr",
          "text": [
            "Epoch 3:   6%|▌         | 44/751 [00:01<00:22, 30.74batch/s, accuracy=87.5%, loss=0.428]   "
          ]
        },
        {
          "output_type": "stream",
          "name": "stdout",
          "text": [
            "GB | Epoch 3 | Loss: 0.3751078248023987 | Accuracy: 84.375%\n",
            "GB | Epoch 3 | Loss: 0.5425950884819031 | Accuracy: 87.5%\n",
            "GB | Epoch 3 | Loss: 0.3011397421360016 | Accuracy: 90.625%\n",
            "GB | Epoch 3 | Loss: 0.41870927810668945 | Accuracy: 85.9375%\n",
            "GB | Epoch 3 | Loss: 0.255877822637558 | Accuracy: 92.1875%\n",
            "GB | Epoch 3 | Loss: 0.4991821050643921 | Accuracy: 82.8125%\n",
            "GB | Epoch 3 | Loss: 0.42780861258506775 | Accuracy: 87.5%\n"
          ]
        },
        {
          "output_type": "stream",
          "name": "stderr",
          "text": [
            "Epoch 3:   7%|▋         | 52/751 [00:01<00:21, 31.85batch/s, accuracy=82.8125%, loss=0.4]"
          ]
        },
        {
          "output_type": "stream",
          "name": "stdout",
          "text": [
            "GB | Epoch 3 | Loss: 0.38655561208724976 | Accuracy: 90.625%\n",
            "GB | Epoch 3 | Loss: 0.5842283368110657 | Accuracy: 87.5%\n",
            "GB | Epoch 3 | Loss: 0.5317330360412598 | Accuracy: 87.5%\n",
            "GB | Epoch 3 | Loss: 0.544739842414856 | Accuracy: 76.5625%\n",
            "GB | Epoch 3 | Loss: 0.2993714511394501 | Accuracy: 92.1875%\n",
            "GB | Epoch 3 | Loss: 0.4374239444732666 | Accuracy: 81.25%\n",
            "GB | Epoch 3 | Loss: 0.4004865884780884 | Accuracy: 82.8125%\n"
          ]
        },
        {
          "output_type": "stream",
          "name": "stderr",
          "text": [
            "Epoch 3:   8%|▊         | 60/751 [00:02<00:21, 32.15batch/s, accuracy=89.0625%, loss=0.414]"
          ]
        },
        {
          "output_type": "stream",
          "name": "stdout",
          "text": [
            "GB | Epoch 3 | Loss: 0.3978138864040375 | Accuracy: 85.9375%\n",
            "GB | Epoch 3 | Loss: 0.37039700150489807 | Accuracy: 89.0625%\n",
            "GB | Epoch 3 | Loss: 0.4169228672981262 | Accuracy: 89.0625%\n",
            "GB | Epoch 3 | Loss: 0.6252743601799011 | Accuracy: 75.0%\n",
            "GB | Epoch 3 | Loss: 0.3863483965396881 | Accuracy: 85.9375%\n",
            "GB | Epoch 3 | Loss: 0.42980679869651794 | Accuracy: 84.375%\n",
            "GB | Epoch 3 | Loss: 0.41416311264038086 | Accuracy: 89.0625%\n"
          ]
        },
        {
          "output_type": "stream",
          "name": "stderr",
          "text": [
            "Epoch 3:   9%|▊         | 64/751 [00:02<00:20, 32.73batch/s, accuracy=90.625%, loss=0.392]"
          ]
        },
        {
          "output_type": "stream",
          "name": "stdout",
          "text": [
            "GB | Epoch 3 | Loss: 0.3835263252258301 | Accuracy: 85.9375%\n",
            "GB | Epoch 3 | Loss: 0.4175306558609009 | Accuracy: 85.9375%\n",
            "GB | Epoch 3 | Loss: 0.3583991229534149 | Accuracy: 84.375%\n",
            "GB | Epoch 3 | Loss: 0.44251853227615356 | Accuracy: 85.9375%\n",
            "GB | Epoch 3 | Loss: 0.5160238146781921 | Accuracy: 82.8125%\n",
            "GB | Epoch 3 | Loss: 0.5610011219978333 | Accuracy: 84.375%\n",
            "GB | Epoch 3 | Loss: 0.3917614221572876 | Accuracy: 90.625%\n"
          ]
        },
        {
          "output_type": "stream",
          "name": "stderr",
          "text": [
            "Epoch 3:  10%|▉         | 72/751 [00:02<00:21, 30.90batch/s, accuracy=90.625%, loss=0.48]"
          ]
        },
        {
          "output_type": "stream",
          "name": "stdout",
          "text": [
            "GB | Epoch 3 | Loss: 0.34538790583610535 | Accuracy: 90.625%\n",
            "GB | Epoch 3 | Loss: 0.39203038811683655 | Accuracy: 84.375%\n",
            "GB | Epoch 3 | Loss: 0.4325859844684601 | Accuracy: 85.9375%\n",
            "GB | Epoch 3 | Loss: 0.4005526304244995 | Accuracy: 82.8125%\n",
            "GB | Epoch 3 | Loss: 0.39734935760498047 | Accuracy: 87.5%\n",
            "GB | Epoch 3 | Loss: 0.4800253212451935 | Accuracy: 90.625%\n"
          ]
        },
        {
          "output_type": "stream",
          "name": "stderr",
          "text": [
            "Epoch 3:  11%|█         | 80/751 [00:02<00:21, 31.65batch/s, accuracy=82.8125%, loss=0.425]"
          ]
        },
        {
          "output_type": "stream",
          "name": "stdout",
          "text": [
            "GB | Epoch 3 | Loss: 0.5266653895378113 | Accuracy: 81.25%\n",
            "GB | Epoch 3 | Loss: 0.5483160018920898 | Accuracy: 73.4375%\n",
            "GB | Epoch 3 | Loss: 0.41953492164611816 | Accuracy: 81.25%\n",
            "GB | Epoch 3 | Loss: 0.3647850751876831 | Accuracy: 89.0625%\n",
            "GB | Epoch 3 | Loss: 0.5687919855117798 | Accuracy: 82.8125%\n",
            "GB | Epoch 3 | Loss: 0.36918193101882935 | Accuracy: 85.9375%\n",
            "GB | Epoch 3 | Loss: 0.4251408278942108 | Accuracy: 82.8125%\n"
          ]
        },
        {
          "output_type": "stream",
          "name": "stderr",
          "text": [
            "Epoch 3:  11%|█         | 84/751 [00:03<00:22, 29.76batch/s, accuracy=84.375%, loss=0.323] "
          ]
        },
        {
          "output_type": "stream",
          "name": "stdout",
          "text": [
            "GB | Epoch 3 | Loss: 0.5149605870246887 | Accuracy: 84.375%\n",
            "GB | Epoch 3 | Loss: 0.43671682476997375 | Accuracy: 89.0625%\n",
            "GB | Epoch 3 | Loss: 0.4498991370201111 | Accuracy: 87.5%\n",
            "GB | Epoch 3 | Loss: 0.4808179438114166 | Accuracy: 90.625%\n",
            "GB | Epoch 3 | Loss: 0.34636038541793823 | Accuracy: 89.0625%\n",
            "GB | Epoch 3 | Loss: 0.3233605921268463 | Accuracy: 84.375%\n"
          ]
        },
        {
          "output_type": "stream",
          "name": "stderr",
          "text": [
            "Epoch 3:  12%|█▏        | 92/751 [00:03<00:20, 32.05batch/s, accuracy=90.625%, loss=0.388]"
          ]
        },
        {
          "output_type": "stream",
          "name": "stdout",
          "text": [
            "GB | Epoch 3 | Loss: 0.42973655462265015 | Accuracy: 85.9375%\n",
            "GB | Epoch 3 | Loss: 0.5697239637374878 | Accuracy: 82.8125%\n",
            "GB | Epoch 3 | Loss: 0.3169495761394501 | Accuracy: 90.625%\n",
            "GB | Epoch 3 | Loss: 0.49416419863700867 | Accuracy: 76.5625%\n",
            "GB | Epoch 3 | Loss: 0.362249493598938 | Accuracy: 85.9375%\n",
            "GB | Epoch 3 | Loss: 0.3238908052444458 | Accuracy: 89.0625%\n",
            "GB | Epoch 3 | Loss: 0.30623534321784973 | Accuracy: 93.75%\n"
          ]
        },
        {
          "output_type": "stream",
          "name": "stderr",
          "text": [
            "Epoch 3:  13%|█▎        | 100/751 [00:03<00:19, 33.66batch/s, accuracy=85.9375%, loss=0.413]"
          ]
        },
        {
          "output_type": "stream",
          "name": "stdout",
          "text": [
            "GB | Epoch 3 | Loss: 0.38816311955451965 | Accuracy: 90.625%\n",
            "GB | Epoch 3 | Loss: 0.5321428179740906 | Accuracy: 75.0%\n",
            "GB | Epoch 3 | Loss: 0.3301893174648285 | Accuracy: 90.625%\n",
            "GB | Epoch 3 | Loss: 0.5210502743721008 | Accuracy: 76.5625%\n",
            "GB | Epoch 3 | Loss: 0.6421821713447571 | Accuracy: 84.375%\n",
            "GB | Epoch 3 | Loss: 0.37091222405433655 | Accuracy: 81.25%\n",
            "GB | Epoch 3 | Loss: 0.43091079592704773 | Accuracy: 89.0625%\n",
            "GB | Epoch 3 | Loss: 0.4134024679660797 | Accuracy: 85.9375%\n"
          ]
        },
        {
          "output_type": "stream",
          "name": "stderr",
          "text": [
            "Epoch 3:  14%|█▍        | 108/751 [00:03<00:19, 32.28batch/s, accuracy=90.625%, loss=0.34]"
          ]
        },
        {
          "output_type": "stream",
          "name": "stdout",
          "text": [
            "GB | Epoch 3 | Loss: 0.33823055028915405 | Accuracy: 85.9375%\n",
            "GB | Epoch 3 | Loss: 0.24951200187206268 | Accuracy: 92.1875%\n",
            "GB | Epoch 3 | Loss: 0.6222286820411682 | Accuracy: 75.0%\n",
            "GB | Epoch 3 | Loss: 0.4024733901023865 | Accuracy: 87.5%\n",
            "GB | Epoch 3 | Loss: 0.35242730379104614 | Accuracy: 87.5%\n",
            "GB | Epoch 3 | Loss: 0.5289137959480286 | Accuracy: 79.6875%\n",
            "GB | Epoch 3 | Loss: 0.3399710953235626 | Accuracy: 90.625%\n"
          ]
        },
        {
          "output_type": "stream",
          "name": "stderr",
          "text": [
            "Epoch 3:  15%|█▍        | 112/751 [00:03<00:20, 31.32batch/s, accuracy=85.9375%, loss=0.442]"
          ]
        },
        {
          "output_type": "stream",
          "name": "stdout",
          "text": [
            "GB | Epoch 3 | Loss: 0.6077964901924133 | Accuracy: 79.6875%\n",
            "GB | Epoch 3 | Loss: 0.4248858094215393 | Accuracy: 93.75%\n",
            "GB | Epoch 3 | Loss: 0.5124555826187134 | Accuracy: 82.8125%\n",
            "GB | Epoch 3 | Loss: 0.530707836151123 | Accuracy: 82.8125%\n",
            "GB | Epoch 3 | Loss: 0.3174336552619934 | Accuracy: 90.625%\n",
            "GB | Epoch 3 | Loss: 0.4417954683303833 | Accuracy: 85.9375%\n"
          ]
        },
        {
          "output_type": "stream",
          "name": "stderr",
          "text": [
            "Epoch 3:  16%|█▌        | 120/751 [00:04<00:21, 29.58batch/s, accuracy=89.0625%, loss=0.292]"
          ]
        },
        {
          "output_type": "stream",
          "name": "stdout",
          "text": [
            "GB | Epoch 3 | Loss: 0.33994632959365845 | Accuracy: 89.0625%\n",
            "GB | Epoch 3 | Loss: 0.41110679507255554 | Accuracy: 85.9375%\n",
            "GB | Epoch 3 | Loss: 0.3664967119693756 | Accuracy: 85.9375%\n",
            "GB | Epoch 3 | Loss: 0.3572039008140564 | Accuracy: 92.1875%\n",
            "GB | Epoch 3 | Loss: 0.36429867148399353 | Accuracy: 85.9375%\n",
            "GB | Epoch 3 | Loss: 0.29197433590888977 | Accuracy: 89.0625%\n"
          ]
        },
        {
          "output_type": "stream",
          "name": "stderr",
          "text": [
            "Epoch 3:  17%|█▋        | 126/751 [00:04<00:21, 28.86batch/s, accuracy=87.5%, loss=0.413]"
          ]
        },
        {
          "output_type": "stream",
          "name": "stdout",
          "text": [
            "GB | Epoch 3 | Loss: 0.30432143807411194 | Accuracy: 87.5%\n",
            "GB | Epoch 3 | Loss: 0.41624757647514343 | Accuracy: 87.5%\n",
            "GB | Epoch 3 | Loss: 0.56194007396698 | Accuracy: 89.0625%\n",
            "GB | Epoch 3 | Loss: 0.3030393421649933 | Accuracy: 89.0625%\n",
            "GB | Epoch 3 | Loss: 0.3633928894996643 | Accuracy: 89.0625%\n",
            "GB | Epoch 3 | Loss: 0.4128442108631134 | Accuracy: 87.5%\n"
          ]
        },
        {
          "output_type": "stream",
          "name": "stderr",
          "text": [
            "Epoch 3:  17%|█▋        | 130/751 [00:04<00:20, 30.14batch/s, accuracy=79.6875%, loss=0.68]"
          ]
        },
        {
          "output_type": "stream",
          "name": "stdout",
          "text": [
            "GB | Epoch 3 | Loss: 0.3616366684436798 | Accuracy: 90.625%\n",
            "GB | Epoch 3 | Loss: 0.4104014039039612 | Accuracy: 82.8125%\n",
            "GB | Epoch 3 | Loss: 0.4838930666446686 | Accuracy: 82.8125%\n",
            "GB | Epoch 3 | Loss: 0.4161078631877899 | Accuracy: 85.9375%\n",
            "GB | Epoch 3 | Loss: 0.6264724731445312 | Accuracy: 81.25%\n",
            "GB | Epoch 3 | Loss: 0.3392198979854584 | Accuracy: 87.5%\n",
            "GB | Epoch 3 | Loss: 0.6798199415206909 | Accuracy: 79.6875%\n"
          ]
        },
        {
          "output_type": "stream",
          "name": "stderr",
          "text": [
            "Epoch 3:  18%|█▊        | 138/751 [00:04<00:20, 29.76batch/s, accuracy=89.0625%, loss=0.306]"
          ]
        },
        {
          "output_type": "stream",
          "name": "stdout",
          "text": [
            "GB | Epoch 3 | Loss: 0.3663007915019989 | Accuracy: 89.0625%\n",
            "GB | Epoch 3 | Loss: 0.3131774663925171 | Accuracy: 85.9375%\n",
            "GB | Epoch 3 | Loss: 0.4514036774635315 | Accuracy: 85.9375%\n",
            "GB | Epoch 3 | Loss: 0.41115596890449524 | Accuracy: 82.8125%\n",
            "GB | Epoch 3 | Loss: 0.5773433446884155 | Accuracy: 76.5625%\n",
            "GB | Epoch 3 | Loss: 0.30615851283073425 | Accuracy: 89.0625%\n"
          ]
        },
        {
          "output_type": "stream",
          "name": "stderr",
          "text": [
            "Epoch 3:  19%|█▉        | 144/751 [00:04<00:21, 28.03batch/s, accuracy=84.375%, loss=0.382]"
          ]
        },
        {
          "output_type": "stream",
          "name": "stdout",
          "text": [
            "GB | Epoch 3 | Loss: 0.4473571479320526 | Accuracy: 87.5%\n",
            "GB | Epoch 3 | Loss: 0.3739055395126343 | Accuracy: 90.625%\n",
            "GB | Epoch 3 | Loss: 0.33340713381767273 | Accuracy: 89.0625%\n",
            "GB | Epoch 3 | Loss: 0.43568155169487 | Accuracy: 82.8125%\n",
            "GB | Epoch 3 | Loss: 0.4501791000366211 | Accuracy: 82.8125%\n",
            "GB | Epoch 3 | Loss: 0.3820401728153229 | Accuracy: 84.375%\n"
          ]
        },
        {
          "output_type": "stream",
          "name": "stderr",
          "text": [
            "Epoch 3:  20%|██        | 152/751 [00:05<00:20, 29.64batch/s, accuracy=87.5%, loss=0.353]"
          ]
        },
        {
          "output_type": "stream",
          "name": "stdout",
          "text": [
            "GB | Epoch 3 | Loss: 0.4922651946544647 | Accuracy: 84.375%\n",
            "GB | Epoch 3 | Loss: 0.4130403995513916 | Accuracy: 87.5%\n",
            "GB | Epoch 3 | Loss: 0.36645665764808655 | Accuracy: 82.8125%\n",
            "GB | Epoch 3 | Loss: 0.3055119514465332 | Accuracy: 87.5%\n",
            "GB | Epoch 3 | Loss: 0.4098871052265167 | Accuracy: 81.25%\n",
            "GB | Epoch 3 | Loss: 0.3568323850631714 | Accuracy: 92.1875%\n",
            "GB | Epoch 3 | Loss: 0.3531682789325714 | Accuracy: 87.5%\n"
          ]
        },
        {
          "output_type": "stream",
          "name": "stderr",
          "text": [
            "Epoch 3:  21%|██        | 159/751 [00:05<00:19, 29.68batch/s, accuracy=92.1875%, loss=0.403]"
          ]
        },
        {
          "output_type": "stream",
          "name": "stdout",
          "text": [
            "GB | Epoch 3 | Loss: 0.5284563302993774 | Accuracy: 82.8125%\n",
            "GB | Epoch 3 | Loss: 0.3649148941040039 | Accuracy: 85.9375%\n",
            "GB | Epoch 3 | Loss: 0.31974005699157715 | Accuracy: 89.0625%\n",
            "GB | Epoch 3 | Loss: 0.3606070876121521 | Accuracy: 87.5%\n",
            "GB | Epoch 3 | Loss: 0.2922041118144989 | Accuracy: 90.625%\n",
            "GB | Epoch 3 | Loss: 0.38024821877479553 | Accuracy: 89.0625%\n",
            "GB | Epoch 3 | Loss: 0.4030110836029053 | Accuracy: 92.1875%\n"
          ]
        },
        {
          "output_type": "stream",
          "name": "stderr",
          "text": [
            "Epoch 3:  22%|██▏       | 167/751 [00:05<00:17, 33.78batch/s, accuracy=79.6875%, loss=0.546]"
          ]
        },
        {
          "output_type": "stream",
          "name": "stdout",
          "text": [
            "GB | Epoch 3 | Loss: 0.269778311252594 | Accuracy: 92.1875%\n",
            "GB | Epoch 3 | Loss: 0.3898932933807373 | Accuracy: 84.375%\n",
            "GB | Epoch 3 | Loss: 0.5670893788337708 | Accuracy: 81.25%\n",
            "GB | Epoch 3 | Loss: 0.3378022015094757 | Accuracy: 84.375%\n",
            "GB | Epoch 3 | Loss: 0.2709152400493622 | Accuracy: 87.5%\n",
            "GB | Epoch 3 | Loss: 0.32903745770454407 | Accuracy: 87.5%\n",
            "GB | Epoch 3 | Loss: 0.3508349359035492 | Accuracy: 92.1875%\n",
            "GB | Epoch 3 | Loss: 0.5463483333587646 | Accuracy: 79.6875%\n"
          ]
        },
        {
          "output_type": "stream",
          "name": "stderr",
          "text": [
            "Epoch 3:  23%|██▎       | 172/751 [00:05<00:16, 35.53batch/s, accuracy=84.375%, loss=0.395]"
          ]
        },
        {
          "output_type": "stream",
          "name": "stdout",
          "text": [
            "GB | Epoch 3 | Loss: 0.3347072899341583 | Accuracy: 89.0625%\n",
            "GB | Epoch 3 | Loss: 0.44824594259262085 | Accuracy: 84.375%\n",
            "GB | Epoch 3 | Loss: 0.398558646440506 | Accuracy: 78.125%\n",
            "GB | Epoch 3 | Loss: 0.3754039704799652 | Accuracy: 90.625%\n",
            "GB | Epoch 3 | Loss: 0.2585318684577942 | Accuracy: 93.75%\n",
            "GB | Epoch 3 | Loss: 0.4032411277294159 | Accuracy: 84.375%\n",
            "GB | Epoch 3 | Loss: 0.39971262216567993 | Accuracy: 85.9375%\n",
            "GB | Epoch 3 | Loss: 0.3947572708129883 | Accuracy: 84.375%\n"
          ]
        },
        {
          "output_type": "stream",
          "name": "stderr",
          "text": [
            "Epoch 3:  24%|██▍       | 180/751 [00:06<00:15, 36.08batch/s, accuracy=90.625%, loss=0.322] "
          ]
        },
        {
          "output_type": "stream",
          "name": "stdout",
          "text": [
            "GB | Epoch 3 | Loss: 0.3460797369480133 | Accuracy: 89.0625%\n",
            "GB | Epoch 3 | Loss: 0.39436131715774536 | Accuracy: 85.9375%\n",
            "GB | Epoch 3 | Loss: 0.31082096695899963 | Accuracy: 90.625%\n",
            "GB | Epoch 3 | Loss: 0.4168604612350464 | Accuracy: 89.0625%\n",
            "GB | Epoch 3 | Loss: 0.30189502239227295 | Accuracy: 92.1875%\n",
            "GB | Epoch 3 | Loss: 0.24840623140335083 | Accuracy: 95.3125%\n",
            "GB | Epoch 3 | Loss: 0.3574162423610687 | Accuracy: 89.0625%\n",
            "GB | Epoch 3 | Loss: 0.32228079438209534 | Accuracy: 90.625%\n"
          ]
        },
        {
          "output_type": "stream",
          "name": "stderr",
          "text": [
            "Epoch 3:  25%|██▌       | 188/751 [00:06<00:15, 37.25batch/s, accuracy=87.5%, loss=0.37]    "
          ]
        },
        {
          "output_type": "stream",
          "name": "stdout",
          "text": [
            "GB | Epoch 3 | Loss: 0.3540957570075989 | Accuracy: 87.5%\n",
            "GB | Epoch 3 | Loss: 0.1996287852525711 | Accuracy: 96.875%\n",
            "GB | Epoch 3 | Loss: 0.4268934428691864 | Accuracy: 89.0625%\n",
            "GB | Epoch 3 | Loss: 0.2823988199234009 | Accuracy: 89.0625%\n",
            "GB | Epoch 3 | Loss: 0.4153894782066345 | Accuracy: 89.0625%\n",
            "GB | Epoch 3 | Loss: 0.38154762983322144 | Accuracy: 93.75%\n",
            "GB | Epoch 3 | Loss: 0.3047466576099396 | Accuracy: 92.1875%\n",
            "GB | Epoch 3 | Loss: 0.37040427327156067 | Accuracy: 87.5%\n"
          ]
        },
        {
          "output_type": "stream",
          "name": "stderr",
          "text": [
            "Epoch 3:  26%|██▌       | 196/751 [00:06<00:14, 37.68batch/s, accuracy=89.0625%, loss=0.31]"
          ]
        },
        {
          "output_type": "stream",
          "name": "stdout",
          "text": [
            "GB | Epoch 3 | Loss: 0.281319260597229 | Accuracy: 92.1875%\n",
            "GB | Epoch 3 | Loss: 0.3871075212955475 | Accuracy: 82.8125%\n",
            "GB | Epoch 3 | Loss: 0.32457342743873596 | Accuracy: 90.625%\n",
            "GB | Epoch 3 | Loss: 0.3820855915546417 | Accuracy: 85.9375%\n",
            "GB | Epoch 3 | Loss: 0.49118223786354065 | Accuracy: 89.0625%\n",
            "GB | Epoch 3 | Loss: 0.36520615220069885 | Accuracy: 89.0625%\n",
            "GB | Epoch 3 | Loss: 0.2782708406448364 | Accuracy: 90.625%\n",
            "GB | Epoch 3 | Loss: 0.31011930108070374 | Accuracy: 89.0625%\n"
          ]
        },
        {
          "output_type": "stream",
          "name": "stderr",
          "text": [
            "Epoch 3:  27%|██▋       | 204/751 [00:06<00:14, 38.03batch/s, accuracy=78.125%, loss=0.556] "
          ]
        },
        {
          "output_type": "stream",
          "name": "stdout",
          "text": [
            "GB | Epoch 3 | Loss: 0.31698715686798096 | Accuracy: 90.625%\n",
            "GB | Epoch 3 | Loss: 0.47542864084243774 | Accuracy: 81.25%\n",
            "GB | Epoch 3 | Loss: 0.5184600353240967 | Accuracy: 90.625%\n",
            "GB | Epoch 3 | Loss: 0.4139070212841034 | Accuracy: 84.375%\n",
            "GB | Epoch 3 | Loss: 0.4094259738922119 | Accuracy: 90.625%\n",
            "GB | Epoch 3 | Loss: 0.34036892652511597 | Accuracy: 95.3125%\n",
            "GB | Epoch 3 | Loss: 0.30716753005981445 | Accuracy: 92.1875%\n",
            "GB | Epoch 3 | Loss: 0.5564897060394287 | Accuracy: 78.125%\n"
          ]
        },
        {
          "output_type": "stream",
          "name": "stderr",
          "text": [
            "Epoch 3:  28%|██▊       | 212/751 [00:06<00:14, 37.61batch/s, accuracy=92.1875%, loss=0.267]"
          ]
        },
        {
          "output_type": "stream",
          "name": "stdout",
          "text": [
            "GB | Epoch 3 | Loss: 0.5214219093322754 | Accuracy: 85.9375%\n",
            "GB | Epoch 3 | Loss: 0.23106904327869415 | Accuracy: 95.3125%\n",
            "GB | Epoch 3 | Loss: 0.29033294320106506 | Accuracy: 90.625%\n",
            "GB | Epoch 3 | Loss: 0.33690497279167175 | Accuracy: 85.9375%\n",
            "GB | Epoch 3 | Loss: 0.2822396457195282 | Accuracy: 90.625%\n",
            "GB | Epoch 3 | Loss: 0.42674800753593445 | Accuracy: 85.9375%\n",
            "GB | Epoch 3 | Loss: 0.37586596608161926 | Accuracy: 85.9375%\n",
            "GB | Epoch 3 | Loss: 0.267299085855484 | Accuracy: 92.1875%\n"
          ]
        },
        {
          "output_type": "stream",
          "name": "stderr",
          "text": [
            "Epoch 3:  29%|██▉       | 220/751 [00:07<00:14, 35.66batch/s, accuracy=90.625%, loss=0.341] "
          ]
        },
        {
          "output_type": "stream",
          "name": "stdout",
          "text": [
            "GB | Epoch 3 | Loss: 0.30381134152412415 | Accuracy: 84.375%\n",
            "GB | Epoch 3 | Loss: 0.35718080401420593 | Accuracy: 85.9375%\n",
            "GB | Epoch 3 | Loss: 0.5943933129310608 | Accuracy: 78.125%\n",
            "GB | Epoch 3 | Loss: 0.42491212487220764 | Accuracy: 87.5%\n",
            "GB | Epoch 3 | Loss: 0.4645613729953766 | Accuracy: 84.375%\n",
            "GB | Epoch 3 | Loss: 0.27336615324020386 | Accuracy: 92.1875%\n",
            "GB | Epoch 3 | Loss: 0.3684353232383728 | Accuracy: 82.8125%\n",
            "GB | Epoch 3 | Loss: 0.34131166338920593 | Accuracy: 90.625%\n"
          ]
        },
        {
          "output_type": "stream",
          "name": "stderr",
          "text": [
            "Epoch 3:  30%|███       | 228/751 [00:07<00:14, 36.65batch/s, accuracy=95.3125%, loss=0.236]"
          ]
        },
        {
          "output_type": "stream",
          "name": "stdout",
          "text": [
            "GB | Epoch 3 | Loss: 0.31952160596847534 | Accuracy: 92.1875%\n",
            "GB | Epoch 3 | Loss: 0.4282071888446808 | Accuracy: 84.375%\n",
            "GB | Epoch 3 | Loss: 0.2826913893222809 | Accuracy: 87.5%\n",
            "GB | Epoch 3 | Loss: 0.3212963342666626 | Accuracy: 90.625%\n",
            "GB | Epoch 3 | Loss: 0.2642157971858978 | Accuracy: 93.75%\n",
            "GB | Epoch 3 | Loss: 0.21397165954113007 | Accuracy: 93.75%\n",
            "GB | Epoch 3 | Loss: 0.4197286367416382 | Accuracy: 84.375%\n",
            "GB | Epoch 3 | Loss: 0.23572030663490295 | Accuracy: 95.3125%\n"
          ]
        },
        {
          "output_type": "stream",
          "name": "stderr",
          "text": [
            "Epoch 3:  31%|███▏      | 236/751 [00:07<00:13, 37.76batch/s, accuracy=89.0625%, loss=0.339]"
          ]
        },
        {
          "output_type": "stream",
          "name": "stdout",
          "text": [
            "GB | Epoch 3 | Loss: 0.4661450982093811 | Accuracy: 85.9375%\n",
            "GB | Epoch 3 | Loss: 0.2299143522977829 | Accuracy: 93.75%\n",
            "GB | Epoch 3 | Loss: 0.31439584493637085 | Accuracy: 87.5%\n",
            "GB | Epoch 3 | Loss: 0.35919389128685 | Accuracy: 87.5%\n",
            "GB | Epoch 3 | Loss: 0.5032392144203186 | Accuracy: 81.25%\n",
            "GB | Epoch 3 | Loss: 0.3641825318336487 | Accuracy: 85.9375%\n",
            "GB | Epoch 3 | Loss: 0.4022175967693329 | Accuracy: 85.9375%\n",
            "GB | Epoch 3 | Loss: 0.3902585506439209 | Accuracy: 85.9375%\n",
            "GB | Epoch 3 | Loss: 0.3392263948917389 | Accuracy: 89.0625%\n"
          ]
        },
        {
          "output_type": "stream",
          "name": "stderr",
          "text": [
            "Epoch 3:  33%|███▎      | 245/751 [00:07<00:13, 38.26batch/s, accuracy=93.75%, loss=0.264] "
          ]
        },
        {
          "output_type": "stream",
          "name": "stdout",
          "text": [
            "GB | Epoch 3 | Loss: 0.45205971598625183 | Accuracy: 82.8125%\n",
            "GB | Epoch 3 | Loss: 0.2441670298576355 | Accuracy: 93.75%\n",
            "GB | Epoch 3 | Loss: 0.2572658061981201 | Accuracy: 90.625%\n",
            "GB | Epoch 3 | Loss: 0.3020350933074951 | Accuracy: 87.5%\n",
            "GB | Epoch 3 | Loss: 0.5559343695640564 | Accuracy: 82.8125%\n",
            "GB | Epoch 3 | Loss: 0.3787548243999481 | Accuracy: 79.6875%\n",
            "GB | Epoch 3 | Loss: 0.2880690097808838 | Accuracy: 87.5%\n",
            "GB | Epoch 3 | Loss: 0.2177286297082901 | Accuracy: 96.875%\n",
            "GB | Epoch 3 | Loss: 0.2637878656387329 | Accuracy: 93.75%\n"
          ]
        },
        {
          "output_type": "stream",
          "name": "stderr",
          "text": [
            "Epoch 3:  34%|███▍      | 254/751 [00:08<00:13, 38.19batch/s, accuracy=89.0625%, loss=0.343]"
          ]
        },
        {
          "output_type": "stream",
          "name": "stdout",
          "text": [
            "GB | Epoch 3 | Loss: 0.3245501220226288 | Accuracy: 85.9375%\n",
            "GB | Epoch 3 | Loss: 0.3748278021812439 | Accuracy: 87.5%\n",
            "GB | Epoch 3 | Loss: 0.27717846632003784 | Accuracy: 87.5%\n",
            "GB | Epoch 3 | Loss: 0.3272281587123871 | Accuracy: 89.0625%\n",
            "GB | Epoch 3 | Loss: 0.2529487609863281 | Accuracy: 92.1875%\n",
            "GB | Epoch 3 | Loss: 0.23153811693191528 | Accuracy: 92.1875%\n",
            "GB | Epoch 3 | Loss: 0.4058818519115448 | Accuracy: 81.25%\n",
            "GB | Epoch 3 | Loss: 0.34323349595069885 | Accuracy: 89.0625%\n"
          ]
        },
        {
          "output_type": "stream",
          "name": "stderr",
          "text": [
            "Epoch 3:  35%|███▍      | 262/751 [00:08<00:12, 37.80batch/s, accuracy=87.5%, loss=0.334]   "
          ]
        },
        {
          "output_type": "stream",
          "name": "stdout",
          "text": [
            "GB | Epoch 3 | Loss: 0.2995225489139557 | Accuracy: 87.5%\n",
            "GB | Epoch 3 | Loss: 0.21734802424907684 | Accuracy: 93.75%\n",
            "GB | Epoch 3 | Loss: 0.3988206684589386 | Accuracy: 76.5625%\n",
            "GB | Epoch 3 | Loss: 0.30828335881233215 | Accuracy: 85.9375%\n",
            "GB | Epoch 3 | Loss: 0.25037217140197754 | Accuracy: 92.1875%\n",
            "GB | Epoch 3 | Loss: 0.329103022813797 | Accuracy: 87.5%\n",
            "GB | Epoch 3 | Loss: 0.4818233251571655 | Accuracy: 85.9375%\n",
            "GB | Epoch 3 | Loss: 0.33375048637390137 | Accuracy: 87.5%\n"
          ]
        },
        {
          "output_type": "stream",
          "name": "stderr",
          "text": [
            "Epoch 3:  36%|███▌      | 271/751 [00:08<00:12, 38.92batch/s, accuracy=85.9375%, loss=0.388]"
          ]
        },
        {
          "output_type": "stream",
          "name": "stdout",
          "text": [
            "GB | Epoch 3 | Loss: 0.3845351040363312 | Accuracy: 87.5%\n",
            "GB | Epoch 3 | Loss: 0.41423335671424866 | Accuracy: 85.9375%\n",
            "GB | Epoch 3 | Loss: 0.26096439361572266 | Accuracy: 93.75%\n",
            "GB | Epoch 3 | Loss: 0.320164293050766 | Accuracy: 89.0625%\n",
            "GB | Epoch 3 | Loss: 0.3099426031112671 | Accuracy: 92.1875%\n",
            "GB | Epoch 3 | Loss: 0.26422491669654846 | Accuracy: 90.625%\n",
            "GB | Epoch 3 | Loss: 0.2966879904270172 | Accuracy: 95.3125%\n",
            "GB | Epoch 3 | Loss: 0.21934577822685242 | Accuracy: 95.3125%\n",
            "GB | Epoch 3 | Loss: 0.3879275619983673 | Accuracy: 85.9375%\n"
          ]
        },
        {
          "output_type": "stream",
          "name": "stderr",
          "text": [
            "Epoch 3:  37%|███▋      | 279/751 [00:08<00:12, 38.87batch/s, accuracy=78.125%, loss=0.486]"
          ]
        },
        {
          "output_type": "stream",
          "name": "stdout",
          "text": [
            "GB | Epoch 3 | Loss: 0.39373642206192017 | Accuracy: 82.8125%\n",
            "GB | Epoch 3 | Loss: 0.3028234839439392 | Accuracy: 90.625%\n",
            "GB | Epoch 3 | Loss: 0.35173147916793823 | Accuracy: 84.375%\n",
            "GB | Epoch 3 | Loss: 0.36479175090789795 | Accuracy: 87.5%\n",
            "GB | Epoch 3 | Loss: 0.2381870597600937 | Accuracy: 92.1875%\n",
            "GB | Epoch 3 | Loss: 0.3556167781352997 | Accuracy: 89.0625%\n",
            "GB | Epoch 3 | Loss: 0.29256385564804077 | Accuracy: 93.75%\n",
            "GB | Epoch 3 | Loss: 0.2206067591905594 | Accuracy: 93.75%\n"
          ]
        },
        {
          "output_type": "stream",
          "name": "stderr",
          "text": [
            "Epoch 3:  38%|███▊      | 289/751 [00:08<00:11, 39.66batch/s, accuracy=82.8125%, loss=0.492]"
          ]
        },
        {
          "output_type": "stream",
          "name": "stdout",
          "text": [
            "GB | Epoch 3 | Loss: 0.4862702190876007 | Accuracy: 78.125%\n",
            "GB | Epoch 3 | Loss: 0.32096487283706665 | Accuracy: 87.5%\n",
            "GB | Epoch 3 | Loss: 0.28276029229164124 | Accuracy: 90.625%\n",
            "GB | Epoch 3 | Loss: 0.42851120233535767 | Accuracy: 82.8125%\n",
            "GB | Epoch 3 | Loss: 0.2299126833677292 | Accuracy: 89.0625%\n",
            "GB | Epoch 3 | Loss: 0.3616270422935486 | Accuracy: 82.8125%\n",
            "GB | Epoch 3 | Loss: 0.45542672276496887 | Accuracy: 85.9375%\n",
            "GB | Epoch 3 | Loss: 0.49183788895606995 | Accuracy: 82.8125%\n"
          ]
        },
        {
          "output_type": "stream",
          "name": "stderr",
          "text": [
            "Epoch 3:  40%|███▉      | 297/751 [00:09<00:12, 37.59batch/s, accuracy=95.3125%, loss=0.234]"
          ]
        },
        {
          "output_type": "stream",
          "name": "stdout",
          "text": [
            "GB | Epoch 3 | Loss: 0.34494099020957947 | Accuracy: 89.0625%\n",
            "GB | Epoch 3 | Loss: 0.329299658536911 | Accuracy: 89.0625%\n",
            "GB | Epoch 3 | Loss: 0.3544447720050812 | Accuracy: 85.9375%\n",
            "GB | Epoch 3 | Loss: 0.26269224286079407 | Accuracy: 90.625%\n",
            "GB | Epoch 3 | Loss: 0.42451590299606323 | Accuracy: 87.5%\n",
            "GB | Epoch 3 | Loss: 0.2320573925971985 | Accuracy: 95.3125%\n",
            "GB | Epoch 3 | Loss: 0.25275179743766785 | Accuracy: 89.0625%\n",
            "GB | Epoch 3 | Loss: 0.23427709937095642 | Accuracy: 95.3125%\n"
          ]
        },
        {
          "output_type": "stream",
          "name": "stderr",
          "text": [
            "Epoch 3:  41%|████      | 305/751 [00:09<00:11, 38.51batch/s, accuracy=82.8125%, loss=0.402]"
          ]
        },
        {
          "output_type": "stream",
          "name": "stdout",
          "text": [
            "GB | Epoch 3 | Loss: 0.3572583794593811 | Accuracy: 90.625%\n",
            "GB | Epoch 3 | Loss: 0.32084134221076965 | Accuracy: 87.5%\n",
            "GB | Epoch 3 | Loss: 0.34574928879737854 | Accuracy: 87.5%\n",
            "GB | Epoch 3 | Loss: 0.2460532933473587 | Accuracy: 93.75%\n",
            "GB | Epoch 3 | Loss: 0.2857398986816406 | Accuracy: 90.625%\n",
            "GB | Epoch 3 | Loss: 0.28863003849983215 | Accuracy: 92.1875%\n",
            "GB | Epoch 3 | Loss: 0.2641948461532593 | Accuracy: 93.75%\n",
            "GB | Epoch 3 | Loss: 0.4021024703979492 | Accuracy: 82.8125%\n"
          ]
        },
        {
          "output_type": "stream",
          "name": "stderr",
          "text": [
            "Epoch 3:  42%|████▏     | 314/751 [00:09<00:11, 39.38batch/s, accuracy=93.75%, loss=0.271]"
          ]
        },
        {
          "output_type": "stream",
          "name": "stdout",
          "text": [
            "GB | Epoch 3 | Loss: 0.18978123366832733 | Accuracy: 96.875%\n",
            "GB | Epoch 3 | Loss: 0.3668808043003082 | Accuracy: 90.625%\n",
            "GB | Epoch 3 | Loss: 0.2828231453895569 | Accuracy: 93.75%\n",
            "GB | Epoch 3 | Loss: 0.42293357849121094 | Accuracy: 90.625%\n",
            "GB | Epoch 3 | Loss: 0.26091647148132324 | Accuracy: 90.625%\n",
            "GB | Epoch 3 | Loss: 0.27750128507614136 | Accuracy: 90.625%\n",
            "GB | Epoch 3 | Loss: 0.28726431727409363 | Accuracy: 93.75%\n",
            "GB | Epoch 3 | Loss: 0.27118733525276184 | Accuracy: 93.75%\n"
          ]
        },
        {
          "output_type": "stream",
          "name": "stderr",
          "text": [
            "Epoch 3:  43%|████▎     | 322/751 [00:09<00:11, 38.76batch/s, accuracy=85.9375%, loss=0.363]"
          ]
        },
        {
          "output_type": "stream",
          "name": "stdout",
          "text": [
            "GB | Epoch 3 | Loss: 0.3674369752407074 | Accuracy: 85.9375%\n",
            "GB | Epoch 3 | Loss: 0.1650800257921219 | Accuracy: 96.875%\n",
            "GB | Epoch 3 | Loss: 0.15838134288787842 | Accuracy: 93.75%\n",
            "GB | Epoch 3 | Loss: 0.27896878123283386 | Accuracy: 87.5%\n",
            "GB | Epoch 3 | Loss: 0.2191220223903656 | Accuracy: 92.1875%\n",
            "GB | Epoch 3 | Loss: 0.24312129616737366 | Accuracy: 92.1875%\n",
            "GB | Epoch 3 | Loss: 0.2847154140472412 | Accuracy: 92.1875%\n",
            "GB | Epoch 3 | Loss: 0.3628603518009186 | Accuracy: 85.9375%\n"
          ]
        },
        {
          "output_type": "stream",
          "name": "stderr",
          "text": [
            "Epoch 3:  44%|████▍     | 330/751 [00:09<00:10, 38.64batch/s, accuracy=93.75%, loss=0.202]"
          ]
        },
        {
          "output_type": "stream",
          "name": "stdout",
          "text": [
            "GB | Epoch 3 | Loss: 0.33320876955986023 | Accuracy: 89.0625%\n",
            "GB | Epoch 3 | Loss: 0.29397645592689514 | Accuracy: 89.0625%\n",
            "GB | Epoch 3 | Loss: 0.2649911344051361 | Accuracy: 89.0625%\n",
            "GB | Epoch 3 | Loss: 0.26659080386161804 | Accuracy: 89.0625%\n",
            "GB | Epoch 3 | Loss: 0.3934642970561981 | Accuracy: 89.0625%\n",
            "GB | Epoch 3 | Loss: 0.3152506649494171 | Accuracy: 82.8125%\n",
            "GB | Epoch 3 | Loss: 0.3213096559047699 | Accuracy: 89.0625%\n",
            "GB | Epoch 3 | Loss: 0.2015649974346161 | Accuracy: 93.75%\n"
          ]
        },
        {
          "output_type": "stream",
          "name": "stderr",
          "text": [
            "Epoch 3:  45%|████▌     | 338/751 [00:10<00:11, 36.84batch/s, accuracy=87.5%, loss=0.431]"
          ]
        },
        {
          "output_type": "stream",
          "name": "stdout",
          "text": [
            "GB | Epoch 3 | Loss: 0.36165040731430054 | Accuracy: 92.1875%\n",
            "GB | Epoch 3 | Loss: 0.2160465270280838 | Accuracy: 93.75%\n",
            "GB | Epoch 3 | Loss: 0.28458359837532043 | Accuracy: 89.0625%\n",
            "GB | Epoch 3 | Loss: 0.33785536885261536 | Accuracy: 87.5%\n",
            "GB | Epoch 3 | Loss: 0.31483784317970276 | Accuracy: 87.5%\n",
            "GB | Epoch 3 | Loss: 0.2301606684923172 | Accuracy: 93.75%\n",
            "GB | Epoch 3 | Loss: 0.23171228170394897 | Accuracy: 95.3125%\n",
            "GB | Epoch 3 | Loss: 0.43137261271476746 | Accuracy: 87.5%\n"
          ]
        },
        {
          "output_type": "stream",
          "name": "stderr",
          "text": [
            "Epoch 3:  46%|████▌     | 346/751 [00:10<00:10, 37.34batch/s, accuracy=90.625%, loss=0.309]"
          ]
        },
        {
          "output_type": "stream",
          "name": "stdout",
          "text": [
            "GB | Epoch 3 | Loss: 0.3126703202724457 | Accuracy: 89.0625%\n",
            "GB | Epoch 3 | Loss: 0.3482891619205475 | Accuracy: 90.625%\n",
            "GB | Epoch 3 | Loss: 0.3382502496242523 | Accuracy: 92.1875%\n",
            "GB | Epoch 3 | Loss: 0.25845053791999817 | Accuracy: 93.75%\n",
            "GB | Epoch 3 | Loss: 0.24458445608615875 | Accuracy: 95.3125%\n",
            "GB | Epoch 3 | Loss: 0.3417593836784363 | Accuracy: 84.375%\n",
            "GB | Epoch 3 | Loss: 0.24169184267520905 | Accuracy: 93.75%\n",
            "GB | Epoch 3 | Loss: 0.3087134063243866 | Accuracy: 90.625%\n"
          ]
        },
        {
          "output_type": "stream",
          "name": "stderr",
          "text": [
            "Epoch 3:  47%|████▋     | 355/751 [00:10<00:10, 38.89batch/s, accuracy=90.625%, loss=0.302]"
          ]
        },
        {
          "output_type": "stream",
          "name": "stdout",
          "text": [
            "GB | Epoch 3 | Loss: 0.20420165359973907 | Accuracy: 95.3125%\n",
            "GB | Epoch 3 | Loss: 0.3438611328601837 | Accuracy: 90.625%\n",
            "GB | Epoch 3 | Loss: 0.32065558433532715 | Accuracy: 87.5%\n",
            "GB | Epoch 3 | Loss: 0.3535592257976532 | Accuracy: 87.5%\n",
            "GB | Epoch 3 | Loss: 0.20053333044052124 | Accuracy: 93.75%\n",
            "GB | Epoch 3 | Loss: 0.22392883896827698 | Accuracy: 92.1875%\n",
            "GB | Epoch 3 | Loss: 0.32997024059295654 | Accuracy: 89.0625%\n",
            "GB | Epoch 3 | Loss: 0.29472726583480835 | Accuracy: 89.0625%\n",
            "GB | Epoch 3 | Loss: 0.30182117223739624 | Accuracy: 90.625%\n"
          ]
        },
        {
          "output_type": "stream",
          "name": "stderr",
          "text": [
            "Epoch 3:  48%|████▊     | 363/751 [00:10<00:10, 38.53batch/s, accuracy=87.5%, loss=0.329]"
          ]
        },
        {
          "output_type": "stream",
          "name": "stdout",
          "text": [
            "GB | Epoch 3 | Loss: 0.2498975694179535 | Accuracy: 90.625%\n",
            "GB | Epoch 3 | Loss: 0.340498149394989 | Accuracy: 92.1875%\n",
            "GB | Epoch 3 | Loss: 0.400387167930603 | Accuracy: 82.8125%\n",
            "GB | Epoch 3 | Loss: 0.3199736177921295 | Accuracy: 89.0625%\n",
            "GB | Epoch 3 | Loss: 0.2838056683540344 | Accuracy: 90.625%\n",
            "GB | Epoch 3 | Loss: 0.36772435903549194 | Accuracy: 93.75%\n",
            "GB | Epoch 3 | Loss: 0.44687750935554504 | Accuracy: 85.9375%\n",
            "GB | Epoch 3 | Loss: 0.3290500044822693 | Accuracy: 87.5%\n"
          ]
        },
        {
          "output_type": "stream",
          "name": "stderr",
          "text": [
            "Epoch 3:  49%|████▉     | 371/751 [00:11<00:09, 39.09batch/s, accuracy=93.75%, loss=0.222]"
          ]
        },
        {
          "output_type": "stream",
          "name": "stdout",
          "text": [
            "GB | Epoch 3 | Loss: 0.3383159935474396 | Accuracy: 89.0625%\n",
            "GB | Epoch 3 | Loss: 0.3788508176803589 | Accuracy: 87.5%\n",
            "GB | Epoch 3 | Loss: 0.29023462533950806 | Accuracy: 93.75%\n",
            "GB | Epoch 3 | Loss: 0.2705119848251343 | Accuracy: 92.1875%\n",
            "GB | Epoch 3 | Loss: 0.33196547627449036 | Accuracy: 93.75%\n",
            "GB | Epoch 3 | Loss: 0.4036293029785156 | Accuracy: 84.375%\n",
            "GB | Epoch 3 | Loss: 0.18433710932731628 | Accuracy: 95.3125%\n",
            "GB | Epoch 3 | Loss: 0.28986626863479614 | Accuracy: 90.625%\n",
            "GB | Epoch 3 | Loss: 0.22229157388210297 | Accuracy: 93.75%\n"
          ]
        },
        {
          "output_type": "stream",
          "name": "stderr",
          "text": [
            "Epoch 3:  50%|█████     | 379/751 [00:11<00:09, 37.72batch/s, accuracy=90.625%, loss=0.237]"
          ]
        },
        {
          "output_type": "stream",
          "name": "stdout",
          "text": [
            "GB | Epoch 3 | Loss: 0.338280588388443 | Accuracy: 95.3125%\n",
            "GB | Epoch 3 | Loss: 0.3457806706428528 | Accuracy: 85.9375%\n",
            "GB | Epoch 3 | Loss: 0.40860071778297424 | Accuracy: 87.5%\n",
            "GB | Epoch 3 | Loss: 0.25018826127052307 | Accuracy: 92.1875%\n",
            "GB | Epoch 3 | Loss: 0.3312028646469116 | Accuracy: 84.375%\n",
            "GB | Epoch 3 | Loss: 0.271380752325058 | Accuracy: 89.0625%\n",
            "GB | Epoch 3 | Loss: 0.41543370485305786 | Accuracy: 87.5%\n",
            "GB | Epoch 3 | Loss: 0.23737038671970367 | Accuracy: 90.625%\n"
          ]
        },
        {
          "output_type": "stream",
          "name": "stderr",
          "text": [
            "Epoch 3:  52%|█████▏    | 388/751 [00:11<00:09, 38.92batch/s, accuracy=92.1875%, loss=0.233]"
          ]
        },
        {
          "output_type": "stream",
          "name": "stdout",
          "text": [
            "GB | Epoch 3 | Loss: 0.2370477020740509 | Accuracy: 92.1875%\n",
            "GB | Epoch 3 | Loss: 0.37163493037223816 | Accuracy: 87.5%\n",
            "GB | Epoch 3 | Loss: 0.22021107375621796 | Accuracy: 96.875%\n",
            "GB | Epoch 3 | Loss: 0.21267203986644745 | Accuracy: 96.875%\n",
            "GB | Epoch 3 | Loss: 0.28948649764060974 | Accuracy: 92.1875%\n",
            "GB | Epoch 3 | Loss: 0.1528075933456421 | Accuracy: 95.3125%\n",
            "GB | Epoch 3 | Loss: 0.20904582738876343 | Accuracy: 92.1875%\n",
            "GB | Epoch 3 | Loss: 0.23345230519771576 | Accuracy: 92.1875%\n"
          ]
        },
        {
          "output_type": "stream",
          "name": "stderr",
          "text": [
            "Epoch 3:  53%|█████▎    | 396/751 [00:11<00:09, 38.53batch/s, accuracy=92.1875%, loss=0.26]"
          ]
        },
        {
          "output_type": "stream",
          "name": "stdout",
          "text": [
            "GB | Epoch 3 | Loss: 0.4010453224182129 | Accuracy: 92.1875%\n",
            "GB | Epoch 3 | Loss: 0.20387428998947144 | Accuracy: 96.875%\n",
            "GB | Epoch 3 | Loss: 0.22907471656799316 | Accuracy: 92.1875%\n",
            "GB | Epoch 3 | Loss: 0.19324307143688202 | Accuracy: 95.3125%\n",
            "GB | Epoch 3 | Loss: 0.3483511507511139 | Accuracy: 87.5%\n",
            "GB | Epoch 3 | Loss: 0.2570173740386963 | Accuracy: 95.3125%\n",
            "GB | Epoch 3 | Loss: 0.30560293793678284 | Accuracy: 92.1875%\n",
            "GB | Epoch 3 | Loss: 0.26022258400917053 | Accuracy: 92.1875%\n"
          ]
        },
        {
          "output_type": "stream",
          "name": "stderr",
          "text": [
            "Epoch 3:  53%|█████▎    | 401/751 [00:11<00:08, 39.06batch/s, accuracy=90.625%, loss=0.248] "
          ]
        },
        {
          "output_type": "stream",
          "name": "stdout",
          "text": [
            "GB | Epoch 3 | Loss: 0.29404157400131226 | Accuracy: 85.9375%\n",
            "GB | Epoch 3 | Loss: 0.37981709837913513 | Accuracy: 90.625%\n",
            "GB | Epoch 3 | Loss: 0.4009701609611511 | Accuracy: 87.5%\n",
            "GB | Epoch 3 | Loss: 0.19517916440963745 | Accuracy: 95.3125%\n",
            "GB | Epoch 3 | Loss: 0.2666064500808716 | Accuracy: 92.1875%\n",
            "GB | Epoch 3 | Loss: 0.24247591197490692 | Accuracy: 92.1875%\n",
            "GB | Epoch 3 | Loss: 0.2651536762714386 | Accuracy: 92.1875%\n",
            "GB | Epoch 3 | Loss: 0.32448118925094604 | Accuracy: 92.1875%\n",
            "GB | Epoch 3 | Loss: 0.24792204797267914 | Accuracy: 90.625%\n"
          ]
        },
        {
          "output_type": "stream",
          "name": "stderr",
          "text": [
            "Epoch 3:  55%|█████▍    | 410/751 [00:12<00:08, 39.23batch/s, accuracy=93.75%, loss=0.188]"
          ]
        },
        {
          "output_type": "stream",
          "name": "stdout",
          "text": [
            "GB | Epoch 3 | Loss: 0.2637374699115753 | Accuracy: 93.75%\n",
            "GB | Epoch 3 | Loss: 0.3090600371360779 | Accuracy: 92.1875%\n",
            "GB | Epoch 3 | Loss: 0.18340446054935455 | Accuracy: 95.3125%\n",
            "GB | Epoch 3 | Loss: 0.26363399624824524 | Accuracy: 92.1875%\n",
            "GB | Epoch 3 | Loss: 0.33846694231033325 | Accuracy: 89.0625%\n",
            "GB | Epoch 3 | Loss: 0.4201115071773529 | Accuracy: 85.9375%\n",
            "GB | Epoch 3 | Loss: 0.3501572906970978 | Accuracy: 84.375%\n",
            "GB | Epoch 3 | Loss: 0.1876303255558014 | Accuracy: 93.75%\n"
          ]
        },
        {
          "output_type": "stream",
          "name": "stderr",
          "text": [
            "Epoch 3:  56%|█████▌    | 418/751 [00:12<00:08, 37.01batch/s, accuracy=92.1875%, loss=0.23] "
          ]
        },
        {
          "output_type": "stream",
          "name": "stdout",
          "text": [
            "GB | Epoch 3 | Loss: 0.25096821784973145 | Accuracy: 93.75%\n",
            "GB | Epoch 3 | Loss: 0.2960015833377838 | Accuracy: 93.75%\n",
            "GB | Epoch 3 | Loss: 0.45904067158699036 | Accuracy: 87.5%\n",
            "GB | Epoch 3 | Loss: 0.2717362642288208 | Accuracy: 89.0625%\n",
            "GB | Epoch 3 | Loss: 0.32767584919929504 | Accuracy: 90.625%\n",
            "GB | Epoch 3 | Loss: 0.2394775003194809 | Accuracy: 85.9375%\n",
            "GB | Epoch 3 | Loss: 0.23079679906368256 | Accuracy: 92.1875%\n",
            "GB | Epoch 3 | Loss: 0.22955267131328583 | Accuracy: 92.1875%\n"
          ]
        },
        {
          "output_type": "stream",
          "name": "stderr",
          "text": [
            "Epoch 3:  57%|█████▋    | 426/751 [00:12<00:08, 37.66batch/s, accuracy=93.75%, loss=0.25]   "
          ]
        },
        {
          "output_type": "stream",
          "name": "stdout",
          "text": [
            "GB | Epoch 3 | Loss: 0.3244745135307312 | Accuracy: 89.0625%\n",
            "GB | Epoch 3 | Loss: 0.4408523738384247 | Accuracy: 90.625%\n",
            "GB | Epoch 3 | Loss: 0.20747867226600647 | Accuracy: 95.3125%\n",
            "GB | Epoch 3 | Loss: 0.38895881175994873 | Accuracy: 90.625%\n",
            "GB | Epoch 3 | Loss: 0.36355656385421753 | Accuracy: 87.5%\n",
            "GB | Epoch 3 | Loss: 0.21949045360088348 | Accuracy: 93.75%\n",
            "GB | Epoch 3 | Loss: 0.2934390604496002 | Accuracy: 92.1875%\n",
            "GB | Epoch 3 | Loss: 0.24982859194278717 | Accuracy: 93.75%\n"
          ]
        },
        {
          "output_type": "stream",
          "name": "stderr",
          "text": [
            "Epoch 3:  58%|█████▊    | 434/751 [00:12<00:08, 38.12batch/s, accuracy=85.9375%, loss=0.378]"
          ]
        },
        {
          "output_type": "stream",
          "name": "stdout",
          "text": [
            "GB | Epoch 3 | Loss: 0.22556598484516144 | Accuracy: 95.3125%\n",
            "GB | Epoch 3 | Loss: 0.24762189388275146 | Accuracy: 92.1875%\n",
            "GB | Epoch 3 | Loss: 0.20053644478321075 | Accuracy: 93.75%\n",
            "GB | Epoch 3 | Loss: 0.23739762604236603 | Accuracy: 93.75%\n",
            "GB | Epoch 3 | Loss: 0.5095959901809692 | Accuracy: 84.375%\n",
            "GB | Epoch 3 | Loss: 0.43097373843193054 | Accuracy: 89.0625%\n",
            "GB | Epoch 3 | Loss: 0.3369463384151459 | Accuracy: 87.5%\n",
            "GB | Epoch 3 | Loss: 0.3779865503311157 | Accuracy: 85.9375%\n"
          ]
        },
        {
          "output_type": "stream",
          "name": "stderr",
          "text": [
            "Epoch 3:  59%|█████▉    | 443/751 [00:12<00:08, 38.45batch/s, accuracy=95.3125%, loss=0.241]"
          ]
        },
        {
          "output_type": "stream",
          "name": "stdout",
          "text": [
            "GB | Epoch 3 | Loss: 0.28164079785346985 | Accuracy: 92.1875%\n",
            "GB | Epoch 3 | Loss: 0.23520183563232422 | Accuracy: 92.1875%\n",
            "GB | Epoch 3 | Loss: 0.3200473487377167 | Accuracy: 90.625%\n",
            "GB | Epoch 3 | Loss: 0.21524566411972046 | Accuracy: 93.75%\n",
            "GB | Epoch 3 | Loss: 0.2535642087459564 | Accuracy: 90.625%\n",
            "GB | Epoch 3 | Loss: 0.20025913417339325 | Accuracy: 93.75%\n",
            "GB | Epoch 3 | Loss: 0.2973859906196594 | Accuracy: 92.1875%\n",
            "GB | Epoch 3 | Loss: 0.24103723466396332 | Accuracy: 95.3125%\n"
          ]
        },
        {
          "output_type": "stream",
          "name": "stderr",
          "text": [
            "Epoch 3:  60%|██████    | 452/751 [00:13<00:07, 38.93batch/s, accuracy=92.1875%, loss=0.248]"
          ]
        },
        {
          "output_type": "stream",
          "name": "stdout",
          "text": [
            "GB | Epoch 3 | Loss: 0.18535344302654266 | Accuracy: 95.3125%\n",
            "GB | Epoch 3 | Loss: 0.19501832127571106 | Accuracy: 93.75%\n",
            "GB | Epoch 3 | Loss: 0.5140165090560913 | Accuracy: 87.5%\n",
            "GB | Epoch 3 | Loss: 0.22693242132663727 | Accuracy: 92.1875%\n",
            "GB | Epoch 3 | Loss: 0.2608763575553894 | Accuracy: 93.75%\n",
            "GB | Epoch 3 | Loss: 0.2340434491634369 | Accuracy: 92.1875%\n",
            "GB | Epoch 3 | Loss: 0.3114229440689087 | Accuracy: 90.625%\n",
            "GB | Epoch 3 | Loss: 0.24825385212898254 | Accuracy: 92.1875%\n"
          ]
        },
        {
          "output_type": "stream",
          "name": "stderr",
          "text": [
            "Epoch 3:  61%|██████▏   | 460/751 [00:13<00:07, 36.87batch/s, accuracy=95.3125%, loss=0.293]"
          ]
        },
        {
          "output_type": "stream",
          "name": "stdout",
          "text": [
            "GB | Epoch 3 | Loss: 0.19698309898376465 | Accuracy: 93.75%\n",
            "GB | Epoch 3 | Loss: 0.297230064868927 | Accuracy: 89.0625%\n",
            "GB | Epoch 3 | Loss: 0.2112688422203064 | Accuracy: 92.1875%\n",
            "GB | Epoch 3 | Loss: 0.35718709230422974 | Accuracy: 87.5%\n",
            "GB | Epoch 3 | Loss: 0.23161906003952026 | Accuracy: 95.3125%\n",
            "GB | Epoch 3 | Loss: 0.23210781812667847 | Accuracy: 96.875%\n",
            "GB | Epoch 3 | Loss: 0.19787107408046722 | Accuracy: 96.875%\n",
            "GB | Epoch 3 | Loss: 0.29263606667518616 | Accuracy: 95.3125%\n"
          ]
        },
        {
          "output_type": "stream",
          "name": "stderr",
          "text": [
            "Epoch 3:  62%|██████▏   | 469/751 [00:13<00:07, 37.85batch/s, accuracy=93.75%, loss=0.211]  "
          ]
        },
        {
          "output_type": "stream",
          "name": "stdout",
          "text": [
            "GB | Epoch 3 | Loss: 0.2698286473751068 | Accuracy: 90.625%\n",
            "GB | Epoch 3 | Loss: 0.34810736775398254 | Accuracy: 85.9375%\n",
            "GB | Epoch 3 | Loss: 0.22402328252792358 | Accuracy: 93.75%\n",
            "GB | Epoch 3 | Loss: 0.29702556133270264 | Accuracy: 92.1875%\n",
            "GB | Epoch 3 | Loss: 0.1396094113588333 | Accuracy: 93.75%\n",
            "GB | Epoch 3 | Loss: 0.1696617603302002 | Accuracy: 95.3125%\n",
            "GB | Epoch 3 | Loss: 0.2384335845708847 | Accuracy: 93.75%\n",
            "GB | Epoch 3 | Loss: 0.22841915488243103 | Accuracy: 92.1875%\n",
            "GB | Epoch 3 | Loss: 0.21082350611686707 | Accuracy: 93.75%\n"
          ]
        },
        {
          "output_type": "stream",
          "name": "stderr",
          "text": [
            "Epoch 3:  64%|██████▎   | 478/751 [00:13<00:07, 38.55batch/s, accuracy=95.3125%, loss=0.227]"
          ]
        },
        {
          "output_type": "stream",
          "name": "stdout",
          "text": [
            "GB | Epoch 3 | Loss: 0.1696721613407135 | Accuracy: 93.75%\n",
            "GB | Epoch 3 | Loss: 0.34935832023620605 | Accuracy: 89.0625%\n",
            "GB | Epoch 3 | Loss: 0.34861892461776733 | Accuracy: 89.0625%\n",
            "GB | Epoch 3 | Loss: 0.23436196148395538 | Accuracy: 90.625%\n",
            "GB | Epoch 3 | Loss: 0.20194293558597565 | Accuracy: 96.875%\n",
            "GB | Epoch 3 | Loss: 0.19416412711143494 | Accuracy: 92.1875%\n",
            "GB | Epoch 3 | Loss: 0.29918530583381653 | Accuracy: 90.625%\n",
            "GB | Epoch 3 | Loss: 0.35455256700515747 | Accuracy: 84.375%\n",
            "GB | Epoch 3 | Loss: 0.2267271727323532 | Accuracy: 95.3125%\n"
          ]
        },
        {
          "output_type": "stream",
          "name": "stderr",
          "text": [
            "Epoch 3:  65%|██████▍   | 486/751 [00:14<00:06, 38.81batch/s, accuracy=90.625%, loss=0.432]"
          ]
        },
        {
          "output_type": "stream",
          "name": "stdout",
          "text": [
            "GB | Epoch 3 | Loss: 0.2796964645385742 | Accuracy: 90.625%\n",
            "GB | Epoch 3 | Loss: 0.27518677711486816 | Accuracy: 90.625%\n",
            "GB | Epoch 3 | Loss: 0.15150879323482513 | Accuracy: 96.875%\n",
            "GB | Epoch 3 | Loss: 0.30971232056617737 | Accuracy: 90.625%\n",
            "GB | Epoch 3 | Loss: 0.23872846364974976 | Accuracy: 92.1875%\n",
            "GB | Epoch 3 | Loss: 0.32122802734375 | Accuracy: 87.5%\n",
            "GB | Epoch 3 | Loss: 0.3606991469860077 | Accuracy: 87.5%\n",
            "GB | Epoch 3 | Loss: 0.4320731461048126 | Accuracy: 90.625%\n"
          ]
        },
        {
          "output_type": "stream",
          "name": "stderr",
          "text": [
            "Epoch 3:  66%|██████▌   | 494/751 [00:14<00:06, 38.65batch/s, accuracy=92.1875%, loss=0.227]"
          ]
        },
        {
          "output_type": "stream",
          "name": "stdout",
          "text": [
            "GB | Epoch 3 | Loss: 0.27635353803634644 | Accuracy: 89.0625%\n",
            "GB | Epoch 3 | Loss: 0.2611355781555176 | Accuracy: 92.1875%\n",
            "GB | Epoch 3 | Loss: 0.41007864475250244 | Accuracy: 89.0625%\n",
            "GB | Epoch 3 | Loss: 0.39547112584114075 | Accuracy: 89.0625%\n",
            "GB | Epoch 3 | Loss: 0.19705159962177277 | Accuracy: 92.1875%\n",
            "GB | Epoch 3 | Loss: 0.1146112009882927 | Accuracy: 98.4375%\n",
            "GB | Epoch 3 | Loss: 0.3270013928413391 | Accuracy: 89.0625%\n",
            "GB | Epoch 3 | Loss: 0.22671133279800415 | Accuracy: 92.1875%\n"
          ]
        },
        {
          "output_type": "stream",
          "name": "stderr",
          "text": [
            "Epoch 3:  66%|██████▋   | 498/751 [00:14<00:07, 34.94batch/s, accuracy=95.3125%, loss=0.365]"
          ]
        },
        {
          "output_type": "stream",
          "name": "stdout",
          "text": [
            "GB | Epoch 3 | Loss: 0.20155853033065796 | Accuracy: 96.875%\n",
            "GB | Epoch 3 | Loss: 0.2380485087633133 | Accuracy: 93.75%\n",
            "GB | Epoch 3 | Loss: 0.21872271597385406 | Accuracy: 92.1875%\n",
            "GB | Epoch 3 | Loss: 0.43565404415130615 | Accuracy: 95.3125%\n",
            "GB | Epoch 3 | Loss: 0.20295508205890656 | Accuracy: 95.3125%\n",
            "GB | Epoch 3 | Loss: 0.36513233184814453 | Accuracy: 95.3125%\n"
          ]
        },
        {
          "output_type": "stream",
          "name": "stderr",
          "text": [
            "Epoch 3:  67%|██████▋   | 506/751 [00:14<00:08, 30.56batch/s, accuracy=95.3125%, loss=0.27]"
          ]
        },
        {
          "output_type": "stream",
          "name": "stdout",
          "text": [
            "GB | Epoch 3 | Loss: 0.3153696060180664 | Accuracy: 87.5%\n",
            "GB | Epoch 3 | Loss: 0.23138786852359772 | Accuracy: 89.0625%\n",
            "GB | Epoch 3 | Loss: 0.25531914830207825 | Accuracy: 90.625%\n",
            "GB | Epoch 3 | Loss: 0.14193937182426453 | Accuracy: 100.0%\n",
            "GB | Epoch 3 | Loss: 0.18229500949382782 | Accuracy: 96.875%\n",
            "GB | Epoch 3 | Loss: 0.26995912194252014 | Accuracy: 95.3125%\n"
          ]
        },
        {
          "output_type": "stream",
          "name": "stderr",
          "text": [
            "Epoch 3:  69%|██████▊   | 515/751 [00:14<00:07, 31.88batch/s, accuracy=93.75%, loss=0.209]"
          ]
        },
        {
          "output_type": "stream",
          "name": "stdout",
          "text": [
            "GB | Epoch 3 | Loss: 0.1895289272069931 | Accuracy: 95.3125%\n",
            "GB | Epoch 3 | Loss: 0.33742955327033997 | Accuracy: 90.625%\n",
            "GB | Epoch 3 | Loss: 0.21923986077308655 | Accuracy: 87.5%\n",
            "GB | Epoch 3 | Loss: 0.1842496246099472 | Accuracy: 98.4375%\n",
            "GB | Epoch 3 | Loss: 0.226204976439476 | Accuracy: 93.75%\n",
            "GB | Epoch 3 | Loss: 0.13294826447963715 | Accuracy: 93.75%\n",
            "GB | Epoch 3 | Loss: 0.20999421179294586 | Accuracy: 95.3125%\n",
            "GB | Epoch 3 | Loss: 0.20884022116661072 | Accuracy: 93.75%\n"
          ]
        },
        {
          "output_type": "stream",
          "name": "stderr",
          "text": [
            "Epoch 3:  69%|██████▉   | 519/751 [00:15<00:06, 33.33batch/s, accuracy=100.0%, loss=0.134]  "
          ]
        },
        {
          "output_type": "stream",
          "name": "stdout",
          "text": [
            "GB | Epoch 3 | Loss: 0.18030975759029388 | Accuracy: 96.875%\n",
            "GB | Epoch 3 | Loss: 0.21267198026180267 | Accuracy: 95.3125%\n",
            "GB | Epoch 3 | Loss: 0.1403190940618515 | Accuracy: 96.875%\n",
            "GB | Epoch 3 | Loss: 0.19140134751796722 | Accuracy: 93.75%\n",
            "GB | Epoch 3 | Loss: 0.32385963201522827 | Accuracy: 85.9375%\n",
            "GB | Epoch 3 | Loss: 0.26854491233825684 | Accuracy: 95.3125%\n",
            "GB | Epoch 3 | Loss: 0.3574828505516052 | Accuracy: 85.9375%\n",
            "GB | Epoch 3 | Loss: 0.13392631709575653 | Accuracy: 100.0%\n"
          ]
        },
        {
          "output_type": "stream",
          "name": "stderr",
          "text": [
            "Epoch 3:  70%|███████   | 528/751 [00:15<00:06, 36.09batch/s, accuracy=98.4375%, loss=0.151]"
          ]
        },
        {
          "output_type": "stream",
          "name": "stdout",
          "text": [
            "GB | Epoch 3 | Loss: 0.15090236067771912 | Accuracy: 96.875%\n",
            "GB | Epoch 3 | Loss: 0.1916239857673645 | Accuracy: 95.3125%\n",
            "GB | Epoch 3 | Loss: 0.20422735810279846 | Accuracy: 92.1875%\n",
            "GB | Epoch 3 | Loss: 0.2803637981414795 | Accuracy: 92.1875%\n",
            "GB | Epoch 3 | Loss: 0.2389817088842392 | Accuracy: 92.1875%\n",
            "GB | Epoch 3 | Loss: 0.17883026599884033 | Accuracy: 96.875%\n",
            "GB | Epoch 3 | Loss: 0.13619671761989594 | Accuracy: 100.0%\n",
            "GB | Epoch 3 | Loss: 0.15062102675437927 | Accuracy: 98.4375%\n"
          ]
        },
        {
          "output_type": "stream",
          "name": "stderr",
          "text": [
            "Epoch 3:  71%|███████▏  | 536/751 [00:15<00:06, 33.84batch/s, accuracy=93.75%, loss=0.271]"
          ]
        },
        {
          "output_type": "stream",
          "name": "stdout",
          "text": [
            "GB | Epoch 3 | Loss: 0.17101958394050598 | Accuracy: 96.875%\n",
            "GB | Epoch 3 | Loss: 0.1887393742799759 | Accuracy: 95.3125%\n",
            "GB | Epoch 3 | Loss: 0.22018109261989594 | Accuracy: 95.3125%\n",
            "GB | Epoch 3 | Loss: 0.2089211344718933 | Accuracy: 92.1875%\n",
            "GB | Epoch 3 | Loss: 0.3828311562538147 | Accuracy: 93.75%\n",
            "GB | Epoch 3 | Loss: 0.270946741104126 | Accuracy: 93.75%\n"
          ]
        },
        {
          "output_type": "stream",
          "name": "stderr",
          "text": [
            "Epoch 3:  72%|███████▏  | 540/751 [00:15<00:06, 32.31batch/s, accuracy=95.3125%, loss=0.17] "
          ]
        },
        {
          "output_type": "stream",
          "name": "stdout",
          "text": [
            "GB | Epoch 3 | Loss: 0.2229532152414322 | Accuracy: 95.3125%\n",
            "GB | Epoch 3 | Loss: 0.23514103889465332 | Accuracy: 93.75%\n",
            "GB | Epoch 3 | Loss: 0.2641855776309967 | Accuracy: 90.625%\n",
            "GB | Epoch 3 | Loss: 0.2440364956855774 | Accuracy: 92.1875%\n",
            "GB | Epoch 3 | Loss: 0.22827957570552826 | Accuracy: 95.3125%\n",
            "GB | Epoch 3 | Loss: 0.17011941969394684 | Accuracy: 95.3125%\n"
          ]
        },
        {
          "output_type": "stream",
          "name": "stderr",
          "text": [
            "Epoch 3:  73%|███████▎  | 548/751 [00:15<00:06, 29.49batch/s, accuracy=89.0625%, loss=0.346]"
          ]
        },
        {
          "output_type": "stream",
          "name": "stdout",
          "text": [
            "GB | Epoch 3 | Loss: 0.21507130563259125 | Accuracy: 92.1875%\n",
            "GB | Epoch 3 | Loss: 0.20292410254478455 | Accuracy: 93.75%\n",
            "GB | Epoch 3 | Loss: 0.3340093493461609 | Accuracy: 90.625%\n",
            "GB | Epoch 3 | Loss: 0.45505768060684204 | Accuracy: 90.625%\n",
            "GB | Epoch 3 | Loss: 0.18461571633815765 | Accuracy: 98.4375%\n",
            "GB | Epoch 3 | Loss: 0.3457973301410675 | Accuracy: 89.0625%\n"
          ]
        },
        {
          "output_type": "stream",
          "name": "stderr",
          "text": [
            "Epoch 3:  74%|███████▍  | 554/751 [00:16<00:07, 28.06batch/s, accuracy=95.3125%, loss=0.251]"
          ]
        },
        {
          "output_type": "stream",
          "name": "stdout",
          "text": [
            "GB | Epoch 3 | Loss: 0.16782435774803162 | Accuracy: 95.3125%\n",
            "GB | Epoch 3 | Loss: 0.3361349403858185 | Accuracy: 87.5%\n",
            "GB | Epoch 3 | Loss: 0.23458370566368103 | Accuracy: 92.1875%\n",
            "GB | Epoch 3 | Loss: 0.09118962287902832 | Accuracy: 96.875%\n",
            "GB | Epoch 3 | Loss: 0.32724934816360474 | Accuracy: 92.1875%\n",
            "GB | Epoch 3 | Loss: 0.25108322501182556 | Accuracy: 95.3125%\n"
          ]
        },
        {
          "output_type": "stream",
          "name": "stderr",
          "text": [
            "Epoch 3:  75%|███████▍  | 561/751 [00:16<00:06, 29.26batch/s, accuracy=87.5%, loss=0.294] "
          ]
        },
        {
          "output_type": "stream",
          "name": "stdout",
          "text": [
            "GB | Epoch 3 | Loss: 0.33640381693840027 | Accuracy: 87.5%\n",
            "GB | Epoch 3 | Loss: 0.33280956745147705 | Accuracy: 90.625%\n",
            "GB | Epoch 3 | Loss: 0.22079209983348846 | Accuracy: 93.75%\n",
            "GB | Epoch 3 | Loss: 0.20636136829853058 | Accuracy: 96.875%\n",
            "GB | Epoch 3 | Loss: 0.2866476774215698 | Accuracy: 90.625%\n",
            "GB | Epoch 3 | Loss: 0.2168070375919342 | Accuracy: 93.75%\n",
            "GB | Epoch 3 | Loss: 0.2940250635147095 | Accuracy: 87.5%\n"
          ]
        },
        {
          "output_type": "stream",
          "name": "stderr",
          "text": [
            "Epoch 3:  75%|███████▌  | 567/751 [00:16<00:06, 28.11batch/s, accuracy=92.1875%, loss=0.408]"
          ]
        },
        {
          "output_type": "stream",
          "name": "stdout",
          "text": [
            "GB | Epoch 3 | Loss: 0.20176038146018982 | Accuracy: 93.75%\n",
            "GB | Epoch 3 | Loss: 0.21458609402179718 | Accuracy: 90.625%\n",
            "GB | Epoch 3 | Loss: 0.2079373151063919 | Accuracy: 96.875%\n",
            "GB | Epoch 3 | Loss: 0.2225104123353958 | Accuracy: 95.3125%\n",
            "GB | Epoch 3 | Loss: 0.13900665938854218 | Accuracy: 95.3125%\n",
            "GB | Epoch 3 | Loss: 0.4082157015800476 | Accuracy: 92.1875%\n"
          ]
        },
        {
          "output_type": "stream",
          "name": "stderr",
          "text": [
            "Epoch 3:  76%|███████▋  | 573/751 [00:16<00:06, 26.47batch/s, accuracy=92.1875%, loss=0.282]"
          ]
        },
        {
          "output_type": "stream",
          "name": "stdout",
          "text": [
            "GB | Epoch 3 | Loss: 0.16147929430007935 | Accuracy: 93.75%\n",
            "GB | Epoch 3 | Loss: 0.29258081316947937 | Accuracy: 89.0625%\n",
            "GB | Epoch 3 | Loss: 0.27736473083496094 | Accuracy: 90.625%\n",
            "GB | Epoch 3 | Loss: 0.2051592916250229 | Accuracy: 95.3125%\n",
            "GB | Epoch 3 | Loss: 0.28195372223854065 | Accuracy: 92.1875%\n"
          ]
        },
        {
          "output_type": "stream",
          "name": "stderr",
          "text": [
            "Epoch 3:  77%|███████▋  | 579/751 [00:17<00:06, 26.81batch/s, accuracy=92.1875%, loss=0.251]"
          ]
        },
        {
          "output_type": "stream",
          "name": "stdout",
          "text": [
            "GB | Epoch 3 | Loss: 0.22684459388256073 | Accuracy: 93.75%\n",
            "GB | Epoch 3 | Loss: 0.1605248600244522 | Accuracy: 96.875%\n",
            "GB | Epoch 3 | Loss: 0.34683912992477417 | Accuracy: 92.1875%\n",
            "GB | Epoch 3 | Loss: 0.10145460814237595 | Accuracy: 98.4375%\n",
            "GB | Epoch 3 | Loss: 0.3192700147628784 | Accuracy: 92.1875%\n",
            "GB | Epoch 3 | Loss: 0.2508096992969513 | Accuracy: 92.1875%\n"
          ]
        },
        {
          "output_type": "stream",
          "name": "stderr",
          "text": [
            "Epoch 3:  78%|███████▊  | 585/751 [00:17<00:06, 26.10batch/s, accuracy=95.3125%, loss=0.176]"
          ]
        },
        {
          "output_type": "stream",
          "name": "stdout",
          "text": [
            "GB | Epoch 3 | Loss: 0.12775172293186188 | Accuracy: 98.4375%\n",
            "GB | Epoch 3 | Loss: 0.14037491381168365 | Accuracy: 96.875%\n",
            "GB | Epoch 3 | Loss: 0.15279552340507507 | Accuracy: 95.3125%\n",
            "GB | Epoch 3 | Loss: 0.1857701539993286 | Accuracy: 96.875%\n",
            "GB | Epoch 3 | Loss: 0.12313530594110489 | Accuracy: 93.75%\n",
            "GB | Epoch 3 | Loss: 0.1755499690771103 | Accuracy: 95.3125%\n"
          ]
        },
        {
          "output_type": "stream",
          "name": "stderr",
          "text": [
            "Epoch 3:  79%|███████▊  | 591/751 [00:17<00:05, 26.95batch/s, accuracy=92.1875%, loss=0.263]"
          ]
        },
        {
          "output_type": "stream",
          "name": "stdout",
          "text": [
            "GB | Epoch 3 | Loss: 0.12852762639522552 | Accuracy: 98.4375%\n",
            "GB | Epoch 3 | Loss: 0.16584983468055725 | Accuracy: 95.3125%\n",
            "GB | Epoch 3 | Loss: 0.23469656705856323 | Accuracy: 90.625%\n",
            "GB | Epoch 3 | Loss: 0.2316824197769165 | Accuracy: 93.75%\n",
            "GB | Epoch 3 | Loss: 0.19975769519805908 | Accuracy: 95.3125%\n",
            "GB | Epoch 3 | Loss: 0.2632700204849243 | Accuracy: 92.1875%\n"
          ]
        },
        {
          "output_type": "stream",
          "name": "stderr",
          "text": [
            "Epoch 3:  80%|███████▉  | 598/751 [00:17<00:05, 29.08batch/s, accuracy=87.5%, loss=0.436]"
          ]
        },
        {
          "output_type": "stream",
          "name": "stdout",
          "text": [
            "GB | Epoch 3 | Loss: 0.20024622976779938 | Accuracy: 95.3125%\n",
            "GB | Epoch 3 | Loss: 0.24000471830368042 | Accuracy: 95.3125%\n",
            "GB | Epoch 3 | Loss: 0.25126713514328003 | Accuracy: 93.75%\n",
            "GB | Epoch 3 | Loss: 0.15541282296180725 | Accuracy: 96.875%\n",
            "GB | Epoch 3 | Loss: 0.16309191286563873 | Accuracy: 95.3125%\n",
            "GB | Epoch 3 | Loss: 0.12828925251960754 | Accuracy: 96.875%\n",
            "GB | Epoch 3 | Loss: 0.4356447160243988 | Accuracy: 87.5%\n"
          ]
        },
        {
          "output_type": "stream",
          "name": "stderr",
          "text": [
            "Epoch 3:  80%|████████  | 602/751 [00:17<00:04, 30.28batch/s, accuracy=98.4375%, loss=0.133]"
          ]
        },
        {
          "output_type": "stream",
          "name": "stdout",
          "text": [
            "GB | Epoch 3 | Loss: 0.32029449939727783 | Accuracy: 93.75%\n",
            "GB | Epoch 3 | Loss: 0.2088257372379303 | Accuracy: 93.75%\n",
            "GB | Epoch 3 | Loss: 0.18848446011543274 | Accuracy: 93.75%\n",
            "GB | Epoch 3 | Loss: 0.40291905403137207 | Accuracy: 90.625%\n",
            "GB | Epoch 3 | Loss: 0.18981799483299255 | Accuracy: 93.75%\n",
            "GB | Epoch 3 | Loss: 0.13342007994651794 | Accuracy: 98.4375%\n"
          ]
        },
        {
          "output_type": "stream",
          "name": "stderr",
          "text": [
            "Epoch 3:  81%|████████  | 609/751 [00:18<00:05, 25.06batch/s, accuracy=90.625%, loss=0.232]"
          ]
        },
        {
          "output_type": "stream",
          "name": "stdout",
          "text": [
            "GB | Epoch 3 | Loss: 0.33178484439849854 | Accuracy: 87.5%\n",
            "GB | Epoch 3 | Loss: 0.2767333686351776 | Accuracy: 89.0625%\n",
            "GB | Epoch 3 | Loss: 0.29368856549263 | Accuracy: 90.625%\n",
            "GB | Epoch 3 | Loss: 0.2753121256828308 | Accuracy: 92.1875%\n",
            "GB | Epoch 3 | Loss: 0.23177264630794525 | Accuracy: 90.625%\n"
          ]
        },
        {
          "output_type": "stream",
          "name": "stderr",
          "text": [
            "Epoch 3:  81%|████████▏ | 612/751 [00:18<00:05, 24.55batch/s, accuracy=98.4375%, loss=0.155]"
          ]
        },
        {
          "output_type": "stream",
          "name": "stdout",
          "text": [
            "GB | Epoch 3 | Loss: 0.1577938199043274 | Accuracy: 96.875%\n",
            "GB | Epoch 3 | Loss: 0.19905191659927368 | Accuracy: 93.75%\n",
            "GB | Epoch 3 | Loss: 0.25154349207878113 | Accuracy: 93.75%\n",
            "GB | Epoch 3 | Loss: 0.19088661670684814 | Accuracy: 95.3125%\n",
            "GB | Epoch 3 | Loss: 0.1554494947195053 | Accuracy: 98.4375%\n"
          ]
        },
        {
          "output_type": "stream",
          "name": "stderr",
          "text": [
            "Epoch 3:  82%|████████▏ | 619/751 [00:18<00:05, 25.83batch/s, accuracy=98.4375%, loss=0.172]"
          ]
        },
        {
          "output_type": "stream",
          "name": "stdout",
          "text": [
            "GB | Epoch 3 | Loss: 0.19741247594356537 | Accuracy: 93.75%\n",
            "GB | Epoch 3 | Loss: 0.1836126744747162 | Accuracy: 92.1875%\n",
            "GB | Epoch 3 | Loss: 0.16021108627319336 | Accuracy: 96.875%\n",
            "GB | Epoch 3 | Loss: 0.14678005874156952 | Accuracy: 95.3125%\n",
            "GB | Epoch 3 | Loss: 0.1432660073041916 | Accuracy: 95.3125%\n",
            "GB | Epoch 3 | Loss: 0.15776653587818146 | Accuracy: 95.3125%\n",
            "GB | Epoch 3 | Loss: 0.17215272784233093 | Accuracy: 98.4375%\n"
          ]
        },
        {
          "output_type": "stream",
          "name": "stderr",
          "text": [
            "Epoch 3:  83%|████████▎ | 626/751 [00:18<00:04, 26.47batch/s, accuracy=89.0625%, loss=0.398]"
          ]
        },
        {
          "output_type": "stream",
          "name": "stdout",
          "text": [
            "GB | Epoch 3 | Loss: 0.08340543508529663 | Accuracy: 100.0%\n",
            "GB | Epoch 3 | Loss: 0.15751072764396667 | Accuracy: 95.3125%\n",
            "GB | Epoch 3 | Loss: 0.1483057290315628 | Accuracy: 95.3125%\n",
            "GB | Epoch 3 | Loss: 0.22968313097953796 | Accuracy: 93.75%\n",
            "GB | Epoch 3 | Loss: 0.13193175196647644 | Accuracy: 96.875%\n",
            "GB | Epoch 3 | Loss: 0.3980238139629364 | Accuracy: 89.0625%\n"
          ]
        },
        {
          "output_type": "stream",
          "name": "stderr",
          "text": [
            "Epoch 3:  84%|████████▍ | 632/751 [00:19<00:04, 27.21batch/s, accuracy=93.75%, loss=0.164] "
          ]
        },
        {
          "output_type": "stream",
          "name": "stdout",
          "text": [
            "GB | Epoch 3 | Loss: 0.17746220529079437 | Accuracy: 92.1875%\n",
            "GB | Epoch 3 | Loss: 0.23678669333457947 | Accuracy: 95.3125%\n",
            "GB | Epoch 3 | Loss: 0.1740395426750183 | Accuracy: 92.1875%\n",
            "GB | Epoch 3 | Loss: 0.14050990343093872 | Accuracy: 98.4375%\n",
            "GB | Epoch 3 | Loss: 0.09573277086019516 | Accuracy: 100.0%\n",
            "GB | Epoch 3 | Loss: 0.16353391110897064 | Accuracy: 93.75%\n"
          ]
        },
        {
          "output_type": "stream",
          "name": "stderr",
          "text": [
            "Epoch 3:  85%|████████▍ | 638/751 [00:19<00:04, 26.19batch/s, accuracy=90.625%, loss=0.211] "
          ]
        },
        {
          "output_type": "stream",
          "name": "stdout",
          "text": [
            "GB | Epoch 3 | Loss: 0.14564737677574158 | Accuracy: 96.875%\n",
            "GB | Epoch 3 | Loss: 0.2781870663166046 | Accuracy: 93.75%\n",
            "GB | Epoch 3 | Loss: 0.24474288523197174 | Accuracy: 93.75%\n",
            "GB | Epoch 3 | Loss: 0.2303357571363449 | Accuracy: 90.625%\n",
            "GB | Epoch 3 | Loss: 0.2382134646177292 | Accuracy: 89.0625%\n",
            "GB | Epoch 3 | Loss: 0.21081458032131195 | Accuracy: 90.625%\n"
          ]
        },
        {
          "output_type": "stream",
          "name": "stderr",
          "text": [
            "Epoch 3:  86%|████████▌ | 644/751 [00:19<00:04, 24.16batch/s, accuracy=89.0625%, loss=0.226]"
          ]
        },
        {
          "output_type": "stream",
          "name": "stdout",
          "text": [
            "GB | Epoch 3 | Loss: 0.1371847689151764 | Accuracy: 96.875%\n",
            "GB | Epoch 3 | Loss: 0.20088320970535278 | Accuracy: 93.75%\n",
            "GB | Epoch 3 | Loss: 0.16843447089195251 | Accuracy: 95.3125%\n",
            "GB | Epoch 3 | Loss: 0.18787147104740143 | Accuracy: 95.3125%\n",
            "GB | Epoch 3 | Loss: 0.22568689286708832 | Accuracy: 89.0625%\n"
          ]
        },
        {
          "output_type": "stream",
          "name": "stderr",
          "text": [
            "Epoch 3:  87%|████████▋ | 651/751 [00:19<00:03, 28.24batch/s, accuracy=92.1875%, loss=0.21]"
          ]
        },
        {
          "output_type": "stream",
          "name": "stdout",
          "text": [
            "GB | Epoch 3 | Loss: 0.20620012283325195 | Accuracy: 90.625%\n",
            "GB | Epoch 3 | Loss: 0.22870904207229614 | Accuracy: 95.3125%\n",
            "GB | Epoch 3 | Loss: 0.17545872926712036 | Accuracy: 95.3125%\n",
            "GB | Epoch 3 | Loss: 0.1290947049856186 | Accuracy: 93.75%\n",
            "GB | Epoch 3 | Loss: 0.26476627588272095 | Accuracy: 93.75%\n",
            "GB | Epoch 3 | Loss: 0.24718880653381348 | Accuracy: 95.3125%\n",
            "GB | Epoch 3 | Loss: 0.21033614873886108 | Accuracy: 92.1875%\n"
          ]
        },
        {
          "output_type": "stream",
          "name": "stderr",
          "text": [
            "Epoch 3:  88%|████████▊ | 659/751 [00:20<00:02, 32.14batch/s, accuracy=92.1875%, loss=0.251]"
          ]
        },
        {
          "output_type": "stream",
          "name": "stdout",
          "text": [
            "GB | Epoch 3 | Loss: 0.1421075016260147 | Accuracy: 93.75%\n",
            "GB | Epoch 3 | Loss: 0.23177634179592133 | Accuracy: 93.75%\n",
            "GB | Epoch 3 | Loss: 0.35889503359794617 | Accuracy: 87.5%\n",
            "GB | Epoch 3 | Loss: 0.12392933666706085 | Accuracy: 96.875%\n",
            "GB | Epoch 3 | Loss: 0.30968764424324036 | Accuracy: 90.625%\n",
            "GB | Epoch 3 | Loss: 0.17084504663944244 | Accuracy: 95.3125%\n",
            "GB | Epoch 3 | Loss: 0.1636509746313095 | Accuracy: 98.4375%\n",
            "GB | Epoch 3 | Loss: 0.25125113129615784 | Accuracy: 92.1875%\n"
          ]
        },
        {
          "output_type": "stream",
          "name": "stderr",
          "text": [
            "Epoch 3:  89%|████████▉ | 667/751 [00:20<00:02, 35.34batch/s, accuracy=92.1875%, loss=0.227]"
          ]
        },
        {
          "output_type": "stream",
          "name": "stdout",
          "text": [
            "GB | Epoch 3 | Loss: 0.17808395624160767 | Accuracy: 93.75%\n",
            "GB | Epoch 3 | Loss: 0.11689738184213638 | Accuracy: 98.4375%\n",
            "GB | Epoch 3 | Loss: 0.14530369639396667 | Accuracy: 96.875%\n",
            "GB | Epoch 3 | Loss: 0.1625685840845108 | Accuracy: 96.875%\n",
            "GB | Epoch 3 | Loss: 0.16813278198242188 | Accuracy: 95.3125%\n",
            "GB | Epoch 3 | Loss: 0.13890492916107178 | Accuracy: 98.4375%\n",
            "GB | Epoch 3 | Loss: 0.2407643049955368 | Accuracy: 93.75%\n",
            "GB | Epoch 3 | Loss: 0.22687019407749176 | Accuracy: 92.1875%\n"
          ]
        },
        {
          "output_type": "stream",
          "name": "stderr",
          "text": [
            "Epoch 3:  90%|████████▉ | 675/751 [00:20<00:02, 36.56batch/s, accuracy=89.0625%, loss=0.228]"
          ]
        },
        {
          "output_type": "stream",
          "name": "stdout",
          "text": [
            "GB | Epoch 3 | Loss: 0.17489947378635406 | Accuracy: 96.875%\n",
            "GB | Epoch 3 | Loss: 0.19802260398864746 | Accuracy: 93.75%\n",
            "GB | Epoch 3 | Loss: 0.14299294352531433 | Accuracy: 96.875%\n",
            "GB | Epoch 3 | Loss: 0.27146172523498535 | Accuracy: 93.75%\n",
            "GB | Epoch 3 | Loss: 0.30762603878974915 | Accuracy: 87.5%\n",
            "GB | Epoch 3 | Loss: 0.3378601670265198 | Accuracy: 90.625%\n",
            "GB | Epoch 3 | Loss: 0.20768792927265167 | Accuracy: 98.4375%\n",
            "GB | Epoch 3 | Loss: 0.2281791865825653 | Accuracy: 89.0625%\n"
          ]
        },
        {
          "output_type": "stream",
          "name": "stderr",
          "text": [
            "Epoch 3:  91%|█████████ | 683/751 [00:20<00:01, 37.19batch/s, accuracy=96.875%, loss=0.198]"
          ]
        },
        {
          "output_type": "stream",
          "name": "stdout",
          "text": [
            "GB | Epoch 3 | Loss: 0.1834188997745514 | Accuracy: 92.1875%\n",
            "GB | Epoch 3 | Loss: 0.4534629285335541 | Accuracy: 87.5%\n",
            "GB | Epoch 3 | Loss: 0.23447740077972412 | Accuracy: 93.75%\n",
            "GB | Epoch 3 | Loss: 0.3364998698234558 | Accuracy: 90.625%\n",
            "GB | Epoch 3 | Loss: 0.11020367592573166 | Accuracy: 98.4375%\n",
            "GB | Epoch 3 | Loss: 0.3029460906982422 | Accuracy: 92.1875%\n",
            "GB | Epoch 3 | Loss: 0.1941959261894226 | Accuracy: 95.3125%\n",
            "GB | Epoch 3 | Loss: 0.19833220541477203 | Accuracy: 96.875%\n"
          ]
        },
        {
          "output_type": "stream",
          "name": "stderr",
          "text": [
            "Epoch 3:  92%|█████████▏| 691/751 [00:20<00:01, 37.24batch/s, accuracy=93.75%, loss=0.281]"
          ]
        },
        {
          "output_type": "stream",
          "name": "stdout",
          "text": [
            "GB | Epoch 3 | Loss: 0.20159326493740082 | Accuracy: 92.1875%\n",
            "GB | Epoch 3 | Loss: 0.17206203937530518 | Accuracy: 93.75%\n",
            "GB | Epoch 3 | Loss: 0.1886729747056961 | Accuracy: 93.75%\n",
            "GB | Epoch 3 | Loss: 0.34371688961982727 | Accuracy: 95.3125%\n",
            "GB | Epoch 3 | Loss: 0.1520414650440216 | Accuracy: 95.3125%\n",
            "GB | Epoch 3 | Loss: 0.2094356268644333 | Accuracy: 95.3125%\n",
            "GB | Epoch 3 | Loss: 0.16384856402873993 | Accuracy: 96.875%\n",
            "GB | Epoch 3 | Loss: 0.2806285321712494 | Accuracy: 93.75%\n"
          ]
        },
        {
          "output_type": "stream",
          "name": "stderr",
          "text": [
            "Epoch 3:  93%|█████████▎| 699/751 [00:21<00:01, 36.85batch/s, accuracy=92.1875%, loss=0.246]"
          ]
        },
        {
          "output_type": "stream",
          "name": "stdout",
          "text": [
            "GB | Epoch 3 | Loss: 0.41822609305381775 | Accuracy: 89.0625%\n",
            "GB | Epoch 3 | Loss: 0.25646907091140747 | Accuracy: 90.625%\n",
            "GB | Epoch 3 | Loss: 0.22258412837982178 | Accuracy: 96.875%\n",
            "GB | Epoch 3 | Loss: 0.18573644757270813 | Accuracy: 93.75%\n",
            "GB | Epoch 3 | Loss: 0.2589835524559021 | Accuracy: 93.75%\n",
            "GB | Epoch 3 | Loss: 0.08900679647922516 | Accuracy: 100.0%\n",
            "GB | Epoch 3 | Loss: 0.18310600519180298 | Accuracy: 93.75%\n",
            "GB | Epoch 3 | Loss: 0.09305910021066666 | Accuracy: 100.0%\n",
            "GB | Epoch 3 | Loss: 0.24560323357582092 | Accuracy: 92.1875%\n"
          ]
        },
        {
          "output_type": "stream",
          "name": "stderr",
          "text": [
            "Epoch 3:  94%|█████████▍| 707/751 [00:21<00:01, 37.72batch/s, accuracy=90.625%, loss=0.229]"
          ]
        },
        {
          "output_type": "stream",
          "name": "stdout",
          "text": [
            "GB | Epoch 3 | Loss: 0.2760718762874603 | Accuracy: 93.75%\n",
            "GB | Epoch 3 | Loss: 0.22510239481925964 | Accuracy: 93.75%\n",
            "GB | Epoch 3 | Loss: 0.24330124258995056 | Accuracy: 90.625%\n",
            "GB | Epoch 3 | Loss: 0.1297799050807953 | Accuracy: 95.3125%\n",
            "GB | Epoch 3 | Loss: 0.3520832359790802 | Accuracy: 90.625%\n",
            "GB | Epoch 3 | Loss: 0.1920241415500641 | Accuracy: 93.75%\n",
            "GB | Epoch 3 | Loss: 0.27461567521095276 | Accuracy: 90.625%\n",
            "GB | Epoch 3 | Loss: 0.22941707074642181 | Accuracy: 90.625%\n"
          ]
        },
        {
          "output_type": "stream",
          "name": "stderr",
          "text": [
            "Epoch 3:  95%|█████████▌| 715/751 [00:21<00:00, 37.83batch/s, accuracy=96.875%, loss=0.144] "
          ]
        },
        {
          "output_type": "stream",
          "name": "stdout",
          "text": [
            "GB | Epoch 3 | Loss: 0.18401238322257996 | Accuracy: 95.3125%\n",
            "GB | Epoch 3 | Loss: 0.1815103441476822 | Accuracy: 93.75%\n",
            "GB | Epoch 3 | Loss: 0.1711374819278717 | Accuracy: 95.3125%\n",
            "GB | Epoch 3 | Loss: 0.14246998727321625 | Accuracy: 96.875%\n",
            "GB | Epoch 3 | Loss: 0.18445634841918945 | Accuracy: 96.875%\n",
            "GB | Epoch 3 | Loss: 0.2586764395236969 | Accuracy: 90.625%\n",
            "GB | Epoch 3 | Loss: 0.22876812517642975 | Accuracy: 92.1875%\n",
            "GB | Epoch 3 | Loss: 0.1443488597869873 | Accuracy: 96.875%\n"
          ]
        },
        {
          "output_type": "stream",
          "name": "stderr",
          "text": [
            "Epoch 3:  96%|█████████▋| 723/751 [00:21<00:00, 38.24batch/s, accuracy=93.75%, loss=0.142]"
          ]
        },
        {
          "output_type": "stream",
          "name": "stdout",
          "text": [
            "GB | Epoch 3 | Loss: 0.12650257349014282 | Accuracy: 96.875%\n",
            "GB | Epoch 3 | Loss: 0.17714323103427887 | Accuracy: 93.75%\n",
            "GB | Epoch 3 | Loss: 0.17967438697814941 | Accuracy: 95.3125%\n",
            "GB | Epoch 3 | Loss: 0.11301106214523315 | Accuracy: 98.4375%\n",
            "GB | Epoch 3 | Loss: 0.15449258685112 | Accuracy: 95.3125%\n",
            "GB | Epoch 3 | Loss: 0.12023349851369858 | Accuracy: 98.4375%\n",
            "GB | Epoch 3 | Loss: 0.17346270382404327 | Accuracy: 93.75%\n",
            "GB | Epoch 3 | Loss: 0.14152035117149353 | Accuracy: 93.75%\n"
          ]
        },
        {
          "output_type": "stream",
          "name": "stderr",
          "text": [
            "Epoch 3:  97%|█████████▋| 731/751 [00:21<00:00, 35.92batch/s, accuracy=96.875%, loss=0.191]"
          ]
        },
        {
          "output_type": "stream",
          "name": "stdout",
          "text": [
            "GB | Epoch 3 | Loss: 0.1738671362400055 | Accuracy: 93.75%\n",
            "GB | Epoch 3 | Loss: 0.13030637800693512 | Accuracy: 96.875%\n",
            "GB | Epoch 3 | Loss: 0.2512199878692627 | Accuracy: 92.1875%\n",
            "GB | Epoch 3 | Loss: 0.19843505322933197 | Accuracy: 90.625%\n",
            "GB | Epoch 3 | Loss: 0.21885421872138977 | Accuracy: 95.3125%\n",
            "GB | Epoch 3 | Loss: 0.11066560447216034 | Accuracy: 98.4375%\n",
            "GB | Epoch 3 | Loss: 0.19109688699245453 | Accuracy: 96.875%\n"
          ]
        },
        {
          "output_type": "stream",
          "name": "stderr",
          "text": [
            "Epoch 3:  98%|█████████▊| 735/751 [00:22<00:00, 35.84batch/s, accuracy=96.875%, loss=0.0917]"
          ]
        },
        {
          "output_type": "stream",
          "name": "stdout",
          "text": [
            "GB | Epoch 3 | Loss: 0.10972123593091965 | Accuracy: 96.875%\n",
            "GB | Epoch 3 | Loss: 0.12230955064296722 | Accuracy: 98.4375%\n",
            "GB | Epoch 3 | Loss: 0.14913804829120636 | Accuracy: 98.4375%\n",
            "GB | Epoch 3 | Loss: 0.18006323277950287 | Accuracy: 98.4375%\n",
            "GB | Epoch 3 | Loss: 0.1019250750541687 | Accuracy: 100.0%\n",
            "GB | Epoch 3 | Loss: 0.13246993720531464 | Accuracy: 96.875%\n",
            "GB | Epoch 3 | Loss: 0.2700068950653076 | Accuracy: 93.75%\n",
            "GB | Epoch 3 | Loss: 0.09170741587877274 | Accuracy: 96.875%\n"
          ]
        },
        {
          "output_type": "stream",
          "name": "stderr",
          "text": [
            "Epoch 3:  99%|█████████▉| 744/751 [00:22<00:00, 37.71batch/s, accuracy=95.3125%, loss=0.205]"
          ]
        },
        {
          "output_type": "stream",
          "name": "stdout",
          "text": [
            "GB | Epoch 3 | Loss: 0.12523791193962097 | Accuracy: 98.4375%\n",
            "GB | Epoch 3 | Loss: 0.21843983232975006 | Accuracy: 92.1875%\n",
            "GB | Epoch 3 | Loss: 0.2821694016456604 | Accuracy: 92.1875%\n",
            "GB | Epoch 3 | Loss: 0.23156505823135376 | Accuracy: 90.625%\n",
            "GB | Epoch 3 | Loss: 0.12923872470855713 | Accuracy: 96.875%\n",
            "GB | Epoch 3 | Loss: 0.1282367706298828 | Accuracy: 98.4375%\n",
            "GB | Epoch 3 | Loss: 0.19701655209064484 | Accuracy: 95.3125%\n",
            "GB | Epoch 3 | Loss: 0.20506198704242706 | Accuracy: 95.3125%\n"
          ]
        },
        {
          "output_type": "stream",
          "name": "stderr",
          "text": [
            "Epoch 3: 100%|██████████| 751/751 [00:22<00:00, 33.25batch/s, accuracy=100.0%, loss=0.0188]"
          ]
        },
        {
          "output_type": "stream",
          "name": "stdout",
          "text": [
            "GB | Epoch 3 | Loss: 0.11061906814575195 | Accuracy: 96.875%\n",
            "GB | Epoch 3 | Loss: 0.16246415674686432 | Accuracy: 95.3125%\n",
            "GB | Epoch 3 | Loss: 0.20879274606704712 | Accuracy: 93.75%\n",
            "GB | Epoch 3 | Loss: 0.018812820315361023 | Accuracy: 100.0%\n"
          ]
        },
        {
          "output_type": "stream",
          "name": "stderr",
          "text": [
            "\n",
            "Epoch 4:   1%|          | 5/751 [00:00<00:46, 16.17batch/s, accuracy=96.875%, loss=0.163]  "
          ]
        },
        {
          "output_type": "stream",
          "name": "stdout",
          "text": [
            "GB | Epoch 4 | Loss: 0.12647265195846558 | Accuracy: 96.875%\n",
            "GB | Epoch 4 | Loss: 0.16212977468967438 | Accuracy: 95.3125%\n",
            "GB | Epoch 4 | Loss: 0.1422846019268036 | Accuracy: 96.875%\n",
            "GB | Epoch 4 | Loss: 0.3214934766292572 | Accuracy: 89.0625%\n",
            "GB | Epoch 4 | Loss: 0.24673962593078613 | Accuracy: 87.5%\n",
            "GB | Epoch 4 | Loss: 0.06818827241659164 | Accuracy: 98.4375%\n",
            "GB | Epoch 4 | Loss: 0.1629309207201004 | Accuracy: 96.875%\n"
          ]
        },
        {
          "output_type": "stream",
          "name": "stderr",
          "text": [
            "Epoch 4:   2%|▏         | 13/751 [00:00<00:26, 27.80batch/s, accuracy=95.3125%, loss=0.174]"
          ]
        },
        {
          "output_type": "stream",
          "name": "stdout",
          "text": [
            "GB | Epoch 4 | Loss: 0.19458714127540588 | Accuracy: 95.3125%\n",
            "GB | Epoch 4 | Loss: 0.2225247323513031 | Accuracy: 92.1875%\n",
            "GB | Epoch 4 | Loss: 0.23826488852500916 | Accuracy: 92.1875%\n",
            "GB | Epoch 4 | Loss: 0.09445051848888397 | Accuracy: 100.0%\n",
            "GB | Epoch 4 | Loss: 0.283555805683136 | Accuracy: 90.625%\n",
            "GB | Epoch 4 | Loss: 0.11404649168252945 | Accuracy: 96.875%\n",
            "GB | Epoch 4 | Loss: 0.15002194046974182 | Accuracy: 98.4375%\n",
            "GB | Epoch 4 | Loss: 0.17411790788173676 | Accuracy: 95.3125%\n"
          ]
        },
        {
          "output_type": "stream",
          "name": "stderr",
          "text": [
            "Epoch 4:   3%|▎         | 21/751 [00:00<00:22, 32.64batch/s, accuracy=93.75%, loss=0.276]"
          ]
        },
        {
          "output_type": "stream",
          "name": "stdout",
          "text": [
            "GB | Epoch 4 | Loss: 0.15114961564540863 | Accuracy: 95.3125%\n",
            "GB | Epoch 4 | Loss: 0.3620786666870117 | Accuracy: 90.625%\n",
            "GB | Epoch 4 | Loss: 0.3745415508747101 | Accuracy: 81.25%\n",
            "GB | Epoch 4 | Loss: 0.15577852725982666 | Accuracy: 96.875%\n",
            "GB | Epoch 4 | Loss: 0.15843796730041504 | Accuracy: 98.4375%\n",
            "GB | Epoch 4 | Loss: 0.26776620745658875 | Accuracy: 95.3125%\n",
            "GB | Epoch 4 | Loss: 0.10348943620920181 | Accuracy: 100.0%\n",
            "GB | Epoch 4 | Loss: 0.2757144272327423 | Accuracy: 93.75%\n"
          ]
        },
        {
          "output_type": "stream",
          "name": "stderr",
          "text": [
            "Epoch 4:   4%|▍         | 29/751 [00:01<00:20, 34.71batch/s, accuracy=96.875%, loss=0.123] "
          ]
        },
        {
          "output_type": "stream",
          "name": "stdout",
          "text": [
            "GB | Epoch 4 | Loss: 0.15033946931362152 | Accuracy: 96.875%\n",
            "GB | Epoch 4 | Loss: 0.19813431799411774 | Accuracy: 93.75%\n",
            "GB | Epoch 4 | Loss: 0.2276904135942459 | Accuracy: 93.75%\n",
            "GB | Epoch 4 | Loss: 0.1328601986169815 | Accuracy: 95.3125%\n",
            "GB | Epoch 4 | Loss: 0.20161865651607513 | Accuracy: 90.625%\n",
            "GB | Epoch 4 | Loss: 0.10674130171537399 | Accuracy: 95.3125%\n",
            "GB | Epoch 4 | Loss: 0.2088373303413391 | Accuracy: 92.1875%\n",
            "GB | Epoch 4 | Loss: 0.12284816056489944 | Accuracy: 96.875%\n"
          ]
        },
        {
          "output_type": "stream",
          "name": "stderr",
          "text": [
            "Epoch 4:   5%|▍         | 37/751 [00:01<00:20, 35.40batch/s, accuracy=95.3125%, loss=0.206]"
          ]
        },
        {
          "output_type": "stream",
          "name": "stdout",
          "text": [
            "GB | Epoch 4 | Loss: 0.14819630980491638 | Accuracy: 95.3125%\n",
            "GB | Epoch 4 | Loss: 0.23794278502464294 | Accuracy: 95.3125%\n",
            "GB | Epoch 4 | Loss: 0.1721910536289215 | Accuracy: 95.3125%\n",
            "GB | Epoch 4 | Loss: 0.14165033400058746 | Accuracy: 96.875%\n",
            "GB | Epoch 4 | Loss: 0.11138200014829636 | Accuracy: 98.4375%\n",
            "GB | Epoch 4 | Loss: 0.1220490112900734 | Accuracy: 96.875%\n",
            "GB | Epoch 4 | Loss: 0.12816278636455536 | Accuracy: 98.4375%\n",
            "GB | Epoch 4 | Loss: 0.20621168613433838 | Accuracy: 95.3125%\n"
          ]
        },
        {
          "output_type": "stream",
          "name": "stderr",
          "text": [
            "Epoch 4:   6%|▌         | 45/751 [00:01<00:20, 34.50batch/s, accuracy=96.875%, loss=0.144] "
          ]
        },
        {
          "output_type": "stream",
          "name": "stdout",
          "text": [
            "GB | Epoch 4 | Loss: 0.17133942246437073 | Accuracy: 95.3125%\n",
            "GB | Epoch 4 | Loss: 0.19818685948848724 | Accuracy: 93.75%\n",
            "GB | Epoch 4 | Loss: 0.14494116604328156 | Accuracy: 98.4375%\n",
            "GB | Epoch 4 | Loss: 0.18845899403095245 | Accuracy: 95.3125%\n",
            "GB | Epoch 4 | Loss: 0.11894100904464722 | Accuracy: 96.875%\n",
            "GB | Epoch 4 | Loss: 0.23410874605178833 | Accuracy: 95.3125%\n",
            "GB | Epoch 4 | Loss: 0.1443270444869995 | Accuracy: 96.875%\n"
          ]
        },
        {
          "output_type": "stream",
          "name": "stderr",
          "text": [
            "Epoch 4:   7%|▋         | 53/751 [00:01<00:19, 35.44batch/s, accuracy=93.75%, loss=0.158]  "
          ]
        },
        {
          "output_type": "stream",
          "name": "stdout",
          "text": [
            "GB | Epoch 4 | Loss: 0.33333560824394226 | Accuracy: 89.0625%\n",
            "GB | Epoch 4 | Loss: 0.17236465215682983 | Accuracy: 95.3125%\n",
            "GB | Epoch 4 | Loss: 0.15954704582691193 | Accuracy: 93.75%\n",
            "GB | Epoch 4 | Loss: 0.1839769035577774 | Accuracy: 92.1875%\n",
            "GB | Epoch 4 | Loss: 0.1923900544643402 | Accuracy: 95.3125%\n",
            "GB | Epoch 4 | Loss: 0.09754633903503418 | Accuracy: 98.4375%\n",
            "GB | Epoch 4 | Loss: 0.19391056895256042 | Accuracy: 92.1875%\n",
            "GB | Epoch 4 | Loss: 0.1578604131937027 | Accuracy: 93.75%\n"
          ]
        },
        {
          "output_type": "stream",
          "name": "stderr",
          "text": [
            "Epoch 4:   8%|▊         | 61/751 [00:01<00:19, 35.56batch/s, accuracy=98.4375%, loss=0.121]"
          ]
        },
        {
          "output_type": "stream",
          "name": "stdout",
          "text": [
            "GB | Epoch 4 | Loss: 0.17204363644123077 | Accuracy: 96.875%\n",
            "GB | Epoch 4 | Loss: 0.22514760494232178 | Accuracy: 95.3125%\n",
            "GB | Epoch 4 | Loss: 0.0886305719614029 | Accuracy: 100.0%\n",
            "GB | Epoch 4 | Loss: 0.2585693597793579 | Accuracy: 93.75%\n",
            "GB | Epoch 4 | Loss: 0.09858442097902298 | Accuracy: 96.875%\n",
            "GB | Epoch 4 | Loss: 0.15365834534168243 | Accuracy: 96.875%\n",
            "GB | Epoch 4 | Loss: 0.2502393126487732 | Accuracy: 93.75%\n",
            "GB | Epoch 4 | Loss: 0.1210353896021843 | Accuracy: 98.4375%\n"
          ]
        },
        {
          "output_type": "stream",
          "name": "stderr",
          "text": [
            "Epoch 4:   9%|▉         | 69/751 [00:02<00:18, 36.21batch/s, accuracy=95.3125%, loss=0.192]"
          ]
        },
        {
          "output_type": "stream",
          "name": "stdout",
          "text": [
            "GB | Epoch 4 | Loss: 0.1545824110507965 | Accuracy: 95.3125%\n",
            "GB | Epoch 4 | Loss: 0.2233784794807434 | Accuracy: 93.75%\n",
            "GB | Epoch 4 | Loss: 0.11989186704158783 | Accuracy: 96.875%\n",
            "GB | Epoch 4 | Loss: 0.10712458938360214 | Accuracy: 98.4375%\n",
            "GB | Epoch 4 | Loss: 0.20524543523788452 | Accuracy: 92.1875%\n",
            "GB | Epoch 4 | Loss: 0.2265624850988388 | Accuracy: 93.75%\n",
            "GB | Epoch 4 | Loss: 0.25410616397857666 | Accuracy: 93.75%\n",
            "GB | Epoch 4 | Loss: 0.19166019558906555 | Accuracy: 95.3125%\n"
          ]
        },
        {
          "output_type": "stream",
          "name": "stderr",
          "text": [
            "Epoch 4:  10%|█         | 77/751 [00:02<00:18, 37.27batch/s, accuracy=93.75%, loss=0.199]  "
          ]
        },
        {
          "output_type": "stream",
          "name": "stdout",
          "text": [
            "GB | Epoch 4 | Loss: 0.11275146156549454 | Accuracy: 98.4375%\n",
            "GB | Epoch 4 | Loss: 0.18287727236747742 | Accuracy: 93.75%\n",
            "GB | Epoch 4 | Loss: 0.20500195026397705 | Accuracy: 95.3125%\n",
            "GB | Epoch 4 | Loss: 0.2711387276649475 | Accuracy: 90.625%\n",
            "GB | Epoch 4 | Loss: 0.20382699370384216 | Accuracy: 95.3125%\n",
            "GB | Epoch 4 | Loss: 0.26066771149635315 | Accuracy: 95.3125%\n",
            "GB | Epoch 4 | Loss: 0.11722512543201447 | Accuracy: 95.3125%\n",
            "GB | Epoch 4 | Loss: 0.19929170608520508 | Accuracy: 93.75%\n"
          ]
        },
        {
          "output_type": "stream",
          "name": "stderr",
          "text": [
            "Epoch 4:  11%|█▏        | 85/751 [00:02<00:18, 36.50batch/s, accuracy=96.875%, loss=0.124]"
          ]
        },
        {
          "output_type": "stream",
          "name": "stdout",
          "text": [
            "GB | Epoch 4 | Loss: 0.09304122626781464 | Accuracy: 98.4375%\n",
            "GB | Epoch 4 | Loss: 0.2133132368326187 | Accuracy: 89.0625%\n",
            "GB | Epoch 4 | Loss: 0.1182667464017868 | Accuracy: 98.4375%\n",
            "GB | Epoch 4 | Loss: 0.1279943436384201 | Accuracy: 95.3125%\n",
            "GB | Epoch 4 | Loss: 0.261809378862381 | Accuracy: 95.3125%\n",
            "GB | Epoch 4 | Loss: 0.13804669678211212 | Accuracy: 96.875%\n",
            "GB | Epoch 4 | Loss: 0.14290164411067963 | Accuracy: 96.875%\n",
            "GB | Epoch 4 | Loss: 0.12375804781913757 | Accuracy: 96.875%\n"
          ]
        },
        {
          "output_type": "stream",
          "name": "stderr",
          "text": [
            "Epoch 4:  13%|█▎        | 94/751 [00:02<00:17, 38.07batch/s, accuracy=96.875%, loss=0.104]"
          ]
        },
        {
          "output_type": "stream",
          "name": "stdout",
          "text": [
            "GB | Epoch 4 | Loss: 0.33367544412612915 | Accuracy: 90.625%\n",
            "GB | Epoch 4 | Loss: 0.1261569857597351 | Accuracy: 96.875%\n",
            "GB | Epoch 4 | Loss: 0.1893833577632904 | Accuracy: 92.1875%\n",
            "GB | Epoch 4 | Loss: 0.06684992462396622 | Accuracy: 98.4375%\n",
            "GB | Epoch 4 | Loss: 0.24237041175365448 | Accuracy: 92.1875%\n",
            "GB | Epoch 4 | Loss: 0.1558048278093338 | Accuracy: 95.3125%\n",
            "GB | Epoch 4 | Loss: 0.07345560193061829 | Accuracy: 100.0%\n",
            "GB | Epoch 4 | Loss: 0.10350165516138077 | Accuracy: 96.875%\n"
          ]
        },
        {
          "output_type": "stream",
          "name": "stderr",
          "text": [
            "Epoch 4:  14%|█▎        | 102/751 [00:03<00:17, 37.56batch/s, accuracy=95.3125%, loss=0.112]"
          ]
        },
        {
          "output_type": "stream",
          "name": "stdout",
          "text": [
            "GB | Epoch 4 | Loss: 0.11728594452142715 | Accuracy: 98.4375%\n",
            "GB | Epoch 4 | Loss: 0.2210591435432434 | Accuracy: 95.3125%\n",
            "GB | Epoch 4 | Loss: 0.18001702427864075 | Accuracy: 93.75%\n",
            "GB | Epoch 4 | Loss: 0.2857731580734253 | Accuracy: 92.1875%\n",
            "GB | Epoch 4 | Loss: 0.18419420719146729 | Accuracy: 95.3125%\n",
            "GB | Epoch 4 | Loss: 0.1239587813615799 | Accuracy: 98.4375%\n",
            "GB | Epoch 4 | Loss: 0.12642480432987213 | Accuracy: 98.4375%\n",
            "GB | Epoch 4 | Loss: 0.11160805821418762 | Accuracy: 95.3125%\n"
          ]
        },
        {
          "output_type": "stream",
          "name": "stderr",
          "text": [
            "Epoch 4:  15%|█▍        | 110/751 [00:03<00:16, 37.96batch/s, accuracy=96.875%, loss=0.137]"
          ]
        },
        {
          "output_type": "stream",
          "name": "stdout",
          "text": [
            "GB | Epoch 4 | Loss: 0.20725105702877045 | Accuracy: 96.875%\n",
            "GB | Epoch 4 | Loss: 0.17852380871772766 | Accuracy: 96.875%\n",
            "GB | Epoch 4 | Loss: 0.15938971936702728 | Accuracy: 93.75%\n",
            "GB | Epoch 4 | Loss: 0.1999276578426361 | Accuracy: 95.3125%\n",
            "GB | Epoch 4 | Loss: 0.0925162211060524 | Accuracy: 96.875%\n",
            "GB | Epoch 4 | Loss: 0.06108158826828003 | Accuracy: 100.0%\n",
            "GB | Epoch 4 | Loss: 0.2203211933374405 | Accuracy: 92.1875%\n",
            "GB | Epoch 4 | Loss: 0.1366380751132965 | Accuracy: 96.875%\n"
          ]
        },
        {
          "output_type": "stream",
          "name": "stderr",
          "text": [
            "Epoch 4:  16%|█▌        | 118/751 [00:03<00:16, 38.18batch/s, accuracy=98.4375%, loss=0.0981]"
          ]
        },
        {
          "output_type": "stream",
          "name": "stdout",
          "text": [
            "GB | Epoch 4 | Loss: 0.09267530590295792 | Accuracy: 96.875%\n",
            "GB | Epoch 4 | Loss: 0.10199744999408722 | Accuracy: 98.4375%\n",
            "GB | Epoch 4 | Loss: 0.06255931407213211 | Accuracy: 98.4375%\n",
            "GB | Epoch 4 | Loss: 0.20794278383255005 | Accuracy: 93.75%\n",
            "GB | Epoch 4 | Loss: 0.14192251861095428 | Accuracy: 95.3125%\n",
            "GB | Epoch 4 | Loss: 0.13203155994415283 | Accuracy: 96.875%\n",
            "GB | Epoch 4 | Loss: 0.25443336367607117 | Accuracy: 92.1875%\n",
            "GB | Epoch 4 | Loss: 0.09807950258255005 | Accuracy: 98.4375%\n"
          ]
        },
        {
          "output_type": "stream",
          "name": "stderr",
          "text": [
            "Epoch 4:  16%|█▌        | 122/751 [00:03<00:17, 36.42batch/s, accuracy=98.4375%, loss=0.128]"
          ]
        },
        {
          "output_type": "stream",
          "name": "stdout",
          "text": [
            "GB | Epoch 4 | Loss: 0.08411853015422821 | Accuracy: 100.0%\n",
            "GB | Epoch 4 | Loss: 0.11727575212717056 | Accuracy: 96.875%\n",
            "GB | Epoch 4 | Loss: 0.12464893609285355 | Accuracy: 96.875%\n",
            "GB | Epoch 4 | Loss: 0.10992291569709778 | Accuracy: 98.4375%\n",
            "GB | Epoch 4 | Loss: 0.1342848837375641 | Accuracy: 95.3125%\n",
            "GB | Epoch 4 | Loss: 0.1630527228116989 | Accuracy: 93.75%\n",
            "GB | Epoch 4 | Loss: 0.1279398500919342 | Accuracy: 98.4375%\n"
          ]
        },
        {
          "output_type": "stream",
          "name": "stderr",
          "text": [
            "Epoch 4:  17%|█▋        | 130/751 [00:03<00:16, 36.74batch/s, accuracy=96.875%, loss=0.144] "
          ]
        },
        {
          "output_type": "stream",
          "name": "stdout",
          "text": [
            "GB | Epoch 4 | Loss: 0.14560434222221375 | Accuracy: 93.75%\n",
            "GB | Epoch 4 | Loss: 0.22564393281936646 | Accuracy: 90.625%\n",
            "GB | Epoch 4 | Loss: 0.2522100806236267 | Accuracy: 92.1875%\n",
            "GB | Epoch 4 | Loss: 0.27815675735473633 | Accuracy: 87.5%\n",
            "GB | Epoch 4 | Loss: 0.1027984768152237 | Accuracy: 100.0%\n",
            "GB | Epoch 4 | Loss: 0.1548173725605011 | Accuracy: 96.875%\n",
            "GB | Epoch 4 | Loss: 0.19715605676174164 | Accuracy: 95.3125%\n",
            "GB | Epoch 4 | Loss: 0.1439632773399353 | Accuracy: 96.875%\n"
          ]
        },
        {
          "output_type": "stream",
          "name": "stderr",
          "text": [
            "Epoch 4:  18%|█▊        | 138/751 [00:04<00:16, 36.90batch/s, accuracy=90.625%, loss=0.523]"
          ]
        },
        {
          "output_type": "stream",
          "name": "stdout",
          "text": [
            "GB | Epoch 4 | Loss: 0.12564590573310852 | Accuracy: 98.4375%\n",
            "GB | Epoch 4 | Loss: 0.1452321708202362 | Accuracy: 98.4375%\n",
            "GB | Epoch 4 | Loss: 0.1571969836950302 | Accuracy: 95.3125%\n",
            "GB | Epoch 4 | Loss: 0.25123172998428345 | Accuracy: 90.625%\n",
            "GB | Epoch 4 | Loss: 0.14000336825847626 | Accuracy: 95.3125%\n",
            "GB | Epoch 4 | Loss: 0.10016247630119324 | Accuracy: 96.875%\n",
            "GB | Epoch 4 | Loss: 0.14413975179195404 | Accuracy: 96.875%\n",
            "GB | Epoch 4 | Loss: 0.5231620073318481 | Accuracy: 90.625%\n"
          ]
        },
        {
          "output_type": "stream",
          "name": "stderr",
          "text": [
            "Epoch 4:  19%|█▉        | 146/751 [00:04<00:16, 37.16batch/s, accuracy=92.1875%, loss=0.196]"
          ]
        },
        {
          "output_type": "stream",
          "name": "stdout",
          "text": [
            "GB | Epoch 4 | Loss: 0.1682637333869934 | Accuracy: 98.4375%\n",
            "GB | Epoch 4 | Loss: 0.15010370314121246 | Accuracy: 96.875%\n",
            "GB | Epoch 4 | Loss: 0.21384865045547485 | Accuracy: 95.3125%\n",
            "GB | Epoch 4 | Loss: 0.17042113840579987 | Accuracy: 96.875%\n",
            "GB | Epoch 4 | Loss: 0.07631325721740723 | Accuracy: 98.4375%\n",
            "GB | Epoch 4 | Loss: 0.19111517071723938 | Accuracy: 98.4375%\n",
            "GB | Epoch 4 | Loss: 0.20866550505161285 | Accuracy: 93.75%\n",
            "GB | Epoch 4 | Loss: 0.19620929658412933 | Accuracy: 92.1875%\n"
          ]
        },
        {
          "output_type": "stream",
          "name": "stderr",
          "text": [
            "Epoch 4:  21%|██        | 154/751 [00:04<00:15, 37.78batch/s, accuracy=92.1875%, loss=0.237]"
          ]
        },
        {
          "output_type": "stream",
          "name": "stdout",
          "text": [
            "GB | Epoch 4 | Loss: 0.09444355219602585 | Accuracy: 96.875%\n",
            "GB | Epoch 4 | Loss: 0.22929315268993378 | Accuracy: 95.3125%\n",
            "GB | Epoch 4 | Loss: 0.10084570944309235 | Accuracy: 98.4375%\n",
            "GB | Epoch 4 | Loss: 0.13537167012691498 | Accuracy: 95.3125%\n",
            "GB | Epoch 4 | Loss: 0.11722990870475769 | Accuracy: 98.4375%\n",
            "GB | Epoch 4 | Loss: 0.08586961776018143 | Accuracy: 100.0%\n",
            "GB | Epoch 4 | Loss: 0.0968702957034111 | Accuracy: 100.0%\n",
            "GB | Epoch 4 | Loss: 0.23691827058792114 | Accuracy: 92.1875%\n"
          ]
        },
        {
          "output_type": "stream",
          "name": "stderr",
          "text": [
            "Epoch 4:  22%|██▏       | 162/751 [00:04<00:16, 36.12batch/s, accuracy=96.875%, loss=0.111]"
          ]
        },
        {
          "output_type": "stream",
          "name": "stdout",
          "text": [
            "GB | Epoch 4 | Loss: 0.09458165615797043 | Accuracy: 100.0%\n",
            "GB | Epoch 4 | Loss: 0.07886646687984467 | Accuracy: 98.4375%\n",
            "GB | Epoch 4 | Loss: 0.168443962931633 | Accuracy: 95.3125%\n",
            "GB | Epoch 4 | Loss: 0.18570782244205475 | Accuracy: 93.75%\n",
            "GB | Epoch 4 | Loss: 0.19710581004619598 | Accuracy: 96.875%\n",
            "GB | Epoch 4 | Loss: 0.09360415488481522 | Accuracy: 98.4375%\n",
            "GB | Epoch 4 | Loss: 0.14122505486011505 | Accuracy: 96.875%\n",
            "GB | Epoch 4 | Loss: 0.11108043789863586 | Accuracy: 96.875%\n"
          ]
        },
        {
          "output_type": "stream",
          "name": "stderr",
          "text": [
            "Epoch 4:  23%|██▎       | 170/751 [00:04<00:15, 36.63batch/s, accuracy=95.3125%, loss=0.15] "
          ]
        },
        {
          "output_type": "stream",
          "name": "stdout",
          "text": [
            "GB | Epoch 4 | Loss: 0.13333779573440552 | Accuracy: 100.0%\n",
            "GB | Epoch 4 | Loss: 0.10549622029066086 | Accuracy: 95.3125%\n",
            "GB | Epoch 4 | Loss: 0.13295499980449677 | Accuracy: 96.875%\n",
            "GB | Epoch 4 | Loss: 0.07325980812311172 | Accuracy: 98.4375%\n",
            "GB | Epoch 4 | Loss: 0.19240008294582367 | Accuracy: 93.75%\n",
            "GB | Epoch 4 | Loss: 0.21779881417751312 | Accuracy: 95.3125%\n",
            "GB | Epoch 4 | Loss: 0.10161221027374268 | Accuracy: 95.3125%\n",
            "GB | Epoch 4 | Loss: 0.1501159965991974 | Accuracy: 95.3125%\n"
          ]
        },
        {
          "output_type": "stream",
          "name": "stderr",
          "text": [
            "Epoch 4:  24%|██▎       | 178/751 [00:05<00:15, 36.56batch/s, accuracy=93.75%, loss=0.24]  "
          ]
        },
        {
          "output_type": "stream",
          "name": "stdout",
          "text": [
            "GB | Epoch 4 | Loss: 0.0632217675447464 | Accuracy: 100.0%\n",
            "GB | Epoch 4 | Loss: 0.1959686130285263 | Accuracy: 92.1875%\n",
            "GB | Epoch 4 | Loss: 0.24207356572151184 | Accuracy: 93.75%\n",
            "GB | Epoch 4 | Loss: 0.10849194973707199 | Accuracy: 95.3125%\n",
            "GB | Epoch 4 | Loss: 0.1973266452550888 | Accuracy: 90.625%\n",
            "GB | Epoch 4 | Loss: 0.27417629957199097 | Accuracy: 90.625%\n",
            "GB | Epoch 4 | Loss: 0.09798189252614975 | Accuracy: 96.875%\n",
            "GB | Epoch 4 | Loss: 0.24041025340557098 | Accuracy: 93.75%\n"
          ]
        },
        {
          "output_type": "stream",
          "name": "stderr",
          "text": [
            "Epoch 4:  25%|██▍       | 186/751 [00:05<00:15, 37.03batch/s, accuracy=98.4375%, loss=0.108]"
          ]
        },
        {
          "output_type": "stream",
          "name": "stdout",
          "text": [
            "GB | Epoch 4 | Loss: 0.08522660285234451 | Accuracy: 98.4375%\n",
            "GB | Epoch 4 | Loss: 0.12100398540496826 | Accuracy: 98.4375%\n",
            "GB | Epoch 4 | Loss: 0.16851896047592163 | Accuracy: 96.875%\n",
            "GB | Epoch 4 | Loss: 0.1367816925048828 | Accuracy: 95.3125%\n",
            "GB | Epoch 4 | Loss: 0.22070004045963287 | Accuracy: 95.3125%\n",
            "GB | Epoch 4 | Loss: 0.2563023865222931 | Accuracy: 95.3125%\n",
            "GB | Epoch 4 | Loss: 0.10610154271125793 | Accuracy: 98.4375%\n",
            "GB | Epoch 4 | Loss: 0.10760350525379181 | Accuracy: 98.4375%\n"
          ]
        },
        {
          "output_type": "stream",
          "name": "stderr",
          "text": [
            "Epoch 4:  26%|██▌       | 194/751 [00:05<00:15, 36.84batch/s, accuracy=100.0%, loss=0.0818]  "
          ]
        },
        {
          "output_type": "stream",
          "name": "stdout",
          "text": [
            "GB | Epoch 4 | Loss: 0.1646631509065628 | Accuracy: 95.3125%\n",
            "GB | Epoch 4 | Loss: 0.16300930082798004 | Accuracy: 95.3125%\n",
            "GB | Epoch 4 | Loss: 0.22416214644908905 | Accuracy: 96.875%\n",
            "GB | Epoch 4 | Loss: 0.14124110341072083 | Accuracy: 95.3125%\n",
            "GB | Epoch 4 | Loss: 0.12670740485191345 | Accuracy: 96.875%\n",
            "GB | Epoch 4 | Loss: 0.10959609597921371 | Accuracy: 96.875%\n",
            "GB | Epoch 4 | Loss: 0.09813232719898224 | Accuracy: 98.4375%\n",
            "GB | Epoch 4 | Loss: 0.08175002038478851 | Accuracy: 100.0%\n"
          ]
        },
        {
          "output_type": "stream",
          "name": "stderr",
          "text": [
            "Epoch 4:  27%|██▋       | 202/751 [00:05<00:15, 35.67batch/s, accuracy=96.875%, loss=0.139] "
          ]
        },
        {
          "output_type": "stream",
          "name": "stdout",
          "text": [
            "GB | Epoch 4 | Loss: 0.24770554900169373 | Accuracy: 92.1875%\n",
            "GB | Epoch 4 | Loss: 0.09531085193157196 | Accuracy: 98.4375%\n",
            "GB | Epoch 4 | Loss: 0.04599658027291298 | Accuracy: 100.0%\n",
            "GB | Epoch 4 | Loss: 0.5377347469329834 | Accuracy: 93.75%\n",
            "GB | Epoch 4 | Loss: 0.14414063096046448 | Accuracy: 93.75%\n",
            "GB | Epoch 4 | Loss: 0.09856145083904266 | Accuracy: 100.0%\n",
            "GB | Epoch 4 | Loss: 0.07855390012264252 | Accuracy: 96.875%\n",
            "GB | Epoch 4 | Loss: 0.13913065195083618 | Accuracy: 96.875%\n"
          ]
        },
        {
          "output_type": "stream",
          "name": "stderr",
          "text": [
            "Epoch 4:  28%|██▊       | 210/751 [00:06<00:14, 36.88batch/s, accuracy=96.875%, loss=0.12] "
          ]
        },
        {
          "output_type": "stream",
          "name": "stdout",
          "text": [
            "GB | Epoch 4 | Loss: 0.18534806370735168 | Accuracy: 93.75%\n",
            "GB | Epoch 4 | Loss: 0.12277389317750931 | Accuracy: 98.4375%\n",
            "GB | Epoch 4 | Loss: 0.2714086174964905 | Accuracy: 95.3125%\n",
            "GB | Epoch 4 | Loss: 0.12043636292219162 | Accuracy: 95.3125%\n",
            "GB | Epoch 4 | Loss: 0.1738797128200531 | Accuracy: 95.3125%\n",
            "GB | Epoch 4 | Loss: 0.18752574920654297 | Accuracy: 95.3125%\n",
            "GB | Epoch 4 | Loss: 0.152215838432312 | Accuracy: 96.875%\n",
            "GB | Epoch 4 | Loss: 0.11962328106164932 | Accuracy: 96.875%\n"
          ]
        },
        {
          "output_type": "stream",
          "name": "stderr",
          "text": [
            "Epoch 4:  29%|██▉       | 218/751 [00:06<00:14, 37.11batch/s, accuracy=95.3125%, loss=0.12] "
          ]
        },
        {
          "output_type": "stream",
          "name": "stdout",
          "text": [
            "GB | Epoch 4 | Loss: 0.19706694781780243 | Accuracy: 93.75%\n",
            "GB | Epoch 4 | Loss: 0.09914287179708481 | Accuracy: 98.4375%\n",
            "GB | Epoch 4 | Loss: 0.10886897146701813 | Accuracy: 100.0%\n",
            "GB | Epoch 4 | Loss: 0.14897078275680542 | Accuracy: 95.3125%\n",
            "GB | Epoch 4 | Loss: 0.13071301579475403 | Accuracy: 98.4375%\n",
            "GB | Epoch 4 | Loss: 0.10742948204278946 | Accuracy: 95.3125%\n",
            "GB | Epoch 4 | Loss: 0.1349782645702362 | Accuracy: 95.3125%\n",
            "GB | Epoch 4 | Loss: 0.1199469342827797 | Accuracy: 95.3125%\n"
          ]
        },
        {
          "output_type": "stream",
          "name": "stderr",
          "text": [
            "Epoch 4:  30%|███       | 226/751 [00:06<00:13, 38.10batch/s, accuracy=95.3125%, loss=0.222]"
          ]
        },
        {
          "output_type": "stream",
          "name": "stdout",
          "text": [
            "GB | Epoch 4 | Loss: 0.14844223856925964 | Accuracy: 96.875%\n",
            "GB | Epoch 4 | Loss: 0.2492048740386963 | Accuracy: 93.75%\n",
            "GB | Epoch 4 | Loss: 0.16448190808296204 | Accuracy: 96.875%\n",
            "GB | Epoch 4 | Loss: 0.1909199357032776 | Accuracy: 95.3125%\n",
            "GB | Epoch 4 | Loss: 0.1632823646068573 | Accuracy: 92.1875%\n",
            "GB | Epoch 4 | Loss: 0.14019618928432465 | Accuracy: 96.875%\n",
            "GB | Epoch 4 | Loss: 0.16390661895275116 | Accuracy: 95.3125%\n",
            "GB | Epoch 4 | Loss: 0.2224869430065155 | Accuracy: 95.3125%\n"
          ]
        },
        {
          "output_type": "stream",
          "name": "stderr",
          "text": [
            "Epoch 4:  31%|███       | 234/751 [00:06<00:13, 38.08batch/s, accuracy=96.875%, loss=0.134]  "
          ]
        },
        {
          "output_type": "stream",
          "name": "stdout",
          "text": [
            "GB | Epoch 4 | Loss: 0.13183201849460602 | Accuracy: 98.4375%\n",
            "GB | Epoch 4 | Loss: 0.2759911119937897 | Accuracy: 95.3125%\n",
            "GB | Epoch 4 | Loss: 0.1672302931547165 | Accuracy: 93.75%\n",
            "GB | Epoch 4 | Loss: 0.13170179724693298 | Accuracy: 96.875%\n",
            "GB | Epoch 4 | Loss: 0.11859248578548431 | Accuracy: 96.875%\n",
            "GB | Epoch 4 | Loss: 0.18557077646255493 | Accuracy: 98.4375%\n",
            "GB | Epoch 4 | Loss: 0.07466187328100204 | Accuracy: 98.4375%\n",
            "GB | Epoch 4 | Loss: 0.13405098021030426 | Accuracy: 96.875%\n"
          ]
        },
        {
          "output_type": "stream",
          "name": "stderr",
          "text": [
            "Epoch 4:  32%|███▏      | 242/751 [00:06<00:14, 36.26batch/s, accuracy=100.0%, loss=0.0859] "
          ]
        },
        {
          "output_type": "stream",
          "name": "stdout",
          "text": [
            "GB | Epoch 4 | Loss: 0.11972462385892868 | Accuracy: 96.875%\n",
            "GB | Epoch 4 | Loss: 0.236355260014534 | Accuracy: 93.75%\n",
            "GB | Epoch 4 | Loss: 0.09034810960292816 | Accuracy: 98.4375%\n",
            "GB | Epoch 4 | Loss: 0.1482926905155182 | Accuracy: 95.3125%\n",
            "GB | Epoch 4 | Loss: 0.1131817027926445 | Accuracy: 95.3125%\n",
            "GB | Epoch 4 | Loss: 0.12803156673908234 | Accuracy: 98.4375%\n",
            "GB | Epoch 4 | Loss: 0.08591389656066895 | Accuracy: 100.0%\n"
          ]
        },
        {
          "output_type": "stream",
          "name": "stderr",
          "text": [
            "Epoch 4:  33%|███▎      | 250/751 [00:07<00:13, 37.29batch/s, accuracy=98.4375%, loss=0.133]"
          ]
        },
        {
          "output_type": "stream",
          "name": "stdout",
          "text": [
            "GB | Epoch 4 | Loss: 0.0934888944029808 | Accuracy: 98.4375%\n",
            "GB | Epoch 4 | Loss: 0.13956215977668762 | Accuracy: 98.4375%\n",
            "GB | Epoch 4 | Loss: 0.15514734387397766 | Accuracy: 95.3125%\n",
            "GB | Epoch 4 | Loss: 0.30154311656951904 | Accuracy: 93.75%\n",
            "GB | Epoch 4 | Loss: 0.07954154908657074 | Accuracy: 100.0%\n",
            "GB | Epoch 4 | Loss: 0.09146199375391006 | Accuracy: 98.4375%\n",
            "GB | Epoch 4 | Loss: 0.07277286052703857 | Accuracy: 100.0%\n",
            "GB | Epoch 4 | Loss: 0.13319389522075653 | Accuracy: 98.4375%\n"
          ]
        },
        {
          "output_type": "stream",
          "name": "stderr",
          "text": [
            "Epoch 4:  34%|███▍      | 258/751 [00:07<00:14, 33.78batch/s, accuracy=98.4375%, loss=0.0835]"
          ]
        },
        {
          "output_type": "stream",
          "name": "stdout",
          "text": [
            "GB | Epoch 4 | Loss: 0.09017576277256012 | Accuracy: 98.4375%\n",
            "GB | Epoch 4 | Loss: 0.14403653144836426 | Accuracy: 95.3125%\n",
            "GB | Epoch 4 | Loss: 0.11417980492115021 | Accuracy: 96.875%\n",
            "GB | Epoch 4 | Loss: 0.142583429813385 | Accuracy: 93.75%\n",
            "GB | Epoch 4 | Loss: 0.10709945857524872 | Accuracy: 98.4375%\n",
            "GB | Epoch 4 | Loss: 0.2116389274597168 | Accuracy: 92.1875%\n",
            "GB | Epoch 4 | Loss: 0.08347506821155548 | Accuracy: 98.4375%\n"
          ]
        },
        {
          "output_type": "stream",
          "name": "stderr",
          "text": [
            "Epoch 4:  35%|███▍      | 262/751 [00:07<00:15, 31.97batch/s, accuracy=96.875%, loss=0.161]  "
          ]
        },
        {
          "output_type": "stream",
          "name": "stdout",
          "text": [
            "GB | Epoch 4 | Loss: 0.22341300547122955 | Accuracy: 93.75%\n",
            "GB | Epoch 4 | Loss: 0.13186973333358765 | Accuracy: 95.3125%\n",
            "GB | Epoch 4 | Loss: 0.16076542437076569 | Accuracy: 96.875%\n",
            "GB | Epoch 4 | Loss: 0.1425144076347351 | Accuracy: 96.875%\n",
            "GB | Epoch 4 | Loss: 0.0866384208202362 | Accuracy: 98.4375%\n",
            "GB | Epoch 4 | Loss: 0.16075950860977173 | Accuracy: 96.875%\n"
          ]
        },
        {
          "output_type": "stream",
          "name": "stderr",
          "text": [
            "Epoch 4:  36%|███▌      | 270/751 [00:07<00:16, 29.83batch/s, accuracy=96.875%, loss=0.0969] "
          ]
        },
        {
          "output_type": "stream",
          "name": "stdout",
          "text": [
            "GB | Epoch 4 | Loss: 0.12517771124839783 | Accuracy: 96.875%\n",
            "GB | Epoch 4 | Loss: 0.08492390811443329 | Accuracy: 100.0%\n",
            "GB | Epoch 4 | Loss: 0.18272051215171814 | Accuracy: 95.3125%\n",
            "GB | Epoch 4 | Loss: 0.19041505455970764 | Accuracy: 93.75%\n",
            "GB | Epoch 4 | Loss: 0.22626416385173798 | Accuracy: 96.875%\n",
            "GB | Epoch 4 | Loss: 0.09834490716457367 | Accuracy: 95.3125%\n",
            "GB | Epoch 4 | Loss: 0.09687583148479462 | Accuracy: 96.875%\n"
          ]
        },
        {
          "output_type": "stream",
          "name": "stderr",
          "text": [
            "Epoch 4:  37%|███▋      | 277/751 [00:07<00:16, 29.32batch/s, accuracy=96.875%, loss=0.124] "
          ]
        },
        {
          "output_type": "stream",
          "name": "stdout",
          "text": [
            "GB | Epoch 4 | Loss: 0.1046583354473114 | Accuracy: 98.4375%\n",
            "GB | Epoch 4 | Loss: 0.17551852762699127 | Accuracy: 95.3125%\n",
            "GB | Epoch 4 | Loss: 0.18916602432727814 | Accuracy: 92.1875%\n",
            "GB | Epoch 4 | Loss: 0.06854094564914703 | Accuracy: 100.0%\n",
            "GB | Epoch 4 | Loss: 0.11707134544849396 | Accuracy: 98.4375%\n",
            "GB | Epoch 4 | Loss: 0.12396581470966339 | Accuracy: 96.875%\n"
          ]
        },
        {
          "output_type": "stream",
          "name": "stderr",
          "text": [
            "Epoch 4:  38%|███▊      | 283/751 [00:08<00:17, 26.90batch/s, accuracy=96.875%, loss=0.0918]"
          ]
        },
        {
          "output_type": "stream",
          "name": "stdout",
          "text": [
            "GB | Epoch 4 | Loss: 0.1546194851398468 | Accuracy: 96.875%\n",
            "GB | Epoch 4 | Loss: 0.1482531875371933 | Accuracy: 96.875%\n",
            "GB | Epoch 4 | Loss: 0.20532144606113434 | Accuracy: 93.75%\n",
            "GB | Epoch 4 | Loss: 0.12116352468729019 | Accuracy: 93.75%\n",
            "GB | Epoch 4 | Loss: 0.09178737550973892 | Accuracy: 96.875%\n"
          ]
        },
        {
          "output_type": "stream",
          "name": "stderr",
          "text": [
            "Epoch 4:  38%|███▊      | 289/751 [00:08<00:16, 27.43batch/s, accuracy=100.0%, loss=0.0912]"
          ]
        },
        {
          "output_type": "stream",
          "name": "stdout",
          "text": [
            "GB | Epoch 4 | Loss: 0.12302952259778976 | Accuracy: 98.4375%\n",
            "GB | Epoch 4 | Loss: 0.210129514336586 | Accuracy: 93.75%\n",
            "GB | Epoch 4 | Loss: 0.23031087219715118 | Accuracy: 90.625%\n",
            "GB | Epoch 4 | Loss: 0.12877900898456573 | Accuracy: 98.4375%\n",
            "GB | Epoch 4 | Loss: 0.2443552017211914 | Accuracy: 93.75%\n",
            "GB | Epoch 4 | Loss: 0.09120408445596695 | Accuracy: 100.0%\n"
          ]
        },
        {
          "output_type": "stream",
          "name": "stderr",
          "text": [
            "Epoch 4:  39%|███▉      | 295/751 [00:08<00:16, 27.47batch/s, accuracy=98.4375%, loss=0.0915]"
          ]
        },
        {
          "output_type": "stream",
          "name": "stdout",
          "text": [
            "GB | Epoch 4 | Loss: 0.11195212602615356 | Accuracy: 95.3125%\n",
            "GB | Epoch 4 | Loss: 0.1491483896970749 | Accuracy: 96.875%\n",
            "GB | Epoch 4 | Loss: 0.09030461311340332 | Accuracy: 98.4375%\n",
            "GB | Epoch 4 | Loss: 0.07363336533308029 | Accuracy: 98.4375%\n",
            "GB | Epoch 4 | Loss: 0.08564801514148712 | Accuracy: 98.4375%\n",
            "GB | Epoch 4 | Loss: 0.0914929136633873 | Accuracy: 98.4375%\n"
          ]
        },
        {
          "output_type": "stream",
          "name": "stderr",
          "text": [
            "Epoch 4:  40%|████      | 301/751 [00:08<00:16, 27.32batch/s, accuracy=93.75%, loss=0.218]"
          ]
        },
        {
          "output_type": "stream",
          "name": "stdout",
          "text": [
            "GB | Epoch 4 | Loss: 0.08491780608892441 | Accuracy: 96.875%\n",
            "GB | Epoch 4 | Loss: 0.2326471507549286 | Accuracy: 92.1875%\n",
            "GB | Epoch 4 | Loss: 0.11152906715869904 | Accuracy: 100.0%\n",
            "GB | Epoch 4 | Loss: 0.14727549254894257 | Accuracy: 95.3125%\n",
            "GB | Epoch 4 | Loss: 0.18995358049869537 | Accuracy: 93.75%\n",
            "GB | Epoch 4 | Loss: 0.21756181120872498 | Accuracy: 93.75%\n"
          ]
        },
        {
          "output_type": "stream",
          "name": "stderr",
          "text": [
            "Epoch 4:  40%|████      | 304/751 [00:09<00:17, 26.10batch/s, accuracy=93.75%, loss=0.125] "
          ]
        },
        {
          "output_type": "stream",
          "name": "stdout",
          "text": [
            "GB | Epoch 4 | Loss: 0.11998586356639862 | Accuracy: 98.4375%\n",
            "GB | Epoch 4 | Loss: 0.11518668383359909 | Accuracy: 96.875%\n",
            "GB | Epoch 4 | Loss: 0.09703647345304489 | Accuracy: 98.4375%\n",
            "GB | Epoch 4 | Loss: 0.1433512270450592 | Accuracy: 93.75%\n",
            "GB | Epoch 4 | Loss: 0.10263064503669739 | Accuracy: 96.875%\n",
            "GB | Epoch 4 | Loss: 0.12473732233047485 | Accuracy: 93.75%\n"
          ]
        },
        {
          "output_type": "stream",
          "name": "stderr",
          "text": [
            "Epoch 4:  41%|████▏     | 311/751 [00:09<00:16, 27.45batch/s, accuracy=96.875%, loss=0.159]"
          ]
        },
        {
          "output_type": "stream",
          "name": "stdout",
          "text": [
            "GB | Epoch 4 | Loss: 0.15799470245838165 | Accuracy: 95.3125%\n",
            "GB | Epoch 4 | Loss: 0.2074725329875946 | Accuracy: 93.75%\n",
            "GB | Epoch 4 | Loss: 0.19309653341770172 | Accuracy: 93.75%\n",
            "GB | Epoch 4 | Loss: 0.09484096616506577 | Accuracy: 100.0%\n",
            "GB | Epoch 4 | Loss: 0.12989124655723572 | Accuracy: 96.875%\n",
            "GB | Epoch 4 | Loss: 0.15850432217121124 | Accuracy: 96.875%\n"
          ]
        },
        {
          "output_type": "stream",
          "name": "stderr",
          "text": [
            "Epoch 4:  42%|████▏     | 317/751 [00:09<00:16, 26.67batch/s, accuracy=100.0%, loss=0.103]  "
          ]
        },
        {
          "output_type": "stream",
          "name": "stdout",
          "text": [
            "GB | Epoch 4 | Loss: 0.10091423243284225 | Accuracy: 96.875%\n",
            "GB | Epoch 4 | Loss: 0.09668424725532532 | Accuracy: 96.875%\n",
            "GB | Epoch 4 | Loss: 0.08253592997789383 | Accuracy: 100.0%\n",
            "GB | Epoch 4 | Loss: 0.06885592639446259 | Accuracy: 98.4375%\n",
            "GB | Epoch 4 | Loss: 0.1081085279583931 | Accuracy: 98.4375%\n",
            "GB | Epoch 4 | Loss: 0.1034078299999237 | Accuracy: 100.0%\n"
          ]
        },
        {
          "output_type": "stream",
          "name": "stderr",
          "text": [
            "Epoch 4:  43%|████▎     | 323/751 [00:09<00:15, 26.84batch/s, accuracy=93.75%, loss=0.13]  "
          ]
        },
        {
          "output_type": "stream",
          "name": "stdout",
          "text": [
            "GB | Epoch 4 | Loss: 0.2664870321750641 | Accuracy: 92.1875%\n",
            "GB | Epoch 4 | Loss: 0.2008209228515625 | Accuracy: 90.625%\n",
            "GB | Epoch 4 | Loss: 0.09638671576976776 | Accuracy: 100.0%\n",
            "GB | Epoch 4 | Loss: 0.09027788788080215 | Accuracy: 98.4375%\n",
            "GB | Epoch 4 | Loss: 0.20124071836471558 | Accuracy: 90.625%\n",
            "GB | Epoch 4 | Loss: 0.1301923543214798 | Accuracy: 93.75%\n"
          ]
        },
        {
          "output_type": "stream",
          "name": "stderr",
          "text": [
            "Epoch 4:  44%|████▍     | 329/751 [00:09<00:16, 25.83batch/s, accuracy=95.3125%, loss=0.152]"
          ]
        },
        {
          "output_type": "stream",
          "name": "stdout",
          "text": [
            "GB | Epoch 4 | Loss: 0.09838319569826126 | Accuracy: 96.875%\n",
            "GB | Epoch 4 | Loss: 0.12240821868181229 | Accuracy: 96.875%\n",
            "GB | Epoch 4 | Loss: 0.2627694606781006 | Accuracy: 90.625%\n",
            "GB | Epoch 4 | Loss: 0.10863631218671799 | Accuracy: 98.4375%\n",
            "GB | Epoch 4 | Loss: 0.10054606199264526 | Accuracy: 98.4375%\n",
            "GB | Epoch 4 | Loss: 0.15200833976268768 | Accuracy: 95.3125%\n"
          ]
        },
        {
          "output_type": "stream",
          "name": "stderr",
          "text": [
            "Epoch 4:  45%|████▍     | 335/751 [00:10<00:16, 24.66batch/s, accuracy=96.875%, loss=0.0935]"
          ]
        },
        {
          "output_type": "stream",
          "name": "stdout",
          "text": [
            "GB | Epoch 4 | Loss: 0.09523989260196686 | Accuracy: 98.4375%\n",
            "GB | Epoch 4 | Loss: 0.2612285614013672 | Accuracy: 96.875%\n",
            "GB | Epoch 4 | Loss: 0.07798547297716141 | Accuracy: 98.4375%\n",
            "GB | Epoch 4 | Loss: 0.20092687010765076 | Accuracy: 96.875%\n",
            "GB | Epoch 4 | Loss: 0.09350785613059998 | Accuracy: 96.875%\n"
          ]
        },
        {
          "output_type": "stream",
          "name": "stderr",
          "text": [
            "Epoch 4:  45%|████▌     | 341/751 [00:10<00:16, 24.48batch/s, accuracy=95.3125%, loss=0.202]"
          ]
        },
        {
          "output_type": "stream",
          "name": "stdout",
          "text": [
            "GB | Epoch 4 | Loss: 0.13710997998714447 | Accuracy: 95.3125%\n",
            "GB | Epoch 4 | Loss: 0.15591369569301605 | Accuracy: 93.75%\n",
            "GB | Epoch 4 | Loss: 0.12583555281162262 | Accuracy: 98.4375%\n",
            "GB | Epoch 4 | Loss: 0.08403191715478897 | Accuracy: 100.0%\n",
            "GB | Epoch 4 | Loss: 0.20160289108753204 | Accuracy: 95.3125%\n"
          ]
        },
        {
          "output_type": "stream",
          "name": "stderr",
          "text": [
            "Epoch 4:  46%|████▌     | 347/751 [00:10<00:16, 24.63batch/s, accuracy=98.4375%, loss=0.0734]"
          ]
        },
        {
          "output_type": "stream",
          "name": "stdout",
          "text": [
            "GB | Epoch 4 | Loss: 0.25761911273002625 | Accuracy: 93.75%\n",
            "GB | Epoch 4 | Loss: 0.1282406598329544 | Accuracy: 95.3125%\n",
            "GB | Epoch 4 | Loss: 0.10258626937866211 | Accuracy: 95.3125%\n",
            "GB | Epoch 4 | Loss: 0.0926654040813446 | Accuracy: 100.0%\n",
            "GB | Epoch 4 | Loss: 0.1656809151172638 | Accuracy: 95.3125%\n",
            "GB | Epoch 4 | Loss: 0.07339832186698914 | Accuracy: 98.4375%\n"
          ]
        },
        {
          "output_type": "stream",
          "name": "stderr",
          "text": [
            "Epoch 4:  47%|████▋     | 353/751 [00:10<00:15, 25.24batch/s, accuracy=100.0%, loss=0.0585]"
          ]
        },
        {
          "output_type": "stream",
          "name": "stdout",
          "text": [
            "GB | Epoch 4 | Loss: 0.4231540858745575 | Accuracy: 93.75%\n",
            "GB | Epoch 4 | Loss: 0.15049412846565247 | Accuracy: 95.3125%\n",
            "GB | Epoch 4 | Loss: 0.08643375337123871 | Accuracy: 100.0%\n",
            "GB | Epoch 4 | Loss: 0.1466621458530426 | Accuracy: 95.3125%\n",
            "GB | Epoch 4 | Loss: 0.08700000494718552 | Accuracy: 98.4375%\n",
            "GB | Epoch 4 | Loss: 0.05845935642719269 | Accuracy: 100.0%\n"
          ]
        },
        {
          "output_type": "stream",
          "name": "stderr",
          "text": [
            "Epoch 4:  48%|████▊     | 359/751 [00:11<00:15, 25.77batch/s, accuracy=98.4375%, loss=0.0821]"
          ]
        },
        {
          "output_type": "stream",
          "name": "stdout",
          "text": [
            "GB | Epoch 4 | Loss: 0.07605976611375809 | Accuracy: 98.4375%\n",
            "GB | Epoch 4 | Loss: 0.08428139239549637 | Accuracy: 100.0%\n",
            "GB | Epoch 4 | Loss: 0.13169856369495392 | Accuracy: 98.4375%\n",
            "GB | Epoch 4 | Loss: 0.10509879887104034 | Accuracy: 98.4375%\n",
            "GB | Epoch 4 | Loss: 0.07034511864185333 | Accuracy: 100.0%\n",
            "GB | Epoch 4 | Loss: 0.08211224526166916 | Accuracy: 98.4375%\n"
          ]
        },
        {
          "output_type": "stream",
          "name": "stderr",
          "text": [
            "Epoch 4:  48%|████▊     | 362/751 [00:11<00:15, 24.83batch/s, accuracy=96.875%, loss=0.188]"
          ]
        },
        {
          "output_type": "stream",
          "name": "stdout",
          "text": [
            "GB | Epoch 4 | Loss: 0.1370585411787033 | Accuracy: 98.4375%\n",
            "GB | Epoch 4 | Loss: 0.08470184355974197 | Accuracy: 98.4375%\n",
            "GB | Epoch 4 | Loss: 0.25015655159950256 | Accuracy: 95.3125%\n",
            "GB | Epoch 4 | Loss: 0.10455913841724396 | Accuracy: 96.875%\n",
            "GB | Epoch 4 | Loss: 0.18782395124435425 | Accuracy: 96.875%\n"
          ]
        },
        {
          "output_type": "stream",
          "name": "stderr",
          "text": [
            "Epoch 4:  49%|████▉     | 368/751 [00:11<00:15, 24.31batch/s, accuracy=98.4375%, loss=0.104]"
          ]
        },
        {
          "output_type": "stream",
          "name": "stdout",
          "text": [
            "GB | Epoch 4 | Loss: 0.07998137921094894 | Accuracy: 98.4375%\n",
            "GB | Epoch 4 | Loss: 0.09921491146087646 | Accuracy: 100.0%\n",
            "GB | Epoch 4 | Loss: 0.08836674690246582 | Accuracy: 100.0%\n",
            "GB | Epoch 4 | Loss: 0.12484053522348404 | Accuracy: 98.4375%\n",
            "GB | Epoch 4 | Loss: 0.10434962809085846 | Accuracy: 98.4375%\n"
          ]
        },
        {
          "output_type": "stream",
          "name": "stderr",
          "text": [
            "Epoch 4:  50%|████▉     | 375/751 [00:11<00:13, 28.38batch/s, accuracy=98.4375%, loss=0.101]"
          ]
        },
        {
          "output_type": "stream",
          "name": "stdout",
          "text": [
            "GB | Epoch 4 | Loss: 0.08266764134168625 | Accuracy: 96.875%\n",
            "GB | Epoch 4 | Loss: 0.1974555402994156 | Accuracy: 92.1875%\n",
            "GB | Epoch 4 | Loss: 0.06645308434963226 | Accuracy: 98.4375%\n",
            "GB | Epoch 4 | Loss: 0.06820915639400482 | Accuracy: 98.4375%\n",
            "GB | Epoch 4 | Loss: 0.11456537246704102 | Accuracy: 95.3125%\n",
            "GB | Epoch 4 | Loss: 0.1149202287197113 | Accuracy: 98.4375%\n",
            "GB | Epoch 4 | Loss: 0.19985702633857727 | Accuracy: 96.875%\n",
            "GB | Epoch 4 | Loss: 0.10129711031913757 | Accuracy: 98.4375%\n"
          ]
        },
        {
          "output_type": "stream",
          "name": "stderr",
          "text": [
            "Epoch 4:  51%|█████     | 383/751 [00:11<00:11, 32.73batch/s, accuracy=93.75%, loss=0.256] "
          ]
        },
        {
          "output_type": "stream",
          "name": "stdout",
          "text": [
            "GB | Epoch 4 | Loss: 0.15854574739933014 | Accuracy: 96.875%\n",
            "GB | Epoch 4 | Loss: 0.16371041536331177 | Accuracy: 96.875%\n",
            "GB | Epoch 4 | Loss: 0.20235797762870789 | Accuracy: 95.3125%\n",
            "GB | Epoch 4 | Loss: 0.08420663326978683 | Accuracy: 98.4375%\n",
            "GB | Epoch 4 | Loss: 0.12893535196781158 | Accuracy: 93.75%\n",
            "GB | Epoch 4 | Loss: 0.04766412451863289 | Accuracy: 100.0%\n",
            "GB | Epoch 4 | Loss: 0.11185401678085327 | Accuracy: 96.875%\n",
            "GB | Epoch 4 | Loss: 0.25578340888023376 | Accuracy: 93.75%\n"
          ]
        },
        {
          "output_type": "stream",
          "name": "stderr",
          "text": [
            "Epoch 4:  52%|█████▏    | 391/751 [00:12<00:10, 35.43batch/s, accuracy=98.4375%, loss=0.12]"
          ]
        },
        {
          "output_type": "stream",
          "name": "stdout",
          "text": [
            "GB | Epoch 4 | Loss: 0.06437526643276215 | Accuracy: 100.0%\n",
            "GB | Epoch 4 | Loss: 0.120570607483387 | Accuracy: 96.875%\n",
            "GB | Epoch 4 | Loss: 0.12600401043891907 | Accuracy: 98.4375%\n",
            "GB | Epoch 4 | Loss: 0.07954171299934387 | Accuracy: 98.4375%\n",
            "GB | Epoch 4 | Loss: 0.11881468445062637 | Accuracy: 95.3125%\n",
            "GB | Epoch 4 | Loss: 0.15388339757919312 | Accuracy: 93.75%\n",
            "GB | Epoch 4 | Loss: 0.1023157611489296 | Accuracy: 96.875%\n",
            "GB | Epoch 4 | Loss: 0.11961174756288528 | Accuracy: 98.4375%\n"
          ]
        },
        {
          "output_type": "stream",
          "name": "stderr",
          "text": [
            "Epoch 4:  53%|█████▎    | 399/751 [00:12<00:10, 34.15batch/s, accuracy=95.3125%, loss=0.14]  "
          ]
        },
        {
          "output_type": "stream",
          "name": "stdout",
          "text": [
            "GB | Epoch 4 | Loss: 0.1372026652097702 | Accuracy: 95.3125%\n",
            "GB | Epoch 4 | Loss: 0.10595566779375076 | Accuracy: 95.3125%\n",
            "GB | Epoch 4 | Loss: 0.1042914018034935 | Accuracy: 98.4375%\n",
            "GB | Epoch 4 | Loss: 0.07915911078453064 | Accuracy: 98.4375%\n",
            "GB | Epoch 4 | Loss: 0.08740770071744919 | Accuracy: 98.4375%\n",
            "GB | Epoch 4 | Loss: 0.07376846671104431 | Accuracy: 98.4375%\n",
            "GB | Epoch 4 | Loss: 0.13995714485645294 | Accuracy: 95.3125%\n"
          ]
        },
        {
          "output_type": "stream",
          "name": "stderr",
          "text": [
            "Epoch 4:  54%|█████▍    | 408/751 [00:12<00:09, 36.67batch/s, accuracy=92.1875%, loss=0.178]"
          ]
        },
        {
          "output_type": "stream",
          "name": "stdout",
          "text": [
            "GB | Epoch 4 | Loss: 0.10373501479625702 | Accuracy: 96.875%\n",
            "GB | Epoch 4 | Loss: 0.07265649735927582 | Accuracy: 100.0%\n",
            "GB | Epoch 4 | Loss: 0.08139596879482269 | Accuracy: 100.0%\n",
            "GB | Epoch 4 | Loss: 0.11464998126029968 | Accuracy: 96.875%\n",
            "GB | Epoch 4 | Loss: 0.06985358893871307 | Accuracy: 100.0%\n",
            "GB | Epoch 4 | Loss: 0.11170674860477448 | Accuracy: 98.4375%\n",
            "GB | Epoch 4 | Loss: 0.07757236063480377 | Accuracy: 96.875%\n",
            "GB | Epoch 4 | Loss: 0.17829781770706177 | Accuracy: 92.1875%\n"
          ]
        },
        {
          "output_type": "stream",
          "name": "stderr",
          "text": [
            "Epoch 4:  55%|█████▌    | 416/751 [00:12<00:08, 37.33batch/s, accuracy=96.875%, loss=0.125]"
          ]
        },
        {
          "output_type": "stream",
          "name": "stdout",
          "text": [
            "GB | Epoch 4 | Loss: 0.07729227095842361 | Accuracy: 100.0%\n",
            "GB | Epoch 4 | Loss: 0.08203376084566116 | Accuracy: 96.875%\n",
            "GB | Epoch 4 | Loss: 0.07126442342996597 | Accuracy: 98.4375%\n",
            "GB | Epoch 4 | Loss: 0.1098182275891304 | Accuracy: 95.3125%\n",
            "GB | Epoch 4 | Loss: 0.08113300055265427 | Accuracy: 98.4375%\n",
            "GB | Epoch 4 | Loss: 0.09420862793922424 | Accuracy: 100.0%\n",
            "GB | Epoch 4 | Loss: 0.23095622658729553 | Accuracy: 93.75%\n",
            "GB | Epoch 4 | Loss: 0.1252024918794632 | Accuracy: 96.875%\n"
          ]
        },
        {
          "output_type": "stream",
          "name": "stderr",
          "text": [
            "Epoch 4:  56%|█████▋    | 424/751 [00:13<00:08, 36.56batch/s, accuracy=96.875%, loss=0.0962]"
          ]
        },
        {
          "output_type": "stream",
          "name": "stdout",
          "text": [
            "GB | Epoch 4 | Loss: 0.24622710049152374 | Accuracy: 98.4375%\n",
            "GB | Epoch 4 | Loss: 0.12488602846860886 | Accuracy: 96.875%\n",
            "GB | Epoch 4 | Loss: 0.16504545509815216 | Accuracy: 96.875%\n",
            "GB | Epoch 4 | Loss: 0.1914980262517929 | Accuracy: 93.75%\n",
            "GB | Epoch 4 | Loss: 0.10125018656253815 | Accuracy: 100.0%\n",
            "GB | Epoch 4 | Loss: 0.07169584929943085 | Accuracy: 100.0%\n",
            "GB | Epoch 4 | Loss: 0.27639806270599365 | Accuracy: 93.75%\n",
            "GB | Epoch 4 | Loss: 0.09620995819568634 | Accuracy: 96.875%\n"
          ]
        },
        {
          "output_type": "stream",
          "name": "stderr",
          "text": [
            "Epoch 4:  58%|█████▊    | 432/751 [00:13<00:08, 36.74batch/s, accuracy=96.875%, loss=0.105]"
          ]
        },
        {
          "output_type": "stream",
          "name": "stdout",
          "text": [
            "GB | Epoch 4 | Loss: 0.11767411231994629 | Accuracy: 96.875%\n",
            "GB | Epoch 4 | Loss: 0.0541771724820137 | Accuracy: 100.0%\n",
            "GB | Epoch 4 | Loss: 0.10726109147071838 | Accuracy: 98.4375%\n",
            "GB | Epoch 4 | Loss: 0.16616861522197723 | Accuracy: 95.3125%\n",
            "GB | Epoch 4 | Loss: 0.08678137511014938 | Accuracy: 96.875%\n",
            "GB | Epoch 4 | Loss: 0.195657879114151 | Accuracy: 95.3125%\n",
            "GB | Epoch 4 | Loss: 0.07936466485261917 | Accuracy: 98.4375%\n",
            "GB | Epoch 4 | Loss: 0.10471390187740326 | Accuracy: 96.875%\n"
          ]
        },
        {
          "output_type": "stream",
          "name": "stderr",
          "text": [
            "Epoch 4:  58%|█████▊    | 436/751 [00:13<00:08, 35.22batch/s, accuracy=96.875%, loss=0.148]"
          ]
        },
        {
          "output_type": "stream",
          "name": "stdout",
          "text": [
            "GB | Epoch 4 | Loss: 0.09662263840436935 | Accuracy: 98.4375%\n",
            "GB | Epoch 4 | Loss: 0.11892988532781601 | Accuracy: 95.3125%\n",
            "GB | Epoch 4 | Loss: 0.10426825284957886 | Accuracy: 98.4375%\n",
            "GB | Epoch 4 | Loss: 0.14704057574272156 | Accuracy: 98.4375%\n",
            "GB | Epoch 4 | Loss: 0.09574034065008163 | Accuracy: 96.875%\n",
            "GB | Epoch 4 | Loss: 0.15255723893642426 | Accuracy: 96.875%\n",
            "GB | Epoch 4 | Loss: 0.14804470539093018 | Accuracy: 96.875%\n"
          ]
        },
        {
          "output_type": "stream",
          "name": "stderr",
          "text": [
            "Epoch 4:  59%|█████▉    | 444/751 [00:13<00:08, 35.65batch/s, accuracy=98.4375%, loss=0.129] "
          ]
        },
        {
          "output_type": "stream",
          "name": "stdout",
          "text": [
            "GB | Epoch 4 | Loss: 0.11017821729183197 | Accuracy: 96.875%\n",
            "GB | Epoch 4 | Loss: 0.14027532935142517 | Accuracy: 98.4375%\n",
            "GB | Epoch 4 | Loss: 0.13190220296382904 | Accuracy: 95.3125%\n",
            "GB | Epoch 4 | Loss: 0.12408708035945892 | Accuracy: 98.4375%\n",
            "GB | Epoch 4 | Loss: 0.04096043482422829 | Accuracy: 100.0%\n",
            "GB | Epoch 4 | Loss: 0.1418711543083191 | Accuracy: 96.875%\n",
            "GB | Epoch 4 | Loss: 0.09366949647665024 | Accuracy: 95.3125%\n",
            "GB | Epoch 4 | Loss: 0.12878939509391785 | Accuracy: 98.4375%\n"
          ]
        },
        {
          "output_type": "stream",
          "name": "stderr",
          "text": [
            "Epoch 4:  60%|██████    | 452/751 [00:13<00:08, 36.62batch/s, accuracy=95.3125%, loss=0.128]"
          ]
        },
        {
          "output_type": "stream",
          "name": "stdout",
          "text": [
            "GB | Epoch 4 | Loss: 0.08407057821750641 | Accuracy: 98.4375%\n",
            "GB | Epoch 4 | Loss: 0.10436651110649109 | Accuracy: 98.4375%\n",
            "GB | Epoch 4 | Loss: 0.09007112681865692 | Accuracy: 96.875%\n",
            "GB | Epoch 4 | Loss: 0.04305589944124222 | Accuracy: 100.0%\n",
            "GB | Epoch 4 | Loss: 0.1140870451927185 | Accuracy: 95.3125%\n",
            "GB | Epoch 4 | Loss: 0.07861430943012238 | Accuracy: 98.4375%\n",
            "GB | Epoch 4 | Loss: 0.04581443592905998 | Accuracy: 100.0%\n",
            "GB | Epoch 4 | Loss: 0.12809592485427856 | Accuracy: 95.3125%\n"
          ]
        },
        {
          "output_type": "stream",
          "name": "stderr",
          "text": [
            "Epoch 4:  61%|██████▏   | 461/751 [00:14<00:07, 36.78batch/s, accuracy=100.0%, loss=0.0924] "
          ]
        },
        {
          "output_type": "stream",
          "name": "stdout",
          "text": [
            "GB | Epoch 4 | Loss: 0.04720739647746086 | Accuracy: 100.0%\n",
            "GB | Epoch 4 | Loss: 0.10315265506505966 | Accuracy: 98.4375%\n",
            "GB | Epoch 4 | Loss: 0.11135418713092804 | Accuracy: 98.4375%\n",
            "GB | Epoch 4 | Loss: 0.0834180936217308 | Accuracy: 96.875%\n",
            "GB | Epoch 4 | Loss: 0.08426006883382797 | Accuracy: 98.4375%\n",
            "GB | Epoch 4 | Loss: 0.1251765489578247 | Accuracy: 95.3125%\n",
            "GB | Epoch 4 | Loss: 0.17205536365509033 | Accuracy: 98.4375%\n",
            "GB | Epoch 4 | Loss: 0.09242277592420578 | Accuracy: 100.0%\n"
          ]
        },
        {
          "output_type": "stream",
          "name": "stderr",
          "text": [
            "Epoch 4:  62%|██████▏   | 469/751 [00:14<00:07, 37.15batch/s, accuracy=96.875%, loss=0.12] "
          ]
        },
        {
          "output_type": "stream",
          "name": "stdout",
          "text": [
            "GB | Epoch 4 | Loss: 0.08195555955171585 | Accuracy: 100.0%\n",
            "GB | Epoch 4 | Loss: 0.16935648024082184 | Accuracy: 93.75%\n",
            "GB | Epoch 4 | Loss: 0.07152970880270004 | Accuracy: 98.4375%\n",
            "GB | Epoch 4 | Loss: 0.07996203750371933 | Accuracy: 98.4375%\n",
            "GB | Epoch 4 | Loss: 0.06621696799993515 | Accuracy: 98.4375%\n",
            "GB | Epoch 4 | Loss: 0.06436248123645782 | Accuracy: 98.4375%\n",
            "GB | Epoch 4 | Loss: 0.05661066621541977 | Accuracy: 100.0%\n",
            "GB | Epoch 4 | Loss: 0.11977597326040268 | Accuracy: 96.875%\n"
          ]
        },
        {
          "output_type": "stream",
          "name": "stderr",
          "text": [
            "Epoch 4:  64%|██████▎   | 477/751 [00:14<00:07, 35.88batch/s, accuracy=96.875%, loss=0.121] "
          ]
        },
        {
          "output_type": "stream",
          "name": "stdout",
          "text": [
            "GB | Epoch 4 | Loss: 0.09111450612545013 | Accuracy: 98.4375%\n",
            "GB | Epoch 4 | Loss: 0.16868574917316437 | Accuracy: 93.75%\n",
            "GB | Epoch 4 | Loss: 0.1862228661775589 | Accuracy: 98.4375%\n",
            "GB | Epoch 4 | Loss: 0.11547676473855972 | Accuracy: 96.875%\n",
            "GB | Epoch 4 | Loss: 0.03314025327563286 | Accuracy: 100.0%\n",
            "GB | Epoch 4 | Loss: 0.13073524832725525 | Accuracy: 96.875%\n",
            "GB | Epoch 4 | Loss: 0.0904853418469429 | Accuracy: 96.875%\n",
            "GB | Epoch 4 | Loss: 0.12058670073747635 | Accuracy: 96.875%\n"
          ]
        },
        {
          "output_type": "stream",
          "name": "stderr",
          "text": [
            "Epoch 4:  65%|██████▍   | 485/751 [00:14<00:07, 36.29batch/s, accuracy=98.4375%, loss=0.12] "
          ]
        },
        {
          "output_type": "stream",
          "name": "stdout",
          "text": [
            "GB | Epoch 4 | Loss: 0.10640890896320343 | Accuracy: 98.4375%\n",
            "GB | Epoch 4 | Loss: 0.13241322338581085 | Accuracy: 95.3125%\n",
            "GB | Epoch 4 | Loss: 0.1582120954990387 | Accuracy: 96.875%\n",
            "GB | Epoch 4 | Loss: 0.04823600500822067 | Accuracy: 100.0%\n",
            "GB | Epoch 4 | Loss: 0.07105296850204468 | Accuracy: 98.4375%\n",
            "GB | Epoch 4 | Loss: 0.17398811876773834 | Accuracy: 95.3125%\n",
            "GB | Epoch 4 | Loss: 0.1733740121126175 | Accuracy: 95.3125%\n",
            "GB | Epoch 4 | Loss: 0.12014790624380112 | Accuracy: 98.4375%\n"
          ]
        },
        {
          "output_type": "stream",
          "name": "stderr",
          "text": [
            "Epoch 4:  66%|██████▌   | 493/751 [00:14<00:06, 37.09batch/s, accuracy=95.3125%, loss=0.137] "
          ]
        },
        {
          "output_type": "stream",
          "name": "stdout",
          "text": [
            "GB | Epoch 4 | Loss: 0.18706771731376648 | Accuracy: 96.875%\n",
            "GB | Epoch 4 | Loss: 0.10005113482475281 | Accuracy: 98.4375%\n",
            "GB | Epoch 4 | Loss: 0.13699954748153687 | Accuracy: 98.4375%\n",
            "GB | Epoch 4 | Loss: 0.08163619041442871 | Accuracy: 96.875%\n",
            "GB | Epoch 4 | Loss: 0.08261864632368088 | Accuracy: 98.4375%\n",
            "GB | Epoch 4 | Loss: 0.23651452362537384 | Accuracy: 95.3125%\n",
            "GB | Epoch 4 | Loss: 0.09982270747423172 | Accuracy: 95.3125%\n",
            "GB | Epoch 4 | Loss: 0.1366361677646637 | Accuracy: 95.3125%\n"
          ]
        },
        {
          "output_type": "stream",
          "name": "stderr",
          "text": [
            "Epoch 4:  67%|██████▋   | 501/751 [00:15<00:06, 36.76batch/s, accuracy=93.75%, loss=0.24] "
          ]
        },
        {
          "output_type": "stream",
          "name": "stdout",
          "text": [
            "GB | Epoch 4 | Loss: 0.0729002058506012 | Accuracy: 98.4375%\n",
            "GB | Epoch 4 | Loss: 0.14959684014320374 | Accuracy: 92.1875%\n",
            "GB | Epoch 4 | Loss: 0.20823436975479126 | Accuracy: 95.3125%\n",
            "GB | Epoch 4 | Loss: 0.17720137536525726 | Accuracy: 98.4375%\n",
            "GB | Epoch 4 | Loss: 0.09904257208108902 | Accuracy: 96.875%\n",
            "GB | Epoch 4 | Loss: 0.08426479250192642 | Accuracy: 98.4375%\n",
            "GB | Epoch 4 | Loss: 0.10015179216861725 | Accuracy: 95.3125%\n",
            "GB | Epoch 4 | Loss: 0.2402402013540268 | Accuracy: 93.75%\n"
          ]
        },
        {
          "output_type": "stream",
          "name": "stderr",
          "text": [
            "Epoch 4:  68%|██████▊   | 509/751 [00:15<00:06, 36.85batch/s, accuracy=100.0%, loss=0.0869]"
          ]
        },
        {
          "output_type": "stream",
          "name": "stdout",
          "text": [
            "GB | Epoch 4 | Loss: 0.07646183669567108 | Accuracy: 98.4375%\n",
            "GB | Epoch 4 | Loss: 0.06519998610019684 | Accuracy: 98.4375%\n",
            "GB | Epoch 4 | Loss: 0.07274243980646133 | Accuracy: 98.4375%\n",
            "GB | Epoch 4 | Loss: 0.1081964373588562 | Accuracy: 96.875%\n",
            "GB | Epoch 4 | Loss: 0.1429232954978943 | Accuracy: 95.3125%\n",
            "GB | Epoch 4 | Loss: 0.08953584730625153 | Accuracy: 98.4375%\n",
            "GB | Epoch 4 | Loss: 0.12663468718528748 | Accuracy: 96.875%\n",
            "GB | Epoch 4 | Loss: 0.08689948916435242 | Accuracy: 100.0%\n"
          ]
        },
        {
          "output_type": "stream",
          "name": "stderr",
          "text": [
            "Epoch 4:  69%|██████▉   | 517/751 [00:15<00:06, 35.35batch/s, accuracy=96.875%, loss=0.146] "
          ]
        },
        {
          "output_type": "stream",
          "name": "stdout",
          "text": [
            "GB | Epoch 4 | Loss: 0.2858552634716034 | Accuracy: 95.3125%\n",
            "GB | Epoch 4 | Loss: 0.051560670137405396 | Accuracy: 100.0%\n",
            "GB | Epoch 4 | Loss: 0.05449925363063812 | Accuracy: 100.0%\n",
            "GB | Epoch 4 | Loss: 0.06948572397232056 | Accuracy: 98.4375%\n",
            "GB | Epoch 4 | Loss: 0.06013092026114464 | Accuracy: 100.0%\n",
            "GB | Epoch 4 | Loss: 0.07161998748779297 | Accuracy: 96.875%\n",
            "GB | Epoch 4 | Loss: 0.14647455513477325 | Accuracy: 96.875%\n"
          ]
        },
        {
          "output_type": "stream",
          "name": "stderr",
          "text": [
            "Epoch 4:  70%|██████▉   | 525/751 [00:15<00:06, 36.01batch/s, accuracy=100.0%, loss=0.0448]"
          ]
        },
        {
          "output_type": "stream",
          "name": "stdout",
          "text": [
            "GB | Epoch 4 | Loss: 0.0645010769367218 | Accuracy: 100.0%\n",
            "GB | Epoch 4 | Loss: 0.04514140263199806 | Accuracy: 98.4375%\n",
            "GB | Epoch 4 | Loss: 0.08270202577114105 | Accuracy: 98.4375%\n",
            "GB | Epoch 4 | Loss: 0.06584402918815613 | Accuracy: 98.4375%\n",
            "GB | Epoch 4 | Loss: 0.08420038223266602 | Accuracy: 96.875%\n",
            "GB | Epoch 4 | Loss: 0.06798971444368362 | Accuracy: 100.0%\n",
            "GB | Epoch 4 | Loss: 0.05003141239285469 | Accuracy: 100.0%\n",
            "GB | Epoch 4 | Loss: 0.044781643897295 | Accuracy: 100.0%\n"
          ]
        },
        {
          "output_type": "stream",
          "name": "stderr",
          "text": [
            "Epoch 4:  71%|███████   | 533/751 [00:16<00:05, 36.69batch/s, accuracy=96.875%, loss=0.073]"
          ]
        },
        {
          "output_type": "stream",
          "name": "stdout",
          "text": [
            "GB | Epoch 4 | Loss: 0.10460367053747177 | Accuracy: 96.875%\n",
            "GB | Epoch 4 | Loss: 0.10356409102678299 | Accuracy: 93.75%\n",
            "GB | Epoch 4 | Loss: 0.05701076611876488 | Accuracy: 100.0%\n",
            "GB | Epoch 4 | Loss: 0.06075531616806984 | Accuracy: 98.4375%\n",
            "GB | Epoch 4 | Loss: 0.12220964580774307 | Accuracy: 96.875%\n",
            "GB | Epoch 4 | Loss: 0.12004061788320541 | Accuracy: 95.3125%\n",
            "GB | Epoch 4 | Loss: 0.07816760987043381 | Accuracy: 100.0%\n",
            "GB | Epoch 4 | Loss: 0.0730072632431984 | Accuracy: 96.875%\n"
          ]
        },
        {
          "output_type": "stream",
          "name": "stderr",
          "text": [
            "Epoch 4:  72%|███████▏  | 542/751 [00:16<00:05, 37.25batch/s, accuracy=96.875%, loss=0.0765]"
          ]
        },
        {
          "output_type": "stream",
          "name": "stdout",
          "text": [
            "GB | Epoch 4 | Loss: 0.09596505761146545 | Accuracy: 96.875%\n",
            "GB | Epoch 4 | Loss: 0.09085915237665176 | Accuracy: 96.875%\n",
            "GB | Epoch 4 | Loss: 0.037027981132268906 | Accuracy: 100.0%\n",
            "GB | Epoch 4 | Loss: 0.07409856468439102 | Accuracy: 98.4375%\n",
            "GB | Epoch 4 | Loss: 0.10261081904172897 | Accuracy: 96.875%\n",
            "GB | Epoch 4 | Loss: 0.07488816231489182 | Accuracy: 98.4375%\n",
            "GB | Epoch 4 | Loss: 0.10956700146198273 | Accuracy: 96.875%\n",
            "GB | Epoch 4 | Loss: 0.07650942355394363 | Accuracy: 96.875%\n"
          ]
        },
        {
          "output_type": "stream",
          "name": "stderr",
          "text": [
            "Epoch 4:  73%|███████▎  | 550/751 [00:16<00:05, 37.39batch/s, accuracy=95.3125%, loss=0.114]"
          ]
        },
        {
          "output_type": "stream",
          "name": "stdout",
          "text": [
            "GB | Epoch 4 | Loss: 0.07024097442626953 | Accuracy: 100.0%\n",
            "GB | Epoch 4 | Loss: 0.11592427641153336 | Accuracy: 98.4375%\n",
            "GB | Epoch 4 | Loss: 0.08365102857351303 | Accuracy: 96.875%\n",
            "GB | Epoch 4 | Loss: 0.029942026361823082 | Accuracy: 100.0%\n",
            "GB | Epoch 4 | Loss: 0.11913212388753891 | Accuracy: 96.875%\n",
            "GB | Epoch 4 | Loss: 0.09664792567491531 | Accuracy: 98.4375%\n",
            "GB | Epoch 4 | Loss: 0.0833531841635704 | Accuracy: 98.4375%\n",
            "GB | Epoch 4 | Loss: 0.11428043246269226 | Accuracy: 95.3125%\n"
          ]
        },
        {
          "output_type": "stream",
          "name": "stderr",
          "text": [
            "Epoch 4:  74%|███████▍  | 554/751 [00:16<00:05, 35.80batch/s, accuracy=95.3125%, loss=0.182]"
          ]
        },
        {
          "output_type": "stream",
          "name": "stdout",
          "text": [
            "GB | Epoch 4 | Loss: 0.04820089414715767 | Accuracy: 100.0%\n",
            "GB | Epoch 4 | Loss: 0.06571843475103378 | Accuracy: 98.4375%\n",
            "GB | Epoch 4 | Loss: 0.0693819597363472 | Accuracy: 100.0%\n",
            "GB | Epoch 4 | Loss: 0.06013219803571701 | Accuracy: 100.0%\n",
            "GB | Epoch 4 | Loss: 0.039383478462696075 | Accuracy: 100.0%\n",
            "GB | Epoch 4 | Loss: 0.1434149444103241 | Accuracy: 98.4375%\n",
            "GB | Epoch 4 | Loss: 0.1821805089712143 | Accuracy: 95.3125%\n"
          ]
        },
        {
          "output_type": "stream",
          "name": "stderr",
          "text": [
            "Epoch 4:  75%|███████▍  | 562/751 [00:16<00:05, 36.17batch/s, accuracy=93.75%, loss=0.167]  "
          ]
        },
        {
          "output_type": "stream",
          "name": "stdout",
          "text": [
            "GB | Epoch 4 | Loss: 0.236550435423851 | Accuracy: 93.75%\n",
            "GB | Epoch 4 | Loss: 0.07276006042957306 | Accuracy: 98.4375%\n",
            "GB | Epoch 4 | Loss: 0.14484572410583496 | Accuracy: 95.3125%\n",
            "GB | Epoch 4 | Loss: 0.1266637146472931 | Accuracy: 93.75%\n",
            "GB | Epoch 4 | Loss: 0.07230480015277863 | Accuracy: 100.0%\n",
            "GB | Epoch 4 | Loss: 0.12546822428703308 | Accuracy: 96.875%\n",
            "GB | Epoch 4 | Loss: 0.10429731011390686 | Accuracy: 95.3125%\n",
            "GB | Epoch 4 | Loss: 0.16732537746429443 | Accuracy: 93.75%\n"
          ]
        },
        {
          "output_type": "stream",
          "name": "stderr",
          "text": [
            "Epoch 4:  76%|███████▌  | 570/751 [00:17<00:04, 36.20batch/s, accuracy=96.875%, loss=0.101] "
          ]
        },
        {
          "output_type": "stream",
          "name": "stdout",
          "text": [
            "GB | Epoch 4 | Loss: 0.08734842389822006 | Accuracy: 98.4375%\n",
            "GB | Epoch 4 | Loss: 0.0671127513051033 | Accuracy: 100.0%\n",
            "GB | Epoch 4 | Loss: 0.18996457755565643 | Accuracy: 96.875%\n",
            "GB | Epoch 4 | Loss: 0.10075017809867859 | Accuracy: 98.4375%\n",
            "GB | Epoch 4 | Loss: 0.16593554615974426 | Accuracy: 96.875%\n",
            "GB | Epoch 4 | Loss: 0.22728705406188965 | Accuracy: 92.1875%\n",
            "GB | Epoch 4 | Loss: 0.1593039631843567 | Accuracy: 95.3125%\n",
            "GB | Epoch 4 | Loss: 0.10147354006767273 | Accuracy: 96.875%\n"
          ]
        },
        {
          "output_type": "stream",
          "name": "stderr",
          "text": [
            "Epoch 4:  77%|███████▋  | 578/751 [00:17<00:04, 36.03batch/s, accuracy=96.875%, loss=0.0728]"
          ]
        },
        {
          "output_type": "stream",
          "name": "stdout",
          "text": [
            "GB | Epoch 4 | Loss: 0.22073325514793396 | Accuracy: 96.875%\n",
            "GB | Epoch 4 | Loss: 0.1058536171913147 | Accuracy: 98.4375%\n",
            "GB | Epoch 4 | Loss: 0.19498808681964874 | Accuracy: 98.4375%\n",
            "GB | Epoch 4 | Loss: 0.0664898231625557 | Accuracy: 100.0%\n",
            "GB | Epoch 4 | Loss: 0.062347207218408585 | Accuracy: 98.4375%\n",
            "GB | Epoch 4 | Loss: 0.11687343567609787 | Accuracy: 96.875%\n",
            "GB | Epoch 4 | Loss: 0.2246844321489334 | Accuracy: 96.875%\n",
            "GB | Epoch 4 | Loss: 0.07278092950582504 | Accuracy: 96.875%\n"
          ]
        },
        {
          "output_type": "stream",
          "name": "stderr",
          "text": [
            "Epoch 4:  78%|███████▊  | 586/751 [00:17<00:04, 36.14batch/s, accuracy=96.875%, loss=0.173] "
          ]
        },
        {
          "output_type": "stream",
          "name": "stdout",
          "text": [
            "GB | Epoch 4 | Loss: 0.059229880571365356 | Accuracy: 100.0%\n",
            "GB | Epoch 4 | Loss: 0.15947987139225006 | Accuracy: 96.875%\n",
            "GB | Epoch 4 | Loss: 0.04830784723162651 | Accuracy: 100.0%\n",
            "GB | Epoch 4 | Loss: 0.18649154901504517 | Accuracy: 98.4375%\n",
            "GB | Epoch 4 | Loss: 0.11496137082576752 | Accuracy: 96.875%\n",
            "GB | Epoch 4 | Loss: 0.2485605776309967 | Accuracy: 93.75%\n",
            "GB | Epoch 4 | Loss: 0.125255286693573 | Accuracy: 95.3125%\n",
            "GB | Epoch 4 | Loss: 0.17278911173343658 | Accuracy: 96.875%\n"
          ]
        },
        {
          "output_type": "stream",
          "name": "stderr",
          "text": [
            "Epoch 4:  79%|███████▉  | 594/751 [00:17<00:04, 34.86batch/s, accuracy=95.3125%, loss=0.144] "
          ]
        },
        {
          "output_type": "stream",
          "name": "stdout",
          "text": [
            "GB | Epoch 4 | Loss: 0.055563926696777344 | Accuracy: 100.0%\n",
            "GB | Epoch 4 | Loss: 0.14297161996364594 | Accuracy: 96.875%\n",
            "GB | Epoch 4 | Loss: 0.0597723163664341 | Accuracy: 100.0%\n",
            "GB | Epoch 4 | Loss: 0.06615038216114044 | Accuracy: 100.0%\n",
            "GB | Epoch 4 | Loss: 0.13075903058052063 | Accuracy: 98.4375%\n",
            "GB | Epoch 4 | Loss: 0.05574073642492294 | Accuracy: 98.4375%\n",
            "GB | Epoch 4 | Loss: 0.14405930042266846 | Accuracy: 95.3125%\n"
          ]
        },
        {
          "output_type": "stream",
          "name": "stderr",
          "text": [
            "Epoch 4:  80%|████████  | 602/751 [00:18<00:04, 36.03batch/s, accuracy=100.0%, loss=0.0334]  "
          ]
        },
        {
          "output_type": "stream",
          "name": "stdout",
          "text": [
            "GB | Epoch 4 | Loss: 0.13176700472831726 | Accuracy: 96.875%\n",
            "GB | Epoch 4 | Loss: 0.10800830274820328 | Accuracy: 96.875%\n",
            "GB | Epoch 4 | Loss: 0.1444784253835678 | Accuracy: 96.875%\n",
            "GB | Epoch 4 | Loss: 0.03277960792183876 | Accuracy: 100.0%\n",
            "GB | Epoch 4 | Loss: 0.07997524738311768 | Accuracy: 100.0%\n",
            "GB | Epoch 4 | Loss: 0.05121901258826256 | Accuracy: 100.0%\n",
            "GB | Epoch 4 | Loss: 0.09865637868642807 | Accuracy: 98.4375%\n",
            "GB | Epoch 4 | Loss: 0.033395349979400635 | Accuracy: 100.0%\n"
          ]
        },
        {
          "output_type": "stream",
          "name": "stderr",
          "text": [
            "Epoch 4:  81%|████████  | 610/751 [00:18<00:03, 36.88batch/s, accuracy=93.75%, loss=0.241] "
          ]
        },
        {
          "output_type": "stream",
          "name": "stdout",
          "text": [
            "GB | Epoch 4 | Loss: 0.07043125480413437 | Accuracy: 98.4375%\n",
            "GB | Epoch 4 | Loss: 0.052850350737571716 | Accuracy: 100.0%\n",
            "GB | Epoch 4 | Loss: 0.08912763744592667 | Accuracy: 98.4375%\n",
            "GB | Epoch 4 | Loss: 0.10523286461830139 | Accuracy: 98.4375%\n",
            "GB | Epoch 4 | Loss: 0.0425812192261219 | Accuracy: 100.0%\n",
            "GB | Epoch 4 | Loss: 0.05912115424871445 | Accuracy: 98.4375%\n",
            "GB | Epoch 4 | Loss: 0.12692387402057648 | Accuracy: 96.875%\n",
            "GB | Epoch 4 | Loss: 0.24061575531959534 | Accuracy: 93.75%\n"
          ]
        },
        {
          "output_type": "stream",
          "name": "stderr",
          "text": [
            "Epoch 4:  82%|████████▏ | 618/751 [00:18<00:03, 37.15batch/s, accuracy=98.4375%, loss=0.0678]"
          ]
        },
        {
          "output_type": "stream",
          "name": "stdout",
          "text": [
            "GB | Epoch 4 | Loss: 0.05070910602807999 | Accuracy: 100.0%\n",
            "GB | Epoch 4 | Loss: 0.08820386976003647 | Accuracy: 98.4375%\n",
            "GB | Epoch 4 | Loss: 0.23765961825847626 | Accuracy: 95.3125%\n",
            "GB | Epoch 4 | Loss: 0.05690864101052284 | Accuracy: 100.0%\n",
            "GB | Epoch 4 | Loss: 0.12246088683605194 | Accuracy: 96.875%\n",
            "GB | Epoch 4 | Loss: 0.05849980190396309 | Accuracy: 100.0%\n",
            "GB | Epoch 4 | Loss: 0.08603044599294662 | Accuracy: 96.875%\n",
            "GB | Epoch 4 | Loss: 0.06782305240631104 | Accuracy: 98.4375%\n"
          ]
        },
        {
          "output_type": "stream",
          "name": "stderr",
          "text": [
            "Epoch 4:  83%|████████▎ | 626/751 [00:18<00:03, 37.08batch/s, accuracy=98.4375%, loss=0.0842]"
          ]
        },
        {
          "output_type": "stream",
          "name": "stdout",
          "text": [
            "GB | Epoch 4 | Loss: 0.08236785978078842 | Accuracy: 96.875%\n",
            "GB | Epoch 4 | Loss: 0.06774410605430603 | Accuracy: 98.4375%\n",
            "GB | Epoch 4 | Loss: 0.08116089552640915 | Accuracy: 98.4375%\n",
            "GB | Epoch 4 | Loss: 0.10014212876558304 | Accuracy: 98.4375%\n",
            "GB | Epoch 4 | Loss: 0.10706914216279984 | Accuracy: 95.3125%\n",
            "GB | Epoch 4 | Loss: 0.06219939887523651 | Accuracy: 98.4375%\n",
            "GB | Epoch 4 | Loss: 0.04733990877866745 | Accuracy: 100.0%\n",
            "GB | Epoch 4 | Loss: 0.08419549465179443 | Accuracy: 98.4375%\n"
          ]
        },
        {
          "output_type": "stream",
          "name": "stderr",
          "text": [
            "Epoch 4:  84%|████████▍ | 634/751 [00:18<00:03, 35.23batch/s, accuracy=98.4375%, loss=0.0515]"
          ]
        },
        {
          "output_type": "stream",
          "name": "stdout",
          "text": [
            "GB | Epoch 4 | Loss: 0.044537253677845 | Accuracy: 98.4375%\n",
            "GB | Epoch 4 | Loss: 0.1481986790895462 | Accuracy: 98.4375%\n",
            "GB | Epoch 4 | Loss: 0.0816430151462555 | Accuracy: 100.0%\n",
            "GB | Epoch 4 | Loss: 0.10417670756578445 | Accuracy: 96.875%\n",
            "GB | Epoch 4 | Loss: 0.0773085504770279 | Accuracy: 95.3125%\n",
            "GB | Epoch 4 | Loss: 0.12369111180305481 | Accuracy: 96.875%\n",
            "GB | Epoch 4 | Loss: 0.06490207463502884 | Accuracy: 98.4375%\n"
          ]
        },
        {
          "output_type": "stream",
          "name": "stderr",
          "text": [
            "Epoch 4:  85%|████████▌ | 642/751 [00:19<00:03, 36.23batch/s, accuracy=95.3125%, loss=0.173]"
          ]
        },
        {
          "output_type": "stream",
          "name": "stdout",
          "text": [
            "GB | Epoch 4 | Loss: 0.05146603286266327 | Accuracy: 98.4375%\n",
            "GB | Epoch 4 | Loss: 0.07184984534978867 | Accuracy: 98.4375%\n",
            "GB | Epoch 4 | Loss: 0.14727962017059326 | Accuracy: 95.3125%\n",
            "GB | Epoch 4 | Loss: 0.06530637294054031 | Accuracy: 100.0%\n",
            "GB | Epoch 4 | Loss: 0.06525048613548279 | Accuracy: 98.4375%\n",
            "GB | Epoch 4 | Loss: 0.06682226061820984 | Accuracy: 98.4375%\n",
            "GB | Epoch 4 | Loss: 0.0588526614010334 | Accuracy: 100.0%\n",
            "GB | Epoch 4 | Loss: 0.17340917885303497 | Accuracy: 95.3125%\n"
          ]
        },
        {
          "output_type": "stream",
          "name": "stderr",
          "text": [
            "Epoch 4:  87%|████████▋ | 650/751 [00:19<00:02, 36.84batch/s, accuracy=96.875%, loss=0.234]"
          ]
        },
        {
          "output_type": "stream",
          "name": "stdout",
          "text": [
            "GB | Epoch 4 | Loss: 0.18431681394577026 | Accuracy: 96.875%\n",
            "GB | Epoch 4 | Loss: 0.1917143166065216 | Accuracy: 93.75%\n",
            "GB | Epoch 4 | Loss: 0.10773385316133499 | Accuracy: 93.75%\n",
            "GB | Epoch 4 | Loss: 0.06554543972015381 | Accuracy: 98.4375%\n",
            "GB | Epoch 4 | Loss: 0.0976966843008995 | Accuracy: 96.875%\n",
            "GB | Epoch 4 | Loss: 0.15788860619068146 | Accuracy: 92.1875%\n",
            "GB | Epoch 4 | Loss: 0.06549090892076492 | Accuracy: 100.0%\n",
            "GB | Epoch 4 | Loss: 0.23354363441467285 | Accuracy: 96.875%\n"
          ]
        },
        {
          "output_type": "stream",
          "name": "stderr",
          "text": [
            "Epoch 4:  88%|████████▊ | 658/751 [00:19<00:02, 37.43batch/s, accuracy=100.0%, loss=0.0518]"
          ]
        },
        {
          "output_type": "stream",
          "name": "stdout",
          "text": [
            "GB | Epoch 4 | Loss: 0.10571206361055374 | Accuracy: 98.4375%\n",
            "GB | Epoch 4 | Loss: 0.07483493536710739 | Accuracy: 100.0%\n",
            "GB | Epoch 4 | Loss: 0.09274711459875107 | Accuracy: 96.875%\n",
            "GB | Epoch 4 | Loss: 0.0671350434422493 | Accuracy: 98.4375%\n",
            "GB | Epoch 4 | Loss: 0.04016624763607979 | Accuracy: 100.0%\n",
            "GB | Epoch 4 | Loss: 0.10038141906261444 | Accuracy: 95.3125%\n",
            "GB | Epoch 4 | Loss: 0.03432736545801163 | Accuracy: 100.0%\n",
            "GB | Epoch 4 | Loss: 0.05181583762168884 | Accuracy: 100.0%\n"
          ]
        },
        {
          "output_type": "stream",
          "name": "stderr",
          "text": [
            "Epoch 4:  89%|████████▊ | 666/751 [00:19<00:02, 36.48batch/s, accuracy=98.4375%, loss=0.102]"
          ]
        },
        {
          "output_type": "stream",
          "name": "stdout",
          "text": [
            "GB | Epoch 4 | Loss: 0.10646509379148483 | Accuracy: 98.4375%\n",
            "GB | Epoch 4 | Loss: 0.08294437825679779 | Accuracy: 95.3125%\n",
            "GB | Epoch 4 | Loss: 0.12064997851848602 | Accuracy: 96.875%\n",
            "GB | Epoch 4 | Loss: 0.15422570705413818 | Accuracy: 95.3125%\n",
            "GB | Epoch 4 | Loss: 0.06268840283155441 | Accuracy: 98.4375%\n",
            "GB | Epoch 4 | Loss: 0.06369531154632568 | Accuracy: 100.0%\n",
            "GB | Epoch 4 | Loss: 0.037919603288173676 | Accuracy: 100.0%\n",
            "GB | Epoch 4 | Loss: 0.10163559764623642 | Accuracy: 98.4375%\n"
          ]
        },
        {
          "output_type": "stream",
          "name": "stderr",
          "text": [
            "Epoch 4:  90%|████████▉ | 674/751 [00:19<00:02, 35.80batch/s, accuracy=98.4375%, loss=0.0859]"
          ]
        },
        {
          "output_type": "stream",
          "name": "stdout",
          "text": [
            "GB | Epoch 4 | Loss: 0.13706228137016296 | Accuracy: 96.875%\n",
            "GB | Epoch 4 | Loss: 0.1262447088956833 | Accuracy: 95.3125%\n",
            "GB | Epoch 4 | Loss: 0.03785690665245056 | Accuracy: 100.0%\n",
            "GB | Epoch 4 | Loss: 0.15565316379070282 | Accuracy: 96.875%\n",
            "GB | Epoch 4 | Loss: 0.10973742604255676 | Accuracy: 96.875%\n",
            "GB | Epoch 4 | Loss: 0.047311775386333466 | Accuracy: 100.0%\n",
            "GB | Epoch 4 | Loss: 0.08587747812271118 | Accuracy: 98.4375%\n"
          ]
        },
        {
          "output_type": "stream",
          "name": "stderr",
          "text": [
            "Epoch 4:  91%|█████████ | 682/751 [00:20<00:01, 35.54batch/s, accuracy=96.875%, loss=0.151]"
          ]
        },
        {
          "output_type": "stream",
          "name": "stdout",
          "text": [
            "GB | Epoch 4 | Loss: 0.0558977946639061 | Accuracy: 100.0%\n",
            "GB | Epoch 4 | Loss: 0.10377111285924911 | Accuracy: 96.875%\n",
            "GB | Epoch 4 | Loss: 0.0942617654800415 | Accuracy: 98.4375%\n",
            "GB | Epoch 4 | Loss: 0.04050205647945404 | Accuracy: 100.0%\n",
            "GB | Epoch 4 | Loss: 0.10845595598220825 | Accuracy: 96.875%\n",
            "GB | Epoch 4 | Loss: 0.09535975754261017 | Accuracy: 96.875%\n",
            "GB | Epoch 4 | Loss: 0.06925170123577118 | Accuracy: 98.4375%\n",
            "GB | Epoch 4 | Loss: 0.15096686780452728 | Accuracy: 96.875%\n"
          ]
        },
        {
          "output_type": "stream",
          "name": "stderr",
          "text": [
            "Epoch 4:  92%|█████████▏| 690/751 [00:20<00:01, 36.28batch/s, accuracy=98.4375%, loss=0.0925]"
          ]
        },
        {
          "output_type": "stream",
          "name": "stdout",
          "text": [
            "GB | Epoch 4 | Loss: 0.0691097155213356 | Accuracy: 100.0%\n",
            "GB | Epoch 4 | Loss: 0.12109293788671494 | Accuracy: 96.875%\n",
            "GB | Epoch 4 | Loss: 0.07410012930631638 | Accuracy: 96.875%\n",
            "GB | Epoch 4 | Loss: 0.07656452059745789 | Accuracy: 98.4375%\n",
            "GB | Epoch 4 | Loss: 0.19460169970989227 | Accuracy: 93.75%\n",
            "GB | Epoch 4 | Loss: 0.17597809433937073 | Accuracy: 95.3125%\n",
            "GB | Epoch 4 | Loss: 0.1132950559258461 | Accuracy: 96.875%\n",
            "GB | Epoch 4 | Loss: 0.09246581792831421 | Accuracy: 98.4375%\n"
          ]
        },
        {
          "output_type": "stream",
          "name": "stderr",
          "text": [
            "Epoch 4:  93%|█████████▎| 698/751 [00:20<00:01, 36.47batch/s, accuracy=98.4375%, loss=0.0794]"
          ]
        },
        {
          "output_type": "stream",
          "name": "stdout",
          "text": [
            "GB | Epoch 4 | Loss: 0.05276050046086311 | Accuracy: 98.4375%\n",
            "GB | Epoch 4 | Loss: 0.047380901873111725 | Accuracy: 98.4375%\n",
            "GB | Epoch 4 | Loss: 0.10276772826910019 | Accuracy: 96.875%\n",
            "GB | Epoch 4 | Loss: 0.06607326865196228 | Accuracy: 98.4375%\n",
            "GB | Epoch 4 | Loss: 0.07772946357727051 | Accuracy: 98.4375%\n",
            "GB | Epoch 4 | Loss: 0.08250327408313751 | Accuracy: 96.875%\n",
            "GB | Epoch 4 | Loss: 0.10569926351308823 | Accuracy: 96.875%\n",
            "GB | Epoch 4 | Loss: 0.07936874777078629 | Accuracy: 98.4375%\n"
          ]
        },
        {
          "output_type": "stream",
          "name": "stderr",
          "text": [
            "Epoch 4:  94%|█████████▍| 706/751 [00:20<00:01, 36.96batch/s, accuracy=93.75%, loss=0.139]"
          ]
        },
        {
          "output_type": "stream",
          "name": "stdout",
          "text": [
            "GB | Epoch 4 | Loss: 0.24672222137451172 | Accuracy: 95.3125%\n",
            "GB | Epoch 4 | Loss: 0.08445285260677338 | Accuracy: 98.4375%\n",
            "GB | Epoch 4 | Loss: 0.09282369911670685 | Accuracy: 96.875%\n",
            "GB | Epoch 4 | Loss: 0.1420002430677414 | Accuracy: 96.875%\n",
            "GB | Epoch 4 | Loss: 0.1853342205286026 | Accuracy: 96.875%\n",
            "GB | Epoch 4 | Loss: 0.15457093715667725 | Accuracy: 98.4375%\n",
            "GB | Epoch 4 | Loss: 0.1310085505247116 | Accuracy: 98.4375%\n",
            "GB | Epoch 4 | Loss: 0.13946200907230377 | Accuracy: 93.75%\n"
          ]
        },
        {
          "output_type": "stream",
          "name": "stderr",
          "text": [
            "Epoch 4:  95%|█████████▌| 714/751 [00:21<00:01, 35.07batch/s, accuracy=98.4375%, loss=0.0997]"
          ]
        },
        {
          "output_type": "stream",
          "name": "stdout",
          "text": [
            "GB | Epoch 4 | Loss: 0.09074828028678894 | Accuracy: 98.4375%\n",
            "GB | Epoch 4 | Loss: 0.07813132554292679 | Accuracy: 98.4375%\n",
            "GB | Epoch 4 | Loss: 0.03256826475262642 | Accuracy: 100.0%\n",
            "GB | Epoch 4 | Loss: 0.06336984038352966 | Accuracy: 96.875%\n",
            "GB | Epoch 4 | Loss: 0.07267051935195923 | Accuracy: 96.875%\n",
            "GB | Epoch 4 | Loss: 0.0601569265127182 | Accuracy: 100.0%\n",
            "GB | Epoch 4 | Loss: 0.22407378256320953 | Accuracy: 93.75%\n",
            "GB | Epoch 4 | Loss: 0.09968497604131699 | Accuracy: 98.4375%\n"
          ]
        },
        {
          "output_type": "stream",
          "name": "stderr",
          "text": [
            "Epoch 4:  96%|█████████▌| 722/751 [00:21<00:00, 35.27batch/s, accuracy=100.0%, loss=0.044]"
          ]
        },
        {
          "output_type": "stream",
          "name": "stdout",
          "text": [
            "GB | Epoch 4 | Loss: 0.04438146576285362 | Accuracy: 100.0%\n",
            "GB | Epoch 4 | Loss: 0.14284443855285645 | Accuracy: 96.875%\n",
            "GB | Epoch 4 | Loss: 0.06279116868972778 | Accuracy: 100.0%\n",
            "GB | Epoch 4 | Loss: 0.111942358314991 | Accuracy: 98.4375%\n",
            "GB | Epoch 4 | Loss: 0.17560695111751556 | Accuracy: 93.75%\n",
            "GB | Epoch 4 | Loss: 0.0871335044503212 | Accuracy: 98.4375%\n",
            "GB | Epoch 4 | Loss: 0.15331783890724182 | Accuracy: 98.4375%\n",
            "GB | Epoch 4 | Loss: 0.04395516961812973 | Accuracy: 100.0%\n"
          ]
        },
        {
          "output_type": "stream",
          "name": "stderr",
          "text": [
            "Epoch 4:  97%|█████████▋| 730/751 [00:21<00:00, 36.10batch/s, accuracy=96.875%, loss=0.15]"
          ]
        },
        {
          "output_type": "stream",
          "name": "stdout",
          "text": [
            "GB | Epoch 4 | Loss: 0.10293549299240112 | Accuracy: 95.3125%\n",
            "GB | Epoch 4 | Loss: 0.06372204422950745 | Accuracy: 100.0%\n",
            "GB | Epoch 4 | Loss: 0.10874306410551071 | Accuracy: 98.4375%\n",
            "GB | Epoch 4 | Loss: 0.05026019364595413 | Accuracy: 98.4375%\n",
            "GB | Epoch 4 | Loss: 0.06650649756193161 | Accuracy: 98.4375%\n",
            "GB | Epoch 4 | Loss: 0.08878039568662643 | Accuracy: 98.4375%\n",
            "GB | Epoch 4 | Loss: 0.30813151597976685 | Accuracy: 93.75%\n",
            "GB | Epoch 4 | Loss: 0.14982041716575623 | Accuracy: 96.875%\n"
          ]
        },
        {
          "output_type": "stream",
          "name": "stderr",
          "text": [
            "Epoch 4:  98%|█████████▊| 734/751 [00:21<00:00, 34.84batch/s, accuracy=93.75%, loss=0.159] "
          ]
        },
        {
          "output_type": "stream",
          "name": "stdout",
          "text": [
            "GB | Epoch 4 | Loss: 0.09173838049173355 | Accuracy: 95.3125%\n",
            "GB | Epoch 4 | Loss: 0.06032894551753998 | Accuracy: 98.4375%\n",
            "GB | Epoch 4 | Loss: 0.05833660811185837 | Accuracy: 98.4375%\n",
            "GB | Epoch 4 | Loss: 0.11690440028905869 | Accuracy: 92.1875%\n",
            "GB | Epoch 4 | Loss: 0.09976725280284882 | Accuracy: 96.875%\n",
            "GB | Epoch 4 | Loss: 0.09702668339014053 | Accuracy: 96.875%\n",
            "GB | Epoch 4 | Loss: 0.15863002836704254 | Accuracy: 93.75%\n"
          ]
        },
        {
          "output_type": "stream",
          "name": "stderr",
          "text": [
            "Epoch 4:  99%|█████████▉| 742/751 [00:21<00:00, 31.00batch/s, accuracy=98.4375%, loss=0.0804]"
          ]
        },
        {
          "output_type": "stream",
          "name": "stdout",
          "text": [
            "GB | Epoch 4 | Loss: 0.07151912897825241 | Accuracy: 100.0%\n",
            "GB | Epoch 4 | Loss: 0.14253155887126923 | Accuracy: 95.3125%\n",
            "GB | Epoch 4 | Loss: 0.05665798857808113 | Accuracy: 98.4375%\n",
            "GB | Epoch 4 | Loss: 0.036194268614053726 | Accuracy: 100.0%\n",
            "GB | Epoch 4 | Loss: 0.09627380967140198 | Accuracy: 98.4375%\n",
            "GB | Epoch 4 | Loss: 0.08035542070865631 | Accuracy: 98.4375%\n"
          ]
        },
        {
          "output_type": "stream",
          "name": "stderr",
          "text": [
            "Epoch 4: 100%|█████████▉| 750/751 [00:22<00:00, 31.10batch/s, accuracy=100.0%, loss=0.121] "
          ]
        },
        {
          "output_type": "stream",
          "name": "stdout",
          "text": [
            "GB | Epoch 4 | Loss: 0.1473476141691208 | Accuracy: 93.75%\n",
            "GB | Epoch 4 | Loss: 0.09203578531742096 | Accuracy: 96.875%\n",
            "GB | Epoch 4 | Loss: 0.07941414415836334 | Accuracy: 95.3125%\n",
            "GB | Epoch 4 | Loss: 0.15090040862560272 | Accuracy: 93.75%\n",
            "GB | Epoch 4 | Loss: 0.05802381411194801 | Accuracy: 100.0%\n",
            "GB | Epoch 4 | Loss: 0.05499695613980293 | Accuracy: 98.4375%\n",
            "GB | Epoch 4 | Loss: 0.06327353417873383 | Accuracy: 100.0%\n",
            "GB | Epoch 4 | Loss: 0.12072443962097168 | Accuracy: 100.0%\n"
          ]
        },
        {
          "output_type": "stream",
          "name": "stderr",
          "text": [
            "\rEpoch 4: 100%|██████████| 751/751 [00:22<00:00, 33.45batch/s, accuracy=100.0%, loss=0.121]\n"
          ]
        }
      ]
    },
    {
      "cell_type": "code",
      "source": [
        "evaluator = Evaluator(\n",
        "    testset=testset,\n",
        "    group_partition=testset.group_partition,\n",
        "    group_weights=trainset.group_weights,\n",
        "    batch_size=64,\n",
        "    model=model,\n",
        "    verbose=True\n",
        ")\n",
        "evaluator.evaluate()"
      ],
      "metadata": {
        "colab": {
          "base_uri": "https://localhost:8080/"
        },
        "id": "RNnGUB5bu3wu",
        "outputId": "4e63f47c-9e23-47ed-a5a1-97957ba866c6"
      },
      "execution_count": 9,
      "outputs": [
        {
          "output_type": "stream",
          "name": "stderr",
          "text": [
            "Evaluating group-wise accuracy:   4%|▍         | 1/25 [00:00<00:14,  1.71it/s]"
          ]
        },
        {
          "output_type": "stream",
          "name": "stdout",
          "text": [
            "Group (0, 0) Accuracy: 99.29078014184397\n"
          ]
        },
        {
          "output_type": "stream",
          "name": "stderr",
          "text": [
            "\rEvaluating group-wise accuracy:   8%|▊         | 2/25 [00:01<00:13,  1.70it/s]"
          ]
        },
        {
          "output_type": "stream",
          "name": "stdout",
          "text": [
            "Group (0, 1) Accuracy: 61.938534278959814\n"
          ]
        },
        {
          "output_type": "stream",
          "name": "stderr",
          "text": [
            "\rEvaluating group-wise accuracy:  12%|█▏        | 3/25 [00:01<00:12,  1.70it/s]"
          ]
        },
        {
          "output_type": "stream",
          "name": "stdout",
          "text": [
            "Group (0, 2) Accuracy: 83.68794326241135\n"
          ]
        },
        {
          "output_type": "stream",
          "name": "stderr",
          "text": [
            "\rEvaluating group-wise accuracy:  16%|█▌        | 4/25 [00:02<00:11,  1.81it/s]"
          ]
        },
        {
          "output_type": "stream",
          "name": "stdout",
          "text": [
            "Group (0, 3) Accuracy: 60.99290780141844\n"
          ]
        },
        {
          "output_type": "stream",
          "name": "stderr",
          "text": [
            "\rEvaluating group-wise accuracy:  20%|██        | 5/25 [00:02<00:09,  2.05it/s]"
          ]
        },
        {
          "output_type": "stream",
          "name": "stdout",
          "text": [
            "Group (0, 4) Accuracy: 72.57683215130024\n"
          ]
        },
        {
          "output_type": "stream",
          "name": "stderr",
          "text": [
            "\rEvaluating group-wise accuracy:  24%|██▍       | 6/25 [00:03<00:08,  2.20it/s]"
          ]
        },
        {
          "output_type": "stream",
          "name": "stdout",
          "text": [
            "Group (1, 0) Accuracy: 85.33007334963325\n"
          ]
        },
        {
          "output_type": "stream",
          "name": "stderr",
          "text": [
            "\rEvaluating group-wise accuracy:  28%|██▊       | 7/25 [00:03<00:07,  2.35it/s]"
          ]
        },
        {
          "output_type": "stream",
          "name": "stdout",
          "text": [
            "Group (1, 1) Accuracy: 96.82151589242054\n"
          ]
        },
        {
          "output_type": "stream",
          "name": "stderr",
          "text": [
            "\rEvaluating group-wise accuracy:  32%|███▏      | 8/25 [00:03<00:06,  2.45it/s]"
          ]
        },
        {
          "output_type": "stream",
          "name": "stdout",
          "text": [
            "Group (1, 2) Accuracy: 76.7156862745098\n"
          ]
        },
        {
          "output_type": "stream",
          "name": "stderr",
          "text": [
            "\rEvaluating group-wise accuracy:  36%|███▌      | 9/25 [00:04<00:06,  2.48it/s]"
          ]
        },
        {
          "output_type": "stream",
          "name": "stdout",
          "text": [
            "Group (1, 3) Accuracy: 79.16666666666667\n"
          ]
        },
        {
          "output_type": "stream",
          "name": "stderr",
          "text": [
            "\rEvaluating group-wise accuracy:  40%|████      | 10/25 [00:04<00:05,  2.52it/s]"
          ]
        },
        {
          "output_type": "stream",
          "name": "stdout",
          "text": [
            "Group (1, 4) Accuracy: 78.67647058823529\n"
          ]
        },
        {
          "output_type": "stream",
          "name": "stderr",
          "text": [
            "\rEvaluating group-wise accuracy:  44%|████▍     | 11/25 [00:04<00:05,  2.59it/s]"
          ]
        },
        {
          "output_type": "stream",
          "name": "stdout",
          "text": [
            "Group (2, 0) Accuracy: 70.66666666666667\n"
          ]
        },
        {
          "output_type": "stream",
          "name": "stderr",
          "text": [
            "\rEvaluating group-wise accuracy:  48%|████▊     | 12/25 [00:05<00:04,  2.61it/s]"
          ]
        },
        {
          "output_type": "stream",
          "name": "stdout",
          "text": [
            "Group (2, 1) Accuracy: 52.266666666666666\n"
          ]
        },
        {
          "output_type": "stream",
          "name": "stderr",
          "text": [
            "\rEvaluating group-wise accuracy:  52%|█████▏    | 13/25 [00:05<00:04,  2.65it/s]"
          ]
        },
        {
          "output_type": "stream",
          "name": "stdout",
          "text": [
            "Group (2, 2) Accuracy: 97.33333333333333\n"
          ]
        },
        {
          "output_type": "stream",
          "name": "stderr",
          "text": [
            "\rEvaluating group-wise accuracy:  56%|█████▌    | 14/25 [00:06<00:04,  2.68it/s]"
          ]
        },
        {
          "output_type": "stream",
          "name": "stdout",
          "text": [
            "Group (2, 3) Accuracy: 48.266666666666666\n"
          ]
        },
        {
          "output_type": "stream",
          "name": "stderr",
          "text": [
            "\rEvaluating group-wise accuracy:  60%|██████    | 15/25 [00:06<00:03,  2.66it/s]"
          ]
        },
        {
          "output_type": "stream",
          "name": "stdout",
          "text": [
            "Group (2, 4) Accuracy: 43.04812834224599\n"
          ]
        },
        {
          "output_type": "stream",
          "name": "stderr",
          "text": [
            "\rEvaluating group-wise accuracy:  64%|██████▍   | 16/25 [00:06<00:03,  2.65it/s]"
          ]
        },
        {
          "output_type": "stream",
          "name": "stdout",
          "text": [
            "Group (3, 0) Accuracy: 75.37688442211055\n"
          ]
        },
        {
          "output_type": "stream",
          "name": "stderr",
          "text": [
            "\rEvaluating group-wise accuracy:  68%|██████▊   | 17/25 [00:07<00:03,  2.64it/s]"
          ]
        },
        {
          "output_type": "stream",
          "name": "stdout",
          "text": [
            "Group (3, 1) Accuracy: 77.32997481108312\n"
          ]
        },
        {
          "output_type": "stream",
          "name": "stderr",
          "text": [
            "\rEvaluating group-wise accuracy:  72%|███████▏  | 18/25 [00:07<00:02,  2.66it/s]"
          ]
        },
        {
          "output_type": "stream",
          "name": "stdout",
          "text": [
            "Group (3, 2) Accuracy: 69.77329974811083\n"
          ]
        },
        {
          "output_type": "stream",
          "name": "stderr",
          "text": [
            "\rEvaluating group-wise accuracy:  76%|███████▌  | 19/25 [00:07<00:02,  2.66it/s]"
          ]
        },
        {
          "output_type": "stream",
          "name": "stdout",
          "text": [
            "Group (3, 3) Accuracy: 98.99244332493703\n"
          ]
        },
        {
          "output_type": "stream",
          "name": "stderr",
          "text": [
            "\rEvaluating group-wise accuracy:  80%|████████  | 20/25 [00:08<00:01,  2.63it/s]"
          ]
        },
        {
          "output_type": "stream",
          "name": "stdout",
          "text": [
            "Group (3, 4) Accuracy: 68.51385390428212\n"
          ]
        },
        {
          "output_type": "stream",
          "name": "stderr",
          "text": [
            "\rEvaluating group-wise accuracy:  84%|████████▍ | 21/25 [00:08<00:01,  2.65it/s]"
          ]
        },
        {
          "output_type": "stream",
          "name": "stdout",
          "text": [
            "Group (4, 0) Accuracy: 70.7808564231738\n"
          ]
        },
        {
          "output_type": "stream",
          "name": "stderr",
          "text": [
            "\rEvaluating group-wise accuracy:  88%|████████▊ | 22/25 [00:09<00:01,  2.64it/s]"
          ]
        },
        {
          "output_type": "stream",
          "name": "stdout",
          "text": [
            "Group (4, 1) Accuracy: 64.23173803526448\n"
          ]
        },
        {
          "output_type": "stream",
          "name": "stderr",
          "text": [
            "\rEvaluating group-wise accuracy:  92%|█████████▏| 23/25 [00:09<00:00,  2.64it/s]"
          ]
        },
        {
          "output_type": "stream",
          "name": "stdout",
          "text": [
            "Group (4, 2) Accuracy: 72.79596977329975\n"
          ]
        },
        {
          "output_type": "stream",
          "name": "stderr",
          "text": [
            "\rEvaluating group-wise accuracy:  96%|█████████▌| 24/25 [00:09<00:00,  2.66it/s]"
          ]
        },
        {
          "output_type": "stream",
          "name": "stdout",
          "text": [
            "Group (4, 3) Accuracy: 74.24242424242425\n"
          ]
        },
        {
          "output_type": "stream",
          "name": "stderr",
          "text": [
            "Evaluating group-wise accuracy: 100%|██████████| 25/25 [00:10<00:00,  2.46it/s]"
          ]
        },
        {
          "output_type": "stream",
          "name": "stdout",
          "text": [
            "Group (4, 4) Accuracy: 94.6969696969697\n"
          ]
        },
        {
          "output_type": "stream",
          "name": "stderr",
          "text": [
            "\n"
          ]
        },
        {
          "output_type": "execute_result",
          "data": {
            "text/plain": [
              "{(0, 0): 99.29078014184397,\n",
              " (0, 1): 61.938534278959814,\n",
              " (0, 2): 83.68794326241135,\n",
              " (0, 3): 60.99290780141844,\n",
              " (0, 4): 72.57683215130024,\n",
              " (1, 0): 85.33007334963325,\n",
              " (1, 1): 96.82151589242054,\n",
              " (1, 2): 76.7156862745098,\n",
              " (1, 3): 79.16666666666667,\n",
              " (1, 4): 78.67647058823529,\n",
              " (2, 0): 70.66666666666667,\n",
              " (2, 1): 52.266666666666666,\n",
              " (2, 2): 97.33333333333333,\n",
              " (2, 3): 48.266666666666666,\n",
              " (2, 4): 43.04812834224599,\n",
              " (3, 0): 75.37688442211055,\n",
              " (3, 1): 77.32997481108312,\n",
              " (3, 2): 69.77329974811083,\n",
              " (3, 3): 98.99244332493703,\n",
              " (3, 4): 68.51385390428212,\n",
              " (4, 0): 70.7808564231738,\n",
              " (4, 1): 64.23173803526448,\n",
              " (4, 2): 72.79596977329975,\n",
              " (4, 3): 74.24242424242425,\n",
              " (4, 4): 94.6969696969697}"
            ]
          },
          "metadata": {},
          "execution_count": 9
        }
      ]
    },
    {
      "cell_type": "code",
      "source": [
        "evaluator = Evaluator(\n",
        "    testset=trainset,\n",
        "    group_partition=testset.group_partition,\n",
        "    group_weights=trainset.group_weights,\n",
        "    batch_size=64,\n",
        "    model=model,\n",
        "    verbose=True\n",
        ")\n",
        "evaluator.evaluate()"
      ],
      "metadata": {
        "colab": {
          "base_uri": "https://localhost:8080/"
        },
        "id": "2X_aQDsjxvvi",
        "outputId": "7c56170b-d34b-4ab2-cd3c-1ce59fd810fe"
      },
      "execution_count": 10,
      "outputs": [
        {
          "output_type": "stream",
          "name": "stderr",
          "text": [
            "/usr/local/lib/python3.12/dist-packages/torch/utils/data/dataloader.py:627: UserWarning: This DataLoader will create 4 worker processes in total. Our suggested max number of worker in current system is 2, which is smaller than what this DataLoader is going to create. Please be aware that excessive worker creation might get DataLoader running slow or even freeze, lower the worker number to avoid potential slowness/freeze if necessary.\n",
            "  warnings.warn(\n",
            "Evaluating group-wise accuracy:   0%|          | 0/25 [00:00<?, ?it/s]/usr/local/lib/python3.12/dist-packages/torch/utils/data/dataloader.py:666: UserWarning: 'pin_memory' argument is set as true but no accelerator is found, then device pinned memory won't be used.\n",
            "  warnings.warn(warn_msg)\n",
            "Evaluating group-wise accuracy:   4%|▍         | 1/25 [00:00<00:16,  1.42it/s]"
          ]
        },
        {
          "output_type": "stream",
          "name": "stdout",
          "text": [
            "Group (0, 0) Accuracy: 97.87234042553192\n"
          ]
        },
        {
          "output_type": "stream",
          "name": "stderr",
          "text": [
            "\rEvaluating group-wise accuracy:   8%|▊         | 2/25 [00:01<00:15,  1.47it/s]"
          ]
        },
        {
          "output_type": "stream",
          "name": "stdout",
          "text": [
            "Group (0, 1) Accuracy: 98.58156028368795\n"
          ]
        },
        {
          "output_type": "stream",
          "name": "stderr",
          "text": [
            "\rEvaluating group-wise accuracy:  12%|█▏        | 3/25 [00:02<00:15,  1.42it/s]"
          ]
        },
        {
          "output_type": "stream",
          "name": "stdout",
          "text": [
            "Group (0, 2) Accuracy: 98.3451536643026\n"
          ]
        },
        {
          "output_type": "stream",
          "name": "stderr",
          "text": [
            "\rEvaluating group-wise accuracy:  16%|█▌        | 4/25 [00:03<00:16,  1.27it/s]"
          ]
        },
        {
          "output_type": "stream",
          "name": "stdout",
          "text": [
            "Group (0, 3) Accuracy: 97.63593380614657\n"
          ]
        },
        {
          "output_type": "stream",
          "name": "stderr",
          "text": [
            "\rEvaluating group-wise accuracy:  20%|██        | 5/25 [00:03<00:15,  1.29it/s]"
          ]
        },
        {
          "output_type": "stream",
          "name": "stdout",
          "text": [
            "Group (0, 4) Accuracy: 98.10874704491725\n"
          ]
        },
        {
          "output_type": "stream",
          "name": "stderr",
          "text": [
            "\rEvaluating group-wise accuracy:  24%|██▍       | 6/25 [00:04<00:15,  1.20it/s]"
          ]
        },
        {
          "output_type": "stream",
          "name": "stdout",
          "text": [
            "Group (1, 0) Accuracy: 96.33251833740832\n"
          ]
        },
        {
          "output_type": "stream",
          "name": "stderr",
          "text": [
            "\rEvaluating group-wise accuracy:  28%|██▊       | 7/25 [00:05<00:14,  1.24it/s]"
          ]
        },
        {
          "output_type": "stream",
          "name": "stdout",
          "text": [
            "Group (1, 1) Accuracy: 97.06601466992664\n"
          ]
        },
        {
          "output_type": "stream",
          "name": "stderr",
          "text": [
            "\rEvaluating group-wise accuracy:  32%|███▏      | 8/25 [00:06<00:12,  1.34it/s]"
          ]
        },
        {
          "output_type": "stream",
          "name": "stdout",
          "text": [
            "Group (1, 2) Accuracy: 96.56862745098039\n"
          ]
        },
        {
          "output_type": "stream",
          "name": "stderr",
          "text": [
            "\rEvaluating group-wise accuracy:  36%|███▌      | 9/25 [00:07<00:13,  1.22it/s]"
          ]
        },
        {
          "output_type": "stream",
          "name": "stdout",
          "text": [
            "Group (1, 3) Accuracy: 98.03921568627452\n"
          ]
        },
        {
          "output_type": "stream",
          "name": "stderr",
          "text": [
            "\rEvaluating group-wise accuracy:  40%|████      | 10/25 [00:07<00:11,  1.33it/s]"
          ]
        },
        {
          "output_type": "stream",
          "name": "stdout",
          "text": [
            "Group (1, 4) Accuracy: 97.79411764705883\n"
          ]
        },
        {
          "output_type": "stream",
          "name": "stderr",
          "text": [
            "\rEvaluating group-wise accuracy:  44%|████▍     | 11/25 [00:08<00:09,  1.44it/s]"
          ]
        },
        {
          "output_type": "stream",
          "name": "stdout",
          "text": [
            "Group (2, 0) Accuracy: 97.06666666666666\n"
          ]
        },
        {
          "output_type": "stream",
          "name": "stderr",
          "text": [
            "\rEvaluating group-wise accuracy:  48%|████▊     | 12/25 [00:08<00:08,  1.52it/s]"
          ]
        },
        {
          "output_type": "stream",
          "name": "stdout",
          "text": [
            "Group (2, 1) Accuracy: 98.13333333333334\n"
          ]
        },
        {
          "output_type": "stream",
          "name": "stderr",
          "text": [
            "\rEvaluating group-wise accuracy:  52%|█████▏    | 13/25 [00:09<00:07,  1.71it/s]"
          ]
        },
        {
          "output_type": "stream",
          "name": "stdout",
          "text": [
            "Group (2, 2) Accuracy: 98.4\n"
          ]
        },
        {
          "output_type": "stream",
          "name": "stderr",
          "text": [
            "\rEvaluating group-wise accuracy:  56%|█████▌    | 14/25 [00:09<00:05,  1.91it/s]"
          ]
        },
        {
          "output_type": "stream",
          "name": "stdout",
          "text": [
            "Group (2, 3) Accuracy: 97.33333333333333\n"
          ]
        },
        {
          "output_type": "stream",
          "name": "stderr",
          "text": [
            "\rEvaluating group-wise accuracy:  60%|██████    | 15/25 [00:10<00:05,  1.98it/s]"
          ]
        },
        {
          "output_type": "stream",
          "name": "stdout",
          "text": [
            "Group (2, 4) Accuracy: 98.39572192513369\n"
          ]
        },
        {
          "output_type": "stream",
          "name": "stderr",
          "text": [
            "\rEvaluating group-wise accuracy:  64%|██████▍   | 16/25 [00:10<00:04,  2.13it/s]"
          ]
        },
        {
          "output_type": "stream",
          "name": "stdout",
          "text": [
            "Group (3, 0) Accuracy: 97.73869346733669\n"
          ]
        },
        {
          "output_type": "stream",
          "name": "stderr",
          "text": [
            "\rEvaluating group-wise accuracy:  68%|██████▊   | 17/25 [00:10<00:03,  2.27it/s]"
          ]
        },
        {
          "output_type": "stream",
          "name": "stdout",
          "text": [
            "Group (3, 1) Accuracy: 97.22921914357683\n"
          ]
        },
        {
          "output_type": "stream",
          "name": "stderr",
          "text": [
            "\rEvaluating group-wise accuracy:  72%|███████▏  | 18/25 [00:11<00:02,  2.39it/s]"
          ]
        },
        {
          "output_type": "stream",
          "name": "stdout",
          "text": [
            "Group (3, 2) Accuracy: 97.73299748110831\n"
          ]
        },
        {
          "output_type": "stream",
          "name": "stderr",
          "text": [
            "\rEvaluating group-wise accuracy:  76%|███████▌  | 19/25 [00:11<00:02,  2.45it/s]"
          ]
        },
        {
          "output_type": "stream",
          "name": "stdout",
          "text": [
            "Group (3, 3) Accuracy: 97.48110831234257\n"
          ]
        },
        {
          "output_type": "stream",
          "name": "stderr",
          "text": [
            "\rEvaluating group-wise accuracy:  80%|████████  | 20/25 [00:11<00:01,  2.51it/s]"
          ]
        },
        {
          "output_type": "stream",
          "name": "stdout",
          "text": [
            "Group (3, 4) Accuracy: 97.98488664987406\n"
          ]
        },
        {
          "output_type": "stream",
          "name": "stderr",
          "text": [
            "\rEvaluating group-wise accuracy:  84%|████████▍ | 21/25 [00:12<00:01,  2.55it/s]"
          ]
        },
        {
          "output_type": "stream",
          "name": "stdout",
          "text": [
            "Group (4, 0) Accuracy: 98.48866498740554\n"
          ]
        },
        {
          "output_type": "stream",
          "name": "stderr",
          "text": [
            "\rEvaluating group-wise accuracy:  88%|████████▊ | 22/25 [00:12<00:01,  2.53it/s]"
          ]
        },
        {
          "output_type": "stream",
          "name": "stdout",
          "text": [
            "Group (4, 1) Accuracy: 98.48866498740554\n"
          ]
        },
        {
          "output_type": "stream",
          "name": "stderr",
          "text": [
            "\rEvaluating group-wise accuracy:  92%|█████████▏| 23/25 [00:13<00:00,  2.55it/s]"
          ]
        },
        {
          "output_type": "stream",
          "name": "stdout",
          "text": [
            "Group (4, 2) Accuracy: 98.48866498740554\n"
          ]
        },
        {
          "output_type": "stream",
          "name": "stderr",
          "text": [
            "\rEvaluating group-wise accuracy:  96%|█████████▌| 24/25 [00:13<00:00,  2.58it/s]"
          ]
        },
        {
          "output_type": "stream",
          "name": "stdout",
          "text": [
            "Group (4, 3) Accuracy: 97.97979797979798\n"
          ]
        },
        {
          "output_type": "stream",
          "name": "stderr",
          "text": [
            "Evaluating group-wise accuracy: 100%|██████████| 25/25 [00:13<00:00,  1.80it/s]"
          ]
        },
        {
          "output_type": "stream",
          "name": "stdout",
          "text": [
            "Group (4, 4) Accuracy: 95.70707070707071\n"
          ]
        },
        {
          "output_type": "stream",
          "name": "stderr",
          "text": [
            "\n"
          ]
        },
        {
          "output_type": "execute_result",
          "data": {
            "text/plain": [
              "{(0, 0): 97.87234042553192,\n",
              " (0, 1): 98.58156028368795,\n",
              " (0, 2): 98.3451536643026,\n",
              " (0, 3): 97.63593380614657,\n",
              " (0, 4): 98.10874704491725,\n",
              " (1, 0): 96.33251833740832,\n",
              " (1, 1): 97.06601466992664,\n",
              " (1, 2): 96.56862745098039,\n",
              " (1, 3): 98.03921568627452,\n",
              " (1, 4): 97.79411764705883,\n",
              " (2, 0): 97.06666666666666,\n",
              " (2, 1): 98.13333333333334,\n",
              " (2, 2): 98.4,\n",
              " (2, 3): 97.33333333333333,\n",
              " (2, 4): 98.39572192513369,\n",
              " (3, 0): 97.73869346733669,\n",
              " (3, 1): 97.22921914357683,\n",
              " (3, 2): 97.73299748110831,\n",
              " (3, 3): 97.48110831234257,\n",
              " (3, 4): 97.98488664987406,\n",
              " (4, 0): 98.48866498740554,\n",
              " (4, 1): 98.48866498740554,\n",
              " (4, 2): 98.48866498740554,\n",
              " (4, 3): 97.97979797979798,\n",
              " (4, 4): 95.70707070707071}"
            ]
          },
          "metadata": {},
          "execution_count": 10
        }
      ]
    }
  ]
}