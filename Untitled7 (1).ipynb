{
  "nbformat": 4,
  "nbformat_minor": 0,
  "metadata": {
    "colab": {
      "provenance": []
    },
    "kernelspec": {
      "name": "python3",
      "display_name": "Python 3"
    },
    "language_info": {
      "name": "python"
    }
  },
  "cells": [
    {
      "cell_type": "code",
      "execution_count": 1,
      "metadata": {
        "colab": {
          "base_uri": "https://localhost:8080/"
        },
        "id": "-MiJfnju5FVM",
        "outputId": "a6a8a02b-c1d2-4eb3-9f35-1c47d8a48fdf"
      },
      "outputs": [
        {
          "output_type": "stream",
          "name": "stdout",
          "text": [
            "Requirement already satisfied: spuco in /usr/local/lib/python3.12/dist-packages (2.0.3)\n",
            "Requirement already satisfied: matplotlib>=3.7.1 in /usr/local/lib/python3.12/dist-packages (from spuco) (3.10.0)\n",
            "Requirement already satisfied: numpy>=1.23.5 in /usr/local/lib/python3.12/dist-packages (from spuco) (2.0.2)\n",
            "Requirement already satisfied: setuptools>=61.0 in /usr/local/lib/python3.12/dist-packages (from spuco) (75.2.0)\n",
            "Requirement already satisfied: torch>=2.0.0 in /usr/local/lib/python3.12/dist-packages (from spuco) (2.8.0+cu126)\n",
            "Requirement already satisfied: torchvision>=0.15.1 in /usr/local/lib/python3.12/dist-packages (from spuco) (0.23.0+cu126)\n",
            "Requirement already satisfied: tqdm>=4.65.0 in /usr/local/lib/python3.12/dist-packages (from spuco) (4.67.1)\n",
            "Requirement already satisfied: scikit-learn>=0.20.0 in /usr/local/lib/python3.12/dist-packages (from spuco) (1.6.1)\n",
            "Requirement already satisfied: wilds>=2.0.0 in /usr/local/lib/python3.12/dist-packages (from spuco) (2.0.0)\n",
            "Requirement already satisfied: transformers>=3.5.0 in /usr/local/lib/python3.12/dist-packages (from spuco) (4.56.1)\n",
            "Requirement already satisfied: umap-learn>=0.5.5 in /usr/local/lib/python3.12/dist-packages (from spuco) (0.5.9.post2)\n",
            "Requirement already satisfied: grad-cam>=1.5.0 in /usr/local/lib/python3.12/dist-packages (from spuco) (1.5.5)\n",
            "Requirement already satisfied: Pillow in /usr/local/lib/python3.12/dist-packages (from grad-cam>=1.5.0->spuco) (11.3.0)\n",
            "Requirement already satisfied: ttach in /usr/local/lib/python3.12/dist-packages (from grad-cam>=1.5.0->spuco) (0.0.3)\n",
            "Requirement already satisfied: opencv-python in /usr/local/lib/python3.12/dist-packages (from grad-cam>=1.5.0->spuco) (4.12.0.88)\n",
            "Requirement already satisfied: contourpy>=1.0.1 in /usr/local/lib/python3.12/dist-packages (from matplotlib>=3.7.1->spuco) (1.3.3)\n",
            "Requirement already satisfied: cycler>=0.10 in /usr/local/lib/python3.12/dist-packages (from matplotlib>=3.7.1->spuco) (0.12.1)\n",
            "Requirement already satisfied: fonttools>=4.22.0 in /usr/local/lib/python3.12/dist-packages (from matplotlib>=3.7.1->spuco) (4.60.0)\n",
            "Requirement already satisfied: kiwisolver>=1.3.1 in /usr/local/lib/python3.12/dist-packages (from matplotlib>=3.7.1->spuco) (1.4.9)\n",
            "Requirement already satisfied: packaging>=20.0 in /usr/local/lib/python3.12/dist-packages (from matplotlib>=3.7.1->spuco) (25.0)\n",
            "Requirement already satisfied: pyparsing>=2.3.1 in /usr/local/lib/python3.12/dist-packages (from matplotlib>=3.7.1->spuco) (3.2.4)\n",
            "Requirement already satisfied: python-dateutil>=2.7 in /usr/local/lib/python3.12/dist-packages (from matplotlib>=3.7.1->spuco) (2.9.0.post0)\n",
            "Requirement already satisfied: scipy>=1.6.0 in /usr/local/lib/python3.12/dist-packages (from scikit-learn>=0.20.0->spuco) (1.16.2)\n",
            "Requirement already satisfied: joblib>=1.2.0 in /usr/local/lib/python3.12/dist-packages (from scikit-learn>=0.20.0->spuco) (1.5.2)\n",
            "Requirement already satisfied: threadpoolctl>=3.1.0 in /usr/local/lib/python3.12/dist-packages (from scikit-learn>=0.20.0->spuco) (3.6.0)\n",
            "Requirement already satisfied: filelock in /usr/local/lib/python3.12/dist-packages (from torch>=2.0.0->spuco) (3.19.1)\n",
            "Requirement already satisfied: typing-extensions>=4.10.0 in /usr/local/lib/python3.12/dist-packages (from torch>=2.0.0->spuco) (4.15.0)\n",
            "Requirement already satisfied: sympy>=1.13.3 in /usr/local/lib/python3.12/dist-packages (from torch>=2.0.0->spuco) (1.13.3)\n",
            "Requirement already satisfied: networkx in /usr/local/lib/python3.12/dist-packages (from torch>=2.0.0->spuco) (3.5)\n",
            "Requirement already satisfied: jinja2 in /usr/local/lib/python3.12/dist-packages (from torch>=2.0.0->spuco) (3.1.6)\n",
            "Requirement already satisfied: fsspec in /usr/local/lib/python3.12/dist-packages (from torch>=2.0.0->spuco) (2025.3.0)\n",
            "Requirement already satisfied: nvidia-cuda-nvrtc-cu12==12.6.77 in /usr/local/lib/python3.12/dist-packages (from torch>=2.0.0->spuco) (12.6.77)\n",
            "Requirement already satisfied: nvidia-cuda-runtime-cu12==12.6.77 in /usr/local/lib/python3.12/dist-packages (from torch>=2.0.0->spuco) (12.6.77)\n",
            "Requirement already satisfied: nvidia-cuda-cupti-cu12==12.6.80 in /usr/local/lib/python3.12/dist-packages (from torch>=2.0.0->spuco) (12.6.80)\n",
            "Requirement already satisfied: nvidia-cudnn-cu12==9.10.2.21 in /usr/local/lib/python3.12/dist-packages (from torch>=2.0.0->spuco) (9.10.2.21)\n",
            "Requirement already satisfied: nvidia-cublas-cu12==12.6.4.1 in /usr/local/lib/python3.12/dist-packages (from torch>=2.0.0->spuco) (12.6.4.1)\n",
            "Requirement already satisfied: nvidia-cufft-cu12==11.3.0.4 in /usr/local/lib/python3.12/dist-packages (from torch>=2.0.0->spuco) (11.3.0.4)\n",
            "Requirement already satisfied: nvidia-curand-cu12==10.3.7.77 in /usr/local/lib/python3.12/dist-packages (from torch>=2.0.0->spuco) (10.3.7.77)\n",
            "Requirement already satisfied: nvidia-cusolver-cu12==11.7.1.2 in /usr/local/lib/python3.12/dist-packages (from torch>=2.0.0->spuco) (11.7.1.2)\n",
            "Requirement already satisfied: nvidia-cusparse-cu12==12.5.4.2 in /usr/local/lib/python3.12/dist-packages (from torch>=2.0.0->spuco) (12.5.4.2)\n",
            "Requirement already satisfied: nvidia-cusparselt-cu12==0.7.1 in /usr/local/lib/python3.12/dist-packages (from torch>=2.0.0->spuco) (0.7.1)\n",
            "Requirement already satisfied: nvidia-nccl-cu12==2.27.3 in /usr/local/lib/python3.12/dist-packages (from torch>=2.0.0->spuco) (2.27.3)\n",
            "Requirement already satisfied: nvidia-nvtx-cu12==12.6.77 in /usr/local/lib/python3.12/dist-packages (from torch>=2.0.0->spuco) (12.6.77)\n",
            "Requirement already satisfied: nvidia-nvjitlink-cu12==12.6.85 in /usr/local/lib/python3.12/dist-packages (from torch>=2.0.0->spuco) (12.6.85)\n",
            "Requirement already satisfied: nvidia-cufile-cu12==1.11.1.6 in /usr/local/lib/python3.12/dist-packages (from torch>=2.0.0->spuco) (1.11.1.6)\n",
            "Requirement already satisfied: triton==3.4.0 in /usr/local/lib/python3.12/dist-packages (from torch>=2.0.0->spuco) (3.4.0)\n",
            "Requirement already satisfied: huggingface-hub<1.0,>=0.34.0 in /usr/local/lib/python3.12/dist-packages (from transformers>=3.5.0->spuco) (0.35.0)\n",
            "Requirement already satisfied: pyyaml>=5.1 in /usr/local/lib/python3.12/dist-packages (from transformers>=3.5.0->spuco) (6.0.2)\n",
            "Requirement already satisfied: regex!=2019.12.17 in /usr/local/lib/python3.12/dist-packages (from transformers>=3.5.0->spuco) (2024.11.6)\n",
            "Requirement already satisfied: requests in /usr/local/lib/python3.12/dist-packages (from transformers>=3.5.0->spuco) (2.32.4)\n",
            "Requirement already satisfied: tokenizers<=0.23.0,>=0.22.0 in /usr/local/lib/python3.12/dist-packages (from transformers>=3.5.0->spuco) (0.22.0)\n",
            "Requirement already satisfied: safetensors>=0.4.3 in /usr/local/lib/python3.12/dist-packages (from transformers>=3.5.0->spuco) (0.6.2)\n",
            "Requirement already satisfied: numba>=0.51.2 in /usr/local/lib/python3.12/dist-packages (from umap-learn>=0.5.5->spuco) (0.60.0)\n",
            "Requirement already satisfied: pynndescent>=0.5 in /usr/local/lib/python3.12/dist-packages (from umap-learn>=0.5.5->spuco) (0.5.13)\n",
            "Requirement already satisfied: ogb>=1.2.6 in /usr/local/lib/python3.12/dist-packages (from wilds>=2.0.0->spuco) (1.3.6)\n",
            "Requirement already satisfied: outdated>=0.2.0 in /usr/local/lib/python3.12/dist-packages (from wilds>=2.0.0->spuco) (0.2.2)\n",
            "Requirement already satisfied: pandas>=1.1.0 in /usr/local/lib/python3.12/dist-packages (from wilds>=2.0.0->spuco) (2.2.2)\n",
            "Requirement already satisfied: pytz>=2020.4 in /usr/local/lib/python3.12/dist-packages (from wilds>=2.0.0->spuco) (2025.2)\n",
            "Requirement already satisfied: hf-xet<2.0.0,>=1.1.3 in /usr/local/lib/python3.12/dist-packages (from huggingface-hub<1.0,>=0.34.0->transformers>=3.5.0->spuco) (1.1.10)\n",
            "Requirement already satisfied: llvmlite<0.44,>=0.43.0dev0 in /usr/local/lib/python3.12/dist-packages (from numba>=0.51.2->umap-learn>=0.5.5->spuco) (0.43.0)\n",
            "Requirement already satisfied: six>=1.12.0 in /usr/local/lib/python3.12/dist-packages (from ogb>=1.2.6->wilds>=2.0.0->spuco) (1.17.0)\n",
            "Requirement already satisfied: urllib3>=1.24.0 in /usr/local/lib/python3.12/dist-packages (from ogb>=1.2.6->wilds>=2.0.0->spuco) (2.5.0)\n",
            "Requirement already satisfied: littleutils in /usr/local/lib/python3.12/dist-packages (from outdated>=0.2.0->wilds>=2.0.0->spuco) (0.2.4)\n",
            "Requirement already satisfied: tzdata>=2022.7 in /usr/local/lib/python3.12/dist-packages (from pandas>=1.1.0->wilds>=2.0.0->spuco) (2025.2)\n",
            "Requirement already satisfied: mpmath<1.4,>=1.1.0 in /usr/local/lib/python3.12/dist-packages (from sympy>=1.13.3->torch>=2.0.0->spuco) (1.3.0)\n",
            "Requirement already satisfied: MarkupSafe>=2.0 in /usr/local/lib/python3.12/dist-packages (from jinja2->torch>=2.0.0->spuco) (3.0.2)\n",
            "Requirement already satisfied: charset_normalizer<4,>=2 in /usr/local/lib/python3.12/dist-packages (from requests->transformers>=3.5.0->spuco) (3.4.3)\n",
            "Requirement already satisfied: idna<4,>=2.5 in /usr/local/lib/python3.12/dist-packages (from requests->transformers>=3.5.0->spuco) (3.10)\n",
            "Requirement already satisfied: certifi>=2017.4.17 in /usr/local/lib/python3.12/dist-packages (from requests->transformers>=3.5.0->spuco) (2025.8.3)\n"
          ]
        }
      ],
      "source": [
        "pip install spuco"
      ]
    },
    {
      "cell_type": "code",
      "source": [
        "import torch\n",
        "from spuco.datasets import SpuCoMNIST, SpuriousFeatureDifficulty\n",
        "from spuco.models import model_factory\n",
        "from torch.optim import SGD\n",
        "from spuco.robust_train import ERM\n",
        "from spuco.group_inference import Cluster, ClusterAlg\n",
        "from spuco.robust_train import GroupBalanceBatchERM, ClassBalanceBatchERM\n",
        "from spuco.models import model_factory\n",
        "from spuco.evaluate import Evaluator"
      ],
      "metadata": {
        "id": "ITACcG8H6HW6"
      },
      "execution_count": 2,
      "outputs": []
    },
    {
      "cell_type": "code",
      "source": [
        "classes = [[0, 1], [2, 3], [4, 5], [6, 7], [8, 9]]\n",
        "difficulty = SpuriousFeatureDifficulty.MAGNITUDE_LARGE\n",
        "\n",
        "trainset = SpuCoMNIST(\n",
        "    root=\"/data/mnist/\",\n",
        "    spurious_feature_difficulty=difficulty,\n",
        "    spurious_correlation_strength=0.995,\n",
        "    classes=classes,\n",
        "    split=\"train\"\n",
        ")\n",
        "trainset.initialize()\n",
        "\n",
        "testset = SpuCoMNIST(\n",
        "    root=\"/data/mnist/\",\n",
        "    spurious_feature_difficulty=difficulty,\n",
        "    classes=classes,\n",
        "    split=\"test\"\n",
        ")\n",
        "testset.initialize()"
      ],
      "metadata": {
        "id": "AFsTOzdr-76Y"
      },
      "execution_count": 3,
      "outputs": []
    },
    {
      "cell_type": "code",
      "source": [
        "model = model_factory(\"lenet\", trainset[0][0].shape, trainset.num_classes)\n",
        "\n",
        "erm = ERM(\n",
        "    model=model,\n",
        "    num_epochs=1,\n",
        "    trainset=trainset,\n",
        "    batch_size=64,\n",
        "    optimizer=SGD(model.parameters(), lr=1e-2, momentum=0.9, nesterov=True),\n",
        "    verbose=True\n",
        ")\n",
        "erm.train()\n"
      ],
      "metadata": {
        "colab": {
          "base_uri": "https://localhost:8080/"
        },
        "id": "SboTjaDxvSOj",
        "outputId": "c17eb062-cbff-4f00-a685-0968bb167bdd"
      },
      "execution_count": 13,
      "outputs": [
        {
          "output_type": "stream",
          "name": "stderr",
          "text": [
            "Epoch 0:   1%|          | 5/751 [00:00<00:43, 17.00batch/s, accuracy=9.375%, loss=1.62] "
          ]
        },
        {
          "output_type": "stream",
          "name": "stdout",
          "text": [
            "ERM | Epoch 0 | Loss: 1.6041473150253296 | Accuracy: 20.3125%\n",
            "ERM | Epoch 0 | Loss: 1.608362078666687 | Accuracy: 20.3125%\n",
            "ERM | Epoch 0 | Loss: 1.607327938079834 | Accuracy: 23.4375%\n",
            "ERM | Epoch 0 | Loss: 1.6080348491668701 | Accuracy: 15.625%\n",
            "ERM | Epoch 0 | Loss: 1.6142613887786865 | Accuracy: 14.0625%\n",
            "ERM | Epoch 0 | Loss: 1.6064136028289795 | Accuracy: 25.0%\n",
            "ERM | Epoch 0 | Loss: 1.6131041049957275 | Accuracy: 18.75%\n",
            "ERM | Epoch 0 | Loss: 1.602672815322876 | Accuracy: 17.1875%\n",
            "ERM | Epoch 0 | Loss: 1.616182804107666 | Accuracy: 9.375%\n"
          ]
        },
        {
          "output_type": "stream",
          "name": "stderr",
          "text": [
            "Epoch 0:   2%|▏         | 15/751 [00:00<00:22, 33.19batch/s, accuracy=53.125%, loss=1.6]"
          ]
        },
        {
          "output_type": "stream",
          "name": "stdout",
          "text": [
            "ERM | Epoch 0 | Loss: 1.6099647283554077 | Accuracy: 18.75%\n",
            "ERM | Epoch 0 | Loss: 1.6118987798690796 | Accuracy: 18.75%\n",
            "ERM | Epoch 0 | Loss: 1.6053647994995117 | Accuracy: 32.8125%\n",
            "ERM | Epoch 0 | Loss: 1.609091877937317 | Accuracy: 17.1875%\n",
            "ERM | Epoch 0 | Loss: 1.603774070739746 | Accuracy: 34.375%\n",
            "ERM | Epoch 0 | Loss: 1.6030566692352295 | Accuracy: 34.375%\n",
            "ERM | Epoch 0 | Loss: 1.604233980178833 | Accuracy: 45.3125%\n",
            "ERM | Epoch 0 | Loss: 1.6041277647018433 | Accuracy: 50.0%\n",
            "ERM | Epoch 0 | Loss: 1.6009585857391357 | Accuracy: 53.125%\n"
          ]
        },
        {
          "output_type": "stream",
          "name": "stderr",
          "text": [
            "Epoch 0:   3%|▎         | 25/751 [00:00<00:18, 39.01batch/s, accuracy=20.3125%, loss=1.59]"
          ]
        },
        {
          "output_type": "stream",
          "name": "stdout",
          "text": [
            "ERM | Epoch 0 | Loss: 1.5994070768356323 | Accuracy: 48.4375%\n",
            "ERM | Epoch 0 | Loss: 1.6001379489898682 | Accuracy: 26.5625%\n",
            "ERM | Epoch 0 | Loss: 1.598465919494629 | Accuracy: 20.3125%\n",
            "ERM | Epoch 0 | Loss: 1.5984067916870117 | Accuracy: 21.875%\n",
            "ERM | Epoch 0 | Loss: 1.5961103439331055 | Accuracy: 26.5625%\n",
            "ERM | Epoch 0 | Loss: 1.5962586402893066 | Accuracy: 26.5625%\n",
            "ERM | Epoch 0 | Loss: 1.5941581726074219 | Accuracy: 20.3125%\n",
            "ERM | Epoch 0 | Loss: 1.5993250608444214 | Accuracy: 14.0625%\n",
            "ERM | Epoch 0 | Loss: 1.5923415422439575 | Accuracy: 20.3125%\n"
          ]
        },
        {
          "output_type": "stream",
          "name": "stderr",
          "text": [
            "Epoch 0:   5%|▍         | 35/751 [00:01<00:16, 42.30batch/s, accuracy=35.9375%, loss=1.58]"
          ]
        },
        {
          "output_type": "stream",
          "name": "stdout",
          "text": [
            "ERM | Epoch 0 | Loss: 1.5900555849075317 | Accuracy: 23.4375%\n",
            "ERM | Epoch 0 | Loss: 1.5885072946548462 | Accuracy: 23.4375%\n",
            "ERM | Epoch 0 | Loss: 1.587239146232605 | Accuracy: 26.5625%\n",
            "ERM | Epoch 0 | Loss: 1.5865871906280518 | Accuracy: 18.75%\n",
            "ERM | Epoch 0 | Loss: 1.5816880464553833 | Accuracy: 26.5625%\n",
            "ERM | Epoch 0 | Loss: 1.588971734046936 | Accuracy: 17.1875%\n",
            "ERM | Epoch 0 | Loss: 1.5817372798919678 | Accuracy: 15.625%\n",
            "ERM | Epoch 0 | Loss: 1.5768738985061646 | Accuracy: 37.5%\n",
            "ERM | Epoch 0 | Loss: 1.5768635272979736 | Accuracy: 40.625%\n",
            "ERM | Epoch 0 | Loss: 1.5755139589309692 | Accuracy: 35.9375%\n"
          ]
        },
        {
          "output_type": "stream",
          "name": "stderr",
          "text": [
            "Epoch 0:   6%|▌         | 45/751 [00:01<00:16, 43.78batch/s, accuracy=42.1875%, loss=1.53]"
          ]
        },
        {
          "output_type": "stream",
          "name": "stdout",
          "text": [
            "ERM | Epoch 0 | Loss: 1.567151427268982 | Accuracy: 40.625%\n",
            "ERM | Epoch 0 | Loss: 1.5660840272903442 | Accuracy: 40.625%\n",
            "ERM | Epoch 0 | Loss: 1.5548137426376343 | Accuracy: 57.8125%\n",
            "ERM | Epoch 0 | Loss: 1.552292823791504 | Accuracy: 60.9375%\n",
            "ERM | Epoch 0 | Loss: 1.5552198886871338 | Accuracy: 57.8125%\n",
            "ERM | Epoch 0 | Loss: 1.5433433055877686 | Accuracy: 53.125%\n",
            "ERM | Epoch 0 | Loss: 1.5362852811813354 | Accuracy: 42.1875%\n",
            "ERM | Epoch 0 | Loss: 1.5164661407470703 | Accuracy: 42.1875%\n",
            "ERM | Epoch 0 | Loss: 1.5251809358596802 | Accuracy: 42.1875%\n"
          ]
        },
        {
          "output_type": "stream",
          "name": "stderr",
          "text": [
            "Epoch 0:   7%|▋         | 55/751 [00:01<00:16, 43.35batch/s, accuracy=48.4375%, loss=1.17]"
          ]
        },
        {
          "output_type": "stream",
          "name": "stdout",
          "text": [
            "ERM | Epoch 0 | Loss: 1.4972026348114014 | Accuracy: 46.875%\n",
            "ERM | Epoch 0 | Loss: 1.481986165046692 | Accuracy: 42.1875%\n",
            "ERM | Epoch 0 | Loss: 1.468595027923584 | Accuracy: 39.0625%\n",
            "ERM | Epoch 0 | Loss: 1.4568928480148315 | Accuracy: 34.375%\n",
            "ERM | Epoch 0 | Loss: 1.4210671186447144 | Accuracy: 39.0625%\n",
            "ERM | Epoch 0 | Loss: 1.3439334630966187 | Accuracy: 51.5625%\n",
            "ERM | Epoch 0 | Loss: 1.3711506128311157 | Accuracy: 39.0625%\n",
            "ERM | Epoch 0 | Loss: 1.2618272304534912 | Accuracy: 48.4375%\n",
            "ERM | Epoch 0 | Loss: 1.3259543180465698 | Accuracy: 32.8125%\n",
            "ERM | Epoch 0 | Loss: 1.1690518856048584 | Accuracy: 48.4375%\n"
          ]
        },
        {
          "output_type": "stream",
          "name": "stderr",
          "text": [
            "Epoch 0:   9%|▊         | 65/751 [00:01<00:15, 45.23batch/s, accuracy=81.25%, loss=0.692] "
          ]
        },
        {
          "output_type": "stream",
          "name": "stdout",
          "text": [
            "ERM | Epoch 0 | Loss: 1.1500014066696167 | Accuracy: 45.3125%\n",
            "ERM | Epoch 0 | Loss: 1.0945597887039185 | Accuracy: 43.75%\n",
            "ERM | Epoch 0 | Loss: 1.1117274761199951 | Accuracy: 37.5%\n",
            "ERM | Epoch 0 | Loss: 0.9829266667366028 | Accuracy: 40.625%\n",
            "ERM | Epoch 0 | Loss: 0.9324584007263184 | Accuracy: 37.5%\n",
            "ERM | Epoch 0 | Loss: 0.8108681440353394 | Accuracy: 67.1875%\n",
            "ERM | Epoch 0 | Loss: 0.7648747563362122 | Accuracy: 73.4375%\n",
            "ERM | Epoch 0 | Loss: 0.709406852722168 | Accuracy: 65.625%\n",
            "ERM | Epoch 0 | Loss: 0.7405315637588501 | Accuracy: 59.375%\n",
            "ERM | Epoch 0 | Loss: 0.692139744758606 | Accuracy: 81.25%\n"
          ]
        },
        {
          "output_type": "stream",
          "name": "stderr",
          "text": [
            "Epoch 0:  10%|▉         | 75/751 [00:01<00:14, 46.43batch/s, accuracy=65.625%, loss=1.11]  "
          ]
        },
        {
          "output_type": "stream",
          "name": "stdout",
          "text": [
            "ERM | Epoch 0 | Loss: 0.6831954717636108 | Accuracy: 73.4375%\n",
            "ERM | Epoch 0 | Loss: 0.5966113209724426 | Accuracy: 70.3125%\n",
            "ERM | Epoch 0 | Loss: 0.5789073705673218 | Accuracy: 71.875%\n",
            "ERM | Epoch 0 | Loss: 0.505173921585083 | Accuracy: 78.125%\n",
            "ERM | Epoch 0 | Loss: 0.49486804008483887 | Accuracy: 75.0%\n",
            "ERM | Epoch 0 | Loss: 0.36347806453704834 | Accuracy: 84.375%\n",
            "ERM | Epoch 0 | Loss: 0.35348647832870483 | Accuracy: 82.8125%\n",
            "ERM | Epoch 0 | Loss: 0.5959023833274841 | Accuracy: 87.5%\n",
            "ERM | Epoch 0 | Loss: 0.46116653084754944 | Accuracy: 73.4375%\n",
            "ERM | Epoch 0 | Loss: 1.1050652265548706 | Accuracy: 65.625%\n"
          ]
        },
        {
          "output_type": "stream",
          "name": "stderr",
          "text": [
            "Epoch 0:  11%|█▏        | 85/751 [00:02<00:14, 47.14batch/s, accuracy=81.25%, loss=0.344] "
          ]
        },
        {
          "output_type": "stream",
          "name": "stdout",
          "text": [
            "ERM | Epoch 0 | Loss: 1.0606000423431396 | Accuracy: 79.6875%\n",
            "ERM | Epoch 0 | Loss: 0.4728611707687378 | Accuracy: 85.9375%\n",
            "ERM | Epoch 0 | Loss: 0.907191812992096 | Accuracy: 65.625%\n",
            "ERM | Epoch 0 | Loss: 0.4836499094963074 | Accuracy: 84.375%\n",
            "ERM | Epoch 0 | Loss: 0.5582867860794067 | Accuracy: 81.25%\n",
            "ERM | Epoch 0 | Loss: 0.8619861006736755 | Accuracy: 78.125%\n",
            "ERM | Epoch 0 | Loss: 0.35644006729125977 | Accuracy: 84.375%\n",
            "ERM | Epoch 0 | Loss: 0.3717823028564453 | Accuracy: 79.6875%\n",
            "ERM | Epoch 0 | Loss: 0.3509911298751831 | Accuracy: 78.125%\n",
            "ERM | Epoch 0 | Loss: 0.34402936697006226 | Accuracy: 81.25%\n"
          ]
        },
        {
          "output_type": "stream",
          "name": "stderr",
          "text": [
            "Epoch 0:  13%|█▎        | 95/751 [00:02<00:13, 46.87batch/s, accuracy=81.25%, loss=0.309]"
          ]
        },
        {
          "output_type": "stream",
          "name": "stdout",
          "text": [
            "ERM | Epoch 0 | Loss: 0.35817620158195496 | Accuracy: 75.0%\n",
            "ERM | Epoch 0 | Loss: 0.32528167963027954 | Accuracy: 82.8125%\n",
            "ERM | Epoch 0 | Loss: 0.3875671625137329 | Accuracy: 81.25%\n",
            "ERM | Epoch 0 | Loss: 0.4571036994457245 | Accuracy: 85.9375%\n",
            "ERM | Epoch 0 | Loss: 0.3572908639907837 | Accuracy: 78.125%\n",
            "ERM | Epoch 0 | Loss: 0.3985673189163208 | Accuracy: 70.3125%\n",
            "ERM | Epoch 0 | Loss: 0.328949511051178 | Accuracy: 85.9375%\n",
            "ERM | Epoch 0 | Loss: 0.35726872086524963 | Accuracy: 75.0%\n",
            "ERM | Epoch 0 | Loss: 0.30895188450813293 | Accuracy: 81.25%\n"
          ]
        },
        {
          "output_type": "stream",
          "name": "stderr",
          "text": [
            "Epoch 0:  14%|█▍        | 105/751 [00:02<00:13, 46.83batch/s, accuracy=84.375%, loss=0.242]"
          ]
        },
        {
          "output_type": "stream",
          "name": "stdout",
          "text": [
            "ERM | Epoch 0 | Loss: 0.4138789772987366 | Accuracy: 73.4375%\n",
            "ERM | Epoch 0 | Loss: 0.2921983599662781 | Accuracy: 87.5%\n",
            "ERM | Epoch 0 | Loss: 0.44543546438217163 | Accuracy: 73.4375%\n",
            "ERM | Epoch 0 | Loss: 0.3403002619743347 | Accuracy: 75.0%\n",
            "ERM | Epoch 0 | Loss: 0.3557499349117279 | Accuracy: 85.9375%\n",
            "ERM | Epoch 0 | Loss: 0.3182371258735657 | Accuracy: 79.6875%\n",
            "ERM | Epoch 0 | Loss: 0.3239440321922302 | Accuracy: 78.125%\n",
            "ERM | Epoch 0 | Loss: 0.2584303915500641 | Accuracy: 85.9375%\n",
            "ERM | Epoch 0 | Loss: 0.4134970009326935 | Accuracy: 82.8125%\n",
            "ERM | Epoch 0 | Loss: 0.24234133958816528 | Accuracy: 84.375%\n"
          ]
        },
        {
          "output_type": "stream",
          "name": "stderr",
          "text": [
            "Epoch 0:  15%|█▌        | 115/751 [00:02<00:13, 47.42batch/s, accuracy=73.4375%, loss=0.57]"
          ]
        },
        {
          "output_type": "stream",
          "name": "stdout",
          "text": [
            "ERM | Epoch 0 | Loss: 0.2565566599369049 | Accuracy: 81.25%\n",
            "ERM | Epoch 0 | Loss: 0.25930339097976685 | Accuracy: 82.8125%\n",
            "ERM | Epoch 0 | Loss: 0.3820933997631073 | Accuracy: 71.875%\n",
            "ERM | Epoch 0 | Loss: 0.2621706426143646 | Accuracy: 81.25%\n",
            "ERM | Epoch 0 | Loss: 0.20203599333763123 | Accuracy: 82.8125%\n",
            "ERM | Epoch 0 | Loss: 0.22160741686820984 | Accuracy: 85.9375%\n",
            "ERM | Epoch 0 | Loss: 0.26473402976989746 | Accuracy: 85.9375%\n",
            "ERM | Epoch 0 | Loss: 0.3472425043582916 | Accuracy: 84.375%\n",
            "ERM | Epoch 0 | Loss: 0.3191262185573578 | Accuracy: 79.6875%\n",
            "ERM | Epoch 0 | Loss: 0.5704751014709473 | Accuracy: 73.4375%\n"
          ]
        },
        {
          "output_type": "stream",
          "name": "stderr",
          "text": [
            "Epoch 0:  17%|█▋        | 125/751 [00:02<00:13, 48.14batch/s, accuracy=79.6875%, loss=0.254]"
          ]
        },
        {
          "output_type": "stream",
          "name": "stdout",
          "text": [
            "ERM | Epoch 0 | Loss: 0.26390939950942993 | Accuracy: 92.1875%\n",
            "ERM | Epoch 0 | Loss: 0.4260913133621216 | Accuracy: 81.25%\n",
            "ERM | Epoch 0 | Loss: 0.2631758749485016 | Accuracy: 78.125%\n",
            "ERM | Epoch 0 | Loss: 0.2741791009902954 | Accuracy: 89.0625%\n",
            "ERM | Epoch 0 | Loss: 0.2487911432981491 | Accuracy: 87.5%\n",
            "ERM | Epoch 0 | Loss: 0.2766764760017395 | Accuracy: 81.25%\n",
            "ERM | Epoch 0 | Loss: 0.26006197929382324 | Accuracy: 76.5625%\n",
            "ERM | Epoch 0 | Loss: 0.29425445199012756 | Accuracy: 98.4375%\n",
            "ERM | Epoch 0 | Loss: 0.44021299481391907 | Accuracy: 96.875%\n",
            "ERM | Epoch 0 | Loss: 0.25440943241119385 | Accuracy: 79.6875%\n"
          ]
        },
        {
          "output_type": "stream",
          "name": "stderr",
          "text": [
            "Epoch 0:  18%|█▊        | 135/751 [00:03<00:12, 48.51batch/s, accuracy=98.4375%, loss=0.261]"
          ]
        },
        {
          "output_type": "stream",
          "name": "stdout",
          "text": [
            "ERM | Epoch 0 | Loss: 0.24514177441596985 | Accuracy: 100.0%\n",
            "ERM | Epoch 0 | Loss: 0.2165311574935913 | Accuracy: 100.0%\n",
            "ERM | Epoch 0 | Loss: 0.16736966371536255 | Accuracy: 100.0%\n",
            "ERM | Epoch 0 | Loss: 0.30955639481544495 | Accuracy: 71.875%\n",
            "ERM | Epoch 0 | Loss: 0.16954036056995392 | Accuracy: 100.0%\n",
            "ERM | Epoch 0 | Loss: 0.24303096532821655 | Accuracy: 100.0%\n",
            "ERM | Epoch 0 | Loss: 0.19870176911354065 | Accuracy: 100.0%\n",
            "ERM | Epoch 0 | Loss: 0.16760781407356262 | Accuracy: 100.0%\n",
            "ERM | Epoch 0 | Loss: 0.13896170258522034 | Accuracy: 100.0%\n",
            "ERM | Epoch 0 | Loss: 0.26051995158195496 | Accuracy: 98.4375%\n"
          ]
        },
        {
          "output_type": "stream",
          "name": "stderr",
          "text": [
            "Epoch 0:  19%|█▉        | 145/751 [00:03<00:12, 47.71batch/s, accuracy=100.0%, loss=0.013]"
          ]
        },
        {
          "output_type": "stream",
          "name": "stdout",
          "text": [
            "ERM | Epoch 0 | Loss: 0.14764583110809326 | Accuracy: 100.0%\n",
            "ERM | Epoch 0 | Loss: 0.17628327012062073 | Accuracy: 98.4375%\n",
            "ERM | Epoch 0 | Loss: 0.0896669402718544 | Accuracy: 100.0%\n",
            "ERM | Epoch 0 | Loss: 0.06534641236066818 | Accuracy: 100.0%\n",
            "ERM | Epoch 0 | Loss: 0.04426703229546547 | Accuracy: 100.0%\n",
            "ERM | Epoch 0 | Loss: 0.11374059319496155 | Accuracy: 98.4375%\n",
            "ERM | Epoch 0 | Loss: 0.03481823951005936 | Accuracy: 100.0%\n",
            "ERM | Epoch 0 | Loss: 0.020961668342351913 | Accuracy: 100.0%\n",
            "ERM | Epoch 0 | Loss: 0.017806069925427437 | Accuracy: 100.0%\n",
            "ERM | Epoch 0 | Loss: 0.012953614816069603 | Accuracy: 100.0%\n"
          ]
        },
        {
          "output_type": "stream",
          "name": "stderr",
          "text": [
            "Epoch 0:  21%|██        | 155/751 [00:03<00:12, 47.39batch/s, accuracy=100.0%, loss=0.0154]"
          ]
        },
        {
          "output_type": "stream",
          "name": "stdout",
          "text": [
            "ERM | Epoch 0 | Loss: 0.011171501129865646 | Accuracy: 100.0%\n",
            "ERM | Epoch 0 | Loss: 0.0090083172544837 | Accuracy: 100.0%\n",
            "ERM | Epoch 0 | Loss: 0.01528509147465229 | Accuracy: 100.0%\n",
            "ERM | Epoch 0 | Loss: 0.13649427890777588 | Accuracy: 98.4375%\n",
            "ERM | Epoch 0 | Loss: 0.006918617989867926 | Accuracy: 100.0%\n",
            "ERM | Epoch 0 | Loss: 0.22941601276397705 | Accuracy: 98.4375%\n",
            "ERM | Epoch 0 | Loss: 0.009891030378639698 | Accuracy: 100.0%\n",
            "ERM | Epoch 0 | Loss: 0.11228083074092865 | Accuracy: 98.4375%\n",
            "ERM | Epoch 0 | Loss: 0.0074865808710455894 | Accuracy: 100.0%\n",
            "ERM | Epoch 0 | Loss: 0.015421878546476364 | Accuracy: 100.0%\n"
          ]
        },
        {
          "output_type": "stream",
          "name": "stderr",
          "text": [
            "Epoch 0:  22%|██▏       | 165/751 [00:03<00:12, 47.30batch/s, accuracy=98.4375%, loss=0.0309]"
          ]
        },
        {
          "output_type": "stream",
          "name": "stdout",
          "text": [
            "ERM | Epoch 0 | Loss: 0.8456205725669861 | Accuracy: 98.4375%\n",
            "ERM | Epoch 0 | Loss: 0.021827278658747673 | Accuracy: 100.0%\n",
            "ERM | Epoch 0 | Loss: 0.3513372838497162 | Accuracy: 96.875%\n",
            "ERM | Epoch 0 | Loss: 0.008617017418146133 | Accuracy: 100.0%\n",
            "ERM | Epoch 0 | Loss: 0.011860311962664127 | Accuracy: 100.0%\n",
            "ERM | Epoch 0 | Loss: 0.858450174331665 | Accuracy: 98.4375%\n",
            "ERM | Epoch 0 | Loss: 0.19813218712806702 | Accuracy: 98.4375%\n",
            "ERM | Epoch 0 | Loss: 0.013683675788342953 | Accuracy: 100.0%\n",
            "ERM | Epoch 0 | Loss: 0.015829145908355713 | Accuracy: 100.0%\n",
            "ERM | Epoch 0 | Loss: 0.03093506023287773 | Accuracy: 98.4375%\n"
          ]
        },
        {
          "output_type": "stream",
          "name": "stderr",
          "text": [
            "Epoch 0:  23%|██▎       | 175/751 [00:04<00:12, 47.66batch/s, accuracy=100.0%, loss=0.0128]"
          ]
        },
        {
          "output_type": "stream",
          "name": "stdout",
          "text": [
            "ERM | Epoch 0 | Loss: 0.0375569723546505 | Accuracy: 100.0%\n",
            "ERM | Epoch 0 | Loss: 0.01792808063328266 | Accuracy: 100.0%\n",
            "ERM | Epoch 0 | Loss: 0.017415177077054977 | Accuracy: 100.0%\n",
            "ERM | Epoch 0 | Loss: 0.017956718802452087 | Accuracy: 100.0%\n",
            "ERM | Epoch 0 | Loss: 0.16963998973369598 | Accuracy: 98.4375%\n",
            "ERM | Epoch 0 | Loss: 0.0189256239682436 | Accuracy: 100.0%\n",
            "ERM | Epoch 0 | Loss: 0.014646586030721664 | Accuracy: 100.0%\n",
            "ERM | Epoch 0 | Loss: 0.01610480435192585 | Accuracy: 100.0%\n",
            "ERM | Epoch 0 | Loss: 0.09059657901525497 | Accuracy: 98.4375%\n",
            "ERM | Epoch 0 | Loss: 0.012771322391927242 | Accuracy: 100.0%\n"
          ]
        },
        {
          "output_type": "stream",
          "name": "stderr",
          "text": [
            "Epoch 0:  25%|██▍       | 185/751 [00:04<00:11, 47.69batch/s, accuracy=98.4375%, loss=0.0509]"
          ]
        },
        {
          "output_type": "stream",
          "name": "stdout",
          "text": [
            "ERM | Epoch 0 | Loss: 0.14340335130691528 | Accuracy: 98.4375%\n",
            "ERM | Epoch 0 | Loss: 0.014610124751925468 | Accuracy: 100.0%\n",
            "ERM | Epoch 0 | Loss: 0.010616959072649479 | Accuracy: 100.0%\n",
            "ERM | Epoch 0 | Loss: 0.010243039578199387 | Accuracy: 100.0%\n",
            "ERM | Epoch 0 | Loss: 0.3070922791957855 | Accuracy: 96.875%\n",
            "ERM | Epoch 0 | Loss: 0.011321251280605793 | Accuracy: 100.0%\n",
            "ERM | Epoch 0 | Loss: 0.01787065714597702 | Accuracy: 100.0%\n",
            "ERM | Epoch 0 | Loss: 0.3491969108581543 | Accuracy: 98.4375%\n",
            "ERM | Epoch 0 | Loss: 0.014349519275128841 | Accuracy: 100.0%\n",
            "ERM | Epoch 0 | Loss: 0.05088202655315399 | Accuracy: 98.4375%\n"
          ]
        },
        {
          "output_type": "stream",
          "name": "stderr",
          "text": [
            "Epoch 0:  26%|██▌       | 195/751 [00:04<00:11, 47.21batch/s, accuracy=98.4375%, loss=0.147]"
          ]
        },
        {
          "output_type": "stream",
          "name": "stdout",
          "text": [
            "ERM | Epoch 0 | Loss: 0.017782147973775864 | Accuracy: 100.0%\n",
            "ERM | Epoch 0 | Loss: 0.019008833914995193 | Accuracy: 100.0%\n",
            "ERM | Epoch 0 | Loss: 0.023996619507670403 | Accuracy: 100.0%\n",
            "ERM | Epoch 0 | Loss: 0.01186126098036766 | Accuracy: 100.0%\n",
            "ERM | Epoch 0 | Loss: 0.012027518823742867 | Accuracy: 100.0%\n",
            "ERM | Epoch 0 | Loss: 0.1619364321231842 | Accuracy: 98.4375%\n",
            "ERM | Epoch 0 | Loss: 0.009776823222637177 | Accuracy: 100.0%\n",
            "ERM | Epoch 0 | Loss: 0.010467427782714367 | Accuracy: 100.0%\n",
            "ERM | Epoch 0 | Loss: 0.011355118826031685 | Accuracy: 100.0%\n",
            "ERM | Epoch 0 | Loss: 0.14661480486392975 | Accuracy: 98.4375%\n"
          ]
        },
        {
          "output_type": "stream",
          "name": "stderr",
          "text": [
            "Epoch 0:  27%|██▋       | 205/751 [00:04<00:11, 47.43batch/s, accuracy=98.4375%, loss=0.453]"
          ]
        },
        {
          "output_type": "stream",
          "name": "stdout",
          "text": [
            "ERM | Epoch 0 | Loss: 0.011381798423826694 | Accuracy: 100.0%\n",
            "ERM | Epoch 0 | Loss: 0.031317394226789474 | Accuracy: 100.0%\n",
            "ERM | Epoch 0 | Loss: 0.013559975661337376 | Accuracy: 100.0%\n",
            "ERM | Epoch 0 | Loss: 0.008996828459203243 | Accuracy: 100.0%\n",
            "ERM | Epoch 0 | Loss: 0.007596651092171669 | Accuracy: 100.0%\n",
            "ERM | Epoch 0 | Loss: 0.00935001764446497 | Accuracy: 100.0%\n",
            "ERM | Epoch 0 | Loss: 0.0053972769528627396 | Accuracy: 100.0%\n",
            "ERM | Epoch 0 | Loss: 0.006855193991214037 | Accuracy: 100.0%\n",
            "ERM | Epoch 0 | Loss: 0.00786536280065775 | Accuracy: 100.0%\n",
            "ERM | Epoch 0 | Loss: 0.45268580317497253 | Accuracy: 98.4375%\n"
          ]
        },
        {
          "output_type": "stream",
          "name": "stderr",
          "text": [
            "Epoch 0:  29%|██▊       | 215/751 [00:04<00:11, 47.15batch/s, accuracy=100.0%, loss=0.00585]"
          ]
        },
        {
          "output_type": "stream",
          "name": "stdout",
          "text": [
            "ERM | Epoch 0 | Loss: 0.0077079348266124725 | Accuracy: 100.0%\n",
            "ERM | Epoch 0 | Loss: 0.07692302763462067 | Accuracy: 98.4375%\n",
            "ERM | Epoch 0 | Loss: 0.03191494196653366 | Accuracy: 100.0%\n",
            "ERM | Epoch 0 | Loss: 0.006004631519317627 | Accuracy: 100.0%\n",
            "ERM | Epoch 0 | Loss: 0.11984527111053467 | Accuracy: 98.4375%\n",
            "ERM | Epoch 0 | Loss: 0.14171673357486725 | Accuracy: 98.4375%\n",
            "ERM | Epoch 0 | Loss: 0.016509711742401123 | Accuracy: 100.0%\n",
            "ERM | Epoch 0 | Loss: 0.016380509361624718 | Accuracy: 100.0%\n",
            "ERM | Epoch 0 | Loss: 0.009784826077520847 | Accuracy: 100.0%\n",
            "ERM | Epoch 0 | Loss: 0.005848556756973267 | Accuracy: 100.0%\n"
          ]
        },
        {
          "output_type": "stream",
          "name": "stderr",
          "text": [
            "Epoch 0:  29%|██▉       | 220/751 [00:05<00:11, 46.89batch/s, accuracy=100.0%, loss=0.0107]"
          ]
        },
        {
          "output_type": "stream",
          "name": "stdout",
          "text": [
            "ERM | Epoch 0 | Loss: 0.006703570019453764 | Accuracy: 100.0%\n",
            "ERM | Epoch 0 | Loss: 0.00633888877928257 | Accuracy: 100.0%\n",
            "ERM | Epoch 0 | Loss: 0.6661526560783386 | Accuracy: 96.875%\n",
            "ERM | Epoch 0 | Loss: 0.005923353135585785 | Accuracy: 100.0%\n",
            "ERM | Epoch 0 | Loss: 0.007253712043166161 | Accuracy: 100.0%\n",
            "ERM | Epoch 0 | Loss: 0.006708689499646425 | Accuracy: 100.0%\n",
            "ERM | Epoch 0 | Loss: 0.17199188470840454 | Accuracy: 98.4375%\n",
            "ERM | Epoch 0 | Loss: 0.15597909688949585 | Accuracy: 98.4375%\n",
            "ERM | Epoch 0 | Loss: 0.015745695680379868 | Accuracy: 100.0%\n",
            "ERM | Epoch 0 | Loss: 0.010578254237771034 | Accuracy: 100.0%\n"
          ]
        },
        {
          "output_type": "stream",
          "name": "stderr",
          "text": [
            "Epoch 0:  31%|███       | 231/751 [00:05<00:10, 48.35batch/s, accuracy=100.0%, loss=0.017]  "
          ]
        },
        {
          "output_type": "stream",
          "name": "stdout",
          "text": [
            "ERM | Epoch 0 | Loss: 0.010675081983208656 | Accuracy: 100.0%\n",
            "ERM | Epoch 0 | Loss: 0.013183284550905228 | Accuracy: 100.0%\n",
            "ERM | Epoch 0 | Loss: 0.13168111443519592 | Accuracy: 98.4375%\n",
            "ERM | Epoch 0 | Loss: 0.47941863536834717 | Accuracy: 96.875%\n",
            "ERM | Epoch 0 | Loss: 0.013294660486280918 | Accuracy: 100.0%\n",
            "ERM | Epoch 0 | Loss: 0.01753758080303669 | Accuracy: 100.0%\n",
            "ERM | Epoch 0 | Loss: 0.01642824150621891 | Accuracy: 100.0%\n",
            "ERM | Epoch 0 | Loss: 0.015048421919345856 | Accuracy: 100.0%\n",
            "ERM | Epoch 0 | Loss: 0.10078167170286179 | Accuracy: 98.4375%\n",
            "ERM | Epoch 0 | Loss: 0.016952035948634148 | Accuracy: 100.0%\n"
          ]
        },
        {
          "output_type": "stream",
          "name": "stderr",
          "text": [
            "Epoch 0:  32%|███▏      | 241/751 [00:05<00:10, 48.73batch/s, accuracy=98.4375%, loss=0.0925]"
          ]
        },
        {
          "output_type": "stream",
          "name": "stdout",
          "text": [
            "ERM | Epoch 0 | Loss: 0.015732400119304657 | Accuracy: 100.0%\n",
            "ERM | Epoch 0 | Loss: 0.0141352079808712 | Accuracy: 100.0%\n",
            "ERM | Epoch 0 | Loss: 0.013891354203224182 | Accuracy: 100.0%\n",
            "ERM | Epoch 0 | Loss: 0.29410427808761597 | Accuracy: 96.875%\n",
            "ERM | Epoch 0 | Loss: 0.1702490895986557 | Accuracy: 98.4375%\n",
            "ERM | Epoch 0 | Loss: 0.13607686758041382 | Accuracy: 98.4375%\n",
            "ERM | Epoch 0 | Loss: 0.015475145541131496 | Accuracy: 100.0%\n",
            "ERM | Epoch 0 | Loss: 0.19317421317100525 | Accuracy: 98.4375%\n",
            "ERM | Epoch 0 | Loss: 0.016858775168657303 | Accuracy: 100.0%\n",
            "ERM | Epoch 0 | Loss: 0.09248168021440506 | Accuracy: 98.4375%\n"
          ]
        },
        {
          "output_type": "stream",
          "name": "stderr",
          "text": [
            "Epoch 0:  33%|███▎      | 251/751 [00:05<00:10, 46.65batch/s, accuracy=100.0%, loss=0.00906] "
          ]
        },
        {
          "output_type": "stream",
          "name": "stdout",
          "text": [
            "ERM | Epoch 0 | Loss: 0.02182185649871826 | Accuracy: 100.0%\n",
            "ERM | Epoch 0 | Loss: 0.02319900318980217 | Accuracy: 100.0%\n",
            "ERM | Epoch 0 | Loss: 0.014981476590037346 | Accuracy: 100.0%\n",
            "ERM | Epoch 0 | Loss: 0.01103496365249157 | Accuracy: 100.0%\n",
            "ERM | Epoch 0 | Loss: 0.09318827837705612 | Accuracy: 98.4375%\n",
            "ERM | Epoch 0 | Loss: 0.011277031153440475 | Accuracy: 100.0%\n",
            "ERM | Epoch 0 | Loss: 0.014280552044510841 | Accuracy: 100.0%\n",
            "ERM | Epoch 0 | Loss: 0.008840488269925117 | Accuracy: 100.0%\n",
            "ERM | Epoch 0 | Loss: 0.09689290076494217 | Accuracy: 98.4375%\n",
            "ERM | Epoch 0 | Loss: 0.009059984236955643 | Accuracy: 100.0%\n"
          ]
        },
        {
          "output_type": "stream",
          "name": "stderr",
          "text": [
            "Epoch 0:  35%|███▍      | 261/751 [00:05<00:10, 47.87batch/s, accuracy=98.4375%, loss=0.153]"
          ]
        },
        {
          "output_type": "stream",
          "name": "stdout",
          "text": [
            "ERM | Epoch 0 | Loss: 0.006539385765790939 | Accuracy: 100.0%\n",
            "ERM | Epoch 0 | Loss: 0.006106612738221884 | Accuracy: 100.0%\n",
            "ERM | Epoch 0 | Loss: 0.007269390858709812 | Accuracy: 100.0%\n",
            "ERM | Epoch 0 | Loss: 0.007261186372488737 | Accuracy: 100.0%\n",
            "ERM | Epoch 0 | Loss: 0.10174080729484558 | Accuracy: 98.4375%\n",
            "ERM | Epoch 0 | Loss: 0.010345371440052986 | Accuracy: 100.0%\n",
            "ERM | Epoch 0 | Loss: 0.13892382383346558 | Accuracy: 98.4375%\n",
            "ERM | Epoch 0 | Loss: 0.01125267893075943 | Accuracy: 100.0%\n",
            "ERM | Epoch 0 | Loss: 0.008939075283706188 | Accuracy: 100.0%\n",
            "ERM | Epoch 0 | Loss: 0.10101743787527084 | Accuracy: 98.4375%\n",
            "ERM | Epoch 0 | Loss: 0.15266266465187073 | Accuracy: 98.4375%\n"
          ]
        },
        {
          "output_type": "stream",
          "name": "stderr",
          "text": [
            "Epoch 0:  37%|███▋      | 276/751 [00:06<00:09, 47.77batch/s, accuracy=98.4375%, loss=0.198]"
          ]
        },
        {
          "output_type": "stream",
          "name": "stdout",
          "text": [
            "ERM | Epoch 0 | Loss: 0.08000970631837845 | Accuracy: 98.4375%\n",
            "ERM | Epoch 0 | Loss: 0.012814726680517197 | Accuracy: 100.0%\n",
            "ERM | Epoch 0 | Loss: 0.01497915294021368 | Accuracy: 100.0%\n",
            "ERM | Epoch 0 | Loss: 0.01012960821390152 | Accuracy: 100.0%\n",
            "ERM | Epoch 0 | Loss: 0.08907163143157959 | Accuracy: 98.4375%\n",
            "ERM | Epoch 0 | Loss: 0.22365346550941467 | Accuracy: 98.4375%\n",
            "ERM | Epoch 0 | Loss: 0.012811270542442799 | Accuracy: 100.0%\n",
            "ERM | Epoch 0 | Loss: 0.21324944496154785 | Accuracy: 98.4375%\n",
            "ERM | Epoch 0 | Loss: 0.015979459509253502 | Accuracy: 100.0%\n",
            "ERM | Epoch 0 | Loss: 0.19843152165412903 | Accuracy: 98.4375%\n"
          ]
        },
        {
          "output_type": "stream",
          "name": "stderr",
          "text": [
            "Epoch 0:  38%|███▊      | 286/751 [00:06<00:09, 48.29batch/s, accuracy=100.0%, loss=0.00821]"
          ]
        },
        {
          "output_type": "stream",
          "name": "stdout",
          "text": [
            "ERM | Epoch 0 | Loss: 0.14721766114234924 | Accuracy: 98.4375%\n",
            "ERM | Epoch 0 | Loss: 0.011936514638364315 | Accuracy: 100.0%\n",
            "ERM | Epoch 0 | Loss: 0.012493059039115906 | Accuracy: 100.0%\n",
            "ERM | Epoch 0 | Loss: 0.012349385768175125 | Accuracy: 100.0%\n",
            "ERM | Epoch 0 | Loss: 0.0073310453444719315 | Accuracy: 100.0%\n",
            "ERM | Epoch 0 | Loss: 0.16819535195827484 | Accuracy: 98.4375%\n",
            "ERM | Epoch 0 | Loss: 0.012805396690964699 | Accuracy: 100.0%\n",
            "ERM | Epoch 0 | Loss: 0.010655530728399754 | Accuracy: 100.0%\n",
            "ERM | Epoch 0 | Loss: 0.007211396005004644 | Accuracy: 100.0%\n",
            "ERM | Epoch 0 | Loss: 0.008212771266698837 | Accuracy: 100.0%\n"
          ]
        },
        {
          "output_type": "stream",
          "name": "stderr",
          "text": [
            "Epoch 0:  39%|███▊      | 291/751 [00:06<00:09, 48.13batch/s, accuracy=98.4375%, loss=0.0974]"
          ]
        },
        {
          "output_type": "stream",
          "name": "stdout",
          "text": [
            "ERM | Epoch 0 | Loss: 0.2481851875782013 | Accuracy: 98.4375%\n",
            "ERM | Epoch 0 | Loss: 0.16162756085395813 | Accuracy: 98.4375%\n",
            "ERM | Epoch 0 | Loss: 0.013942807912826538 | Accuracy: 100.0%\n",
            "ERM | Epoch 0 | Loss: 0.008173620328307152 | Accuracy: 100.0%\n",
            "ERM | Epoch 0 | Loss: 0.008096560835838318 | Accuracy: 100.0%\n",
            "ERM | Epoch 0 | Loss: 0.13275521993637085 | Accuracy: 98.4375%\n",
            "ERM | Epoch 0 | Loss: 0.008634903468191624 | Accuracy: 100.0%\n",
            "ERM | Epoch 0 | Loss: 0.008269435726106167 | Accuracy: 100.0%\n",
            "ERM | Epoch 0 | Loss: 0.007887734100222588 | Accuracy: 100.0%\n",
            "ERM | Epoch 0 | Loss: 0.09739133715629578 | Accuracy: 98.4375%\n"
          ]
        },
        {
          "output_type": "stream",
          "name": "stderr",
          "text": [
            "Epoch 0:  41%|████      | 306/751 [00:06<00:09, 46.47batch/s, accuracy=98.4375%, loss=0.156]"
          ]
        },
        {
          "output_type": "stream",
          "name": "stdout",
          "text": [
            "ERM | Epoch 0 | Loss: 0.15402506291866302 | Accuracy: 98.4375%\n",
            "ERM | Epoch 0 | Loss: 0.011001737788319588 | Accuracy: 100.0%\n",
            "ERM | Epoch 0 | Loss: 0.08593650907278061 | Accuracy: 98.4375%\n",
            "ERM | Epoch 0 | Loss: 0.011436350643634796 | Accuracy: 100.0%\n",
            "ERM | Epoch 0 | Loss: 0.011963526718318462 | Accuracy: 100.0%\n",
            "ERM | Epoch 0 | Loss: 0.010950029827654362 | Accuracy: 100.0%\n",
            "ERM | Epoch 0 | Loss: 0.009506871923804283 | Accuracy: 100.0%\n",
            "ERM | Epoch 0 | Loss: 0.008657711558043957 | Accuracy: 100.0%\n",
            "ERM | Epoch 0 | Loss: 0.008248575031757355 | Accuracy: 100.0%\n",
            "ERM | Epoch 0 | Loss: 0.15642446279525757 | Accuracy: 98.4375%\n"
          ]
        },
        {
          "output_type": "stream",
          "name": "stderr",
          "text": [
            "Epoch 0:  42%|████▏     | 316/751 [00:06<00:09, 46.77batch/s, accuracy=100.0%, loss=0.00543]"
          ]
        },
        {
          "output_type": "stream",
          "name": "stdout",
          "text": [
            "ERM | Epoch 0 | Loss: 0.006979651749134064 | Accuracy: 100.0%\n",
            "ERM | Epoch 0 | Loss: 0.22291284799575806 | Accuracy: 98.4375%\n",
            "ERM | Epoch 0 | Loss: 0.006373297888785601 | Accuracy: 100.0%\n",
            "ERM | Epoch 0 | Loss: 0.006612739525735378 | Accuracy: 100.0%\n",
            "ERM | Epoch 0 | Loss: 0.0071777296252548695 | Accuracy: 100.0%\n",
            "ERM | Epoch 0 | Loss: 0.005877314135432243 | Accuracy: 100.0%\n",
            "ERM | Epoch 0 | Loss: 0.0999935194849968 | Accuracy: 98.4375%\n",
            "ERM | Epoch 0 | Loss: 0.007377418223768473 | Accuracy: 100.0%\n",
            "ERM | Epoch 0 | Loss: 0.005481556057929993 | Accuracy: 100.0%\n",
            "ERM | Epoch 0 | Loss: 0.005432908423244953 | Accuracy: 100.0%\n"
          ]
        },
        {
          "output_type": "stream",
          "name": "stderr",
          "text": [
            "Epoch 0:  43%|████▎     | 326/751 [00:07<00:08, 47.38batch/s, accuracy=98.4375%, loss=0.109]"
          ]
        },
        {
          "output_type": "stream",
          "name": "stdout",
          "text": [
            "ERM | Epoch 0 | Loss: 0.004872798454016447 | Accuracy: 100.0%\n",
            "ERM | Epoch 0 | Loss: 0.005221270490437746 | Accuracy: 100.0%\n",
            "ERM | Epoch 0 | Loss: 0.004873415920883417 | Accuracy: 100.0%\n",
            "ERM | Epoch 0 | Loss: 0.00521502923220396 | Accuracy: 100.0%\n",
            "ERM | Epoch 0 | Loss: 0.004387391731142998 | Accuracy: 100.0%\n",
            "ERM | Epoch 0 | Loss: 0.0063442750833928585 | Accuracy: 100.0%\n",
            "ERM | Epoch 0 | Loss: 0.14382630586624146 | Accuracy: 98.4375%\n",
            "ERM | Epoch 0 | Loss: 0.004672554787248373 | Accuracy: 100.0%\n",
            "ERM | Epoch 0 | Loss: 0.0040100254118442535 | Accuracy: 100.0%\n",
            "ERM | Epoch 0 | Loss: 0.10906866937875748 | Accuracy: 98.4375%\n"
          ]
        },
        {
          "output_type": "stream",
          "name": "stderr",
          "text": [
            "Epoch 0:  45%|████▍     | 336/751 [00:07<00:09, 45.96batch/s, accuracy=100.0%, loss=0.00468]"
          ]
        },
        {
          "output_type": "stream",
          "name": "stdout",
          "text": [
            "ERM | Epoch 0 | Loss: 0.17329996824264526 | Accuracy: 96.875%\n",
            "ERM | Epoch 0 | Loss: 0.12315959483385086 | Accuracy: 98.4375%\n",
            "ERM | Epoch 0 | Loss: 0.1138453260064125 | Accuracy: 98.4375%\n",
            "ERM | Epoch 0 | Loss: 0.0077214958146214485 | Accuracy: 100.0%\n",
            "ERM | Epoch 0 | Loss: 0.006022338289767504 | Accuracy: 100.0%\n",
            "ERM | Epoch 0 | Loss: 0.009861033409833908 | Accuracy: 100.0%\n",
            "ERM | Epoch 0 | Loss: 0.009782838635146618 | Accuracy: 100.0%\n",
            "ERM | Epoch 0 | Loss: 0.009664070792496204 | Accuracy: 100.0%\n",
            "ERM | Epoch 0 | Loss: 0.006232220679521561 | Accuracy: 100.0%\n",
            "ERM | Epoch 0 | Loss: 0.004676911514252424 | Accuracy: 100.0%\n"
          ]
        },
        {
          "output_type": "stream",
          "name": "stderr",
          "text": [
            "Epoch 0:  45%|████▌     | 341/751 [00:07<00:09, 41.55batch/s, accuracy=98.4375%, loss=0.109]"
          ]
        },
        {
          "output_type": "stream",
          "name": "stdout",
          "text": [
            "ERM | Epoch 0 | Loss: 0.004495296161621809 | Accuracy: 100.0%\n",
            "ERM | Epoch 0 | Loss: 0.004366444889456034 | Accuracy: 100.0%\n",
            "ERM | Epoch 0 | Loss: 0.0038892989978194237 | Accuracy: 100.0%\n",
            "ERM | Epoch 0 | Loss: 0.2341916710138321 | Accuracy: 96.875%\n",
            "ERM | Epoch 0 | Loss: 0.004495740402489901 | Accuracy: 100.0%\n",
            "ERM | Epoch 0 | Loss: 0.15008544921875 | Accuracy: 98.4375%\n",
            "ERM | Epoch 0 | Loss: 0.10902532935142517 | Accuracy: 98.4375%\n"
          ]
        },
        {
          "output_type": "stream",
          "name": "stderr",
          "text": [
            "Epoch 0:  47%|████▋     | 350/751 [00:07<00:10, 36.49batch/s, accuracy=100.0%, loss=0.00695]"
          ]
        },
        {
          "output_type": "stream",
          "name": "stdout",
          "text": [
            "ERM | Epoch 0 | Loss: 0.14242760837078094 | Accuracy: 96.875%\n",
            "ERM | Epoch 0 | Loss: 0.009683472104370594 | Accuracy: 100.0%\n",
            "ERM | Epoch 0 | Loss: 0.013985607773065567 | Accuracy: 100.0%\n",
            "ERM | Epoch 0 | Loss: 0.0149302389472723 | Accuracy: 100.0%\n",
            "ERM | Epoch 0 | Loss: 0.01646122895181179 | Accuracy: 100.0%\n",
            "ERM | Epoch 0 | Loss: 0.1331774890422821 | Accuracy: 98.4375%\n",
            "ERM | Epoch 0 | Loss: 0.008990689180791378 | Accuracy: 100.0%\n"
          ]
        },
        {
          "output_type": "stream",
          "name": "stderr",
          "text": [
            "Epoch 0:  48%|████▊     | 360/751 [00:08<00:09, 41.58batch/s, accuracy=100.0%, loss=0.00459]"
          ]
        },
        {
          "output_type": "stream",
          "name": "stdout",
          "text": [
            "ERM | Epoch 0 | Loss: 0.006949945352971554 | Accuracy: 100.0%\n",
            "ERM | Epoch 0 | Loss: 0.008513976819813251 | Accuracy: 100.0%\n",
            "ERM | Epoch 0 | Loss: 0.00629437668249011 | Accuracy: 100.0%\n",
            "ERM | Epoch 0 | Loss: 0.007103011943399906 | Accuracy: 100.0%\n",
            "ERM | Epoch 0 | Loss: 0.0980430543422699 | Accuracy: 98.4375%\n",
            "ERM | Epoch 0 | Loss: 0.004705823492258787 | Accuracy: 100.0%\n",
            "ERM | Epoch 0 | Loss: 0.004626961424946785 | Accuracy: 100.0%\n",
            "ERM | Epoch 0 | Loss: 0.004621455445885658 | Accuracy: 100.0%\n",
            "ERM | Epoch 0 | Loss: 0.004419893957674503 | Accuracy: 100.0%\n",
            "ERM | Epoch 0 | Loss: 0.004591448698192835 | Accuracy: 100.0%\n"
          ]
        },
        {
          "output_type": "stream",
          "name": "stderr",
          "text": [
            "Epoch 0:  49%|████▉     | 370/751 [00:08<00:08, 44.33batch/s, accuracy=100.0%, loss=0.00986]"
          ]
        },
        {
          "output_type": "stream",
          "name": "stdout",
          "text": [
            "ERM | Epoch 0 | Loss: 0.1482565999031067 | Accuracy: 98.4375%\n",
            "ERM | Epoch 0 | Loss: 0.005122277420014143 | Accuracy: 100.0%\n",
            "ERM | Epoch 0 | Loss: 0.11982352286577225 | Accuracy: 98.4375%\n",
            "ERM | Epoch 0 | Loss: 0.006291496101766825 | Accuracy: 100.0%\n",
            "ERM | Epoch 0 | Loss: 0.0062193358317017555 | Accuracy: 100.0%\n",
            "ERM | Epoch 0 | Loss: 0.1617070883512497 | Accuracy: 98.4375%\n",
            "ERM | Epoch 0 | Loss: 0.006900823675096035 | Accuracy: 100.0%\n",
            "ERM | Epoch 0 | Loss: 0.11337439715862274 | Accuracy: 98.4375%\n",
            "ERM | Epoch 0 | Loss: 0.01881897822022438 | Accuracy: 100.0%\n",
            "ERM | Epoch 0 | Loss: 0.009863768704235554 | Accuracy: 100.0%\n"
          ]
        },
        {
          "output_type": "stream",
          "name": "stderr",
          "text": [
            "Epoch 0:  50%|████▉     | 375/751 [00:08<00:09, 40.71batch/s, accuracy=100.0%, loss=0.00454]"
          ]
        },
        {
          "output_type": "stream",
          "name": "stdout",
          "text": [
            "ERM | Epoch 0 | Loss: 0.11041553318500519 | Accuracy: 98.4375%\n",
            "ERM | Epoch 0 | Loss: 0.00755953136831522 | Accuracy: 100.0%\n",
            "ERM | Epoch 0 | Loss: 0.00583005603402853 | Accuracy: 100.0%\n",
            "ERM | Epoch 0 | Loss: 0.006048398558050394 | Accuracy: 100.0%\n",
            "ERM | Epoch 0 | Loss: 0.005521440878510475 | Accuracy: 100.0%\n",
            "ERM | Epoch 0 | Loss: 0.13213810324668884 | Accuracy: 98.4375%\n",
            "ERM | Epoch 0 | Loss: 0.0045425365678966045 | Accuracy: 100.0%\n"
          ]
        },
        {
          "output_type": "stream",
          "name": "stderr",
          "text": [
            "Epoch 0:  51%|█████     | 384/751 [00:08<00:10, 35.33batch/s, accuracy=98.4375%, loss=0.111]"
          ]
        },
        {
          "output_type": "stream",
          "name": "stdout",
          "text": [
            "ERM | Epoch 0 | Loss: 0.005878562107682228 | Accuracy: 100.0%\n",
            "ERM | Epoch 0 | Loss: 0.1649709939956665 | Accuracy: 98.4375%\n",
            "ERM | Epoch 0 | Loss: 0.006213458254933357 | Accuracy: 100.0%\n",
            "ERM | Epoch 0 | Loss: 0.0928446501493454 | Accuracy: 98.4375%\n",
            "ERM | Epoch 0 | Loss: 0.1539715975522995 | Accuracy: 98.4375%\n",
            "ERM | Epoch 0 | Loss: 0.01654868945479393 | Accuracy: 100.0%\n",
            "ERM | Epoch 0 | Loss: 0.11058738827705383 | Accuracy: 98.4375%\n"
          ]
        },
        {
          "output_type": "stream",
          "name": "stderr",
          "text": [
            "Epoch 0:  52%|█████▏    | 388/751 [00:08<00:10, 34.20batch/s, accuracy=100.0%, loss=0.00927]"
          ]
        },
        {
          "output_type": "stream",
          "name": "stdout",
          "text": [
            "ERM | Epoch 0 | Loss: 0.026030665263533592 | Accuracy: 100.0%\n",
            "ERM | Epoch 0 | Loss: 0.012180709280073643 | Accuracy: 100.0%\n",
            "ERM | Epoch 0 | Loss: 0.009636894799768925 | Accuracy: 100.0%\n",
            "ERM | Epoch 0 | Loss: 0.0070982929319143295 | Accuracy: 100.0%\n",
            "ERM | Epoch 0 | Loss: 0.4650183618068695 | Accuracy: 96.875%\n",
            "ERM | Epoch 0 | Loss: 0.009172851219773293 | Accuracy: 100.0%\n",
            "ERM | Epoch 0 | Loss: 0.009267201647162437 | Accuracy: 100.0%\n"
          ]
        },
        {
          "output_type": "stream",
          "name": "stderr",
          "text": [
            "Epoch 0:  53%|█████▎    | 396/751 [00:09<00:10, 32.49batch/s, accuracy=100.0%, loss=0.00839]"
          ]
        },
        {
          "output_type": "stream",
          "name": "stdout",
          "text": [
            "ERM | Epoch 0 | Loss: 0.011733421124517918 | Accuracy: 100.0%\n",
            "ERM | Epoch 0 | Loss: 0.007135049905627966 | Accuracy: 100.0%\n",
            "ERM | Epoch 0 | Loss: 0.11281569302082062 | Accuracy: 98.4375%\n",
            "ERM | Epoch 0 | Loss: 0.006768921390175819 | Accuracy: 100.0%\n",
            "ERM | Epoch 0 | Loss: 0.006004707887768745 | Accuracy: 100.0%\n",
            "ERM | Epoch 0 | Loss: 0.006609054282307625 | Accuracy: 100.0%\n",
            "ERM | Epoch 0 | Loss: 0.00839207787066698 | Accuracy: 100.0%\n"
          ]
        },
        {
          "output_type": "stream",
          "name": "stderr",
          "text": [
            "Epoch 0:  54%|█████▍    | 404/751 [00:09<00:10, 32.20batch/s, accuracy=100.0%, loss=0.00571]"
          ]
        },
        {
          "output_type": "stream",
          "name": "stdout",
          "text": [
            "ERM | Epoch 0 | Loss: 0.12802179157733917 | Accuracy: 98.4375%\n",
            "ERM | Epoch 0 | Loss: 0.006132498383522034 | Accuracy: 100.0%\n",
            "ERM | Epoch 0 | Loss: 0.006822240073233843 | Accuracy: 100.0%\n",
            "ERM | Epoch 0 | Loss: 0.00929512083530426 | Accuracy: 100.0%\n",
            "ERM | Epoch 0 | Loss: 0.006403766572475433 | Accuracy: 100.0%\n",
            "ERM | Epoch 0 | Loss: 0.005290197674185038 | Accuracy: 100.0%\n",
            "ERM | Epoch 0 | Loss: 0.005709088407456875 | Accuracy: 100.0%\n"
          ]
        },
        {
          "output_type": "stream",
          "name": "stderr",
          "text": [
            "Epoch 0:  55%|█████▍    | 412/751 [00:09<00:10, 32.59batch/s, accuracy=98.4375%, loss=0.129]"
          ]
        },
        {
          "output_type": "stream",
          "name": "stdout",
          "text": [
            "ERM | Epoch 0 | Loss: 0.0051095206290483475 | Accuracy: 100.0%\n",
            "ERM | Epoch 0 | Loss: 0.004129151348024607 | Accuracy: 100.0%\n",
            "ERM | Epoch 0 | Loss: 0.004325737711042166 | Accuracy: 100.0%\n",
            "ERM | Epoch 0 | Loss: 0.003768738592043519 | Accuracy: 100.0%\n",
            "ERM | Epoch 0 | Loss: 0.00344118126668036 | Accuracy: 100.0%\n",
            "ERM | Epoch 0 | Loss: 0.2833980619907379 | Accuracy: 96.875%\n",
            "ERM | Epoch 0 | Loss: 0.12884201109409332 | Accuracy: 98.4375%\n"
          ]
        },
        {
          "output_type": "stream",
          "name": "stderr",
          "text": [
            "Epoch 0:  55%|█████▌    | 416/751 [00:09<00:10, 32.33batch/s, accuracy=100.0%, loss=0.0104]  "
          ]
        },
        {
          "output_type": "stream",
          "name": "stdout",
          "text": [
            "ERM | Epoch 0 | Loss: 0.004793215077370405 | Accuracy: 100.0%\n",
            "ERM | Epoch 0 | Loss: 0.12839332222938538 | Accuracy: 98.4375%\n",
            "ERM | Epoch 0 | Loss: 0.006074801553040743 | Accuracy: 100.0%\n",
            "ERM | Epoch 0 | Loss: 0.008125211112201214 | Accuracy: 100.0%\n",
            "ERM | Epoch 0 | Loss: 0.008571348153054714 | Accuracy: 100.0%\n",
            "ERM | Epoch 0 | Loss: 0.08088921755552292 | Accuracy: 98.4375%\n",
            "ERM | Epoch 0 | Loss: 0.010374750010669231 | Accuracy: 100.0%\n"
          ]
        },
        {
          "output_type": "stream",
          "name": "stderr",
          "text": [
            "Epoch 0:  56%|█████▋    | 424/751 [00:10<00:10, 31.33batch/s, accuracy=100.0%, loss=0.00597]"
          ]
        },
        {
          "output_type": "stream",
          "name": "stdout",
          "text": [
            "ERM | Epoch 0 | Loss: 0.011780970729887486 | Accuracy: 100.0%\n",
            "ERM | Epoch 0 | Loss: 0.012018769979476929 | Accuracy: 100.0%\n",
            "ERM | Epoch 0 | Loss: 0.00765944691374898 | Accuracy: 100.0%\n",
            "ERM | Epoch 0 | Loss: 0.12436598539352417 | Accuracy: 98.4375%\n",
            "ERM | Epoch 0 | Loss: 0.005283614620566368 | Accuracy: 100.0%\n",
            "ERM | Epoch 0 | Loss: 0.13956786692142487 | Accuracy: 98.4375%\n",
            "ERM | Epoch 0 | Loss: 0.0059707285836339 | Accuracy: 100.0%\n"
          ]
        },
        {
          "output_type": "stream",
          "name": "stderr",
          "text": [
            "Epoch 0:  58%|█████▊    | 432/751 [00:10<00:09, 32.92batch/s, accuracy=100.0%, loss=0.0131]  "
          ]
        },
        {
          "output_type": "stream",
          "name": "stdout",
          "text": [
            "ERM | Epoch 0 | Loss: 0.22279565036296844 | Accuracy: 96.875%\n",
            "ERM | Epoch 0 | Loss: 0.006214340217411518 | Accuracy: 100.0%\n",
            "ERM | Epoch 0 | Loss: 0.1249355748295784 | Accuracy: 98.4375%\n",
            "ERM | Epoch 0 | Loss: 0.007486111018806696 | Accuracy: 100.0%\n",
            "ERM | Epoch 0 | Loss: 0.008787502534687519 | Accuracy: 100.0%\n",
            "ERM | Epoch 0 | Loss: 0.0078018964268267155 | Accuracy: 100.0%\n",
            "ERM | Epoch 0 | Loss: 0.08959804475307465 | Accuracy: 98.4375%\n",
            "ERM | Epoch 0 | Loss: 0.013077221810817719 | Accuracy: 100.0%\n"
          ]
        },
        {
          "output_type": "stream",
          "name": "stderr",
          "text": [
            "Epoch 0:  59%|█████▊    | 440/751 [00:10<00:09, 32.17batch/s, accuracy=100.0%, loss=0.0137] "
          ]
        },
        {
          "output_type": "stream",
          "name": "stdout",
          "text": [
            "ERM | Epoch 0 | Loss: 0.012413582764565945 | Accuracy: 100.0%\n",
            "ERM | Epoch 0 | Loss: 0.1498350203037262 | Accuracy: 98.4375%\n",
            "ERM | Epoch 0 | Loss: 0.013301863335072994 | Accuracy: 100.0%\n",
            "ERM | Epoch 0 | Loss: 0.007132648956030607 | Accuracy: 100.0%\n",
            "ERM | Epoch 0 | Loss: 0.12796470522880554 | Accuracy: 98.4375%\n",
            "ERM | Epoch 0 | Loss: 0.10312817990779877 | Accuracy: 98.4375%\n",
            "ERM | Epoch 0 | Loss: 0.01368498895317316 | Accuracy: 100.0%\n"
          ]
        },
        {
          "output_type": "stream",
          "name": "stderr",
          "text": [
            "Epoch 0:  60%|█████▉    | 448/751 [00:10<00:09, 31.94batch/s, accuracy=100.0%, loss=0.00554]"
          ]
        },
        {
          "output_type": "stream",
          "name": "stdout",
          "text": [
            "ERM | Epoch 0 | Loss: 0.01573939248919487 | Accuracy: 100.0%\n",
            "ERM | Epoch 0 | Loss: 0.12675154209136963 | Accuracy: 98.4375%\n",
            "ERM | Epoch 0 | Loss: 0.09787100553512573 | Accuracy: 98.4375%\n",
            "ERM | Epoch 0 | Loss: 0.005379359703511 | Accuracy: 100.0%\n",
            "ERM | Epoch 0 | Loss: 0.0072267670184373856 | Accuracy: 100.0%\n",
            "ERM | Epoch 0 | Loss: 0.006444203667342663 | Accuracy: 100.0%\n",
            "ERM | Epoch 0 | Loss: 0.0055411625653505325 | Accuracy: 100.0%\n"
          ]
        },
        {
          "output_type": "stream",
          "name": "stderr",
          "text": [
            "Epoch 0:  60%|██████    | 452/751 [00:10<00:09, 30.82batch/s, accuracy=100.0%, loss=0.00715]"
          ]
        },
        {
          "output_type": "stream",
          "name": "stdout",
          "text": [
            "ERM | Epoch 0 | Loss: 0.12590065598487854 | Accuracy: 98.4375%\n",
            "ERM | Epoch 0 | Loss: 0.007017898373305798 | Accuracy: 100.0%\n",
            "ERM | Epoch 0 | Loss: 0.13814996182918549 | Accuracy: 98.4375%\n",
            "ERM | Epoch 0 | Loss: 0.10127478092908859 | Accuracy: 98.4375%\n",
            "ERM | Epoch 0 | Loss: 0.005976975429803133 | Accuracy: 100.0%\n",
            "ERM | Epoch 0 | Loss: 0.005809772294014692 | Accuracy: 100.0%\n"
          ]
        },
        {
          "output_type": "stream",
          "name": "stderr",
          "text": [
            "Epoch 0:  61%|██████▏   | 460/751 [00:11<00:09, 30.35batch/s, accuracy=98.4375%, loss=0.0981]"
          ]
        },
        {
          "output_type": "stream",
          "name": "stdout",
          "text": [
            "ERM | Epoch 0 | Loss: 0.007152998354285955 | Accuracy: 100.0%\n",
            "ERM | Epoch 0 | Loss: 0.006660698913037777 | Accuracy: 100.0%\n",
            "ERM | Epoch 0 | Loss: 0.006380971055477858 | Accuracy: 100.0%\n",
            "ERM | Epoch 0 | Loss: 0.006688837427645922 | Accuracy: 100.0%\n",
            "ERM | Epoch 0 | Loss: 0.006783475633710623 | Accuracy: 100.0%\n",
            "ERM | Epoch 0 | Loss: 0.09812172502279282 | Accuracy: 98.4375%\n"
          ]
        },
        {
          "output_type": "stream",
          "name": "stderr",
          "text": [
            "Epoch 0:  62%|██████▏   | 464/751 [00:11<00:09, 30.61batch/s, accuracy=100.0%, loss=0.00466]"
          ]
        },
        {
          "output_type": "stream",
          "name": "stdout",
          "text": [
            "ERM | Epoch 0 | Loss: 0.00552371283993125 | Accuracy: 100.0%\n",
            "ERM | Epoch 0 | Loss: 0.12400779873132706 | Accuracy: 98.4375%\n",
            "ERM | Epoch 0 | Loss: 0.00532884756103158 | Accuracy: 100.0%\n",
            "ERM | Epoch 0 | Loss: 0.006354926154017448 | Accuracy: 100.0%\n",
            "ERM | Epoch 0 | Loss: 0.0051186284981667995 | Accuracy: 100.0%\n",
            "ERM | Epoch 0 | Loss: 0.0047020805068314075 | Accuracy: 100.0%\n",
            "ERM | Epoch 0 | Loss: 0.0046560815535485744 | Accuracy: 100.0%\n"
          ]
        },
        {
          "output_type": "stream",
          "name": "stderr",
          "text": [
            "Epoch 0:  63%|██████▎   | 472/751 [00:11<00:08, 32.00batch/s, accuracy=100.0%, loss=0.00557]"
          ]
        },
        {
          "output_type": "stream",
          "name": "stdout",
          "text": [
            "ERM | Epoch 0 | Loss: 0.00457353051751852 | Accuracy: 100.0%\n",
            "ERM | Epoch 0 | Loss: 0.003555942326784134 | Accuracy: 100.0%\n",
            "ERM | Epoch 0 | Loss: 0.0032821488566696644 | Accuracy: 100.0%\n",
            "ERM | Epoch 0 | Loss: 0.25509652495384216 | Accuracy: 96.875%\n",
            "ERM | Epoch 0 | Loss: 0.14975738525390625 | Accuracy: 98.4375%\n",
            "ERM | Epoch 0 | Loss: 0.0775170773267746 | Accuracy: 98.4375%\n",
            "ERM | Epoch 0 | Loss: 0.012712394818663597 | Accuracy: 100.0%\n",
            "ERM | Epoch 0 | Loss: 0.042806610465049744 | Accuracy: 100.0%\n",
            "ERM | Epoch 0 | Loss: 0.005569294095039368 | Accuracy: 100.0%\n"
          ]
        },
        {
          "output_type": "stream",
          "name": "stderr",
          "text": [
            "Epoch 0:  64%|██████▍   | 482/751 [00:11<00:06, 39.32batch/s, accuracy=98.4375%, loss=0.158]"
          ]
        },
        {
          "output_type": "stream",
          "name": "stdout",
          "text": [
            "ERM | Epoch 0 | Loss: 0.005000244826078415 | Accuracy: 100.0%\n",
            "ERM | Epoch 0 | Loss: 0.13701806962490082 | Accuracy: 98.4375%\n",
            "ERM | Epoch 0 | Loss: 0.10458165407180786 | Accuracy: 98.4375%\n",
            "ERM | Epoch 0 | Loss: 0.004534130450338125 | Accuracy: 100.0%\n",
            "ERM | Epoch 0 | Loss: 0.0053830696269869804 | Accuracy: 100.0%\n",
            "ERM | Epoch 0 | Loss: 0.005612930282950401 | Accuracy: 100.0%\n",
            "ERM | Epoch 0 | Loss: 0.004718304146081209 | Accuracy: 100.0%\n",
            "ERM | Epoch 0 | Loss: 0.006788293365389109 | Accuracy: 100.0%\n",
            "ERM | Epoch 0 | Loss: 0.14268667995929718 | Accuracy: 98.4375%\n",
            "ERM | Epoch 0 | Loss: 0.15828533470630646 | Accuracy: 98.4375%\n"
          ]
        },
        {
          "output_type": "stream",
          "name": "stderr",
          "text": [
            "Epoch 0:  66%|██████▌   | 492/751 [00:11<00:06, 41.48batch/s, accuracy=100.0%, loss=0.00553]"
          ]
        },
        {
          "output_type": "stream",
          "name": "stdout",
          "text": [
            "ERM | Epoch 0 | Loss: 0.009970133192837238 | Accuracy: 100.0%\n",
            "ERM | Epoch 0 | Loss: 0.0964985340833664 | Accuracy: 98.4375%\n",
            "ERM | Epoch 0 | Loss: 0.14981704950332642 | Accuracy: 98.4375%\n",
            "ERM | Epoch 0 | Loss: 0.009199737571179867 | Accuracy: 100.0%\n",
            "ERM | Epoch 0 | Loss: 0.00890487153083086 | Accuracy: 100.0%\n",
            "ERM | Epoch 0 | Loss: 0.006848446559160948 | Accuracy: 100.0%\n",
            "ERM | Epoch 0 | Loss: 0.008117467164993286 | Accuracy: 100.0%\n",
            "ERM | Epoch 0 | Loss: 0.006617484148591757 | Accuracy: 100.0%\n",
            "ERM | Epoch 0 | Loss: 0.005532920826226473 | Accuracy: 100.0%\n"
          ]
        },
        {
          "output_type": "stream",
          "name": "stderr",
          "text": [
            "Epoch 0:  67%|██████▋   | 502/751 [00:12<00:05, 44.17batch/s, accuracy=100.0%, loss=0.0112]"
          ]
        },
        {
          "output_type": "stream",
          "name": "stdout",
          "text": [
            "ERM | Epoch 0 | Loss: 0.005870424676686525 | Accuracy: 100.0%\n",
            "ERM | Epoch 0 | Loss: 0.16640517115592957 | Accuracy: 98.4375%\n",
            "ERM | Epoch 0 | Loss: 0.006082045380026102 | Accuracy: 100.0%\n",
            "ERM | Epoch 0 | Loss: 0.21986603736877441 | Accuracy: 96.875%\n",
            "ERM | Epoch 0 | Loss: 0.005334645044058561 | Accuracy: 100.0%\n",
            "ERM | Epoch 0 | Loss: 0.1993563026189804 | Accuracy: 96.875%\n",
            "ERM | Epoch 0 | Loss: 0.10030781477689743 | Accuracy: 98.4375%\n",
            "ERM | Epoch 0 | Loss: 0.015389778651297092 | Accuracy: 100.0%\n",
            "ERM | Epoch 0 | Loss: 0.01119839958846569 | Accuracy: 100.0%\n",
            "ERM | Epoch 0 | Loss: 0.01124616526067257 | Accuracy: 100.0%\n"
          ]
        },
        {
          "output_type": "stream",
          "name": "stderr",
          "text": [
            "Epoch 0:  68%|██████▊   | 512/751 [00:12<00:05, 45.56batch/s, accuracy=100.0%, loss=0.0103] "
          ]
        },
        {
          "output_type": "stream",
          "name": "stdout",
          "text": [
            "ERM | Epoch 0 | Loss: 0.012634404003620148 | Accuracy: 100.0%\n",
            "ERM | Epoch 0 | Loss: 0.010838747024536133 | Accuracy: 100.0%\n",
            "ERM | Epoch 0 | Loss: 0.24452875554561615 | Accuracy: 96.875%\n",
            "ERM | Epoch 0 | Loss: 0.011434291489422321 | Accuracy: 100.0%\n",
            "ERM | Epoch 0 | Loss: 0.13425010442733765 | Accuracy: 98.4375%\n",
            "ERM | Epoch 0 | Loss: 0.01056856382638216 | Accuracy: 100.0%\n",
            "ERM | Epoch 0 | Loss: 0.010119704529643059 | Accuracy: 100.0%\n",
            "ERM | Epoch 0 | Loss: 0.009778031148016453 | Accuracy: 100.0%\n",
            "ERM | Epoch 0 | Loss: 0.11589739471673965 | Accuracy: 98.4375%\n",
            "ERM | Epoch 0 | Loss: 0.01026010699570179 | Accuracy: 100.0%\n"
          ]
        },
        {
          "output_type": "stream",
          "name": "stderr",
          "text": [
            "Epoch 0:  70%|██████▉   | 522/751 [00:12<00:05, 45.52batch/s, accuracy=100.0%, loss=0.00679]"
          ]
        },
        {
          "output_type": "stream",
          "name": "stdout",
          "text": [
            "ERM | Epoch 0 | Loss: 0.10488850623369217 | Accuracy: 98.4375%\n",
            "ERM | Epoch 0 | Loss: 0.10064573585987091 | Accuracy: 98.4375%\n",
            "ERM | Epoch 0 | Loss: 0.09734879434108734 | Accuracy: 98.4375%\n",
            "ERM | Epoch 0 | Loss: 0.011535829864442348 | Accuracy: 100.0%\n",
            "ERM | Epoch 0 | Loss: 0.015002332627773285 | Accuracy: 100.0%\n",
            "ERM | Epoch 0 | Loss: 0.010814138688147068 | Accuracy: 100.0%\n",
            "ERM | Epoch 0 | Loss: 0.13164325058460236 | Accuracy: 98.4375%\n",
            "ERM | Epoch 0 | Loss: 0.010064836591482162 | Accuracy: 100.0%\n",
            "ERM | Epoch 0 | Loss: 0.007809125818312168 | Accuracy: 100.0%\n",
            "ERM | Epoch 0 | Loss: 0.006791343446820974 | Accuracy: 100.0%\n"
          ]
        },
        {
          "output_type": "stream",
          "name": "stderr",
          "text": [
            "Epoch 0:  71%|███████   | 532/751 [00:12<00:04, 46.11batch/s, accuracy=100.0%, loss=0.00922]"
          ]
        },
        {
          "output_type": "stream",
          "name": "stdout",
          "text": [
            "ERM | Epoch 0 | Loss: 0.36710330843925476 | Accuracy: 95.3125%\n",
            "ERM | Epoch 0 | Loss: 0.1531875878572464 | Accuracy: 98.4375%\n",
            "ERM | Epoch 0 | Loss: 0.006895442958921194 | Accuracy: 100.0%\n",
            "ERM | Epoch 0 | Loss: 0.12443742901086807 | Accuracy: 98.4375%\n",
            "ERM | Epoch 0 | Loss: 0.00993717834353447 | Accuracy: 100.0%\n",
            "ERM | Epoch 0 | Loss: 0.010325080715119839 | Accuracy: 100.0%\n",
            "ERM | Epoch 0 | Loss: 0.012920421548187733 | Accuracy: 100.0%\n",
            "ERM | Epoch 0 | Loss: 0.011304381303489208 | Accuracy: 100.0%\n",
            "ERM | Epoch 0 | Loss: 0.010220574215054512 | Accuracy: 100.0%\n",
            "ERM | Epoch 0 | Loss: 0.009223691187798977 | Accuracy: 100.0%\n"
          ]
        },
        {
          "output_type": "stream",
          "name": "stderr",
          "text": [
            "Epoch 0:  72%|███████▏  | 542/751 [00:13<00:04, 44.42batch/s, accuracy=100.0%, loss=0.00407]"
          ]
        },
        {
          "output_type": "stream",
          "name": "stdout",
          "text": [
            "ERM | Epoch 0 | Loss: 0.12321571260690689 | Accuracy: 98.4375%\n",
            "ERM | Epoch 0 | Loss: 0.006493565160781145 | Accuracy: 100.0%\n",
            "ERM | Epoch 0 | Loss: 0.005550248082727194 | Accuracy: 100.0%\n",
            "ERM | Epoch 0 | Loss: 0.005736894439905882 | Accuracy: 100.0%\n",
            "ERM | Epoch 0 | Loss: 0.005774309858679771 | Accuracy: 100.0%\n",
            "ERM | Epoch 0 | Loss: 0.00506787421181798 | Accuracy: 100.0%\n",
            "ERM | Epoch 0 | Loss: 0.004674333613365889 | Accuracy: 100.0%\n",
            "ERM | Epoch 0 | Loss: 0.00477139325812459 | Accuracy: 100.0%\n",
            "ERM | Epoch 0 | Loss: 0.004067991394549608 | Accuracy: 100.0%\n"
          ]
        },
        {
          "output_type": "stream",
          "name": "stderr",
          "text": [
            "Epoch 0:  74%|███████▎  | 552/751 [00:13<00:04, 45.72batch/s, accuracy=98.4375%, loss=0.134]"
          ]
        },
        {
          "output_type": "stream",
          "name": "stdout",
          "text": [
            "ERM | Epoch 0 | Loss: 0.004148367792367935 | Accuracy: 100.0%\n",
            "ERM | Epoch 0 | Loss: 0.003591202199459076 | Accuracy: 100.0%\n",
            "ERM | Epoch 0 | Loss: 0.0033710813149809837 | Accuracy: 100.0%\n",
            "ERM | Epoch 0 | Loss: 0.0036440319381654263 | Accuracy: 100.0%\n",
            "ERM | Epoch 0 | Loss: 0.12111832946538925 | Accuracy: 98.4375%\n",
            "ERM | Epoch 0 | Loss: 0.0036537377163767815 | Accuracy: 100.0%\n",
            "ERM | Epoch 0 | Loss: 0.0035162565764039755 | Accuracy: 100.0%\n",
            "ERM | Epoch 0 | Loss: 0.003122081281617284 | Accuracy: 100.0%\n",
            "ERM | Epoch 0 | Loss: 0.0027013865765184164 | Accuracy: 100.0%\n",
            "ERM | Epoch 0 | Loss: 0.13356150686740875 | Accuracy: 98.4375%\n"
          ]
        },
        {
          "output_type": "stream",
          "name": "stderr",
          "text": [
            "Epoch 0:  75%|███████▍  | 562/751 [00:13<00:04, 45.81batch/s, accuracy=98.4375%, loss=0.112]"
          ]
        },
        {
          "output_type": "stream",
          "name": "stdout",
          "text": [
            "ERM | Epoch 0 | Loss: 0.004056547302752733 | Accuracy: 100.0%\n",
            "ERM | Epoch 0 | Loss: 0.11789099872112274 | Accuracy: 98.4375%\n",
            "ERM | Epoch 0 | Loss: 0.004012513905763626 | Accuracy: 100.0%\n",
            "ERM | Epoch 0 | Loss: 0.0034452825784683228 | Accuracy: 100.0%\n",
            "ERM | Epoch 0 | Loss: 0.004546305630356073 | Accuracy: 100.0%\n",
            "ERM | Epoch 0 | Loss: 0.006951036863029003 | Accuracy: 100.0%\n",
            "ERM | Epoch 0 | Loss: 0.3077533543109894 | Accuracy: 96.875%\n",
            "ERM | Epoch 0 | Loss: 0.14482742547988892 | Accuracy: 98.4375%\n",
            "ERM | Epoch 0 | Loss: 0.0032550357282161713 | Accuracy: 100.0%\n",
            "ERM | Epoch 0 | Loss: 0.11197106540203094 | Accuracy: 98.4375%\n"
          ]
        },
        {
          "output_type": "stream",
          "name": "stderr",
          "text": [
            "Epoch 0:  76%|███████▌  | 572/751 [00:13<00:03, 46.18batch/s, accuracy=98.4375%, loss=0.104]"
          ]
        },
        {
          "output_type": "stream",
          "name": "stdout",
          "text": [
            "ERM | Epoch 0 | Loss: 0.004211559426039457 | Accuracy: 100.0%\n",
            "ERM | Epoch 0 | Loss: 0.004935883916914463 | Accuracy: 100.0%\n",
            "ERM | Epoch 0 | Loss: 0.0062670218758285046 | Accuracy: 100.0%\n",
            "ERM | Epoch 0 | Loss: 0.005534540396183729 | Accuracy: 100.0%\n",
            "ERM | Epoch 0 | Loss: 0.12691359221935272 | Accuracy: 98.4375%\n",
            "ERM | Epoch 0 | Loss: 0.005143682472407818 | Accuracy: 100.0%\n",
            "ERM | Epoch 0 | Loss: 0.0045235976576805115 | Accuracy: 100.0%\n",
            "ERM | Epoch 0 | Loss: 0.005001978483051062 | Accuracy: 100.0%\n",
            "ERM | Epoch 0 | Loss: 0.0056696245446801186 | Accuracy: 100.0%\n",
            "ERM | Epoch 0 | Loss: 0.10442707687616348 | Accuracy: 98.4375%\n"
          ]
        },
        {
          "output_type": "stream",
          "name": "stderr",
          "text": [
            "Epoch 0:  77%|███████▋  | 582/751 [00:13<00:03, 46.34batch/s, accuracy=98.4375%, loss=0.0935]"
          ]
        },
        {
          "output_type": "stream",
          "name": "stdout",
          "text": [
            "ERM | Epoch 0 | Loss: 0.11004683375358582 | Accuracy: 98.4375%\n",
            "ERM | Epoch 0 | Loss: 0.005246584769338369 | Accuracy: 100.0%\n",
            "ERM | Epoch 0 | Loss: 0.005148422438651323 | Accuracy: 100.0%\n",
            "ERM | Epoch 0 | Loss: 0.005561571102589369 | Accuracy: 100.0%\n",
            "ERM | Epoch 0 | Loss: 0.006227558944374323 | Accuracy: 100.0%\n",
            "ERM | Epoch 0 | Loss: 0.0067695677280426025 | Accuracy: 100.0%\n",
            "ERM | Epoch 0 | Loss: 0.10231395065784454 | Accuracy: 98.4375%\n",
            "ERM | Epoch 0 | Loss: 0.333780974149704 | Accuracy: 95.3125%\n",
            "ERM | Epoch 0 | Loss: 0.007281005848199129 | Accuracy: 100.0%\n",
            "ERM | Epoch 0 | Loss: 0.09347476065158844 | Accuracy: 98.4375%\n"
          ]
        },
        {
          "output_type": "stream",
          "name": "stderr",
          "text": [
            "Epoch 0:  79%|███████▉  | 592/751 [00:14<00:03, 45.02batch/s, accuracy=100.0%, loss=0.00969] "
          ]
        },
        {
          "output_type": "stream",
          "name": "stdout",
          "text": [
            "ERM | Epoch 0 | Loss: 0.008377657271921635 | Accuracy: 100.0%\n",
            "ERM | Epoch 0 | Loss: 0.01386260986328125 | Accuracy: 100.0%\n",
            "ERM | Epoch 0 | Loss: 0.009110866114497185 | Accuracy: 100.0%\n",
            "ERM | Epoch 0 | Loss: 0.11154475063085556 | Accuracy: 98.4375%\n",
            "ERM | Epoch 0 | Loss: 0.009686345234513283 | Accuracy: 100.0%\n",
            "ERM | Epoch 0 | Loss: 0.11083479225635529 | Accuracy: 98.4375%\n",
            "ERM | Epoch 0 | Loss: 0.00874791108071804 | Accuracy: 100.0%\n",
            "ERM | Epoch 0 | Loss: 0.09738010913133621 | Accuracy: 98.4375%\n",
            "ERM | Epoch 0 | Loss: 0.00969056598842144 | Accuracy: 100.0%\n"
          ]
        },
        {
          "output_type": "stream",
          "name": "stderr",
          "text": [
            "Epoch 0:  80%|████████  | 602/751 [00:14<00:03, 46.29batch/s, accuracy=100.0%, loss=0.00955]"
          ]
        },
        {
          "output_type": "stream",
          "name": "stdout",
          "text": [
            "ERM | Epoch 0 | Loss: 0.011461515910923481 | Accuracy: 100.0%\n",
            "ERM | Epoch 0 | Loss: 0.22737033665180206 | Accuracy: 96.875%\n",
            "ERM | Epoch 0 | Loss: 0.15297867357730865 | Accuracy: 98.4375%\n",
            "ERM | Epoch 0 | Loss: 0.008864417672157288 | Accuracy: 100.0%\n",
            "ERM | Epoch 0 | Loss: 0.10879430919885635 | Accuracy: 98.4375%\n",
            "ERM | Epoch 0 | Loss: 0.010401500388979912 | Accuracy: 100.0%\n",
            "ERM | Epoch 0 | Loss: 0.00940091721713543 | Accuracy: 100.0%\n",
            "ERM | Epoch 0 | Loss: 0.01032961905002594 | Accuracy: 100.0%\n",
            "ERM | Epoch 0 | Loss: 0.009863721206784248 | Accuracy: 100.0%\n",
            "ERM | Epoch 0 | Loss: 0.009553502313792706 | Accuracy: 100.0%\n"
          ]
        },
        {
          "output_type": "stream",
          "name": "stderr",
          "text": [
            "Epoch 0:  81%|████████▏ | 612/751 [00:14<00:02, 46.35batch/s, accuracy=98.4375%, loss=0.0997]"
          ]
        },
        {
          "output_type": "stream",
          "name": "stdout",
          "text": [
            "ERM | Epoch 0 | Loss: 0.009024117141962051 | Accuracy: 100.0%\n",
            "ERM | Epoch 0 | Loss: 0.008019445464015007 | Accuracy: 100.0%\n",
            "ERM | Epoch 0 | Loss: 0.006770717445760965 | Accuracy: 100.0%\n",
            "ERM | Epoch 0 | Loss: 0.0960739403963089 | Accuracy: 98.4375%\n",
            "ERM | Epoch 0 | Loss: 0.10076205432415009 | Accuracy: 98.4375%\n",
            "ERM | Epoch 0 | Loss: 0.006149071268737316 | Accuracy: 100.0%\n",
            "ERM | Epoch 0 | Loss: 0.10077755153179169 | Accuracy: 98.4375%\n",
            "ERM | Epoch 0 | Loss: 0.005671721883118153 | Accuracy: 100.0%\n",
            "ERM | Epoch 0 | Loss: 0.1028953418135643 | Accuracy: 98.4375%\n",
            "ERM | Epoch 0 | Loss: 0.0997156947851181 | Accuracy: 98.4375%\n"
          ]
        },
        {
          "output_type": "stream",
          "name": "stderr",
          "text": [
            "Epoch 0:  83%|████████▎ | 622/751 [00:14<00:02, 46.68batch/s, accuracy=100.0%, loss=0.00651]"
          ]
        },
        {
          "output_type": "stream",
          "name": "stdout",
          "text": [
            "ERM | Epoch 0 | Loss: 0.009580948390066624 | Accuracy: 100.0%\n",
            "ERM | Epoch 0 | Loss: 0.011056313291192055 | Accuracy: 100.0%\n",
            "ERM | Epoch 0 | Loss: 0.009809888899326324 | Accuracy: 100.0%\n",
            "ERM | Epoch 0 | Loss: 0.006137961987406015 | Accuracy: 100.0%\n",
            "ERM | Epoch 0 | Loss: 0.07709863781929016 | Accuracy: 98.4375%\n",
            "ERM | Epoch 0 | Loss: 0.009051810018718243 | Accuracy: 100.0%\n",
            "ERM | Epoch 0 | Loss: 0.0057242815382778645 | Accuracy: 100.0%\n",
            "ERM | Epoch 0 | Loss: 0.007596115116029978 | Accuracy: 100.0%\n",
            "ERM | Epoch 0 | Loss: 0.006273512728512287 | Accuracy: 100.0%\n",
            "ERM | Epoch 0 | Loss: 0.006513318512588739 | Accuracy: 100.0%\n"
          ]
        },
        {
          "output_type": "stream",
          "name": "stderr",
          "text": [
            "Epoch 0:  84%|████████▍ | 632/751 [00:14<00:02, 46.56batch/s, accuracy=96.875%, loss=0.246]"
          ]
        },
        {
          "output_type": "stream",
          "name": "stdout",
          "text": [
            "ERM | Epoch 0 | Loss: 0.24630777537822723 | Accuracy: 96.875%\n",
            "ERM | Epoch 0 | Loss: 0.004414559341967106 | Accuracy: 100.0%\n",
            "ERM | Epoch 0 | Loss: 0.004304748494178057 | Accuracy: 100.0%\n",
            "ERM | Epoch 0 | Loss: 0.003178442595526576 | Accuracy: 100.0%\n",
            "ERM | Epoch 0 | Loss: 0.1569521576166153 | Accuracy: 98.4375%\n",
            "ERM | Epoch 0 | Loss: 0.003011023858562112 | Accuracy: 100.0%\n",
            "ERM | Epoch 0 | Loss: 0.0034866551868617535 | Accuracy: 100.0%\n",
            "ERM | Epoch 0 | Loss: 0.0029230909422039986 | Accuracy: 100.0%\n",
            "ERM | Epoch 0 | Loss: 0.0035026560071855783 | Accuracy: 100.0%\n",
            "ERM | Epoch 0 | Loss: 0.2457311749458313 | Accuracy: 96.875%\n"
          ]
        },
        {
          "output_type": "stream",
          "name": "stderr",
          "text": [
            "Epoch 0:  85%|████████▌ | 642/751 [00:15<00:02, 45.01batch/s, accuracy=100.0%, loss=0.0136]"
          ]
        },
        {
          "output_type": "stream",
          "name": "stdout",
          "text": [
            "ERM | Epoch 0 | Loss: 0.0038196025416254997 | Accuracy: 100.0%\n",
            "ERM | Epoch 0 | Loss: 0.12496541440486908 | Accuracy: 98.4375%\n",
            "ERM | Epoch 0 | Loss: 0.15025052428245544 | Accuracy: 98.4375%\n",
            "ERM | Epoch 0 | Loss: 0.11990521848201752 | Accuracy: 98.4375%\n",
            "ERM | Epoch 0 | Loss: 0.005427249241620302 | Accuracy: 100.0%\n",
            "ERM | Epoch 0 | Loss: 0.006583694368600845 | Accuracy: 100.0%\n",
            "ERM | Epoch 0 | Loss: 0.09866289049386978 | Accuracy: 98.4375%\n",
            "ERM | Epoch 0 | Loss: 0.10122140496969223 | Accuracy: 98.4375%\n",
            "ERM | Epoch 0 | Loss: 0.00969952903687954 | Accuracy: 100.0%\n",
            "ERM | Epoch 0 | Loss: 0.01356508582830429 | Accuracy: 100.0%\n"
          ]
        },
        {
          "output_type": "stream",
          "name": "stderr",
          "text": [
            "Epoch 0:  87%|████████▋ | 652/751 [00:15<00:02, 45.76batch/s, accuracy=100.0%, loss=0.00794]"
          ]
        },
        {
          "output_type": "stream",
          "name": "stdout",
          "text": [
            "ERM | Epoch 0 | Loss: 0.11066313832998276 | Accuracy: 98.4375%\n",
            "ERM | Epoch 0 | Loss: 0.10299672931432724 | Accuracy: 98.4375%\n",
            "ERM | Epoch 0 | Loss: 0.012945089489221573 | Accuracy: 100.0%\n",
            "ERM | Epoch 0 | Loss: 0.012882980518043041 | Accuracy: 100.0%\n",
            "ERM | Epoch 0 | Loss: 0.010018151253461838 | Accuracy: 100.0%\n",
            "ERM | Epoch 0 | Loss: 0.012062983587384224 | Accuracy: 100.0%\n",
            "ERM | Epoch 0 | Loss: 0.009367472492158413 | Accuracy: 100.0%\n",
            "ERM | Epoch 0 | Loss: 0.11827649921178818 | Accuracy: 98.4375%\n",
            "ERM | Epoch 0 | Loss: 0.11069267243146896 | Accuracy: 98.4375%\n",
            "ERM | Epoch 0 | Loss: 0.007944369688630104 | Accuracy: 100.0%\n"
          ]
        },
        {
          "output_type": "stream",
          "name": "stderr",
          "text": [
            "Epoch 0:  88%|████████▊ | 662/751 [00:15<00:01, 45.74batch/s, accuracy=100.0%, loss=0.00674]"
          ]
        },
        {
          "output_type": "stream",
          "name": "stdout",
          "text": [
            "ERM | Epoch 0 | Loss: 0.10120917111635208 | Accuracy: 98.4375%\n",
            "ERM | Epoch 0 | Loss: 0.008681928738951683 | Accuracy: 100.0%\n",
            "ERM | Epoch 0 | Loss: 0.007676990237087011 | Accuracy: 100.0%\n",
            "ERM | Epoch 0 | Loss: 0.007831231690943241 | Accuracy: 100.0%\n",
            "ERM | Epoch 0 | Loss: 0.0073504080064594746 | Accuracy: 100.0%\n",
            "ERM | Epoch 0 | Loss: 0.11854636669158936 | Accuracy: 98.4375%\n",
            "ERM | Epoch 0 | Loss: 0.1360657513141632 | Accuracy: 98.4375%\n",
            "ERM | Epoch 0 | Loss: 0.11095035821199417 | Accuracy: 98.4375%\n",
            "ERM | Epoch 0 | Loss: 0.0074920691549777985 | Accuracy: 100.0%\n",
            "ERM | Epoch 0 | Loss: 0.0067393165081739426 | Accuracy: 100.0%\n"
          ]
        },
        {
          "output_type": "stream",
          "name": "stderr",
          "text": [
            "Epoch 0:  89%|████████▉ | 672/751 [00:15<00:01, 45.33batch/s, accuracy=100.0%, loss=0.00481]"
          ]
        },
        {
          "output_type": "stream",
          "name": "stdout",
          "text": [
            "ERM | Epoch 0 | Loss: 0.006782970391213894 | Accuracy: 100.0%\n",
            "ERM | Epoch 0 | Loss: 0.005978095345199108 | Accuracy: 100.0%\n",
            "ERM | Epoch 0 | Loss: 0.006621852517127991 | Accuracy: 100.0%\n",
            "ERM | Epoch 0 | Loss: 0.005679923575371504 | Accuracy: 100.0%\n",
            "ERM | Epoch 0 | Loss: 0.0058202496729791164 | Accuracy: 100.0%\n",
            "ERM | Epoch 0 | Loss: 0.004691994749009609 | Accuracy: 100.0%\n",
            "ERM | Epoch 0 | Loss: 0.1039486825466156 | Accuracy: 98.4375%\n",
            "ERM | Epoch 0 | Loss: 0.004624716006219387 | Accuracy: 100.0%\n",
            "ERM | Epoch 0 | Loss: 0.12482848763465881 | Accuracy: 98.4375%\n",
            "ERM | Epoch 0 | Loss: 0.004810168873518705 | Accuracy: 100.0%\n"
          ]
        },
        {
          "output_type": "stream",
          "name": "stderr",
          "text": [
            "Epoch 0:  91%|█████████ | 682/751 [00:16<00:01, 44.12batch/s, accuracy=100.0%, loss=0.00428]"
          ]
        },
        {
          "output_type": "stream",
          "name": "stdout",
          "text": [
            "ERM | Epoch 0 | Loss: 0.004341586958616972 | Accuracy: 100.0%\n",
            "ERM | Epoch 0 | Loss: 0.10313877463340759 | Accuracy: 98.4375%\n",
            "ERM | Epoch 0 | Loss: 0.007803226355463266 | Accuracy: 100.0%\n",
            "ERM | Epoch 0 | Loss: 0.11689484119415283 | Accuracy: 98.4375%\n",
            "ERM | Epoch 0 | Loss: 0.007892613299190998 | Accuracy: 100.0%\n",
            "ERM | Epoch 0 | Loss: 0.006594319827854633 | Accuracy: 100.0%\n",
            "ERM | Epoch 0 | Loss: 0.007809959817677736 | Accuracy: 100.0%\n",
            "ERM | Epoch 0 | Loss: 0.005235557910054922 | Accuracy: 100.0%\n",
            "ERM | Epoch 0 | Loss: 0.004284993279725313 | Accuracy: 100.0%\n"
          ]
        },
        {
          "output_type": "stream",
          "name": "stderr",
          "text": [
            "Epoch 0:  92%|█████████▏| 692/751 [00:16<00:01, 45.22batch/s, accuracy=98.4375%, loss=0.111]"
          ]
        },
        {
          "output_type": "stream",
          "name": "stdout",
          "text": [
            "ERM | Epoch 0 | Loss: 0.09427405148744583 | Accuracy: 98.4375%\n",
            "ERM | Epoch 0 | Loss: 0.004124357830733061 | Accuracy: 100.0%\n",
            "ERM | Epoch 0 | Loss: 0.003977104090154171 | Accuracy: 100.0%\n",
            "ERM | Epoch 0 | Loss: 0.0038488958962261677 | Accuracy: 100.0%\n",
            "ERM | Epoch 0 | Loss: 0.004045466892421246 | Accuracy: 100.0%\n",
            "ERM | Epoch 0 | Loss: 0.213042214512825 | Accuracy: 96.875%\n",
            "ERM | Epoch 0 | Loss: 0.005974533036351204 | Accuracy: 100.0%\n",
            "ERM | Epoch 0 | Loss: 0.004316976759582758 | Accuracy: 100.0%\n",
            "ERM | Epoch 0 | Loss: 0.08967363089323044 | Accuracy: 98.4375%\n",
            "ERM | Epoch 0 | Loss: 0.11051160842180252 | Accuracy: 98.4375%\n"
          ]
        },
        {
          "output_type": "stream",
          "name": "stderr",
          "text": [
            "Epoch 0:  93%|█████████▎| 702/751 [00:16<00:01, 45.30batch/s, accuracy=98.4375%, loss=0.139]"
          ]
        },
        {
          "output_type": "stream",
          "name": "stdout",
          "text": [
            "ERM | Epoch 0 | Loss: 0.14080606400966644 | Accuracy: 98.4375%\n",
            "ERM | Epoch 0 | Loss: 0.00615570368245244 | Accuracy: 100.0%\n",
            "ERM | Epoch 0 | Loss: 0.00704830139875412 | Accuracy: 100.0%\n",
            "ERM | Epoch 0 | Loss: 0.12805494666099548 | Accuracy: 98.4375%\n",
            "ERM | Epoch 0 | Loss: 0.008438925258815289 | Accuracy: 100.0%\n",
            "ERM | Epoch 0 | Loss: 0.08699455112218857 | Accuracy: 98.4375%\n",
            "ERM | Epoch 0 | Loss: 0.010189498774707317 | Accuracy: 100.0%\n",
            "ERM | Epoch 0 | Loss: 0.008264616131782532 | Accuracy: 100.0%\n",
            "ERM | Epoch 0 | Loss: 0.0069145504385232925 | Accuracy: 100.0%\n",
            "ERM | Epoch 0 | Loss: 0.13906902074813843 | Accuracy: 98.4375%\n"
          ]
        },
        {
          "output_type": "stream",
          "name": "stderr",
          "text": [
            "Epoch 0:  95%|█████████▍| 712/751 [00:16<00:00, 45.68batch/s, accuracy=100.0%, loss=0.00482]"
          ]
        },
        {
          "output_type": "stream",
          "name": "stdout",
          "text": [
            "ERM | Epoch 0 | Loss: 0.08819779753684998 | Accuracy: 98.4375%\n",
            "ERM | Epoch 0 | Loss: 0.08523796498775482 | Accuracy: 98.4375%\n",
            "ERM | Epoch 0 | Loss: 0.0059166778810322285 | Accuracy: 100.0%\n",
            "ERM | Epoch 0 | Loss: 0.00667618028819561 | Accuracy: 100.0%\n",
            "ERM | Epoch 0 | Loss: 0.006540046073496342 | Accuracy: 100.0%\n",
            "ERM | Epoch 0 | Loss: 0.006007783580571413 | Accuracy: 100.0%\n",
            "ERM | Epoch 0 | Loss: 0.006356686819344759 | Accuracy: 100.0%\n",
            "ERM | Epoch 0 | Loss: 0.0063861338421702385 | Accuracy: 100.0%\n",
            "ERM | Epoch 0 | Loss: 0.0054639652371406555 | Accuracy: 100.0%\n",
            "ERM | Epoch 0 | Loss: 0.004819667432457209 | Accuracy: 100.0%\n"
          ]
        },
        {
          "output_type": "stream",
          "name": "stderr",
          "text": [
            "Epoch 0:  96%|█████████▌| 722/751 [00:16<00:00, 46.12batch/s, accuracy=98.4375%, loss=0.114]"
          ]
        },
        {
          "output_type": "stream",
          "name": "stdout",
          "text": [
            "ERM | Epoch 0 | Loss: 0.1012902706861496 | Accuracy: 98.4375%\n",
            "ERM | Epoch 0 | Loss: 0.004827446304261684 | Accuracy: 100.0%\n",
            "ERM | Epoch 0 | Loss: 0.004710422363132238 | Accuracy: 100.0%\n",
            "ERM | Epoch 0 | Loss: 0.005526275839656591 | Accuracy: 100.0%\n",
            "ERM | Epoch 0 | Loss: 0.004030001349747181 | Accuracy: 100.0%\n",
            "ERM | Epoch 0 | Loss: 0.0042709847912192345 | Accuracy: 100.0%\n",
            "ERM | Epoch 0 | Loss: 0.0037039625458419323 | Accuracy: 100.0%\n",
            "ERM | Epoch 0 | Loss: 0.1117791160941124 | Accuracy: 98.4375%\n",
            "ERM | Epoch 0 | Loss: 0.0037261643446981907 | Accuracy: 100.0%\n",
            "ERM | Epoch 0 | Loss: 0.1139906719326973 | Accuracy: 98.4375%\n"
          ]
        },
        {
          "output_type": "stream",
          "name": "stderr",
          "text": [
            "Epoch 0:  97%|█████████▋| 727/751 [00:17<00:00, 45.93batch/s, accuracy=96.875%, loss=0.241] "
          ]
        },
        {
          "output_type": "stream",
          "name": "stdout",
          "text": [
            "ERM | Epoch 0 | Loss: 0.0036900448612868786 | Accuracy: 100.0%\n",
            "ERM | Epoch 0 | Loss: 0.0031811564695090055 | Accuracy: 100.0%\n",
            "ERM | Epoch 0 | Loss: 0.13536538183689117 | Accuracy: 98.4375%\n",
            "ERM | Epoch 0 | Loss: 0.003982692025601864 | Accuracy: 100.0%\n",
            "ERM | Epoch 0 | Loss: 0.13250865042209625 | Accuracy: 98.4375%\n",
            "ERM | Epoch 0 | Loss: 0.003782648826017976 | Accuracy: 100.0%\n",
            "ERM | Epoch 0 | Loss: 0.0036359713412821293 | Accuracy: 100.0%\n",
            "ERM | Epoch 0 | Loss: 0.0034419142175465822 | Accuracy: 100.0%\n",
            "ERM | Epoch 0 | Loss: 0.24072901904582977 | Accuracy: 96.875%\n"
          ]
        },
        {
          "output_type": "stream",
          "name": "stderr",
          "text": [
            "Epoch 0:  98%|█████████▊| 737/751 [00:17<00:00, 45.35batch/s, accuracy=96.875%, loss=0.227] "
          ]
        },
        {
          "output_type": "stream",
          "name": "stdout",
          "text": [
            "ERM | Epoch 0 | Loss: 0.09914249181747437 | Accuracy: 98.4375%\n",
            "ERM | Epoch 0 | Loss: 0.004702354781329632 | Accuracy: 100.0%\n",
            "ERM | Epoch 0 | Loss: 0.005009721033275127 | Accuracy: 100.0%\n",
            "ERM | Epoch 0 | Loss: 0.006238479167222977 | Accuracy: 100.0%\n",
            "ERM | Epoch 0 | Loss: 0.007362932898104191 | Accuracy: 100.0%\n",
            "ERM | Epoch 0 | Loss: 0.0063967108726501465 | Accuracy: 100.0%\n",
            "ERM | Epoch 0 | Loss: 0.007479948922991753 | Accuracy: 100.0%\n",
            "ERM | Epoch 0 | Loss: 0.006764205638319254 | Accuracy: 100.0%\n",
            "ERM | Epoch 0 | Loss: 0.006286573596298695 | Accuracy: 100.0%\n",
            "ERM | Epoch 0 | Loss: 0.22709231078624725 | Accuracy: 96.875%\n"
          ]
        },
        {
          "output_type": "stream",
          "name": "stderr",
          "text": [
            "Epoch 0:  99%|█████████▉| 747/751 [00:17<00:00, 46.01batch/s, accuracy=100.0%, loss=0.00291]"
          ]
        },
        {
          "output_type": "stream",
          "name": "stdout",
          "text": [
            "ERM | Epoch 0 | Loss: 0.008256739936769009 | Accuracy: 100.0%\n",
            "ERM | Epoch 0 | Loss: 0.007409326732158661 | Accuracy: 100.0%\n",
            "ERM | Epoch 0 | Loss: 0.008453218266367912 | Accuracy: 100.0%\n",
            "ERM | Epoch 0 | Loss: 0.009550143033266068 | Accuracy: 100.0%\n",
            "ERM | Epoch 0 | Loss: 0.008931424468755722 | Accuracy: 100.0%\n",
            "ERM | Epoch 0 | Loss: 0.00778720760717988 | Accuracy: 100.0%\n",
            "ERM | Epoch 0 | Loss: 0.006536880973726511 | Accuracy: 100.0%\n",
            "ERM | Epoch 0 | Loss: 0.004839139524847269 | Accuracy: 100.0%\n",
            "ERM | Epoch 0 | Loss: 0.00400198670104146 | Accuracy: 100.0%\n",
            "ERM | Epoch 0 | Loss: 0.0029083997942507267 | Accuracy: 100.0%\n"
          ]
        },
        {
          "output_type": "stream",
          "name": "stderr",
          "text": [
            "\rEpoch 0: 100%|██████████| 751/751 [00:17<00:00, 42.41batch/s, accuracy=100.0%, loss=0.00291]\n"
          ]
        }
      ]
    },
    {
      "cell_type": "code",
      "source": [
        "evaluator = Evaluator(\n",
        "    testset=trainset,\n",
        "    group_partition=testset.group_partition,\n",
        "    group_weights=trainset.group_weights,\n",
        "    batch_size=64,\n",
        "    model=model,\n",
        "    verbose=True\n",
        ")\n",
        "evaluator.evaluate()"
      ],
      "metadata": {
        "colab": {
          "base_uri": "https://localhost:8080/"
        },
        "id": "hkbxziaPvPPF",
        "outputId": "6d170d81-32fb-4cf5-d880-0c91e7c60464"
      },
      "execution_count": 5,
      "outputs": [
        {
          "output_type": "stream",
          "name": "stderr",
          "text": [
            "Evaluating group-wise accuracy:   4%|▍         | 1/25 [00:00<00:12,  1.98it/s]"
          ]
        },
        {
          "output_type": "stream",
          "name": "stdout",
          "text": [
            "Group (0, 0) Accuracy: 99.05437352245863\n"
          ]
        },
        {
          "output_type": "stream",
          "name": "stderr",
          "text": [
            "\rEvaluating group-wise accuracy:   8%|▊         | 2/25 [00:00<00:09,  2.38it/s]"
          ]
        },
        {
          "output_type": "stream",
          "name": "stdout",
          "text": [
            "Group (0, 1) Accuracy: 99.76359338061465\n"
          ]
        },
        {
          "output_type": "stream",
          "name": "stderr",
          "text": [
            "\rEvaluating group-wise accuracy:  12%|█▏        | 3/25 [00:01<00:08,  2.56it/s]"
          ]
        },
        {
          "output_type": "stream",
          "name": "stdout",
          "text": [
            "Group (0, 2) Accuracy: 99.05437352245863\n"
          ]
        },
        {
          "output_type": "stream",
          "name": "stderr",
          "text": [
            "\rEvaluating group-wise accuracy:  16%|█▌        | 4/25 [00:01<00:08,  2.60it/s]"
          ]
        },
        {
          "output_type": "stream",
          "name": "stdout",
          "text": [
            "Group (0, 3) Accuracy: 99.52718676122932\n"
          ]
        },
        {
          "output_type": "stream",
          "name": "stderr",
          "text": [
            "\rEvaluating group-wise accuracy:  20%|██        | 5/25 [00:01<00:07,  2.65it/s]"
          ]
        },
        {
          "output_type": "stream",
          "name": "stdout",
          "text": [
            "Group (0, 4) Accuracy: 100.0\n"
          ]
        },
        {
          "output_type": "stream",
          "name": "stderr",
          "text": [
            "\rEvaluating group-wise accuracy:  24%|██▍       | 6/25 [00:02<00:07,  2.68it/s]"
          ]
        },
        {
          "output_type": "stream",
          "name": "stdout",
          "text": [
            "Group (1, 0) Accuracy: 99.75550122249389\n"
          ]
        },
        {
          "output_type": "stream",
          "name": "stderr",
          "text": [
            "\rEvaluating group-wise accuracy:  28%|██▊       | 7/25 [00:02<00:06,  2.64it/s]"
          ]
        },
        {
          "output_type": "stream",
          "name": "stdout",
          "text": [
            "Group (1, 1) Accuracy: 98.77750611246944\n"
          ]
        },
        {
          "output_type": "stream",
          "name": "stderr",
          "text": [
            "\rEvaluating group-wise accuracy:  32%|███▏      | 8/25 [00:03<00:06,  2.69it/s]"
          ]
        },
        {
          "output_type": "stream",
          "name": "stdout",
          "text": [
            "Group (1, 2) Accuracy: 99.75490196078431\n"
          ]
        },
        {
          "output_type": "stream",
          "name": "stderr",
          "text": [
            "\rEvaluating group-wise accuracy:  36%|███▌      | 9/25 [00:04<00:11,  1.42it/s]"
          ]
        },
        {
          "output_type": "stream",
          "name": "stdout",
          "text": [
            "Group (1, 3) Accuracy: 98.77450980392157\n"
          ]
        },
        {
          "output_type": "stream",
          "name": "stderr",
          "text": [
            "\rEvaluating group-wise accuracy:  40%|████      | 10/25 [00:06<00:16,  1.11s/it]"
          ]
        },
        {
          "output_type": "stream",
          "name": "stdout",
          "text": [
            "Group (1, 4) Accuracy: 99.75490196078431\n"
          ]
        },
        {
          "output_type": "stream",
          "name": "stderr",
          "text": [
            "\rEvaluating group-wise accuracy:  44%|████▍     | 11/25 [00:06<00:12,  1.13it/s]"
          ]
        },
        {
          "output_type": "stream",
          "name": "stdout",
          "text": [
            "Group (2, 0) Accuracy: 99.73333333333333\n"
          ]
        },
        {
          "output_type": "stream",
          "name": "stderr",
          "text": [
            "\rEvaluating group-wise accuracy:  48%|████▊     | 12/25 [00:07<00:09,  1.38it/s]"
          ]
        },
        {
          "output_type": "stream",
          "name": "stdout",
          "text": [
            "Group (2, 1) Accuracy: 99.46666666666667\n"
          ]
        },
        {
          "output_type": "stream",
          "name": "stderr",
          "text": [
            "\rEvaluating group-wise accuracy:  52%|█████▏    | 13/25 [00:07<00:07,  1.63it/s]"
          ]
        },
        {
          "output_type": "stream",
          "name": "stdout",
          "text": [
            "Group (2, 2) Accuracy: 99.73333333333333\n"
          ]
        },
        {
          "output_type": "stream",
          "name": "stderr",
          "text": [
            "\rEvaluating group-wise accuracy:  56%|█████▌    | 14/25 [00:07<00:05,  1.85it/s]"
          ]
        },
        {
          "output_type": "stream",
          "name": "stdout",
          "text": [
            "Group (2, 3) Accuracy: 98.66666666666667\n"
          ]
        },
        {
          "output_type": "stream",
          "name": "stderr",
          "text": [
            "\rEvaluating group-wise accuracy:  60%|██████    | 15/25 [00:08<00:04,  2.07it/s]"
          ]
        },
        {
          "output_type": "stream",
          "name": "stdout",
          "text": [
            "Group (2, 4) Accuracy: 99.73262032085562\n"
          ]
        },
        {
          "output_type": "stream",
          "name": "stderr",
          "text": [
            "\rEvaluating group-wise accuracy:  64%|██████▍   | 16/25 [00:08<00:04,  2.24it/s]"
          ]
        },
        {
          "output_type": "stream",
          "name": "stdout",
          "text": [
            "Group (3, 0) Accuracy: 98.99497487437186\n"
          ]
        },
        {
          "output_type": "stream",
          "name": "stderr",
          "text": [
            "\rEvaluating group-wise accuracy:  68%|██████▊   | 17/25 [00:09<00:05,  1.55it/s]"
          ]
        },
        {
          "output_type": "stream",
          "name": "stdout",
          "text": [
            "Group (3, 1) Accuracy: 99.49622166246851\n"
          ]
        },
        {
          "output_type": "stream",
          "name": "stderr",
          "text": [
            "\rEvaluating group-wise accuracy:  72%|███████▏  | 18/25 [00:12<00:09,  1.31s/it]"
          ]
        },
        {
          "output_type": "stream",
          "name": "stdout",
          "text": [
            "Group (3, 2) Accuracy: 99.49622166246851\n"
          ]
        },
        {
          "output_type": "stream",
          "name": "stderr",
          "text": [
            "\rEvaluating group-wise accuracy:  76%|███████▌  | 19/25 [00:14<00:09,  1.58s/it]"
          ]
        },
        {
          "output_type": "stream",
          "name": "stdout",
          "text": [
            "Group (3, 3) Accuracy: 98.74055415617129\n"
          ]
        },
        {
          "output_type": "stream",
          "name": "stderr",
          "text": [
            "\rEvaluating group-wise accuracy:  80%|████████  | 20/25 [00:17<00:09,  1.88s/it]"
          ]
        },
        {
          "output_type": "stream",
          "name": "stdout",
          "text": [
            "Group (3, 4) Accuracy: 100.0\n"
          ]
        },
        {
          "output_type": "stream",
          "name": "stderr",
          "text": [
            "\rEvaluating group-wise accuracy:  84%|████████▍ | 21/25 [00:17<00:05,  1.43s/it]"
          ]
        },
        {
          "output_type": "stream",
          "name": "stdout",
          "text": [
            "Group (4, 0) Accuracy: 100.0\n"
          ]
        },
        {
          "output_type": "stream",
          "name": "stderr",
          "text": [
            "\rEvaluating group-wise accuracy:  88%|████████▊ | 22/25 [00:18<00:03,  1.11s/it]"
          ]
        },
        {
          "output_type": "stream",
          "name": "stdout",
          "text": [
            "Group (4, 1) Accuracy: 99.74811083123426\n"
          ]
        },
        {
          "output_type": "stream",
          "name": "stderr",
          "text": [
            "\rEvaluating group-wise accuracy:  92%|█████████▏| 23/25 [00:18<00:01,  1.12it/s]"
          ]
        },
        {
          "output_type": "stream",
          "name": "stdout",
          "text": [
            "Group (4, 2) Accuracy: 99.24433249370277\n"
          ]
        },
        {
          "output_type": "stream",
          "name": "stderr",
          "text": [
            "\rEvaluating group-wise accuracy:  96%|█████████▌| 24/25 [00:18<00:00,  1.36it/s]"
          ]
        },
        {
          "output_type": "stream",
          "name": "stdout",
          "text": [
            "Group (4, 3) Accuracy: 99.74747474747475\n"
          ]
        },
        {
          "output_type": "stream",
          "name": "stderr",
          "text": [
            "Evaluating group-wise accuracy: 100%|██████████| 25/25 [00:19<00:00,  1.29it/s]"
          ]
        },
        {
          "output_type": "stream",
          "name": "stdout",
          "text": [
            "Group (4, 4) Accuracy: 100.0\n"
          ]
        },
        {
          "output_type": "stream",
          "name": "stderr",
          "text": [
            "\n"
          ]
        },
        {
          "output_type": "execute_result",
          "data": {
            "text/plain": [
              "{(0, 0): 99.05437352245863,\n",
              " (0, 1): 99.76359338061465,\n",
              " (0, 2): 99.05437352245863,\n",
              " (0, 3): 99.52718676122932,\n",
              " (0, 4): 100.0,\n",
              " (1, 0): 99.75550122249389,\n",
              " (1, 1): 98.77750611246944,\n",
              " (1, 2): 99.75490196078431,\n",
              " (1, 3): 98.77450980392157,\n",
              " (1, 4): 99.75490196078431,\n",
              " (2, 0): 99.73333333333333,\n",
              " (2, 1): 99.46666666666667,\n",
              " (2, 2): 99.73333333333333,\n",
              " (2, 3): 98.66666666666667,\n",
              " (2, 4): 99.73262032085562,\n",
              " (3, 0): 98.99497487437186,\n",
              " (3, 1): 99.49622166246851,\n",
              " (3, 2): 99.49622166246851,\n",
              " (3, 3): 98.74055415617129,\n",
              " (3, 4): 100.0,\n",
              " (4, 0): 100.0,\n",
              " (4, 1): 99.74811083123426,\n",
              " (4, 2): 99.24433249370277,\n",
              " (4, 3): 99.74747474747475,\n",
              " (4, 4): 100.0}"
            ]
          },
          "metadata": {},
          "execution_count": 5
        }
      ]
    },
    {
      "cell_type": "code",
      "source": [
        "evaluator = Evaluator(\n",
        "    testset=testset,\n",
        "    group_partition=testset.group_partition,\n",
        "    group_weights=trainset.group_weights,\n",
        "    batch_size=64,\n",
        "    model=model,\n",
        "    verbose=True\n",
        ")\n",
        "evaluator.evaluate()"
      ],
      "metadata": {
        "colab": {
          "base_uri": "https://localhost:8080/"
        },
        "id": "G5_puwAhv7fy",
        "outputId": "4bf2918f-932c-4bf5-a304-20c14c4c1fc6"
      },
      "execution_count": 6,
      "outputs": [
        {
          "output_type": "stream",
          "name": "stderr",
          "text": [
            "Evaluating group-wise accuracy:   4%|▍         | 1/25 [00:01<00:26,  1.12s/it]"
          ]
        },
        {
          "output_type": "stream",
          "name": "stdout",
          "text": [
            "Group (0, 0) Accuracy: 100.0\n"
          ]
        },
        {
          "output_type": "stream",
          "name": "stderr",
          "text": [
            "\rEvaluating group-wise accuracy:   8%|▊         | 2/25 [00:03<00:37,  1.63s/it]"
          ]
        },
        {
          "output_type": "stream",
          "name": "stdout",
          "text": [
            "Group (0, 1) Accuracy: 0.0\n"
          ]
        },
        {
          "output_type": "stream",
          "name": "stderr",
          "text": [
            "\rEvaluating group-wise accuracy:  12%|█▏        | 3/25 [00:05<00:45,  2.09s/it]"
          ]
        },
        {
          "output_type": "stream",
          "name": "stdout",
          "text": [
            "Group (0, 2) Accuracy: 0.0\n"
          ]
        },
        {
          "output_type": "stream",
          "name": "stderr",
          "text": [
            "\rEvaluating group-wise accuracy:  16%|█▌        | 4/25 [00:08<00:51,  2.44s/it]"
          ]
        },
        {
          "output_type": "stream",
          "name": "stdout",
          "text": [
            "Group (0, 3) Accuracy: 0.0\n"
          ]
        },
        {
          "output_type": "stream",
          "name": "stderr",
          "text": [
            "\rEvaluating group-wise accuracy:  20%|██        | 5/25 [00:09<00:33,  1.70s/it]"
          ]
        },
        {
          "output_type": "stream",
          "name": "stdout",
          "text": [
            "Group (0, 4) Accuracy: 0.0\n"
          ]
        },
        {
          "output_type": "stream",
          "name": "stderr",
          "text": [
            "\rEvaluating group-wise accuracy:  24%|██▍       | 6/25 [00:09<00:23,  1.25s/it]"
          ]
        },
        {
          "output_type": "stream",
          "name": "stdout",
          "text": [
            "Group (1, 0) Accuracy: 0.0\n"
          ]
        },
        {
          "output_type": "stream",
          "name": "stderr",
          "text": [
            "\rEvaluating group-wise accuracy:  28%|██▊       | 7/25 [00:09<00:17,  1.04it/s]"
          ]
        },
        {
          "output_type": "stream",
          "name": "stdout",
          "text": [
            "Group (1, 1) Accuracy: 100.0\n"
          ]
        },
        {
          "output_type": "stream",
          "name": "stderr",
          "text": [
            "\rEvaluating group-wise accuracy:  32%|███▏      | 8/25 [00:10<00:17,  1.01s/it]"
          ]
        },
        {
          "output_type": "stream",
          "name": "stdout",
          "text": [
            "Group (1, 2) Accuracy: 0.0\n"
          ]
        },
        {
          "output_type": "stream",
          "name": "stderr",
          "text": [
            "\rEvaluating group-wise accuracy:  36%|███▌      | 9/25 [00:12<00:18,  1.13s/it]"
          ]
        },
        {
          "output_type": "stream",
          "name": "stdout",
          "text": [
            "Group (1, 3) Accuracy: 0.0\n"
          ]
        },
        {
          "output_type": "stream",
          "name": "stderr",
          "text": [
            "\rEvaluating group-wise accuracy:  40%|████      | 10/25 [00:14<00:20,  1.40s/it]"
          ]
        },
        {
          "output_type": "stream",
          "name": "stdout",
          "text": [
            "Group (1, 4) Accuracy: 0.0\n"
          ]
        },
        {
          "output_type": "stream",
          "name": "stderr",
          "text": [
            "\rEvaluating group-wise accuracy:  44%|████▍     | 11/25 [00:16<00:22,  1.58s/it]"
          ]
        },
        {
          "output_type": "stream",
          "name": "stdout",
          "text": [
            "Group (2, 0) Accuracy: 0.0\n"
          ]
        },
        {
          "output_type": "stream",
          "name": "stderr",
          "text": [
            "\rEvaluating group-wise accuracy:  48%|████▊     | 12/25 [00:20<00:30,  2.34s/it]"
          ]
        },
        {
          "output_type": "stream",
          "name": "stdout",
          "text": [
            "Group (2, 1) Accuracy: 0.0\n"
          ]
        },
        {
          "output_type": "stream",
          "name": "stderr",
          "text": [
            "\rEvaluating group-wise accuracy:  52%|█████▏    | 13/25 [00:20<00:20,  1.74s/it]"
          ]
        },
        {
          "output_type": "stream",
          "name": "stdout",
          "text": [
            "Group (2, 2) Accuracy: 100.0\n"
          ]
        },
        {
          "output_type": "stream",
          "name": "stderr",
          "text": [
            "\rEvaluating group-wise accuracy:  56%|█████▌    | 14/25 [00:21<00:14,  1.33s/it]"
          ]
        },
        {
          "output_type": "stream",
          "name": "stdout",
          "text": [
            "Group (2, 3) Accuracy: 0.0\n"
          ]
        },
        {
          "output_type": "stream",
          "name": "stderr",
          "text": [
            "\rEvaluating group-wise accuracy:  60%|██████    | 15/25 [00:21<00:10,  1.04s/it]"
          ]
        },
        {
          "output_type": "stream",
          "name": "stdout",
          "text": [
            "Group (2, 4) Accuracy: 0.0\n"
          ]
        },
        {
          "output_type": "stream",
          "name": "stderr",
          "text": [
            "\rEvaluating group-wise accuracy:  64%|██████▍   | 16/25 [00:21<00:07,  1.19it/s]"
          ]
        },
        {
          "output_type": "stream",
          "name": "stdout",
          "text": [
            "Group (3, 0) Accuracy: 0.0\n"
          ]
        },
        {
          "output_type": "stream",
          "name": "stderr",
          "text": [
            "\rEvaluating group-wise accuracy:  68%|██████▊   | 17/25 [00:22<00:05,  1.43it/s]"
          ]
        },
        {
          "output_type": "stream",
          "name": "stdout",
          "text": [
            "Group (3, 1) Accuracy: 0.0\n"
          ]
        },
        {
          "output_type": "stream",
          "name": "stderr",
          "text": [
            "\rEvaluating group-wise accuracy:  72%|███████▏  | 18/25 [00:22<00:04,  1.68it/s]"
          ]
        },
        {
          "output_type": "stream",
          "name": "stdout",
          "text": [
            "Group (3, 2) Accuracy: 0.0\n"
          ]
        },
        {
          "output_type": "stream",
          "name": "stderr",
          "text": [
            "\rEvaluating group-wise accuracy:  76%|███████▌  | 19/25 [00:23<00:03,  1.88it/s]"
          ]
        },
        {
          "output_type": "stream",
          "name": "stdout",
          "text": [
            "Group (3, 3) Accuracy: 100.0\n"
          ]
        },
        {
          "output_type": "stream",
          "name": "stderr",
          "text": [
            "\rEvaluating group-wise accuracy:  80%|████████  | 20/25 [00:23<00:02,  2.07it/s]"
          ]
        },
        {
          "output_type": "stream",
          "name": "stdout",
          "text": [
            "Group (3, 4) Accuracy: 0.0\n"
          ]
        },
        {
          "output_type": "stream",
          "name": "stderr",
          "text": [
            "\rEvaluating group-wise accuracy:  84%|████████▍ | 21/25 [00:23<00:01,  2.23it/s]"
          ]
        },
        {
          "output_type": "stream",
          "name": "stdout",
          "text": [
            "Group (4, 0) Accuracy: 0.0\n"
          ]
        },
        {
          "output_type": "stream",
          "name": "stderr",
          "text": [
            "\rEvaluating group-wise accuracy:  88%|████████▊ | 22/25 [00:24<00:01,  2.33it/s]"
          ]
        },
        {
          "output_type": "stream",
          "name": "stdout",
          "text": [
            "Group (4, 1) Accuracy: 0.0\n"
          ]
        },
        {
          "output_type": "stream",
          "name": "stderr",
          "text": [
            "\rEvaluating group-wise accuracy:  92%|█████████▏| 23/25 [00:24<00:00,  2.46it/s]"
          ]
        },
        {
          "output_type": "stream",
          "name": "stdout",
          "text": [
            "Group (4, 2) Accuracy: 0.0\n"
          ]
        },
        {
          "output_type": "stream",
          "name": "stderr",
          "text": [
            "\rEvaluating group-wise accuracy:  96%|█████████▌| 24/25 [00:24<00:00,  2.52it/s]"
          ]
        },
        {
          "output_type": "stream",
          "name": "stdout",
          "text": [
            "Group (4, 3) Accuracy: 0.0\n"
          ]
        },
        {
          "output_type": "stream",
          "name": "stderr",
          "text": [
            "Evaluating group-wise accuracy: 100%|██████████| 25/25 [00:25<00:00,  1.01s/it]"
          ]
        },
        {
          "output_type": "stream",
          "name": "stdout",
          "text": [
            "Group (4, 4) Accuracy: 100.0\n"
          ]
        },
        {
          "output_type": "stream",
          "name": "stderr",
          "text": [
            "\n"
          ]
        },
        {
          "output_type": "execute_result",
          "data": {
            "text/plain": [
              "{(0, 0): 100.0,\n",
              " (0, 1): 0.0,\n",
              " (0, 2): 0.0,\n",
              " (0, 3): 0.0,\n",
              " (0, 4): 0.0,\n",
              " (1, 0): 0.0,\n",
              " (1, 1): 100.0,\n",
              " (1, 2): 0.0,\n",
              " (1, 3): 0.0,\n",
              " (1, 4): 0.0,\n",
              " (2, 0): 0.0,\n",
              " (2, 1): 0.0,\n",
              " (2, 2): 100.0,\n",
              " (2, 3): 0.0,\n",
              " (2, 4): 0.0,\n",
              " (3, 0): 0.0,\n",
              " (3, 1): 0.0,\n",
              " (3, 2): 0.0,\n",
              " (3, 3): 100.0,\n",
              " (3, 4): 0.0,\n",
              " (4, 0): 0.0,\n",
              " (4, 1): 0.0,\n",
              " (4, 2): 0.0,\n",
              " (4, 3): 0.0,\n",
              " (4, 4): 100.0}"
            ]
          },
          "metadata": {},
          "execution_count": 6
        }
      ]
    },
    {
      "cell_type": "code",
      "source": [
        "cluster = Cluster(\n",
        "    Z=erm.trainer.get_trainset_outputs(),\n",
        "    class_labels=trainset.labels,\n",
        "    cluster_alg=ClusterAlg.KMEANS,\n",
        "    num_clusters=2,\n",
        "    verbose=True\n",
        ")\n",
        "group_partition = cluster.infer_groups()"
      ],
      "metadata": {
        "colab": {
          "base_uri": "https://localhost:8080/"
        },
        "id": "VxWaoH_8z5Vu",
        "outputId": "069d30e0-1da0-4384-9924-6105c41b8c1d"
      },
      "execution_count": 7,
      "outputs": [
        {
          "output_type": "stream",
          "name": "stderr",
          "text": [
            "Getting model outputs: 100%|██████████| 751/751 [00:09<00:00, 80.10batch/s]\n",
            "Clustering class-wise: 100%|██████████| 5/5 [00:00<00:00, 15.18it/s]\n"
          ]
        }
      ]
    },
    {
      "cell_type": "code",
      "source": [
        "model = model_factory(\"lenet\", trainset[0][0].shape, trainset.num_classes)\n",
        "group_balance_erm = GroupBalanceBatchERM(\n",
        "    model=model,\n",
        "    num_epochs=5,\n",
        "    trainset=trainset,\n",
        "    group_partition=group_partition,\n",
        "    batch_size=64,\n",
        "    optimizer=SGD(model.parameters(), lr=1e-3, weight_decay=5e-4, momentum=0.9, nesterov=True),\n",
        "    verbose=True\n",
        ")\n",
        "group_balance_erm.train()"
      ],
      "metadata": {
        "colab": {
          "base_uri": "https://localhost:8080/"
        },
        "id": "HOPQRtO52yt6",
        "outputId": "977aaa44-93c4-4024-aacb-01a0d6064788"
      },
      "execution_count": 12,
      "outputs": [
        {
          "output_type": "stream",
          "name": "stderr",
          "text": [
            "Epoch 0:   1%|          | 4/751 [00:00<01:20,  9.32batch/s, accuracy=18.75%, loss=1.62]  "
          ]
        },
        {
          "output_type": "stream",
          "name": "stdout",
          "text": [
            "GB | Epoch 0 | Loss: 1.6137105226516724 | Accuracy: 20.3125%\n",
            "GB | Epoch 0 | Loss: 1.6166174411773682 | Accuracy: 15.625%\n",
            "GB | Epoch 0 | Loss: 1.6148027181625366 | Accuracy: 21.875%\n",
            "GB | Epoch 0 | Loss: 1.614884376525879 | Accuracy: 14.0625%\n",
            "GB | Epoch 0 | Loss: 1.6202027797698975 | Accuracy: 14.0625%\n",
            "GB | Epoch 0 | Loss: 1.623217225074768 | Accuracy: 18.75%\n"
          ]
        },
        {
          "output_type": "stream",
          "name": "stderr",
          "text": [
            "Epoch 0:   1%|▏         | 11/751 [00:00<00:37, 19.52batch/s, accuracy=10.9375%, loss=1.63]"
          ]
        },
        {
          "output_type": "stream",
          "name": "stdout",
          "text": [
            "GB | Epoch 0 | Loss: 1.6072133779525757 | Accuracy: 15.625%\n",
            "GB | Epoch 0 | Loss: 1.6037700176239014 | Accuracy: 21.875%\n",
            "GB | Epoch 0 | Loss: 1.6148364543914795 | Accuracy: 15.625%\n",
            "GB | Epoch 0 | Loss: 1.6313811540603638 | Accuracy: 7.8125%\n",
            "GB | Epoch 0 | Loss: 1.600182294845581 | Accuracy: 25.0%\n",
            "GB | Epoch 0 | Loss: 1.6116515398025513 | Accuracy: 25.0%\n",
            "GB | Epoch 0 | Loss: 1.626950740814209 | Accuracy: 10.9375%\n"
          ]
        },
        {
          "output_type": "stream",
          "name": "stderr",
          "text": [
            "Epoch 0:   3%|▎         | 19/751 [00:01<00:25, 28.43batch/s, accuracy=17.1875%, loss=1.61]"
          ]
        },
        {
          "output_type": "stream",
          "name": "stdout",
          "text": [
            "GB | Epoch 0 | Loss: 1.6089757680892944 | Accuracy: 15.625%\n",
            "GB | Epoch 0 | Loss: 1.6198606491088867 | Accuracy: 15.625%\n",
            "GB | Epoch 0 | Loss: 1.5941946506500244 | Accuracy: 28.125%\n",
            "GB | Epoch 0 | Loss: 1.6315133571624756 | Accuracy: 15.625%\n",
            "GB | Epoch 0 | Loss: 1.6101077795028687 | Accuracy: 20.3125%\n",
            "GB | Epoch 0 | Loss: 1.5959075689315796 | Accuracy: 32.8125%\n",
            "GB | Epoch 0 | Loss: 1.6090885400772095 | Accuracy: 21.875%\n",
            "GB | Epoch 0 | Loss: 1.6143571138381958 | Accuracy: 17.1875%\n",
            "GB | Epoch 0 | Loss: 1.6083124876022339 | Accuracy: 17.1875%\n"
          ]
        },
        {
          "output_type": "stream",
          "name": "stderr",
          "text": [
            "Epoch 0:   4%|▍         | 29/751 [00:01<00:19, 36.86batch/s, accuracy=17.1875%, loss=1.62]"
          ]
        },
        {
          "output_type": "stream",
          "name": "stdout",
          "text": [
            "GB | Epoch 0 | Loss: 1.6170523166656494 | Accuracy: 17.1875%\n",
            "GB | Epoch 0 | Loss: 1.6226227283477783 | Accuracy: 15.625%\n",
            "GB | Epoch 0 | Loss: 1.600143313407898 | Accuracy: 25.0%\n",
            "GB | Epoch 0 | Loss: 1.6233326196670532 | Accuracy: 14.0625%\n",
            "GB | Epoch 0 | Loss: 1.6111905574798584 | Accuracy: 17.1875%\n",
            "GB | Epoch 0 | Loss: 1.6140378713607788 | Accuracy: 23.4375%\n",
            "GB | Epoch 0 | Loss: 1.6138408184051514 | Accuracy: 17.1875%\n",
            "GB | Epoch 0 | Loss: 1.630096197128296 | Accuracy: 18.75%\n",
            "GB | Epoch 0 | Loss: 1.6154632568359375 | Accuracy: 10.9375%\n",
            "GB | Epoch 0 | Loss: 1.6160290241241455 | Accuracy: 17.1875%\n"
          ]
        },
        {
          "output_type": "stream",
          "name": "stderr",
          "text": [
            "Epoch 0:   5%|▌         | 39/751 [00:01<00:18, 39.30batch/s, accuracy=26.5625%, loss=1.61]"
          ]
        },
        {
          "output_type": "stream",
          "name": "stdout",
          "text": [
            "GB | Epoch 0 | Loss: 1.617514967918396 | Accuracy: 18.75%\n",
            "GB | Epoch 0 | Loss: 1.607766032218933 | Accuracy: 25.0%\n",
            "GB | Epoch 0 | Loss: 1.6070884466171265 | Accuracy: 26.5625%\n",
            "GB | Epoch 0 | Loss: 1.6197186708450317 | Accuracy: 15.625%\n",
            "GB | Epoch 0 | Loss: 1.6088371276855469 | Accuracy: 20.3125%\n",
            "GB | Epoch 0 | Loss: 1.6019741296768188 | Accuracy: 23.4375%\n",
            "GB | Epoch 0 | Loss: 1.6047213077545166 | Accuracy: 23.4375%\n",
            "GB | Epoch 0 | Loss: 1.6123403310775757 | Accuracy: 23.4375%\n",
            "GB | Epoch 0 | Loss: 1.6063905954360962 | Accuracy: 26.5625%\n"
          ]
        },
        {
          "output_type": "stream",
          "name": "stderr",
          "text": [
            "Epoch 0:   7%|▋         | 49/751 [00:01<00:16, 41.69batch/s, accuracy=17.1875%, loss=1.62]"
          ]
        },
        {
          "output_type": "stream",
          "name": "stdout",
          "text": [
            "GB | Epoch 0 | Loss: 1.5978813171386719 | Accuracy: 25.0%\n",
            "GB | Epoch 0 | Loss: 1.6205112934112549 | Accuracy: 15.625%\n",
            "GB | Epoch 0 | Loss: 1.6183515787124634 | Accuracy: 23.4375%\n",
            "GB | Epoch 0 | Loss: 1.5938220024108887 | Accuracy: 29.6875%\n",
            "GB | Epoch 0 | Loss: 1.6279977560043335 | Accuracy: 15.625%\n",
            "GB | Epoch 0 | Loss: 1.5974615812301636 | Accuracy: 25.0%\n",
            "GB | Epoch 0 | Loss: 1.616446614265442 | Accuracy: 15.625%\n",
            "GB | Epoch 0 | Loss: 1.6165238618850708 | Accuracy: 17.1875%\n",
            "GB | Epoch 0 | Loss: 1.6190950870513916 | Accuracy: 17.1875%\n"
          ]
        },
        {
          "output_type": "stream",
          "name": "stderr",
          "text": [
            "Epoch 0:   8%|▊         | 59/751 [00:01<00:15, 43.51batch/s, accuracy=14.0625%, loss=1.62]"
          ]
        },
        {
          "output_type": "stream",
          "name": "stdout",
          "text": [
            "GB | Epoch 0 | Loss: 1.6191282272338867 | Accuracy: 10.9375%\n",
            "GB | Epoch 0 | Loss: 1.6110492944717407 | Accuracy: 20.3125%\n",
            "GB | Epoch 0 | Loss: 1.6026841402053833 | Accuracy: 23.4375%\n",
            "GB | Epoch 0 | Loss: 1.6118515729904175 | Accuracy: 20.3125%\n",
            "GB | Epoch 0 | Loss: 1.614357352256775 | Accuracy: 15.625%\n",
            "GB | Epoch 0 | Loss: 1.6020311117172241 | Accuracy: 21.875%\n",
            "GB | Epoch 0 | Loss: 1.6106281280517578 | Accuracy: 17.1875%\n",
            "GB | Epoch 0 | Loss: 1.6083078384399414 | Accuracy: 18.75%\n",
            "GB | Epoch 0 | Loss: 1.6176761388778687 | Accuracy: 18.75%\n",
            "GB | Epoch 0 | Loss: 1.6222487688064575 | Accuracy: 14.0625%\n"
          ]
        },
        {
          "output_type": "stream",
          "name": "stderr",
          "text": [
            "Epoch 0:   9%|▉         | 69/751 [00:02<00:14, 45.60batch/s, accuracy=28.125%, loss=1.6]"
          ]
        },
        {
          "output_type": "stream",
          "name": "stdout",
          "text": [
            "GB | Epoch 0 | Loss: 1.6171013116836548 | Accuracy: 17.1875%\n",
            "GB | Epoch 0 | Loss: 1.6028281450271606 | Accuracy: 23.4375%\n",
            "GB | Epoch 0 | Loss: 1.6131179332733154 | Accuracy: 17.1875%\n",
            "GB | Epoch 0 | Loss: 1.6149840354919434 | Accuracy: 18.75%\n",
            "GB | Epoch 0 | Loss: 1.6066380739212036 | Accuracy: 20.3125%\n",
            "GB | Epoch 0 | Loss: 1.6099052429199219 | Accuracy: 17.1875%\n",
            "GB | Epoch 0 | Loss: 1.6120283603668213 | Accuracy: 25.0%\n",
            "GB | Epoch 0 | Loss: 1.6169565916061401 | Accuracy: 15.625%\n",
            "GB | Epoch 0 | Loss: 1.609336018562317 | Accuracy: 25.0%\n",
            "GB | Epoch 0 | Loss: 1.6011966466903687 | Accuracy: 28.125%\n"
          ]
        },
        {
          "output_type": "stream",
          "name": "stderr",
          "text": [
            "Epoch 0:  11%|█         | 79/751 [00:02<00:14, 46.64batch/s, accuracy=34.375%, loss=1.6]  "
          ]
        },
        {
          "output_type": "stream",
          "name": "stdout",
          "text": [
            "GB | Epoch 0 | Loss: 1.5986065864562988 | Accuracy: 21.875%\n",
            "GB | Epoch 0 | Loss: 1.618686318397522 | Accuracy: 18.75%\n",
            "GB | Epoch 0 | Loss: 1.609230637550354 | Accuracy: 25.0%\n",
            "GB | Epoch 0 | Loss: 1.6027895212173462 | Accuracy: 21.875%\n",
            "GB | Epoch 0 | Loss: 1.599151372909546 | Accuracy: 29.6875%\n",
            "GB | Epoch 0 | Loss: 1.607161045074463 | Accuracy: 23.4375%\n",
            "GB | Epoch 0 | Loss: 1.60709810256958 | Accuracy: 18.75%\n",
            "GB | Epoch 0 | Loss: 1.6179307699203491 | Accuracy: 15.625%\n",
            "GB | Epoch 0 | Loss: 1.6062484979629517 | Accuracy: 20.3125%\n",
            "GB | Epoch 0 | Loss: 1.6003806591033936 | Accuracy: 34.375%\n"
          ]
        },
        {
          "output_type": "stream",
          "name": "stderr",
          "text": [
            "Epoch 0:  12%|█▏        | 89/751 [00:02<00:14, 45.75batch/s, accuracy=23.4375%, loss=1.61]"
          ]
        },
        {
          "output_type": "stream",
          "name": "stdout",
          "text": [
            "GB | Epoch 0 | Loss: 1.6250247955322266 | Accuracy: 17.1875%\n",
            "GB | Epoch 0 | Loss: 1.6064183712005615 | Accuracy: 25.0%\n",
            "GB | Epoch 0 | Loss: 1.6169112920761108 | Accuracy: 15.625%\n",
            "GB | Epoch 0 | Loss: 1.6049330234527588 | Accuracy: 20.3125%\n",
            "GB | Epoch 0 | Loss: 1.60565984249115 | Accuracy: 20.3125%\n",
            "GB | Epoch 0 | Loss: 1.6130599975585938 | Accuracy: 23.4375%\n",
            "GB | Epoch 0 | Loss: 1.6064702272415161 | Accuracy: 23.4375%\n",
            "GB | Epoch 0 | Loss: 1.6133915185928345 | Accuracy: 20.3125%\n",
            "GB | Epoch 0 | Loss: 1.6057265996932983 | Accuracy: 23.4375%\n"
          ]
        },
        {
          "output_type": "stream",
          "name": "stderr",
          "text": [
            "Epoch 0:  13%|█▎        | 99/751 [00:02<00:13, 47.20batch/s, accuracy=21.875%, loss=1.6]"
          ]
        },
        {
          "output_type": "stream",
          "name": "stdout",
          "text": [
            "GB | Epoch 0 | Loss: 1.612775444984436 | Accuracy: 17.1875%\n",
            "GB | Epoch 0 | Loss: 1.6216542720794678 | Accuracy: 9.375%\n",
            "GB | Epoch 0 | Loss: 1.5942490100860596 | Accuracy: 31.25%\n",
            "GB | Epoch 0 | Loss: 1.5967923402786255 | Accuracy: 25.0%\n",
            "GB | Epoch 0 | Loss: 1.6117604970932007 | Accuracy: 14.0625%\n",
            "GB | Epoch 0 | Loss: 1.6084980964660645 | Accuracy: 25.0%\n",
            "GB | Epoch 0 | Loss: 1.5995632410049438 | Accuracy: 25.0%\n",
            "GB | Epoch 0 | Loss: 1.604130744934082 | Accuracy: 18.75%\n",
            "GB | Epoch 0 | Loss: 1.6164523363113403 | Accuracy: 9.375%\n",
            "GB | Epoch 0 | Loss: 1.601624608039856 | Accuracy: 21.875%\n"
          ]
        },
        {
          "output_type": "stream",
          "name": "stderr",
          "text": [
            "Epoch 0:  15%|█▍        | 109/751 [00:02<00:13, 47.96batch/s, accuracy=23.4375%, loss=1.61]"
          ]
        },
        {
          "output_type": "stream",
          "name": "stdout",
          "text": [
            "GB | Epoch 0 | Loss: 1.6055277585983276 | Accuracy: 29.6875%\n",
            "GB | Epoch 0 | Loss: 1.6082614660263062 | Accuracy: 18.75%\n",
            "GB | Epoch 0 | Loss: 1.6122832298278809 | Accuracy: 18.75%\n",
            "GB | Epoch 0 | Loss: 1.5985491275787354 | Accuracy: 29.6875%\n",
            "GB | Epoch 0 | Loss: 1.609891653060913 | Accuracy: 20.3125%\n",
            "GB | Epoch 0 | Loss: 1.588000774383545 | Accuracy: 32.8125%\n",
            "GB | Epoch 0 | Loss: 1.6200441122055054 | Accuracy: 14.0625%\n",
            "GB | Epoch 0 | Loss: 1.609751582145691 | Accuracy: 20.3125%\n",
            "GB | Epoch 0 | Loss: 1.6100749969482422 | Accuracy: 18.75%\n",
            "GB | Epoch 0 | Loss: 1.6063566207885742 | Accuracy: 23.4375%\n"
          ]
        },
        {
          "output_type": "stream",
          "name": "stderr",
          "text": [
            "Epoch 0:  16%|█▌        | 119/751 [00:03<00:13, 47.68batch/s, accuracy=15.625%, loss=1.61]"
          ]
        },
        {
          "output_type": "stream",
          "name": "stdout",
          "text": [
            "GB | Epoch 0 | Loss: 1.6116118431091309 | Accuracy: 14.0625%\n",
            "GB | Epoch 0 | Loss: 1.607758641242981 | Accuracy: 18.75%\n",
            "GB | Epoch 0 | Loss: 1.5956355333328247 | Accuracy: 28.125%\n",
            "GB | Epoch 0 | Loss: 1.6182780265808105 | Accuracy: 12.5%\n",
            "GB | Epoch 0 | Loss: 1.6178280115127563 | Accuracy: 18.75%\n",
            "GB | Epoch 0 | Loss: 1.6159701347351074 | Accuracy: 17.1875%\n",
            "GB | Epoch 0 | Loss: 1.6179355382919312 | Accuracy: 17.1875%\n",
            "GB | Epoch 0 | Loss: 1.6123511791229248 | Accuracy: 17.1875%\n",
            "GB | Epoch 0 | Loss: 1.6156466007232666 | Accuracy: 15.625%\n",
            "GB | Epoch 0 | Loss: 1.6147723197937012 | Accuracy: 15.625%\n"
          ]
        },
        {
          "output_type": "stream",
          "name": "stderr",
          "text": [
            "Epoch 0:  17%|█▋        | 129/751 [00:03<00:12, 48.00batch/s, accuracy=18.75%, loss=1.61]"
          ]
        },
        {
          "output_type": "stream",
          "name": "stdout",
          "text": [
            "GB | Epoch 0 | Loss: 1.6135618686676025 | Accuracy: 15.625%\n",
            "GB | Epoch 0 | Loss: 1.6025265455245972 | Accuracy: 21.875%\n",
            "GB | Epoch 0 | Loss: 1.6056586503982544 | Accuracy: 23.4375%\n",
            "GB | Epoch 0 | Loss: 1.6124341487884521 | Accuracy: 15.625%\n",
            "GB | Epoch 0 | Loss: 1.597391963005066 | Accuracy: 25.0%\n",
            "GB | Epoch 0 | Loss: 1.6146857738494873 | Accuracy: 14.0625%\n",
            "GB | Epoch 0 | Loss: 1.596511960029602 | Accuracy: 29.6875%\n",
            "GB | Epoch 0 | Loss: 1.6115989685058594 | Accuracy: 12.5%\n",
            "GB | Epoch 0 | Loss: 1.604703426361084 | Accuracy: 25.0%\n",
            "GB | Epoch 0 | Loss: 1.6106398105621338 | Accuracy: 18.75%\n"
          ]
        },
        {
          "output_type": "stream",
          "name": "stderr",
          "text": [
            "Epoch 0:  19%|█▊        | 139/751 [00:03<00:13, 46.55batch/s, accuracy=20.3125%, loss=1.61]"
          ]
        },
        {
          "output_type": "stream",
          "name": "stdout",
          "text": [
            "GB | Epoch 0 | Loss: 1.5960005521774292 | Accuracy: 29.6875%\n",
            "GB | Epoch 0 | Loss: 1.607210636138916 | Accuracy: 21.875%\n",
            "GB | Epoch 0 | Loss: 1.617836594581604 | Accuracy: 15.625%\n",
            "GB | Epoch 0 | Loss: 1.607037901878357 | Accuracy: 15.625%\n",
            "GB | Epoch 0 | Loss: 1.6105867624282837 | Accuracy: 17.1875%\n",
            "GB | Epoch 0 | Loss: 1.6148465871810913 | Accuracy: 15.625%\n",
            "GB | Epoch 0 | Loss: 1.598865270614624 | Accuracy: 26.5625%\n",
            "GB | Epoch 0 | Loss: 1.6131073236465454 | Accuracy: 20.3125%\n",
            "GB | Epoch 0 | Loss: 1.601194143295288 | Accuracy: 23.4375%\n",
            "GB | Epoch 0 | Loss: 1.6094906330108643 | Accuracy: 20.3125%\n"
          ]
        },
        {
          "output_type": "stream",
          "name": "stderr",
          "text": [
            "Epoch 0:  20%|█▉        | 149/751 [00:03<00:12, 47.89batch/s, accuracy=9.375%, loss=1.62] "
          ]
        },
        {
          "output_type": "stream",
          "name": "stdout",
          "text": [
            "GB | Epoch 0 | Loss: 1.6158723831176758 | Accuracy: 14.0625%\n",
            "GB | Epoch 0 | Loss: 1.6063767671585083 | Accuracy: 15.625%\n",
            "GB | Epoch 0 | Loss: 1.6034575700759888 | Accuracy: 21.875%\n",
            "GB | Epoch 0 | Loss: 1.5968514680862427 | Accuracy: 20.3125%\n",
            "GB | Epoch 0 | Loss: 1.6088968515396118 | Accuracy: 18.75%\n",
            "GB | Epoch 0 | Loss: 1.6051546335220337 | Accuracy: 25.0%\n",
            "GB | Epoch 0 | Loss: 1.605878472328186 | Accuracy: 20.3125%\n",
            "GB | Epoch 0 | Loss: 1.6039223670959473 | Accuracy: 15.625%\n",
            "GB | Epoch 0 | Loss: 1.6144548654556274 | Accuracy: 14.0625%\n",
            "GB | Epoch 0 | Loss: 1.6082152128219604 | Accuracy: 21.875%\n",
            "GB | Epoch 0 | Loss: 1.6197426319122314 | Accuracy: 9.375%\n"
          ]
        },
        {
          "output_type": "stream",
          "name": "stderr",
          "text": [
            "Epoch 0:  21%|██        | 159/751 [00:04<00:12, 48.08batch/s, accuracy=18.75%, loss=1.6]   "
          ]
        },
        {
          "output_type": "stream",
          "name": "stdout",
          "text": [
            "GB | Epoch 0 | Loss: 1.6104027032852173 | Accuracy: 18.75%\n",
            "GB | Epoch 0 | Loss: 1.6036697626113892 | Accuracy: 20.3125%\n",
            "GB | Epoch 0 | Loss: 1.609782338142395 | Accuracy: 21.875%\n",
            "GB | Epoch 0 | Loss: 1.6204471588134766 | Accuracy: 15.625%\n",
            "GB | Epoch 0 | Loss: 1.611725091934204 | Accuracy: 10.9375%\n",
            "GB | Epoch 0 | Loss: 1.6092280149459839 | Accuracy: 18.75%\n",
            "GB | Epoch 0 | Loss: 1.6067079305648804 | Accuracy: 17.1875%\n",
            "GB | Epoch 0 | Loss: 1.6095064878463745 | Accuracy: 17.1875%\n",
            "GB | Epoch 0 | Loss: 1.6072533130645752 | Accuracy: 23.4375%\n",
            "GB | Epoch 0 | Loss: 1.6036121845245361 | Accuracy: 18.75%\n"
          ]
        },
        {
          "output_type": "stream",
          "name": "stderr",
          "text": [
            "Epoch 0:  23%|██▎       | 169/751 [00:04<00:12, 48.07batch/s, accuracy=28.125%, loss=1.6] "
          ]
        },
        {
          "output_type": "stream",
          "name": "stdout",
          "text": [
            "GB | Epoch 0 | Loss: 1.6109769344329834 | Accuracy: 10.9375%\n",
            "GB | Epoch 0 | Loss: 1.6052114963531494 | Accuracy: 23.4375%\n",
            "GB | Epoch 0 | Loss: 1.6209397315979004 | Accuracy: 9.375%\n",
            "GB | Epoch 0 | Loss: 1.610219120979309 | Accuracy: 18.75%\n",
            "GB | Epoch 0 | Loss: 1.6141482591629028 | Accuracy: 21.875%\n",
            "GB | Epoch 0 | Loss: 1.603762149810791 | Accuracy: 21.875%\n",
            "GB | Epoch 0 | Loss: 1.605269193649292 | Accuracy: 23.4375%\n",
            "GB | Epoch 0 | Loss: 1.6117277145385742 | Accuracy: 21.875%\n",
            "GB | Epoch 0 | Loss: 1.6036378145217896 | Accuracy: 14.0625%\n",
            "GB | Epoch 0 | Loss: 1.6029274463653564 | Accuracy: 28.125%\n"
          ]
        },
        {
          "output_type": "stream",
          "name": "stderr",
          "text": [
            "Epoch 0:  24%|██▍       | 179/751 [00:04<00:11, 48.37batch/s, accuracy=15.625%, loss=1.61]"
          ]
        },
        {
          "output_type": "stream",
          "name": "stdout",
          "text": [
            "GB | Epoch 0 | Loss: 1.5977839231491089 | Accuracy: 28.125%\n",
            "GB | Epoch 0 | Loss: 1.6095037460327148 | Accuracy: 14.0625%\n",
            "GB | Epoch 0 | Loss: 1.604800820350647 | Accuracy: 26.5625%\n",
            "GB | Epoch 0 | Loss: 1.6061476469039917 | Accuracy: 23.4375%\n",
            "GB | Epoch 0 | Loss: 1.607505202293396 | Accuracy: 20.3125%\n",
            "GB | Epoch 0 | Loss: 1.6054972410202026 | Accuracy: 21.875%\n",
            "GB | Epoch 0 | Loss: 1.6150463819503784 | Accuracy: 15.625%\n",
            "GB | Epoch 0 | Loss: 1.6002216339111328 | Accuracy: 32.8125%\n",
            "GB | Epoch 0 | Loss: 1.6055015325546265 | Accuracy: 15.625%\n",
            "GB | Epoch 0 | Loss: 1.606501817703247 | Accuracy: 15.625%\n"
          ]
        },
        {
          "output_type": "stream",
          "name": "stderr",
          "text": [
            "Epoch 0:  25%|██▌       | 189/751 [00:04<00:12, 46.00batch/s, accuracy=21.875%, loss=1.61]"
          ]
        },
        {
          "output_type": "stream",
          "name": "stdout",
          "text": [
            "GB | Epoch 0 | Loss: 1.600877046585083 | Accuracy: 15.625%\n",
            "GB | Epoch 0 | Loss: 1.6097369194030762 | Accuracy: 23.4375%\n",
            "GB | Epoch 0 | Loss: 1.601365327835083 | Accuracy: 20.3125%\n",
            "GB | Epoch 0 | Loss: 1.598457932472229 | Accuracy: 28.125%\n",
            "GB | Epoch 0 | Loss: 1.6020268201828003 | Accuracy: 17.1875%\n",
            "GB | Epoch 0 | Loss: 1.610714316368103 | Accuracy: 14.0625%\n",
            "GB | Epoch 0 | Loss: 1.60684072971344 | Accuracy: 20.3125%\n",
            "GB | Epoch 0 | Loss: 1.5978093147277832 | Accuracy: 34.375%\n",
            "GB | Epoch 0 | Loss: 1.6103174686431885 | Accuracy: 21.875%\n"
          ]
        },
        {
          "output_type": "stream",
          "name": "stderr",
          "text": [
            "Epoch 0:  26%|██▋       | 199/751 [00:04<00:11, 47.21batch/s, accuracy=29.6875%, loss=1.6]"
          ]
        },
        {
          "output_type": "stream",
          "name": "stdout",
          "text": [
            "GB | Epoch 0 | Loss: 1.5925897359848022 | Accuracy: 39.0625%\n",
            "GB | Epoch 0 | Loss: 1.6017175912857056 | Accuracy: 29.6875%\n",
            "GB | Epoch 0 | Loss: 1.611356258392334 | Accuracy: 20.3125%\n",
            "GB | Epoch 0 | Loss: 1.6011360883712769 | Accuracy: 25.0%\n",
            "GB | Epoch 0 | Loss: 1.6006492376327515 | Accuracy: 20.3125%\n",
            "GB | Epoch 0 | Loss: 1.6049697399139404 | Accuracy: 20.3125%\n",
            "GB | Epoch 0 | Loss: 1.6120145320892334 | Accuracy: 12.5%\n",
            "GB | Epoch 0 | Loss: 1.6105555295944214 | Accuracy: 18.75%\n",
            "GB | Epoch 0 | Loss: 1.6037333011627197 | Accuracy: 25.0%\n",
            "GB | Epoch 0 | Loss: 1.6027452945709229 | Accuracy: 29.6875%\n"
          ]
        },
        {
          "output_type": "stream",
          "name": "stderr",
          "text": [
            "Epoch 0:  28%|██▊       | 209/751 [00:05<00:11, 47.19batch/s, accuracy=28.125%, loss=1.61]"
          ]
        },
        {
          "output_type": "stream",
          "name": "stdout",
          "text": [
            "GB | Epoch 0 | Loss: 1.609723448753357 | Accuracy: 17.1875%\n",
            "GB | Epoch 0 | Loss: 1.6081740856170654 | Accuracy: 21.875%\n",
            "GB | Epoch 0 | Loss: 1.6081459522247314 | Accuracy: 17.1875%\n",
            "GB | Epoch 0 | Loss: 1.6189903020858765 | Accuracy: 12.5%\n",
            "GB | Epoch 0 | Loss: 1.60519278049469 | Accuracy: 25.0%\n",
            "GB | Epoch 0 | Loss: 1.6106525659561157 | Accuracy: 21.875%\n",
            "GB | Epoch 0 | Loss: 1.6054059267044067 | Accuracy: 23.4375%\n",
            "GB | Epoch 0 | Loss: 1.6029552221298218 | Accuracy: 23.4375%\n",
            "GB | Epoch 0 | Loss: 1.605095624923706 | Accuracy: 20.3125%\n",
            "GB | Epoch 0 | Loss: 1.6060338020324707 | Accuracy: 28.125%\n"
          ]
        },
        {
          "output_type": "stream",
          "name": "stderr",
          "text": [
            "Epoch 0:  29%|██▉       | 219/751 [00:05<00:11, 47.77batch/s, accuracy=18.75%, loss=1.61]"
          ]
        },
        {
          "output_type": "stream",
          "name": "stdout",
          "text": [
            "GB | Epoch 0 | Loss: 1.5905877351760864 | Accuracy: 31.25%\n",
            "GB | Epoch 0 | Loss: 1.59602689743042 | Accuracy: 28.125%\n",
            "GB | Epoch 0 | Loss: 1.6028659343719482 | Accuracy: 20.3125%\n",
            "GB | Epoch 0 | Loss: 1.6030941009521484 | Accuracy: 20.3125%\n",
            "GB | Epoch 0 | Loss: 1.606957197189331 | Accuracy: 26.5625%\n",
            "GB | Epoch 0 | Loss: 1.5988712310791016 | Accuracy: 28.125%\n",
            "GB | Epoch 0 | Loss: 1.6061407327651978 | Accuracy: 23.4375%\n",
            "GB | Epoch 0 | Loss: 1.6038267612457275 | Accuracy: 23.4375%\n",
            "GB | Epoch 0 | Loss: 1.5983576774597168 | Accuracy: 17.1875%\n",
            "GB | Epoch 0 | Loss: 1.6076990365982056 | Accuracy: 18.75%\n"
          ]
        },
        {
          "output_type": "stream",
          "name": "stderr",
          "text": [
            "Epoch 0:  30%|██▉       | 224/751 [00:05<00:11, 47.61batch/s, accuracy=14.0625%, loss=1.62]"
          ]
        },
        {
          "output_type": "stream",
          "name": "stdout",
          "text": [
            "GB | Epoch 0 | Loss: 1.6036324501037598 | Accuracy: 15.625%\n",
            "GB | Epoch 0 | Loss: 1.6135133504867554 | Accuracy: 17.1875%\n",
            "GB | Epoch 0 | Loss: 1.608012080192566 | Accuracy: 23.4375%\n",
            "GB | Epoch 0 | Loss: 1.6038217544555664 | Accuracy: 20.3125%\n",
            "GB | Epoch 0 | Loss: 1.6020350456237793 | Accuracy: 26.5625%\n",
            "GB | Epoch 0 | Loss: 1.6109473705291748 | Accuracy: 18.75%\n",
            "GB | Epoch 0 | Loss: 1.614764928817749 | Accuracy: 20.3125%\n",
            "GB | Epoch 0 | Loss: 1.6197847127914429 | Accuracy: 14.0625%\n"
          ]
        },
        {
          "output_type": "stream",
          "name": "stderr",
          "text": [
            "Epoch 0:  30%|███       | 229/751 [00:05<00:13, 37.57batch/s, accuracy=25.0%, loss=1.61]  "
          ]
        },
        {
          "output_type": "stream",
          "name": "stdout",
          "text": [
            "GB | Epoch 0 | Loss: 1.5997897386550903 | Accuracy: 32.8125%\n",
            "GB | Epoch 0 | Loss: 1.6008822917938232 | Accuracy: 23.4375%\n",
            "GB | Epoch 0 | Loss: 1.6032055616378784 | Accuracy: 28.125%\n",
            "GB | Epoch 0 | Loss: 1.6101998090744019 | Accuracy: 21.875%\n",
            "GB | Epoch 0 | Loss: 1.6033658981323242 | Accuracy: 29.6875%\n",
            "GB | Epoch 0 | Loss: 1.6061856746673584 | Accuracy: 25.0%\n"
          ]
        },
        {
          "output_type": "stream",
          "name": "stderr",
          "text": [
            "Epoch 0:  32%|███▏      | 238/751 [00:05<00:17, 29.51batch/s, accuracy=29.6875%, loss=1.6]"
          ]
        },
        {
          "output_type": "stream",
          "name": "stdout",
          "text": [
            "GB | Epoch 0 | Loss: 1.6089626550674438 | Accuracy: 21.875%\n",
            "GB | Epoch 0 | Loss: 1.596958875656128 | Accuracy: 31.25%\n",
            "GB | Epoch 0 | Loss: 1.6066328287124634 | Accuracy: 23.4375%\n",
            "GB | Epoch 0 | Loss: 1.6054633855819702 | Accuracy: 28.125%\n",
            "GB | Epoch 0 | Loss: 1.60317063331604 | Accuracy: 18.75%\n",
            "GB | Epoch 0 | Loss: 1.599137544631958 | Accuracy: 29.6875%\n",
            "GB | Epoch 0 | Loss: 1.6025973558425903 | Accuracy: 29.6875%\n"
          ]
        },
        {
          "output_type": "stream",
          "name": "stderr",
          "text": [
            "Epoch 0:  33%|███▎      | 248/751 [00:06<00:13, 37.07batch/s, accuracy=10.9375%, loss=1.62]"
          ]
        },
        {
          "output_type": "stream",
          "name": "stdout",
          "text": [
            "GB | Epoch 0 | Loss: 1.6057087182998657 | Accuracy: 25.0%\n",
            "GB | Epoch 0 | Loss: 1.6017124652862549 | Accuracy: 29.6875%\n",
            "GB | Epoch 0 | Loss: 1.6069936752319336 | Accuracy: 23.4375%\n",
            "GB | Epoch 0 | Loss: 1.6030921936035156 | Accuracy: 25.0%\n",
            "GB | Epoch 0 | Loss: 1.611871361732483 | Accuracy: 23.4375%\n",
            "GB | Epoch 0 | Loss: 1.6185227632522583 | Accuracy: 14.0625%\n",
            "GB | Epoch 0 | Loss: 1.6109739542007446 | Accuracy: 23.4375%\n",
            "GB | Epoch 0 | Loss: 1.6085786819458008 | Accuracy: 29.6875%\n",
            "GB | Epoch 0 | Loss: 1.6005140542984009 | Accuracy: 26.5625%\n",
            "GB | Epoch 0 | Loss: 1.6168509721755981 | Accuracy: 10.9375%\n"
          ]
        },
        {
          "output_type": "stream",
          "name": "stderr",
          "text": [
            "Epoch 0:  34%|███▍      | 258/751 [00:06<00:11, 41.86batch/s, accuracy=31.25%, loss=1.6] "
          ]
        },
        {
          "output_type": "stream",
          "name": "stdout",
          "text": [
            "GB | Epoch 0 | Loss: 1.6046302318572998 | Accuracy: 23.4375%\n",
            "GB | Epoch 0 | Loss: 1.597333550453186 | Accuracy: 34.375%\n",
            "GB | Epoch 0 | Loss: 1.5968618392944336 | Accuracy: 35.9375%\n",
            "GB | Epoch 0 | Loss: 1.6014221906661987 | Accuracy: 28.125%\n",
            "GB | Epoch 0 | Loss: 1.603494644165039 | Accuracy: 25.0%\n",
            "GB | Epoch 0 | Loss: 1.6066824197769165 | Accuracy: 26.5625%\n",
            "GB | Epoch 0 | Loss: 1.6065762042999268 | Accuracy: 23.4375%\n",
            "GB | Epoch 0 | Loss: 1.6014177799224854 | Accuracy: 32.8125%\n",
            "GB | Epoch 0 | Loss: 1.5976929664611816 | Accuracy: 28.125%\n",
            "GB | Epoch 0 | Loss: 1.6027705669403076 | Accuracy: 31.25%\n"
          ]
        },
        {
          "output_type": "stream",
          "name": "stderr",
          "text": [
            "Epoch 0:  36%|███▌      | 268/751 [00:06<00:10, 44.74batch/s, accuracy=31.25%, loss=1.6]   "
          ]
        },
        {
          "output_type": "stream",
          "name": "stdout",
          "text": [
            "GB | Epoch 0 | Loss: 1.6040294170379639 | Accuracy: 34.375%\n",
            "GB | Epoch 0 | Loss: 1.606428623199463 | Accuracy: 21.875%\n",
            "GB | Epoch 0 | Loss: 1.6056581735610962 | Accuracy: 26.5625%\n",
            "GB | Epoch 0 | Loss: 1.6045275926589966 | Accuracy: 32.8125%\n",
            "GB | Epoch 0 | Loss: 1.5999348163604736 | Accuracy: 28.125%\n",
            "GB | Epoch 0 | Loss: 1.6108146905899048 | Accuracy: 17.1875%\n",
            "GB | Epoch 0 | Loss: 1.607642412185669 | Accuracy: 23.4375%\n",
            "GB | Epoch 0 | Loss: 1.6169979572296143 | Accuracy: 15.625%\n",
            "GB | Epoch 0 | Loss: 1.611308217048645 | Accuracy: 20.3125%\n",
            "GB | Epoch 0 | Loss: 1.599597454071045 | Accuracy: 31.25%\n"
          ]
        },
        {
          "output_type": "stream",
          "name": "stderr",
          "text": [
            "Epoch 0:  37%|███▋      | 278/751 [00:06<00:10, 45.70batch/s, accuracy=35.9375%, loss=1.6]"
          ]
        },
        {
          "output_type": "stream",
          "name": "stdout",
          "text": [
            "GB | Epoch 0 | Loss: 1.6032781600952148 | Accuracy: 26.5625%\n",
            "GB | Epoch 0 | Loss: 1.6018033027648926 | Accuracy: 29.6875%\n",
            "GB | Epoch 0 | Loss: 1.599485158920288 | Accuracy: 32.8125%\n",
            "GB | Epoch 0 | Loss: 1.6107269525527954 | Accuracy: 20.3125%\n",
            "GB | Epoch 0 | Loss: 1.5964137315750122 | Accuracy: 26.5625%\n",
            "GB | Epoch 0 | Loss: 1.6023149490356445 | Accuracy: 34.375%\n",
            "GB | Epoch 0 | Loss: 1.5987828969955444 | Accuracy: 32.8125%\n",
            "GB | Epoch 0 | Loss: 1.6040514707565308 | Accuracy: 23.4375%\n",
            "GB | Epoch 0 | Loss: 1.6018229722976685 | Accuracy: 29.6875%\n",
            "GB | Epoch 0 | Loss: 1.5958616733551025 | Accuracy: 35.9375%\n"
          ]
        },
        {
          "output_type": "stream",
          "name": "stderr",
          "text": [
            "Epoch 0:  38%|███▊      | 288/751 [00:07<00:10, 46.12batch/s, accuracy=35.9375%, loss=1.6]"
          ]
        },
        {
          "output_type": "stream",
          "name": "stdout",
          "text": [
            "GB | Epoch 0 | Loss: 1.5984083414077759 | Accuracy: 34.375%\n",
            "GB | Epoch 0 | Loss: 1.6003655195236206 | Accuracy: 31.25%\n",
            "GB | Epoch 0 | Loss: 1.6047964096069336 | Accuracy: 26.5625%\n",
            "GB | Epoch 0 | Loss: 1.6027315855026245 | Accuracy: 31.25%\n",
            "GB | Epoch 0 | Loss: 1.6044762134552002 | Accuracy: 23.4375%\n",
            "GB | Epoch 0 | Loss: 1.6091777086257935 | Accuracy: 26.5625%\n",
            "GB | Epoch 0 | Loss: 1.6015809774398804 | Accuracy: 31.25%\n",
            "GB | Epoch 0 | Loss: 1.6078832149505615 | Accuracy: 28.125%\n",
            "GB | Epoch 0 | Loss: 1.6079012155532837 | Accuracy: 25.0%\n",
            "GB | Epoch 0 | Loss: 1.5955153703689575 | Accuracy: 35.9375%\n"
          ]
        },
        {
          "output_type": "stream",
          "name": "stderr",
          "text": [
            "Epoch 0:  40%|███▉      | 298/751 [00:07<00:09, 46.87batch/s, accuracy=15.625%, loss=1.61]"
          ]
        },
        {
          "output_type": "stream",
          "name": "stdout",
          "text": [
            "GB | Epoch 0 | Loss: 1.5930302143096924 | Accuracy: 40.625%\n",
            "GB | Epoch 0 | Loss: 1.6056960821151733 | Accuracy: 28.125%\n",
            "GB | Epoch 0 | Loss: 1.5937949419021606 | Accuracy: 39.0625%\n",
            "GB | Epoch 0 | Loss: 1.6006823778152466 | Accuracy: 29.6875%\n",
            "GB | Epoch 0 | Loss: 1.604097843170166 | Accuracy: 26.5625%\n",
            "GB | Epoch 0 | Loss: 1.6105539798736572 | Accuracy: 18.75%\n",
            "GB | Epoch 0 | Loss: 1.6044470071792603 | Accuracy: 25.0%\n",
            "GB | Epoch 0 | Loss: 1.6061835289001465 | Accuracy: 26.5625%\n",
            "GB | Epoch 0 | Loss: 1.6006728410720825 | Accuracy: 26.5625%\n",
            "GB | Epoch 0 | Loss: 1.6115232706069946 | Accuracy: 15.625%\n"
          ]
        },
        {
          "output_type": "stream",
          "name": "stderr",
          "text": [
            "Epoch 0:  41%|████      | 308/751 [00:07<00:09, 46.70batch/s, accuracy=18.75%, loss=1.61]"
          ]
        },
        {
          "output_type": "stream",
          "name": "stdout",
          "text": [
            "GB | Epoch 0 | Loss: 1.6046051979064941 | Accuracy: 25.0%\n",
            "GB | Epoch 0 | Loss: 1.6060148477554321 | Accuracy: 26.5625%\n",
            "GB | Epoch 0 | Loss: 1.6008065938949585 | Accuracy: 34.375%\n",
            "GB | Epoch 0 | Loss: 1.6123501062393188 | Accuracy: 21.875%\n",
            "GB | Epoch 0 | Loss: 1.5995674133300781 | Accuracy: 31.25%\n",
            "GB | Epoch 0 | Loss: 1.6000598669052124 | Accuracy: 35.9375%\n",
            "GB | Epoch 0 | Loss: 1.6022844314575195 | Accuracy: 28.125%\n",
            "GB | Epoch 0 | Loss: 1.593912124633789 | Accuracy: 39.0625%\n",
            "GB | Epoch 0 | Loss: 1.60365891456604 | Accuracy: 25.0%\n",
            "GB | Epoch 0 | Loss: 1.6141033172607422 | Accuracy: 18.75%\n"
          ]
        },
        {
          "output_type": "stream",
          "name": "stderr",
          "text": [
            "Epoch 0:  42%|████▏     | 318/751 [00:07<00:09, 44.92batch/s, accuracy=26.5625%, loss=1.6] "
          ]
        },
        {
          "output_type": "stream",
          "name": "stdout",
          "text": [
            "GB | Epoch 0 | Loss: 1.6040629148483276 | Accuracy: 29.6875%\n",
            "GB | Epoch 0 | Loss: 1.6018025875091553 | Accuracy: 28.125%\n",
            "GB | Epoch 0 | Loss: 1.6030105352401733 | Accuracy: 29.6875%\n",
            "GB | Epoch 0 | Loss: 1.606120228767395 | Accuracy: 25.0%\n",
            "GB | Epoch 0 | Loss: 1.5982831716537476 | Accuracy: 26.5625%\n",
            "GB | Epoch 0 | Loss: 1.604113221168518 | Accuracy: 23.4375%\n",
            "GB | Epoch 0 | Loss: 1.6052805185317993 | Accuracy: 25.0%\n",
            "GB | Epoch 0 | Loss: 1.6100032329559326 | Accuracy: 23.4375%\n",
            "GB | Epoch 0 | Loss: 1.6030193567276 | Accuracy: 26.5625%\n"
          ]
        },
        {
          "output_type": "stream",
          "name": "stderr",
          "text": [
            "Epoch 0:  44%|████▎     | 328/751 [00:07<00:09, 46.75batch/s, accuracy=26.5625%, loss=1.6]"
          ]
        },
        {
          "output_type": "stream",
          "name": "stdout",
          "text": [
            "GB | Epoch 0 | Loss: 1.600825548171997 | Accuracy: 28.125%\n",
            "GB | Epoch 0 | Loss: 1.604702353477478 | Accuracy: 23.4375%\n",
            "GB | Epoch 0 | Loss: 1.6036618947982788 | Accuracy: 26.5625%\n",
            "GB | Epoch 0 | Loss: 1.604851484298706 | Accuracy: 31.25%\n",
            "GB | Epoch 0 | Loss: 1.606310248374939 | Accuracy: 23.4375%\n",
            "GB | Epoch 0 | Loss: 1.6003650426864624 | Accuracy: 28.125%\n",
            "GB | Epoch 0 | Loss: 1.6018651723861694 | Accuracy: 28.125%\n",
            "GB | Epoch 0 | Loss: 1.5981956720352173 | Accuracy: 35.9375%\n",
            "GB | Epoch 0 | Loss: 1.5997470617294312 | Accuracy: 31.25%\n",
            "GB | Epoch 0 | Loss: 1.602494239807129 | Accuracy: 26.5625%\n"
          ]
        },
        {
          "output_type": "stream",
          "name": "stderr",
          "text": [
            "Epoch 0:  45%|████▌     | 338/751 [00:08<00:08, 46.84batch/s, accuracy=20.3125%, loss=1.61]"
          ]
        },
        {
          "output_type": "stream",
          "name": "stdout",
          "text": [
            "GB | Epoch 0 | Loss: 1.6147984266281128 | Accuracy: 17.1875%\n",
            "GB | Epoch 0 | Loss: 1.6022967100143433 | Accuracy: 28.125%\n",
            "GB | Epoch 0 | Loss: 1.6023794412612915 | Accuracy: 29.6875%\n",
            "GB | Epoch 0 | Loss: 1.5971274375915527 | Accuracy: 37.5%\n",
            "GB | Epoch 0 | Loss: 1.5994504690170288 | Accuracy: 25.0%\n",
            "GB | Epoch 0 | Loss: 1.6033008098602295 | Accuracy: 21.875%\n",
            "GB | Epoch 0 | Loss: 1.5998646020889282 | Accuracy: 29.6875%\n",
            "GB | Epoch 0 | Loss: 1.5981813669204712 | Accuracy: 31.25%\n",
            "GB | Epoch 0 | Loss: 1.6006848812103271 | Accuracy: 29.6875%\n",
            "GB | Epoch 0 | Loss: 1.6105358600616455 | Accuracy: 20.3125%\n"
          ]
        },
        {
          "output_type": "stream",
          "name": "stderr",
          "text": [
            "Epoch 0:  46%|████▋     | 348/751 [00:08<00:08, 47.24batch/s, accuracy=25.0%, loss=1.61]"
          ]
        },
        {
          "output_type": "stream",
          "name": "stdout",
          "text": [
            "GB | Epoch 0 | Loss: 1.6007245779037476 | Accuracy: 28.125%\n",
            "GB | Epoch 0 | Loss: 1.6049915552139282 | Accuracy: 23.4375%\n",
            "GB | Epoch 0 | Loss: 1.6066969633102417 | Accuracy: 20.3125%\n",
            "GB | Epoch 0 | Loss: 1.6070846319198608 | Accuracy: 18.75%\n",
            "GB | Epoch 0 | Loss: 1.6031534671783447 | Accuracy: 23.4375%\n",
            "GB | Epoch 0 | Loss: 1.6106514930725098 | Accuracy: 17.1875%\n",
            "GB | Epoch 0 | Loss: 1.591681718826294 | Accuracy: 35.9375%\n",
            "GB | Epoch 0 | Loss: 1.604651927947998 | Accuracy: 21.875%\n",
            "GB | Epoch 0 | Loss: 1.6043819189071655 | Accuracy: 25.0%\n",
            "GB | Epoch 0 | Loss: 1.6108802556991577 | Accuracy: 25.0%\n"
          ]
        },
        {
          "output_type": "stream",
          "name": "stderr",
          "text": [
            "Epoch 0:  48%|████▊     | 358/751 [00:08<00:08, 47.63batch/s, accuracy=18.75%, loss=1.6]  "
          ]
        },
        {
          "output_type": "stream",
          "name": "stdout",
          "text": [
            "GB | Epoch 0 | Loss: 1.5989863872528076 | Accuracy: 29.6875%\n",
            "GB | Epoch 0 | Loss: 1.601665735244751 | Accuracy: 28.125%\n",
            "GB | Epoch 0 | Loss: 1.5948486328125 | Accuracy: 34.375%\n",
            "GB | Epoch 0 | Loss: 1.6002082824707031 | Accuracy: 26.5625%\n",
            "GB | Epoch 0 | Loss: 1.604177474975586 | Accuracy: 23.4375%\n",
            "GB | Epoch 0 | Loss: 1.5965006351470947 | Accuracy: 28.125%\n",
            "GB | Epoch 0 | Loss: 1.59853196144104 | Accuracy: 25.0%\n",
            "GB | Epoch 0 | Loss: 1.5941827297210693 | Accuracy: 34.375%\n",
            "GB | Epoch 0 | Loss: 1.6053094863891602 | Accuracy: 21.875%\n",
            "GB | Epoch 0 | Loss: 1.5997434854507446 | Accuracy: 18.75%\n"
          ]
        },
        {
          "output_type": "stream",
          "name": "stderr",
          "text": [
            "Epoch 0:  49%|████▉     | 368/751 [00:08<00:08, 45.17batch/s, accuracy=28.125%, loss=1.6]"
          ]
        },
        {
          "output_type": "stream",
          "name": "stdout",
          "text": [
            "GB | Epoch 0 | Loss: 1.6061468124389648 | Accuracy: 18.75%\n",
            "GB | Epoch 0 | Loss: 1.5973516702651978 | Accuracy: 29.6875%\n",
            "GB | Epoch 0 | Loss: 1.5975903272628784 | Accuracy: 31.25%\n",
            "GB | Epoch 0 | Loss: 1.60138738155365 | Accuracy: 23.4375%\n",
            "GB | Epoch 0 | Loss: 1.6030203104019165 | Accuracy: 31.25%\n",
            "GB | Epoch 0 | Loss: 1.6093266010284424 | Accuracy: 18.75%\n",
            "GB | Epoch 0 | Loss: 1.5942727327346802 | Accuracy: 31.25%\n",
            "GB | Epoch 0 | Loss: 1.6010026931762695 | Accuracy: 23.4375%\n",
            "GB | Epoch 0 | Loss: 1.6018123626708984 | Accuracy: 28.125%\n"
          ]
        },
        {
          "output_type": "stream",
          "name": "stderr",
          "text": [
            "Epoch 0:  50%|█████     | 378/751 [00:08<00:08, 46.61batch/s, accuracy=25.0%, loss=1.6]"
          ]
        },
        {
          "output_type": "stream",
          "name": "stdout",
          "text": [
            "GB | Epoch 0 | Loss: 1.6027885675430298 | Accuracy: 20.3125%\n",
            "GB | Epoch 0 | Loss: 1.5927400588989258 | Accuracy: 39.0625%\n",
            "GB | Epoch 0 | Loss: 1.5991774797439575 | Accuracy: 25.0%\n",
            "GB | Epoch 0 | Loss: 1.6014894247055054 | Accuracy: 26.5625%\n",
            "GB | Epoch 0 | Loss: 1.6038564443588257 | Accuracy: 21.875%\n",
            "GB | Epoch 0 | Loss: 1.6039602756500244 | Accuracy: 21.875%\n",
            "GB | Epoch 0 | Loss: 1.605329155921936 | Accuracy: 25.0%\n",
            "GB | Epoch 0 | Loss: 1.6139706373214722 | Accuracy: 17.1875%\n",
            "GB | Epoch 0 | Loss: 1.594720721244812 | Accuracy: 31.25%\n",
            "GB | Epoch 0 | Loss: 1.6023526191711426 | Accuracy: 25.0%\n"
          ]
        },
        {
          "output_type": "stream",
          "name": "stderr",
          "text": [
            "Epoch 0:  52%|█████▏    | 388/751 [00:09<00:07, 46.66batch/s, accuracy=29.6875%, loss=1.6]"
          ]
        },
        {
          "output_type": "stream",
          "name": "stdout",
          "text": [
            "GB | Epoch 0 | Loss: 1.60084867477417 | Accuracy: 26.5625%\n",
            "GB | Epoch 0 | Loss: 1.6014158725738525 | Accuracy: 21.875%\n",
            "GB | Epoch 0 | Loss: 1.5973845720291138 | Accuracy: 23.4375%\n",
            "GB | Epoch 0 | Loss: 1.5922331809997559 | Accuracy: 35.9375%\n",
            "GB | Epoch 0 | Loss: 1.596206784248352 | Accuracy: 28.125%\n",
            "GB | Epoch 0 | Loss: 1.594431757926941 | Accuracy: 34.375%\n",
            "GB | Epoch 0 | Loss: 1.6022427082061768 | Accuracy: 23.4375%\n",
            "GB | Epoch 0 | Loss: 1.5971667766571045 | Accuracy: 29.6875%\n",
            "GB | Epoch 0 | Loss: 1.6023101806640625 | Accuracy: 21.875%\n",
            "GB | Epoch 0 | Loss: 1.5960055589675903 | Accuracy: 29.6875%\n"
          ]
        },
        {
          "output_type": "stream",
          "name": "stderr",
          "text": [
            "Epoch 0:  53%|█████▎    | 398/751 [00:09<00:07, 46.14batch/s, accuracy=28.125%, loss=1.6]"
          ]
        },
        {
          "output_type": "stream",
          "name": "stdout",
          "text": [
            "GB | Epoch 0 | Loss: 1.598968744277954 | Accuracy: 25.0%\n",
            "GB | Epoch 0 | Loss: 1.603683352470398 | Accuracy: 23.4375%\n",
            "GB | Epoch 0 | Loss: 1.5966768264770508 | Accuracy: 25.0%\n",
            "GB | Epoch 0 | Loss: 1.5977305173873901 | Accuracy: 26.5625%\n",
            "GB | Epoch 0 | Loss: 1.6027562618255615 | Accuracy: 21.875%\n",
            "GB | Epoch 0 | Loss: 1.6057460308074951 | Accuracy: 20.3125%\n",
            "GB | Epoch 0 | Loss: 1.5997686386108398 | Accuracy: 29.6875%\n",
            "GB | Epoch 0 | Loss: 1.6037518978118896 | Accuracy: 20.3125%\n",
            "GB | Epoch 0 | Loss: 1.6056773662567139 | Accuracy: 26.5625%\n",
            "GB | Epoch 0 | Loss: 1.5968326330184937 | Accuracy: 28.125%\n"
          ]
        },
        {
          "output_type": "stream",
          "name": "stderr",
          "text": [
            "Epoch 0:  54%|█████▎    | 403/751 [00:09<00:07, 45.56batch/s, accuracy=32.8125%, loss=1.59]"
          ]
        },
        {
          "output_type": "stream",
          "name": "stdout",
          "text": [
            "GB | Epoch 0 | Loss: 1.6080398559570312 | Accuracy: 20.3125%\n",
            "GB | Epoch 0 | Loss: 1.599310040473938 | Accuracy: 29.6875%\n",
            "GB | Epoch 0 | Loss: 1.5934234857559204 | Accuracy: 32.8125%\n",
            "GB | Epoch 0 | Loss: 1.6002237796783447 | Accuracy: 28.125%\n",
            "GB | Epoch 0 | Loss: 1.593517780303955 | Accuracy: 28.125%\n",
            "GB | Epoch 0 | Loss: 1.6011803150177002 | Accuracy: 28.125%\n",
            "GB | Epoch 0 | Loss: 1.5915453433990479 | Accuracy: 32.8125%\n",
            "GB | Epoch 0 | Loss: 1.6002254486083984 | Accuracy: 26.5625%\n",
            "GB | Epoch 0 | Loss: 1.5966088771820068 | Accuracy: 26.5625%\n"
          ]
        },
        {
          "output_type": "stream",
          "name": "stderr",
          "text": [
            "Epoch 0:  55%|█████▍    | 413/751 [00:09<00:07, 45.16batch/s, accuracy=34.375%, loss=1.59]"
          ]
        },
        {
          "output_type": "stream",
          "name": "stdout",
          "text": [
            "GB | Epoch 0 | Loss: 1.5909868478775024 | Accuracy: 32.8125%\n",
            "GB | Epoch 0 | Loss: 1.597320795059204 | Accuracy: 29.6875%\n",
            "GB | Epoch 0 | Loss: 1.592673659324646 | Accuracy: 31.25%\n",
            "GB | Epoch 0 | Loss: 1.5912537574768066 | Accuracy: 35.9375%\n",
            "GB | Epoch 0 | Loss: 1.6055967807769775 | Accuracy: 20.3125%\n",
            "GB | Epoch 0 | Loss: 1.5943238735198975 | Accuracy: 34.375%\n",
            "GB | Epoch 0 | Loss: 1.596637487411499 | Accuracy: 28.125%\n",
            "GB | Epoch 0 | Loss: 1.596034288406372 | Accuracy: 28.125%\n",
            "GB | Epoch 0 | Loss: 1.5944890975952148 | Accuracy: 34.375%\n"
          ]
        },
        {
          "output_type": "stream",
          "name": "stderr",
          "text": [
            "Epoch 0:  56%|█████▋    | 423/751 [00:10<00:07, 45.30batch/s, accuracy=37.5%, loss=1.6]  "
          ]
        },
        {
          "output_type": "stream",
          "name": "stdout",
          "text": [
            "GB | Epoch 0 | Loss: 1.6065325736999512 | Accuracy: 23.4375%\n",
            "GB | Epoch 0 | Loss: 1.5886223316192627 | Accuracy: 43.75%\n",
            "GB | Epoch 0 | Loss: 1.6016933917999268 | Accuracy: 25.0%\n",
            "GB | Epoch 0 | Loss: 1.6006675958633423 | Accuracy: 23.4375%\n",
            "GB | Epoch 0 | Loss: 1.600575566291809 | Accuracy: 25.0%\n",
            "GB | Epoch 0 | Loss: 1.5927608013153076 | Accuracy: 34.375%\n",
            "GB | Epoch 0 | Loss: 1.5998278856277466 | Accuracy: 25.0%\n",
            "GB | Epoch 0 | Loss: 1.595065951347351 | Accuracy: 31.25%\n",
            "GB | Epoch 0 | Loss: 1.5965135097503662 | Accuracy: 34.375%\n",
            "GB | Epoch 0 | Loss: 1.5969358682632446 | Accuracy: 37.5%\n"
          ]
        },
        {
          "output_type": "stream",
          "name": "stderr",
          "text": [
            "Epoch 0:  58%|█████▊    | 433/751 [00:10<00:06, 45.70batch/s, accuracy=34.375%, loss=1.59]"
          ]
        },
        {
          "output_type": "stream",
          "name": "stdout",
          "text": [
            "GB | Epoch 0 | Loss: 1.6021602153778076 | Accuracy: 26.5625%\n",
            "GB | Epoch 0 | Loss: 1.5966475009918213 | Accuracy: 29.6875%\n",
            "GB | Epoch 0 | Loss: 1.5910252332687378 | Accuracy: 32.8125%\n",
            "GB | Epoch 0 | Loss: 1.5861176252365112 | Accuracy: 34.375%\n",
            "GB | Epoch 0 | Loss: 1.598144769668579 | Accuracy: 23.4375%\n",
            "GB | Epoch 0 | Loss: 1.593613624572754 | Accuracy: 29.6875%\n",
            "GB | Epoch 0 | Loss: 1.5888227224349976 | Accuracy: 43.75%\n",
            "GB | Epoch 0 | Loss: 1.5904854536056519 | Accuracy: 39.0625%\n",
            "GB | Epoch 0 | Loss: 1.591267704963684 | Accuracy: 31.25%\n",
            "GB | Epoch 0 | Loss: 1.5941689014434814 | Accuracy: 34.375%\n"
          ]
        },
        {
          "output_type": "stream",
          "name": "stderr",
          "text": [
            "Epoch 0:  59%|█████▉    | 443/751 [00:10<00:06, 46.54batch/s, accuracy=32.8125%, loss=1.6]"
          ]
        },
        {
          "output_type": "stream",
          "name": "stdout",
          "text": [
            "GB | Epoch 0 | Loss: 1.600602626800537 | Accuracy: 20.3125%\n",
            "GB | Epoch 0 | Loss: 1.5996321439743042 | Accuracy: 32.8125%\n",
            "GB | Epoch 0 | Loss: 1.5963584184646606 | Accuracy: 35.9375%\n",
            "GB | Epoch 0 | Loss: 1.5862632989883423 | Accuracy: 37.5%\n",
            "GB | Epoch 0 | Loss: 1.5939717292785645 | Accuracy: 35.9375%\n",
            "GB | Epoch 0 | Loss: 1.5995038747787476 | Accuracy: 25.0%\n",
            "GB | Epoch 0 | Loss: 1.5862027406692505 | Accuracy: 40.625%\n",
            "GB | Epoch 0 | Loss: 1.5998014211654663 | Accuracy: 21.875%\n",
            "GB | Epoch 0 | Loss: 1.5936362743377686 | Accuracy: 34.375%\n",
            "GB | Epoch 0 | Loss: 1.5965235233306885 | Accuracy: 32.8125%\n"
          ]
        },
        {
          "output_type": "stream",
          "name": "stderr",
          "text": [
            "Epoch 0:  60%|██████    | 453/751 [00:10<00:06, 47.16batch/s, accuracy=31.25%, loss=1.59]  "
          ]
        },
        {
          "output_type": "stream",
          "name": "stdout",
          "text": [
            "GB | Epoch 0 | Loss: 1.6019854545593262 | Accuracy: 26.5625%\n",
            "GB | Epoch 0 | Loss: 1.574640154838562 | Accuracy: 43.75%\n",
            "GB | Epoch 0 | Loss: 1.5954105854034424 | Accuracy: 34.375%\n",
            "GB | Epoch 0 | Loss: 1.5990262031555176 | Accuracy: 26.5625%\n",
            "GB | Epoch 0 | Loss: 1.599526286125183 | Accuracy: 28.125%\n",
            "GB | Epoch 0 | Loss: 1.5924595594406128 | Accuracy: 35.9375%\n",
            "GB | Epoch 0 | Loss: 1.5921998023986816 | Accuracy: 26.5625%\n",
            "GB | Epoch 0 | Loss: 1.5936869382858276 | Accuracy: 29.6875%\n",
            "GB | Epoch 0 | Loss: 1.5898114442825317 | Accuracy: 29.6875%\n",
            "GB | Epoch 0 | Loss: 1.5920894145965576 | Accuracy: 31.25%\n"
          ]
        },
        {
          "output_type": "stream",
          "name": "stderr",
          "text": [
            "Epoch 0:  62%|██████▏   | 463/751 [00:10<00:06, 45.05batch/s, accuracy=40.625%, loss=1.58]"
          ]
        },
        {
          "output_type": "stream",
          "name": "stdout",
          "text": [
            "GB | Epoch 0 | Loss: 1.5927107334136963 | Accuracy: 34.375%\n",
            "GB | Epoch 0 | Loss: 1.590980887413025 | Accuracy: 26.5625%\n",
            "GB | Epoch 0 | Loss: 1.591998815536499 | Accuracy: 32.8125%\n",
            "GB | Epoch 0 | Loss: 1.598839282989502 | Accuracy: 28.125%\n",
            "GB | Epoch 0 | Loss: 1.5992431640625 | Accuracy: 29.6875%\n",
            "GB | Epoch 0 | Loss: 1.5942740440368652 | Accuracy: 29.6875%\n",
            "GB | Epoch 0 | Loss: 1.5972172021865845 | Accuracy: 25.0%\n",
            "GB | Epoch 0 | Loss: 1.5957319736480713 | Accuracy: 23.4375%\n",
            "GB | Epoch 0 | Loss: 1.578091025352478 | Accuracy: 40.625%\n"
          ]
        },
        {
          "output_type": "stream",
          "name": "stderr",
          "text": [
            "Epoch 0:  62%|██████▏   | 468/751 [00:11<00:06, 42.94batch/s, accuracy=26.5625%, loss=1.6] "
          ]
        },
        {
          "output_type": "stream",
          "name": "stdout",
          "text": [
            "GB | Epoch 0 | Loss: 1.591231107711792 | Accuracy: 29.6875%\n",
            "GB | Epoch 0 | Loss: 1.5907295942306519 | Accuracy: 25.0%\n",
            "GB | Epoch 0 | Loss: 1.5797817707061768 | Accuracy: 42.1875%\n",
            "GB | Epoch 0 | Loss: 1.59541654586792 | Accuracy: 26.5625%\n",
            "GB | Epoch 0 | Loss: 1.5862516164779663 | Accuracy: 39.0625%\n",
            "GB | Epoch 0 | Loss: 1.587855577468872 | Accuracy: 29.6875%\n",
            "GB | Epoch 0 | Loss: 1.5991982221603394 | Accuracy: 26.5625%\n"
          ]
        },
        {
          "output_type": "stream",
          "name": "stderr",
          "text": [
            "Epoch 0:  64%|██████▎   | 477/751 [00:11<00:07, 35.16batch/s, accuracy=32.8125%, loss=1.59]"
          ]
        },
        {
          "output_type": "stream",
          "name": "stdout",
          "text": [
            "GB | Epoch 0 | Loss: 1.5884058475494385 | Accuracy: 31.25%\n",
            "GB | Epoch 0 | Loss: 1.6003113985061646 | Accuracy: 20.3125%\n",
            "GB | Epoch 0 | Loss: 1.592625617980957 | Accuracy: 28.125%\n",
            "GB | Epoch 0 | Loss: 1.5959100723266602 | Accuracy: 25.0%\n",
            "GB | Epoch 0 | Loss: 1.592108130455017 | Accuracy: 26.5625%\n",
            "GB | Epoch 0 | Loss: 1.5875487327575684 | Accuracy: 32.8125%\n"
          ]
        },
        {
          "output_type": "stream",
          "name": "stderr",
          "text": [
            "Epoch 0:  64%|██████▍   | 481/751 [00:11<00:08, 33.47batch/s, accuracy=26.5625%, loss=1.59]"
          ]
        },
        {
          "output_type": "stream",
          "name": "stdout",
          "text": [
            "GB | Epoch 0 | Loss: 1.5769678354263306 | Accuracy: 39.0625%\n",
            "GB | Epoch 0 | Loss: 1.5826493501663208 | Accuracy: 32.8125%\n",
            "GB | Epoch 0 | Loss: 1.5805106163024902 | Accuracy: 37.5%\n",
            "GB | Epoch 0 | Loss: 1.5868276357650757 | Accuracy: 39.0625%\n",
            "GB | Epoch 0 | Loss: 1.5864145755767822 | Accuracy: 34.375%\n",
            "GB | Epoch 0 | Loss: 1.5950974225997925 | Accuracy: 26.5625%\n"
          ]
        },
        {
          "output_type": "stream",
          "name": "stderr",
          "text": [
            "Epoch 0:  65%|██████▌   | 489/751 [00:11<00:08, 32.28batch/s, accuracy=35.9375%, loss=1.59]"
          ]
        },
        {
          "output_type": "stream",
          "name": "stdout",
          "text": [
            "GB | Epoch 0 | Loss: 1.5931847095489502 | Accuracy: 26.5625%\n",
            "GB | Epoch 0 | Loss: 1.581833004951477 | Accuracy: 29.6875%\n",
            "GB | Epoch 0 | Loss: 1.582949161529541 | Accuracy: 37.5%\n",
            "GB | Epoch 0 | Loss: 1.593435287475586 | Accuracy: 28.125%\n",
            "GB | Epoch 0 | Loss: 1.5735160112380981 | Accuracy: 37.5%\n",
            "GB | Epoch 0 | Loss: 1.5870455503463745 | Accuracy: 29.6875%\n",
            "GB | Epoch 0 | Loss: 1.5880353450775146 | Accuracy: 35.9375%\n"
          ]
        },
        {
          "output_type": "stream",
          "name": "stderr",
          "text": [
            "Epoch 0:  66%|██████▌   | 497/751 [00:11<00:07, 32.52batch/s, accuracy=37.5%, loss=1.58] "
          ]
        },
        {
          "output_type": "stream",
          "name": "stdout",
          "text": [
            "GB | Epoch 0 | Loss: 1.585644245147705 | Accuracy: 32.8125%\n",
            "GB | Epoch 0 | Loss: 1.593902587890625 | Accuracy: 28.125%\n",
            "GB | Epoch 0 | Loss: 1.5976313352584839 | Accuracy: 23.4375%\n",
            "GB | Epoch 0 | Loss: 1.5816800594329834 | Accuracy: 32.8125%\n",
            "GB | Epoch 0 | Loss: 1.5999228954315186 | Accuracy: 25.0%\n",
            "GB | Epoch 0 | Loss: 1.5918341875076294 | Accuracy: 31.25%\n",
            "GB | Epoch 0 | Loss: 1.5824697017669678 | Accuracy: 37.5%\n"
          ]
        },
        {
          "output_type": "stream",
          "name": "stderr",
          "text": [
            "Epoch 0:  67%|██████▋   | 505/751 [00:12<00:07, 32.24batch/s, accuracy=34.375%, loss=1.58]"
          ]
        },
        {
          "output_type": "stream",
          "name": "stdout",
          "text": [
            "GB | Epoch 0 | Loss: 1.589160680770874 | Accuracy: 34.375%\n",
            "GB | Epoch 0 | Loss: 1.5835288763046265 | Accuracy: 32.8125%\n",
            "GB | Epoch 0 | Loss: 1.5851929187774658 | Accuracy: 29.6875%\n",
            "GB | Epoch 0 | Loss: 1.5911836624145508 | Accuracy: 21.875%\n",
            "GB | Epoch 0 | Loss: 1.5875141620635986 | Accuracy: 29.6875%\n",
            "GB | Epoch 0 | Loss: 1.5861718654632568 | Accuracy: 28.125%\n",
            "GB | Epoch 0 | Loss: 1.5779317617416382 | Accuracy: 34.375%\n"
          ]
        },
        {
          "output_type": "stream",
          "name": "stderr",
          "text": [
            "Epoch 0:  68%|██████▊   | 509/751 [00:12<00:07, 32.08batch/s, accuracy=39.0625%, loss=1.58]"
          ]
        },
        {
          "output_type": "stream",
          "name": "stdout",
          "text": [
            "GB | Epoch 0 | Loss: 1.591357946395874 | Accuracy: 25.0%\n",
            "GB | Epoch 0 | Loss: 1.5885852575302124 | Accuracy: 31.25%\n",
            "GB | Epoch 0 | Loss: 1.596347451210022 | Accuracy: 26.5625%\n",
            "GB | Epoch 0 | Loss: 1.5720959901809692 | Accuracy: 39.0625%\n",
            "GB | Epoch 0 | Loss: 1.594340443611145 | Accuracy: 28.125%\n",
            "GB | Epoch 0 | Loss: 1.5937739610671997 | Accuracy: 37.5%\n",
            "GB | Epoch 0 | Loss: 1.576683759689331 | Accuracy: 39.0625%\n"
          ]
        },
        {
          "output_type": "stream",
          "name": "stderr",
          "text": [
            "Epoch 0:  69%|██████▉   | 517/751 [00:12<00:07, 32.46batch/s, accuracy=34.375%, loss=1.58] "
          ]
        },
        {
          "output_type": "stream",
          "name": "stdout",
          "text": [
            "GB | Epoch 0 | Loss: 1.5796046257019043 | Accuracy: 39.0625%\n",
            "GB | Epoch 0 | Loss: 1.5764164924621582 | Accuracy: 34.375%\n",
            "GB | Epoch 0 | Loss: 1.587246298789978 | Accuracy: 29.6875%\n",
            "GB | Epoch 0 | Loss: 1.5779932737350464 | Accuracy: 37.5%\n",
            "GB | Epoch 0 | Loss: 1.600581169128418 | Accuracy: 25.0%\n",
            "GB | Epoch 0 | Loss: 1.5707460641860962 | Accuracy: 48.4375%\n",
            "GB | Epoch 0 | Loss: 1.5843610763549805 | Accuracy: 34.375%\n"
          ]
        },
        {
          "output_type": "stream",
          "name": "stderr",
          "text": [
            "Epoch 0:  70%|██████▉   | 525/751 [00:12<00:06, 33.30batch/s, accuracy=39.0625%, loss=1.58]"
          ]
        },
        {
          "output_type": "stream",
          "name": "stdout",
          "text": [
            "GB | Epoch 0 | Loss: 1.5838836431503296 | Accuracy: 32.8125%\n",
            "GB | Epoch 0 | Loss: 1.581865668296814 | Accuracy: 34.375%\n",
            "GB | Epoch 0 | Loss: 1.5930564403533936 | Accuracy: 35.9375%\n",
            "GB | Epoch 0 | Loss: 1.5802193880081177 | Accuracy: 34.375%\n",
            "GB | Epoch 0 | Loss: 1.6010353565216064 | Accuracy: 29.6875%\n",
            "GB | Epoch 0 | Loss: 1.5819990634918213 | Accuracy: 37.5%\n",
            "GB | Epoch 0 | Loss: 1.5767933130264282 | Accuracy: 39.0625%\n"
          ]
        },
        {
          "output_type": "stream",
          "name": "stderr",
          "text": [
            "Epoch 0:  70%|███████   | 529/751 [00:12<00:06, 33.46batch/s, accuracy=31.25%, loss=1.59]"
          ]
        },
        {
          "output_type": "stream",
          "name": "stdout",
          "text": [
            "GB | Epoch 0 | Loss: 1.5877459049224854 | Accuracy: 35.9375%\n",
            "GB | Epoch 0 | Loss: 1.5927157402038574 | Accuracy: 28.125%\n",
            "GB | Epoch 0 | Loss: 1.573917269706726 | Accuracy: 42.1875%\n",
            "GB | Epoch 0 | Loss: 1.5689085721969604 | Accuracy: 48.4375%\n",
            "GB | Epoch 0 | Loss: 1.5775092840194702 | Accuracy: 37.5%\n",
            "GB | Epoch 0 | Loss: 1.593487024307251 | Accuracy: 31.25%\n"
          ]
        },
        {
          "output_type": "stream",
          "name": "stderr",
          "text": [
            "Epoch 0:  72%|███████▏  | 537/751 [00:13<00:06, 31.01batch/s, accuracy=32.8125%, loss=1.59]"
          ]
        },
        {
          "output_type": "stream",
          "name": "stdout",
          "text": [
            "GB | Epoch 0 | Loss: 1.5925434827804565 | Accuracy: 26.5625%\n",
            "GB | Epoch 0 | Loss: 1.5827832221984863 | Accuracy: 37.5%\n",
            "GB | Epoch 0 | Loss: 1.5807133913040161 | Accuracy: 34.375%\n",
            "GB | Epoch 0 | Loss: 1.5914918184280396 | Accuracy: 29.6875%\n",
            "GB | Epoch 0 | Loss: 1.5743762254714966 | Accuracy: 37.5%\n",
            "GB | Epoch 0 | Loss: 1.5833486318588257 | Accuracy: 35.9375%\n"
          ]
        },
        {
          "output_type": "stream",
          "name": "stderr",
          "text": [
            "Epoch 0:  73%|███████▎  | 545/751 [00:13<00:06, 30.82batch/s, accuracy=43.75%, loss=1.58]"
          ]
        },
        {
          "output_type": "stream",
          "name": "stdout",
          "text": [
            "GB | Epoch 0 | Loss: 1.5865329504013062 | Accuracy: 32.8125%\n",
            "GB | Epoch 0 | Loss: 1.595069169998169 | Accuracy: 29.6875%\n",
            "GB | Epoch 0 | Loss: 1.589218258857727 | Accuracy: 31.25%\n",
            "GB | Epoch 0 | Loss: 1.602888584136963 | Accuracy: 26.5625%\n",
            "GB | Epoch 0 | Loss: 1.5851539373397827 | Accuracy: 34.375%\n",
            "GB | Epoch 0 | Loss: 1.5695013999938965 | Accuracy: 34.375%\n",
            "GB | Epoch 0 | Loss: 1.5821057558059692 | Accuracy: 43.75%\n"
          ]
        },
        {
          "output_type": "stream",
          "name": "stderr",
          "text": [
            "Epoch 0:  73%|███████▎  | 549/751 [00:13<00:06, 30.23batch/s, accuracy=43.75%, loss=1.57]  "
          ]
        },
        {
          "output_type": "stream",
          "name": "stdout",
          "text": [
            "GB | Epoch 0 | Loss: 1.5950573682785034 | Accuracy: 28.125%\n",
            "GB | Epoch 0 | Loss: 1.5875096321105957 | Accuracy: 23.4375%\n",
            "GB | Epoch 0 | Loss: 1.5828425884246826 | Accuracy: 31.25%\n",
            "GB | Epoch 0 | Loss: 1.57650625705719 | Accuracy: 37.5%\n",
            "GB | Epoch 0 | Loss: 1.5786209106445312 | Accuracy: 29.6875%\n",
            "GB | Epoch 0 | Loss: 1.570298194885254 | Accuracy: 43.75%\n"
          ]
        },
        {
          "output_type": "stream",
          "name": "stderr",
          "text": [
            "Epoch 0:  74%|███████▍  | 557/751 [00:13<00:06, 30.14batch/s, accuracy=40.625%, loss=1.57]"
          ]
        },
        {
          "output_type": "stream",
          "name": "stdout",
          "text": [
            "GB | Epoch 0 | Loss: 1.575068473815918 | Accuracy: 32.8125%\n",
            "GB | Epoch 0 | Loss: 1.5867221355438232 | Accuracy: 37.5%\n",
            "GB | Epoch 0 | Loss: 1.5900213718414307 | Accuracy: 37.5%\n",
            "GB | Epoch 0 | Loss: 1.5640835762023926 | Accuracy: 42.1875%\n",
            "GB | Epoch 0 | Loss: 1.5592294931411743 | Accuracy: 48.4375%\n",
            "GB | Epoch 0 | Loss: 1.6003544330596924 | Accuracy: 29.6875%\n",
            "GB | Epoch 0 | Loss: 1.5689185857772827 | Accuracy: 40.625%\n"
          ]
        },
        {
          "output_type": "stream",
          "name": "stderr",
          "text": [
            "Epoch 0:  75%|███████▍  | 561/751 [00:14<00:06, 30.15batch/s, accuracy=32.8125%, loss=1.59]"
          ]
        },
        {
          "output_type": "stream",
          "name": "stdout",
          "text": [
            "GB | Epoch 0 | Loss: 1.5864100456237793 | Accuracy: 35.9375%\n",
            "GB | Epoch 0 | Loss: 1.5774292945861816 | Accuracy: 37.5%\n",
            "GB | Epoch 0 | Loss: 1.6016905307769775 | Accuracy: 23.4375%\n",
            "GB | Epoch 0 | Loss: 1.5762947797775269 | Accuracy: 39.0625%\n",
            "GB | Epoch 0 | Loss: 1.5847121477127075 | Accuracy: 32.8125%\n",
            "GB | Epoch 0 | Loss: 1.5882868766784668 | Accuracy: 32.8125%\n"
          ]
        },
        {
          "output_type": "stream",
          "name": "stderr",
          "text": [
            "Epoch 0:  76%|███████▌  | 570/751 [00:14<00:05, 32.76batch/s, accuracy=31.25%, loss=1.59] "
          ]
        },
        {
          "output_type": "stream",
          "name": "stdout",
          "text": [
            "GB | Epoch 0 | Loss: 1.5822080373764038 | Accuracy: 35.9375%\n",
            "GB | Epoch 0 | Loss: 1.5897091627120972 | Accuracy: 28.125%\n",
            "GB | Epoch 0 | Loss: 1.5689159631729126 | Accuracy: 42.1875%\n",
            "GB | Epoch 0 | Loss: 1.571712851524353 | Accuracy: 32.8125%\n",
            "GB | Epoch 0 | Loss: 1.5813570022583008 | Accuracy: 31.25%\n",
            "GB | Epoch 0 | Loss: 1.5797468423843384 | Accuracy: 40.625%\n",
            "GB | Epoch 0 | Loss: 1.5612492561340332 | Accuracy: 39.0625%\n",
            "GB | Epoch 0 | Loss: 1.5840470790863037 | Accuracy: 31.25%\n",
            "GB | Epoch 0 | Loss: 1.576406717300415 | Accuracy: 40.625%\n",
            "GB | Epoch 0 | Loss: 1.5924427509307861 | Accuracy: 31.25%\n"
          ]
        },
        {
          "output_type": "stream",
          "name": "stderr",
          "text": [
            "Epoch 0:  77%|███████▋  | 580/751 [00:14<00:04, 38.78batch/s, accuracy=32.8125%, loss=1.58]"
          ]
        },
        {
          "output_type": "stream",
          "name": "stdout",
          "text": [
            "GB | Epoch 0 | Loss: 1.5771540403366089 | Accuracy: 29.6875%\n",
            "GB | Epoch 0 | Loss: 1.5894372463226318 | Accuracy: 32.8125%\n",
            "GB | Epoch 0 | Loss: 1.598023772239685 | Accuracy: 25.0%\n",
            "GB | Epoch 0 | Loss: 1.564833641052246 | Accuracy: 37.5%\n",
            "GB | Epoch 0 | Loss: 1.5685917139053345 | Accuracy: 39.0625%\n",
            "GB | Epoch 0 | Loss: 1.567220687866211 | Accuracy: 37.5%\n",
            "GB | Epoch 0 | Loss: 1.5728836059570312 | Accuracy: 29.6875%\n",
            "GB | Epoch 0 | Loss: 1.5852919816970825 | Accuracy: 35.9375%\n",
            "GB | Epoch 0 | Loss: 1.5705695152282715 | Accuracy: 35.9375%\n",
            "GB | Epoch 0 | Loss: 1.5770729780197144 | Accuracy: 32.8125%\n"
          ]
        },
        {
          "output_type": "stream",
          "name": "stderr",
          "text": [
            "Epoch 0:  79%|███████▊  | 590/751 [00:14<00:03, 42.64batch/s, accuracy=42.1875%, loss=1.56]"
          ]
        },
        {
          "output_type": "stream",
          "name": "stdout",
          "text": [
            "GB | Epoch 0 | Loss: 1.5824668407440186 | Accuracy: 32.8125%\n",
            "GB | Epoch 0 | Loss: 1.5817244052886963 | Accuracy: 29.6875%\n",
            "GB | Epoch 0 | Loss: 1.589584469795227 | Accuracy: 32.8125%\n",
            "GB | Epoch 0 | Loss: 1.5743659734725952 | Accuracy: 31.25%\n",
            "GB | Epoch 0 | Loss: 1.5934146642684937 | Accuracy: 29.6875%\n",
            "GB | Epoch 0 | Loss: 1.5574840307235718 | Accuracy: 40.625%\n",
            "GB | Epoch 0 | Loss: 1.5782735347747803 | Accuracy: 31.25%\n",
            "GB | Epoch 0 | Loss: 1.5628951787948608 | Accuracy: 39.0625%\n",
            "GB | Epoch 0 | Loss: 1.5335323810577393 | Accuracy: 50.0%\n",
            "GB | Epoch 0 | Loss: 1.5613306760787964 | Accuracy: 42.1875%\n"
          ]
        },
        {
          "output_type": "stream",
          "name": "stderr",
          "text": [
            "Epoch 0:  80%|███████▉  | 600/751 [00:14<00:03, 44.09batch/s, accuracy=37.5%, loss=1.57]   "
          ]
        },
        {
          "output_type": "stream",
          "name": "stdout",
          "text": [
            "GB | Epoch 0 | Loss: 1.5640366077423096 | Accuracy: 39.0625%\n",
            "GB | Epoch 0 | Loss: 1.5564428567886353 | Accuracy: 42.1875%\n",
            "GB | Epoch 0 | Loss: 1.5912917852401733 | Accuracy: 26.5625%\n",
            "GB | Epoch 0 | Loss: 1.570290446281433 | Accuracy: 31.25%\n",
            "GB | Epoch 0 | Loss: 1.5939029455184937 | Accuracy: 29.6875%\n",
            "GB | Epoch 0 | Loss: 1.5849525928497314 | Accuracy: 34.375%\n",
            "GB | Epoch 0 | Loss: 1.5641080141067505 | Accuracy: 37.5%\n",
            "GB | Epoch 0 | Loss: 1.5733088254928589 | Accuracy: 39.0625%\n",
            "GB | Epoch 0 | Loss: 1.5935311317443848 | Accuracy: 29.6875%\n",
            "GB | Epoch 0 | Loss: 1.5715081691741943 | Accuracy: 37.5%\n"
          ]
        },
        {
          "output_type": "stream",
          "name": "stderr",
          "text": [
            "Epoch 0:  81%|████████  | 610/751 [00:15<00:03, 44.96batch/s, accuracy=32.8125%, loss=1.57]"
          ]
        },
        {
          "output_type": "stream",
          "name": "stdout",
          "text": [
            "GB | Epoch 0 | Loss: 1.5526565313339233 | Accuracy: 40.625%\n",
            "GB | Epoch 0 | Loss: 1.573608160018921 | Accuracy: 29.6875%\n",
            "GB | Epoch 0 | Loss: 1.6165512800216675 | Accuracy: 21.875%\n",
            "GB | Epoch 0 | Loss: 1.5589162111282349 | Accuracy: 29.6875%\n",
            "GB | Epoch 0 | Loss: 1.5603668689727783 | Accuracy: 31.25%\n",
            "GB | Epoch 0 | Loss: 1.6057002544403076 | Accuracy: 26.5625%\n",
            "GB | Epoch 0 | Loss: 1.589571475982666 | Accuracy: 32.8125%\n",
            "GB | Epoch 0 | Loss: 1.5740350484848022 | Accuracy: 29.6875%\n",
            "GB | Epoch 0 | Loss: 1.568263053894043 | Accuracy: 32.8125%\n"
          ]
        },
        {
          "output_type": "stream",
          "name": "stderr",
          "text": [
            "Epoch 0:  83%|████████▎ | 620/751 [00:15<00:02, 44.76batch/s, accuracy=34.375%, loss=1.55]"
          ]
        },
        {
          "output_type": "stream",
          "name": "stdout",
          "text": [
            "GB | Epoch 0 | Loss: 1.5633773803710938 | Accuracy: 35.9375%\n",
            "GB | Epoch 0 | Loss: 1.5817512273788452 | Accuracy: 28.125%\n",
            "GB | Epoch 0 | Loss: 1.5724927186965942 | Accuracy: 34.375%\n",
            "GB | Epoch 0 | Loss: 1.5582281351089478 | Accuracy: 37.5%\n",
            "GB | Epoch 0 | Loss: 1.5404222011566162 | Accuracy: 37.5%\n",
            "GB | Epoch 0 | Loss: 1.5534065961837769 | Accuracy: 43.75%\n",
            "GB | Epoch 0 | Loss: 1.5604673624038696 | Accuracy: 31.25%\n",
            "GB | Epoch 0 | Loss: 1.5861519575119019 | Accuracy: 23.4375%\n",
            "GB | Epoch 0 | Loss: 1.5624756813049316 | Accuracy: 34.375%\n",
            "GB | Epoch 0 | Loss: 1.5476537942886353 | Accuracy: 34.375%\n"
          ]
        },
        {
          "output_type": "stream",
          "name": "stderr",
          "text": [
            "Epoch 0:  84%|████████▍ | 630/751 [00:15<00:02, 45.55batch/s, accuracy=37.5%, loss=1.55] "
          ]
        },
        {
          "output_type": "stream",
          "name": "stdout",
          "text": [
            "GB | Epoch 0 | Loss: 1.5410670042037964 | Accuracy: 34.375%\n",
            "GB | Epoch 0 | Loss: 1.5682613849639893 | Accuracy: 25.0%\n",
            "GB | Epoch 0 | Loss: 1.5750266313552856 | Accuracy: 28.125%\n",
            "GB | Epoch 0 | Loss: 1.583546757698059 | Accuracy: 20.3125%\n",
            "GB | Epoch 0 | Loss: 1.5278232097625732 | Accuracy: 39.0625%\n",
            "GB | Epoch 0 | Loss: 1.5890065431594849 | Accuracy: 12.5%\n",
            "GB | Epoch 0 | Loss: 1.560296654701233 | Accuracy: 34.375%\n",
            "GB | Epoch 0 | Loss: 1.5802855491638184 | Accuracy: 29.6875%\n",
            "GB | Epoch 0 | Loss: 1.5506614446640015 | Accuracy: 31.25%\n",
            "GB | Epoch 0 | Loss: 1.5453097820281982 | Accuracy: 37.5%\n"
          ]
        },
        {
          "output_type": "stream",
          "name": "stderr",
          "text": [
            "Epoch 0:  85%|████████▌ | 640/751 [00:15<00:02, 46.21batch/s, accuracy=37.5%, loss=1.53]"
          ]
        },
        {
          "output_type": "stream",
          "name": "stdout",
          "text": [
            "GB | Epoch 0 | Loss: 1.559817910194397 | Accuracy: 32.8125%\n",
            "GB | Epoch 0 | Loss: 1.5697177648544312 | Accuracy: 29.6875%\n",
            "GB | Epoch 0 | Loss: 1.581459879875183 | Accuracy: 25.0%\n",
            "GB | Epoch 0 | Loss: 1.5578559637069702 | Accuracy: 34.375%\n",
            "GB | Epoch 0 | Loss: 1.5746004581451416 | Accuracy: 28.125%\n",
            "GB | Epoch 0 | Loss: 1.5511244535446167 | Accuracy: 31.25%\n",
            "GB | Epoch 0 | Loss: 1.5664036273956299 | Accuracy: 20.3125%\n",
            "GB | Epoch 0 | Loss: 1.5583326816558838 | Accuracy: 28.125%\n",
            "GB | Epoch 0 | Loss: 1.566074252128601 | Accuracy: 25.0%\n",
            "GB | Epoch 0 | Loss: 1.530592679977417 | Accuracy: 37.5%\n"
          ]
        },
        {
          "output_type": "stream",
          "name": "stderr",
          "text": [
            "Epoch 0:  87%|████████▋ | 650/751 [00:16<00:02, 46.21batch/s, accuracy=31.25%, loss=1.58]  "
          ]
        },
        {
          "output_type": "stream",
          "name": "stdout",
          "text": [
            "GB | Epoch 0 | Loss: 1.523191213607788 | Accuracy: 40.625%\n",
            "GB | Epoch 0 | Loss: 1.5660268068313599 | Accuracy: 26.5625%\n",
            "GB | Epoch 0 | Loss: 1.5224252939224243 | Accuracy: 43.75%\n",
            "GB | Epoch 0 | Loss: 1.5923751592636108 | Accuracy: 34.375%\n",
            "GB | Epoch 0 | Loss: 1.589489459991455 | Accuracy: 28.125%\n",
            "GB | Epoch 0 | Loss: 1.5553665161132812 | Accuracy: 35.9375%\n",
            "GB | Epoch 0 | Loss: 1.5962598323822021 | Accuracy: 10.9375%\n",
            "GB | Epoch 0 | Loss: 1.5799881219863892 | Accuracy: 21.875%\n",
            "GB | Epoch 0 | Loss: 1.560727834701538 | Accuracy: 35.9375%\n",
            "GB | Epoch 0 | Loss: 1.575907826423645 | Accuracy: 31.25%\n"
          ]
        },
        {
          "output_type": "stream",
          "name": "stderr",
          "text": [
            "Epoch 0:  88%|████████▊ | 660/751 [00:16<00:02, 43.55batch/s, accuracy=39.0625%, loss=1.56]"
          ]
        },
        {
          "output_type": "stream",
          "name": "stdout",
          "text": [
            "GB | Epoch 0 | Loss: 1.5843333005905151 | Accuracy: 31.25%\n",
            "GB | Epoch 0 | Loss: 1.5499546527862549 | Accuracy: 29.6875%\n",
            "GB | Epoch 0 | Loss: 1.5744109153747559 | Accuracy: 32.8125%\n",
            "GB | Epoch 0 | Loss: 1.5671137571334839 | Accuracy: 32.8125%\n",
            "GB | Epoch 0 | Loss: 1.5481202602386475 | Accuracy: 35.9375%\n",
            "GB | Epoch 0 | Loss: 1.559069037437439 | Accuracy: 37.5%\n",
            "GB | Epoch 0 | Loss: 1.5804706811904907 | Accuracy: 35.9375%\n",
            "GB | Epoch 0 | Loss: 1.5613603591918945 | Accuracy: 37.5%\n",
            "GB | Epoch 0 | Loss: 1.5642852783203125 | Accuracy: 39.0625%\n"
          ]
        },
        {
          "output_type": "stream",
          "name": "stderr",
          "text": [
            "Epoch 0:  89%|████████▉ | 670/751 [00:16<00:01, 44.75batch/s, accuracy=28.125%, loss=1.57] "
          ]
        },
        {
          "output_type": "stream",
          "name": "stdout",
          "text": [
            "GB | Epoch 0 | Loss: 1.5481867790222168 | Accuracy: 40.625%\n",
            "GB | Epoch 0 | Loss: 1.5989683866500854 | Accuracy: 26.5625%\n",
            "GB | Epoch 0 | Loss: 1.5944019556045532 | Accuracy: 29.6875%\n",
            "GB | Epoch 0 | Loss: 1.52166748046875 | Accuracy: 34.375%\n",
            "GB | Epoch 0 | Loss: 1.5583888292312622 | Accuracy: 34.375%\n",
            "GB | Epoch 0 | Loss: 1.5421472787857056 | Accuracy: 35.9375%\n",
            "GB | Epoch 0 | Loss: 1.5676391124725342 | Accuracy: 35.9375%\n",
            "GB | Epoch 0 | Loss: 1.5570068359375 | Accuracy: 34.375%\n",
            "GB | Epoch 0 | Loss: 1.5723459720611572 | Accuracy: 29.6875%\n",
            "GB | Epoch 0 | Loss: 1.5685341358184814 | Accuracy: 28.125%\n"
          ]
        },
        {
          "output_type": "stream",
          "name": "stderr",
          "text": [
            "Epoch 0:  91%|█████████ | 680/751 [00:16<00:01, 44.96batch/s, accuracy=29.6875%, loss=1.54]"
          ]
        },
        {
          "output_type": "stream",
          "name": "stdout",
          "text": [
            "GB | Epoch 0 | Loss: 1.5613704919815063 | Accuracy: 29.6875%\n",
            "GB | Epoch 0 | Loss: 1.5021824836730957 | Accuracy: 43.75%\n",
            "GB | Epoch 0 | Loss: 1.5775954723358154 | Accuracy: 31.25%\n",
            "GB | Epoch 0 | Loss: 1.5308351516723633 | Accuracy: 35.9375%\n",
            "GB | Epoch 0 | Loss: 1.5476117134094238 | Accuracy: 25.0%\n",
            "GB | Epoch 0 | Loss: 1.5725473165512085 | Accuracy: 23.4375%\n",
            "GB | Epoch 0 | Loss: 1.5503277778625488 | Accuracy: 37.5%\n",
            "GB | Epoch 0 | Loss: 1.5813767910003662 | Accuracy: 31.25%\n",
            "GB | Epoch 0 | Loss: 1.5544679164886475 | Accuracy: 40.625%\n",
            "GB | Epoch 0 | Loss: 1.5439085960388184 | Accuracy: 29.6875%\n"
          ]
        },
        {
          "output_type": "stream",
          "name": "stderr",
          "text": [
            "Epoch 0:  92%|█████████▏| 690/751 [00:16<00:01, 45.72batch/s, accuracy=32.8125%, loss=1.52]"
          ]
        },
        {
          "output_type": "stream",
          "name": "stdout",
          "text": [
            "GB | Epoch 0 | Loss: 1.5642473697662354 | Accuracy: 32.8125%\n",
            "GB | Epoch 0 | Loss: 1.5052794218063354 | Accuracy: 46.875%\n",
            "GB | Epoch 0 | Loss: 1.5555263757705688 | Accuracy: 28.125%\n",
            "GB | Epoch 0 | Loss: 1.5317362546920776 | Accuracy: 37.5%\n",
            "GB | Epoch 0 | Loss: 1.5505847930908203 | Accuracy: 32.8125%\n",
            "GB | Epoch 0 | Loss: 1.5298725366592407 | Accuracy: 37.5%\n",
            "GB | Epoch 0 | Loss: 1.5375887155532837 | Accuracy: 31.25%\n",
            "GB | Epoch 0 | Loss: 1.5715982913970947 | Accuracy: 21.875%\n",
            "GB | Epoch 0 | Loss: 1.5589606761932373 | Accuracy: 29.6875%\n",
            "GB | Epoch 0 | Loss: 1.521568775177002 | Accuracy: 32.8125%\n"
          ]
        },
        {
          "output_type": "stream",
          "name": "stderr",
          "text": [
            "Epoch 0:  93%|█████████▎| 700/751 [00:17<00:01, 46.04batch/s, accuracy=32.8125%, loss=1.52]"
          ]
        },
        {
          "output_type": "stream",
          "name": "stdout",
          "text": [
            "GB | Epoch 0 | Loss: 1.5596472024917603 | Accuracy: 31.25%\n",
            "GB | Epoch 0 | Loss: 1.5200953483581543 | Accuracy: 34.375%\n",
            "GB | Epoch 0 | Loss: 1.506652593612671 | Accuracy: 25.0%\n",
            "GB | Epoch 0 | Loss: 1.548590064048767 | Accuracy: 29.6875%\n",
            "GB | Epoch 0 | Loss: 1.541727066040039 | Accuracy: 26.5625%\n",
            "GB | Epoch 0 | Loss: 1.575101613998413 | Accuracy: 28.125%\n",
            "GB | Epoch 0 | Loss: 1.5628776550292969 | Accuracy: 29.6875%\n",
            "GB | Epoch 0 | Loss: 1.5439327955245972 | Accuracy: 29.6875%\n",
            "GB | Epoch 0 | Loss: 1.5694215297698975 | Accuracy: 25.0%\n",
            "GB | Epoch 0 | Loss: 1.521309733390808 | Accuracy: 32.8125%\n"
          ]
        },
        {
          "output_type": "stream",
          "name": "stderr",
          "text": [
            "Epoch 0:  95%|█████████▍| 710/751 [00:17<00:00, 43.95batch/s, accuracy=40.625%, loss=1.49] "
          ]
        },
        {
          "output_type": "stream",
          "name": "stdout",
          "text": [
            "GB | Epoch 0 | Loss: 1.5053107738494873 | Accuracy: 34.375%\n",
            "GB | Epoch 0 | Loss: 1.586988925933838 | Accuracy: 25.0%\n",
            "GB | Epoch 0 | Loss: 1.5533943176269531 | Accuracy: 31.25%\n",
            "GB | Epoch 0 | Loss: 1.5602679252624512 | Accuracy: 25.0%\n",
            "GB | Epoch 0 | Loss: 1.5383594036102295 | Accuracy: 37.5%\n",
            "GB | Epoch 0 | Loss: 1.5971119403839111 | Accuracy: 32.8125%\n",
            "GB | Epoch 0 | Loss: 1.5025582313537598 | Accuracy: 40.625%\n",
            "GB | Epoch 0 | Loss: 1.55532705783844 | Accuracy: 29.6875%\n",
            "GB | Epoch 0 | Loss: 1.4909238815307617 | Accuracy: 40.625%\n"
          ]
        },
        {
          "output_type": "stream",
          "name": "stderr",
          "text": [
            "Epoch 0:  96%|█████████▌| 720/751 [00:17<00:00, 45.02batch/s, accuracy=28.125%, loss=1.54]"
          ]
        },
        {
          "output_type": "stream",
          "name": "stdout",
          "text": [
            "GB | Epoch 0 | Loss: 1.6280345916748047 | Accuracy: 26.5625%\n",
            "GB | Epoch 0 | Loss: 1.5594810247421265 | Accuracy: 31.25%\n",
            "GB | Epoch 0 | Loss: 1.5201106071472168 | Accuracy: 45.3125%\n",
            "GB | Epoch 0 | Loss: 1.5577208995819092 | Accuracy: 25.0%\n",
            "GB | Epoch 0 | Loss: 1.4910188913345337 | Accuracy: 40.625%\n",
            "GB | Epoch 0 | Loss: 1.5380232334136963 | Accuracy: 32.8125%\n",
            "GB | Epoch 0 | Loss: 1.5063164234161377 | Accuracy: 37.5%\n",
            "GB | Epoch 0 | Loss: 1.5647263526916504 | Accuracy: 26.5625%\n",
            "GB | Epoch 0 | Loss: 1.53333580493927 | Accuracy: 34.375%\n",
            "GB | Epoch 0 | Loss: 1.542635440826416 | Accuracy: 28.125%\n"
          ]
        },
        {
          "output_type": "stream",
          "name": "stderr",
          "text": [
            "Epoch 0:  97%|█████████▋| 730/751 [00:17<00:00, 45.62batch/s, accuracy=28.125%, loss=1.58]"
          ]
        },
        {
          "output_type": "stream",
          "name": "stdout",
          "text": [
            "GB | Epoch 0 | Loss: 1.507712483406067 | Accuracy: 37.5%\n",
            "GB | Epoch 0 | Loss: 1.53224778175354 | Accuracy: 34.375%\n",
            "GB | Epoch 0 | Loss: 1.5636414289474487 | Accuracy: 29.6875%\n",
            "GB | Epoch 0 | Loss: 1.525512933731079 | Accuracy: 37.5%\n",
            "GB | Epoch 0 | Loss: 1.518658995628357 | Accuracy: 39.0625%\n",
            "GB | Epoch 0 | Loss: 1.5327402353286743 | Accuracy: 31.25%\n",
            "GB | Epoch 0 | Loss: 1.551499366760254 | Accuracy: 34.375%\n",
            "GB | Epoch 0 | Loss: 1.5836044549942017 | Accuracy: 29.6875%\n",
            "GB | Epoch 0 | Loss: 1.5257539749145508 | Accuracy: 34.375%\n",
            "GB | Epoch 0 | Loss: 1.5815540552139282 | Accuracy: 28.125%\n"
          ]
        },
        {
          "output_type": "stream",
          "name": "stderr",
          "text": [
            "Epoch 0:  99%|█████████▊| 740/751 [00:17<00:00, 46.04batch/s, accuracy=37.5%, loss=1.54]   "
          ]
        },
        {
          "output_type": "stream",
          "name": "stdout",
          "text": [
            "GB | Epoch 0 | Loss: 1.4892098903656006 | Accuracy: 51.5625%\n",
            "GB | Epoch 0 | Loss: 1.5480351448059082 | Accuracy: 34.375%\n",
            "GB | Epoch 0 | Loss: 1.484789252281189 | Accuracy: 35.9375%\n",
            "GB | Epoch 0 | Loss: 1.5360546112060547 | Accuracy: 29.6875%\n",
            "GB | Epoch 0 | Loss: 1.5487927198410034 | Accuracy: 34.375%\n",
            "GB | Epoch 0 | Loss: 1.5237486362457275 | Accuracy: 37.5%\n",
            "GB | Epoch 0 | Loss: 1.5731329917907715 | Accuracy: 18.75%\n",
            "GB | Epoch 0 | Loss: 1.5603346824645996 | Accuracy: 26.5625%\n",
            "GB | Epoch 0 | Loss: 1.56166672706604 | Accuracy: 29.6875%\n",
            "GB | Epoch 0 | Loss: 1.5389008522033691 | Accuracy: 37.5%\n"
          ]
        },
        {
          "output_type": "stream",
          "name": "stderr",
          "text": [
            "Epoch 0: 100%|█████████▉| 750/751 [00:18<00:00, 44.90batch/s, accuracy=25.0%, loss=1.65]  "
          ]
        },
        {
          "output_type": "stream",
          "name": "stdout",
          "text": [
            "GB | Epoch 0 | Loss: 1.5261189937591553 | Accuracy: 43.75%\n",
            "GB | Epoch 0 | Loss: 1.5517396926879883 | Accuracy: 37.5%\n",
            "GB | Epoch 0 | Loss: 1.5458769798278809 | Accuracy: 35.9375%\n",
            "GB | Epoch 0 | Loss: 1.5660946369171143 | Accuracy: 32.8125%\n",
            "GB | Epoch 0 | Loss: 1.5464154481887817 | Accuracy: 40.625%\n",
            "GB | Epoch 0 | Loss: 1.4817018508911133 | Accuracy: 46.875%\n",
            "GB | Epoch 0 | Loss: 1.5497503280639648 | Accuracy: 34.375%\n",
            "GB | Epoch 0 | Loss: 1.5766819715499878 | Accuracy: 34.375%\n",
            "GB | Epoch 0 | Loss: 1.5039074420928955 | Accuracy: 48.4375%\n",
            "GB | Epoch 0 | Loss: 1.6478328704833984 | Accuracy: 25.0%\n"
          ]
        },
        {
          "output_type": "stream",
          "name": "stderr",
          "text": [
            "Epoch 0: 100%|██████████| 751/751 [00:18<00:00, 40.91batch/s, accuracy=25.0%, loss=1.65]\n",
            "Epoch 1:   1%|          | 6/751 [00:00<00:37, 19.98batch/s, accuracy=42.1875%, loss=1.5]"
          ]
        },
        {
          "output_type": "stream",
          "name": "stdout",
          "text": [
            "GB | Epoch 1 | Loss: 1.5905605554580688 | Accuracy: 31.25%\n",
            "GB | Epoch 1 | Loss: 1.549395203590393 | Accuracy: 40.625%\n",
            "GB | Epoch 1 | Loss: 1.5858955383300781 | Accuracy: 34.375%\n",
            "GB | Epoch 1 | Loss: 1.4694684743881226 | Accuracy: 45.3125%\n",
            "GB | Epoch 1 | Loss: 1.4835256338119507 | Accuracy: 43.75%\n",
            "GB | Epoch 1 | Loss: 1.5682681798934937 | Accuracy: 31.25%\n",
            "GB | Epoch 1 | Loss: 1.523576259613037 | Accuracy: 40.625%\n",
            "GB | Epoch 1 | Loss: 1.4985249042510986 | Accuracy: 43.75%\n",
            "GB | Epoch 1 | Loss: 1.501110315322876 | Accuracy: 42.1875%\n"
          ]
        },
        {
          "output_type": "stream",
          "name": "stderr",
          "text": [
            "Epoch 1:   2%|▏         | 15/751 [00:00<00:22, 32.58batch/s, accuracy=45.3125%, loss=1.53]"
          ]
        },
        {
          "output_type": "stream",
          "name": "stdout",
          "text": [
            "GB | Epoch 1 | Loss: 1.455152988433838 | Accuracy: 50.0%\n",
            "GB | Epoch 1 | Loss: 1.5095791816711426 | Accuracy: 48.4375%\n",
            "GB | Epoch 1 | Loss: 1.507714033126831 | Accuracy: 45.3125%\n",
            "GB | Epoch 1 | Loss: 1.5324217081069946 | Accuracy: 35.9375%\n",
            "GB | Epoch 1 | Loss: 1.5266821384429932 | Accuracy: 39.0625%\n",
            "GB | Epoch 1 | Loss: 1.5622162818908691 | Accuracy: 32.8125%\n",
            "GB | Epoch 1 | Loss: 1.523796558380127 | Accuracy: 34.375%\n",
            "GB | Epoch 1 | Loss: 1.4929414987564087 | Accuracy: 46.875%\n",
            "GB | Epoch 1 | Loss: 1.5310759544372559 | Accuracy: 45.3125%\n"
          ]
        },
        {
          "output_type": "stream",
          "name": "stderr",
          "text": [
            "Epoch 1:   3%|▎         | 25/751 [00:00<00:19, 37.49batch/s, accuracy=46.875%, loss=1.48]"
          ]
        },
        {
          "output_type": "stream",
          "name": "stdout",
          "text": [
            "GB | Epoch 1 | Loss: 1.5036729574203491 | Accuracy: 37.5%\n",
            "GB | Epoch 1 | Loss: 1.5835611820220947 | Accuracy: 28.125%\n",
            "GB | Epoch 1 | Loss: 1.5282702445983887 | Accuracy: 45.3125%\n",
            "GB | Epoch 1 | Loss: 1.5466749668121338 | Accuracy: 34.375%\n",
            "GB | Epoch 1 | Loss: 1.5339548587799072 | Accuracy: 39.0625%\n",
            "GB | Epoch 1 | Loss: 1.523913025856018 | Accuracy: 40.625%\n",
            "GB | Epoch 1 | Loss: 1.528204321861267 | Accuracy: 43.75%\n",
            "GB | Epoch 1 | Loss: 1.4970051050186157 | Accuracy: 40.625%\n",
            "GB | Epoch 1 | Loss: 1.477220058441162 | Accuracy: 46.875%\n"
          ]
        },
        {
          "output_type": "stream",
          "name": "stderr",
          "text": [
            "Epoch 1:   5%|▍         | 34/751 [00:01<00:18, 38.77batch/s, accuracy=42.1875%, loss=1.5] "
          ]
        },
        {
          "output_type": "stream",
          "name": "stdout",
          "text": [
            "GB | Epoch 1 | Loss: 1.4937561750411987 | Accuracy: 42.1875%\n",
            "GB | Epoch 1 | Loss: 1.4400367736816406 | Accuracy: 54.6875%\n",
            "GB | Epoch 1 | Loss: 1.608325719833374 | Accuracy: 34.375%\n",
            "GB | Epoch 1 | Loss: 1.5295698642730713 | Accuracy: 46.875%\n",
            "GB | Epoch 1 | Loss: 1.5190863609313965 | Accuracy: 39.0625%\n",
            "GB | Epoch 1 | Loss: 1.4957126379013062 | Accuracy: 46.875%\n",
            "GB | Epoch 1 | Loss: 1.50650155544281 | Accuracy: 42.1875%\n",
            "GB | Epoch 1 | Loss: 1.5032180547714233 | Accuracy: 42.1875%\n"
          ]
        },
        {
          "output_type": "stream",
          "name": "stderr",
          "text": [
            "Epoch 1:   6%|▌         | 44/751 [00:01<00:17, 41.47batch/s, accuracy=42.1875%, loss=1.51]"
          ]
        },
        {
          "output_type": "stream",
          "name": "stdout",
          "text": [
            "GB | Epoch 1 | Loss: 1.5410507917404175 | Accuracy: 40.625%\n",
            "GB | Epoch 1 | Loss: 1.4808458089828491 | Accuracy: 46.875%\n",
            "GB | Epoch 1 | Loss: 1.6055554151535034 | Accuracy: 37.5%\n",
            "GB | Epoch 1 | Loss: 1.5344634056091309 | Accuracy: 45.3125%\n",
            "GB | Epoch 1 | Loss: 1.5002827644348145 | Accuracy: 43.75%\n",
            "GB | Epoch 1 | Loss: 1.5431833267211914 | Accuracy: 40.625%\n",
            "GB | Epoch 1 | Loss: 1.5363272428512573 | Accuracy: 37.5%\n",
            "GB | Epoch 1 | Loss: 1.5284905433654785 | Accuracy: 43.75%\n",
            "GB | Epoch 1 | Loss: 1.5116208791732788 | Accuracy: 42.1875%\n"
          ]
        },
        {
          "output_type": "stream",
          "name": "stderr",
          "text": [
            "Epoch 1:   7%|▋         | 49/751 [00:01<00:16, 42.05batch/s, accuracy=48.4375%, loss=1.47]"
          ]
        },
        {
          "output_type": "stream",
          "name": "stdout",
          "text": [
            "GB | Epoch 1 | Loss: 1.4888176918029785 | Accuracy: 51.5625%\n",
            "GB | Epoch 1 | Loss: 1.531479835510254 | Accuracy: 35.9375%\n",
            "GB | Epoch 1 | Loss: 1.5712066888809204 | Accuracy: 39.0625%\n",
            "GB | Epoch 1 | Loss: 1.5018786191940308 | Accuracy: 37.5%\n",
            "GB | Epoch 1 | Loss: 1.4948797225952148 | Accuracy: 46.875%\n",
            "GB | Epoch 1 | Loss: 1.4606006145477295 | Accuracy: 46.875%\n",
            "GB | Epoch 1 | Loss: 1.464406132698059 | Accuracy: 37.5%\n",
            "GB | Epoch 1 | Loss: 1.5708504915237427 | Accuracy: 39.0625%\n",
            "GB | Epoch 1 | Loss: 1.4700595140457153 | Accuracy: 48.4375%\n"
          ]
        },
        {
          "output_type": "stream",
          "name": "stderr",
          "text": [
            "Epoch 1:   8%|▊         | 59/751 [00:01<00:16, 42.19batch/s, accuracy=31.25%, loss=1.57]  "
          ]
        },
        {
          "output_type": "stream",
          "name": "stdout",
          "text": [
            "GB | Epoch 1 | Loss: 1.4992085695266724 | Accuracy: 45.3125%\n",
            "GB | Epoch 1 | Loss: 1.4363583326339722 | Accuracy: 50.0%\n",
            "GB | Epoch 1 | Loss: 1.4966622591018677 | Accuracy: 40.625%\n",
            "GB | Epoch 1 | Loss: 1.4504215717315674 | Accuracy: 46.875%\n",
            "GB | Epoch 1 | Loss: 1.3874911069869995 | Accuracy: 57.8125%\n",
            "GB | Epoch 1 | Loss: 1.4561543464660645 | Accuracy: 46.875%\n",
            "GB | Epoch 1 | Loss: 1.5311877727508545 | Accuracy: 43.75%\n",
            "GB | Epoch 1 | Loss: 1.4557472467422485 | Accuracy: 42.1875%\n",
            "GB | Epoch 1 | Loss: 1.5726861953735352 | Accuracy: 31.25%\n"
          ]
        },
        {
          "output_type": "stream",
          "name": "stderr",
          "text": [
            "Epoch 1:   9%|▉         | 69/751 [00:01<00:15, 43.93batch/s, accuracy=48.4375%, loss=1.38]"
          ]
        },
        {
          "output_type": "stream",
          "name": "stdout",
          "text": [
            "GB | Epoch 1 | Loss: 1.5574839115142822 | Accuracy: 35.9375%\n",
            "GB | Epoch 1 | Loss: 1.5174983739852905 | Accuracy: 42.1875%\n",
            "GB | Epoch 1 | Loss: 1.5808320045471191 | Accuracy: 37.5%\n",
            "GB | Epoch 1 | Loss: 1.4923006296157837 | Accuracy: 35.9375%\n",
            "GB | Epoch 1 | Loss: 1.4403530359268188 | Accuracy: 43.75%\n",
            "GB | Epoch 1 | Loss: 1.492936372756958 | Accuracy: 45.3125%\n",
            "GB | Epoch 1 | Loss: 1.613593578338623 | Accuracy: 31.25%\n",
            "GB | Epoch 1 | Loss: 1.4777368307113647 | Accuracy: 37.5%\n",
            "GB | Epoch 1 | Loss: 1.4895036220550537 | Accuracy: 42.1875%\n",
            "GB | Epoch 1 | Loss: 1.3834826946258545 | Accuracy: 48.4375%\n"
          ]
        },
        {
          "output_type": "stream",
          "name": "stderr",
          "text": [
            "Epoch 1:  11%|█         | 79/751 [00:02<00:15, 42.81batch/s, accuracy=50.0%, loss=1.45]"
          ]
        },
        {
          "output_type": "stream",
          "name": "stdout",
          "text": [
            "GB | Epoch 1 | Loss: 1.4717470407485962 | Accuracy: 50.0%\n",
            "GB | Epoch 1 | Loss: 1.455403447151184 | Accuracy: 43.75%\n",
            "GB | Epoch 1 | Loss: 1.4590988159179688 | Accuracy: 51.5625%\n",
            "GB | Epoch 1 | Loss: 1.4547200202941895 | Accuracy: 45.3125%\n",
            "GB | Epoch 1 | Loss: 1.5117239952087402 | Accuracy: 46.875%\n",
            "GB | Epoch 1 | Loss: 1.4431086778640747 | Accuracy: 40.625%\n",
            "GB | Epoch 1 | Loss: 1.4658459424972534 | Accuracy: 48.4375%\n",
            "GB | Epoch 1 | Loss: 1.4512839317321777 | Accuracy: 50.0%\n",
            "GB | Epoch 1 | Loss: 1.4466336965560913 | Accuracy: 50.0%\n"
          ]
        },
        {
          "output_type": "stream",
          "name": "stderr",
          "text": [
            "Epoch 1:  12%|█▏        | 89/751 [00:02<00:14, 44.15batch/s, accuracy=43.75%, loss=1.52] "
          ]
        },
        {
          "output_type": "stream",
          "name": "stdout",
          "text": [
            "GB | Epoch 1 | Loss: 1.5101038217544556 | Accuracy: 37.5%\n",
            "GB | Epoch 1 | Loss: 1.6619492769241333 | Accuracy: 29.6875%\n",
            "GB | Epoch 1 | Loss: 1.5174474716186523 | Accuracy: 39.0625%\n",
            "GB | Epoch 1 | Loss: 1.411107063293457 | Accuracy: 51.5625%\n",
            "GB | Epoch 1 | Loss: 1.5158252716064453 | Accuracy: 45.3125%\n",
            "GB | Epoch 1 | Loss: 1.547058343887329 | Accuracy: 43.75%\n",
            "GB | Epoch 1 | Loss: 1.4831129312515259 | Accuracy: 37.5%\n",
            "GB | Epoch 1 | Loss: 1.459916591644287 | Accuracy: 48.4375%\n",
            "GB | Epoch 1 | Loss: 1.4702335596084595 | Accuracy: 46.875%\n",
            "GB | Epoch 1 | Loss: 1.5181306600570679 | Accuracy: 43.75%\n"
          ]
        },
        {
          "output_type": "stream",
          "name": "stderr",
          "text": [
            "Epoch 1:  13%|█▎        | 99/751 [00:02<00:14, 44.17batch/s, accuracy=37.5%, loss=1.51]   "
          ]
        },
        {
          "output_type": "stream",
          "name": "stdout",
          "text": [
            "GB | Epoch 1 | Loss: 1.499275803565979 | Accuracy: 35.9375%\n",
            "GB | Epoch 1 | Loss: 1.4560800790786743 | Accuracy: 43.75%\n",
            "GB | Epoch 1 | Loss: 1.4887276887893677 | Accuracy: 39.0625%\n",
            "GB | Epoch 1 | Loss: 1.503869891166687 | Accuracy: 37.5%\n",
            "GB | Epoch 1 | Loss: 1.4701565504074097 | Accuracy: 37.5%\n",
            "GB | Epoch 1 | Loss: 1.510044813156128 | Accuracy: 42.1875%\n",
            "GB | Epoch 1 | Loss: 1.4564871788024902 | Accuracy: 48.4375%\n",
            "GB | Epoch 1 | Loss: 1.4113982915878296 | Accuracy: 46.875%\n",
            "GB | Epoch 1 | Loss: 1.4607986211776733 | Accuracy: 39.0625%\n",
            "GB | Epoch 1 | Loss: 1.5102758407592773 | Accuracy: 37.5%\n"
          ]
        },
        {
          "output_type": "stream",
          "name": "stderr",
          "text": [
            "Epoch 1:  15%|█▍        | 109/751 [00:02<00:14, 44.80batch/s, accuracy=32.8125%, loss=1.54]"
          ]
        },
        {
          "output_type": "stream",
          "name": "stdout",
          "text": [
            "GB | Epoch 1 | Loss: 1.5318870544433594 | Accuracy: 35.9375%\n",
            "GB | Epoch 1 | Loss: 1.6337417364120483 | Accuracy: 31.25%\n",
            "GB | Epoch 1 | Loss: 1.5334104299545288 | Accuracy: 39.0625%\n",
            "GB | Epoch 1 | Loss: 1.5190082788467407 | Accuracy: 34.375%\n",
            "GB | Epoch 1 | Loss: 1.5360219478607178 | Accuracy: 45.3125%\n",
            "GB | Epoch 1 | Loss: 1.5430818796157837 | Accuracy: 39.0625%\n",
            "GB | Epoch 1 | Loss: 1.468632698059082 | Accuracy: 48.4375%\n",
            "GB | Epoch 1 | Loss: 1.4974087476730347 | Accuracy: 45.3125%\n",
            "GB | Epoch 1 | Loss: 1.5009760856628418 | Accuracy: 42.1875%\n",
            "GB | Epoch 1 | Loss: 1.5390902757644653 | Accuracy: 32.8125%\n"
          ]
        },
        {
          "output_type": "stream",
          "name": "stderr",
          "text": [
            "Epoch 1:  16%|█▌        | 119/751 [00:03<00:14, 45.13batch/s, accuracy=45.3125%, loss=1.38]"
          ]
        },
        {
          "output_type": "stream",
          "name": "stdout",
          "text": [
            "GB | Epoch 1 | Loss: 1.5108823776245117 | Accuracy: 42.1875%\n",
            "GB | Epoch 1 | Loss: 1.583310604095459 | Accuracy: 31.25%\n",
            "GB | Epoch 1 | Loss: 1.4623630046844482 | Accuracy: 43.75%\n",
            "GB | Epoch 1 | Loss: 1.4970749616622925 | Accuracy: 40.625%\n",
            "GB | Epoch 1 | Loss: 1.4847294092178345 | Accuracy: 45.3125%\n",
            "GB | Epoch 1 | Loss: 1.4912397861480713 | Accuracy: 46.875%\n",
            "GB | Epoch 1 | Loss: 1.4907530546188354 | Accuracy: 42.1875%\n",
            "GB | Epoch 1 | Loss: 1.4423062801361084 | Accuracy: 42.1875%\n",
            "GB | Epoch 1 | Loss: 1.484403133392334 | Accuracy: 40.625%\n"
          ]
        },
        {
          "output_type": "stream",
          "name": "stderr",
          "text": [
            "Epoch 1:  17%|█▋        | 129/751 [00:03<00:14, 43.78batch/s, accuracy=43.75%, loss=1.44]"
          ]
        },
        {
          "output_type": "stream",
          "name": "stdout",
          "text": [
            "GB | Epoch 1 | Loss: 1.38064444065094 | Accuracy: 45.3125%\n",
            "GB | Epoch 1 | Loss: 1.4491506814956665 | Accuracy: 45.3125%\n",
            "GB | Epoch 1 | Loss: 1.520514726638794 | Accuracy: 40.625%\n",
            "GB | Epoch 1 | Loss: 1.4819345474243164 | Accuracy: 37.5%\n",
            "GB | Epoch 1 | Loss: 1.5209600925445557 | Accuracy: 48.4375%\n",
            "GB | Epoch 1 | Loss: 1.447547435760498 | Accuracy: 43.75%\n",
            "GB | Epoch 1 | Loss: 1.462196946144104 | Accuracy: 48.4375%\n",
            "GB | Epoch 1 | Loss: 1.4924646615982056 | Accuracy: 50.0%\n",
            "GB | Epoch 1 | Loss: 1.4436558485031128 | Accuracy: 43.75%\n"
          ]
        },
        {
          "output_type": "stream",
          "name": "stderr",
          "text": [
            "Epoch 1:  19%|█▊        | 139/751 [00:03<00:13, 44.49batch/s, accuracy=54.6875%, loss=1.44]"
          ]
        },
        {
          "output_type": "stream",
          "name": "stdout",
          "text": [
            "GB | Epoch 1 | Loss: 1.4470152854919434 | Accuracy: 43.75%\n",
            "GB | Epoch 1 | Loss: 1.4101061820983887 | Accuracy: 51.5625%\n",
            "GB | Epoch 1 | Loss: 1.5576164722442627 | Accuracy: 40.625%\n",
            "GB | Epoch 1 | Loss: 1.3931211233139038 | Accuracy: 56.25%\n",
            "GB | Epoch 1 | Loss: 1.4883822202682495 | Accuracy: 43.75%\n",
            "GB | Epoch 1 | Loss: 1.5479607582092285 | Accuracy: 39.0625%\n",
            "GB | Epoch 1 | Loss: 1.4562216997146606 | Accuracy: 53.125%\n",
            "GB | Epoch 1 | Loss: 1.4825798273086548 | Accuracy: 53.125%\n",
            "GB | Epoch 1 | Loss: 1.4325884580612183 | Accuracy: 46.875%\n",
            "GB | Epoch 1 | Loss: 1.442147135734558 | Accuracy: 54.6875%\n"
          ]
        },
        {
          "output_type": "stream",
          "name": "stderr",
          "text": [
            "Epoch 1:  20%|█▉        | 149/751 [00:03<00:13, 44.97batch/s, accuracy=31.25%, loss=1.65]"
          ]
        },
        {
          "output_type": "stream",
          "name": "stdout",
          "text": [
            "GB | Epoch 1 | Loss: 1.5160170793533325 | Accuracy: 43.75%\n",
            "GB | Epoch 1 | Loss: 1.4389076232910156 | Accuracy: 51.5625%\n",
            "GB | Epoch 1 | Loss: 1.578117847442627 | Accuracy: 31.25%\n",
            "GB | Epoch 1 | Loss: 1.4705612659454346 | Accuracy: 40.625%\n",
            "GB | Epoch 1 | Loss: 1.4595645666122437 | Accuracy: 37.5%\n",
            "GB | Epoch 1 | Loss: 1.5734268426895142 | Accuracy: 37.5%\n",
            "GB | Epoch 1 | Loss: 1.5217859745025635 | Accuracy: 46.875%\n",
            "GB | Epoch 1 | Loss: 1.4979666471481323 | Accuracy: 39.0625%\n",
            "GB | Epoch 1 | Loss: 1.5368980169296265 | Accuracy: 35.9375%\n",
            "GB | Epoch 1 | Loss: 1.6548361778259277 | Accuracy: 31.25%\n"
          ]
        },
        {
          "output_type": "stream",
          "name": "stderr",
          "text": [
            "Epoch 1:  21%|██        | 159/751 [00:03<00:13, 45.17batch/s, accuracy=28.125%, loss=1.62]"
          ]
        },
        {
          "output_type": "stream",
          "name": "stdout",
          "text": [
            "GB | Epoch 1 | Loss: 1.5603784322738647 | Accuracy: 37.5%\n",
            "GB | Epoch 1 | Loss: 1.4564813375473022 | Accuracy: 48.4375%\n",
            "GB | Epoch 1 | Loss: 1.57377290725708 | Accuracy: 40.625%\n",
            "GB | Epoch 1 | Loss: 1.4648391008377075 | Accuracy: 42.1875%\n",
            "GB | Epoch 1 | Loss: 1.5049960613250732 | Accuracy: 46.875%\n",
            "GB | Epoch 1 | Loss: 1.4835468530654907 | Accuracy: 46.875%\n",
            "GB | Epoch 1 | Loss: 1.5046571493148804 | Accuracy: 34.375%\n",
            "GB | Epoch 1 | Loss: 1.4697014093399048 | Accuracy: 43.75%\n",
            "GB | Epoch 1 | Loss: 1.4877820014953613 | Accuracy: 46.875%\n",
            "GB | Epoch 1 | Loss: 1.6151305437088013 | Accuracy: 28.125%\n"
          ]
        },
        {
          "output_type": "stream",
          "name": "stderr",
          "text": [
            "Epoch 1:  22%|██▏       | 164/751 [00:04<00:12, 45.38batch/s, accuracy=39.0625%, loss=1.51]"
          ]
        },
        {
          "output_type": "stream",
          "name": "stdout",
          "text": [
            "GB | Epoch 1 | Loss: 1.440079927444458 | Accuracy: 45.3125%\n",
            "GB | Epoch 1 | Loss: 1.5086119174957275 | Accuracy: 43.75%\n",
            "GB | Epoch 1 | Loss: 1.5298022031784058 | Accuracy: 39.0625%\n",
            "GB | Epoch 1 | Loss: 1.446088194847107 | Accuracy: 40.625%\n",
            "GB | Epoch 1 | Loss: 1.5379823446273804 | Accuracy: 43.75%\n",
            "GB | Epoch 1 | Loss: 1.4997155666351318 | Accuracy: 46.875%\n",
            "GB | Epoch 1 | Loss: 1.4091534614562988 | Accuracy: 48.4375%\n",
            "GB | Epoch 1 | Loss: 1.541110634803772 | Accuracy: 35.9375%\n",
            "GB | Epoch 1 | Loss: 1.5076314210891724 | Accuracy: 39.0625%\n"
          ]
        },
        {
          "output_type": "stream",
          "name": "stderr",
          "text": [
            "Epoch 1:  23%|██▎       | 174/751 [00:04<00:13, 43.70batch/s, accuracy=35.9375%, loss=1.51]"
          ]
        },
        {
          "output_type": "stream",
          "name": "stdout",
          "text": [
            "GB | Epoch 1 | Loss: 1.491337776184082 | Accuracy: 46.875%\n",
            "GB | Epoch 1 | Loss: 1.4556910991668701 | Accuracy: 45.3125%\n",
            "GB | Epoch 1 | Loss: 1.5052577257156372 | Accuracy: 40.625%\n",
            "GB | Epoch 1 | Loss: 1.4696784019470215 | Accuracy: 39.0625%\n",
            "GB | Epoch 1 | Loss: 1.4952654838562012 | Accuracy: 39.0625%\n",
            "GB | Epoch 1 | Loss: 1.485132098197937 | Accuracy: 42.1875%\n",
            "GB | Epoch 1 | Loss: 1.5235966444015503 | Accuracy: 43.75%\n",
            "GB | Epoch 1 | Loss: 1.4956769943237305 | Accuracy: 37.5%\n",
            "GB | Epoch 1 | Loss: 1.5145626068115234 | Accuracy: 35.9375%\n"
          ]
        },
        {
          "output_type": "stream",
          "name": "stderr",
          "text": [
            "Epoch 1:  25%|██▍       | 184/751 [00:04<00:12, 44.92batch/s, accuracy=42.1875%, loss=1.52]"
          ]
        },
        {
          "output_type": "stream",
          "name": "stdout",
          "text": [
            "GB | Epoch 1 | Loss: 1.4939790964126587 | Accuracy: 31.25%\n",
            "GB | Epoch 1 | Loss: 1.4897634983062744 | Accuracy: 42.1875%\n",
            "GB | Epoch 1 | Loss: 1.5106258392333984 | Accuracy: 37.5%\n",
            "GB | Epoch 1 | Loss: 1.4916292428970337 | Accuracy: 45.3125%\n",
            "GB | Epoch 1 | Loss: 1.5620150566101074 | Accuracy: 35.9375%\n",
            "GB | Epoch 1 | Loss: 1.5364269018173218 | Accuracy: 32.8125%\n",
            "GB | Epoch 1 | Loss: 1.4369311332702637 | Accuracy: 45.3125%\n",
            "GB | Epoch 1 | Loss: 1.5173208713531494 | Accuracy: 46.875%\n",
            "GB | Epoch 1 | Loss: 1.428367018699646 | Accuracy: 42.1875%\n",
            "GB | Epoch 1 | Loss: 1.5153038501739502 | Accuracy: 42.1875%\n"
          ]
        },
        {
          "output_type": "stream",
          "name": "stderr",
          "text": [
            "Epoch 1:  26%|██▌       | 194/751 [00:04<00:12, 45.27batch/s, accuracy=57.8125%, loss=1.31]"
          ]
        },
        {
          "output_type": "stream",
          "name": "stdout",
          "text": [
            "GB | Epoch 1 | Loss: 1.3616126775741577 | Accuracy: 56.25%\n",
            "GB | Epoch 1 | Loss: 1.437705397605896 | Accuracy: 39.0625%\n",
            "GB | Epoch 1 | Loss: 1.4921956062316895 | Accuracy: 39.0625%\n",
            "GB | Epoch 1 | Loss: 1.511272668838501 | Accuracy: 35.9375%\n",
            "GB | Epoch 1 | Loss: 1.478084921836853 | Accuracy: 45.3125%\n",
            "GB | Epoch 1 | Loss: 1.529006838798523 | Accuracy: 42.1875%\n",
            "GB | Epoch 1 | Loss: 1.4914577007293701 | Accuracy: 45.3125%\n",
            "GB | Epoch 1 | Loss: 1.4755600690841675 | Accuracy: 53.125%\n",
            "GB | Epoch 1 | Loss: 1.475705623626709 | Accuracy: 34.375%\n",
            "GB | Epoch 1 | Loss: 1.3126554489135742 | Accuracy: 57.8125%\n"
          ]
        },
        {
          "output_type": "stream",
          "name": "stderr",
          "text": [
            "Epoch 1:  27%|██▋       | 204/751 [00:04<00:12, 44.70batch/s, accuracy=46.875%, loss=1.46]"
          ]
        },
        {
          "output_type": "stream",
          "name": "stdout",
          "text": [
            "GB | Epoch 1 | Loss: 1.4761635065078735 | Accuracy: 40.625%\n",
            "GB | Epoch 1 | Loss: 1.578199863433838 | Accuracy: 37.5%\n",
            "GB | Epoch 1 | Loss: 1.524678349494934 | Accuracy: 42.1875%\n",
            "GB | Epoch 1 | Loss: 1.389406681060791 | Accuracy: 46.875%\n",
            "GB | Epoch 1 | Loss: 1.4958600997924805 | Accuracy: 45.3125%\n",
            "GB | Epoch 1 | Loss: 1.4890645742416382 | Accuracy: 39.0625%\n",
            "GB | Epoch 1 | Loss: 1.4114489555358887 | Accuracy: 42.1875%\n",
            "GB | Epoch 1 | Loss: 1.482562780380249 | Accuracy: 43.75%\n",
            "GB | Epoch 1 | Loss: 1.4927523136138916 | Accuracy: 43.75%\n",
            "GB | Epoch 1 | Loss: 1.4598275423049927 | Accuracy: 46.875%\n"
          ]
        },
        {
          "output_type": "stream",
          "name": "stderr",
          "text": [
            "Epoch 1:  28%|██▊       | 214/751 [00:05<00:11, 45.02batch/s, accuracy=54.6875%, loss=1.43]"
          ]
        },
        {
          "output_type": "stream",
          "name": "stdout",
          "text": [
            "GB | Epoch 1 | Loss: 1.539835810661316 | Accuracy: 40.625%\n",
            "GB | Epoch 1 | Loss: 1.4946367740631104 | Accuracy: 45.3125%\n",
            "GB | Epoch 1 | Loss: 1.3658815622329712 | Accuracy: 56.25%\n",
            "GB | Epoch 1 | Loss: 1.4749828577041626 | Accuracy: 46.875%\n",
            "GB | Epoch 1 | Loss: 1.5324103832244873 | Accuracy: 45.3125%\n",
            "GB | Epoch 1 | Loss: 1.4773141145706177 | Accuracy: 45.3125%\n",
            "GB | Epoch 1 | Loss: 1.4417955875396729 | Accuracy: 53.125%\n",
            "GB | Epoch 1 | Loss: 1.5822588205337524 | Accuracy: 39.0625%\n",
            "GB | Epoch 1 | Loss: 1.4295432567596436 | Accuracy: 54.6875%\n"
          ]
        },
        {
          "output_type": "stream",
          "name": "stderr",
          "text": [
            "Epoch 1:  30%|██▉       | 224/751 [00:05<00:11, 43.97batch/s, accuracy=60.9375%, loss=1.39]"
          ]
        },
        {
          "output_type": "stream",
          "name": "stdout",
          "text": [
            "GB | Epoch 1 | Loss: 1.5260635614395142 | Accuracy: 43.75%\n",
            "GB | Epoch 1 | Loss: 1.4578303098678589 | Accuracy: 51.5625%\n",
            "GB | Epoch 1 | Loss: 1.36905837059021 | Accuracy: 56.25%\n",
            "GB | Epoch 1 | Loss: 1.4528393745422363 | Accuracy: 48.4375%\n",
            "GB | Epoch 1 | Loss: 1.391162395477295 | Accuracy: 54.6875%\n",
            "GB | Epoch 1 | Loss: 1.4409310817718506 | Accuracy: 46.875%\n",
            "GB | Epoch 1 | Loss: 1.4259874820709229 | Accuracy: 45.3125%\n",
            "GB | Epoch 1 | Loss: 1.3645401000976562 | Accuracy: 51.5625%\n",
            "GB | Epoch 1 | Loss: 1.4779607057571411 | Accuracy: 43.75%\n",
            "GB | Epoch 1 | Loss: 1.390468955039978 | Accuracy: 60.9375%\n"
          ]
        },
        {
          "output_type": "stream",
          "name": "stderr",
          "text": [
            "Epoch 1:  31%|███       | 234/751 [00:05<00:11, 44.99batch/s, accuracy=56.25%, loss=1.31]  "
          ]
        },
        {
          "output_type": "stream",
          "name": "stdout",
          "text": [
            "GB | Epoch 1 | Loss: 1.3464609384536743 | Accuracy: 54.6875%\n",
            "GB | Epoch 1 | Loss: 1.6021344661712646 | Accuracy: 34.375%\n",
            "GB | Epoch 1 | Loss: 1.5311455726623535 | Accuracy: 35.9375%\n",
            "GB | Epoch 1 | Loss: 1.4606151580810547 | Accuracy: 45.3125%\n",
            "GB | Epoch 1 | Loss: 1.4710386991500854 | Accuracy: 39.0625%\n",
            "GB | Epoch 1 | Loss: 1.494173526763916 | Accuracy: 42.1875%\n",
            "GB | Epoch 1 | Loss: 1.5608381032943726 | Accuracy: 37.5%\n",
            "GB | Epoch 1 | Loss: 1.4893797636032104 | Accuracy: 32.8125%\n",
            "GB | Epoch 1 | Loss: 1.4169646501541138 | Accuracy: 42.1875%\n",
            "GB | Epoch 1 | Loss: 1.3122341632843018 | Accuracy: 56.25%\n"
          ]
        },
        {
          "output_type": "stream",
          "name": "stderr",
          "text": [
            "Epoch 1:  32%|███▏      | 244/751 [00:05<00:12, 40.19batch/s, accuracy=40.625%, loss=1.49]"
          ]
        },
        {
          "output_type": "stream",
          "name": "stdout",
          "text": [
            "GB | Epoch 1 | Loss: 1.506951928138733 | Accuracy: 40.625%\n",
            "GB | Epoch 1 | Loss: 1.5036981105804443 | Accuracy: 45.3125%\n",
            "GB | Epoch 1 | Loss: 1.4110907316207886 | Accuracy: 51.5625%\n",
            "GB | Epoch 1 | Loss: 1.4331530332565308 | Accuracy: 45.3125%\n",
            "GB | Epoch 1 | Loss: 1.46748948097229 | Accuracy: 39.0625%\n",
            "GB | Epoch 1 | Loss: 1.4642276763916016 | Accuracy: 45.3125%\n",
            "GB | Epoch 1 | Loss: 1.4135109186172485 | Accuracy: 50.0%\n",
            "GB | Epoch 1 | Loss: 1.4930624961853027 | Accuracy: 40.625%\n"
          ]
        },
        {
          "output_type": "stream",
          "name": "stderr",
          "text": [
            "Epoch 1:  33%|███▎      | 249/751 [00:06<00:13, 37.59batch/s, accuracy=37.5%, loss=1.47]  "
          ]
        },
        {
          "output_type": "stream",
          "name": "stdout",
          "text": [
            "GB | Epoch 1 | Loss: 1.4288430213928223 | Accuracy: 45.3125%\n",
            "GB | Epoch 1 | Loss: 1.4509590864181519 | Accuracy: 40.625%\n",
            "GB | Epoch 1 | Loss: 1.421183705329895 | Accuracy: 51.5625%\n",
            "GB | Epoch 1 | Loss: 1.47480046749115 | Accuracy: 42.1875%\n",
            "GB | Epoch 1 | Loss: 1.478391408920288 | Accuracy: 46.875%\n",
            "GB | Epoch 1 | Loss: 1.425219178199768 | Accuracy: 46.875%\n",
            "GB | Epoch 1 | Loss: 1.4737799167633057 | Accuracy: 37.5%\n"
          ]
        },
        {
          "output_type": "stream",
          "name": "stderr",
          "text": [
            "Epoch 1:  34%|███▍      | 257/751 [00:06<00:14, 33.99batch/s, accuracy=39.0625%, loss=1.55]"
          ]
        },
        {
          "output_type": "stream",
          "name": "stdout",
          "text": [
            "GB | Epoch 1 | Loss: 1.474927544593811 | Accuracy: 43.75%\n",
            "GB | Epoch 1 | Loss: 1.4284536838531494 | Accuracy: 40.625%\n",
            "GB | Epoch 1 | Loss: 1.4424229860305786 | Accuracy: 39.0625%\n",
            "GB | Epoch 1 | Loss: 1.3620513677597046 | Accuracy: 50.0%\n",
            "GB | Epoch 1 | Loss: 1.496968388557434 | Accuracy: 42.1875%\n",
            "GB | Epoch 1 | Loss: 1.4907679557800293 | Accuracy: 39.0625%\n",
            "GB | Epoch 1 | Loss: 1.551620364189148 | Accuracy: 39.0625%\n"
          ]
        },
        {
          "output_type": "stream",
          "name": "stderr",
          "text": [
            "Epoch 1:  35%|███▌      | 265/751 [00:06<00:14, 33.04batch/s, accuracy=42.1875%, loss=1.5]"
          ]
        },
        {
          "output_type": "stream",
          "name": "stdout",
          "text": [
            "GB | Epoch 1 | Loss: 1.5201131105422974 | Accuracy: 40.625%\n",
            "GB | Epoch 1 | Loss: 1.478440284729004 | Accuracy: 42.1875%\n",
            "GB | Epoch 1 | Loss: 1.4745055437088013 | Accuracy: 39.0625%\n",
            "GB | Epoch 1 | Loss: 1.4102367162704468 | Accuracy: 51.5625%\n",
            "GB | Epoch 1 | Loss: 1.4996581077575684 | Accuracy: 42.1875%\n",
            "GB | Epoch 1 | Loss: 1.3716208934783936 | Accuracy: 45.3125%\n",
            "GB | Epoch 1 | Loss: 1.5023220777511597 | Accuracy: 42.1875%\n"
          ]
        },
        {
          "output_type": "stream",
          "name": "stderr",
          "text": [
            "Epoch 1:  36%|███▌      | 269/751 [00:06<00:14, 32.32batch/s, accuracy=42.1875%, loss=1.5]"
          ]
        },
        {
          "output_type": "stream",
          "name": "stdout",
          "text": [
            "GB | Epoch 1 | Loss: 1.406746506690979 | Accuracy: 51.5625%\n",
            "GB | Epoch 1 | Loss: 1.457039475440979 | Accuracy: 39.0625%\n",
            "GB | Epoch 1 | Loss: 1.480177879333496 | Accuracy: 50.0%\n",
            "GB | Epoch 1 | Loss: 1.344221591949463 | Accuracy: 56.25%\n",
            "GB | Epoch 1 | Loss: 1.4576834440231323 | Accuracy: 46.875%\n",
            "GB | Epoch 1 | Loss: 1.5741095542907715 | Accuracy: 34.375%\n",
            "GB | Epoch 1 | Loss: 1.504531979560852 | Accuracy: 42.1875%\n"
          ]
        },
        {
          "output_type": "stream",
          "name": "stderr",
          "text": [
            "Epoch 1:  37%|███▋      | 277/751 [00:06<00:14, 32.51batch/s, accuracy=51.5625%, loss=1.42]"
          ]
        },
        {
          "output_type": "stream",
          "name": "stdout",
          "text": [
            "GB | Epoch 1 | Loss: 1.5059322118759155 | Accuracy: 40.625%\n",
            "GB | Epoch 1 | Loss: 1.4760891199111938 | Accuracy: 34.375%\n",
            "GB | Epoch 1 | Loss: 1.420548439025879 | Accuracy: 56.25%\n",
            "GB | Epoch 1 | Loss: 1.4307794570922852 | Accuracy: 53.125%\n",
            "GB | Epoch 1 | Loss: 1.4052557945251465 | Accuracy: 57.8125%\n",
            "GB | Epoch 1 | Loss: 1.5285422801971436 | Accuracy: 42.1875%\n",
            "GB | Epoch 1 | Loss: 1.419726848602295 | Accuracy: 51.5625%\n"
          ]
        },
        {
          "output_type": "stream",
          "name": "stderr",
          "text": [
            "Epoch 1:  38%|███▊      | 285/751 [00:07<00:14, 32.53batch/s, accuracy=46.875%, loss=1.5] "
          ]
        },
        {
          "output_type": "stream",
          "name": "stdout",
          "text": [
            "GB | Epoch 1 | Loss: 1.4519938230514526 | Accuracy: 46.875%\n",
            "GB | Epoch 1 | Loss: 1.4824180603027344 | Accuracy: 46.875%\n",
            "GB | Epoch 1 | Loss: 1.4834924936294556 | Accuracy: 46.875%\n",
            "GB | Epoch 1 | Loss: 1.5331488847732544 | Accuracy: 42.1875%\n",
            "GB | Epoch 1 | Loss: 1.350969910621643 | Accuracy: 59.375%\n",
            "GB | Epoch 1 | Loss: 1.5446221828460693 | Accuracy: 40.625%\n",
            "GB | Epoch 1 | Loss: 1.4975255727767944 | Accuracy: 46.875%\n"
          ]
        },
        {
          "output_type": "stream",
          "name": "stderr",
          "text": [
            "Epoch 1:  39%|███▉      | 293/751 [00:07<00:14, 32.28batch/s, accuracy=53.125%, loss=1.42]"
          ]
        },
        {
          "output_type": "stream",
          "name": "stdout",
          "text": [
            "GB | Epoch 1 | Loss: 1.5817625522613525 | Accuracy: 39.0625%\n",
            "GB | Epoch 1 | Loss: 1.395809531211853 | Accuracy: 51.5625%\n",
            "GB | Epoch 1 | Loss: 1.5113434791564941 | Accuracy: 45.3125%\n",
            "GB | Epoch 1 | Loss: 1.3267714977264404 | Accuracy: 56.25%\n",
            "GB | Epoch 1 | Loss: 1.5673251152038574 | Accuracy: 43.75%\n",
            "GB | Epoch 1 | Loss: 1.412984848022461 | Accuracy: 53.125%\n",
            "GB | Epoch 1 | Loss: 1.417781114578247 | Accuracy: 53.125%\n"
          ]
        },
        {
          "output_type": "stream",
          "name": "stderr",
          "text": [
            "Epoch 1:  40%|███▉      | 297/751 [00:07<00:14, 32.02batch/s, accuracy=48.4375%, loss=1.49]"
          ]
        },
        {
          "output_type": "stream",
          "name": "stdout",
          "text": [
            "GB | Epoch 1 | Loss: 1.4213590621948242 | Accuracy: 50.0%\n",
            "GB | Epoch 1 | Loss: 1.4472770690917969 | Accuracy: 54.6875%\n",
            "GB | Epoch 1 | Loss: 1.492698073387146 | Accuracy: 42.1875%\n",
            "GB | Epoch 1 | Loss: 1.4730256795883179 | Accuracy: 45.3125%\n",
            "GB | Epoch 1 | Loss: 1.5273069143295288 | Accuracy: 45.3125%\n",
            "GB | Epoch 1 | Loss: 1.435058355331421 | Accuracy: 51.5625%\n",
            "GB | Epoch 1 | Loss: 1.4923901557922363 | Accuracy: 48.4375%\n"
          ]
        },
        {
          "output_type": "stream",
          "name": "stderr",
          "text": [
            "Epoch 1:  41%|████      | 305/751 [00:07<00:13, 31.89batch/s, accuracy=57.8125%, loss=1.35]"
          ]
        },
        {
          "output_type": "stream",
          "name": "stdout",
          "text": [
            "GB | Epoch 1 | Loss: 1.3869041204452515 | Accuracy: 59.375%\n",
            "GB | Epoch 1 | Loss: 1.442956566810608 | Accuracy: 48.4375%\n",
            "GB | Epoch 1 | Loss: 1.4642820358276367 | Accuracy: 53.125%\n",
            "GB | Epoch 1 | Loss: 1.415132999420166 | Accuracy: 53.125%\n",
            "GB | Epoch 1 | Loss: 1.547443151473999 | Accuracy: 43.75%\n",
            "GB | Epoch 1 | Loss: 1.4465429782867432 | Accuracy: 46.875%\n",
            "GB | Epoch 1 | Loss: 1.3538782596588135 | Accuracy: 57.8125%\n"
          ]
        },
        {
          "output_type": "stream",
          "name": "stderr",
          "text": [
            "Epoch 1:  42%|████▏     | 313/751 [00:08<00:13, 32.30batch/s, accuracy=51.5625%, loss=1.42]"
          ]
        },
        {
          "output_type": "stream",
          "name": "stdout",
          "text": [
            "GB | Epoch 1 | Loss: 1.4317896366119385 | Accuracy: 48.4375%\n",
            "GB | Epoch 1 | Loss: 1.4322625398635864 | Accuracy: 51.5625%\n",
            "GB | Epoch 1 | Loss: 1.458539366722107 | Accuracy: 53.125%\n",
            "GB | Epoch 1 | Loss: 1.5289469957351685 | Accuracy: 46.875%\n",
            "GB | Epoch 1 | Loss: 1.535233974456787 | Accuracy: 43.75%\n",
            "GB | Epoch 1 | Loss: 1.4525693655014038 | Accuracy: 51.5625%\n",
            "GB | Epoch 1 | Loss: 1.423039197921753 | Accuracy: 51.5625%\n"
          ]
        },
        {
          "output_type": "stream",
          "name": "stderr",
          "text": [
            "Epoch 1:  43%|████▎     | 321/751 [00:08<00:13, 31.15batch/s, accuracy=48.4375%, loss=1.35]"
          ]
        },
        {
          "output_type": "stream",
          "name": "stdout",
          "text": [
            "GB | Epoch 1 | Loss: 1.5300830602645874 | Accuracy: 39.0625%\n",
            "GB | Epoch 1 | Loss: 1.3952513933181763 | Accuracy: 53.125%\n",
            "GB | Epoch 1 | Loss: 1.4238818883895874 | Accuracy: 50.0%\n",
            "GB | Epoch 1 | Loss: 1.5529805421829224 | Accuracy: 31.25%\n",
            "GB | Epoch 1 | Loss: 1.4546188116073608 | Accuracy: 40.625%\n",
            "GB | Epoch 1 | Loss: 1.5295040607452393 | Accuracy: 35.9375%\n",
            "GB | Epoch 1 | Loss: 1.3483995199203491 | Accuracy: 48.4375%\n"
          ]
        },
        {
          "output_type": "stream",
          "name": "stderr",
          "text": [
            "Epoch 1:  43%|████▎     | 325/751 [00:08<00:13, 30.67batch/s, accuracy=53.125%, loss=1.44] "
          ]
        },
        {
          "output_type": "stream",
          "name": "stdout",
          "text": [
            "GB | Epoch 1 | Loss: 1.395329475402832 | Accuracy: 50.0%\n",
            "GB | Epoch 1 | Loss: 1.4565808773040771 | Accuracy: 39.0625%\n",
            "GB | Epoch 1 | Loss: 1.5728987455368042 | Accuracy: 37.5%\n",
            "GB | Epoch 1 | Loss: 1.4208660125732422 | Accuracy: 53.125%\n",
            "GB | Epoch 1 | Loss: 1.3998584747314453 | Accuracy: 53.125%\n",
            "GB | Epoch 1 | Loss: 1.5436002016067505 | Accuracy: 45.3125%\n",
            "GB | Epoch 1 | Loss: 1.4440759420394897 | Accuracy: 53.125%\n"
          ]
        },
        {
          "output_type": "stream",
          "name": "stderr",
          "text": [
            "Epoch 1:  44%|████▍     | 333/751 [00:08<00:13, 30.84batch/s, accuracy=45.3125%, loss=1.48]"
          ]
        },
        {
          "output_type": "stream",
          "name": "stdout",
          "text": [
            "GB | Epoch 1 | Loss: 1.5182030200958252 | Accuracy: 43.75%\n",
            "GB | Epoch 1 | Loss: 1.5573819875717163 | Accuracy: 42.1875%\n",
            "GB | Epoch 1 | Loss: 1.4373793601989746 | Accuracy: 51.5625%\n",
            "GB | Epoch 1 | Loss: 1.4290257692337036 | Accuracy: 53.125%\n",
            "GB | Epoch 1 | Loss: 1.3578836917877197 | Accuracy: 48.4375%\n",
            "GB | Epoch 1 | Loss: 1.4843250513076782 | Accuracy: 45.3125%\n"
          ]
        },
        {
          "output_type": "stream",
          "name": "stderr",
          "text": [
            "Epoch 1:  45%|████▌     | 340/751 [00:08<00:13, 29.82batch/s, accuracy=46.875%, loss=1.4]"
          ]
        },
        {
          "output_type": "stream",
          "name": "stdout",
          "text": [
            "GB | Epoch 1 | Loss: 1.4721839427947998 | Accuracy: 45.3125%\n",
            "GB | Epoch 1 | Loss: 1.4795411825180054 | Accuracy: 31.25%\n",
            "GB | Epoch 1 | Loss: 1.4113571643829346 | Accuracy: 50.0%\n",
            "GB | Epoch 1 | Loss: 1.3420586585998535 | Accuracy: 56.25%\n",
            "GB | Epoch 1 | Loss: 1.3366365432739258 | Accuracy: 45.3125%\n",
            "GB | Epoch 1 | Loss: 1.4029185771942139 | Accuracy: 46.875%\n"
          ]
        },
        {
          "output_type": "stream",
          "name": "stderr",
          "text": [
            "Epoch 1:  46%|████▌     | 347/751 [00:09<00:13, 30.15batch/s, accuracy=51.5625%, loss=1.39]"
          ]
        },
        {
          "output_type": "stream",
          "name": "stdout",
          "text": [
            "GB | Epoch 1 | Loss: 1.3985233306884766 | Accuracy: 48.4375%\n",
            "GB | Epoch 1 | Loss: 1.4887462854385376 | Accuracy: 48.4375%\n",
            "GB | Epoch 1 | Loss: 1.5217978954315186 | Accuracy: 45.3125%\n",
            "GB | Epoch 1 | Loss: 1.4115461111068726 | Accuracy: 53.125%\n",
            "GB | Epoch 1 | Loss: 1.5139325857162476 | Accuracy: 42.1875%\n",
            "GB | Epoch 1 | Loss: 1.4663336277008057 | Accuracy: 50.0%\n",
            "GB | Epoch 1 | Loss: 1.3850090503692627 | Accuracy: 51.5625%\n"
          ]
        },
        {
          "output_type": "stream",
          "name": "stderr",
          "text": [
            "Epoch 1:  47%|████▋     | 356/751 [00:09<00:11, 34.94batch/s, accuracy=53.125%, loss=1.42]"
          ]
        },
        {
          "output_type": "stream",
          "name": "stdout",
          "text": [
            "GB | Epoch 1 | Loss: 1.517287015914917 | Accuracy: 40.625%\n",
            "GB | Epoch 1 | Loss: 1.447417140007019 | Accuracy: 53.125%\n",
            "GB | Epoch 1 | Loss: 1.3710523843765259 | Accuracy: 50.0%\n",
            "GB | Epoch 1 | Loss: 1.4137881994247437 | Accuracy: 51.5625%\n",
            "GB | Epoch 1 | Loss: 1.474528193473816 | Accuracy: 46.875%\n",
            "GB | Epoch 1 | Loss: 1.427111268043518 | Accuracy: 56.25%\n",
            "GB | Epoch 1 | Loss: 1.5759283304214478 | Accuracy: 32.8125%\n",
            "GB | Epoch 1 | Loss: 1.4899446964263916 | Accuracy: 40.625%\n",
            "GB | Epoch 1 | Loss: 1.4160410165786743 | Accuracy: 53.125%\n"
          ]
        },
        {
          "output_type": "stream",
          "name": "stderr",
          "text": [
            "Epoch 1:  49%|████▊     | 365/751 [00:09<00:10, 38.17batch/s, accuracy=53.125%, loss=1.44]"
          ]
        },
        {
          "output_type": "stream",
          "name": "stdout",
          "text": [
            "GB | Epoch 1 | Loss: 1.500397801399231 | Accuracy: 48.4375%\n",
            "GB | Epoch 1 | Loss: 1.5349135398864746 | Accuracy: 39.0625%\n",
            "GB | Epoch 1 | Loss: 1.4244143962860107 | Accuracy: 54.6875%\n",
            "GB | Epoch 1 | Loss: 1.4906721115112305 | Accuracy: 43.75%\n",
            "GB | Epoch 1 | Loss: 1.465842366218567 | Accuracy: 50.0%\n",
            "GB | Epoch 1 | Loss: 1.4309133291244507 | Accuracy: 50.0%\n",
            "GB | Epoch 1 | Loss: 1.4219597578048706 | Accuracy: 56.25%\n",
            "GB | Epoch 1 | Loss: 1.497430443763733 | Accuracy: 48.4375%\n",
            "GB | Epoch 1 | Loss: 1.439785122871399 | Accuracy: 53.125%\n"
          ]
        },
        {
          "output_type": "stream",
          "name": "stderr",
          "text": [
            "Epoch 1:  50%|████▉     | 375/751 [00:09<00:09, 41.47batch/s, accuracy=56.25%, loss=1.37]"
          ]
        },
        {
          "output_type": "stream",
          "name": "stdout",
          "text": [
            "GB | Epoch 1 | Loss: 1.3712974786758423 | Accuracy: 56.25%\n",
            "GB | Epoch 1 | Loss: 1.4595012664794922 | Accuracy: 48.4375%\n",
            "GB | Epoch 1 | Loss: 1.4839648008346558 | Accuracy: 45.3125%\n",
            "GB | Epoch 1 | Loss: 1.505665898323059 | Accuracy: 51.5625%\n",
            "GB | Epoch 1 | Loss: 1.4185950756072998 | Accuracy: 51.5625%\n",
            "GB | Epoch 1 | Loss: 1.4092544317245483 | Accuracy: 53.125%\n",
            "GB | Epoch 1 | Loss: 1.4972316026687622 | Accuracy: 39.0625%\n",
            "GB | Epoch 1 | Loss: 1.4009907245635986 | Accuracy: 51.5625%\n",
            "GB | Epoch 1 | Loss: 1.5226424932479858 | Accuracy: 39.0625%\n",
            "GB | Epoch 1 | Loss: 1.3710225820541382 | Accuracy: 56.25%\n"
          ]
        },
        {
          "output_type": "stream",
          "name": "stderr",
          "text": [
            "Epoch 1:  51%|█████▏    | 385/751 [00:10<00:08, 42.97batch/s, accuracy=62.5%, loss=1.34]"
          ]
        },
        {
          "output_type": "stream",
          "name": "stdout",
          "text": [
            "GB | Epoch 1 | Loss: 1.3990428447723389 | Accuracy: 53.125%\n",
            "GB | Epoch 1 | Loss: 1.5615354776382446 | Accuracy: 34.375%\n",
            "GB | Epoch 1 | Loss: 1.3944618701934814 | Accuracy: 54.6875%\n",
            "GB | Epoch 1 | Loss: 1.4774928092956543 | Accuracy: 39.0625%\n",
            "GB | Epoch 1 | Loss: 1.4162962436676025 | Accuracy: 50.0%\n",
            "GB | Epoch 1 | Loss: 1.3833537101745605 | Accuracy: 54.6875%\n",
            "GB | Epoch 1 | Loss: 1.3325872421264648 | Accuracy: 59.375%\n",
            "GB | Epoch 1 | Loss: 1.3906669616699219 | Accuracy: 53.125%\n",
            "GB | Epoch 1 | Loss: 1.4315553903579712 | Accuracy: 56.25%\n",
            "GB | Epoch 1 | Loss: 1.3369717597961426 | Accuracy: 62.5%\n"
          ]
        },
        {
          "output_type": "stream",
          "name": "stderr",
          "text": [
            "Epoch 1:  53%|█████▎    | 395/751 [00:10<00:08, 44.15batch/s, accuracy=48.4375%, loss=1.43]"
          ]
        },
        {
          "output_type": "stream",
          "name": "stdout",
          "text": [
            "GB | Epoch 1 | Loss: 1.4079692363739014 | Accuracy: 48.4375%\n",
            "GB | Epoch 1 | Loss: 1.4223307371139526 | Accuracy: 45.3125%\n",
            "GB | Epoch 1 | Loss: 1.5151294469833374 | Accuracy: 46.875%\n",
            "GB | Epoch 1 | Loss: 1.4346976280212402 | Accuracy: 54.6875%\n",
            "GB | Epoch 1 | Loss: 1.3714219331741333 | Accuracy: 59.375%\n",
            "GB | Epoch 1 | Loss: 1.378305435180664 | Accuracy: 50.0%\n",
            "GB | Epoch 1 | Loss: 1.3375715017318726 | Accuracy: 56.25%\n",
            "GB | Epoch 1 | Loss: 1.5131025314331055 | Accuracy: 39.0625%\n",
            "GB | Epoch 1 | Loss: 1.3657537698745728 | Accuracy: 51.5625%\n",
            "GB | Epoch 1 | Loss: 1.426748275756836 | Accuracy: 48.4375%\n"
          ]
        },
        {
          "output_type": "stream",
          "name": "stderr",
          "text": [
            "Epoch 1:  53%|█████▎    | 400/751 [00:10<00:07, 44.52batch/s, accuracy=54.6875%, loss=1.39]"
          ]
        },
        {
          "output_type": "stream",
          "name": "stdout",
          "text": [
            "GB | Epoch 1 | Loss: 1.4891413450241089 | Accuracy: 39.0625%\n",
            "GB | Epoch 1 | Loss: 1.3903824090957642 | Accuracy: 48.4375%\n",
            "GB | Epoch 1 | Loss: 1.3131523132324219 | Accuracy: 56.25%\n",
            "GB | Epoch 1 | Loss: 1.407827615737915 | Accuracy: 42.1875%\n",
            "GB | Epoch 1 | Loss: 1.4338836669921875 | Accuracy: 50.0%\n",
            "GB | Epoch 1 | Loss: 1.3644449710845947 | Accuracy: 51.5625%\n",
            "GB | Epoch 1 | Loss: 1.415600061416626 | Accuracy: 50.0%\n",
            "GB | Epoch 1 | Loss: 1.4273319244384766 | Accuracy: 48.4375%\n",
            "GB | Epoch 1 | Loss: 1.3879070281982422 | Accuracy: 54.6875%\n"
          ]
        },
        {
          "output_type": "stream",
          "name": "stderr",
          "text": [
            "Epoch 1:  55%|█████▍    | 410/751 [00:10<00:08, 41.98batch/s, accuracy=60.9375%, loss=1.38]"
          ]
        },
        {
          "output_type": "stream",
          "name": "stdout",
          "text": [
            "GB | Epoch 1 | Loss: 1.537459373474121 | Accuracy: 35.9375%\n",
            "GB | Epoch 1 | Loss: 1.408166527748108 | Accuracy: 48.4375%\n",
            "GB | Epoch 1 | Loss: 1.3263479471206665 | Accuracy: 53.125%\n",
            "GB | Epoch 1 | Loss: 1.498779535293579 | Accuracy: 42.1875%\n",
            "GB | Epoch 1 | Loss: 1.4750550985336304 | Accuracy: 46.875%\n",
            "GB | Epoch 1 | Loss: 1.336105465888977 | Accuracy: 59.375%\n",
            "GB | Epoch 1 | Loss: 1.3890180587768555 | Accuracy: 54.6875%\n",
            "GB | Epoch 1 | Loss: 1.4308438301086426 | Accuracy: 45.3125%\n"
          ]
        },
        {
          "output_type": "stream",
          "name": "stderr",
          "text": [
            "Epoch 1:  56%|█████▌    | 420/751 [00:10<00:07, 42.58batch/s, accuracy=48.4375%, loss=1.47]"
          ]
        },
        {
          "output_type": "stream",
          "name": "stdout",
          "text": [
            "GB | Epoch 1 | Loss: 1.377133846282959 | Accuracy: 60.9375%\n",
            "GB | Epoch 1 | Loss: 1.4223482608795166 | Accuracy: 54.6875%\n",
            "GB | Epoch 1 | Loss: 1.3613245487213135 | Accuracy: 53.125%\n",
            "GB | Epoch 1 | Loss: 1.3818063735961914 | Accuracy: 54.6875%\n",
            "GB | Epoch 1 | Loss: 1.3364882469177246 | Accuracy: 60.9375%\n",
            "GB | Epoch 1 | Loss: 1.3543124198913574 | Accuracy: 59.375%\n",
            "GB | Epoch 1 | Loss: 1.4582452774047852 | Accuracy: 48.4375%\n",
            "GB | Epoch 1 | Loss: 1.4760304689407349 | Accuracy: 50.0%\n",
            "GB | Epoch 1 | Loss: 1.4659984111785889 | Accuracy: 48.4375%\n"
          ]
        },
        {
          "output_type": "stream",
          "name": "stderr",
          "text": [
            "Epoch 1:  57%|█████▋    | 430/751 [00:11<00:07, 43.72batch/s, accuracy=54.6875%, loss=1.39]"
          ]
        },
        {
          "output_type": "stream",
          "name": "stdout",
          "text": [
            "GB | Epoch 1 | Loss: 1.483633041381836 | Accuracy: 51.5625%\n",
            "GB | Epoch 1 | Loss: 1.426181674003601 | Accuracy: 39.0625%\n",
            "GB | Epoch 1 | Loss: 1.3083568811416626 | Accuracy: 60.9375%\n",
            "GB | Epoch 1 | Loss: 1.3905529975891113 | Accuracy: 51.5625%\n",
            "GB | Epoch 1 | Loss: 1.4595149755477905 | Accuracy: 50.0%\n",
            "GB | Epoch 1 | Loss: 1.3346614837646484 | Accuracy: 59.375%\n",
            "GB | Epoch 1 | Loss: 1.364519715309143 | Accuracy: 54.6875%\n",
            "GB | Epoch 1 | Loss: 1.3990530967712402 | Accuracy: 57.8125%\n",
            "GB | Epoch 1 | Loss: 1.3649654388427734 | Accuracy: 50.0%\n"
          ]
        },
        {
          "output_type": "stream",
          "name": "stderr",
          "text": [
            "Epoch 1:  59%|█████▊    | 440/751 [00:11<00:07, 43.91batch/s, accuracy=42.1875%, loss=1.5]"
          ]
        },
        {
          "output_type": "stream",
          "name": "stdout",
          "text": [
            "GB | Epoch 1 | Loss: 1.3934602737426758 | Accuracy: 54.6875%\n",
            "GB | Epoch 1 | Loss: 1.3297677040100098 | Accuracy: 59.375%\n",
            "GB | Epoch 1 | Loss: 1.3996754884719849 | Accuracy: 51.5625%\n",
            "GB | Epoch 1 | Loss: 1.2808837890625 | Accuracy: 62.5%\n",
            "GB | Epoch 1 | Loss: 1.3338261842727661 | Accuracy: 56.25%\n",
            "GB | Epoch 1 | Loss: 1.4663721323013306 | Accuracy: 48.4375%\n",
            "GB | Epoch 1 | Loss: 1.4282034635543823 | Accuracy: 48.4375%\n",
            "GB | Epoch 1 | Loss: 1.3395313024520874 | Accuracy: 51.5625%\n",
            "GB | Epoch 1 | Loss: 1.4086095094680786 | Accuracy: 50.0%\n",
            "GB | Epoch 1 | Loss: 1.5042005777359009 | Accuracy: 42.1875%\n"
          ]
        },
        {
          "output_type": "stream",
          "name": "stderr",
          "text": [
            "Epoch 1:  59%|█████▉    | 445/751 [00:11<00:07, 42.03batch/s, accuracy=45.3125%, loss=1.51]"
          ]
        },
        {
          "output_type": "stream",
          "name": "stdout",
          "text": [
            "GB | Epoch 1 | Loss: 1.3909763097763062 | Accuracy: 50.0%\n",
            "GB | Epoch 1 | Loss: 1.3110191822052002 | Accuracy: 56.25%\n",
            "GB | Epoch 1 | Loss: 1.4101650714874268 | Accuracy: 46.875%\n",
            "GB | Epoch 1 | Loss: 1.5123803615570068 | Accuracy: 40.625%\n",
            "GB | Epoch 1 | Loss: 1.55258309841156 | Accuracy: 40.625%\n",
            "GB | Epoch 1 | Loss: 1.5866917371749878 | Accuracy: 32.8125%\n",
            "GB | Epoch 1 | Loss: 1.51492440700531 | Accuracy: 45.3125%\n"
          ]
        },
        {
          "output_type": "stream",
          "name": "stderr",
          "text": [
            "Epoch 1:  60%|█████▉    | 450/751 [00:11<00:08, 35.33batch/s, accuracy=56.25%, loss=1.36]"
          ]
        },
        {
          "output_type": "stream",
          "name": "stdout",
          "text": [
            "GB | Epoch 1 | Loss: 1.3162397146224976 | Accuracy: 60.9375%\n",
            "GB | Epoch 1 | Loss: 1.3125685453414917 | Accuracy: 60.9375%\n",
            "GB | Epoch 1 | Loss: 1.400138258934021 | Accuracy: 53.125%\n",
            "GB | Epoch 1 | Loss: 1.5855190753936768 | Accuracy: 35.9375%\n",
            "GB | Epoch 1 | Loss: 1.4130332469940186 | Accuracy: 50.0%\n",
            "GB | Epoch 1 | Loss: 1.3561261892318726 | Accuracy: 56.25%\n"
          ]
        },
        {
          "output_type": "stream",
          "name": "stderr",
          "text": [
            "Epoch 1:  61%|██████    | 458/751 [00:11<00:08, 33.84batch/s, accuracy=54.6875%, loss=1.36]"
          ]
        },
        {
          "output_type": "stream",
          "name": "stdout",
          "text": [
            "GB | Epoch 1 | Loss: 1.3568439483642578 | Accuracy: 57.8125%\n",
            "GB | Epoch 1 | Loss: 1.3733246326446533 | Accuracy: 57.8125%\n",
            "GB | Epoch 1 | Loss: 1.4507763385772705 | Accuracy: 46.875%\n",
            "GB | Epoch 1 | Loss: 1.4883497953414917 | Accuracy: 43.75%\n",
            "GB | Epoch 1 | Loss: 1.409245491027832 | Accuracy: 48.4375%\n",
            "GB | Epoch 1 | Loss: 1.3981711864471436 | Accuracy: 46.875%\n",
            "GB | Epoch 1 | Loss: 1.1866343021392822 | Accuracy: 68.75%\n",
            "GB | Epoch 1 | Loss: 1.3629395961761475 | Accuracy: 54.6875%\n"
          ]
        },
        {
          "output_type": "stream",
          "name": "stderr",
          "text": [
            "Epoch 1:  62%|██████▏   | 468/751 [00:12<00:07, 38.30batch/s, accuracy=67.1875%, loss=1.24]"
          ]
        },
        {
          "output_type": "stream",
          "name": "stdout",
          "text": [
            "GB | Epoch 1 | Loss: 1.3995715379714966 | Accuracy: 46.875%\n",
            "GB | Epoch 1 | Loss: 1.2980921268463135 | Accuracy: 60.9375%\n",
            "GB | Epoch 1 | Loss: 1.3145661354064941 | Accuracy: 56.25%\n",
            "GB | Epoch 1 | Loss: 1.4728732109069824 | Accuracy: 46.875%\n",
            "GB | Epoch 1 | Loss: 1.3905692100524902 | Accuracy: 51.5625%\n",
            "GB | Epoch 1 | Loss: 1.254737138748169 | Accuracy: 60.9375%\n",
            "GB | Epoch 1 | Loss: 1.3898394107818604 | Accuracy: 51.5625%\n",
            "GB | Epoch 1 | Loss: 1.3386602401733398 | Accuracy: 59.375%\n",
            "GB | Epoch 1 | Loss: 1.2415612936019897 | Accuracy: 67.1875%\n"
          ]
        },
        {
          "output_type": "stream",
          "name": "stderr",
          "text": [
            "Epoch 1:  64%|██████▎   | 477/751 [00:12<00:06, 40.33batch/s, accuracy=54.6875%, loss=1.32]"
          ]
        },
        {
          "output_type": "stream",
          "name": "stdout",
          "text": [
            "GB | Epoch 1 | Loss: 1.3866920471191406 | Accuracy: 53.125%\n",
            "GB | Epoch 1 | Loss: 1.4367945194244385 | Accuracy: 50.0%\n",
            "GB | Epoch 1 | Loss: 1.3937387466430664 | Accuracy: 54.6875%\n",
            "GB | Epoch 1 | Loss: 1.3185495138168335 | Accuracy: 59.375%\n",
            "GB | Epoch 1 | Loss: 1.2062978744506836 | Accuracy: 67.1875%\n",
            "GB | Epoch 1 | Loss: 1.3360275030136108 | Accuracy: 59.375%\n",
            "GB | Epoch 1 | Loss: 1.3571206331253052 | Accuracy: 57.8125%\n",
            "GB | Epoch 1 | Loss: 1.5014878511428833 | Accuracy: 45.3125%\n",
            "GB | Epoch 1 | Loss: 1.3312413692474365 | Accuracy: 48.4375%\n"
          ]
        },
        {
          "output_type": "stream",
          "name": "stderr",
          "text": [
            "Epoch 1:  65%|██████▍   | 487/751 [00:12<00:06, 42.53batch/s, accuracy=51.5625%, loss=1.43]"
          ]
        },
        {
          "output_type": "stream",
          "name": "stdout",
          "text": [
            "GB | Epoch 1 | Loss: 1.3176836967468262 | Accuracy: 54.6875%\n",
            "GB | Epoch 1 | Loss: 1.324537992477417 | Accuracy: 56.25%\n",
            "GB | Epoch 1 | Loss: 1.324251651763916 | Accuracy: 51.5625%\n",
            "GB | Epoch 1 | Loss: 1.3293261528015137 | Accuracy: 56.25%\n",
            "GB | Epoch 1 | Loss: 1.3172950744628906 | Accuracy: 57.8125%\n",
            "GB | Epoch 1 | Loss: 1.4200756549835205 | Accuracy: 51.5625%\n",
            "GB | Epoch 1 | Loss: 1.6246641874313354 | Accuracy: 40.625%\n",
            "GB | Epoch 1 | Loss: 1.332716941833496 | Accuracy: 59.375%\n",
            "GB | Epoch 1 | Loss: 1.4300881624221802 | Accuracy: 51.5625%\n"
          ]
        },
        {
          "output_type": "stream",
          "name": "stderr",
          "text": [
            "Epoch 1:  66%|██████▌   | 497/751 [00:12<00:06, 41.84batch/s, accuracy=42.1875%, loss=1.47]"
          ]
        },
        {
          "output_type": "stream",
          "name": "stdout",
          "text": [
            "GB | Epoch 1 | Loss: 1.3597030639648438 | Accuracy: 51.5625%\n",
            "GB | Epoch 1 | Loss: 1.367120385169983 | Accuracy: 48.4375%\n",
            "GB | Epoch 1 | Loss: 1.416488766670227 | Accuracy: 51.5625%\n",
            "GB | Epoch 1 | Loss: 1.3424961566925049 | Accuracy: 53.125%\n",
            "GB | Epoch 1 | Loss: 1.3900889158248901 | Accuracy: 51.5625%\n",
            "GB | Epoch 1 | Loss: 1.3794959783554077 | Accuracy: 48.4375%\n",
            "GB | Epoch 1 | Loss: 1.359473705291748 | Accuracy: 48.4375%\n",
            "GB | Epoch 1 | Loss: 1.485619068145752 | Accuracy: 39.0625%\n",
            "GB | Epoch 1 | Loss: 1.465397596359253 | Accuracy: 42.1875%\n"
          ]
        },
        {
          "output_type": "stream",
          "name": "stderr",
          "text": [
            "Epoch 1:  67%|██████▋   | 502/751 [00:12<00:05, 42.21batch/s, accuracy=54.6875%, loss=1.32]"
          ]
        },
        {
          "output_type": "stream",
          "name": "stdout",
          "text": [
            "GB | Epoch 1 | Loss: 1.394063949584961 | Accuracy: 46.875%\n",
            "GB | Epoch 1 | Loss: 1.4874769449234009 | Accuracy: 43.75%\n",
            "GB | Epoch 1 | Loss: 1.4693350791931152 | Accuracy: 39.0625%\n",
            "GB | Epoch 1 | Loss: 1.5199072360992432 | Accuracy: 42.1875%\n",
            "GB | Epoch 1 | Loss: 1.4494060277938843 | Accuracy: 43.75%\n",
            "GB | Epoch 1 | Loss: 1.3769936561584473 | Accuracy: 50.0%\n",
            "GB | Epoch 1 | Loss: 1.295222520828247 | Accuracy: 57.8125%\n",
            "GB | Epoch 1 | Loss: 1.4429216384887695 | Accuracy: 48.4375%\n",
            "GB | Epoch 1 | Loss: 1.3168479204177856 | Accuracy: 54.6875%\n"
          ]
        },
        {
          "output_type": "stream",
          "name": "stderr",
          "text": [
            "Epoch 1:  68%|██████▊   | 512/751 [00:13<00:05, 43.09batch/s, accuracy=50.0%, loss=1.31] "
          ]
        },
        {
          "output_type": "stream",
          "name": "stdout",
          "text": [
            "GB | Epoch 1 | Loss: 1.3414860963821411 | Accuracy: 51.5625%\n",
            "GB | Epoch 1 | Loss: 1.3367969989776611 | Accuracy: 54.6875%\n",
            "GB | Epoch 1 | Loss: 1.4220908880233765 | Accuracy: 43.75%\n",
            "GB | Epoch 1 | Loss: 1.3212465047836304 | Accuracy: 57.8125%\n",
            "GB | Epoch 1 | Loss: 1.4141814708709717 | Accuracy: 48.4375%\n",
            "GB | Epoch 1 | Loss: 1.4533815383911133 | Accuracy: 48.4375%\n",
            "GB | Epoch 1 | Loss: 1.315398931503296 | Accuracy: 57.8125%\n",
            "GB | Epoch 1 | Loss: 1.3951630592346191 | Accuracy: 46.875%\n",
            "GB | Epoch 1 | Loss: 1.3120533227920532 | Accuracy: 50.0%\n"
          ]
        },
        {
          "output_type": "stream",
          "name": "stderr",
          "text": [
            "Epoch 1:  70%|██████▉   | 522/751 [00:13<00:05, 44.20batch/s, accuracy=53.125%, loss=1.35] "
          ]
        },
        {
          "output_type": "stream",
          "name": "stdout",
          "text": [
            "GB | Epoch 1 | Loss: 1.2759099006652832 | Accuracy: 57.8125%\n",
            "GB | Epoch 1 | Loss: 1.32310950756073 | Accuracy: 56.25%\n",
            "GB | Epoch 1 | Loss: 1.4616200923919678 | Accuracy: 45.3125%\n",
            "GB | Epoch 1 | Loss: 1.3576048612594604 | Accuracy: 50.0%\n",
            "GB | Epoch 1 | Loss: 1.2930850982666016 | Accuracy: 54.6875%\n",
            "GB | Epoch 1 | Loss: 1.323052167892456 | Accuracy: 51.5625%\n",
            "GB | Epoch 1 | Loss: 1.265246868133545 | Accuracy: 56.25%\n",
            "GB | Epoch 1 | Loss: 1.2903169393539429 | Accuracy: 57.8125%\n",
            "GB | Epoch 1 | Loss: 1.360131025314331 | Accuracy: 51.5625%\n"
          ]
        },
        {
          "output_type": "stream",
          "name": "stderr",
          "text": [
            "Epoch 1:  71%|███████   | 532/751 [00:13<00:04, 43.98batch/s, accuracy=53.125%, loss=1.38]"
          ]
        },
        {
          "output_type": "stream",
          "name": "stdout",
          "text": [
            "GB | Epoch 1 | Loss: 1.3473812341690063 | Accuracy: 53.125%\n",
            "GB | Epoch 1 | Loss: 1.4713637828826904 | Accuracy: 39.0625%\n",
            "GB | Epoch 1 | Loss: 1.36562180519104 | Accuracy: 48.4375%\n",
            "GB | Epoch 1 | Loss: 1.364621877670288 | Accuracy: 50.0%\n",
            "GB | Epoch 1 | Loss: 1.292465090751648 | Accuracy: 59.375%\n",
            "GB | Epoch 1 | Loss: 1.4057849645614624 | Accuracy: 46.875%\n",
            "GB | Epoch 1 | Loss: 1.5360108613967896 | Accuracy: 37.5%\n",
            "GB | Epoch 1 | Loss: 1.4528403282165527 | Accuracy: 40.625%\n",
            "GB | Epoch 1 | Loss: 1.377347469329834 | Accuracy: 53.125%\n"
          ]
        },
        {
          "output_type": "stream",
          "name": "stderr",
          "text": [
            "Epoch 1:  72%|███████▏  | 542/751 [00:13<00:04, 42.39batch/s, accuracy=56.25%, loss=1.36]"
          ]
        },
        {
          "output_type": "stream",
          "name": "stdout",
          "text": [
            "GB | Epoch 1 | Loss: 1.4279156923294067 | Accuracy: 43.75%\n",
            "GB | Epoch 1 | Loss: 1.3162634372711182 | Accuracy: 53.125%\n",
            "GB | Epoch 1 | Loss: 1.4236477613449097 | Accuracy: 43.75%\n",
            "GB | Epoch 1 | Loss: 1.3276642560958862 | Accuracy: 53.125%\n",
            "GB | Epoch 1 | Loss: 1.4490405321121216 | Accuracy: 43.75%\n",
            "GB | Epoch 1 | Loss: 1.4963032007217407 | Accuracy: 39.0625%\n",
            "GB | Epoch 1 | Loss: 1.354320764541626 | Accuracy: 53.125%\n",
            "GB | Epoch 1 | Loss: 1.2796911001205444 | Accuracy: 56.25%\n",
            "GB | Epoch 1 | Loss: 1.3568981885910034 | Accuracy: 56.25%\n"
          ]
        },
        {
          "output_type": "stream",
          "name": "stderr",
          "text": [
            "Epoch 1:  74%|███████▎  | 552/751 [00:14<00:04, 43.06batch/s, accuracy=45.3125%, loss=1.43]"
          ]
        },
        {
          "output_type": "stream",
          "name": "stdout",
          "text": [
            "GB | Epoch 1 | Loss: 1.3607723712921143 | Accuracy: 50.0%\n",
            "GB | Epoch 1 | Loss: 1.4654207229614258 | Accuracy: 42.1875%\n",
            "GB | Epoch 1 | Loss: 1.3460482358932495 | Accuracy: 46.875%\n",
            "GB | Epoch 1 | Loss: 1.458245038986206 | Accuracy: 40.625%\n",
            "GB | Epoch 1 | Loss: 1.3272290229797363 | Accuracy: 56.25%\n",
            "GB | Epoch 1 | Loss: 1.5140742063522339 | Accuracy: 37.5%\n",
            "GB | Epoch 1 | Loss: 1.3603912591934204 | Accuracy: 48.4375%\n",
            "GB | Epoch 1 | Loss: 1.3838551044464111 | Accuracy: 46.875%\n",
            "GB | Epoch 1 | Loss: 1.2835514545440674 | Accuracy: 56.25%\n",
            "GB | Epoch 1 | Loss: 1.4284015893936157 | Accuracy: 45.3125%\n"
          ]
        },
        {
          "output_type": "stream",
          "name": "stderr",
          "text": [
            "Epoch 1:  74%|███████▍  | 557/751 [00:14<00:04, 42.57batch/s, accuracy=39.0625%, loss=1.52]"
          ]
        },
        {
          "output_type": "stream",
          "name": "stdout",
          "text": [
            "GB | Epoch 1 | Loss: 1.3169316053390503 | Accuracy: 53.125%\n",
            "GB | Epoch 1 | Loss: 1.2157989740371704 | Accuracy: 60.9375%\n",
            "GB | Epoch 1 | Loss: 1.3544089794158936 | Accuracy: 48.4375%\n",
            "GB | Epoch 1 | Loss: 1.2535769939422607 | Accuracy: 57.8125%\n",
            "GB | Epoch 1 | Loss: 1.393509864807129 | Accuracy: 46.875%\n",
            "GB | Epoch 1 | Loss: 1.3656545877456665 | Accuracy: 54.6875%\n",
            "GB | Epoch 1 | Loss: 1.341279149055481 | Accuracy: 53.125%\n",
            "GB | Epoch 1 | Loss: 1.3578938245773315 | Accuracy: 50.0%\n",
            "GB | Epoch 1 | Loss: 1.520219326019287 | Accuracy: 39.0625%\n"
          ]
        },
        {
          "output_type": "stream",
          "name": "stderr",
          "text": [
            "Epoch 1:  75%|███████▌  | 567/751 [00:14<00:04, 42.94batch/s, accuracy=59.375%, loss=1.21] "
          ]
        },
        {
          "output_type": "stream",
          "name": "stdout",
          "text": [
            "GB | Epoch 1 | Loss: 1.3228418827056885 | Accuracy: 45.3125%\n",
            "GB | Epoch 1 | Loss: 1.3144416809082031 | Accuracy: 54.6875%\n",
            "GB | Epoch 1 | Loss: 1.3968417644500732 | Accuracy: 48.4375%\n",
            "GB | Epoch 1 | Loss: 1.3544267416000366 | Accuracy: 51.5625%\n",
            "GB | Epoch 1 | Loss: 1.20590078830719 | Accuracy: 62.5%\n",
            "GB | Epoch 1 | Loss: 1.4161850214004517 | Accuracy: 50.0%\n",
            "GB | Epoch 1 | Loss: 1.2240301370620728 | Accuracy: 54.6875%\n",
            "GB | Epoch 1 | Loss: 1.3647935390472412 | Accuracy: 51.5625%\n",
            "GB | Epoch 1 | Loss: 1.2080491781234741 | Accuracy: 59.375%\n"
          ]
        },
        {
          "output_type": "stream",
          "name": "stderr",
          "text": [
            "Epoch 1:  77%|███████▋  | 577/751 [00:14<00:04, 43.02batch/s, accuracy=37.5%, loss=1.56]   "
          ]
        },
        {
          "output_type": "stream",
          "name": "stdout",
          "text": [
            "GB | Epoch 1 | Loss: 1.2520672082901 | Accuracy: 54.6875%\n",
            "GB | Epoch 1 | Loss: 1.4097700119018555 | Accuracy: 48.4375%\n",
            "GB | Epoch 1 | Loss: 1.2585208415985107 | Accuracy: 57.8125%\n",
            "GB | Epoch 1 | Loss: 1.4936928749084473 | Accuracy: 43.75%\n",
            "GB | Epoch 1 | Loss: 1.3461145162582397 | Accuracy: 48.4375%\n",
            "GB | Epoch 1 | Loss: 1.2719496488571167 | Accuracy: 59.375%\n",
            "GB | Epoch 1 | Loss: 1.2842634916305542 | Accuracy: 56.25%\n",
            "GB | Epoch 1 | Loss: 1.4463752508163452 | Accuracy: 45.3125%\n",
            "GB | Epoch 1 | Loss: 1.5608924627304077 | Accuracy: 37.5%\n"
          ]
        },
        {
          "output_type": "stream",
          "name": "stderr",
          "text": [
            "Epoch 1:  78%|███████▊  | 587/751 [00:14<00:03, 41.37batch/s, accuracy=45.3125%, loss=1.4] "
          ]
        },
        {
          "output_type": "stream",
          "name": "stdout",
          "text": [
            "GB | Epoch 1 | Loss: 1.3790504932403564 | Accuracy: 51.5625%\n",
            "GB | Epoch 1 | Loss: 1.4302302598953247 | Accuracy: 42.1875%\n",
            "GB | Epoch 1 | Loss: 1.3334561586380005 | Accuracy: 53.125%\n",
            "GB | Epoch 1 | Loss: 1.4569159746170044 | Accuracy: 42.1875%\n",
            "GB | Epoch 1 | Loss: 1.3779821395874023 | Accuracy: 46.875%\n",
            "GB | Epoch 1 | Loss: 1.3665522336959839 | Accuracy: 46.875%\n",
            "GB | Epoch 1 | Loss: 1.39811110496521 | Accuracy: 51.5625%\n",
            "GB | Epoch 1 | Loss: 1.468595266342163 | Accuracy: 45.3125%\n",
            "GB | Epoch 1 | Loss: 1.4036589860916138 | Accuracy: 45.3125%\n"
          ]
        },
        {
          "output_type": "stream",
          "name": "stderr",
          "text": [
            "Epoch 1:  79%|███████▉  | 597/751 [00:15<00:03, 41.88batch/s, accuracy=39.0625%, loss=1.47]"
          ]
        },
        {
          "output_type": "stream",
          "name": "stdout",
          "text": [
            "GB | Epoch 1 | Loss: 1.2600651979446411 | Accuracy: 53.125%\n",
            "GB | Epoch 1 | Loss: 1.3643090724945068 | Accuracy: 46.875%\n",
            "GB | Epoch 1 | Loss: 1.378719449043274 | Accuracy: 46.875%\n",
            "GB | Epoch 1 | Loss: 1.373988151550293 | Accuracy: 46.875%\n",
            "GB | Epoch 1 | Loss: 1.4905550479888916 | Accuracy: 39.0625%\n",
            "GB | Epoch 1 | Loss: 1.312589168548584 | Accuracy: 57.8125%\n",
            "GB | Epoch 1 | Loss: 1.269508719444275 | Accuracy: 54.6875%\n",
            "GB | Epoch 1 | Loss: 1.4669055938720703 | Accuracy: 37.5%\n",
            "GB | Epoch 1 | Loss: 1.4657715559005737 | Accuracy: 39.0625%\n"
          ]
        },
        {
          "output_type": "stream",
          "name": "stderr",
          "text": [
            "Epoch 1:  81%|████████  | 607/751 [00:15<00:03, 42.95batch/s, accuracy=39.0625%, loss=1.49]"
          ]
        },
        {
          "output_type": "stream",
          "name": "stdout",
          "text": [
            "GB | Epoch 1 | Loss: 1.4662659168243408 | Accuracy: 43.75%\n",
            "GB | Epoch 1 | Loss: 1.2615877389907837 | Accuracy: 56.25%\n",
            "GB | Epoch 1 | Loss: 1.3111145496368408 | Accuracy: 54.6875%\n",
            "GB | Epoch 1 | Loss: 1.3384565114974976 | Accuracy: 51.5625%\n",
            "GB | Epoch 1 | Loss: 1.3299095630645752 | Accuracy: 56.25%\n",
            "GB | Epoch 1 | Loss: 1.2858819961547852 | Accuracy: 53.125%\n",
            "GB | Epoch 1 | Loss: 1.2777669429779053 | Accuracy: 53.125%\n",
            "GB | Epoch 1 | Loss: 1.3034920692443848 | Accuracy: 53.125%\n",
            "GB | Epoch 1 | Loss: 1.2835034132003784 | Accuracy: 56.25%\n",
            "GB | Epoch 1 | Loss: 1.4927350282669067 | Accuracy: 39.0625%\n"
          ]
        },
        {
          "output_type": "stream",
          "name": "stderr",
          "text": [
            "Epoch 1:  81%|████████▏ | 612/751 [00:15<00:03, 43.01batch/s, accuracy=59.375%, loss=1.21]"
          ]
        },
        {
          "output_type": "stream",
          "name": "stdout",
          "text": [
            "GB | Epoch 1 | Loss: 1.3429161310195923 | Accuracy: 53.125%\n",
            "GB | Epoch 1 | Loss: 1.3336920738220215 | Accuracy: 50.0%\n",
            "GB | Epoch 1 | Loss: 1.4174331426620483 | Accuracy: 43.75%\n",
            "GB | Epoch 1 | Loss: 1.128709316253662 | Accuracy: 68.75%\n",
            "GB | Epoch 1 | Loss: 1.286382794380188 | Accuracy: 53.125%\n",
            "GB | Epoch 1 | Loss: 1.3406814336776733 | Accuracy: 48.4375%\n",
            "GB | Epoch 1 | Loss: 1.314786672592163 | Accuracy: 50.0%\n",
            "GB | Epoch 1 | Loss: 1.399518370628357 | Accuracy: 45.3125%\n",
            "GB | Epoch 1 | Loss: 1.2135210037231445 | Accuracy: 59.375%\n"
          ]
        },
        {
          "output_type": "stream",
          "name": "stderr",
          "text": [
            "Epoch 1:  83%|████████▎ | 622/751 [00:15<00:03, 42.82batch/s, accuracy=50.0%, loss=1.31]  "
          ]
        },
        {
          "output_type": "stream",
          "name": "stdout",
          "text": [
            "GB | Epoch 1 | Loss: 1.3053218126296997 | Accuracy: 54.6875%\n",
            "GB | Epoch 1 | Loss: 1.2306127548217773 | Accuracy: 56.25%\n",
            "GB | Epoch 1 | Loss: 1.1694519519805908 | Accuracy: 62.5%\n",
            "GB | Epoch 1 | Loss: 1.3817837238311768 | Accuracy: 45.3125%\n",
            "GB | Epoch 1 | Loss: 1.5085140466690063 | Accuracy: 34.375%\n",
            "GB | Epoch 1 | Loss: 1.3524537086486816 | Accuracy: 50.0%\n",
            "GB | Epoch 1 | Loss: 1.2507355213165283 | Accuracy: 57.8125%\n",
            "GB | Epoch 1 | Loss: 1.6099761724472046 | Accuracy: 34.375%\n",
            "GB | Epoch 1 | Loss: 1.3086165189743042 | Accuracy: 50.0%\n"
          ]
        },
        {
          "output_type": "stream",
          "name": "stderr",
          "text": [
            "Epoch 1:  84%|████████▍ | 632/751 [00:15<00:02, 41.43batch/s, accuracy=54.6875%, loss=1.27]"
          ]
        },
        {
          "output_type": "stream",
          "name": "stdout",
          "text": [
            "GB | Epoch 1 | Loss: 1.373130440711975 | Accuracy: 48.4375%\n",
            "GB | Epoch 1 | Loss: 1.4558242559432983 | Accuracy: 42.1875%\n",
            "GB | Epoch 1 | Loss: 1.197122573852539 | Accuracy: 59.375%\n",
            "GB | Epoch 1 | Loss: 1.251935362815857 | Accuracy: 56.25%\n",
            "GB | Epoch 1 | Loss: 1.2808606624603271 | Accuracy: 51.5625%\n",
            "GB | Epoch 1 | Loss: 1.273931622505188 | Accuracy: 56.25%\n",
            "GB | Epoch 1 | Loss: 1.482115387916565 | Accuracy: 39.0625%\n",
            "GB | Epoch 1 | Loss: 1.4009182453155518 | Accuracy: 46.875%\n",
            "GB | Epoch 1 | Loss: 1.2740328311920166 | Accuracy: 54.6875%\n"
          ]
        },
        {
          "output_type": "stream",
          "name": "stderr",
          "text": [
            "Epoch 1:  85%|████████▌ | 642/751 [00:16<00:02, 42.71batch/s, accuracy=48.4375%, loss=1.38]"
          ]
        },
        {
          "output_type": "stream",
          "name": "stdout",
          "text": [
            "GB | Epoch 1 | Loss: 1.2751450538635254 | Accuracy: 51.5625%\n",
            "GB | Epoch 1 | Loss: 1.3621342182159424 | Accuracy: 48.4375%\n",
            "GB | Epoch 1 | Loss: 1.332277536392212 | Accuracy: 48.4375%\n",
            "GB | Epoch 1 | Loss: 1.2894138097763062 | Accuracy: 54.6875%\n",
            "GB | Epoch 1 | Loss: 1.291683316230774 | Accuracy: 50.0%\n",
            "GB | Epoch 1 | Loss: 1.3421798944473267 | Accuracy: 50.0%\n",
            "GB | Epoch 1 | Loss: 1.2231892347335815 | Accuracy: 57.8125%\n",
            "GB | Epoch 1 | Loss: 1.298606514930725 | Accuracy: 51.5625%\n",
            "GB | Epoch 1 | Loss: 1.3756470680236816 | Accuracy: 45.3125%\n"
          ]
        },
        {
          "output_type": "stream",
          "name": "stderr",
          "text": [
            "Epoch 1:  87%|████████▋ | 652/751 [00:16<00:02, 43.80batch/s, accuracy=46.875%, loss=1.35]"
          ]
        },
        {
          "output_type": "stream",
          "name": "stdout",
          "text": [
            "GB | Epoch 1 | Loss: 1.3819431066513062 | Accuracy: 48.4375%\n",
            "GB | Epoch 1 | Loss: 1.223815679550171 | Accuracy: 53.125%\n",
            "GB | Epoch 1 | Loss: 1.2843315601348877 | Accuracy: 56.25%\n",
            "GB | Epoch 1 | Loss: 1.2903791666030884 | Accuracy: 53.125%\n",
            "GB | Epoch 1 | Loss: 1.3333780765533447 | Accuracy: 51.5625%\n",
            "GB | Epoch 1 | Loss: 1.3736135959625244 | Accuracy: 48.4375%\n",
            "GB | Epoch 1 | Loss: 1.2366286516189575 | Accuracy: 57.8125%\n",
            "GB | Epoch 1 | Loss: 1.320008635520935 | Accuracy: 50.0%\n",
            "GB | Epoch 1 | Loss: 1.3507200479507446 | Accuracy: 46.875%\n"
          ]
        },
        {
          "output_type": "stream",
          "name": "stderr",
          "text": [
            "Epoch 1:  87%|████████▋ | 657/751 [00:16<00:02, 43.70batch/s, accuracy=40.625%, loss=1.42] "
          ]
        },
        {
          "output_type": "stream",
          "name": "stdout",
          "text": [
            "GB | Epoch 1 | Loss: 1.3698561191558838 | Accuracy: 50.0%\n",
            "GB | Epoch 1 | Loss: 1.3997384309768677 | Accuracy: 45.3125%\n",
            "GB | Epoch 1 | Loss: 1.2499568462371826 | Accuracy: 56.25%\n",
            "GB | Epoch 1 | Loss: 1.4297672510147095 | Accuracy: 37.5%\n",
            "GB | Epoch 1 | Loss: 1.3044670820236206 | Accuracy: 46.875%\n",
            "GB | Epoch 1 | Loss: 1.2655137777328491 | Accuracy: 56.25%\n",
            "GB | Epoch 1 | Loss: 1.2783777713775635 | Accuracy: 51.5625%\n",
            "GB | Epoch 1 | Loss: 1.22194504737854 | Accuracy: 57.8125%\n",
            "GB | Epoch 1 | Loss: 1.330053448677063 | Accuracy: 48.4375%\n"
          ]
        },
        {
          "output_type": "stream",
          "name": "stderr",
          "text": [
            "Epoch 1:  89%|████████▉ | 667/751 [00:16<00:01, 43.37batch/s, accuracy=56.25%, loss=1.26]  "
          ]
        },
        {
          "output_type": "stream",
          "name": "stdout",
          "text": [
            "GB | Epoch 1 | Loss: 1.418220043182373 | Accuracy: 40.625%\n",
            "GB | Epoch 1 | Loss: 1.4132403135299683 | Accuracy: 37.5%\n",
            "GB | Epoch 1 | Loss: 1.2741827964782715 | Accuracy: 54.6875%\n",
            "GB | Epoch 1 | Loss: 1.3504728078842163 | Accuracy: 46.875%\n",
            "GB | Epoch 1 | Loss: 1.2957762479782104 | Accuracy: 54.6875%\n",
            "GB | Epoch 1 | Loss: 1.314207673072815 | Accuracy: 50.0%\n",
            "GB | Epoch 1 | Loss: 1.3002569675445557 | Accuracy: 50.0%\n",
            "GB | Epoch 1 | Loss: 1.2803887128829956 | Accuracy: 51.5625%\n",
            "GB | Epoch 1 | Loss: 1.2634758949279785 | Accuracy: 56.25%\n"
          ]
        },
        {
          "output_type": "stream",
          "name": "stderr",
          "text": [
            "Epoch 1:  90%|█████████ | 677/751 [00:17<00:01, 41.87batch/s, accuracy=54.6875%, loss=1.29]"
          ]
        },
        {
          "output_type": "stream",
          "name": "stdout",
          "text": [
            "GB | Epoch 1 | Loss: 1.4436742067337036 | Accuracy: 42.1875%\n",
            "GB | Epoch 1 | Loss: 1.1766765117645264 | Accuracy: 57.8125%\n",
            "GB | Epoch 1 | Loss: 1.4108151197433472 | Accuracy: 39.0625%\n",
            "GB | Epoch 1 | Loss: 1.4053351879119873 | Accuracy: 43.75%\n",
            "GB | Epoch 1 | Loss: 1.4237778186798096 | Accuracy: 40.625%\n",
            "GB | Epoch 1 | Loss: 1.449114441871643 | Accuracy: 39.0625%\n",
            "GB | Epoch 1 | Loss: 1.3796075582504272 | Accuracy: 46.875%\n",
            "GB | Epoch 1 | Loss: 1.4209061861038208 | Accuracy: 42.1875%\n",
            "GB | Epoch 1 | Loss: 1.2876248359680176 | Accuracy: 54.6875%\n"
          ]
        },
        {
          "output_type": "stream",
          "name": "stderr",
          "text": [
            "Epoch 1:  91%|█████████▏| 687/751 [00:17<00:01, 42.69batch/s, accuracy=57.8125%, loss=1.24]"
          ]
        },
        {
          "output_type": "stream",
          "name": "stdout",
          "text": [
            "GB | Epoch 1 | Loss: 1.3213239908218384 | Accuracy: 46.875%\n",
            "GB | Epoch 1 | Loss: 1.4447227716445923 | Accuracy: 37.5%\n",
            "GB | Epoch 1 | Loss: 1.4591412544250488 | Accuracy: 37.5%\n",
            "GB | Epoch 1 | Loss: 1.4413306713104248 | Accuracy: 43.75%\n",
            "GB | Epoch 1 | Loss: 1.135828971862793 | Accuracy: 68.75%\n",
            "GB | Epoch 1 | Loss: 1.3427563905715942 | Accuracy: 46.875%\n",
            "GB | Epoch 1 | Loss: 1.1772780418395996 | Accuracy: 57.8125%\n",
            "GB | Epoch 1 | Loss: 1.399694561958313 | Accuracy: 37.5%\n",
            "GB | Epoch 1 | Loss: 1.244674563407898 | Accuracy: 57.8125%\n"
          ]
        },
        {
          "output_type": "stream",
          "name": "stderr",
          "text": [
            "Epoch 1:  93%|█████████▎| 697/751 [00:17<00:01, 42.58batch/s, accuracy=40.625%, loss=1.39]"
          ]
        },
        {
          "output_type": "stream",
          "name": "stdout",
          "text": [
            "GB | Epoch 1 | Loss: 1.257635235786438 | Accuracy: 54.6875%\n",
            "GB | Epoch 1 | Loss: 1.3692224025726318 | Accuracy: 45.3125%\n",
            "GB | Epoch 1 | Loss: 1.3604786396026611 | Accuracy: 45.3125%\n",
            "GB | Epoch 1 | Loss: 1.4240778684616089 | Accuracy: 45.3125%\n",
            "GB | Epoch 1 | Loss: 1.3743364810943604 | Accuracy: 46.875%\n",
            "GB | Epoch 1 | Loss: 1.155849814414978 | Accuracy: 57.8125%\n",
            "GB | Epoch 1 | Loss: 1.2644284963607788 | Accuracy: 54.6875%\n",
            "GB | Epoch 1 | Loss: 1.203432559967041 | Accuracy: 62.5%\n",
            "GB | Epoch 1 | Loss: 1.3877979516983032 | Accuracy: 40.625%\n"
          ]
        },
        {
          "output_type": "stream",
          "name": "stderr",
          "text": [
            "Epoch 1:  93%|█████████▎| 702/751 [00:17<00:01, 41.70batch/s, accuracy=43.75%, loss=1.43]  "
          ]
        },
        {
          "output_type": "stream",
          "name": "stdout",
          "text": [
            "GB | Epoch 1 | Loss: 1.4509700536727905 | Accuracy: 39.0625%\n",
            "GB | Epoch 1 | Loss: 1.3526254892349243 | Accuracy: 48.4375%\n",
            "GB | Epoch 1 | Loss: 1.3484787940979004 | Accuracy: 45.3125%\n",
            "GB | Epoch 1 | Loss: 1.081727147102356 | Accuracy: 60.9375%\n",
            "GB | Epoch 1 | Loss: 1.2944637537002563 | Accuracy: 50.0%\n",
            "GB | Epoch 1 | Loss: 1.4178614616394043 | Accuracy: 43.75%\n",
            "GB | Epoch 1 | Loss: 1.3706209659576416 | Accuracy: 48.4375%\n",
            "GB | Epoch 1 | Loss: 1.2289410829544067 | Accuracy: 51.5625%\n",
            "GB | Epoch 1 | Loss: 1.433057188987732 | Accuracy: 43.75%\n"
          ]
        },
        {
          "output_type": "stream",
          "name": "stderr",
          "text": [
            "Epoch 1:  95%|█████████▍| 712/751 [00:17<00:00, 42.30batch/s, accuracy=59.375%, loss=1.18] "
          ]
        },
        {
          "output_type": "stream",
          "name": "stdout",
          "text": [
            "GB | Epoch 1 | Loss: 1.2740375995635986 | Accuracy: 53.125%\n",
            "GB | Epoch 1 | Loss: 1.2793307304382324 | Accuracy: 56.25%\n",
            "GB | Epoch 1 | Loss: 1.330613613128662 | Accuracy: 50.0%\n",
            "GB | Epoch 1 | Loss: 1.299735188484192 | Accuracy: 51.5625%\n",
            "GB | Epoch 1 | Loss: 1.3666404485702515 | Accuracy: 48.4375%\n",
            "GB | Epoch 1 | Loss: 1.2737797498703003 | Accuracy: 50.0%\n",
            "GB | Epoch 1 | Loss: 1.2645716667175293 | Accuracy: 57.8125%\n",
            "GB | Epoch 1 | Loss: 1.1805670261383057 | Accuracy: 59.375%\n"
          ]
        },
        {
          "output_type": "stream",
          "name": "stderr",
          "text": [
            "Epoch 1:  96%|█████████▌| 722/751 [00:18<00:00, 41.70batch/s, accuracy=54.6875%, loss=1.21]"
          ]
        },
        {
          "output_type": "stream",
          "name": "stdout",
          "text": [
            "GB | Epoch 1 | Loss: 1.2843900918960571 | Accuracy: 50.0%\n",
            "GB | Epoch 1 | Loss: 1.3169331550598145 | Accuracy: 51.5625%\n",
            "GB | Epoch 1 | Loss: 1.2686808109283447 | Accuracy: 53.125%\n",
            "GB | Epoch 1 | Loss: 1.275326132774353 | Accuracy: 54.6875%\n",
            "GB | Epoch 1 | Loss: 1.3584895133972168 | Accuracy: 45.3125%\n",
            "GB | Epoch 1 | Loss: 1.4087754487991333 | Accuracy: 43.75%\n",
            "GB | Epoch 1 | Loss: 1.2927556037902832 | Accuracy: 51.5625%\n",
            "GB | Epoch 1 | Loss: 1.5059330463409424 | Accuracy: 39.0625%\n",
            "GB | Epoch 1 | Loss: 1.2097498178482056 | Accuracy: 54.6875%\n"
          ]
        },
        {
          "output_type": "stream",
          "name": "stderr",
          "text": [
            "Epoch 1:  97%|█████████▋| 732/751 [00:18<00:00, 41.72batch/s, accuracy=60.9375%, loss=1.12]"
          ]
        },
        {
          "output_type": "stream",
          "name": "stdout",
          "text": [
            "GB | Epoch 1 | Loss: 1.3265235424041748 | Accuracy: 51.5625%\n",
            "GB | Epoch 1 | Loss: 1.2407671213150024 | Accuracy: 51.5625%\n",
            "GB | Epoch 1 | Loss: 1.3241618871688843 | Accuracy: 53.125%\n",
            "GB | Epoch 1 | Loss: 1.385693907737732 | Accuracy: 46.875%\n",
            "GB | Epoch 1 | Loss: 1.3404395580291748 | Accuracy: 48.4375%\n",
            "GB | Epoch 1 | Loss: 1.242014765739441 | Accuracy: 53.125%\n",
            "GB | Epoch 1 | Loss: 1.3118587732315063 | Accuracy: 50.0%\n",
            "GB | Epoch 1 | Loss: 1.4820120334625244 | Accuracy: 37.5%\n",
            "GB | Epoch 1 | Loss: 1.1244860887527466 | Accuracy: 60.9375%\n"
          ]
        },
        {
          "output_type": "stream",
          "name": "stderr",
          "text": [
            "Epoch 1:  99%|█████████▉| 742/751 [00:18<00:00, 43.08batch/s, accuracy=57.8125%, loss=1.18]"
          ]
        },
        {
          "output_type": "stream",
          "name": "stdout",
          "text": [
            "GB | Epoch 1 | Loss: 1.3218235969543457 | Accuracy: 48.4375%\n",
            "GB | Epoch 1 | Loss: 1.2538212537765503 | Accuracy: 51.5625%\n",
            "GB | Epoch 1 | Loss: 1.4184503555297852 | Accuracy: 42.1875%\n",
            "GB | Epoch 1 | Loss: 1.2804516553878784 | Accuracy: 48.4375%\n",
            "GB | Epoch 1 | Loss: 1.2761173248291016 | Accuracy: 51.5625%\n",
            "GB | Epoch 1 | Loss: 1.2801203727722168 | Accuracy: 51.5625%\n",
            "GB | Epoch 1 | Loss: 1.4473532438278198 | Accuracy: 42.1875%\n",
            "GB | Epoch 1 | Loss: 1.403254508972168 | Accuracy: 50.0%\n",
            "GB | Epoch 1 | Loss: 1.3121001720428467 | Accuracy: 46.875%\n",
            "GB | Epoch 1 | Loss: 1.1820995807647705 | Accuracy: 57.8125%\n"
          ]
        },
        {
          "output_type": "stream",
          "name": "stderr",
          "text": [
            "Epoch 1:  99%|█████████▉| 747/751 [00:18<00:00, 43.60batch/s, accuracy=25.0%, loss=1.84]   "
          ]
        },
        {
          "output_type": "stream",
          "name": "stdout",
          "text": [
            "GB | Epoch 1 | Loss: 1.2556283473968506 | Accuracy: 53.125%\n",
            "GB | Epoch 1 | Loss: 1.4093049764633179 | Accuracy: 42.1875%\n",
            "GB | Epoch 1 | Loss: 1.3528518676757812 | Accuracy: 40.625%\n",
            "GB | Epoch 1 | Loss: 1.5049556493759155 | Accuracy: 35.9375%\n",
            "GB | Epoch 1 | Loss: 1.3475143909454346 | Accuracy: 45.3125%\n",
            "GB | Epoch 1 | Loss: 1.257947564125061 | Accuracy: 51.5625%\n",
            "GB | Epoch 1 | Loss: 1.2699013948440552 | Accuracy: 51.5625%\n",
            "GB | Epoch 1 | Loss: 1.2437727451324463 | Accuracy: 51.5625%\n",
            "GB | Epoch 1 | Loss: 1.8377526998519897 | Accuracy: 25.0%\n"
          ]
        },
        {
          "output_type": "stream",
          "name": "stderr",
          "text": [
            "Epoch 1: 100%|██████████| 751/751 [00:18<00:00, 39.80batch/s, accuracy=25.0%, loss=1.84]\n",
            "Epoch 2:   1%|          | 5/751 [00:00<00:45, 16.35batch/s, accuracy=37.5%, loss=1.41]  "
          ]
        },
        {
          "output_type": "stream",
          "name": "stdout",
          "text": [
            "GB | Epoch 2 | Loss: 1.3938500881195068 | Accuracy: 43.75%\n",
            "GB | Epoch 2 | Loss: 1.3487766981124878 | Accuracy: 48.4375%\n",
            "GB | Epoch 2 | Loss: 1.29994797706604 | Accuracy: 48.4375%\n",
            "GB | Epoch 2 | Loss: 1.3974210023880005 | Accuracy: 39.0625%\n",
            "GB | Epoch 2 | Loss: 1.3339791297912598 | Accuracy: 43.75%\n",
            "GB | Epoch 2 | Loss: 1.4104667901992798 | Accuracy: 40.625%\n",
            "GB | Epoch 2 | Loss: 1.4129149913787842 | Accuracy: 37.5%\n"
          ]
        },
        {
          "output_type": "stream",
          "name": "stderr",
          "text": [
            "Epoch 2:   1%|▏         | 11/751 [00:00<00:31, 23.52batch/s, accuracy=59.375%, loss=1.17]"
          ]
        },
        {
          "output_type": "stream",
          "name": "stdout",
          "text": [
            "GB | Epoch 2 | Loss: 1.2069287300109863 | Accuracy: 57.8125%\n",
            "GB | Epoch 2 | Loss: 1.3887946605682373 | Accuracy: 42.1875%\n",
            "GB | Epoch 2 | Loss: 1.2453545331954956 | Accuracy: 53.125%\n",
            "GB | Epoch 2 | Loss: 1.2959901094436646 | Accuracy: 50.0%\n",
            "GB | Epoch 2 | Loss: 1.188488245010376 | Accuracy: 56.25%\n",
            "GB | Epoch 2 | Loss: 1.1657263040542603 | Accuracy: 59.375%\n"
          ]
        },
        {
          "output_type": "stream",
          "name": "stderr",
          "text": [
            "Epoch 2:   2%|▏         | 18/751 [00:00<00:27, 27.01batch/s, accuracy=53.125%, loss=1.23]"
          ]
        },
        {
          "output_type": "stream",
          "name": "stdout",
          "text": [
            "GB | Epoch 2 | Loss: 1.18055260181427 | Accuracy: 60.9375%\n",
            "GB | Epoch 2 | Loss: 1.2390010356903076 | Accuracy: 57.8125%\n",
            "GB | Epoch 2 | Loss: 1.227386713027954 | Accuracy: 54.6875%\n",
            "GB | Epoch 2 | Loss: 1.3829450607299805 | Accuracy: 48.4375%\n",
            "GB | Epoch 2 | Loss: 1.2544053792953491 | Accuracy: 54.6875%\n",
            "GB | Epoch 2 | Loss: 1.241301417350769 | Accuracy: 53.125%\n"
          ]
        },
        {
          "output_type": "stream",
          "name": "stderr",
          "text": [
            "Epoch 2:   3%|▎         | 24/751 [00:01<00:26, 27.86batch/s, accuracy=46.875%, loss=1.31]"
          ]
        },
        {
          "output_type": "stream",
          "name": "stdout",
          "text": [
            "GB | Epoch 2 | Loss: 1.2325119972229004 | Accuracy: 53.125%\n",
            "GB | Epoch 2 | Loss: 1.1648112535476685 | Accuracy: 60.9375%\n",
            "GB | Epoch 2 | Loss: 1.221237063407898 | Accuracy: 53.125%\n",
            "GB | Epoch 2 | Loss: 1.2442421913146973 | Accuracy: 54.6875%\n",
            "GB | Epoch 2 | Loss: 1.343475580215454 | Accuracy: 46.875%\n",
            "GB | Epoch 2 | Loss: 1.3061408996582031 | Accuracy: 46.875%\n"
          ]
        },
        {
          "output_type": "stream",
          "name": "stderr",
          "text": [
            "Epoch 2:   4%|▍         | 31/751 [00:01<00:25, 27.99batch/s, accuracy=54.6875%, loss=1.27]"
          ]
        },
        {
          "output_type": "stream",
          "name": "stdout",
          "text": [
            "GB | Epoch 2 | Loss: 1.2194503545761108 | Accuracy: 53.125%\n",
            "GB | Epoch 2 | Loss: 1.1566007137298584 | Accuracy: 59.375%\n",
            "GB | Epoch 2 | Loss: 1.3025556802749634 | Accuracy: 48.4375%\n",
            "GB | Epoch 2 | Loss: 1.2148182392120361 | Accuracy: 53.125%\n",
            "GB | Epoch 2 | Loss: 1.297264575958252 | Accuracy: 53.125%\n",
            "GB | Epoch 2 | Loss: 1.267335057258606 | Accuracy: 54.6875%\n"
          ]
        },
        {
          "output_type": "stream",
          "name": "stderr",
          "text": [
            "Epoch 2:   5%|▌         | 38/751 [00:01<00:24, 29.23batch/s, accuracy=51.5625%, loss=1.27]"
          ]
        },
        {
          "output_type": "stream",
          "name": "stdout",
          "text": [
            "GB | Epoch 2 | Loss: 1.2877137660980225 | Accuracy: 53.125%\n",
            "GB | Epoch 2 | Loss: 1.3165546655654907 | Accuracy: 46.875%\n",
            "GB | Epoch 2 | Loss: 1.2181395292282104 | Accuracy: 53.125%\n",
            "GB | Epoch 2 | Loss: 1.349159836769104 | Accuracy: 46.875%\n",
            "GB | Epoch 2 | Loss: 1.1943625211715698 | Accuracy: 57.8125%\n",
            "GB | Epoch 2 | Loss: 1.2855302095413208 | Accuracy: 40.625%\n",
            "GB | Epoch 2 | Loss: 1.2698971033096313 | Accuracy: 51.5625%\n"
          ]
        },
        {
          "output_type": "stream",
          "name": "stderr",
          "text": [
            "Epoch 2:   6%|▌         | 42/751 [00:01<00:23, 30.15batch/s, accuracy=53.125%, loss=1.25]"
          ]
        },
        {
          "output_type": "stream",
          "name": "stdout",
          "text": [
            "GB | Epoch 2 | Loss: 1.2972506284713745 | Accuracy: 45.3125%\n",
            "GB | Epoch 2 | Loss: 1.3227277994155884 | Accuracy: 46.875%\n",
            "GB | Epoch 2 | Loss: 1.420639991760254 | Accuracy: 37.5%\n",
            "GB | Epoch 2 | Loss: 1.4019192457199097 | Accuracy: 42.1875%\n",
            "GB | Epoch 2 | Loss: 1.212910771369934 | Accuracy: 54.6875%\n",
            "GB | Epoch 2 | Loss: 1.438612937927246 | Accuracy: 37.5%\n",
            "GB | Epoch 2 | Loss: 1.254974126815796 | Accuracy: 53.125%\n"
          ]
        },
        {
          "output_type": "stream",
          "name": "stderr",
          "text": [
            "Epoch 2:   7%|▋         | 50/751 [00:01<00:22, 31.25batch/s, accuracy=45.3125%, loss=1.39]"
          ]
        },
        {
          "output_type": "stream",
          "name": "stdout",
          "text": [
            "GB | Epoch 2 | Loss: 1.2279415130615234 | Accuracy: 56.25%\n",
            "GB | Epoch 2 | Loss: 1.2750495672225952 | Accuracy: 51.5625%\n",
            "GB | Epoch 2 | Loss: 1.346070408821106 | Accuracy: 53.125%\n",
            "GB | Epoch 2 | Loss: 1.240537166595459 | Accuracy: 53.125%\n",
            "GB | Epoch 2 | Loss: 1.2004307508468628 | Accuracy: 56.25%\n",
            "GB | Epoch 2 | Loss: 1.2623891830444336 | Accuracy: 53.125%\n",
            "GB | Epoch 2 | Loss: 1.394176721572876 | Accuracy: 45.3125%\n"
          ]
        },
        {
          "output_type": "stream",
          "name": "stderr",
          "text": [
            "Epoch 2:   8%|▊         | 58/751 [00:02<00:21, 31.62batch/s, accuracy=43.75%, loss=1.33] "
          ]
        },
        {
          "output_type": "stream",
          "name": "stdout",
          "text": [
            "GB | Epoch 2 | Loss: 1.2778804302215576 | Accuracy: 53.125%\n",
            "GB | Epoch 2 | Loss: 1.233043909072876 | Accuracy: 60.9375%\n",
            "GB | Epoch 2 | Loss: 1.4427883625030518 | Accuracy: 40.625%\n",
            "GB | Epoch 2 | Loss: 1.251365303993225 | Accuracy: 53.125%\n",
            "GB | Epoch 2 | Loss: 1.3175853490829468 | Accuracy: 51.5625%\n",
            "GB | Epoch 2 | Loss: 1.1311354637145996 | Accuracy: 59.375%\n",
            "GB | Epoch 2 | Loss: 1.327564001083374 | Accuracy: 43.75%\n"
          ]
        },
        {
          "output_type": "stream",
          "name": "stderr",
          "text": [
            "Epoch 2:   9%|▉         | 66/751 [00:02<00:22, 31.13batch/s, accuracy=46.875%, loss=1.29]"
          ]
        },
        {
          "output_type": "stream",
          "name": "stdout",
          "text": [
            "GB | Epoch 2 | Loss: 1.1961442232131958 | Accuracy: 53.125%\n",
            "GB | Epoch 2 | Loss: 1.184881329536438 | Accuracy: 57.8125%\n",
            "GB | Epoch 2 | Loss: 1.0894197225570679 | Accuracy: 59.375%\n",
            "GB | Epoch 2 | Loss: 1.3187198638916016 | Accuracy: 45.3125%\n",
            "GB | Epoch 2 | Loss: 1.2397174835205078 | Accuracy: 51.5625%\n",
            "GB | Epoch 2 | Loss: 1.3458293676376343 | Accuracy: 45.3125%\n",
            "GB | Epoch 2 | Loss: 1.287852168083191 | Accuracy: 46.875%\n"
          ]
        },
        {
          "output_type": "stream",
          "name": "stderr",
          "text": [
            "Epoch 2:  10%|▉         | 74/751 [00:02<00:20, 32.53batch/s, accuracy=46.875%, loss=1.31]"
          ]
        },
        {
          "output_type": "stream",
          "name": "stdout",
          "text": [
            "GB | Epoch 2 | Loss: 1.268953800201416 | Accuracy: 51.5625%\n",
            "GB | Epoch 2 | Loss: 1.3032772541046143 | Accuracy: 43.75%\n",
            "GB | Epoch 2 | Loss: 1.225056529045105 | Accuracy: 53.125%\n",
            "GB | Epoch 2 | Loss: 1.2974203824996948 | Accuracy: 46.875%\n",
            "GB | Epoch 2 | Loss: 1.3537036180496216 | Accuracy: 43.75%\n",
            "GB | Epoch 2 | Loss: 1.202763557434082 | Accuracy: 57.8125%\n",
            "GB | Epoch 2 | Loss: 1.3074917793273926 | Accuracy: 46.875%\n",
            "GB | Epoch 2 | Loss: 1.311011791229248 | Accuracy: 46.875%\n"
          ]
        },
        {
          "output_type": "stream",
          "name": "stderr",
          "text": [
            "Epoch 2:  11%|█         | 82/751 [00:02<00:19, 33.77batch/s, accuracy=48.4375%, loss=1.29]"
          ]
        },
        {
          "output_type": "stream",
          "name": "stdout",
          "text": [
            "GB | Epoch 2 | Loss: 1.2945442199707031 | Accuracy: 50.0%\n",
            "GB | Epoch 2 | Loss: 1.311447024345398 | Accuracy: 51.5625%\n",
            "GB | Epoch 2 | Loss: 1.2846792936325073 | Accuracy: 48.4375%\n",
            "GB | Epoch 2 | Loss: 1.2695964574813843 | Accuracy: 51.5625%\n",
            "GB | Epoch 2 | Loss: 1.2039109468460083 | Accuracy: 53.125%\n",
            "GB | Epoch 2 | Loss: 1.2056539058685303 | Accuracy: 56.25%\n",
            "GB | Epoch 2 | Loss: 1.2734832763671875 | Accuracy: 53.125%\n",
            "GB | Epoch 2 | Loss: 1.2934436798095703 | Accuracy: 48.4375%\n"
          ]
        },
        {
          "output_type": "stream",
          "name": "stderr",
          "text": [
            "Epoch 2:  11%|█▏        | 86/751 [00:03<00:19, 33.48batch/s, accuracy=60.9375%, loss=1.14]"
          ]
        },
        {
          "output_type": "stream",
          "name": "stdout",
          "text": [
            "GB | Epoch 2 | Loss: 1.3620171546936035 | Accuracy: 46.875%\n",
            "GB | Epoch 2 | Loss: 1.2370744943618774 | Accuracy: 54.6875%\n",
            "GB | Epoch 2 | Loss: 1.2250192165374756 | Accuracy: 57.8125%\n",
            "GB | Epoch 2 | Loss: 1.2207109928131104 | Accuracy: 54.6875%\n",
            "GB | Epoch 2 | Loss: 1.1380358934402466 | Accuracy: 59.375%\n",
            "GB | Epoch 2 | Loss: 1.3706104755401611 | Accuracy: 46.875%\n",
            "GB | Epoch 2 | Loss: 1.1412140130996704 | Accuracy: 60.9375%\n"
          ]
        },
        {
          "output_type": "stream",
          "name": "stderr",
          "text": [
            "Epoch 2:  13%|█▎        | 94/751 [00:03<00:21, 30.71batch/s, accuracy=57.8125%, loss=1.24]"
          ]
        },
        {
          "output_type": "stream",
          "name": "stdout",
          "text": [
            "GB | Epoch 2 | Loss: 1.2076234817504883 | Accuracy: 56.25%\n",
            "GB | Epoch 2 | Loss: 1.2524324655532837 | Accuracy: 51.5625%\n",
            "GB | Epoch 2 | Loss: 1.2410304546356201 | Accuracy: 54.6875%\n",
            "GB | Epoch 2 | Loss: 1.0546075105667114 | Accuracy: 67.1875%\n",
            "GB | Epoch 2 | Loss: 1.2068105936050415 | Accuracy: 51.5625%\n",
            "GB | Epoch 2 | Loss: 1.2395380735397339 | Accuracy: 57.8125%\n"
          ]
        },
        {
          "output_type": "stream",
          "name": "stderr",
          "text": [
            "Epoch 2:  13%|█▎        | 98/751 [00:03<00:21, 29.92batch/s, accuracy=56.25%, loss=1.22]  "
          ]
        },
        {
          "output_type": "stream",
          "name": "stdout",
          "text": [
            "GB | Epoch 2 | Loss: 1.222866177558899 | Accuracy: 48.4375%\n",
            "GB | Epoch 2 | Loss: 1.1983031034469604 | Accuracy: 56.25%\n",
            "GB | Epoch 2 | Loss: 1.0811582803726196 | Accuracy: 62.5%\n",
            "GB | Epoch 2 | Loss: 1.3048253059387207 | Accuracy: 45.3125%\n",
            "GB | Epoch 2 | Loss: 1.235443115234375 | Accuracy: 54.6875%\n",
            "GB | Epoch 2 | Loss: 1.2183570861816406 | Accuracy: 56.25%\n"
          ]
        },
        {
          "output_type": "stream",
          "name": "stderr",
          "text": [
            "Epoch 2:  14%|█▍        | 106/751 [00:03<00:21, 29.47batch/s, accuracy=39.0625%, loss=1.43]"
          ]
        },
        {
          "output_type": "stream",
          "name": "stdout",
          "text": [
            "GB | Epoch 2 | Loss: 1.1229699850082397 | Accuracy: 59.375%\n",
            "GB | Epoch 2 | Loss: 1.1784018278121948 | Accuracy: 59.375%\n",
            "GB | Epoch 2 | Loss: 1.3761438131332397 | Accuracy: 46.875%\n",
            "GB | Epoch 2 | Loss: 1.268399715423584 | Accuracy: 48.4375%\n",
            "GB | Epoch 2 | Loss: 1.2947998046875 | Accuracy: 46.875%\n",
            "GB | Epoch 2 | Loss: 1.2670040130615234 | Accuracy: 48.4375%\n",
            "GB | Epoch 2 | Loss: 1.4263077974319458 | Accuracy: 39.0625%\n"
          ]
        },
        {
          "output_type": "stream",
          "name": "stderr",
          "text": [
            "Epoch 2:  15%|█▍        | 112/751 [00:03<00:22, 28.94batch/s, accuracy=53.125%, loss=1.24] "
          ]
        },
        {
          "output_type": "stream",
          "name": "stdout",
          "text": [
            "GB | Epoch 2 | Loss: 1.2431268692016602 | Accuracy: 50.0%\n",
            "GB | Epoch 2 | Loss: 1.1910037994384766 | Accuracy: 56.25%\n",
            "GB | Epoch 2 | Loss: 1.145840048789978 | Accuracy: 56.25%\n",
            "GB | Epoch 2 | Loss: 1.1746134757995605 | Accuracy: 51.5625%\n",
            "GB | Epoch 2 | Loss: 1.1808319091796875 | Accuracy: 51.5625%\n",
            "GB | Epoch 2 | Loss: 1.2416185140609741 | Accuracy: 53.125%\n"
          ]
        },
        {
          "output_type": "stream",
          "name": "stderr",
          "text": [
            "Epoch 2:  16%|█▌        | 118/751 [00:04<00:22, 28.11batch/s, accuracy=51.5625%, loss=1.24]"
          ]
        },
        {
          "output_type": "stream",
          "name": "stdout",
          "text": [
            "GB | Epoch 2 | Loss: 1.1445695161819458 | Accuracy: 57.8125%\n",
            "GB | Epoch 2 | Loss: 1.1608587503433228 | Accuracy: 56.25%\n",
            "GB | Epoch 2 | Loss: 1.0757191181182861 | Accuracy: 59.375%\n",
            "GB | Epoch 2 | Loss: 1.176828145980835 | Accuracy: 53.125%\n",
            "GB | Epoch 2 | Loss: 1.2585532665252686 | Accuracy: 51.5625%\n",
            "GB | Epoch 2 | Loss: 1.2413361072540283 | Accuracy: 51.5625%\n"
          ]
        },
        {
          "output_type": "stream",
          "name": "stderr",
          "text": [
            "Epoch 2:  17%|█▋        | 125/751 [00:04<00:20, 30.46batch/s, accuracy=54.6875%, loss=1.1] "
          ]
        },
        {
          "output_type": "stream",
          "name": "stdout",
          "text": [
            "GB | Epoch 2 | Loss: 1.332448959350586 | Accuracy: 48.4375%\n",
            "GB | Epoch 2 | Loss: 1.2143750190734863 | Accuracy: 50.0%\n",
            "GB | Epoch 2 | Loss: 1.3271493911743164 | Accuracy: 40.625%\n",
            "GB | Epoch 2 | Loss: 1.1990317106246948 | Accuracy: 54.6875%\n",
            "GB | Epoch 2 | Loss: 1.2805018424987793 | Accuracy: 45.3125%\n",
            "GB | Epoch 2 | Loss: 1.2194287776947021 | Accuracy: 53.125%\n",
            "GB | Epoch 2 | Loss: 1.2739595174789429 | Accuracy: 45.3125%\n",
            "GB | Epoch 2 | Loss: 1.1011533737182617 | Accuracy: 54.6875%\n"
          ]
        },
        {
          "output_type": "stream",
          "name": "stderr",
          "text": [
            "Epoch 2:  18%|█▊        | 135/751 [00:04<00:17, 35.64batch/s, accuracy=59.375%, loss=1.18] "
          ]
        },
        {
          "output_type": "stream",
          "name": "stdout",
          "text": [
            "GB | Epoch 2 | Loss: 1.23361337184906 | Accuracy: 54.6875%\n",
            "GB | Epoch 2 | Loss: 1.2641923427581787 | Accuracy: 51.5625%\n",
            "GB | Epoch 2 | Loss: 1.253279447555542 | Accuracy: 45.3125%\n",
            "GB | Epoch 2 | Loss: 1.2670793533325195 | Accuracy: 51.5625%\n",
            "GB | Epoch 2 | Loss: 1.2791669368743896 | Accuracy: 50.0%\n",
            "GB | Epoch 2 | Loss: 1.2234529256820679 | Accuracy: 54.6875%\n",
            "GB | Epoch 2 | Loss: 1.1648808717727661 | Accuracy: 56.25%\n",
            "GB | Epoch 2 | Loss: 1.1944901943206787 | Accuracy: 54.6875%\n",
            "GB | Epoch 2 | Loss: 1.176031470298767 | Accuracy: 59.375%\n"
          ]
        },
        {
          "output_type": "stream",
          "name": "stderr",
          "text": [
            "Epoch 2:  19%|█▉        | 145/751 [00:04<00:15, 39.09batch/s, accuracy=53.125%, loss=1.2] "
          ]
        },
        {
          "output_type": "stream",
          "name": "stdout",
          "text": [
            "GB | Epoch 2 | Loss: 1.2490733861923218 | Accuracy: 51.5625%\n",
            "GB | Epoch 2 | Loss: 1.2599420547485352 | Accuracy: 50.0%\n",
            "GB | Epoch 2 | Loss: 1.1711766719818115 | Accuracy: 54.6875%\n",
            "GB | Epoch 2 | Loss: 1.1739864349365234 | Accuracy: 54.6875%\n",
            "GB | Epoch 2 | Loss: 1.1461509466171265 | Accuracy: 57.8125%\n",
            "GB | Epoch 2 | Loss: 1.11524498462677 | Accuracy: 60.9375%\n",
            "GB | Epoch 2 | Loss: 1.260130524635315 | Accuracy: 51.5625%\n",
            "GB | Epoch 2 | Loss: 1.3369369506835938 | Accuracy: 53.125%\n",
            "GB | Epoch 2 | Loss: 1.1960957050323486 | Accuracy: 53.125%\n"
          ]
        },
        {
          "output_type": "stream",
          "name": "stderr",
          "text": [
            "Epoch 2:  21%|██        | 155/751 [00:05<00:14, 40.72batch/s, accuracy=54.6875%, loss=1.19]"
          ]
        },
        {
          "output_type": "stream",
          "name": "stdout",
          "text": [
            "GB | Epoch 2 | Loss: 1.309023141860962 | Accuracy: 43.75%\n",
            "GB | Epoch 2 | Loss: 1.074370265007019 | Accuracy: 60.9375%\n",
            "GB | Epoch 2 | Loss: 1.185417652130127 | Accuracy: 53.125%\n",
            "GB | Epoch 2 | Loss: 1.362391471862793 | Accuracy: 51.5625%\n",
            "GB | Epoch 2 | Loss: 1.189461588859558 | Accuracy: 54.6875%\n",
            "GB | Epoch 2 | Loss: 1.218644142150879 | Accuracy: 46.875%\n",
            "GB | Epoch 2 | Loss: 1.0950897932052612 | Accuracy: 60.9375%\n",
            "GB | Epoch 2 | Loss: 1.1307926177978516 | Accuracy: 60.9375%\n",
            "GB | Epoch 2 | Loss: 1.1872349977493286 | Accuracy: 54.6875%\n"
          ]
        },
        {
          "output_type": "stream",
          "name": "stderr",
          "text": [
            "Epoch 2:  21%|██▏       | 160/751 [00:05<00:14, 40.57batch/s, accuracy=48.4375%, loss=1.23]"
          ]
        },
        {
          "output_type": "stream",
          "name": "stdout",
          "text": [
            "GB | Epoch 2 | Loss: 1.0487030744552612 | Accuracy: 64.0625%\n",
            "GB | Epoch 2 | Loss: 1.282534122467041 | Accuracy: 45.3125%\n",
            "GB | Epoch 2 | Loss: 1.2804771661758423 | Accuracy: 48.4375%\n",
            "GB | Epoch 2 | Loss: 1.077956199645996 | Accuracy: 56.25%\n",
            "GB | Epoch 2 | Loss: 1.1783894300460815 | Accuracy: 53.125%\n",
            "GB | Epoch 2 | Loss: 1.1824212074279785 | Accuracy: 48.4375%\n",
            "GB | Epoch 2 | Loss: 1.2501882314682007 | Accuracy: 46.875%\n",
            "GB | Epoch 2 | Loss: 1.2630711793899536 | Accuracy: 51.5625%\n",
            "GB | Epoch 2 | Loss: 1.2305110692977905 | Accuracy: 48.4375%\n"
          ]
        },
        {
          "output_type": "stream",
          "name": "stderr",
          "text": [
            "Epoch 2:  23%|██▎       | 170/751 [00:05<00:13, 41.73batch/s, accuracy=62.5%, loss=1.12]   "
          ]
        },
        {
          "output_type": "stream",
          "name": "stdout",
          "text": [
            "GB | Epoch 2 | Loss: 1.1136125326156616 | Accuracy: 54.6875%\n",
            "GB | Epoch 2 | Loss: 1.1506950855255127 | Accuracy: 51.5625%\n",
            "GB | Epoch 2 | Loss: 1.1442279815673828 | Accuracy: 56.25%\n",
            "GB | Epoch 2 | Loss: 1.2425544261932373 | Accuracy: 46.875%\n",
            "GB | Epoch 2 | Loss: 1.326243281364441 | Accuracy: 46.875%\n",
            "GB | Epoch 2 | Loss: 1.110076904296875 | Accuracy: 59.375%\n",
            "GB | Epoch 2 | Loss: 1.251028299331665 | Accuracy: 48.4375%\n",
            "GB | Epoch 2 | Loss: 1.3525406122207642 | Accuracy: 42.1875%\n",
            "GB | Epoch 2 | Loss: 1.1163322925567627 | Accuracy: 62.5%\n"
          ]
        },
        {
          "output_type": "stream",
          "name": "stderr",
          "text": [
            "Epoch 2:  24%|██▍       | 180/751 [00:05<00:13, 41.16batch/s, accuracy=51.5625%, loss=1.27] "
          ]
        },
        {
          "output_type": "stream",
          "name": "stdout",
          "text": [
            "GB | Epoch 2 | Loss: 1.1473368406295776 | Accuracy: 57.8125%\n",
            "GB | Epoch 2 | Loss: 1.1392805576324463 | Accuracy: 59.375%\n",
            "GB | Epoch 2 | Loss: 1.125579595565796 | Accuracy: 60.9375%\n",
            "GB | Epoch 2 | Loss: 1.2613946199417114 | Accuracy: 45.3125%\n",
            "GB | Epoch 2 | Loss: 1.077232837677002 | Accuracy: 62.5%\n",
            "GB | Epoch 2 | Loss: 1.3045631647109985 | Accuracy: 46.875%\n",
            "GB | Epoch 2 | Loss: 1.231513261795044 | Accuracy: 54.6875%\n",
            "GB | Epoch 2 | Loss: 0.9237171411514282 | Accuracy: 70.3125%\n"
          ]
        },
        {
          "output_type": "stream",
          "name": "stderr",
          "text": [
            "Epoch 2:  25%|██▌       | 190/751 [00:05<00:13, 41.84batch/s, accuracy=57.8125%, loss=1.15]"
          ]
        },
        {
          "output_type": "stream",
          "name": "stdout",
          "text": [
            "GB | Epoch 2 | Loss: 1.2657828330993652 | Accuracy: 51.5625%\n",
            "GB | Epoch 2 | Loss: 1.2079849243164062 | Accuracy: 51.5625%\n",
            "GB | Epoch 2 | Loss: 1.2824280261993408 | Accuracy: 48.4375%\n",
            "GB | Epoch 2 | Loss: 1.214330792427063 | Accuracy: 46.875%\n",
            "GB | Epoch 2 | Loss: 1.1782035827636719 | Accuracy: 59.375%\n",
            "GB | Epoch 2 | Loss: 1.229684591293335 | Accuracy: 51.5625%\n",
            "GB | Epoch 2 | Loss: 1.4364371299743652 | Accuracy: 39.0625%\n",
            "GB | Epoch 2 | Loss: 1.2505431175231934 | Accuracy: 50.0%\n",
            "GB | Epoch 2 | Loss: 1.1465026140213013 | Accuracy: 57.8125%\n"
          ]
        },
        {
          "output_type": "stream",
          "name": "stderr",
          "text": [
            "Epoch 2:  26%|██▌       | 195/751 [00:06<00:13, 41.90batch/s, accuracy=56.25%, loss=1.13]  "
          ]
        },
        {
          "output_type": "stream",
          "name": "stdout",
          "text": [
            "GB | Epoch 2 | Loss: 1.1863346099853516 | Accuracy: 54.6875%\n",
            "GB | Epoch 2 | Loss: 1.0666542053222656 | Accuracy: 60.9375%\n",
            "GB | Epoch 2 | Loss: 1.239011526107788 | Accuracy: 50.0%\n",
            "GB | Epoch 2 | Loss: 1.0714443922042847 | Accuracy: 62.5%\n",
            "GB | Epoch 2 | Loss: 1.1382646560668945 | Accuracy: 65.625%\n",
            "GB | Epoch 2 | Loss: 1.0842700004577637 | Accuracy: 62.5%\n",
            "GB | Epoch 2 | Loss: 1.2648059129714966 | Accuracy: 48.4375%\n",
            "GB | Epoch 2 | Loss: 1.1248878240585327 | Accuracy: 60.9375%\n",
            "GB | Epoch 2 | Loss: 1.1296015977859497 | Accuracy: 56.25%\n"
          ]
        },
        {
          "output_type": "stream",
          "name": "stderr",
          "text": [
            "Epoch 2:  27%|██▋       | 205/751 [00:06<00:13, 41.94batch/s, accuracy=60.9375%, loss=1.01]"
          ]
        },
        {
          "output_type": "stream",
          "name": "stdout",
          "text": [
            "GB | Epoch 2 | Loss: 1.3052843809127808 | Accuracy: 43.75%\n",
            "GB | Epoch 2 | Loss: 1.210724949836731 | Accuracy: 48.4375%\n",
            "GB | Epoch 2 | Loss: 1.130510926246643 | Accuracy: 54.6875%\n",
            "GB | Epoch 2 | Loss: 1.0924533605575562 | Accuracy: 57.8125%\n",
            "GB | Epoch 2 | Loss: 1.1392202377319336 | Accuracy: 54.6875%\n",
            "GB | Epoch 2 | Loss: 1.276342511177063 | Accuracy: 48.4375%\n",
            "GB | Epoch 2 | Loss: 1.0278817415237427 | Accuracy: 64.0625%\n",
            "GB | Epoch 2 | Loss: 1.1118720769882202 | Accuracy: 57.8125%\n",
            "GB | Epoch 2 | Loss: 1.0071755647659302 | Accuracy: 60.9375%\n"
          ]
        },
        {
          "output_type": "stream",
          "name": "stderr",
          "text": [
            "Epoch 2:  29%|██▊       | 215/751 [00:06<00:12, 42.79batch/s, accuracy=56.25%, loss=1.2]  "
          ]
        },
        {
          "output_type": "stream",
          "name": "stdout",
          "text": [
            "GB | Epoch 2 | Loss: 1.007369875907898 | Accuracy: 65.625%\n",
            "GB | Epoch 2 | Loss: 1.133338451385498 | Accuracy: 54.6875%\n",
            "GB | Epoch 2 | Loss: 1.19447660446167 | Accuracy: 51.5625%\n",
            "GB | Epoch 2 | Loss: 1.1848939657211304 | Accuracy: 57.8125%\n",
            "GB | Epoch 2 | Loss: 1.2210750579833984 | Accuracy: 54.6875%\n",
            "GB | Epoch 2 | Loss: 1.1612849235534668 | Accuracy: 51.5625%\n",
            "GB | Epoch 2 | Loss: 1.1169055700302124 | Accuracy: 56.25%\n",
            "GB | Epoch 2 | Loss: 1.1993213891983032 | Accuracy: 51.5625%\n",
            "GB | Epoch 2 | Loss: 1.1953401565551758 | Accuracy: 56.25%\n"
          ]
        },
        {
          "output_type": "stream",
          "name": "stderr",
          "text": [
            "Epoch 2:  30%|██▉       | 225/751 [00:06<00:12, 40.55batch/s, accuracy=53.125%, loss=1.17]"
          ]
        },
        {
          "output_type": "stream",
          "name": "stdout",
          "text": [
            "GB | Epoch 2 | Loss: 1.19019615650177 | Accuracy: 53.125%\n",
            "GB | Epoch 2 | Loss: 1.2348483800888062 | Accuracy: 56.25%\n",
            "GB | Epoch 2 | Loss: 1.1284271478652954 | Accuracy: 56.25%\n",
            "GB | Epoch 2 | Loss: 1.0073670148849487 | Accuracy: 65.625%\n",
            "GB | Epoch 2 | Loss: 1.194779396057129 | Accuracy: 51.5625%\n",
            "GB | Epoch 2 | Loss: 1.0213277339935303 | Accuracy: 62.5%\n",
            "GB | Epoch 2 | Loss: 1.269628882408142 | Accuracy: 43.75%\n",
            "GB | Epoch 2 | Loss: 1.1707364320755005 | Accuracy: 53.125%\n"
          ]
        },
        {
          "output_type": "stream",
          "name": "stderr",
          "text": [
            "Epoch 2:  31%|███       | 230/751 [00:06<00:12, 40.36batch/s, accuracy=59.375%, loss=1.13] "
          ]
        },
        {
          "output_type": "stream",
          "name": "stdout",
          "text": [
            "GB | Epoch 2 | Loss: 1.2054369449615479 | Accuracy: 57.8125%\n",
            "GB | Epoch 2 | Loss: 0.9749188423156738 | Accuracy: 67.1875%\n",
            "GB | Epoch 2 | Loss: 1.1558841466903687 | Accuracy: 53.125%\n",
            "GB | Epoch 2 | Loss: 1.0977627038955688 | Accuracy: 62.5%\n",
            "GB | Epoch 2 | Loss: 0.9268088936805725 | Accuracy: 68.75%\n",
            "GB | Epoch 2 | Loss: 0.9044617414474487 | Accuracy: 75.0%\n",
            "GB | Epoch 2 | Loss: 1.0677568912506104 | Accuracy: 59.375%\n",
            "GB | Epoch 2 | Loss: 1.0310691595077515 | Accuracy: 64.0625%\n",
            "GB | Epoch 2 | Loss: 1.128514289855957 | Accuracy: 59.375%\n"
          ]
        },
        {
          "output_type": "stream",
          "name": "stderr",
          "text": [
            "Epoch 2:  32%|███▏      | 240/751 [00:07<00:12, 39.55batch/s, accuracy=59.375%, loss=1.07] "
          ]
        },
        {
          "output_type": "stream",
          "name": "stdout",
          "text": [
            "GB | Epoch 2 | Loss: 1.24326491355896 | Accuracy: 48.4375%\n",
            "GB | Epoch 2 | Loss: 0.996734619140625 | Accuracy: 65.625%\n",
            "GB | Epoch 2 | Loss: 1.3097286224365234 | Accuracy: 40.625%\n",
            "GB | Epoch 2 | Loss: 1.1204440593719482 | Accuracy: 51.5625%\n",
            "GB | Epoch 2 | Loss: 1.2019693851470947 | Accuracy: 48.4375%\n",
            "GB | Epoch 2 | Loss: 0.9764282703399658 | Accuracy: 65.625%\n",
            "GB | Epoch 2 | Loss: 1.06107497215271 | Accuracy: 57.8125%\n",
            "GB | Epoch 2 | Loss: 1.0744659900665283 | Accuracy: 59.375%\n"
          ]
        },
        {
          "output_type": "stream",
          "name": "stderr",
          "text": [
            "Epoch 2:  33%|███▎      | 248/751 [00:07<00:12, 39.50batch/s, accuracy=53.125%, loss=1.23] "
          ]
        },
        {
          "output_type": "stream",
          "name": "stdout",
          "text": [
            "GB | Epoch 2 | Loss: 1.1067489385604858 | Accuracy: 53.125%\n",
            "GB | Epoch 2 | Loss: 1.2383846044540405 | Accuracy: 43.75%\n",
            "GB | Epoch 2 | Loss: 1.007239580154419 | Accuracy: 60.9375%\n",
            "GB | Epoch 2 | Loss: 0.9592639803886414 | Accuracy: 64.0625%\n",
            "GB | Epoch 2 | Loss: 1.1753569841384888 | Accuracy: 51.5625%\n",
            "GB | Epoch 2 | Loss: 1.015324592590332 | Accuracy: 67.1875%\n",
            "GB | Epoch 2 | Loss: 1.1884437799453735 | Accuracy: 57.8125%\n",
            "GB | Epoch 2 | Loss: 1.0349880456924438 | Accuracy: 64.0625%\n",
            "GB | Epoch 2 | Loss: 1.2297061681747437 | Accuracy: 53.125%\n"
          ]
        },
        {
          "output_type": "stream",
          "name": "stderr",
          "text": [
            "Epoch 2:  34%|███▍      | 258/751 [00:07<00:12, 40.82batch/s, accuracy=59.375%, loss=1.1]  "
          ]
        },
        {
          "output_type": "stream",
          "name": "stdout",
          "text": [
            "GB | Epoch 2 | Loss: 1.0406073331832886 | Accuracy: 62.5%\n",
            "GB | Epoch 2 | Loss: 1.0408324003219604 | Accuracy: 57.8125%\n",
            "GB | Epoch 2 | Loss: 1.1644219160079956 | Accuracy: 56.25%\n",
            "GB | Epoch 2 | Loss: 0.9985993504524231 | Accuracy: 57.8125%\n",
            "GB | Epoch 2 | Loss: 0.8938400149345398 | Accuracy: 64.0625%\n",
            "GB | Epoch 2 | Loss: 1.1152948141098022 | Accuracy: 60.9375%\n",
            "GB | Epoch 2 | Loss: 1.1439199447631836 | Accuracy: 53.125%\n",
            "GB | Epoch 2 | Loss: 1.217090129852295 | Accuracy: 51.5625%\n",
            "GB | Epoch 2 | Loss: 1.0969127416610718 | Accuracy: 59.375%\n"
          ]
        },
        {
          "output_type": "stream",
          "name": "stderr",
          "text": [
            "Epoch 2:  36%|███▌      | 268/751 [00:07<00:11, 40.45batch/s, accuracy=59.375%, loss=1.04]"
          ]
        },
        {
          "output_type": "stream",
          "name": "stdout",
          "text": [
            "GB | Epoch 2 | Loss: 1.0700336694717407 | Accuracy: 59.375%\n",
            "GB | Epoch 2 | Loss: 1.075219988822937 | Accuracy: 54.6875%\n",
            "GB | Epoch 2 | Loss: 1.0055123567581177 | Accuracy: 62.5%\n",
            "GB | Epoch 2 | Loss: 1.0236401557922363 | Accuracy: 65.625%\n",
            "GB | Epoch 2 | Loss: 1.265038251876831 | Accuracy: 45.3125%\n",
            "GB | Epoch 2 | Loss: 1.136724829673767 | Accuracy: 56.25%\n",
            "GB | Epoch 2 | Loss: 1.1950913667678833 | Accuracy: 50.0%\n",
            "GB | Epoch 2 | Loss: 1.041688084602356 | Accuracy: 59.375%\n"
          ]
        },
        {
          "output_type": "stream",
          "name": "stderr",
          "text": [
            "Epoch 2:  36%|███▋      | 273/751 [00:08<00:11, 40.39batch/s, accuracy=60.9375%, loss=1]   "
          ]
        },
        {
          "output_type": "stream",
          "name": "stdout",
          "text": [
            "GB | Epoch 2 | Loss: 1.1266875267028809 | Accuracy: 51.5625%\n",
            "GB | Epoch 2 | Loss: 1.0264250040054321 | Accuracy: 62.5%\n",
            "GB | Epoch 2 | Loss: 1.1744869947433472 | Accuracy: 54.6875%\n",
            "GB | Epoch 2 | Loss: 1.1102254390716553 | Accuracy: 54.6875%\n",
            "GB | Epoch 2 | Loss: 1.0223523378372192 | Accuracy: 60.9375%\n",
            "GB | Epoch 2 | Loss: 1.1295369863510132 | Accuracy: 51.5625%\n",
            "GB | Epoch 2 | Loss: 1.09624183177948 | Accuracy: 57.8125%\n",
            "GB | Epoch 2 | Loss: 0.8426781296730042 | Accuracy: 71.875%\n",
            "GB | Epoch 2 | Loss: 1.0044889450073242 | Accuracy: 60.9375%\n"
          ]
        },
        {
          "output_type": "stream",
          "name": "stderr",
          "text": [
            "Epoch 2:  38%|███▊      | 283/751 [00:08<00:11, 41.32batch/s, accuracy=60.9375%, loss=0.913]"
          ]
        },
        {
          "output_type": "stream",
          "name": "stdout",
          "text": [
            "GB | Epoch 2 | Loss: 1.0539790391921997 | Accuracy: 60.9375%\n",
            "GB | Epoch 2 | Loss: 1.1899466514587402 | Accuracy: 50.0%\n",
            "GB | Epoch 2 | Loss: 1.2006149291992188 | Accuracy: 51.5625%\n",
            "GB | Epoch 2 | Loss: 1.0960890054702759 | Accuracy: 54.6875%\n",
            "GB | Epoch 2 | Loss: 1.1773736476898193 | Accuracy: 51.5625%\n",
            "GB | Epoch 2 | Loss: 0.9158223867416382 | Accuracy: 64.0625%\n",
            "GB | Epoch 2 | Loss: 1.2448418140411377 | Accuracy: 42.1875%\n",
            "GB | Epoch 2 | Loss: 1.1257606744766235 | Accuracy: 50.0%\n",
            "GB | Epoch 2 | Loss: 0.912609338760376 | Accuracy: 60.9375%\n"
          ]
        },
        {
          "output_type": "stream",
          "name": "stderr",
          "text": [
            "Epoch 2:  39%|███▉      | 293/751 [00:08<00:11, 41.15batch/s, accuracy=42.1875%, loss=1.26]"
          ]
        },
        {
          "output_type": "stream",
          "name": "stdout",
          "text": [
            "GB | Epoch 2 | Loss: 1.0786477327346802 | Accuracy: 60.9375%\n",
            "GB | Epoch 2 | Loss: 1.1186232566833496 | Accuracy: 56.25%\n",
            "GB | Epoch 2 | Loss: 1.089789628982544 | Accuracy: 57.8125%\n",
            "GB | Epoch 2 | Loss: 1.0312855243682861 | Accuracy: 59.375%\n",
            "GB | Epoch 2 | Loss: 1.1076689958572388 | Accuracy: 53.125%\n",
            "GB | Epoch 2 | Loss: 1.0057551860809326 | Accuracy: 64.0625%\n",
            "GB | Epoch 2 | Loss: 1.0886770486831665 | Accuracy: 56.25%\n",
            "GB | Epoch 2 | Loss: 1.158469557762146 | Accuracy: 56.25%\n",
            "GB | Epoch 2 | Loss: 1.2636810541152954 | Accuracy: 42.1875%\n"
          ]
        },
        {
          "output_type": "stream",
          "name": "stderr",
          "text": [
            "Epoch 2:  40%|████      | 303/751 [00:08<00:10, 41.82batch/s, accuracy=56.25%, loss=1.03]  "
          ]
        },
        {
          "output_type": "stream",
          "name": "stdout",
          "text": [
            "GB | Epoch 2 | Loss: 1.1490819454193115 | Accuracy: 48.4375%\n",
            "GB | Epoch 2 | Loss: 1.1124396324157715 | Accuracy: 54.6875%\n",
            "GB | Epoch 2 | Loss: 1.0367213487625122 | Accuracy: 62.5%\n",
            "GB | Epoch 2 | Loss: 1.044933795928955 | Accuracy: 51.5625%\n",
            "GB | Epoch 2 | Loss: 1.097019076347351 | Accuracy: 54.6875%\n",
            "GB | Epoch 2 | Loss: 1.0289216041564941 | Accuracy: 64.0625%\n",
            "GB | Epoch 2 | Loss: 0.9719198942184448 | Accuracy: 62.5%\n",
            "GB | Epoch 2 | Loss: 1.0567156076431274 | Accuracy: 64.0625%\n",
            "GB | Epoch 2 | Loss: 1.030889630317688 | Accuracy: 56.25%\n"
          ]
        },
        {
          "output_type": "stream",
          "name": "stderr",
          "text": [
            "Epoch 2:  42%|████▏     | 313/751 [00:08<00:10, 40.74batch/s, accuracy=57.8125%, loss=1.13]"
          ]
        },
        {
          "output_type": "stream",
          "name": "stdout",
          "text": [
            "GB | Epoch 2 | Loss: 1.118312954902649 | Accuracy: 56.25%\n",
            "GB | Epoch 2 | Loss: 0.9735833406448364 | Accuracy: 65.625%\n",
            "GB | Epoch 2 | Loss: 1.0629281997680664 | Accuracy: 62.5%\n",
            "GB | Epoch 2 | Loss: 1.0700340270996094 | Accuracy: 62.5%\n",
            "GB | Epoch 2 | Loss: 1.0444211959838867 | Accuracy: 54.6875%\n",
            "GB | Epoch 2 | Loss: 1.1563384532928467 | Accuracy: 59.375%\n",
            "GB | Epoch 2 | Loss: 1.1487232446670532 | Accuracy: 57.8125%\n",
            "GB | Epoch 2 | Loss: 1.0920915603637695 | Accuracy: 59.375%\n",
            "GB | Epoch 2 | Loss: 1.1313942670822144 | Accuracy: 57.8125%\n"
          ]
        },
        {
          "output_type": "stream",
          "name": "stderr",
          "text": [
            "Epoch 2:  42%|████▏     | 318/751 [00:09<00:10, 41.53batch/s, accuracy=57.8125%, loss=1.16]"
          ]
        },
        {
          "output_type": "stream",
          "name": "stdout",
          "text": [
            "GB | Epoch 2 | Loss: 1.1113849878311157 | Accuracy: 53.125%\n",
            "GB | Epoch 2 | Loss: 1.066828966140747 | Accuracy: 56.25%\n",
            "GB | Epoch 2 | Loss: 1.0840418338775635 | Accuracy: 53.125%\n",
            "GB | Epoch 2 | Loss: 1.0844923257827759 | Accuracy: 62.5%\n",
            "GB | Epoch 2 | Loss: 1.025794267654419 | Accuracy: 54.6875%\n",
            "GB | Epoch 2 | Loss: 1.1923003196716309 | Accuracy: 50.0%\n",
            "GB | Epoch 2 | Loss: 1.0054261684417725 | Accuracy: 60.9375%\n",
            "GB | Epoch 2 | Loss: 1.0908163785934448 | Accuracy: 54.6875%\n",
            "GB | Epoch 2 | Loss: 1.1637781858444214 | Accuracy: 57.8125%\n"
          ]
        },
        {
          "output_type": "stream",
          "name": "stderr",
          "text": [
            "Epoch 2:  44%|████▎     | 328/751 [00:09<00:10, 41.90batch/s, accuracy=57.8125%, loss=1.03]"
          ]
        },
        {
          "output_type": "stream",
          "name": "stdout",
          "text": [
            "GB | Epoch 2 | Loss: 1.00385582447052 | Accuracy: 65.625%\n",
            "GB | Epoch 2 | Loss: 1.0568921566009521 | Accuracy: 59.375%\n",
            "GB | Epoch 2 | Loss: 0.9703829884529114 | Accuracy: 67.1875%\n",
            "GB | Epoch 2 | Loss: 1.115302562713623 | Accuracy: 45.3125%\n",
            "GB | Epoch 2 | Loss: 1.148861050605774 | Accuracy: 56.25%\n",
            "GB | Epoch 2 | Loss: 1.023399829864502 | Accuracy: 60.9375%\n",
            "GB | Epoch 2 | Loss: 1.058230996131897 | Accuracy: 56.25%\n",
            "GB | Epoch 2 | Loss: 1.1848797798156738 | Accuracy: 50.0%\n",
            "GB | Epoch 2 | Loss: 1.0280437469482422 | Accuracy: 57.8125%\n"
          ]
        },
        {
          "output_type": "stream",
          "name": "stderr",
          "text": [
            "Epoch 2:  45%|████▌     | 338/751 [00:09<00:09, 41.97batch/s, accuracy=65.625%, loss=0.992]"
          ]
        },
        {
          "output_type": "stream",
          "name": "stdout",
          "text": [
            "GB | Epoch 2 | Loss: 0.9839656352996826 | Accuracy: 65.625%\n",
            "GB | Epoch 2 | Loss: 1.1705546379089355 | Accuracy: 50.0%\n",
            "GB | Epoch 2 | Loss: 1.0253477096557617 | Accuracy: 60.9375%\n",
            "GB | Epoch 2 | Loss: 1.018800139427185 | Accuracy: 60.9375%\n",
            "GB | Epoch 2 | Loss: 1.0566766262054443 | Accuracy: 60.9375%\n",
            "GB | Epoch 2 | Loss: 0.8887553811073303 | Accuracy: 68.75%\n",
            "GB | Epoch 2 | Loss: 0.8859760761260986 | Accuracy: 67.1875%\n",
            "GB | Epoch 2 | Loss: 1.0262855291366577 | Accuracy: 57.8125%\n",
            "GB | Epoch 2 | Loss: 0.9918250441551208 | Accuracy: 65.625%\n"
          ]
        },
        {
          "output_type": "stream",
          "name": "stderr",
          "text": [
            "Epoch 2:  46%|████▋     | 348/751 [00:09<00:09, 42.23batch/s, accuracy=68.75%, loss=0.862]  "
          ]
        },
        {
          "output_type": "stream",
          "name": "stdout",
          "text": [
            "GB | Epoch 2 | Loss: 0.946124255657196 | Accuracy: 62.5%\n",
            "GB | Epoch 2 | Loss: 0.8737888336181641 | Accuracy: 65.625%\n",
            "GB | Epoch 2 | Loss: 0.925180971622467 | Accuracy: 62.5%\n",
            "GB | Epoch 2 | Loss: 1.1323468685150146 | Accuracy: 51.5625%\n",
            "GB | Epoch 2 | Loss: 0.9464527368545532 | Accuracy: 65.625%\n",
            "GB | Epoch 2 | Loss: 1.1110069751739502 | Accuracy: 54.6875%\n",
            "GB | Epoch 2 | Loss: 0.9005725979804993 | Accuracy: 62.5%\n",
            "GB | Epoch 2 | Loss: 0.9631504416465759 | Accuracy: 64.0625%\n",
            "GB | Epoch 2 | Loss: 0.8621691465377808 | Accuracy: 68.75%\n"
          ]
        },
        {
          "output_type": "stream",
          "name": "stderr",
          "text": [
            "Epoch 2:  48%|████▊     | 358/751 [00:09<00:09, 40.95batch/s, accuracy=70.3125%, loss=0.905]"
          ]
        },
        {
          "output_type": "stream",
          "name": "stdout",
          "text": [
            "GB | Epoch 2 | Loss: 1.0618374347686768 | Accuracy: 56.25%\n",
            "GB | Epoch 2 | Loss: 1.1034129858016968 | Accuracy: 54.6875%\n",
            "GB | Epoch 2 | Loss: 1.0256057977676392 | Accuracy: 65.625%\n",
            "GB | Epoch 2 | Loss: 0.9459969997406006 | Accuracy: 68.75%\n",
            "GB | Epoch 2 | Loss: 0.9314906597137451 | Accuracy: 65.625%\n",
            "GB | Epoch 2 | Loss: 0.8935855031013489 | Accuracy: 68.75%\n",
            "GB | Epoch 2 | Loss: 1.028556227684021 | Accuracy: 59.375%\n",
            "GB | Epoch 2 | Loss: 1.0038989782333374 | Accuracy: 65.625%\n",
            "GB | Epoch 2 | Loss: 0.9045028686523438 | Accuracy: 70.3125%\n"
          ]
        },
        {
          "output_type": "stream",
          "name": "stderr",
          "text": [
            "Epoch 2:  48%|████▊     | 363/751 [00:10<00:09, 41.04batch/s, accuracy=59.375%, loss=0.919]"
          ]
        },
        {
          "output_type": "stream",
          "name": "stdout",
          "text": [
            "GB | Epoch 2 | Loss: 0.9872005581855774 | Accuracy: 65.625%\n",
            "GB | Epoch 2 | Loss: 0.9911282062530518 | Accuracy: 60.9375%\n",
            "GB | Epoch 2 | Loss: 0.8542041778564453 | Accuracy: 60.9375%\n",
            "GB | Epoch 2 | Loss: 1.1169545650482178 | Accuracy: 51.5625%\n",
            "GB | Epoch 2 | Loss: 1.004917025566101 | Accuracy: 51.5625%\n",
            "GB | Epoch 2 | Loss: 0.9344451427459717 | Accuracy: 70.3125%\n",
            "GB | Epoch 2 | Loss: 1.1269288063049316 | Accuracy: 54.6875%\n",
            "GB | Epoch 2 | Loss: 0.9400184750556946 | Accuracy: 64.0625%\n",
            "GB | Epoch 2 | Loss: 0.9191341400146484 | Accuracy: 59.375%\n"
          ]
        },
        {
          "output_type": "stream",
          "name": "stderr",
          "text": [
            "Epoch 2:  50%|████▉     | 373/751 [00:10<00:09, 41.23batch/s, accuracy=70.3125%, loss=0.913]"
          ]
        },
        {
          "output_type": "stream",
          "name": "stdout",
          "text": [
            "GB | Epoch 2 | Loss: 0.866561770439148 | Accuracy: 60.9375%\n",
            "GB | Epoch 2 | Loss: 0.998887836933136 | Accuracy: 57.8125%\n",
            "GB | Epoch 2 | Loss: 0.8937813639640808 | Accuracy: 64.0625%\n",
            "GB | Epoch 2 | Loss: 0.9056307673454285 | Accuracy: 65.625%\n",
            "GB | Epoch 2 | Loss: 0.9087927341461182 | Accuracy: 67.1875%\n",
            "GB | Epoch 2 | Loss: 0.8762972354888916 | Accuracy: 65.625%\n",
            "GB | Epoch 2 | Loss: 1.0143308639526367 | Accuracy: 70.3125%\n",
            "GB | Epoch 2 | Loss: 0.968538761138916 | Accuracy: 62.5%\n",
            "GB | Epoch 2 | Loss: 0.9125069379806519 | Accuracy: 70.3125%\n"
          ]
        },
        {
          "output_type": "stream",
          "name": "stderr",
          "text": [
            "Epoch 2:  51%|█████     | 383/751 [00:10<00:08, 41.69batch/s, accuracy=50.0%, loss=1.17]  "
          ]
        },
        {
          "output_type": "stream",
          "name": "stdout",
          "text": [
            "GB | Epoch 2 | Loss: 1.0916869640350342 | Accuracy: 62.5%\n",
            "GB | Epoch 2 | Loss: 0.8716254234313965 | Accuracy: 73.4375%\n",
            "GB | Epoch 2 | Loss: 0.9736270308494568 | Accuracy: 59.375%\n",
            "GB | Epoch 2 | Loss: 0.9410803914070129 | Accuracy: 68.75%\n",
            "GB | Epoch 2 | Loss: 1.1026625633239746 | Accuracy: 51.5625%\n",
            "GB | Epoch 2 | Loss: 0.9641050696372986 | Accuracy: 59.375%\n",
            "GB | Epoch 2 | Loss: 0.8866385221481323 | Accuracy: 71.875%\n",
            "GB | Epoch 2 | Loss: 1.0438140630722046 | Accuracy: 59.375%\n",
            "GB | Epoch 2 | Loss: 1.165824294090271 | Accuracy: 50.0%\n"
          ]
        },
        {
          "output_type": "stream",
          "name": "stderr",
          "text": [
            "Epoch 2:  52%|█████▏    | 393/751 [00:10<00:08, 42.08batch/s, accuracy=70.3125%, loss=0.8] "
          ]
        },
        {
          "output_type": "stream",
          "name": "stdout",
          "text": [
            "GB | Epoch 2 | Loss: 1.044607162475586 | Accuracy: 60.9375%\n",
            "GB | Epoch 2 | Loss: 0.8658895492553711 | Accuracy: 67.1875%\n",
            "GB | Epoch 2 | Loss: 1.0214109420776367 | Accuracy: 59.375%\n",
            "GB | Epoch 2 | Loss: 0.8254109621047974 | Accuracy: 76.5625%\n",
            "GB | Epoch 2 | Loss: 0.9211958050727844 | Accuracy: 68.75%\n",
            "GB | Epoch 2 | Loss: 0.8756349682807922 | Accuracy: 64.0625%\n",
            "GB | Epoch 2 | Loss: 0.8487673997879028 | Accuracy: 71.875%\n",
            "GB | Epoch 2 | Loss: 0.8396091461181641 | Accuracy: 70.3125%\n",
            "GB | Epoch 2 | Loss: 0.80020672082901 | Accuracy: 70.3125%\n"
          ]
        },
        {
          "output_type": "stream",
          "name": "stderr",
          "text": [
            "Epoch 2:  54%|█████▎    | 403/751 [00:11<00:08, 40.90batch/s, accuracy=64.0625%, loss=0.903]"
          ]
        },
        {
          "output_type": "stream",
          "name": "stdout",
          "text": [
            "GB | Epoch 2 | Loss: 0.8493602871894836 | Accuracy: 68.75%\n",
            "GB | Epoch 2 | Loss: 0.728926420211792 | Accuracy: 71.875%\n",
            "GB | Epoch 2 | Loss: 0.765388011932373 | Accuracy: 76.5625%\n",
            "GB | Epoch 2 | Loss: 0.9494717121124268 | Accuracy: 64.0625%\n",
            "GB | Epoch 2 | Loss: 1.1741548776626587 | Accuracy: 56.25%\n",
            "GB | Epoch 2 | Loss: 0.8546587824821472 | Accuracy: 68.75%\n",
            "GB | Epoch 2 | Loss: 1.0644769668579102 | Accuracy: 51.5625%\n",
            "GB | Epoch 2 | Loss: 0.9036130309104919 | Accuracy: 60.9375%\n",
            "GB | Epoch 2 | Loss: 0.9025844931602478 | Accuracy: 64.0625%\n"
          ]
        },
        {
          "output_type": "stream",
          "name": "stderr",
          "text": [
            "Epoch 2:  54%|█████▍    | 408/751 [00:11<00:08, 40.73batch/s, accuracy=45.3125%, loss=1.25]"
          ]
        },
        {
          "output_type": "stream",
          "name": "stdout",
          "text": [
            "GB | Epoch 2 | Loss: 0.9522609710693359 | Accuracy: 62.5%\n",
            "GB | Epoch 2 | Loss: 0.8770247101783752 | Accuracy: 64.0625%\n",
            "GB | Epoch 2 | Loss: 1.1940335035324097 | Accuracy: 53.125%\n",
            "GB | Epoch 2 | Loss: 0.9359704852104187 | Accuracy: 62.5%\n",
            "GB | Epoch 2 | Loss: 0.9193163514137268 | Accuracy: 62.5%\n",
            "GB | Epoch 2 | Loss: 0.9251379370689392 | Accuracy: 67.1875%\n",
            "GB | Epoch 2 | Loss: 0.9727217555046082 | Accuracy: 64.0625%\n",
            "GB | Epoch 2 | Loss: 1.066092848777771 | Accuracy: 59.375%\n",
            "GB | Epoch 2 | Loss: 1.2478641271591187 | Accuracy: 45.3125%\n"
          ]
        },
        {
          "output_type": "stream",
          "name": "stderr",
          "text": [
            "Epoch 2:  56%|█████▌    | 418/751 [00:11<00:08, 40.81batch/s, accuracy=60.9375%, loss=1.04]"
          ]
        },
        {
          "output_type": "stream",
          "name": "stdout",
          "text": [
            "GB | Epoch 2 | Loss: 1.0827999114990234 | Accuracy: 53.125%\n",
            "GB | Epoch 2 | Loss: 0.7746185064315796 | Accuracy: 73.4375%\n",
            "GB | Epoch 2 | Loss: 0.9875888228416443 | Accuracy: 62.5%\n",
            "GB | Epoch 2 | Loss: 0.8058592677116394 | Accuracy: 68.75%\n",
            "GB | Epoch 2 | Loss: 0.9159964323043823 | Accuracy: 68.75%\n",
            "GB | Epoch 2 | Loss: 1.003568172454834 | Accuracy: 59.375%\n",
            "GB | Epoch 2 | Loss: 0.9087993502616882 | Accuracy: 60.9375%\n",
            "GB | Epoch 2 | Loss: 1.1316347122192383 | Accuracy: 54.6875%\n",
            "GB | Epoch 2 | Loss: 1.0404685735702515 | Accuracy: 60.9375%\n"
          ]
        },
        {
          "output_type": "stream",
          "name": "stderr",
          "text": [
            "Epoch 2:  57%|█████▋    | 428/751 [00:11<00:07, 42.04batch/s, accuracy=65.625%, loss=0.999]"
          ]
        },
        {
          "output_type": "stream",
          "name": "stdout",
          "text": [
            "GB | Epoch 2 | Loss: 0.7235769033432007 | Accuracy: 73.4375%\n",
            "GB | Epoch 2 | Loss: 0.8386663794517517 | Accuracy: 71.875%\n",
            "GB | Epoch 2 | Loss: 1.091069221496582 | Accuracy: 54.6875%\n",
            "GB | Epoch 2 | Loss: 0.997726559638977 | Accuracy: 59.375%\n",
            "GB | Epoch 2 | Loss: 0.8624690175056458 | Accuracy: 68.75%\n",
            "GB | Epoch 2 | Loss: 0.8874313235282898 | Accuracy: 64.0625%\n",
            "GB | Epoch 2 | Loss: 0.9807576537132263 | Accuracy: 56.25%\n",
            "GB | Epoch 2 | Loss: 1.1358568668365479 | Accuracy: 53.125%\n",
            "GB | Epoch 2 | Loss: 0.9994707703590393 | Accuracy: 65.625%\n"
          ]
        },
        {
          "output_type": "stream",
          "name": "stderr",
          "text": [
            "Epoch 2:  58%|█████▊    | 438/751 [00:11<00:07, 41.42batch/s, accuracy=65.625%, loss=0.816]"
          ]
        },
        {
          "output_type": "stream",
          "name": "stdout",
          "text": [
            "GB | Epoch 2 | Loss: 0.8230099678039551 | Accuracy: 71.875%\n",
            "GB | Epoch 2 | Loss: 0.884800136089325 | Accuracy: 65.625%\n",
            "GB | Epoch 2 | Loss: 0.9224112033843994 | Accuracy: 65.625%\n",
            "GB | Epoch 2 | Loss: 0.8739092946052551 | Accuracy: 65.625%\n",
            "GB | Epoch 2 | Loss: 0.9478232860565186 | Accuracy: 67.1875%\n",
            "GB | Epoch 2 | Loss: 0.9862864017486572 | Accuracy: 59.375%\n",
            "GB | Epoch 2 | Loss: 0.9303572177886963 | Accuracy: 60.9375%\n",
            "GB | Epoch 2 | Loss: 0.8159247040748596 | Accuracy: 65.625%\n"
          ]
        },
        {
          "output_type": "stream",
          "name": "stderr",
          "text": [
            "Epoch 2:  59%|█████▉    | 443/751 [00:12<00:07, 40.66batch/s, accuracy=65.625%, loss=0.875] "
          ]
        },
        {
          "output_type": "stream",
          "name": "stdout",
          "text": [
            "GB | Epoch 2 | Loss: 0.8129761219024658 | Accuracy: 71.875%\n",
            "GB | Epoch 2 | Loss: 0.8416850566864014 | Accuracy: 65.625%\n",
            "GB | Epoch 2 | Loss: 0.8729032278060913 | Accuracy: 64.0625%\n",
            "GB | Epoch 2 | Loss: 0.83620285987854 | Accuracy: 75.0%\n",
            "GB | Epoch 2 | Loss: 0.8752180337905884 | Accuracy: 62.5%\n",
            "GB | Epoch 2 | Loss: 0.815241813659668 | Accuracy: 67.1875%\n",
            "GB | Epoch 2 | Loss: 0.7466960549354553 | Accuracy: 70.3125%\n",
            "GB | Epoch 2 | Loss: 0.7577248811721802 | Accuracy: 73.4375%\n",
            "GB | Epoch 2 | Loss: 0.8753857016563416 | Accuracy: 65.625%\n"
          ]
        },
        {
          "output_type": "stream",
          "name": "stderr",
          "text": [
            "Epoch 2:  60%|██████    | 453/751 [00:12<00:07, 41.05batch/s, accuracy=65.625%, loss=0.86]  "
          ]
        },
        {
          "output_type": "stream",
          "name": "stdout",
          "text": [
            "GB | Epoch 2 | Loss: 0.9207639694213867 | Accuracy: 70.3125%\n",
            "GB | Epoch 2 | Loss: 0.8630489110946655 | Accuracy: 60.9375%\n",
            "GB | Epoch 2 | Loss: 0.9467020630836487 | Accuracy: 62.5%\n",
            "GB | Epoch 2 | Loss: 0.9229860305786133 | Accuracy: 68.75%\n",
            "GB | Epoch 2 | Loss: 0.8704513311386108 | Accuracy: 67.1875%\n",
            "GB | Epoch 2 | Loss: 0.8521330952644348 | Accuracy: 68.75%\n",
            "GB | Epoch 2 | Loss: 0.9042131900787354 | Accuracy: 68.75%\n",
            "GB | Epoch 2 | Loss: 0.931136429309845 | Accuracy: 60.9375%\n",
            "GB | Epoch 2 | Loss: 0.8597174882888794 | Accuracy: 65.625%\n"
          ]
        },
        {
          "output_type": "stream",
          "name": "stderr",
          "text": [
            "Epoch 2:  62%|██████▏   | 463/751 [00:12<00:06, 42.03batch/s, accuracy=73.4375%, loss=0.762]"
          ]
        },
        {
          "output_type": "stream",
          "name": "stdout",
          "text": [
            "GB | Epoch 2 | Loss: 0.9053590893745422 | Accuracy: 60.9375%\n",
            "GB | Epoch 2 | Loss: 0.8372138142585754 | Accuracy: 71.875%\n",
            "GB | Epoch 2 | Loss: 0.8508305549621582 | Accuracy: 71.875%\n",
            "GB | Epoch 2 | Loss: 0.7533543705940247 | Accuracy: 81.25%\n",
            "GB | Epoch 2 | Loss: 0.6890897750854492 | Accuracy: 76.5625%\n",
            "GB | Epoch 2 | Loss: 0.8748575448989868 | Accuracy: 71.875%\n",
            "GB | Epoch 2 | Loss: 0.8455653190612793 | Accuracy: 67.1875%\n",
            "GB | Epoch 2 | Loss: 1.0124517679214478 | Accuracy: 60.9375%\n",
            "GB | Epoch 2 | Loss: 0.7624261379241943 | Accuracy: 73.4375%\n"
          ]
        },
        {
          "output_type": "stream",
          "name": "stderr",
          "text": [
            "Epoch 2:  63%|██████▎   | 473/751 [00:12<00:06, 41.92batch/s, accuracy=60.9375%, loss=0.983]"
          ]
        },
        {
          "output_type": "stream",
          "name": "stdout",
          "text": [
            "GB | Epoch 2 | Loss: 0.7414578199386597 | Accuracy: 78.125%\n",
            "GB | Epoch 2 | Loss: 0.9068623185157776 | Accuracy: 67.1875%\n",
            "GB | Epoch 2 | Loss: 0.7762731313705444 | Accuracy: 75.0%\n",
            "GB | Epoch 2 | Loss: 0.756740152835846 | Accuracy: 73.4375%\n",
            "GB | Epoch 2 | Loss: 0.807364821434021 | Accuracy: 71.875%\n",
            "GB | Epoch 2 | Loss: 0.8261167407035828 | Accuracy: 71.875%\n",
            "GB | Epoch 2 | Loss: 0.6836482882499695 | Accuracy: 73.4375%\n",
            "GB | Epoch 2 | Loss: 0.9429950714111328 | Accuracy: 68.75%\n",
            "GB | Epoch 2 | Loss: 0.9831792116165161 | Accuracy: 60.9375%\n"
          ]
        },
        {
          "output_type": "stream",
          "name": "stderr",
          "text": [
            "Epoch 2:  64%|██████▎   | 478/751 [00:13<00:06, 41.16batch/s, accuracy=62.5%, loss=1.02]    "
          ]
        },
        {
          "output_type": "stream",
          "name": "stdout",
          "text": [
            "GB | Epoch 2 | Loss: 0.8398942351341248 | Accuracy: 73.4375%\n",
            "GB | Epoch 2 | Loss: 0.9158926606178284 | Accuracy: 64.0625%\n",
            "GB | Epoch 2 | Loss: 0.7914646863937378 | Accuracy: 76.5625%\n",
            "GB | Epoch 2 | Loss: 0.7648173570632935 | Accuracy: 65.625%\n",
            "GB | Epoch 2 | Loss: 0.9395929574966431 | Accuracy: 62.5%\n",
            "GB | Epoch 2 | Loss: 0.9919173717498779 | Accuracy: 68.75%\n",
            "GB | Epoch 2 | Loss: 0.8807809948921204 | Accuracy: 56.25%\n",
            "GB | Epoch 2 | Loss: 0.8426064848899841 | Accuracy: 64.0625%\n"
          ]
        },
        {
          "output_type": "stream",
          "name": "stderr",
          "text": [
            "Epoch 2:  65%|██████▍   | 488/751 [00:13<00:06, 40.33batch/s, accuracy=71.875%, loss=0.702]"
          ]
        },
        {
          "output_type": "stream",
          "name": "stdout",
          "text": [
            "GB | Epoch 2 | Loss: 1.019429326057434 | Accuracy: 62.5%\n",
            "GB | Epoch 2 | Loss: 0.9389249682426453 | Accuracy: 65.625%\n",
            "GB | Epoch 2 | Loss: 0.7846171259880066 | Accuracy: 68.75%\n",
            "GB | Epoch 2 | Loss: 0.8976399898529053 | Accuracy: 64.0625%\n",
            "GB | Epoch 2 | Loss: 1.040147066116333 | Accuracy: 53.125%\n",
            "GB | Epoch 2 | Loss: 0.88350909948349 | Accuracy: 62.5%\n",
            "GB | Epoch 2 | Loss: 0.9329352974891663 | Accuracy: 62.5%\n",
            "GB | Epoch 2 | Loss: 1.0378146171569824 | Accuracy: 59.375%\n",
            "GB | Epoch 2 | Loss: 0.7016707062721252 | Accuracy: 71.875%\n"
          ]
        },
        {
          "output_type": "stream",
          "name": "stderr",
          "text": [
            "Epoch 2:  66%|██████▋   | 498/751 [00:13<00:06, 40.96batch/s, accuracy=68.75%, loss=0.863]  "
          ]
        },
        {
          "output_type": "stream",
          "name": "stdout",
          "text": [
            "GB | Epoch 2 | Loss: 0.7259009480476379 | Accuracy: 76.5625%\n",
            "GB | Epoch 2 | Loss: 1.0381981134414673 | Accuracy: 62.5%\n",
            "GB | Epoch 2 | Loss: 0.8734264373779297 | Accuracy: 65.625%\n",
            "GB | Epoch 2 | Loss: 1.0633337497711182 | Accuracy: 59.375%\n",
            "GB | Epoch 2 | Loss: 0.8220996856689453 | Accuracy: 68.75%\n",
            "GB | Epoch 2 | Loss: 0.9817968010902405 | Accuracy: 64.0625%\n",
            "GB | Epoch 2 | Loss: 0.8659292459487915 | Accuracy: 70.3125%\n",
            "GB | Epoch 2 | Loss: 0.6790249943733215 | Accuracy: 73.4375%\n",
            "GB | Epoch 2 | Loss: 0.8631902933120728 | Accuracy: 68.75%\n"
          ]
        },
        {
          "output_type": "stream",
          "name": "stderr",
          "text": [
            "Epoch 2:  68%|██████▊   | 508/751 [00:13<00:05, 41.56batch/s, accuracy=75.0%, loss=0.746]   "
          ]
        },
        {
          "output_type": "stream",
          "name": "stdout",
          "text": [
            "GB | Epoch 2 | Loss: 1.1193310022354126 | Accuracy: 56.25%\n",
            "GB | Epoch 2 | Loss: 0.9234220385551453 | Accuracy: 70.3125%\n",
            "GB | Epoch 2 | Loss: 0.6212893724441528 | Accuracy: 76.5625%\n",
            "GB | Epoch 2 | Loss: 1.0214130878448486 | Accuracy: 60.9375%\n",
            "GB | Epoch 2 | Loss: 0.793872594833374 | Accuracy: 71.875%\n",
            "GB | Epoch 2 | Loss: 0.8292407393455505 | Accuracy: 62.5%\n",
            "GB | Epoch 2 | Loss: 0.888880729675293 | Accuracy: 65.625%\n",
            "GB | Epoch 2 | Loss: 0.9015333652496338 | Accuracy: 57.8125%\n",
            "GB | Epoch 2 | Loss: 0.7464544177055359 | Accuracy: 75.0%\n"
          ]
        },
        {
          "output_type": "stream",
          "name": "stderr",
          "text": [
            "Epoch 2:  69%|██████▉   | 518/751 [00:13<00:05, 41.75batch/s, accuracy=59.375%, loss=0.914]"
          ]
        },
        {
          "output_type": "stream",
          "name": "stdout",
          "text": [
            "GB | Epoch 2 | Loss: 0.7022230625152588 | Accuracy: 68.75%\n",
            "GB | Epoch 2 | Loss: 0.7909388542175293 | Accuracy: 65.625%\n",
            "GB | Epoch 2 | Loss: 1.0089713335037231 | Accuracy: 64.0625%\n",
            "GB | Epoch 2 | Loss: 0.7811976075172424 | Accuracy: 78.125%\n",
            "GB | Epoch 2 | Loss: 0.7742029428482056 | Accuracy: 75.0%\n",
            "GB | Epoch 2 | Loss: 0.7812330722808838 | Accuracy: 67.1875%\n",
            "GB | Epoch 2 | Loss: 0.7809262275695801 | Accuracy: 73.4375%\n",
            "GB | Epoch 2 | Loss: 0.9498595595359802 | Accuracy: 60.9375%\n",
            "GB | Epoch 2 | Loss: 0.9136661291122437 | Accuracy: 59.375%\n"
          ]
        },
        {
          "output_type": "stream",
          "name": "stderr",
          "text": [
            "Epoch 2:  70%|██████▉   | 523/751 [00:14<00:05, 41.56batch/s, accuracy=67.1875%, loss=0.818]"
          ]
        },
        {
          "output_type": "stream",
          "name": "stdout",
          "text": [
            "GB | Epoch 2 | Loss: 0.6601576209068298 | Accuracy: 76.5625%\n",
            "GB | Epoch 2 | Loss: 0.8975119590759277 | Accuracy: 76.5625%\n",
            "GB | Epoch 2 | Loss: 0.7966353893280029 | Accuracy: 71.875%\n",
            "GB | Epoch 2 | Loss: 0.8718916773796082 | Accuracy: 59.375%\n",
            "GB | Epoch 2 | Loss: 0.8036296367645264 | Accuracy: 70.3125%\n",
            "GB | Epoch 2 | Loss: 0.8024164438247681 | Accuracy: 71.875%\n",
            "GB | Epoch 2 | Loss: 0.6943406462669373 | Accuracy: 75.0%\n",
            "GB | Epoch 2 | Loss: 0.8179682493209839 | Accuracy: 67.1875%\n"
          ]
        },
        {
          "output_type": "stream",
          "name": "stderr",
          "text": [
            "Epoch 2:  71%|███████   | 533/751 [00:14<00:05, 40.14batch/s, accuracy=79.6875%, loss=0.657]"
          ]
        },
        {
          "output_type": "stream",
          "name": "stdout",
          "text": [
            "GB | Epoch 2 | Loss: 0.7254500985145569 | Accuracy: 71.875%\n",
            "GB | Epoch 2 | Loss: 0.9651310443878174 | Accuracy: 64.0625%\n",
            "GB | Epoch 2 | Loss: 0.8437141180038452 | Accuracy: 65.625%\n",
            "GB | Epoch 2 | Loss: 0.868324875831604 | Accuracy: 67.1875%\n",
            "GB | Epoch 2 | Loss: 0.8459708094596863 | Accuracy: 67.1875%\n",
            "GB | Epoch 2 | Loss: 0.9198682904243469 | Accuracy: 64.0625%\n",
            "GB | Epoch 2 | Loss: 0.8883252739906311 | Accuracy: 70.3125%\n",
            "GB | Epoch 2 | Loss: 0.6567272543907166 | Accuracy: 79.6875%\n"
          ]
        },
        {
          "output_type": "stream",
          "name": "stderr",
          "text": [
            "Epoch 2:  72%|███████▏  | 538/751 [00:14<00:05, 36.97batch/s, accuracy=65.625%, loss=0.775]"
          ]
        },
        {
          "output_type": "stream",
          "name": "stdout",
          "text": [
            "GB | Epoch 2 | Loss: 0.8870645761489868 | Accuracy: 60.9375%\n",
            "GB | Epoch 2 | Loss: 0.8443190455436707 | Accuracy: 68.75%\n",
            "GB | Epoch 2 | Loss: 0.8515393733978271 | Accuracy: 68.75%\n",
            "GB | Epoch 2 | Loss: 0.7812963724136353 | Accuracy: 75.0%\n",
            "GB | Epoch 2 | Loss: 0.8145808577537537 | Accuracy: 75.0%\n",
            "GB | Epoch 2 | Loss: 0.8908083438873291 | Accuracy: 71.875%\n",
            "GB | Epoch 2 | Loss: 0.7750137448310852 | Accuracy: 65.625%\n"
          ]
        },
        {
          "output_type": "stream",
          "name": "stderr",
          "text": [
            "Epoch 2:  73%|███████▎  | 546/751 [00:14<00:05, 34.39batch/s, accuracy=71.875%, loss=0.781]"
          ]
        },
        {
          "output_type": "stream",
          "name": "stdout",
          "text": [
            "GB | Epoch 2 | Loss: 1.0635327100753784 | Accuracy: 64.0625%\n",
            "GB | Epoch 2 | Loss: 0.7152252197265625 | Accuracy: 79.6875%\n",
            "GB | Epoch 2 | Loss: 0.5892567038536072 | Accuracy: 78.125%\n",
            "GB | Epoch 2 | Loss: 0.8968558311462402 | Accuracy: 64.0625%\n",
            "GB | Epoch 2 | Loss: 0.6935969591140747 | Accuracy: 75.0%\n",
            "GB | Epoch 2 | Loss: 0.6821502447128296 | Accuracy: 78.125%\n",
            "GB | Epoch 2 | Loss: 0.7812291383743286 | Accuracy: 71.875%\n"
          ]
        },
        {
          "output_type": "stream",
          "name": "stderr",
          "text": [
            "Epoch 2:  74%|███████▍  | 554/751 [00:14<00:06, 32.65batch/s, accuracy=68.75%, loss=0.838]  "
          ]
        },
        {
          "output_type": "stream",
          "name": "stdout",
          "text": [
            "GB | Epoch 2 | Loss: 0.8391355276107788 | Accuracy: 70.3125%\n",
            "GB | Epoch 2 | Loss: 0.7986222505569458 | Accuracy: 71.875%\n",
            "GB | Epoch 2 | Loss: 0.7015423774719238 | Accuracy: 75.0%\n",
            "GB | Epoch 2 | Loss: 0.9496158957481384 | Accuracy: 57.8125%\n",
            "GB | Epoch 2 | Loss: 0.7313917279243469 | Accuracy: 76.5625%\n",
            "GB | Epoch 2 | Loss: 0.7465953230857849 | Accuracy: 64.0625%\n",
            "GB | Epoch 2 | Loss: 0.8376305103302002 | Accuracy: 68.75%\n"
          ]
        },
        {
          "output_type": "stream",
          "name": "stderr",
          "text": [
            "Epoch 2:  74%|███████▍  | 558/751 [00:15<00:06, 32.12batch/s, accuracy=71.875%, loss=0.79] "
          ]
        },
        {
          "output_type": "stream",
          "name": "stdout",
          "text": [
            "GB | Epoch 2 | Loss: 0.8118438124656677 | Accuracy: 67.1875%\n",
            "GB | Epoch 2 | Loss: 0.6296433210372925 | Accuracy: 76.5625%\n",
            "GB | Epoch 2 | Loss: 0.7653756737709045 | Accuracy: 78.125%\n",
            "GB | Epoch 2 | Loss: 0.7673875093460083 | Accuracy: 78.125%\n",
            "GB | Epoch 2 | Loss: 0.9071328043937683 | Accuracy: 65.625%\n",
            "GB | Epoch 2 | Loss: 0.7901042103767395 | Accuracy: 71.875%\n"
          ]
        },
        {
          "output_type": "stream",
          "name": "stderr",
          "text": [
            "Epoch 2:  75%|███████▌  | 566/751 [00:15<00:05, 30.96batch/s, accuracy=67.1875%, loss=0.814]"
          ]
        },
        {
          "output_type": "stream",
          "name": "stdout",
          "text": [
            "GB | Epoch 2 | Loss: 0.8086299300193787 | Accuracy: 62.5%\n",
            "GB | Epoch 2 | Loss: 0.9558405876159668 | Accuracy: 53.125%\n",
            "GB | Epoch 2 | Loss: 0.7712244391441345 | Accuracy: 73.4375%\n",
            "GB | Epoch 2 | Loss: 0.6517009735107422 | Accuracy: 76.5625%\n",
            "GB | Epoch 2 | Loss: 1.01908540725708 | Accuracy: 64.0625%\n",
            "GB | Epoch 2 | Loss: 0.7436885833740234 | Accuracy: 71.875%\n",
            "GB | Epoch 2 | Loss: 0.8138757348060608 | Accuracy: 67.1875%\n"
          ]
        },
        {
          "output_type": "stream",
          "name": "stderr",
          "text": [
            "Epoch 2:  76%|███████▋  | 574/751 [00:15<00:05, 31.27batch/s, accuracy=73.4375%, loss=0.687]"
          ]
        },
        {
          "output_type": "stream",
          "name": "stdout",
          "text": [
            "GB | Epoch 2 | Loss: 0.6960316300392151 | Accuracy: 73.4375%\n",
            "GB | Epoch 2 | Loss: 0.7334943413734436 | Accuracy: 71.875%\n",
            "GB | Epoch 2 | Loss: 0.7743979096412659 | Accuracy: 71.875%\n",
            "GB | Epoch 2 | Loss: 0.8384211659431458 | Accuracy: 70.3125%\n",
            "GB | Epoch 2 | Loss: 0.7108550667762756 | Accuracy: 70.3125%\n",
            "GB | Epoch 2 | Loss: 0.7070168852806091 | Accuracy: 70.3125%\n",
            "GB | Epoch 2 | Loss: 0.6868879795074463 | Accuracy: 73.4375%\n"
          ]
        },
        {
          "output_type": "stream",
          "name": "stderr",
          "text": [
            "Epoch 2:  77%|███████▋  | 578/751 [00:15<00:05, 30.34batch/s, accuracy=75.0%, loss=0.688]   "
          ]
        },
        {
          "output_type": "stream",
          "name": "stdout",
          "text": [
            "GB | Epoch 2 | Loss: 0.8998655080795288 | Accuracy: 65.625%\n",
            "GB | Epoch 2 | Loss: 0.6822636127471924 | Accuracy: 78.125%\n",
            "GB | Epoch 2 | Loss: 0.731796383857727 | Accuracy: 68.75%\n",
            "GB | Epoch 2 | Loss: 0.6419950127601624 | Accuracy: 78.125%\n",
            "GB | Epoch 2 | Loss: 0.7633999586105347 | Accuracy: 70.3125%\n",
            "GB | Epoch 2 | Loss: 0.6884196400642395 | Accuracy: 75.0%\n"
          ]
        },
        {
          "output_type": "stream",
          "name": "stderr",
          "text": [
            "Epoch 2:  78%|███████▊  | 586/751 [00:16<00:05, 30.05batch/s, accuracy=65.625%, loss=0.774]"
          ]
        },
        {
          "output_type": "stream",
          "name": "stdout",
          "text": [
            "GB | Epoch 2 | Loss: 0.5503708124160767 | Accuracy: 87.5%\n",
            "GB | Epoch 2 | Loss: 0.5387320518493652 | Accuracy: 84.375%\n",
            "GB | Epoch 2 | Loss: 0.8375619053840637 | Accuracy: 71.875%\n",
            "GB | Epoch 2 | Loss: 0.827063798904419 | Accuracy: 68.75%\n",
            "GB | Epoch 2 | Loss: 0.7702450156211853 | Accuracy: 70.3125%\n",
            "GB | Epoch 2 | Loss: 0.7744550704956055 | Accuracy: 65.625%\n"
          ]
        },
        {
          "output_type": "stream",
          "name": "stderr",
          "text": [
            "Epoch 2:  79%|███████▉  | 593/751 [00:16<00:05, 28.31batch/s, accuracy=71.875%, loss=0.768]"
          ]
        },
        {
          "output_type": "stream",
          "name": "stdout",
          "text": [
            "GB | Epoch 2 | Loss: 0.7231144309043884 | Accuracy: 75.0%\n",
            "GB | Epoch 2 | Loss: 0.9520179629325867 | Accuracy: 67.1875%\n",
            "GB | Epoch 2 | Loss: 0.9341697692871094 | Accuracy: 68.75%\n",
            "GB | Epoch 2 | Loss: 0.9154512882232666 | Accuracy: 62.5%\n",
            "GB | Epoch 2 | Loss: 0.6266904473304749 | Accuracy: 71.875%\n",
            "GB | Epoch 2 | Loss: 0.7680776119232178 | Accuracy: 71.875%\n"
          ]
        },
        {
          "output_type": "stream",
          "name": "stderr",
          "text": [
            "Epoch 2:  79%|███████▉  | 597/751 [00:16<00:05, 29.04batch/s, accuracy=70.3125%, loss=0.943]"
          ]
        },
        {
          "output_type": "stream",
          "name": "stdout",
          "text": [
            "GB | Epoch 2 | Loss: 0.7141659259796143 | Accuracy: 70.3125%\n",
            "GB | Epoch 2 | Loss: 0.7881870269775391 | Accuracy: 71.875%\n",
            "GB | Epoch 2 | Loss: 0.8683604598045349 | Accuracy: 60.9375%\n",
            "GB | Epoch 2 | Loss: 0.8596065640449524 | Accuracy: 73.4375%\n",
            "GB | Epoch 2 | Loss: 0.7106125950813293 | Accuracy: 71.875%\n",
            "GB | Epoch 2 | Loss: 0.7010461688041687 | Accuracy: 81.25%\n",
            "GB | Epoch 2 | Loss: 0.9432322382926941 | Accuracy: 70.3125%\n"
          ]
        },
        {
          "output_type": "stream",
          "name": "stderr",
          "text": [
            "Epoch 2:  81%|████████  | 605/751 [00:16<00:04, 30.22batch/s, accuracy=68.75%, loss=0.78] "
          ]
        },
        {
          "output_type": "stream",
          "name": "stdout",
          "text": [
            "GB | Epoch 2 | Loss: 0.6935862302780151 | Accuracy: 75.0%\n",
            "GB | Epoch 2 | Loss: 0.7228066325187683 | Accuracy: 71.875%\n",
            "GB | Epoch 2 | Loss: 0.6512224078178406 | Accuracy: 79.6875%\n",
            "GB | Epoch 2 | Loss: 0.802169919013977 | Accuracy: 71.875%\n",
            "GB | Epoch 2 | Loss: 0.6376968026161194 | Accuracy: 82.8125%\n",
            "GB | Epoch 2 | Loss: 0.8003287315368652 | Accuracy: 70.3125%\n",
            "GB | Epoch 2 | Loss: 0.7795236706733704 | Accuracy: 68.75%\n"
          ]
        },
        {
          "output_type": "stream",
          "name": "stderr",
          "text": [
            "Epoch 2:  82%|████████▏ | 613/751 [00:16<00:04, 29.73batch/s, accuracy=73.4375%, loss=0.798]"
          ]
        },
        {
          "output_type": "stream",
          "name": "stdout",
          "text": [
            "GB | Epoch 2 | Loss: 0.6747402548789978 | Accuracy: 75.0%\n",
            "GB | Epoch 2 | Loss: 0.5781064629554749 | Accuracy: 81.25%\n",
            "GB | Epoch 2 | Loss: 0.6705381274223328 | Accuracy: 76.5625%\n",
            "GB | Epoch 2 | Loss: 0.8432479500770569 | Accuracy: 62.5%\n",
            "GB | Epoch 2 | Loss: 0.8144611120223999 | Accuracy: 70.3125%\n",
            "GB | Epoch 2 | Loss: 0.797549843788147 | Accuracy: 73.4375%\n"
          ]
        },
        {
          "output_type": "stream",
          "name": "stderr",
          "text": [
            "Epoch 2:  82%|████████▏ | 619/751 [00:17<00:04, 27.85batch/s, accuracy=65.625%, loss=0.789]"
          ]
        },
        {
          "output_type": "stream",
          "name": "stdout",
          "text": [
            "GB | Epoch 2 | Loss: 0.6017581820487976 | Accuracy: 84.375%\n",
            "GB | Epoch 2 | Loss: 0.8393864035606384 | Accuracy: 67.1875%\n",
            "GB | Epoch 2 | Loss: 0.6351659297943115 | Accuracy: 78.125%\n",
            "GB | Epoch 2 | Loss: 0.806998610496521 | Accuracy: 65.625%\n",
            "GB | Epoch 2 | Loss: 0.6514557600021362 | Accuracy: 71.875%\n",
            "GB | Epoch 2 | Loss: 0.7891647815704346 | Accuracy: 65.625%\n"
          ]
        },
        {
          "output_type": "stream",
          "name": "stderr",
          "text": [
            "Epoch 2:  83%|████████▎ | 625/751 [00:17<00:04, 27.68batch/s, accuracy=76.5625%, loss=0.733]"
          ]
        },
        {
          "output_type": "stream",
          "name": "stdout",
          "text": [
            "GB | Epoch 2 | Loss: 0.7893353700637817 | Accuracy: 70.3125%\n",
            "GB | Epoch 2 | Loss: 0.911201536655426 | Accuracy: 62.5%\n",
            "GB | Epoch 2 | Loss: 0.7000172138214111 | Accuracy: 71.875%\n",
            "GB | Epoch 2 | Loss: 0.6058404445648193 | Accuracy: 78.125%\n",
            "GB | Epoch 2 | Loss: 0.6259167194366455 | Accuracy: 78.125%\n",
            "GB | Epoch 2 | Loss: 0.7333624958992004 | Accuracy: 76.5625%\n"
          ]
        },
        {
          "output_type": "stream",
          "name": "stderr",
          "text": [
            "Epoch 2:  84%|████████▍ | 631/751 [00:17<00:04, 27.30batch/s, accuracy=71.875%, loss=0.708]"
          ]
        },
        {
          "output_type": "stream",
          "name": "stdout",
          "text": [
            "GB | Epoch 2 | Loss: 0.6556403040885925 | Accuracy: 76.5625%\n",
            "GB | Epoch 2 | Loss: 0.6987863183021545 | Accuracy: 76.5625%\n",
            "GB | Epoch 2 | Loss: 0.7338208556175232 | Accuracy: 73.4375%\n",
            "GB | Epoch 2 | Loss: 0.6301489472389221 | Accuracy: 76.5625%\n",
            "GB | Epoch 2 | Loss: 0.6426377892494202 | Accuracy: 82.8125%\n",
            "GB | Epoch 2 | Loss: 0.7079302668571472 | Accuracy: 71.875%\n"
          ]
        },
        {
          "output_type": "stream",
          "name": "stderr",
          "text": [
            "Epoch 2:  85%|████████▍ | 638/751 [00:17<00:03, 29.86batch/s, accuracy=75.0%, loss=0.651]"
          ]
        },
        {
          "output_type": "stream",
          "name": "stdout",
          "text": [
            "GB | Epoch 2 | Loss: 0.7468569874763489 | Accuracy: 73.4375%\n",
            "GB | Epoch 2 | Loss: 0.7111724019050598 | Accuracy: 71.875%\n",
            "GB | Epoch 2 | Loss: 0.7773553729057312 | Accuracy: 70.3125%\n",
            "GB | Epoch 2 | Loss: 0.6640666127204895 | Accuracy: 76.5625%\n",
            "GB | Epoch 2 | Loss: 0.6843845248222351 | Accuracy: 78.125%\n",
            "GB | Epoch 2 | Loss: 0.6772810816764832 | Accuracy: 75.0%\n",
            "GB | Epoch 2 | Loss: 0.6510850787162781 | Accuracy: 75.0%\n"
          ]
        },
        {
          "output_type": "stream",
          "name": "stderr",
          "text": [
            "Epoch 2:  85%|████████▌ | 642/751 [00:18<00:03, 30.61batch/s, accuracy=79.6875%, loss=0.617]"
          ]
        },
        {
          "output_type": "stream",
          "name": "stdout",
          "text": [
            "GB | Epoch 2 | Loss: 0.5881361365318298 | Accuracy: 79.6875%\n",
            "GB | Epoch 2 | Loss: 0.569536566734314 | Accuracy: 79.6875%\n",
            "GB | Epoch 2 | Loss: 0.5639837980270386 | Accuracy: 84.375%\n",
            "GB | Epoch 2 | Loss: 0.6960740685462952 | Accuracy: 79.6875%\n",
            "GB | Epoch 2 | Loss: 0.7414018511772156 | Accuracy: 65.625%\n",
            "GB | Epoch 2 | Loss: 0.5781664848327637 | Accuracy: 78.125%\n",
            "GB | Epoch 2 | Loss: 0.6166897416114807 | Accuracy: 79.6875%\n"
          ]
        },
        {
          "output_type": "stream",
          "name": "stderr",
          "text": [
            "Epoch 2:  87%|████████▋ | 650/751 [00:18<00:03, 30.26batch/s, accuracy=79.6875%, loss=0.698]"
          ]
        },
        {
          "output_type": "stream",
          "name": "stdout",
          "text": [
            "GB | Epoch 2 | Loss: 0.8504351377487183 | Accuracy: 71.875%\n",
            "GB | Epoch 2 | Loss: 0.6130752563476562 | Accuracy: 75.0%\n",
            "GB | Epoch 2 | Loss: 0.6762505769729614 | Accuracy: 84.375%\n",
            "GB | Epoch 2 | Loss: 0.6632758975028992 | Accuracy: 78.125%\n",
            "GB | Epoch 2 | Loss: 0.6357480883598328 | Accuracy: 81.25%\n",
            "GB | Epoch 2 | Loss: 0.6980342268943787 | Accuracy: 79.6875%\n"
          ]
        },
        {
          "output_type": "stream",
          "name": "stderr",
          "text": [
            "Epoch 2:  88%|████████▊ | 658/751 [00:18<00:02, 32.91batch/s, accuracy=73.4375%, loss=0.648]"
          ]
        },
        {
          "output_type": "stream",
          "name": "stdout",
          "text": [
            "GB | Epoch 2 | Loss: 0.7941480278968811 | Accuracy: 75.0%\n",
            "GB | Epoch 2 | Loss: 0.69512540102005 | Accuracy: 81.25%\n",
            "GB | Epoch 2 | Loss: 0.8000988364219666 | Accuracy: 70.3125%\n",
            "GB | Epoch 2 | Loss: 0.7836360931396484 | Accuracy: 68.75%\n",
            "GB | Epoch 2 | Loss: 0.7469010353088379 | Accuracy: 75.0%\n",
            "GB | Epoch 2 | Loss: 0.6549510359764099 | Accuracy: 73.4375%\n",
            "GB | Epoch 2 | Loss: 0.8684690594673157 | Accuracy: 67.1875%\n",
            "GB | Epoch 2 | Loss: 0.6475651264190674 | Accuracy: 73.4375%\n"
          ]
        },
        {
          "output_type": "stream",
          "name": "stderr",
          "text": [
            "Epoch 2:  89%|████████▉ | 667/751 [00:18<00:02, 36.62batch/s, accuracy=79.6875%, loss=0.623]"
          ]
        },
        {
          "output_type": "stream",
          "name": "stdout",
          "text": [
            "GB | Epoch 2 | Loss: 0.8464222550392151 | Accuracy: 70.3125%\n",
            "GB | Epoch 2 | Loss: 0.7601431012153625 | Accuracy: 71.875%\n",
            "GB | Epoch 2 | Loss: 0.7153852581977844 | Accuracy: 65.625%\n",
            "GB | Epoch 2 | Loss: 0.7348740100860596 | Accuracy: 73.4375%\n",
            "GB | Epoch 2 | Loss: 0.6293219923973083 | Accuracy: 76.5625%\n",
            "GB | Epoch 2 | Loss: 0.7626506686210632 | Accuracy: 76.5625%\n",
            "GB | Epoch 2 | Loss: 0.7412160634994507 | Accuracy: 68.75%\n",
            "GB | Epoch 2 | Loss: 0.7460178732872009 | Accuracy: 68.75%\n",
            "GB | Epoch 2 | Loss: 0.6232883334159851 | Accuracy: 79.6875%\n"
          ]
        },
        {
          "output_type": "stream",
          "name": "stderr",
          "text": [
            "Epoch 2:  90%|█████████ | 676/751 [00:18<00:01, 39.01batch/s, accuracy=60.9375%, loss=0.877]"
          ]
        },
        {
          "output_type": "stream",
          "name": "stdout",
          "text": [
            "GB | Epoch 2 | Loss: 0.7160615921020508 | Accuracy: 76.5625%\n",
            "GB | Epoch 2 | Loss: 0.7886739373207092 | Accuracy: 68.75%\n",
            "GB | Epoch 2 | Loss: 0.6039585471153259 | Accuracy: 75.0%\n",
            "GB | Epoch 2 | Loss: 0.6846311092376709 | Accuracy: 75.0%\n",
            "GB | Epoch 2 | Loss: 0.5563985109329224 | Accuracy: 81.25%\n",
            "GB | Epoch 2 | Loss: 0.9448331594467163 | Accuracy: 68.75%\n",
            "GB | Epoch 2 | Loss: 0.5490528345108032 | Accuracy: 82.8125%\n",
            "GB | Epoch 2 | Loss: 0.6658130884170532 | Accuracy: 76.5625%\n",
            "GB | Epoch 2 | Loss: 0.876889705657959 | Accuracy: 60.9375%\n"
          ]
        },
        {
          "output_type": "stream",
          "name": "stderr",
          "text": [
            "Epoch 2:  91%|█████████ | 685/751 [00:19<00:01, 40.30batch/s, accuracy=71.875%, loss=0.727] "
          ]
        },
        {
          "output_type": "stream",
          "name": "stdout",
          "text": [
            "GB | Epoch 2 | Loss: 0.9066500663757324 | Accuracy: 67.1875%\n",
            "GB | Epoch 2 | Loss: 0.60944664478302 | Accuracy: 81.25%\n",
            "GB | Epoch 2 | Loss: 0.9009615778923035 | Accuracy: 60.9375%\n",
            "GB | Epoch 2 | Loss: 0.6330296397209167 | Accuracy: 81.25%\n",
            "GB | Epoch 2 | Loss: 0.6842922568321228 | Accuracy: 75.0%\n",
            "GB | Epoch 2 | Loss: 0.6562175154685974 | Accuracy: 68.75%\n",
            "GB | Epoch 2 | Loss: 0.6427509188652039 | Accuracy: 75.0%\n",
            "GB | Epoch 2 | Loss: 0.6733256578445435 | Accuracy: 76.5625%\n",
            "GB | Epoch 2 | Loss: 0.7266137599945068 | Accuracy: 71.875%\n"
          ]
        },
        {
          "output_type": "stream",
          "name": "stderr",
          "text": [
            "Epoch 2:  93%|█████████▎| 695/751 [00:19<00:01, 40.75batch/s, accuracy=62.5%, loss=0.786]"
          ]
        },
        {
          "output_type": "stream",
          "name": "stdout",
          "text": [
            "GB | Epoch 2 | Loss: 0.6777817606925964 | Accuracy: 76.5625%\n",
            "GB | Epoch 2 | Loss: 0.6964128017425537 | Accuracy: 78.125%\n",
            "GB | Epoch 2 | Loss: 0.5949283242225647 | Accuracy: 84.375%\n",
            "GB | Epoch 2 | Loss: 0.6302748918533325 | Accuracy: 79.6875%\n",
            "GB | Epoch 2 | Loss: 0.7051337361335754 | Accuracy: 73.4375%\n",
            "GB | Epoch 2 | Loss: 0.7343776822090149 | Accuracy: 68.75%\n",
            "GB | Epoch 2 | Loss: 0.6402469873428345 | Accuracy: 79.6875%\n",
            "GB | Epoch 2 | Loss: 0.7900776863098145 | Accuracy: 68.75%\n",
            "GB | Epoch 2 | Loss: 0.7864367365837097 | Accuracy: 62.5%\n"
          ]
        },
        {
          "output_type": "stream",
          "name": "stderr",
          "text": [
            "Epoch 2:  93%|█████████▎| 700/751 [00:19<00:01, 40.59batch/s, accuracy=73.4375%, loss=0.7]  "
          ]
        },
        {
          "output_type": "stream",
          "name": "stdout",
          "text": [
            "GB | Epoch 2 | Loss: 0.5721913576126099 | Accuracy: 78.125%\n",
            "GB | Epoch 2 | Loss: 0.6750724911689758 | Accuracy: 81.25%\n",
            "GB | Epoch 2 | Loss: 0.6684598922729492 | Accuracy: 79.6875%\n",
            "GB | Epoch 2 | Loss: 0.6681306958198547 | Accuracy: 71.875%\n",
            "GB | Epoch 2 | Loss: 0.6818632483482361 | Accuracy: 75.0%\n",
            "GB | Epoch 2 | Loss: 0.5917990207672119 | Accuracy: 79.6875%\n",
            "GB | Epoch 2 | Loss: 0.7668625712394714 | Accuracy: 73.4375%\n",
            "GB | Epoch 2 | Loss: 0.7001698017120361 | Accuracy: 73.4375%\n"
          ]
        },
        {
          "output_type": "stream",
          "name": "stderr",
          "text": [
            "Epoch 2:  95%|█████████▍| 710/751 [00:19<00:01, 39.85batch/s, accuracy=78.125%, loss=0.587] "
          ]
        },
        {
          "output_type": "stream",
          "name": "stdout",
          "text": [
            "GB | Epoch 2 | Loss: 0.741135835647583 | Accuracy: 73.4375%\n",
            "GB | Epoch 2 | Loss: 0.5357781052589417 | Accuracy: 82.8125%\n",
            "GB | Epoch 2 | Loss: 0.5581822991371155 | Accuracy: 81.25%\n",
            "GB | Epoch 2 | Loss: 0.6040722131729126 | Accuracy: 73.4375%\n",
            "GB | Epoch 2 | Loss: 0.8349425196647644 | Accuracy: 76.5625%\n",
            "GB | Epoch 2 | Loss: 0.6814101934432983 | Accuracy: 76.5625%\n",
            "GB | Epoch 2 | Loss: 0.746658444404602 | Accuracy: 76.5625%\n",
            "GB | Epoch 2 | Loss: 0.6208847761154175 | Accuracy: 76.5625%\n",
            "GB | Epoch 2 | Loss: 0.5866625308990479 | Accuracy: 78.125%\n"
          ]
        },
        {
          "output_type": "stream",
          "name": "stderr",
          "text": [
            "Epoch 2:  96%|█████████▌| 720/751 [00:19<00:00, 40.76batch/s, accuracy=75.0%, loss=0.623]   "
          ]
        },
        {
          "output_type": "stream",
          "name": "stdout",
          "text": [
            "GB | Epoch 2 | Loss: 0.6840727925300598 | Accuracy: 70.3125%\n",
            "GB | Epoch 2 | Loss: 0.6790270805358887 | Accuracy: 70.3125%\n",
            "GB | Epoch 2 | Loss: 0.6824899315834045 | Accuracy: 71.875%\n",
            "GB | Epoch 2 | Loss: 0.7862679362297058 | Accuracy: 70.3125%\n",
            "GB | Epoch 2 | Loss: 0.5212802290916443 | Accuracy: 79.6875%\n",
            "GB | Epoch 2 | Loss: 0.7416912913322449 | Accuracy: 71.875%\n",
            "GB | Epoch 2 | Loss: 0.5547603368759155 | Accuracy: 82.8125%\n",
            "GB | Epoch 2 | Loss: 0.8138757944107056 | Accuracy: 70.3125%\n",
            "GB | Epoch 2 | Loss: 0.623401403427124 | Accuracy: 75.0%\n"
          ]
        },
        {
          "output_type": "stream",
          "name": "stderr",
          "text": [
            "Epoch 2:  97%|█████████▋| 730/751 [00:20<00:00, 40.22batch/s, accuracy=70.3125%, loss=0.686]"
          ]
        },
        {
          "output_type": "stream",
          "name": "stdout",
          "text": [
            "GB | Epoch 2 | Loss: 0.6115807294845581 | Accuracy: 76.5625%\n",
            "GB | Epoch 2 | Loss: 0.509942352771759 | Accuracy: 84.375%\n",
            "GB | Epoch 2 | Loss: 0.8450989723205566 | Accuracy: 64.0625%\n",
            "GB | Epoch 2 | Loss: 0.6254993677139282 | Accuracy: 82.8125%\n",
            "GB | Epoch 2 | Loss: 0.7453705072402954 | Accuracy: 81.25%\n",
            "GB | Epoch 2 | Loss: 0.8051933646202087 | Accuracy: 71.875%\n",
            "GB | Epoch 2 | Loss: 0.6094534397125244 | Accuracy: 79.6875%\n",
            "GB | Epoch 2 | Loss: 0.7126590609550476 | Accuracy: 65.625%\n",
            "GB | Epoch 2 | Loss: 0.686478853225708 | Accuracy: 70.3125%\n"
          ]
        },
        {
          "output_type": "stream",
          "name": "stderr",
          "text": [
            "Epoch 2:  98%|█████████▊| 735/751 [00:20<00:00, 40.13batch/s, accuracy=81.25%, loss=0.535]  "
          ]
        },
        {
          "output_type": "stream",
          "name": "stdout",
          "text": [
            "GB | Epoch 2 | Loss: 0.42850562930107117 | Accuracy: 90.625%\n",
            "GB | Epoch 2 | Loss: 0.6489872932434082 | Accuracy: 76.5625%\n",
            "GB | Epoch 2 | Loss: 0.4948069751262665 | Accuracy: 84.375%\n",
            "GB | Epoch 2 | Loss: 0.5686502456665039 | Accuracy: 82.8125%\n",
            "GB | Epoch 2 | Loss: 0.6508722305297852 | Accuracy: 79.6875%\n",
            "GB | Epoch 2 | Loss: 0.654626727104187 | Accuracy: 82.8125%\n",
            "GB | Epoch 2 | Loss: 0.5414255857467651 | Accuracy: 85.9375%\n",
            "GB | Epoch 2 | Loss: 0.6558856964111328 | Accuracy: 79.6875%\n",
            "GB | Epoch 2 | Loss: 0.534850001335144 | Accuracy: 81.25%\n"
          ]
        },
        {
          "output_type": "stream",
          "name": "stderr",
          "text": [
            "Epoch 2:  99%|█████████▉| 745/751 [00:20<00:00, 39.65batch/s, accuracy=78.125%, loss=0.606]"
          ]
        },
        {
          "output_type": "stream",
          "name": "stdout",
          "text": [
            "GB | Epoch 2 | Loss: 0.6150205731391907 | Accuracy: 71.875%\n",
            "GB | Epoch 2 | Loss: 0.5506135821342468 | Accuracy: 79.6875%\n",
            "GB | Epoch 2 | Loss: 0.6198225021362305 | Accuracy: 85.9375%\n",
            "GB | Epoch 2 | Loss: 0.6942224502563477 | Accuracy: 71.875%\n",
            "GB | Epoch 2 | Loss: 0.7451260685920715 | Accuracy: 71.875%\n",
            "GB | Epoch 2 | Loss: 0.4693032205104828 | Accuracy: 85.9375%\n",
            "GB | Epoch 2 | Loss: 0.5278624296188354 | Accuracy: 78.125%\n",
            "GB | Epoch 2 | Loss: 0.6433194875717163 | Accuracy: 71.875%\n",
            "GB | Epoch 2 | Loss: 0.606299877166748 | Accuracy: 78.125%\n"
          ]
        },
        {
          "output_type": "stream",
          "name": "stderr",
          "text": [
            "Epoch 2: 100%|██████████| 751/751 [00:20<00:00, 36.06batch/s, accuracy=75.0%, loss=0.627]\n"
          ]
        },
        {
          "output_type": "stream",
          "name": "stdout",
          "text": [
            "GB | Epoch 2 | Loss: 0.6357420682907104 | Accuracy: 71.875%\n",
            "GB | Epoch 2 | Loss: 0.5638028979301453 | Accuracy: 79.6875%\n",
            "GB | Epoch 2 | Loss: 0.6273007988929749 | Accuracy: 75.0%\n"
          ]
        },
        {
          "output_type": "stream",
          "name": "stderr",
          "text": [
            "Epoch 3:   1%|          | 5/751 [00:00<00:44, 16.91batch/s, accuracy=75.0%, loss=0.741]  "
          ]
        },
        {
          "output_type": "stream",
          "name": "stdout",
          "text": [
            "GB | Epoch 3 | Loss: 1.802304744720459 | Accuracy: 32.8125%\n",
            "GB | Epoch 3 | Loss: 0.750931978225708 | Accuracy: 73.4375%\n",
            "GB | Epoch 3 | Loss: 0.6964616775512695 | Accuracy: 78.125%\n",
            "GB | Epoch 3 | Loss: 0.6625641584396362 | Accuracy: 76.5625%\n",
            "GB | Epoch 3 | Loss: 0.524346649646759 | Accuracy: 81.25%\n",
            "GB | Epoch 3 | Loss: 0.7930217385292053 | Accuracy: 67.1875%\n",
            "GB | Epoch 3 | Loss: 0.7726657390594482 | Accuracy: 71.875%\n",
            "GB | Epoch 3 | Loss: 0.7413288354873657 | Accuracy: 75.0%\n"
          ]
        },
        {
          "output_type": "stream",
          "name": "stderr",
          "text": [
            "Epoch 3:   2%|▏         | 13/751 [00:00<00:25, 29.03batch/s, accuracy=70.3125%, loss=0.838]"
          ]
        },
        {
          "output_type": "stream",
          "name": "stdout",
          "text": [
            "GB | Epoch 3 | Loss: 0.5276958346366882 | Accuracy: 82.8125%\n",
            "GB | Epoch 3 | Loss: 0.7021133303642273 | Accuracy: 78.125%\n",
            "GB | Epoch 3 | Loss: 0.870811402797699 | Accuracy: 64.0625%\n",
            "GB | Epoch 3 | Loss: 0.795889675617218 | Accuracy: 75.0%\n",
            "GB | Epoch 3 | Loss: 0.7607579231262207 | Accuracy: 71.875%\n",
            "GB | Epoch 3 | Loss: 0.5208908319473267 | Accuracy: 84.375%\n",
            "GB | Epoch 3 | Loss: 0.7429225444793701 | Accuracy: 70.3125%\n",
            "GB | Epoch 3 | Loss: 0.8377397656440735 | Accuracy: 70.3125%\n"
          ]
        },
        {
          "output_type": "stream",
          "name": "stderr",
          "text": [
            "Epoch 3:   3%|▎         | 21/751 [00:00<00:22, 32.29batch/s, accuracy=87.5%, loss=0.482]   "
          ]
        },
        {
          "output_type": "stream",
          "name": "stdout",
          "text": [
            "GB | Epoch 3 | Loss: 0.46710699796676636 | Accuracy: 85.9375%\n",
            "GB | Epoch 3 | Loss: 0.6942273378372192 | Accuracy: 73.4375%\n",
            "GB | Epoch 3 | Loss: 0.704128086566925 | Accuracy: 75.0%\n",
            "GB | Epoch 3 | Loss: 0.5906626582145691 | Accuracy: 79.6875%\n",
            "GB | Epoch 3 | Loss: 0.7738772034645081 | Accuracy: 70.3125%\n",
            "GB | Epoch 3 | Loss: 0.5658726692199707 | Accuracy: 79.6875%\n",
            "GB | Epoch 3 | Loss: 0.482123464345932 | Accuracy: 87.5%\n"
          ]
        },
        {
          "output_type": "stream",
          "name": "stderr",
          "text": [
            "Epoch 3:   4%|▍         | 29/751 [00:01<00:20, 35.26batch/s, accuracy=68.75%, loss=0.772]  "
          ]
        },
        {
          "output_type": "stream",
          "name": "stdout",
          "text": [
            "GB | Epoch 3 | Loss: 0.6407939791679382 | Accuracy: 81.25%\n",
            "GB | Epoch 3 | Loss: 0.7132784724235535 | Accuracy: 68.75%\n",
            "GB | Epoch 3 | Loss: 0.8008013963699341 | Accuracy: 68.75%\n",
            "GB | Epoch 3 | Loss: 0.6335983872413635 | Accuracy: 78.125%\n",
            "GB | Epoch 3 | Loss: 0.545238196849823 | Accuracy: 84.375%\n",
            "GB | Epoch 3 | Loss: 0.762616753578186 | Accuracy: 73.4375%\n",
            "GB | Epoch 3 | Loss: 0.46678903698921204 | Accuracy: 82.8125%\n",
            "GB | Epoch 3 | Loss: 0.6878494620323181 | Accuracy: 79.6875%\n",
            "GB | Epoch 3 | Loss: 0.7721701860427856 | Accuracy: 68.75%\n"
          ]
        },
        {
          "output_type": "stream",
          "name": "stderr",
          "text": [
            "Epoch 3:   5%|▍         | 37/751 [00:01<00:19, 36.95batch/s, accuracy=79.6875%, loss=0.61] "
          ]
        },
        {
          "output_type": "stream",
          "name": "stdout",
          "text": [
            "GB | Epoch 3 | Loss: 0.6196557879447937 | Accuracy: 75.0%\n",
            "GB | Epoch 3 | Loss: 0.5509234070777893 | Accuracy: 82.8125%\n",
            "GB | Epoch 3 | Loss: 0.6885576248168945 | Accuracy: 68.75%\n",
            "GB | Epoch 3 | Loss: 0.5582041144371033 | Accuracy: 79.6875%\n",
            "GB | Epoch 3 | Loss: 0.6656920909881592 | Accuracy: 76.5625%\n",
            "GB | Epoch 3 | Loss: 0.5361118316650391 | Accuracy: 82.8125%\n",
            "GB | Epoch 3 | Loss: 0.45221757888793945 | Accuracy: 84.375%\n",
            "GB | Epoch 3 | Loss: 0.5143150091171265 | Accuracy: 82.8125%\n"
          ]
        },
        {
          "output_type": "stream",
          "name": "stderr",
          "text": [
            "Epoch 3:   6%|▌         | 46/751 [00:01<00:18, 37.55batch/s, accuracy=73.4375%, loss=0.625]"
          ]
        },
        {
          "output_type": "stream",
          "name": "stdout",
          "text": [
            "GB | Epoch 3 | Loss: 0.6103633642196655 | Accuracy: 79.6875%\n",
            "GB | Epoch 3 | Loss: 0.7894850373268127 | Accuracy: 62.5%\n",
            "GB | Epoch 3 | Loss: 0.5991021394729614 | Accuracy: 81.25%\n",
            "GB | Epoch 3 | Loss: 0.6041389107704163 | Accuracy: 75.0%\n",
            "GB | Epoch 3 | Loss: 0.6405398845672607 | Accuracy: 76.5625%\n",
            "GB | Epoch 3 | Loss: 0.6312841773033142 | Accuracy: 76.5625%\n",
            "GB | Epoch 3 | Loss: 0.5713896155357361 | Accuracy: 79.6875%\n",
            "GB | Epoch 3 | Loss: 0.625043511390686 | Accuracy: 73.4375%\n"
          ]
        },
        {
          "output_type": "stream",
          "name": "stderr",
          "text": [
            "Epoch 3:   7%|▋         | 54/751 [00:01<00:18, 37.54batch/s, accuracy=73.4375%, loss=0.641]"
          ]
        },
        {
          "output_type": "stream",
          "name": "stdout",
          "text": [
            "GB | Epoch 3 | Loss: 0.6559030413627625 | Accuracy: 73.4375%\n",
            "GB | Epoch 3 | Loss: 0.5616622567176819 | Accuracy: 85.9375%\n",
            "GB | Epoch 3 | Loss: 0.6101933717727661 | Accuracy: 84.375%\n",
            "GB | Epoch 3 | Loss: 0.5440020561218262 | Accuracy: 82.8125%\n",
            "GB | Epoch 3 | Loss: 0.5913210511207581 | Accuracy: 70.3125%\n",
            "GB | Epoch 3 | Loss: 0.609388530254364 | Accuracy: 75.0%\n",
            "GB | Epoch 3 | Loss: 0.4681139886379242 | Accuracy: 78.125%\n",
            "GB | Epoch 3 | Loss: 0.6408376097679138 | Accuracy: 73.4375%\n"
          ]
        },
        {
          "output_type": "stream",
          "name": "stderr",
          "text": [
            "Epoch 3:   8%|▊         | 62/751 [00:01<00:18, 36.60batch/s, accuracy=73.4375%, loss=0.736]"
          ]
        },
        {
          "output_type": "stream",
          "name": "stdout",
          "text": [
            "GB | Epoch 3 | Loss: 0.6609890460968018 | Accuracy: 76.5625%\n",
            "GB | Epoch 3 | Loss: 0.4711015522480011 | Accuracy: 84.375%\n",
            "GB | Epoch 3 | Loss: 0.5698114633560181 | Accuracy: 81.25%\n",
            "GB | Epoch 3 | Loss: 0.7332566976547241 | Accuracy: 73.4375%\n",
            "GB | Epoch 3 | Loss: 0.6593136787414551 | Accuracy: 75.0%\n",
            "GB | Epoch 3 | Loss: 0.3960306942462921 | Accuracy: 85.9375%\n",
            "GB | Epoch 3 | Loss: 0.4572307765483856 | Accuracy: 90.625%\n",
            "GB | Epoch 3 | Loss: 0.7363994121551514 | Accuracy: 73.4375%\n"
          ]
        },
        {
          "output_type": "stream",
          "name": "stderr",
          "text": [
            "Epoch 3:  10%|▉         | 72/751 [00:02<00:17, 37.95batch/s, accuracy=81.25%, loss=0.579]"
          ]
        },
        {
          "output_type": "stream",
          "name": "stdout",
          "text": [
            "GB | Epoch 3 | Loss: 0.8401963114738464 | Accuracy: 68.75%\n",
            "GB | Epoch 3 | Loss: 0.6447047591209412 | Accuracy: 71.875%\n",
            "GB | Epoch 3 | Loss: 0.7004657983779907 | Accuracy: 68.75%\n",
            "GB | Epoch 3 | Loss: 0.5096844434738159 | Accuracy: 78.125%\n",
            "GB | Epoch 3 | Loss: 0.6103789806365967 | Accuracy: 78.125%\n",
            "GB | Epoch 3 | Loss: 0.6327215433120728 | Accuracy: 75.0%\n",
            "GB | Epoch 3 | Loss: 0.6229416131973267 | Accuracy: 84.375%\n",
            "GB | Epoch 3 | Loss: 0.578552782535553 | Accuracy: 81.25%\n"
          ]
        },
        {
          "output_type": "stream",
          "name": "stderr",
          "text": [
            "Epoch 3:  10%|█         | 76/751 [00:02<00:18, 35.70batch/s, accuracy=82.8125%, loss=0.567]"
          ]
        },
        {
          "output_type": "stream",
          "name": "stdout",
          "text": [
            "GB | Epoch 3 | Loss: 0.5144597887992859 | Accuracy: 87.5%\n",
            "GB | Epoch 3 | Loss: 0.4790477454662323 | Accuracy: 87.5%\n",
            "GB | Epoch 3 | Loss: 0.5117807984352112 | Accuracy: 85.9375%\n",
            "GB | Epoch 3 | Loss: 0.5698904991149902 | Accuracy: 82.8125%\n",
            "GB | Epoch 3 | Loss: 0.5622600317001343 | Accuracy: 78.125%\n",
            "GB | Epoch 3 | Loss: 0.5667123198509216 | Accuracy: 82.8125%\n"
          ]
        },
        {
          "output_type": "stream",
          "name": "stderr",
          "text": [
            "Epoch 3:  11%|█         | 84/751 [00:02<00:19, 33.36batch/s, accuracy=78.125%, loss=0.649] "
          ]
        },
        {
          "output_type": "stream",
          "name": "stdout",
          "text": [
            "GB | Epoch 3 | Loss: 0.5468251705169678 | Accuracy: 81.25%\n",
            "GB | Epoch 3 | Loss: 0.4449924826622009 | Accuracy: 79.6875%\n",
            "GB | Epoch 3 | Loss: 0.46634992957115173 | Accuracy: 92.1875%\n",
            "GB | Epoch 3 | Loss: 0.4367433190345764 | Accuracy: 84.375%\n",
            "GB | Epoch 3 | Loss: 0.6579540371894836 | Accuracy: 78.125%\n",
            "GB | Epoch 3 | Loss: 0.6311578154563904 | Accuracy: 73.4375%\n",
            "GB | Epoch 3 | Loss: 0.6487644910812378 | Accuracy: 78.125%\n"
          ]
        },
        {
          "output_type": "stream",
          "name": "stderr",
          "text": [
            "Epoch 3:  12%|█▏        | 92/751 [00:02<00:19, 34.45batch/s, accuracy=81.25%, loss=0.477]  "
          ]
        },
        {
          "output_type": "stream",
          "name": "stdout",
          "text": [
            "GB | Epoch 3 | Loss: 0.48796364665031433 | Accuracy: 84.375%\n",
            "GB | Epoch 3 | Loss: 0.5306150317192078 | Accuracy: 81.25%\n",
            "GB | Epoch 3 | Loss: 0.7152571082115173 | Accuracy: 79.6875%\n",
            "GB | Epoch 3 | Loss: 0.52681565284729 | Accuracy: 78.125%\n",
            "GB | Epoch 3 | Loss: 0.6593340039253235 | Accuracy: 71.875%\n",
            "GB | Epoch 3 | Loss: 0.6693999171257019 | Accuracy: 75.0%\n",
            "GB | Epoch 3 | Loss: 0.6878253221511841 | Accuracy: 79.6875%\n",
            "GB | Epoch 3 | Loss: 0.4767697751522064 | Accuracy: 81.25%\n"
          ]
        },
        {
          "output_type": "stream",
          "name": "stderr",
          "text": [
            "Epoch 3:  13%|█▎        | 101/751 [00:02<00:17, 36.63batch/s, accuracy=78.125%, loss=0.593]"
          ]
        },
        {
          "output_type": "stream",
          "name": "stdout",
          "text": [
            "GB | Epoch 3 | Loss: 0.6225897073745728 | Accuracy: 79.6875%\n",
            "GB | Epoch 3 | Loss: 0.610657274723053 | Accuracy: 78.125%\n",
            "GB | Epoch 3 | Loss: 0.5699899196624756 | Accuracy: 73.4375%\n",
            "GB | Epoch 3 | Loss: 0.7470006346702576 | Accuracy: 64.0625%\n",
            "GB | Epoch 3 | Loss: 0.6379324197769165 | Accuracy: 78.125%\n",
            "GB | Epoch 3 | Loss: 0.5283277034759521 | Accuracy: 84.375%\n",
            "GB | Epoch 3 | Loss: 0.48074859380722046 | Accuracy: 85.9375%\n",
            "GB | Epoch 3 | Loss: 0.593323826789856 | Accuracy: 78.125%\n"
          ]
        },
        {
          "output_type": "stream",
          "name": "stderr",
          "text": [
            "Epoch 3:  14%|█▍        | 106/751 [00:03<00:16, 37.99batch/s, accuracy=73.4375%, loss=0.548]"
          ]
        },
        {
          "output_type": "stream",
          "name": "stdout",
          "text": [
            "GB | Epoch 3 | Loss: 0.7145944833755493 | Accuracy: 71.875%\n",
            "GB | Epoch 3 | Loss: 0.47520557045936584 | Accuracy: 81.25%\n",
            "GB | Epoch 3 | Loss: 0.499942809343338 | Accuracy: 81.25%\n",
            "GB | Epoch 3 | Loss: 0.5035350918769836 | Accuracy: 79.6875%\n",
            "GB | Epoch 3 | Loss: 0.4798608124256134 | Accuracy: 84.375%\n",
            "GB | Epoch 3 | Loss: 0.5533570051193237 | Accuracy: 75.0%\n",
            "GB | Epoch 3 | Loss: 0.5226621627807617 | Accuracy: 85.9375%\n",
            "GB | Epoch 3 | Loss: 0.5823715329170227 | Accuracy: 81.25%\n",
            "GB | Epoch 3 | Loss: 0.5480589270591736 | Accuracy: 73.4375%\n"
          ]
        },
        {
          "output_type": "stream",
          "name": "stderr",
          "text": [
            "Epoch 3:  15%|█▌        | 116/751 [00:03<00:15, 39.75batch/s, accuracy=85.9375%, loss=0.43]"
          ]
        },
        {
          "output_type": "stream",
          "name": "stdout",
          "text": [
            "GB | Epoch 3 | Loss: 0.45121532678604126 | Accuracy: 84.375%\n",
            "GB | Epoch 3 | Loss: 0.5719560384750366 | Accuracy: 85.9375%\n",
            "GB | Epoch 3 | Loss: 0.5592216849327087 | Accuracy: 78.125%\n",
            "GB | Epoch 3 | Loss: 0.5615445375442505 | Accuracy: 73.4375%\n",
            "GB | Epoch 3 | Loss: 0.5983383655548096 | Accuracy: 71.875%\n",
            "GB | Epoch 3 | Loss: 0.48792940378189087 | Accuracy: 82.8125%\n",
            "GB | Epoch 3 | Loss: 0.541796863079071 | Accuracy: 76.5625%\n",
            "GB | Epoch 3 | Loss: 0.5276694893836975 | Accuracy: 81.25%\n",
            "GB | Epoch 3 | Loss: 0.42996135354042053 | Accuracy: 85.9375%\n"
          ]
        },
        {
          "output_type": "stream",
          "name": "stderr",
          "text": [
            "Epoch 3:  17%|█▋        | 125/751 [00:03<00:15, 40.28batch/s, accuracy=79.6875%, loss=0.62] "
          ]
        },
        {
          "output_type": "stream",
          "name": "stdout",
          "text": [
            "GB | Epoch 3 | Loss: 0.47488224506378174 | Accuracy: 87.5%\n",
            "GB | Epoch 3 | Loss: 0.506476879119873 | Accuracy: 85.9375%\n",
            "GB | Epoch 3 | Loss: 0.7757147550582886 | Accuracy: 68.75%\n",
            "GB | Epoch 3 | Loss: 0.515634298324585 | Accuracy: 78.125%\n",
            "GB | Epoch 3 | Loss: 0.6178047060966492 | Accuracy: 78.125%\n",
            "GB | Epoch 3 | Loss: 0.5475951433181763 | Accuracy: 79.6875%\n",
            "GB | Epoch 3 | Loss: 0.6847690939903259 | Accuracy: 78.125%\n",
            "GB | Epoch 3 | Loss: 0.4393330216407776 | Accuracy: 82.8125%\n",
            "GB | Epoch 3 | Loss: 0.6197032928466797 | Accuracy: 79.6875%\n"
          ]
        },
        {
          "output_type": "stream",
          "name": "stderr",
          "text": [
            "Epoch 3:  18%|█▊        | 135/751 [00:03<00:15, 40.79batch/s, accuracy=76.5625%, loss=0.62] "
          ]
        },
        {
          "output_type": "stream",
          "name": "stdout",
          "text": [
            "GB | Epoch 3 | Loss: 0.6005359888076782 | Accuracy: 84.375%\n",
            "GB | Epoch 3 | Loss: 0.5491177439689636 | Accuracy: 76.5625%\n",
            "GB | Epoch 3 | Loss: 0.6655915975570679 | Accuracy: 79.6875%\n",
            "GB | Epoch 3 | Loss: 0.5641806125640869 | Accuracy: 81.25%\n",
            "GB | Epoch 3 | Loss: 0.5963346362113953 | Accuracy: 76.5625%\n",
            "GB | Epoch 3 | Loss: 0.6129037141799927 | Accuracy: 78.125%\n",
            "GB | Epoch 3 | Loss: 0.6478976011276245 | Accuracy: 78.125%\n",
            "GB | Epoch 3 | Loss: 0.6239171028137207 | Accuracy: 82.8125%\n",
            "GB | Epoch 3 | Loss: 0.6199120283126831 | Accuracy: 76.5625%\n"
          ]
        },
        {
          "output_type": "stream",
          "name": "stderr",
          "text": [
            "Epoch 3:  19%|█▉        | 145/751 [00:04<00:15, 39.67batch/s, accuracy=79.6875%, loss=0.609]"
          ]
        },
        {
          "output_type": "stream",
          "name": "stdout",
          "text": [
            "GB | Epoch 3 | Loss: 0.6470764875411987 | Accuracy: 76.5625%\n",
            "GB | Epoch 3 | Loss: 0.5364023447036743 | Accuracy: 82.8125%\n",
            "GB | Epoch 3 | Loss: 0.5643770098686218 | Accuracy: 75.0%\n",
            "GB | Epoch 3 | Loss: 0.6966878175735474 | Accuracy: 75.0%\n",
            "GB | Epoch 3 | Loss: 0.4882710874080658 | Accuracy: 87.5%\n",
            "GB | Epoch 3 | Loss: 0.6587516665458679 | Accuracy: 76.5625%\n",
            "GB | Epoch 3 | Loss: 0.741899847984314 | Accuracy: 75.0%\n",
            "GB | Epoch 3 | Loss: 0.6091023683547974 | Accuracy: 79.6875%\n"
          ]
        },
        {
          "output_type": "stream",
          "name": "stderr",
          "text": [
            "Epoch 3:  20%|██        | 153/751 [00:04<00:15, 39.61batch/s, accuracy=82.8125%, loss=0.486]"
          ]
        },
        {
          "output_type": "stream",
          "name": "stdout",
          "text": [
            "GB | Epoch 3 | Loss: 0.4993667006492615 | Accuracy: 82.8125%\n",
            "GB | Epoch 3 | Loss: 0.48849010467529297 | Accuracy: 85.9375%\n",
            "GB | Epoch 3 | Loss: 0.5181059837341309 | Accuracy: 81.25%\n",
            "GB | Epoch 3 | Loss: 0.4731212854385376 | Accuracy: 81.25%\n",
            "GB | Epoch 3 | Loss: 0.6949648857116699 | Accuracy: 73.4375%\n",
            "GB | Epoch 3 | Loss: 0.5384310483932495 | Accuracy: 79.6875%\n",
            "GB | Epoch 3 | Loss: 0.5674047470092773 | Accuracy: 76.5625%\n",
            "GB | Epoch 3 | Loss: 0.4871564209461212 | Accuracy: 79.6875%\n",
            "GB | Epoch 3 | Loss: 0.48573538661003113 | Accuracy: 82.8125%\n"
          ]
        },
        {
          "output_type": "stream",
          "name": "stderr",
          "text": [
            "Epoch 3:  22%|██▏       | 162/751 [00:04<00:14, 39.65batch/s, accuracy=84.375%, loss=0.474]"
          ]
        },
        {
          "output_type": "stream",
          "name": "stdout",
          "text": [
            "GB | Epoch 3 | Loss: 0.7778695225715637 | Accuracy: 67.1875%\n",
            "GB | Epoch 3 | Loss: 0.5388570427894592 | Accuracy: 82.8125%\n",
            "GB | Epoch 3 | Loss: 0.5651773810386658 | Accuracy: 75.0%\n",
            "GB | Epoch 3 | Loss: 0.4246397018432617 | Accuracy: 85.9375%\n",
            "GB | Epoch 3 | Loss: 0.5759709477424622 | Accuracy: 76.5625%\n",
            "GB | Epoch 3 | Loss: 0.5120429396629333 | Accuracy: 85.9375%\n",
            "GB | Epoch 3 | Loss: 0.4825381636619568 | Accuracy: 84.375%\n",
            "GB | Epoch 3 | Loss: 0.356881707906723 | Accuracy: 90.625%\n"
          ]
        },
        {
          "output_type": "stream",
          "name": "stderr",
          "text": [
            "Epoch 3:  23%|██▎       | 171/751 [00:04<00:14, 39.89batch/s, accuracy=65.625%, loss=0.693]"
          ]
        },
        {
          "output_type": "stream",
          "name": "stdout",
          "text": [
            "GB | Epoch 3 | Loss: 0.474256694316864 | Accuracy: 84.375%\n",
            "GB | Epoch 3 | Loss: 0.7426505088806152 | Accuracy: 73.4375%\n",
            "GB | Epoch 3 | Loss: 0.582270622253418 | Accuracy: 78.125%\n",
            "GB | Epoch 3 | Loss: 0.4541584253311157 | Accuracy: 82.8125%\n",
            "GB | Epoch 3 | Loss: 0.6098484992980957 | Accuracy: 79.6875%\n",
            "GB | Epoch 3 | Loss: 0.6226065754890442 | Accuracy: 71.875%\n",
            "GB | Epoch 3 | Loss: 0.5213342308998108 | Accuracy: 89.0625%\n",
            "GB | Epoch 3 | Loss: 0.5211160778999329 | Accuracy: 73.4375%\n",
            "GB | Epoch 3 | Loss: 0.6928036212921143 | Accuracy: 65.625%\n"
          ]
        },
        {
          "output_type": "stream",
          "name": "stderr",
          "text": [
            "Epoch 3:  23%|██▎       | 176/751 [00:04<00:14, 40.45batch/s, accuracy=81.25%, loss=0.528] "
          ]
        },
        {
          "output_type": "stream",
          "name": "stdout",
          "text": [
            "GB | Epoch 3 | Loss: 0.5475180149078369 | Accuracy: 81.25%\n",
            "GB | Epoch 3 | Loss: 0.6478976607322693 | Accuracy: 71.875%\n",
            "GB | Epoch 3 | Loss: 0.4771319031715393 | Accuracy: 84.375%\n",
            "GB | Epoch 3 | Loss: 0.6287965178489685 | Accuracy: 79.6875%\n",
            "GB | Epoch 3 | Loss: 0.5018648505210876 | Accuracy: 81.25%\n",
            "GB | Epoch 3 | Loss: 0.35341787338256836 | Accuracy: 92.1875%\n",
            "GB | Epoch 3 | Loss: 0.4129408895969391 | Accuracy: 84.375%\n",
            "GB | Epoch 3 | Loss: 0.49236276745796204 | Accuracy: 84.375%\n",
            "GB | Epoch 3 | Loss: 0.5279150009155273 | Accuracy: 81.25%\n"
          ]
        },
        {
          "output_type": "stream",
          "name": "stderr",
          "text": [
            "Epoch 3:  25%|██▍       | 186/751 [00:05<00:14, 38.63batch/s, accuracy=76.5625%, loss=0.622]"
          ]
        },
        {
          "output_type": "stream",
          "name": "stdout",
          "text": [
            "GB | Epoch 3 | Loss: 0.5423390865325928 | Accuracy: 81.25%\n",
            "GB | Epoch 3 | Loss: 0.4350005090236664 | Accuracy: 84.375%\n",
            "GB | Epoch 3 | Loss: 0.5277631878852844 | Accuracy: 85.9375%\n",
            "GB | Epoch 3 | Loss: 0.6051622033119202 | Accuracy: 78.125%\n",
            "GB | Epoch 3 | Loss: 0.5146846175193787 | Accuracy: 82.8125%\n",
            "GB | Epoch 3 | Loss: 0.6541942954063416 | Accuracy: 81.25%\n",
            "GB | Epoch 3 | Loss: 0.5458495616912842 | Accuracy: 79.6875%\n",
            "GB | Epoch 3 | Loss: 0.6217061877250671 | Accuracy: 76.5625%\n"
          ]
        },
        {
          "output_type": "stream",
          "name": "stderr",
          "text": [
            "Epoch 3:  26%|██▌       | 195/751 [00:05<00:14, 39.52batch/s, accuracy=90.625%, loss=0.436]"
          ]
        },
        {
          "output_type": "stream",
          "name": "stdout",
          "text": [
            "GB | Epoch 3 | Loss: 0.3727662265300751 | Accuracy: 89.0625%\n",
            "GB | Epoch 3 | Loss: 0.4920072555541992 | Accuracy: 87.5%\n",
            "GB | Epoch 3 | Loss: 0.5067400336265564 | Accuracy: 81.25%\n",
            "GB | Epoch 3 | Loss: 0.5012684464454651 | Accuracy: 82.8125%\n",
            "GB | Epoch 3 | Loss: 0.4054650068283081 | Accuracy: 89.0625%\n",
            "GB | Epoch 3 | Loss: 0.6825574040412903 | Accuracy: 82.8125%\n",
            "GB | Epoch 3 | Loss: 0.5550908446311951 | Accuracy: 82.8125%\n",
            "GB | Epoch 3 | Loss: 0.46327662467956543 | Accuracy: 84.375%\n",
            "GB | Epoch 3 | Loss: 0.43601447343826294 | Accuracy: 90.625%\n"
          ]
        },
        {
          "output_type": "stream",
          "name": "stderr",
          "text": [
            "Epoch 3:  27%|██▋       | 203/751 [00:05<00:14, 39.03batch/s, accuracy=89.0625%, loss=0.58]"
          ]
        },
        {
          "output_type": "stream",
          "name": "stdout",
          "text": [
            "GB | Epoch 3 | Loss: 0.5573219060897827 | Accuracy: 79.6875%\n",
            "GB | Epoch 3 | Loss: 0.38243672251701355 | Accuracy: 87.5%\n",
            "GB | Epoch 3 | Loss: 0.5424719452857971 | Accuracy: 78.125%\n",
            "GB | Epoch 3 | Loss: 0.48722317814826965 | Accuracy: 85.9375%\n",
            "GB | Epoch 3 | Loss: 0.6026953458786011 | Accuracy: 79.6875%\n",
            "GB | Epoch 3 | Loss: 0.6802976131439209 | Accuracy: 71.875%\n",
            "GB | Epoch 3 | Loss: 0.36424776911735535 | Accuracy: 90.625%\n",
            "GB | Epoch 3 | Loss: 0.5543334484100342 | Accuracy: 75.0%\n"
          ]
        },
        {
          "output_type": "stream",
          "name": "stderr",
          "text": [
            "Epoch 3:  28%|██▊       | 212/751 [00:05<00:13, 39.16batch/s, accuracy=78.125%, loss=0.795]"
          ]
        },
        {
          "output_type": "stream",
          "name": "stdout",
          "text": [
            "GB | Epoch 3 | Loss: 0.580165684223175 | Accuracy: 89.0625%\n",
            "GB | Epoch 3 | Loss: 0.42905110120773315 | Accuracy: 87.5%\n",
            "GB | Epoch 3 | Loss: 0.4461975395679474 | Accuracy: 84.375%\n",
            "GB | Epoch 3 | Loss: 0.7679392099380493 | Accuracy: 76.5625%\n",
            "GB | Epoch 3 | Loss: 0.5051507949829102 | Accuracy: 82.8125%\n",
            "GB | Epoch 3 | Loss: 0.5946169495582581 | Accuracy: 78.125%\n",
            "GB | Epoch 3 | Loss: 0.49019965529441833 | Accuracy: 82.8125%\n",
            "GB | Epoch 3 | Loss: 0.7945818901062012 | Accuracy: 78.125%\n"
          ]
        },
        {
          "output_type": "stream",
          "name": "stderr",
          "text": [
            "Epoch 3:  29%|██▉       | 220/751 [00:06<00:13, 38.98batch/s, accuracy=89.0625%, loss=0.387]"
          ]
        },
        {
          "output_type": "stream",
          "name": "stdout",
          "text": [
            "GB | Epoch 3 | Loss: 0.41994738578796387 | Accuracy: 85.9375%\n",
            "GB | Epoch 3 | Loss: 0.5273262858390808 | Accuracy: 79.6875%\n",
            "GB | Epoch 3 | Loss: 0.3912523090839386 | Accuracy: 87.5%\n",
            "GB | Epoch 3 | Loss: 0.46931201219558716 | Accuracy: 78.125%\n",
            "GB | Epoch 3 | Loss: 0.5109437704086304 | Accuracy: 82.8125%\n",
            "GB | Epoch 3 | Loss: 0.5006939172744751 | Accuracy: 78.125%\n",
            "GB | Epoch 3 | Loss: 0.4431900084018707 | Accuracy: 82.8125%\n",
            "GB | Epoch 3 | Loss: 0.38654324412345886 | Accuracy: 89.0625%\n"
          ]
        },
        {
          "output_type": "stream",
          "name": "stderr",
          "text": [
            "Epoch 3:  30%|███       | 228/751 [00:06<00:13, 37.82batch/s, accuracy=84.375%, loss=0.476]"
          ]
        },
        {
          "output_type": "stream",
          "name": "stdout",
          "text": [
            "GB | Epoch 3 | Loss: 0.46278637647628784 | Accuracy: 84.375%\n",
            "GB | Epoch 3 | Loss: 0.4323234260082245 | Accuracy: 84.375%\n",
            "GB | Epoch 3 | Loss: 0.5116840600967407 | Accuracy: 85.9375%\n",
            "GB | Epoch 3 | Loss: 0.4586608409881592 | Accuracy: 85.9375%\n",
            "GB | Epoch 3 | Loss: 0.5466000437736511 | Accuracy: 75.0%\n",
            "GB | Epoch 3 | Loss: 0.5577260851860046 | Accuracy: 81.25%\n",
            "GB | Epoch 3 | Loss: 0.5528815984725952 | Accuracy: 78.125%\n",
            "GB | Epoch 3 | Loss: 0.47626349329948425 | Accuracy: 84.375%\n"
          ]
        },
        {
          "output_type": "stream",
          "name": "stderr",
          "text": [
            "Epoch 3:  32%|███▏      | 237/751 [00:06<00:13, 39.20batch/s, accuracy=93.75%, loss=0.306]"
          ]
        },
        {
          "output_type": "stream",
          "name": "stdout",
          "text": [
            "GB | Epoch 3 | Loss: 0.4744737148284912 | Accuracy: 84.375%\n",
            "GB | Epoch 3 | Loss: 0.4611080288887024 | Accuracy: 79.6875%\n",
            "GB | Epoch 3 | Loss: 0.5035618543624878 | Accuracy: 89.0625%\n",
            "GB | Epoch 3 | Loss: 0.506024956703186 | Accuracy: 90.625%\n",
            "GB | Epoch 3 | Loss: 0.5381214022636414 | Accuracy: 78.125%\n",
            "GB | Epoch 3 | Loss: 0.5151181817054749 | Accuracy: 84.375%\n",
            "GB | Epoch 3 | Loss: 0.6268360614776611 | Accuracy: 75.0%\n",
            "GB | Epoch 3 | Loss: 0.30605894327163696 | Accuracy: 93.75%\n"
          ]
        },
        {
          "output_type": "stream",
          "name": "stderr",
          "text": [
            "Epoch 3:  33%|███▎      | 245/751 [00:06<00:12, 39.01batch/s, accuracy=87.5%, loss=0.383]"
          ]
        },
        {
          "output_type": "stream",
          "name": "stdout",
          "text": [
            "GB | Epoch 3 | Loss: 0.3597443699836731 | Accuracy: 92.1875%\n",
            "GB | Epoch 3 | Loss: 0.5432602167129517 | Accuracy: 78.125%\n",
            "GB | Epoch 3 | Loss: 0.48894771933555603 | Accuracy: 84.375%\n",
            "GB | Epoch 3 | Loss: 0.5774563550949097 | Accuracy: 76.5625%\n",
            "GB | Epoch 3 | Loss: 0.4935607612133026 | Accuracy: 82.8125%\n",
            "GB | Epoch 3 | Loss: 0.7200270891189575 | Accuracy: 79.6875%\n",
            "GB | Epoch 3 | Loss: 0.5427910089492798 | Accuracy: 75.0%\n",
            "GB | Epoch 3 | Loss: 0.3827179968357086 | Accuracy: 87.5%\n"
          ]
        },
        {
          "output_type": "stream",
          "name": "stderr",
          "text": [
            "Epoch 3:  34%|███▎      | 253/751 [00:06<00:12, 39.06batch/s, accuracy=82.8125%, loss=0.503]"
          ]
        },
        {
          "output_type": "stream",
          "name": "stdout",
          "text": [
            "GB | Epoch 3 | Loss: 0.5115590691566467 | Accuracy: 82.8125%\n",
            "GB | Epoch 3 | Loss: 0.4256957769393921 | Accuracy: 90.625%\n",
            "GB | Epoch 3 | Loss: 0.3590938448905945 | Accuracy: 90.625%\n",
            "GB | Epoch 3 | Loss: 0.5240576267242432 | Accuracy: 75.0%\n",
            "GB | Epoch 3 | Loss: 0.41836947202682495 | Accuracy: 84.375%\n",
            "GB | Epoch 3 | Loss: 0.43922537565231323 | Accuracy: 79.6875%\n",
            "GB | Epoch 3 | Loss: 0.4950293004512787 | Accuracy: 76.5625%\n",
            "GB | Epoch 3 | Loss: 0.4469906985759735 | Accuracy: 81.25%\n",
            "GB | Epoch 3 | Loss: 0.502587080001831 | Accuracy: 82.8125%\n"
          ]
        },
        {
          "output_type": "stream",
          "name": "stderr",
          "text": [
            "Epoch 3:  35%|███▍      | 261/751 [00:07<00:12, 38.81batch/s, accuracy=81.25%, loss=0.567] "
          ]
        },
        {
          "output_type": "stream",
          "name": "stdout",
          "text": [
            "GB | Epoch 3 | Loss: 0.47157222032546997 | Accuracy: 82.8125%\n",
            "GB | Epoch 3 | Loss: 0.5185513496398926 | Accuracy: 82.8125%\n",
            "GB | Epoch 3 | Loss: 0.4204791784286499 | Accuracy: 87.5%\n",
            "GB | Epoch 3 | Loss: 0.37133970856666565 | Accuracy: 89.0625%\n",
            "GB | Epoch 3 | Loss: 0.3998967707157135 | Accuracy: 84.375%\n",
            "GB | Epoch 3 | Loss: 0.5008596181869507 | Accuracy: 79.6875%\n",
            "GB | Epoch 3 | Loss: 0.4587208330631256 | Accuracy: 84.375%\n",
            "GB | Epoch 3 | Loss: 0.5669676661491394 | Accuracy: 81.25%\n"
          ]
        },
        {
          "output_type": "stream",
          "name": "stderr",
          "text": [
            "Epoch 3:  36%|███▌      | 270/751 [00:07<00:12, 37.99batch/s, accuracy=82.8125%, loss=0.448]"
          ]
        },
        {
          "output_type": "stream",
          "name": "stdout",
          "text": [
            "GB | Epoch 3 | Loss: 0.42393699288368225 | Accuracy: 78.125%\n",
            "GB | Epoch 3 | Loss: 0.39291849732398987 | Accuracy: 89.0625%\n",
            "GB | Epoch 3 | Loss: 0.593353807926178 | Accuracy: 81.25%\n",
            "GB | Epoch 3 | Loss: 0.6197333931922913 | Accuracy: 76.5625%\n",
            "GB | Epoch 3 | Loss: 0.44186127185821533 | Accuracy: 82.8125%\n",
            "GB | Epoch 3 | Loss: 0.4643405079841614 | Accuracy: 81.25%\n",
            "GB | Epoch 3 | Loss: 0.47500523924827576 | Accuracy: 76.5625%\n",
            "GB | Epoch 3 | Loss: 0.4476701021194458 | Accuracy: 82.8125%\n"
          ]
        },
        {
          "output_type": "stream",
          "name": "stderr",
          "text": [
            "Epoch 3:  36%|███▋      | 274/751 [00:07<00:12, 37.34batch/s, accuracy=82.8125%, loss=0.421]"
          ]
        },
        {
          "output_type": "stream",
          "name": "stdout",
          "text": [
            "GB | Epoch 3 | Loss: 0.5599226951599121 | Accuracy: 78.125%\n",
            "GB | Epoch 3 | Loss: 0.3754816949367523 | Accuracy: 85.9375%\n",
            "GB | Epoch 3 | Loss: 0.42399051785469055 | Accuracy: 85.9375%\n",
            "GB | Epoch 3 | Loss: 0.5106282830238342 | Accuracy: 76.5625%\n",
            "GB | Epoch 3 | Loss: 0.5142441391944885 | Accuracy: 81.25%\n",
            "GB | Epoch 3 | Loss: 0.5659662485122681 | Accuracy: 82.8125%\n",
            "GB | Epoch 3 | Loss: 0.42112860083580017 | Accuracy: 82.8125%\n"
          ]
        },
        {
          "output_type": "stream",
          "name": "stderr",
          "text": [
            "Epoch 3:  38%|███▊      | 282/751 [00:07<00:14, 32.61batch/s, accuracy=79.6875%, loss=0.657]"
          ]
        },
        {
          "output_type": "stream",
          "name": "stdout",
          "text": [
            "GB | Epoch 3 | Loss: 0.5710646510124207 | Accuracy: 76.5625%\n",
            "GB | Epoch 3 | Loss: 0.5113157033920288 | Accuracy: 79.6875%\n",
            "GB | Epoch 3 | Loss: 0.5035909414291382 | Accuracy: 81.25%\n",
            "GB | Epoch 3 | Loss: 0.5585764646530151 | Accuracy: 76.5625%\n",
            "GB | Epoch 3 | Loss: 0.4237825274467468 | Accuracy: 79.6875%\n",
            "GB | Epoch 3 | Loss: 0.6573201417922974 | Accuracy: 79.6875%\n"
          ]
        },
        {
          "output_type": "stream",
          "name": "stderr",
          "text": [
            "Epoch 3:  39%|███▊      | 290/751 [00:07<00:15, 30.70batch/s, accuracy=85.9375%, loss=0.403]"
          ]
        },
        {
          "output_type": "stream",
          "name": "stdout",
          "text": [
            "GB | Epoch 3 | Loss: 0.32426053285598755 | Accuracy: 90.625%\n",
            "GB | Epoch 3 | Loss: 0.40531933307647705 | Accuracy: 89.0625%\n",
            "GB | Epoch 3 | Loss: 0.48530638217926025 | Accuracy: 84.375%\n",
            "GB | Epoch 3 | Loss: 0.4045974910259247 | Accuracy: 85.9375%\n",
            "GB | Epoch 3 | Loss: 0.44604426622390747 | Accuracy: 81.25%\n",
            "GB | Epoch 3 | Loss: 0.6470296382904053 | Accuracy: 75.0%\n",
            "GB | Epoch 3 | Loss: 0.4033045172691345 | Accuracy: 85.9375%\n"
          ]
        },
        {
          "output_type": "stream",
          "name": "stderr",
          "text": [
            "Epoch 3:  39%|███▉      | 294/751 [00:08<00:14, 30.69batch/s, accuracy=92.1875%, loss=0.363]"
          ]
        },
        {
          "output_type": "stream",
          "name": "stdout",
          "text": [
            "GB | Epoch 3 | Loss: 0.41827309131622314 | Accuracy: 87.5%\n",
            "GB | Epoch 3 | Loss: 0.40002670884132385 | Accuracy: 87.5%\n",
            "GB | Epoch 3 | Loss: 0.427042692899704 | Accuracy: 81.25%\n",
            "GB | Epoch 3 | Loss: 0.4236312508583069 | Accuracy: 89.0625%\n",
            "GB | Epoch 3 | Loss: 0.5394739508628845 | Accuracy: 84.375%\n",
            "GB | Epoch 3 | Loss: 0.2512858510017395 | Accuracy: 90.625%\n",
            "GB | Epoch 3 | Loss: 0.36269599199295044 | Accuracy: 92.1875%\n"
          ]
        },
        {
          "output_type": "stream",
          "name": "stderr",
          "text": [
            "Epoch 3:  40%|████      | 302/751 [00:08<00:15, 29.40batch/s, accuracy=85.9375%, loss=0.439]"
          ]
        },
        {
          "output_type": "stream",
          "name": "stdout",
          "text": [
            "GB | Epoch 3 | Loss: 0.3724610507488251 | Accuracy: 84.375%\n",
            "GB | Epoch 3 | Loss: 0.4968540668487549 | Accuracy: 81.25%\n",
            "GB | Epoch 3 | Loss: 0.5832118391990662 | Accuracy: 81.25%\n",
            "GB | Epoch 3 | Loss: 0.5668556690216064 | Accuracy: 82.8125%\n",
            "GB | Epoch 3 | Loss: 0.40378206968307495 | Accuracy: 87.5%\n",
            "GB | Epoch 3 | Loss: 0.4394736886024475 | Accuracy: 85.9375%\n"
          ]
        },
        {
          "output_type": "stream",
          "name": "stderr",
          "text": [
            "Epoch 3:  41%|████      | 308/751 [00:08<00:15, 27.95batch/s, accuracy=82.8125%, loss=0.486]"
          ]
        },
        {
          "output_type": "stream",
          "name": "stdout",
          "text": [
            "GB | Epoch 3 | Loss: 0.3933323621749878 | Accuracy: 84.375%\n",
            "GB | Epoch 3 | Loss: 0.3835156261920929 | Accuracy: 92.1875%\n",
            "GB | Epoch 3 | Loss: 0.4677877426147461 | Accuracy: 87.5%\n",
            "GB | Epoch 3 | Loss: 0.5711655020713806 | Accuracy: 81.25%\n",
            "GB | Epoch 3 | Loss: 0.36423832178115845 | Accuracy: 90.625%\n",
            "GB | Epoch 3 | Loss: 0.48619526624679565 | Accuracy: 82.8125%\n"
          ]
        },
        {
          "output_type": "stream",
          "name": "stderr",
          "text": [
            "Epoch 3:  42%|████▏     | 314/751 [00:08<00:15, 27.74batch/s, accuracy=79.6875%, loss=0.492]"
          ]
        },
        {
          "output_type": "stream",
          "name": "stdout",
          "text": [
            "GB | Epoch 3 | Loss: 0.518276035785675 | Accuracy: 85.9375%\n",
            "GB | Epoch 3 | Loss: 0.45771798491477966 | Accuracy: 92.1875%\n",
            "GB | Epoch 3 | Loss: 0.5348471403121948 | Accuracy: 79.6875%\n",
            "GB | Epoch 3 | Loss: 0.5267783403396606 | Accuracy: 78.125%\n",
            "GB | Epoch 3 | Loss: 0.5124868750572205 | Accuracy: 84.375%\n",
            "GB | Epoch 3 | Loss: 0.49193447828292847 | Accuracy: 79.6875%\n"
          ]
        },
        {
          "output_type": "stream",
          "name": "stderr",
          "text": [
            "Epoch 3:  43%|████▎     | 321/751 [00:09<00:15, 28.65batch/s, accuracy=85.9375%, loss=0.451]"
          ]
        },
        {
          "output_type": "stream",
          "name": "stdout",
          "text": [
            "GB | Epoch 3 | Loss: 0.3671739399433136 | Accuracy: 84.375%\n",
            "GB | Epoch 3 | Loss: 0.7484884262084961 | Accuracy: 70.3125%\n",
            "GB | Epoch 3 | Loss: 0.4277478754520416 | Accuracy: 84.375%\n",
            "GB | Epoch 3 | Loss: 0.6493637561798096 | Accuracy: 84.375%\n",
            "GB | Epoch 3 | Loss: 0.43041425943374634 | Accuracy: 84.375%\n",
            "GB | Epoch 3 | Loss: 0.45100367069244385 | Accuracy: 85.9375%\n"
          ]
        },
        {
          "output_type": "stream",
          "name": "stderr",
          "text": [
            "Epoch 3:  44%|████▎     | 327/751 [00:09<00:15, 27.27batch/s, accuracy=84.375%, loss=0.525]"
          ]
        },
        {
          "output_type": "stream",
          "name": "stdout",
          "text": [
            "GB | Epoch 3 | Loss: 0.3940242528915405 | Accuracy: 82.8125%\n",
            "GB | Epoch 3 | Loss: 0.42619895935058594 | Accuracy: 87.5%\n",
            "GB | Epoch 3 | Loss: 0.602105438709259 | Accuracy: 75.0%\n",
            "GB | Epoch 3 | Loss: 0.4391627609729767 | Accuracy: 81.25%\n",
            "GB | Epoch 3 | Loss: 0.33126193284988403 | Accuracy: 87.5%\n",
            "GB | Epoch 3 | Loss: 0.5247353911399841 | Accuracy: 84.375%\n"
          ]
        },
        {
          "output_type": "stream",
          "name": "stderr",
          "text": [
            "Epoch 3:  44%|████▍     | 333/751 [00:09<00:15, 27.19batch/s, accuracy=81.25%, loss=0.425]"
          ]
        },
        {
          "output_type": "stream",
          "name": "stdout",
          "text": [
            "GB | Epoch 3 | Loss: 0.37996146082878113 | Accuracy: 85.9375%\n",
            "GB | Epoch 3 | Loss: 0.4220552146434784 | Accuracy: 82.8125%\n",
            "GB | Epoch 3 | Loss: 0.5298228859901428 | Accuracy: 73.4375%\n",
            "GB | Epoch 3 | Loss: 0.441150963306427 | Accuracy: 82.8125%\n",
            "GB | Epoch 3 | Loss: 0.4499354362487793 | Accuracy: 89.0625%\n",
            "GB | Epoch 3 | Loss: 0.42451509833335876 | Accuracy: 81.25%\n"
          ]
        },
        {
          "output_type": "stream",
          "name": "stderr",
          "text": [
            "Epoch 3:  45%|████▌     | 340/751 [00:09<00:14, 28.18batch/s, accuracy=85.9375%, loss=0.306]"
          ]
        },
        {
          "output_type": "stream",
          "name": "stdout",
          "text": [
            "GB | Epoch 3 | Loss: 0.3753921091556549 | Accuracy: 90.625%\n",
            "GB | Epoch 3 | Loss: 0.349376916885376 | Accuracy: 92.1875%\n",
            "GB | Epoch 3 | Loss: 0.3695090413093567 | Accuracy: 92.1875%\n",
            "GB | Epoch 3 | Loss: 0.5830509066581726 | Accuracy: 78.125%\n",
            "GB | Epoch 3 | Loss: 0.5249209403991699 | Accuracy: 81.25%\n",
            "GB | Epoch 3 | Loss: 0.6768221855163574 | Accuracy: 75.0%\n",
            "GB | Epoch 3 | Loss: 0.30641084909439087 | Accuracy: 85.9375%\n"
          ]
        },
        {
          "output_type": "stream",
          "name": "stderr",
          "text": [
            "Epoch 3:  46%|████▌     | 346/751 [00:09<00:14, 27.94batch/s, accuracy=87.5%, loss=0.394]"
          ]
        },
        {
          "output_type": "stream",
          "name": "stdout",
          "text": [
            "GB | Epoch 3 | Loss: 0.4510471224784851 | Accuracy: 87.5%\n",
            "GB | Epoch 3 | Loss: 0.5736212730407715 | Accuracy: 81.25%\n",
            "GB | Epoch 3 | Loss: 0.3629820644855499 | Accuracy: 93.75%\n",
            "GB | Epoch 3 | Loss: 0.5276287198066711 | Accuracy: 79.6875%\n",
            "GB | Epoch 3 | Loss: 0.4566907286643982 | Accuracy: 85.9375%\n",
            "GB | Epoch 3 | Loss: 0.39372140169143677 | Accuracy: 87.5%\n"
          ]
        },
        {
          "output_type": "stream",
          "name": "stderr",
          "text": [
            "Epoch 3:  47%|████▋     | 352/751 [00:10<00:14, 27.88batch/s, accuracy=89.0625%, loss=0.362]"
          ]
        },
        {
          "output_type": "stream",
          "name": "stdout",
          "text": [
            "GB | Epoch 3 | Loss: 0.4466128647327423 | Accuracy: 89.0625%\n",
            "GB | Epoch 3 | Loss: 0.4125590920448303 | Accuracy: 85.9375%\n",
            "GB | Epoch 3 | Loss: 0.49626410007476807 | Accuracy: 87.5%\n",
            "GB | Epoch 3 | Loss: 0.4580259621143341 | Accuracy: 82.8125%\n",
            "GB | Epoch 3 | Loss: 0.4788243770599365 | Accuracy: 84.375%\n",
            "GB | Epoch 3 | Loss: 0.3615591526031494 | Accuracy: 89.0625%\n"
          ]
        },
        {
          "output_type": "stream",
          "name": "stderr",
          "text": [
            "Epoch 3:  48%|████▊     | 358/751 [00:10<00:14, 27.51batch/s, accuracy=87.5%, loss=0.301]"
          ]
        },
        {
          "output_type": "stream",
          "name": "stdout",
          "text": [
            "GB | Epoch 3 | Loss: 0.530528724193573 | Accuracy: 79.6875%\n",
            "GB | Epoch 3 | Loss: 0.5370453596115112 | Accuracy: 85.9375%\n",
            "GB | Epoch 3 | Loss: 0.37469491362571716 | Accuracy: 90.625%\n",
            "GB | Epoch 3 | Loss: 0.4460551142692566 | Accuracy: 81.25%\n",
            "GB | Epoch 3 | Loss: 0.4420570433139801 | Accuracy: 90.625%\n",
            "GB | Epoch 3 | Loss: 0.3012877404689789 | Accuracy: 87.5%\n"
          ]
        },
        {
          "output_type": "stream",
          "name": "stderr",
          "text": [
            "Epoch 3:  48%|████▊     | 361/751 [00:10<00:14, 26.69batch/s, accuracy=79.6875%, loss=0.516]"
          ]
        },
        {
          "output_type": "stream",
          "name": "stdout",
          "text": [
            "GB | Epoch 3 | Loss: 0.3192669451236725 | Accuracy: 93.75%\n",
            "GB | Epoch 3 | Loss: 0.4236340820789337 | Accuracy: 82.8125%\n",
            "GB | Epoch 3 | Loss: 0.5161212682723999 | Accuracy: 84.375%\n",
            "GB | Epoch 3 | Loss: 0.43587079644203186 | Accuracy: 76.5625%\n",
            "GB | Epoch 3 | Loss: 0.33529314398765564 | Accuracy: 89.0625%\n",
            "GB | Epoch 3 | Loss: 0.516332745552063 | Accuracy: 79.6875%\n"
          ]
        },
        {
          "output_type": "stream",
          "name": "stderr",
          "text": [
            "Epoch 3:  49%|████▉     | 369/751 [00:10<00:13, 27.87batch/s, accuracy=79.6875%, loss=0.446]"
          ]
        },
        {
          "output_type": "stream",
          "name": "stdout",
          "text": [
            "GB | Epoch 3 | Loss: 0.4468763470649719 | Accuracy: 84.375%\n",
            "GB | Epoch 3 | Loss: 0.5801413059234619 | Accuracy: 82.8125%\n",
            "GB | Epoch 3 | Loss: 0.5225666165351868 | Accuracy: 81.25%\n",
            "GB | Epoch 3 | Loss: 0.4929492175579071 | Accuracy: 85.9375%\n",
            "GB | Epoch 3 | Loss: 0.5353507995605469 | Accuracy: 85.9375%\n",
            "GB | Epoch 3 | Loss: 0.4461462199687958 | Accuracy: 79.6875%\n"
          ]
        },
        {
          "output_type": "stream",
          "name": "stderr",
          "text": [
            "Epoch 3:  50%|████▉     | 375/751 [00:11<00:14, 26.43batch/s, accuracy=78.125%, loss=0.556]"
          ]
        },
        {
          "output_type": "stream",
          "name": "stdout",
          "text": [
            "GB | Epoch 3 | Loss: 0.41969752311706543 | Accuracy: 84.375%\n",
            "GB | Epoch 3 | Loss: 0.4074782133102417 | Accuracy: 87.5%\n",
            "GB | Epoch 3 | Loss: 0.49365031719207764 | Accuracy: 82.8125%\n",
            "GB | Epoch 3 | Loss: 0.2927667498588562 | Accuracy: 87.5%\n",
            "GB | Epoch 3 | Loss: 0.4035678207874298 | Accuracy: 84.375%\n",
            "GB | Epoch 3 | Loss: 0.5564517974853516 | Accuracy: 78.125%\n"
          ]
        },
        {
          "output_type": "stream",
          "name": "stderr",
          "text": [
            "Epoch 3:  51%|█████     | 381/751 [00:11<00:13, 26.77batch/s, accuracy=76.5625%, loss=0.569]"
          ]
        },
        {
          "output_type": "stream",
          "name": "stdout",
          "text": [
            "GB | Epoch 3 | Loss: 0.36314815282821655 | Accuracy: 90.625%\n",
            "GB | Epoch 3 | Loss: 0.3411533832550049 | Accuracy: 87.5%\n",
            "GB | Epoch 3 | Loss: 0.4406272768974304 | Accuracy: 82.8125%\n",
            "GB | Epoch 3 | Loss: 0.6759297847747803 | Accuracy: 75.0%\n",
            "GB | Epoch 3 | Loss: 0.3963432013988495 | Accuracy: 85.9375%\n",
            "GB | Epoch 3 | Loss: 0.5691291093826294 | Accuracy: 76.5625%\n"
          ]
        },
        {
          "output_type": "stream",
          "name": "stderr",
          "text": [
            "Epoch 3:  52%|█████▏    | 389/751 [00:11<00:11, 32.14batch/s, accuracy=82.8125%, loss=0.567]"
          ]
        },
        {
          "output_type": "stream",
          "name": "stdout",
          "text": [
            "GB | Epoch 3 | Loss: 0.4817873537540436 | Accuracy: 84.375%\n",
            "GB | Epoch 3 | Loss: 0.49221986532211304 | Accuracy: 84.375%\n",
            "GB | Epoch 3 | Loss: 0.38463982939720154 | Accuracy: 95.3125%\n",
            "GB | Epoch 3 | Loss: 0.488383412361145 | Accuracy: 82.8125%\n",
            "GB | Epoch 3 | Loss: 0.432897686958313 | Accuracy: 82.8125%\n",
            "GB | Epoch 3 | Loss: 0.28600800037384033 | Accuracy: 90.625%\n",
            "GB | Epoch 3 | Loss: 0.3829003572463989 | Accuracy: 85.9375%\n",
            "GB | Epoch 3 | Loss: 0.566733717918396 | Accuracy: 82.8125%\n"
          ]
        },
        {
          "output_type": "stream",
          "name": "stderr",
          "text": [
            "Epoch 3:  53%|█████▎    | 397/751 [00:11<00:10, 33.91batch/s, accuracy=79.6875%, loss=0.476]"
          ]
        },
        {
          "output_type": "stream",
          "name": "stdout",
          "text": [
            "GB | Epoch 3 | Loss: 0.41531962156295776 | Accuracy: 87.5%\n",
            "GB | Epoch 3 | Loss: 0.4218323230743408 | Accuracy: 87.5%\n",
            "GB | Epoch 3 | Loss: 0.39608463644981384 | Accuracy: 87.5%\n",
            "GB | Epoch 3 | Loss: 0.3974246680736542 | Accuracy: 92.1875%\n",
            "GB | Epoch 3 | Loss: 0.3061312139034271 | Accuracy: 90.625%\n",
            "GB | Epoch 3 | Loss: 0.40830156207084656 | Accuracy: 84.375%\n",
            "GB | Epoch 3 | Loss: 0.38351163268089294 | Accuracy: 89.0625%\n",
            "GB | Epoch 3 | Loss: 0.47616103291511536 | Accuracy: 79.6875%\n"
          ]
        },
        {
          "output_type": "stream",
          "name": "stderr",
          "text": [
            "Epoch 3:  54%|█████▍    | 406/751 [00:11<00:09, 36.86batch/s, accuracy=84.375%, loss=0.428]"
          ]
        },
        {
          "output_type": "stream",
          "name": "stdout",
          "text": [
            "GB | Epoch 3 | Loss: 0.4538044035434723 | Accuracy: 82.8125%\n",
            "GB | Epoch 3 | Loss: 0.33092477917671204 | Accuracy: 87.5%\n",
            "GB | Epoch 3 | Loss: 0.4687935411930084 | Accuracy: 81.25%\n",
            "GB | Epoch 3 | Loss: 0.33452460169792175 | Accuracy: 90.625%\n",
            "GB | Epoch 3 | Loss: 0.3243865966796875 | Accuracy: 95.3125%\n",
            "GB | Epoch 3 | Loss: 0.3800993263721466 | Accuracy: 87.5%\n",
            "GB | Epoch 3 | Loss: 0.5857676863670349 | Accuracy: 81.25%\n",
            "GB | Epoch 3 | Loss: 0.5745135545730591 | Accuracy: 81.25%\n",
            "GB | Epoch 3 | Loss: 0.428207129240036 | Accuracy: 84.375%\n"
          ]
        },
        {
          "output_type": "stream",
          "name": "stderr",
          "text": [
            "Epoch 3:  55%|█████▌    | 416/751 [00:12<00:08, 39.05batch/s, accuracy=84.375%, loss=0.35]"
          ]
        },
        {
          "output_type": "stream",
          "name": "stdout",
          "text": [
            "GB | Epoch 3 | Loss: 0.26422882080078125 | Accuracy: 90.625%\n",
            "GB | Epoch 3 | Loss: 0.41195136308670044 | Accuracy: 87.5%\n",
            "GB | Epoch 3 | Loss: 0.40935713052749634 | Accuracy: 82.8125%\n",
            "GB | Epoch 3 | Loss: 0.3434556722640991 | Accuracy: 85.9375%\n",
            "GB | Epoch 3 | Loss: 0.3904510736465454 | Accuracy: 85.9375%\n",
            "GB | Epoch 3 | Loss: 0.452969491481781 | Accuracy: 85.9375%\n",
            "GB | Epoch 3 | Loss: 0.32051241397857666 | Accuracy: 89.0625%\n",
            "GB | Epoch 3 | Loss: 0.3387390971183777 | Accuracy: 82.8125%\n",
            "GB | Epoch 3 | Loss: 0.3495010733604431 | Accuracy: 84.375%\n"
          ]
        },
        {
          "output_type": "stream",
          "name": "stderr",
          "text": [
            "Epoch 3:  57%|█████▋    | 425/751 [00:12<00:08, 40.23batch/s, accuracy=92.1875%, loss=0.288]"
          ]
        },
        {
          "output_type": "stream",
          "name": "stdout",
          "text": [
            "GB | Epoch 3 | Loss: 0.3427462577819824 | Accuracy: 89.0625%\n",
            "GB | Epoch 3 | Loss: 0.28578898310661316 | Accuracy: 93.75%\n",
            "GB | Epoch 3 | Loss: 0.35749951004981995 | Accuracy: 90.625%\n",
            "GB | Epoch 3 | Loss: 0.46339643001556396 | Accuracy: 81.25%\n",
            "GB | Epoch 3 | Loss: 0.5479289889335632 | Accuracy: 79.6875%\n",
            "GB | Epoch 3 | Loss: 0.39977046847343445 | Accuracy: 82.8125%\n",
            "GB | Epoch 3 | Loss: 0.3774803876876831 | Accuracy: 85.9375%\n",
            "GB | Epoch 3 | Loss: 0.41495269536972046 | Accuracy: 85.9375%\n",
            "GB | Epoch 3 | Loss: 0.2877848446369171 | Accuracy: 92.1875%\n"
          ]
        },
        {
          "output_type": "stream",
          "name": "stderr",
          "text": [
            "Epoch 3:  57%|█████▋    | 430/751 [00:12<00:08, 39.57batch/s, accuracy=85.9375%, loss=0.418]"
          ]
        },
        {
          "output_type": "stream",
          "name": "stdout",
          "text": [
            "GB | Epoch 3 | Loss: 0.34479600191116333 | Accuracy: 85.9375%\n",
            "GB | Epoch 3 | Loss: 0.48900488018989563 | Accuracy: 82.8125%\n",
            "GB | Epoch 3 | Loss: 0.6512019634246826 | Accuracy: 82.8125%\n",
            "GB | Epoch 3 | Loss: 0.5280254483222961 | Accuracy: 79.6875%\n",
            "GB | Epoch 3 | Loss: 0.3665922284126282 | Accuracy: 92.1875%\n",
            "GB | Epoch 3 | Loss: 0.39182284474372864 | Accuracy: 84.375%\n",
            "GB | Epoch 3 | Loss: 0.2985124886035919 | Accuracy: 90.625%\n",
            "GB | Epoch 3 | Loss: 0.41785380244255066 | Accuracy: 85.9375%\n"
          ]
        },
        {
          "output_type": "stream",
          "name": "stderr",
          "text": [
            "Epoch 3:  58%|█████▊    | 439/751 [00:12<00:08, 38.97batch/s, accuracy=84.375%, loss=0.546]"
          ]
        },
        {
          "output_type": "stream",
          "name": "stdout",
          "text": [
            "GB | Epoch 3 | Loss: 0.428093820810318 | Accuracy: 87.5%\n",
            "GB | Epoch 3 | Loss: 0.291009783744812 | Accuracy: 93.75%\n",
            "GB | Epoch 3 | Loss: 0.22673119604587555 | Accuracy: 96.875%\n",
            "GB | Epoch 3 | Loss: 0.33490657806396484 | Accuracy: 84.375%\n",
            "GB | Epoch 3 | Loss: 0.46438026428222656 | Accuracy: 84.375%\n",
            "GB | Epoch 3 | Loss: 0.3389105200767517 | Accuracy: 87.5%\n",
            "GB | Epoch 3 | Loss: 0.23386070132255554 | Accuracy: 93.75%\n",
            "GB | Epoch 3 | Loss: 0.32410478591918945 | Accuracy: 93.75%\n",
            "GB | Epoch 3 | Loss: 0.5460548996925354 | Accuracy: 84.375%\n"
          ]
        },
        {
          "output_type": "stream",
          "name": "stderr",
          "text": [
            "Epoch 3:  60%|█████▉    | 447/751 [00:13<00:07, 38.41batch/s, accuracy=89.0625%, loss=0.337]"
          ]
        },
        {
          "output_type": "stream",
          "name": "stdout",
          "text": [
            "GB | Epoch 3 | Loss: 0.24623079597949982 | Accuracy: 92.1875%\n",
            "GB | Epoch 3 | Loss: 0.2832138240337372 | Accuracy: 92.1875%\n",
            "GB | Epoch 3 | Loss: 0.33911266922950745 | Accuracy: 85.9375%\n",
            "GB | Epoch 3 | Loss: 0.31906768679618835 | Accuracy: 92.1875%\n",
            "GB | Epoch 3 | Loss: 0.3878776729106903 | Accuracy: 89.0625%\n",
            "GB | Epoch 3 | Loss: 0.3715059459209442 | Accuracy: 82.8125%\n",
            "GB | Epoch 3 | Loss: 0.4009231626987457 | Accuracy: 85.9375%\n",
            "GB | Epoch 3 | Loss: 0.3368334472179413 | Accuracy: 89.0625%\n"
          ]
        },
        {
          "output_type": "stream",
          "name": "stderr",
          "text": [
            "Epoch 3:  61%|██████    | 456/751 [00:13<00:07, 38.74batch/s, accuracy=87.5%, loss=0.317]   "
          ]
        },
        {
          "output_type": "stream",
          "name": "stdout",
          "text": [
            "GB | Epoch 3 | Loss: 0.3429119288921356 | Accuracy: 85.9375%\n",
            "GB | Epoch 3 | Loss: 0.2655681073665619 | Accuracy: 89.0625%\n",
            "GB | Epoch 3 | Loss: 0.34582221508026123 | Accuracy: 90.625%\n",
            "GB | Epoch 3 | Loss: 0.45829451084136963 | Accuracy: 85.9375%\n",
            "GB | Epoch 3 | Loss: 0.30155348777770996 | Accuracy: 87.5%\n",
            "GB | Epoch 3 | Loss: 0.3636181950569153 | Accuracy: 87.5%\n",
            "GB | Epoch 3 | Loss: 0.37444639205932617 | Accuracy: 84.375%\n",
            "GB | Epoch 3 | Loss: 0.33601465821266174 | Accuracy: 82.8125%\n",
            "GB | Epoch 3 | Loss: 0.3169541358947754 | Accuracy: 87.5%\n"
          ]
        },
        {
          "output_type": "stream",
          "name": "stderr",
          "text": [
            "Epoch 3:  62%|██████▏   | 465/751 [00:13<00:07, 39.58batch/s, accuracy=92.1875%, loss=0.385]"
          ]
        },
        {
          "output_type": "stream",
          "name": "stdout",
          "text": [
            "GB | Epoch 3 | Loss: 0.32391610741615295 | Accuracy: 89.0625%\n",
            "GB | Epoch 3 | Loss: 0.49773097038269043 | Accuracy: 81.25%\n",
            "GB | Epoch 3 | Loss: 0.40653425455093384 | Accuracy: 84.375%\n",
            "GB | Epoch 3 | Loss: 0.3706963062286377 | Accuracy: 85.9375%\n",
            "GB | Epoch 3 | Loss: 0.47432228922843933 | Accuracy: 84.375%\n",
            "GB | Epoch 3 | Loss: 0.4114052355289459 | Accuracy: 90.625%\n",
            "GB | Epoch 3 | Loss: 0.50994473695755 | Accuracy: 85.9375%\n",
            "GB | Epoch 3 | Loss: 0.23392564058303833 | Accuracy: 95.3125%\n"
          ]
        },
        {
          "output_type": "stream",
          "name": "stderr",
          "text": [
            "Epoch 3:  63%|██████▎   | 473/751 [00:13<00:07, 37.72batch/s, accuracy=89.0625%, loss=0.379]"
          ]
        },
        {
          "output_type": "stream",
          "name": "stdout",
          "text": [
            "GB | Epoch 3 | Loss: 0.38502800464630127 | Accuracy: 92.1875%\n",
            "GB | Epoch 3 | Loss: 0.3979088068008423 | Accuracy: 85.9375%\n",
            "GB | Epoch 3 | Loss: 0.44958940148353577 | Accuracy: 87.5%\n",
            "GB | Epoch 3 | Loss: 0.4029054641723633 | Accuracy: 84.375%\n",
            "GB | Epoch 3 | Loss: 0.48365768790245056 | Accuracy: 81.25%\n",
            "GB | Epoch 3 | Loss: 0.38470980525016785 | Accuracy: 90.625%\n",
            "GB | Epoch 3 | Loss: 0.37861543893814087 | Accuracy: 89.0625%\n"
          ]
        },
        {
          "output_type": "stream",
          "name": "stderr",
          "text": [
            "Epoch 3:  64%|██████▍   | 482/751 [00:13<00:06, 38.52batch/s, accuracy=90.625%, loss=0.363] "
          ]
        },
        {
          "output_type": "stream",
          "name": "stdout",
          "text": [
            "GB | Epoch 3 | Loss: 0.4051012396812439 | Accuracy: 82.8125%\n",
            "GB | Epoch 3 | Loss: 0.5202120542526245 | Accuracy: 82.8125%\n",
            "GB | Epoch 3 | Loss: 0.40120118856430054 | Accuracy: 84.375%\n",
            "GB | Epoch 3 | Loss: 0.2944257855415344 | Accuracy: 92.1875%\n",
            "GB | Epoch 3 | Loss: 0.2786892056465149 | Accuracy: 92.1875%\n",
            "GB | Epoch 3 | Loss: 0.3569185733795166 | Accuracy: 90.625%\n",
            "GB | Epoch 3 | Loss: 0.3120812773704529 | Accuracy: 93.75%\n",
            "GB | Epoch 3 | Loss: 0.37243473529815674 | Accuracy: 85.9375%\n",
            "GB | Epoch 3 | Loss: 0.36312493681907654 | Accuracy: 90.625%\n"
          ]
        },
        {
          "output_type": "stream",
          "name": "stderr",
          "text": [
            "Epoch 3:  65%|██████▌   | 491/751 [00:14<00:06, 39.06batch/s, accuracy=93.75%, loss=0.291]"
          ]
        },
        {
          "output_type": "stream",
          "name": "stdout",
          "text": [
            "GB | Epoch 3 | Loss: 0.43763118982315063 | Accuracy: 89.0625%\n",
            "GB | Epoch 3 | Loss: 0.42411714792251587 | Accuracy: 90.625%\n",
            "GB | Epoch 3 | Loss: 0.3348464071750641 | Accuracy: 87.5%\n",
            "GB | Epoch 3 | Loss: 0.4528033435344696 | Accuracy: 85.9375%\n",
            "GB | Epoch 3 | Loss: 0.4120258688926697 | Accuracy: 89.0625%\n",
            "GB | Epoch 3 | Loss: 0.45859864354133606 | Accuracy: 84.375%\n",
            "GB | Epoch 3 | Loss: 0.2725296914577484 | Accuracy: 93.75%\n",
            "GB | Epoch 3 | Loss: 0.29128292202949524 | Accuracy: 93.75%\n"
          ]
        },
        {
          "output_type": "stream",
          "name": "stderr",
          "text": [
            "Epoch 3:  67%|██████▋   | 500/751 [00:14<00:06, 39.41batch/s, accuracy=90.625%, loss=0.401]"
          ]
        },
        {
          "output_type": "stream",
          "name": "stdout",
          "text": [
            "GB | Epoch 3 | Loss: 0.21450668573379517 | Accuracy: 96.875%\n",
            "GB | Epoch 3 | Loss: 0.2186126559972763 | Accuracy: 93.75%\n",
            "GB | Epoch 3 | Loss: 0.4359882175922394 | Accuracy: 90.625%\n",
            "GB | Epoch 3 | Loss: 0.23388805985450745 | Accuracy: 93.75%\n",
            "GB | Epoch 3 | Loss: 0.3406177759170532 | Accuracy: 90.625%\n",
            "GB | Epoch 3 | Loss: 0.3489856719970703 | Accuracy: 90.625%\n",
            "GB | Epoch 3 | Loss: 0.42065054178237915 | Accuracy: 81.25%\n",
            "GB | Epoch 3 | Loss: 0.31523776054382324 | Accuracy: 95.3125%\n",
            "GB | Epoch 3 | Loss: 0.40070149302482605 | Accuracy: 90.625%\n"
          ]
        },
        {
          "output_type": "stream",
          "name": "stderr",
          "text": [
            "Epoch 3:  67%|██████▋   | 505/751 [00:14<00:06, 39.19batch/s, accuracy=84.375%, loss=0.435]"
          ]
        },
        {
          "output_type": "stream",
          "name": "stdout",
          "text": [
            "GB | Epoch 3 | Loss: 0.4745737314224243 | Accuracy: 79.6875%\n",
            "GB | Epoch 3 | Loss: 0.37559330463409424 | Accuracy: 85.9375%\n",
            "GB | Epoch 3 | Loss: 0.2744429111480713 | Accuracy: 90.625%\n",
            "GB | Epoch 3 | Loss: 0.4174337685108185 | Accuracy: 82.8125%\n",
            "GB | Epoch 3 | Loss: 0.4222663640975952 | Accuracy: 89.0625%\n",
            "GB | Epoch 3 | Loss: 0.397816926240921 | Accuracy: 84.375%\n",
            "GB | Epoch 3 | Loss: 0.2682282030582428 | Accuracy: 93.75%\n",
            "GB | Epoch 3 | Loss: 0.4349459707736969 | Accuracy: 84.375%\n"
          ]
        },
        {
          "output_type": "stream",
          "name": "stderr",
          "text": [
            "Epoch 3:  68%|██████▊   | 513/751 [00:14<00:06, 38.64batch/s, accuracy=87.5%, loss=0.344]   "
          ]
        },
        {
          "output_type": "stream",
          "name": "stdout",
          "text": [
            "GB | Epoch 3 | Loss: 0.3367042541503906 | Accuracy: 90.625%\n",
            "GB | Epoch 3 | Loss: 0.41064420342445374 | Accuracy: 89.0625%\n",
            "GB | Epoch 3 | Loss: 0.281080424785614 | Accuracy: 92.1875%\n",
            "GB | Epoch 3 | Loss: 0.34883666038513184 | Accuracy: 89.0625%\n",
            "GB | Epoch 3 | Loss: 0.4889237880706787 | Accuracy: 85.9375%\n",
            "GB | Epoch 3 | Loss: 0.31278952956199646 | Accuracy: 85.9375%\n",
            "GB | Epoch 3 | Loss: 0.34360095858573914 | Accuracy: 87.5%\n"
          ]
        },
        {
          "output_type": "stream",
          "name": "stderr",
          "text": [
            "Epoch 3:  70%|██████▉   | 522/751 [00:14<00:06, 37.61batch/s, accuracy=84.375%, loss=0.511]"
          ]
        },
        {
          "output_type": "stream",
          "name": "stdout",
          "text": [
            "GB | Epoch 3 | Loss: 0.3903804123401642 | Accuracy: 90.625%\n",
            "GB | Epoch 3 | Loss: 0.30111780762672424 | Accuracy: 90.625%\n",
            "GB | Epoch 3 | Loss: 0.5642726421356201 | Accuracy: 84.375%\n",
            "GB | Epoch 3 | Loss: 0.3268040418624878 | Accuracy: 85.9375%\n",
            "GB | Epoch 3 | Loss: 0.36589038372039795 | Accuracy: 90.625%\n",
            "GB | Epoch 3 | Loss: 0.43173205852508545 | Accuracy: 87.5%\n",
            "GB | Epoch 3 | Loss: 0.30040442943573 | Accuracy: 93.75%\n",
            "GB | Epoch 3 | Loss: 0.37566229701042175 | Accuracy: 90.625%\n",
            "GB | Epoch 3 | Loss: 0.510892391204834 | Accuracy: 84.375%\n"
          ]
        },
        {
          "output_type": "stream",
          "name": "stderr",
          "text": [
            "Epoch 3:  71%|███████   | 531/751 [00:15<00:05, 38.54batch/s, accuracy=93.75%, loss=0.284]"
          ]
        },
        {
          "output_type": "stream",
          "name": "stdout",
          "text": [
            "GB | Epoch 3 | Loss: 0.35340264439582825 | Accuracy: 85.9375%\n",
            "GB | Epoch 3 | Loss: 0.33821022510528564 | Accuracy: 89.0625%\n",
            "GB | Epoch 3 | Loss: 0.27043887972831726 | Accuracy: 92.1875%\n",
            "GB | Epoch 3 | Loss: 0.27061229944229126 | Accuracy: 93.75%\n",
            "GB | Epoch 3 | Loss: 0.254149466753006 | Accuracy: 89.0625%\n",
            "GB | Epoch 3 | Loss: 0.4241239130496979 | Accuracy: 85.9375%\n",
            "GB | Epoch 3 | Loss: 0.32373887300491333 | Accuracy: 93.75%\n",
            "GB | Epoch 3 | Loss: 0.28373298048973083 | Accuracy: 93.75%\n"
          ]
        },
        {
          "output_type": "stream",
          "name": "stderr",
          "text": [
            "Epoch 3:  72%|███████▏  | 540/751 [00:15<00:05, 38.93batch/s, accuracy=81.25%, loss=0.427]"
          ]
        },
        {
          "output_type": "stream",
          "name": "stdout",
          "text": [
            "GB | Epoch 3 | Loss: 0.22154660522937775 | Accuracy: 95.3125%\n",
            "GB | Epoch 3 | Loss: 0.2823484241962433 | Accuracy: 93.75%\n",
            "GB | Epoch 3 | Loss: 0.2803821563720703 | Accuracy: 92.1875%\n",
            "GB | Epoch 3 | Loss: 0.32697978615760803 | Accuracy: 90.625%\n",
            "GB | Epoch 3 | Loss: 0.33751481771469116 | Accuracy: 90.625%\n",
            "GB | Epoch 3 | Loss: 0.263221800327301 | Accuracy: 93.75%\n",
            "GB | Epoch 3 | Loss: 0.3558974266052246 | Accuracy: 89.0625%\n",
            "GB | Epoch 3 | Loss: 0.42658674716949463 | Accuracy: 81.25%\n"
          ]
        },
        {
          "output_type": "stream",
          "name": "stderr",
          "text": [
            "Epoch 3:  73%|███████▎  | 548/751 [00:15<00:05, 38.77batch/s, accuracy=89.0625%, loss=0.365]"
          ]
        },
        {
          "output_type": "stream",
          "name": "stdout",
          "text": [
            "GB | Epoch 3 | Loss: 0.4218290448188782 | Accuracy: 85.9375%\n",
            "GB | Epoch 3 | Loss: 0.36130642890930176 | Accuracy: 82.8125%\n",
            "GB | Epoch 3 | Loss: 0.37101873755455017 | Accuracy: 87.5%\n",
            "GB | Epoch 3 | Loss: 0.25742271542549133 | Accuracy: 93.75%\n",
            "GB | Epoch 3 | Loss: 0.2865297794342041 | Accuracy: 90.625%\n",
            "GB | Epoch 3 | Loss: 0.3799348771572113 | Accuracy: 85.9375%\n",
            "GB | Epoch 3 | Loss: 0.3120090663433075 | Accuracy: 89.0625%\n",
            "GB | Epoch 3 | Loss: 0.365323930978775 | Accuracy: 89.0625%\n"
          ]
        },
        {
          "output_type": "stream",
          "name": "stderr",
          "text": [
            "Epoch 3:  74%|███████▍  | 556/751 [00:15<00:05, 36.66batch/s, accuracy=89.0625%, loss=0.372]"
          ]
        },
        {
          "output_type": "stream",
          "name": "stdout",
          "text": [
            "GB | Epoch 3 | Loss: 0.3196702003479004 | Accuracy: 92.1875%\n",
            "GB | Epoch 3 | Loss: 0.3164806067943573 | Accuracy: 87.5%\n",
            "GB | Epoch 3 | Loss: 0.30282196402549744 | Accuracy: 87.5%\n",
            "GB | Epoch 3 | Loss: 0.31063222885131836 | Accuracy: 93.75%\n",
            "GB | Epoch 3 | Loss: 0.31844937801361084 | Accuracy: 89.0625%\n",
            "GB | Epoch 3 | Loss: 0.3796665370464325 | Accuracy: 90.625%\n",
            "GB | Epoch 3 | Loss: 0.32471466064453125 | Accuracy: 84.375%\n",
            "GB | Epoch 3 | Loss: 0.37248024344444275 | Accuracy: 89.0625%\n"
          ]
        },
        {
          "output_type": "stream",
          "name": "stderr",
          "text": [
            "Epoch 3:  75%|███████▌  | 564/751 [00:16<00:05, 37.11batch/s, accuracy=87.5%, loss=0.366]"
          ]
        },
        {
          "output_type": "stream",
          "name": "stdout",
          "text": [
            "GB | Epoch 3 | Loss: 0.38976308703422546 | Accuracy: 90.625%\n",
            "GB | Epoch 3 | Loss: 0.2759459316730499 | Accuracy: 95.3125%\n",
            "GB | Epoch 3 | Loss: 0.2435445487499237 | Accuracy: 92.1875%\n",
            "GB | Epoch 3 | Loss: 0.2769858241081238 | Accuracy: 87.5%\n",
            "GB | Epoch 3 | Loss: 0.24138617515563965 | Accuracy: 95.3125%\n",
            "GB | Epoch 3 | Loss: 0.37075552344322205 | Accuracy: 85.9375%\n",
            "GB | Epoch 3 | Loss: 0.2585238218307495 | Accuracy: 89.0625%\n",
            "GB | Epoch 3 | Loss: 0.365804523229599 | Accuracy: 87.5%\n"
          ]
        },
        {
          "output_type": "stream",
          "name": "stderr",
          "text": [
            "Epoch 3:  76%|███████▌  | 572/751 [00:16<00:04, 37.90batch/s, accuracy=89.0625%, loss=0.384]"
          ]
        },
        {
          "output_type": "stream",
          "name": "stdout",
          "text": [
            "GB | Epoch 3 | Loss: 0.4070155918598175 | Accuracy: 92.1875%\n",
            "GB | Epoch 3 | Loss: 0.484508216381073 | Accuracy: 89.0625%\n",
            "GB | Epoch 3 | Loss: 0.2909054458141327 | Accuracy: 93.75%\n",
            "GB | Epoch 3 | Loss: 0.3013613522052765 | Accuracy: 95.3125%\n",
            "GB | Epoch 3 | Loss: 0.39182624220848083 | Accuracy: 87.5%\n",
            "GB | Epoch 3 | Loss: 0.3303854763507843 | Accuracy: 89.0625%\n",
            "GB | Epoch 3 | Loss: 0.24846862256526947 | Accuracy: 93.75%\n",
            "GB | Epoch 3 | Loss: 0.34721365571022034 | Accuracy: 82.8125%\n",
            "GB | Epoch 3 | Loss: 0.38432955741882324 | Accuracy: 89.0625%\n"
          ]
        },
        {
          "output_type": "stream",
          "name": "stderr",
          "text": [
            "Epoch 3:  77%|███████▋  | 581/751 [00:16<00:04, 38.76batch/s, accuracy=84.375%, loss=0.326]"
          ]
        },
        {
          "output_type": "stream",
          "name": "stdout",
          "text": [
            "GB | Epoch 3 | Loss: 0.35586026310920715 | Accuracy: 90.625%\n",
            "GB | Epoch 3 | Loss: 0.36076831817626953 | Accuracy: 92.1875%\n",
            "GB | Epoch 3 | Loss: 0.3440284729003906 | Accuracy: 87.5%\n",
            "GB | Epoch 3 | Loss: 0.41103488206863403 | Accuracy: 79.6875%\n",
            "GB | Epoch 3 | Loss: 0.35576725006103516 | Accuracy: 90.625%\n",
            "GB | Epoch 3 | Loss: 0.3889520764350891 | Accuracy: 85.9375%\n",
            "GB | Epoch 3 | Loss: 0.39969775080680847 | Accuracy: 89.0625%\n",
            "GB | Epoch 3 | Loss: 0.3256557881832123 | Accuracy: 84.375%\n"
          ]
        },
        {
          "output_type": "stream",
          "name": "stderr",
          "text": [
            "Epoch 3:  78%|███████▊  | 589/751 [00:16<00:04, 38.32batch/s, accuracy=84.375%, loss=0.286]"
          ]
        },
        {
          "output_type": "stream",
          "name": "stdout",
          "text": [
            "GB | Epoch 3 | Loss: 0.563614547252655 | Accuracy: 82.8125%\n",
            "GB | Epoch 3 | Loss: 0.2641376554965973 | Accuracy: 95.3125%\n",
            "GB | Epoch 3 | Loss: 0.4004226624965668 | Accuracy: 85.9375%\n",
            "GB | Epoch 3 | Loss: 0.2863922417163849 | Accuracy: 89.0625%\n",
            "GB | Epoch 3 | Loss: 0.299119234085083 | Accuracy: 87.5%\n",
            "GB | Epoch 3 | Loss: 0.35801583528518677 | Accuracy: 87.5%\n",
            "GB | Epoch 3 | Loss: 0.3878326714038849 | Accuracy: 89.0625%\n",
            "GB | Epoch 3 | Loss: 0.2864769995212555 | Accuracy: 84.375%\n"
          ]
        },
        {
          "output_type": "stream",
          "name": "stderr",
          "text": [
            "Epoch 3:  79%|███████▉  | 597/751 [00:16<00:04, 36.52batch/s, accuracy=92.1875%, loss=0.357]"
          ]
        },
        {
          "output_type": "stream",
          "name": "stdout",
          "text": [
            "GB | Epoch 3 | Loss: 0.3174082338809967 | Accuracy: 90.625%\n",
            "GB | Epoch 3 | Loss: 0.20765525102615356 | Accuracy: 92.1875%\n",
            "GB | Epoch 3 | Loss: 0.28279346227645874 | Accuracy: 93.75%\n",
            "GB | Epoch 3 | Loss: 0.31005311012268066 | Accuracy: 85.9375%\n",
            "GB | Epoch 3 | Loss: 0.2765519320964813 | Accuracy: 93.75%\n",
            "GB | Epoch 3 | Loss: 0.2940364480018616 | Accuracy: 93.75%\n",
            "GB | Epoch 3 | Loss: 0.41938936710357666 | Accuracy: 85.9375%\n",
            "GB | Epoch 3 | Loss: 0.35742294788360596 | Accuracy: 92.1875%\n"
          ]
        },
        {
          "output_type": "stream",
          "name": "stderr",
          "text": [
            "Epoch 3:  81%|████████  | 606/751 [00:17<00:03, 38.54batch/s, accuracy=84.375%, loss=0.354]"
          ]
        },
        {
          "output_type": "stream",
          "name": "stdout",
          "text": [
            "GB | Epoch 3 | Loss: 0.22264696657657623 | Accuracy: 95.3125%\n",
            "GB | Epoch 3 | Loss: 0.18965062499046326 | Accuracy: 95.3125%\n",
            "GB | Epoch 3 | Loss: 0.4090515375137329 | Accuracy: 82.8125%\n",
            "GB | Epoch 3 | Loss: 0.2962706387042999 | Accuracy: 87.5%\n",
            "GB | Epoch 3 | Loss: 0.34411394596099854 | Accuracy: 90.625%\n",
            "GB | Epoch 3 | Loss: 0.2897081673145294 | Accuracy: 90.625%\n",
            "GB | Epoch 3 | Loss: 0.3802996575832367 | Accuracy: 87.5%\n",
            "GB | Epoch 3 | Loss: 0.35562095046043396 | Accuracy: 90.625%\n",
            "GB | Epoch 3 | Loss: 0.3542651832103729 | Accuracy: 84.375%\n"
          ]
        },
        {
          "output_type": "stream",
          "name": "stderr",
          "text": [
            "Epoch 3:  82%|████████▏ | 614/751 [00:17<00:03, 38.53batch/s, accuracy=90.625%, loss=0.318]"
          ]
        },
        {
          "output_type": "stream",
          "name": "stdout",
          "text": [
            "GB | Epoch 3 | Loss: 0.3243788778781891 | Accuracy: 92.1875%\n",
            "GB | Epoch 3 | Loss: 0.23528769612312317 | Accuracy: 93.75%\n",
            "GB | Epoch 3 | Loss: 0.40464654564857483 | Accuracy: 84.375%\n",
            "GB | Epoch 3 | Loss: 0.26854759454727173 | Accuracy: 95.3125%\n",
            "GB | Epoch 3 | Loss: 0.23758964240550995 | Accuracy: 93.75%\n",
            "GB | Epoch 3 | Loss: 0.29350870847702026 | Accuracy: 90.625%\n",
            "GB | Epoch 3 | Loss: 0.24273425340652466 | Accuracy: 95.3125%\n",
            "GB | Epoch 3 | Loss: 0.31808462738990784 | Accuracy: 90.625%\n"
          ]
        },
        {
          "output_type": "stream",
          "name": "stderr",
          "text": [
            "Epoch 3:  83%|████████▎ | 622/751 [00:17<00:03, 38.44batch/s, accuracy=89.0625%, loss=0.326]"
          ]
        },
        {
          "output_type": "stream",
          "name": "stdout",
          "text": [
            "GB | Epoch 3 | Loss: 0.288926362991333 | Accuracy: 90.625%\n",
            "GB | Epoch 3 | Loss: 0.449368953704834 | Accuracy: 82.8125%\n",
            "GB | Epoch 3 | Loss: 0.4616210162639618 | Accuracy: 85.9375%\n",
            "GB | Epoch 3 | Loss: 0.251111775636673 | Accuracy: 93.75%\n",
            "GB | Epoch 3 | Loss: 0.3628484904766083 | Accuracy: 87.5%\n",
            "GB | Epoch 3 | Loss: 0.2936687469482422 | Accuracy: 92.1875%\n",
            "GB | Epoch 3 | Loss: 0.34432074427604675 | Accuracy: 89.0625%\n",
            "GB | Epoch 3 | Loss: 0.5461380481719971 | Accuracy: 79.6875%\n",
            "GB | Epoch 3 | Loss: 0.3263147473335266 | Accuracy: 89.0625%\n"
          ]
        },
        {
          "output_type": "stream",
          "name": "stderr",
          "text": [
            "Epoch 3:  84%|████████▍ | 631/751 [00:17<00:03, 38.61batch/s, accuracy=85.9375%, loss=0.272]"
          ]
        },
        {
          "output_type": "stream",
          "name": "stdout",
          "text": [
            "GB | Epoch 3 | Loss: 0.22761812806129456 | Accuracy: 92.1875%\n",
            "GB | Epoch 3 | Loss: 0.27355489134788513 | Accuracy: 90.625%\n",
            "GB | Epoch 3 | Loss: 0.24037660658359528 | Accuracy: 95.3125%\n",
            "GB | Epoch 3 | Loss: 0.26466280221939087 | Accuracy: 90.625%\n",
            "GB | Epoch 3 | Loss: 0.2276916205883026 | Accuracy: 93.75%\n",
            "GB | Epoch 3 | Loss: 0.321912944316864 | Accuracy: 89.0625%\n",
            "GB | Epoch 3 | Loss: 0.2821083068847656 | Accuracy: 90.625%\n",
            "GB | Epoch 3 | Loss: 0.2724912762641907 | Accuracy: 85.9375%\n"
          ]
        },
        {
          "output_type": "stream",
          "name": "stderr",
          "text": [
            "Epoch 3:  85%|████████▌ | 639/751 [00:18<00:02, 37.38batch/s, accuracy=95.3125%, loss=0.199]"
          ]
        },
        {
          "output_type": "stream",
          "name": "stdout",
          "text": [
            "GB | Epoch 3 | Loss: 0.31775662302970886 | Accuracy: 87.5%\n",
            "GB | Epoch 3 | Loss: 0.33892351388931274 | Accuracy: 87.5%\n",
            "GB | Epoch 3 | Loss: 0.47262316942214966 | Accuracy: 85.9375%\n",
            "GB | Epoch 3 | Loss: 0.3212257921695709 | Accuracy: 85.9375%\n",
            "GB | Epoch 3 | Loss: 0.31308409571647644 | Accuracy: 89.0625%\n",
            "GB | Epoch 3 | Loss: 0.23609282076358795 | Accuracy: 89.0625%\n",
            "GB | Epoch 3 | Loss: 0.4334268271923065 | Accuracy: 92.1875%\n",
            "GB | Epoch 3 | Loss: 0.19936105608940125 | Accuracy: 95.3125%\n"
          ]
        },
        {
          "output_type": "stream",
          "name": "stderr",
          "text": [
            "Epoch 3:  86%|████████▌ | 647/751 [00:18<00:02, 38.21batch/s, accuracy=89.0625%, loss=0.414]"
          ]
        },
        {
          "output_type": "stream",
          "name": "stdout",
          "text": [
            "GB | Epoch 3 | Loss: 0.2769361436367035 | Accuracy: 93.75%\n",
            "GB | Epoch 3 | Loss: 0.3144820034503937 | Accuracy: 90.625%\n",
            "GB | Epoch 3 | Loss: 0.32165098190307617 | Accuracy: 90.625%\n",
            "GB | Epoch 3 | Loss: 0.2237691879272461 | Accuracy: 95.3125%\n",
            "GB | Epoch 3 | Loss: 0.19893282651901245 | Accuracy: 96.875%\n",
            "GB | Epoch 3 | Loss: 0.24597039818763733 | Accuracy: 93.75%\n",
            "GB | Epoch 3 | Loss: 0.3360576927661896 | Accuracy: 90.625%\n",
            "GB | Epoch 3 | Loss: 0.20924289524555206 | Accuracy: 92.1875%\n",
            "GB | Epoch 3 | Loss: 0.41390326619148254 | Accuracy: 89.0625%\n"
          ]
        },
        {
          "output_type": "stream",
          "name": "stderr",
          "text": [
            "Epoch 3:  87%|████████▋ | 655/751 [00:18<00:02, 38.84batch/s, accuracy=89.0625%, loss=0.307]"
          ]
        },
        {
          "output_type": "stream",
          "name": "stdout",
          "text": [
            "GB | Epoch 3 | Loss: 0.31688380241394043 | Accuracy: 92.1875%\n",
            "GB | Epoch 3 | Loss: 0.22978703677654266 | Accuracy: 92.1875%\n",
            "GB | Epoch 3 | Loss: 0.176315575838089 | Accuracy: 93.75%\n",
            "GB | Epoch 3 | Loss: 0.32073724269866943 | Accuracy: 92.1875%\n",
            "GB | Epoch 3 | Loss: 0.26463744044303894 | Accuracy: 89.0625%\n",
            "GB | Epoch 3 | Loss: 0.24937625229358673 | Accuracy: 87.5%\n",
            "GB | Epoch 3 | Loss: 0.2852250039577484 | Accuracy: 87.5%\n",
            "GB | Epoch 3 | Loss: 0.30702894926071167 | Accuracy: 89.0625%\n"
          ]
        },
        {
          "output_type": "stream",
          "name": "stderr",
          "text": [
            "Epoch 3:  88%|████████▊ | 664/751 [00:18<00:02, 39.33batch/s, accuracy=87.5%, loss=0.375]"
          ]
        },
        {
          "output_type": "stream",
          "name": "stdout",
          "text": [
            "GB | Epoch 3 | Loss: 0.19598926603794098 | Accuracy: 98.4375%\n",
            "GB | Epoch 3 | Loss: 0.3568131923675537 | Accuracy: 87.5%\n",
            "GB | Epoch 3 | Loss: 0.2445661425590515 | Accuracy: 92.1875%\n",
            "GB | Epoch 3 | Loss: 0.26938217878341675 | Accuracy: 93.75%\n",
            "GB | Epoch 3 | Loss: 0.2824713885784149 | Accuracy: 93.75%\n",
            "GB | Epoch 3 | Loss: 0.2839111089706421 | Accuracy: 92.1875%\n",
            "GB | Epoch 3 | Loss: 0.31665217876434326 | Accuracy: 96.875%\n",
            "GB | Epoch 3 | Loss: 0.3752119541168213 | Accuracy: 87.5%\n"
          ]
        },
        {
          "output_type": "stream",
          "name": "stderr",
          "text": [
            "Epoch 3:  90%|████████▉ | 673/751 [00:18<00:01, 39.69batch/s, accuracy=93.75%, loss=0.241]"
          ]
        },
        {
          "output_type": "stream",
          "name": "stdout",
          "text": [
            "GB | Epoch 3 | Loss: 0.2083728313446045 | Accuracy: 93.75%\n",
            "GB | Epoch 3 | Loss: 0.22834934294223785 | Accuracy: 93.75%\n",
            "GB | Epoch 3 | Loss: 0.6063315868377686 | Accuracy: 85.9375%\n",
            "GB | Epoch 3 | Loss: 0.3344556391239166 | Accuracy: 89.0625%\n",
            "GB | Epoch 3 | Loss: 0.2873428165912628 | Accuracy: 92.1875%\n",
            "GB | Epoch 3 | Loss: 0.26604485511779785 | Accuracy: 93.75%\n",
            "GB | Epoch 3 | Loss: 0.3470868170261383 | Accuracy: 89.0625%\n",
            "GB | Epoch 3 | Loss: 0.19951455295085907 | Accuracy: 93.75%\n",
            "GB | Epoch 3 | Loss: 0.241244837641716 | Accuracy: 93.75%\n"
          ]
        },
        {
          "output_type": "stream",
          "name": "stderr",
          "text": [
            "Epoch 3:  90%|█████████ | 677/751 [00:19<00:02, 36.25batch/s, accuracy=84.375%, loss=0.431] "
          ]
        },
        {
          "output_type": "stream",
          "name": "stdout",
          "text": [
            "GB | Epoch 3 | Loss: 0.2660147249698639 | Accuracy: 93.75%\n",
            "GB | Epoch 3 | Loss: 0.3869245648384094 | Accuracy: 87.5%\n",
            "GB | Epoch 3 | Loss: 0.34876662492752075 | Accuracy: 90.625%\n",
            "GB | Epoch 3 | Loss: 0.23875656723976135 | Accuracy: 92.1875%\n",
            "GB | Epoch 3 | Loss: 0.3661086857318878 | Accuracy: 87.5%\n",
            "GB | Epoch 3 | Loss: 0.27742812037467957 | Accuracy: 92.1875%\n",
            "GB | Epoch 3 | Loss: 0.43144485354423523 | Accuracy: 84.375%\n"
          ]
        },
        {
          "output_type": "stream",
          "name": "stderr",
          "text": [
            "Epoch 3:  91%|█████████▏| 686/751 [00:19<00:01, 37.76batch/s, accuracy=95.3125%, loss=0.26] "
          ]
        },
        {
          "output_type": "stream",
          "name": "stdout",
          "text": [
            "GB | Epoch 3 | Loss: 0.2752804160118103 | Accuracy: 93.75%\n",
            "GB | Epoch 3 | Loss: 0.2410532832145691 | Accuracy: 92.1875%\n",
            "GB | Epoch 3 | Loss: 0.22258497774600983 | Accuracy: 93.75%\n",
            "GB | Epoch 3 | Loss: 0.270210862159729 | Accuracy: 93.75%\n",
            "GB | Epoch 3 | Loss: 0.22433173656463623 | Accuracy: 92.1875%\n",
            "GB | Epoch 3 | Loss: 0.28309255838394165 | Accuracy: 89.0625%\n",
            "GB | Epoch 3 | Loss: 0.18178899586200714 | Accuracy: 96.875%\n",
            "GB | Epoch 3 | Loss: 0.33087608218193054 | Accuracy: 82.8125%\n",
            "GB | Epoch 3 | Loss: 0.2596800625324249 | Accuracy: 95.3125%\n"
          ]
        },
        {
          "output_type": "stream",
          "name": "stderr",
          "text": [
            "Epoch 3:  92%|█████████▏| 694/751 [00:19<00:01, 38.55batch/s, accuracy=92.1875%, loss=0.192]"
          ]
        },
        {
          "output_type": "stream",
          "name": "stdout",
          "text": [
            "GB | Epoch 3 | Loss: 0.24710193276405334 | Accuracy: 92.1875%\n",
            "GB | Epoch 3 | Loss: 0.3800654411315918 | Accuracy: 90.625%\n",
            "GB | Epoch 3 | Loss: 0.2204371690750122 | Accuracy: 92.1875%\n",
            "GB | Epoch 3 | Loss: 0.29670068621635437 | Accuracy: 89.0625%\n",
            "GB | Epoch 3 | Loss: 0.25032827258110046 | Accuracy: 92.1875%\n",
            "GB | Epoch 3 | Loss: 0.3240828812122345 | Accuracy: 87.5%\n",
            "GB | Epoch 3 | Loss: 0.3222874402999878 | Accuracy: 89.0625%\n",
            "GB | Epoch 3 | Loss: 0.1998092234134674 | Accuracy: 93.75%\n",
            "GB | Epoch 3 | Loss: 0.19235637784004211 | Accuracy: 92.1875%\n"
          ]
        },
        {
          "output_type": "stream",
          "name": "stderr",
          "text": [
            "Epoch 3:  94%|█████████▎| 703/751 [00:19<00:01, 39.17batch/s, accuracy=93.75%, loss=0.259]  "
          ]
        },
        {
          "output_type": "stream",
          "name": "stdout",
          "text": [
            "GB | Epoch 3 | Loss: 0.24253877997398376 | Accuracy: 95.3125%\n",
            "GB | Epoch 3 | Loss: 0.2566610276699066 | Accuracy: 92.1875%\n",
            "GB | Epoch 3 | Loss: 0.4460817575454712 | Accuracy: 89.0625%\n",
            "GB | Epoch 3 | Loss: 0.23538856208324432 | Accuracy: 95.3125%\n",
            "GB | Epoch 3 | Loss: 0.28482484817504883 | Accuracy: 89.0625%\n",
            "GB | Epoch 3 | Loss: 0.4082030653953552 | Accuracy: 82.8125%\n",
            "GB | Epoch 3 | Loss: 0.25387418270111084 | Accuracy: 92.1875%\n",
            "GB | Epoch 3 | Loss: 0.2592085003852844 | Accuracy: 93.75%\n"
          ]
        },
        {
          "output_type": "stream",
          "name": "stderr",
          "text": [
            "Epoch 3:  95%|█████████▍| 711/751 [00:19<00:01, 38.59batch/s, accuracy=93.75%, loss=0.265]  "
          ]
        },
        {
          "output_type": "stream",
          "name": "stdout",
          "text": [
            "GB | Epoch 3 | Loss: 0.3284539580345154 | Accuracy: 92.1875%\n",
            "GB | Epoch 3 | Loss: 0.30833569169044495 | Accuracy: 90.625%\n",
            "GB | Epoch 3 | Loss: 0.2857849597930908 | Accuracy: 92.1875%\n",
            "GB | Epoch 3 | Loss: 0.19743286073207855 | Accuracy: 95.3125%\n",
            "GB | Epoch 3 | Loss: 0.398966521024704 | Accuracy: 92.1875%\n",
            "GB | Epoch 3 | Loss: 0.20775333046913147 | Accuracy: 96.875%\n",
            "GB | Epoch 3 | Loss: 0.24054083228111267 | Accuracy: 89.0625%\n",
            "GB | Epoch 3 | Loss: 0.2653462588787079 | Accuracy: 93.75%\n"
          ]
        },
        {
          "output_type": "stream",
          "name": "stderr",
          "text": [
            "Epoch 3:  96%|█████████▌| 719/751 [00:20<00:00, 36.77batch/s, accuracy=93.75%, loss=0.205]"
          ]
        },
        {
          "output_type": "stream",
          "name": "stdout",
          "text": [
            "GB | Epoch 3 | Loss: 0.43136322498321533 | Accuracy: 89.0625%\n",
            "GB | Epoch 3 | Loss: 0.26845961809158325 | Accuracy: 95.3125%\n",
            "GB | Epoch 3 | Loss: 0.35514214634895325 | Accuracy: 89.0625%\n",
            "GB | Epoch 3 | Loss: 0.2548866868019104 | Accuracy: 87.5%\n",
            "GB | Epoch 3 | Loss: 0.36737433075904846 | Accuracy: 89.0625%\n",
            "GB | Epoch 3 | Loss: 0.1725262552499771 | Accuracy: 93.75%\n",
            "GB | Epoch 3 | Loss: 0.258715957403183 | Accuracy: 93.75%\n",
            "GB | Epoch 3 | Loss: 0.2051248848438263 | Accuracy: 93.75%\n"
          ]
        },
        {
          "output_type": "stream",
          "name": "stderr",
          "text": [
            "Epoch 3:  97%|█████████▋| 727/751 [00:20<00:00, 37.85batch/s, accuracy=85.9375%, loss=0.288]"
          ]
        },
        {
          "output_type": "stream",
          "name": "stdout",
          "text": [
            "GB | Epoch 3 | Loss: 0.3100799322128296 | Accuracy: 87.5%\n",
            "GB | Epoch 3 | Loss: 0.32046306133270264 | Accuracy: 92.1875%\n",
            "GB | Epoch 3 | Loss: 0.28508347272872925 | Accuracy: 93.75%\n",
            "GB | Epoch 3 | Loss: 0.2664952278137207 | Accuracy: 92.1875%\n",
            "GB | Epoch 3 | Loss: 0.24046063423156738 | Accuracy: 93.75%\n",
            "GB | Epoch 3 | Loss: 0.30462369322776794 | Accuracy: 92.1875%\n",
            "GB | Epoch 3 | Loss: 0.24549825489521027 | Accuracy: 93.75%\n",
            "GB | Epoch 3 | Loss: 0.18623368442058563 | Accuracy: 93.75%\n",
            "GB | Epoch 3 | Loss: 0.2875157296657562 | Accuracy: 85.9375%\n"
          ]
        },
        {
          "output_type": "stream",
          "name": "stderr",
          "text": [
            "Epoch 3:  98%|█████████▊| 736/751 [00:20<00:00, 38.49batch/s, accuracy=95.3125%, loss=0.34]"
          ]
        },
        {
          "output_type": "stream",
          "name": "stdout",
          "text": [
            "GB | Epoch 3 | Loss: 0.379734069108963 | Accuracy: 90.625%\n",
            "GB | Epoch 3 | Loss: 0.23293812572956085 | Accuracy: 92.1875%\n",
            "GB | Epoch 3 | Loss: 0.24536755681037903 | Accuracy: 93.75%\n",
            "GB | Epoch 3 | Loss: 0.3071303069591522 | Accuracy: 92.1875%\n",
            "GB | Epoch 3 | Loss: 0.2103518843650818 | Accuracy: 96.875%\n",
            "GB | Epoch 3 | Loss: 0.39136725664138794 | Accuracy: 82.8125%\n",
            "GB | Epoch 3 | Loss: 0.2954312860965729 | Accuracy: 90.625%\n",
            "GB | Epoch 3 | Loss: 0.3398210406303406 | Accuracy: 95.3125%\n"
          ]
        },
        {
          "output_type": "stream",
          "name": "stderr",
          "text": [
            "Epoch 3:  99%|█████████▉| 744/751 [00:20<00:00, 38.54batch/s, accuracy=96.875%, loss=0.17]  "
          ]
        },
        {
          "output_type": "stream",
          "name": "stdout",
          "text": [
            "GB | Epoch 3 | Loss: 0.16657379269599915 | Accuracy: 96.875%\n",
            "GB | Epoch 3 | Loss: 0.34629929065704346 | Accuracy: 90.625%\n",
            "GB | Epoch 3 | Loss: 0.19768714904785156 | Accuracy: 95.3125%\n",
            "GB | Epoch 3 | Loss: 0.1653946042060852 | Accuracy: 90.625%\n",
            "GB | Epoch 3 | Loss: 0.36387863755226135 | Accuracy: 92.1875%\n",
            "GB | Epoch 3 | Loss: 0.2443123161792755 | Accuracy: 92.1875%\n",
            "GB | Epoch 3 | Loss: 0.20446191728115082 | Accuracy: 92.1875%\n",
            "GB | Epoch 3 | Loss: 0.24497319757938385 | Accuracy: 92.1875%\n"
          ]
        },
        {
          "output_type": "stream",
          "name": "stderr",
          "text": [
            "Epoch 3: 100%|██████████| 751/751 [00:21<00:00, 35.68batch/s, accuracy=100.0%, loss=0.221]"
          ]
        },
        {
          "output_type": "stream",
          "name": "stdout",
          "text": [
            "GB | Epoch 3 | Loss: 0.17035385966300964 | Accuracy: 96.875%\n",
            "GB | Epoch 3 | Loss: 0.2636408507823944 | Accuracy: 87.5%\n",
            "GB | Epoch 3 | Loss: 0.41225123405456543 | Accuracy: 89.0625%\n",
            "GB | Epoch 3 | Loss: 0.22134913504123688 | Accuracy: 100.0%\n"
          ]
        },
        {
          "output_type": "stream",
          "name": "stderr",
          "text": [
            "\n",
            "Epoch 4:   1%|          | 4/751 [00:00<01:03, 11.84batch/s, accuracy=89.0625%, loss=0.291]"
          ]
        },
        {
          "output_type": "stream",
          "name": "stdout",
          "text": [
            "GB | Epoch 4 | Loss: 0.22638361155986786 | Accuracy: 90.625%\n",
            "GB | Epoch 4 | Loss: 0.32043129205703735 | Accuracy: 89.0625%\n",
            "GB | Epoch 4 | Loss: 0.332687109708786 | Accuracy: 84.375%\n",
            "GB | Epoch 4 | Loss: 0.23899932205677032 | Accuracy: 92.1875%\n",
            "GB | Epoch 4 | Loss: 0.22588880360126495 | Accuracy: 90.625%\n",
            "GB | Epoch 4 | Loss: 0.29060348868370056 | Accuracy: 89.0625%\n"
          ]
        },
        {
          "output_type": "stream",
          "name": "stderr",
          "text": [
            "Epoch 4:   1%|▏         | 11/751 [00:00<00:32, 22.63batch/s, accuracy=93.75%, loss=0.306]  "
          ]
        },
        {
          "output_type": "stream",
          "name": "stdout",
          "text": [
            "GB | Epoch 4 | Loss: 0.3114925026893616 | Accuracy: 89.0625%\n",
            "GB | Epoch 4 | Loss: 0.2215861678123474 | Accuracy: 90.625%\n",
            "GB | Epoch 4 | Loss: 0.21509645879268646 | Accuracy: 96.875%\n",
            "GB | Epoch 4 | Loss: 0.35309943556785583 | Accuracy: 90.625%\n",
            "GB | Epoch 4 | Loss: 0.22525794804096222 | Accuracy: 93.75%\n",
            "GB | Epoch 4 | Loss: 0.21438081562519073 | Accuracy: 92.1875%\n",
            "GB | Epoch 4 | Loss: 0.30557239055633545 | Accuracy: 93.75%\n"
          ]
        },
        {
          "output_type": "stream",
          "name": "stderr",
          "text": [
            "Epoch 4:   2%|▏         | 18/751 [00:00<00:27, 26.56batch/s, accuracy=95.3125%, loss=0.19] "
          ]
        },
        {
          "output_type": "stream",
          "name": "stdout",
          "text": [
            "GB | Epoch 4 | Loss: 0.32053443789482117 | Accuracy: 93.75%\n",
            "GB | Epoch 4 | Loss: 0.23602443933486938 | Accuracy: 90.625%\n",
            "GB | Epoch 4 | Loss: 0.21529464423656464 | Accuracy: 92.1875%\n",
            "GB | Epoch 4 | Loss: 0.19129425287246704 | Accuracy: 96.875%\n",
            "GB | Epoch 4 | Loss: 0.27703237533569336 | Accuracy: 95.3125%\n",
            "GB | Epoch 4 | Loss: 0.18983927369117737 | Accuracy: 95.3125%\n"
          ]
        },
        {
          "output_type": "stream",
          "name": "stderr",
          "text": [
            "Epoch 4:   3%|▎         | 25/751 [00:01<00:25, 28.50batch/s, accuracy=92.1875%, loss=0.218]"
          ]
        },
        {
          "output_type": "stream",
          "name": "stdout",
          "text": [
            "GB | Epoch 4 | Loss: 0.28954634070396423 | Accuracy: 89.0625%\n",
            "GB | Epoch 4 | Loss: 0.17737239599227905 | Accuracy: 96.875%\n",
            "GB | Epoch 4 | Loss: 0.3273853063583374 | Accuracy: 85.9375%\n",
            "GB | Epoch 4 | Loss: 0.34141141176223755 | Accuracy: 89.0625%\n",
            "GB | Epoch 4 | Loss: 0.27076634764671326 | Accuracy: 92.1875%\n",
            "GB | Epoch 4 | Loss: 0.17069324851036072 | Accuracy: 95.3125%\n",
            "GB | Epoch 4 | Loss: 0.2184176743030548 | Accuracy: 92.1875%\n"
          ]
        },
        {
          "output_type": "stream",
          "name": "stderr",
          "text": [
            "Epoch 4:   4%|▍         | 32/751 [00:01<00:24, 28.92batch/s, accuracy=96.875%, loss=0.198]"
          ]
        },
        {
          "output_type": "stream",
          "name": "stdout",
          "text": [
            "GB | Epoch 4 | Loss: 0.3251304030418396 | Accuracy: 90.625%\n",
            "GB | Epoch 4 | Loss: 0.20817533135414124 | Accuracy: 98.4375%\n",
            "GB | Epoch 4 | Loss: 0.3439149856567383 | Accuracy: 92.1875%\n",
            "GB | Epoch 4 | Loss: 0.24758969247341156 | Accuracy: 93.75%\n",
            "GB | Epoch 4 | Loss: 0.2890939712524414 | Accuracy: 89.0625%\n",
            "GB | Epoch 4 | Loss: 0.19804255664348602 | Accuracy: 96.875%\n"
          ]
        },
        {
          "output_type": "stream",
          "name": "stderr",
          "text": [
            "Epoch 4:   5%|▍         | 36/751 [00:01<00:24, 29.53batch/s, accuracy=95.3125%, loss=0.283]"
          ]
        },
        {
          "output_type": "stream",
          "name": "stdout",
          "text": [
            "GB | Epoch 4 | Loss: 0.24160973727703094 | Accuracy: 92.1875%\n",
            "GB | Epoch 4 | Loss: 0.17052415013313293 | Accuracy: 95.3125%\n",
            "GB | Epoch 4 | Loss: 0.20514479279518127 | Accuracy: 95.3125%\n",
            "GB | Epoch 4 | Loss: 0.21582761406898499 | Accuracy: 90.625%\n",
            "GB | Epoch 4 | Loss: 0.16144098341464996 | Accuracy: 96.875%\n",
            "GB | Epoch 4 | Loss: 0.140192911028862 | Accuracy: 96.875%\n",
            "GB | Epoch 4 | Loss: 0.2827003300189972 | Accuracy: 95.3125%\n"
          ]
        },
        {
          "output_type": "stream",
          "name": "stderr",
          "text": [
            "Epoch 4:   6%|▌         | 44/751 [00:01<00:23, 30.63batch/s, accuracy=89.0625%, loss=0.294]"
          ]
        },
        {
          "output_type": "stream",
          "name": "stdout",
          "text": [
            "GB | Epoch 4 | Loss: 0.16213729977607727 | Accuracy: 96.875%\n",
            "GB | Epoch 4 | Loss: 0.3381325602531433 | Accuracy: 87.5%\n",
            "GB | Epoch 4 | Loss: 0.225791335105896 | Accuracy: 93.75%\n",
            "GB | Epoch 4 | Loss: 0.23433750867843628 | Accuracy: 92.1875%\n",
            "GB | Epoch 4 | Loss: 0.21847617626190186 | Accuracy: 93.75%\n",
            "GB | Epoch 4 | Loss: 0.23482295870780945 | Accuracy: 92.1875%\n",
            "GB | Epoch 4 | Loss: 0.29417479038238525 | Accuracy: 89.0625%\n"
          ]
        },
        {
          "output_type": "stream",
          "name": "stderr",
          "text": [
            "Epoch 4:   7%|▋         | 52/751 [00:01<00:22, 31.30batch/s, accuracy=84.375%, loss=0.48]  "
          ]
        },
        {
          "output_type": "stream",
          "name": "stdout",
          "text": [
            "GB | Epoch 4 | Loss: 0.2403455227613449 | Accuracy: 92.1875%\n",
            "GB | Epoch 4 | Loss: 0.16342900693416595 | Accuracy: 96.875%\n",
            "GB | Epoch 4 | Loss: 0.2660949230194092 | Accuracy: 90.625%\n",
            "GB | Epoch 4 | Loss: 0.33541038632392883 | Accuracy: 92.1875%\n",
            "GB | Epoch 4 | Loss: 0.25870436429977417 | Accuracy: 90.625%\n",
            "GB | Epoch 4 | Loss: 0.2874699532985687 | Accuracy: 92.1875%\n",
            "GB | Epoch 4 | Loss: 0.48026013374328613 | Accuracy: 84.375%\n"
          ]
        },
        {
          "output_type": "stream",
          "name": "stderr",
          "text": [
            "Epoch 4:   8%|▊         | 60/751 [00:02<00:21, 31.69batch/s, accuracy=90.625%, loss=0.269]"
          ]
        },
        {
          "output_type": "stream",
          "name": "stdout",
          "text": [
            "GB | Epoch 4 | Loss: 0.22527438402175903 | Accuracy: 92.1875%\n",
            "GB | Epoch 4 | Loss: 0.3263530135154724 | Accuracy: 87.5%\n",
            "GB | Epoch 4 | Loss: 0.3329029083251953 | Accuracy: 89.0625%\n",
            "GB | Epoch 4 | Loss: 0.22885814309120178 | Accuracy: 93.75%\n",
            "GB | Epoch 4 | Loss: 0.2796425223350525 | Accuracy: 93.75%\n",
            "GB | Epoch 4 | Loss: 0.262385755777359 | Accuracy: 93.75%\n",
            "GB | Epoch 4 | Loss: 0.268844872713089 | Accuracy: 90.625%\n"
          ]
        },
        {
          "output_type": "stream",
          "name": "stderr",
          "text": [
            "Epoch 4:   9%|▊         | 64/751 [00:02<00:23, 29.60batch/s, accuracy=95.3125%, loss=0.156]"
          ]
        },
        {
          "output_type": "stream",
          "name": "stdout",
          "text": [
            "GB | Epoch 4 | Loss: 0.4077874720096588 | Accuracy: 84.375%\n",
            "GB | Epoch 4 | Loss: 0.1370721161365509 | Accuracy: 98.4375%\n",
            "GB | Epoch 4 | Loss: 0.19191697239875793 | Accuracy: 96.875%\n",
            "GB | Epoch 4 | Loss: 0.25411587953567505 | Accuracy: 92.1875%\n",
            "GB | Epoch 4 | Loss: 0.2192697525024414 | Accuracy: 95.3125%\n",
            "GB | Epoch 4 | Loss: 0.15588048100471497 | Accuracy: 95.3125%\n"
          ]
        },
        {
          "output_type": "stream",
          "name": "stderr",
          "text": [
            "Epoch 4:   9%|▉         | 71/751 [00:02<00:23, 29.40batch/s, accuracy=93.75%, loss=0.226] "
          ]
        },
        {
          "output_type": "stream",
          "name": "stdout",
          "text": [
            "GB | Epoch 4 | Loss: 0.2218191772699356 | Accuracy: 90.625%\n",
            "GB | Epoch 4 | Loss: 0.2270805686712265 | Accuracy: 95.3125%\n",
            "GB | Epoch 4 | Loss: 0.21158383786678314 | Accuracy: 95.3125%\n",
            "GB | Epoch 4 | Loss: 0.23437237739562988 | Accuracy: 92.1875%\n",
            "GB | Epoch 4 | Loss: 0.19375638663768768 | Accuracy: 96.875%\n",
            "GB | Epoch 4 | Loss: 0.225968137383461 | Accuracy: 93.75%\n"
          ]
        },
        {
          "output_type": "stream",
          "name": "stderr",
          "text": [
            "Epoch 4:  11%|█         | 79/751 [00:02<00:21, 31.32batch/s, accuracy=90.625%, loss=0.293]"
          ]
        },
        {
          "output_type": "stream",
          "name": "stdout",
          "text": [
            "GB | Epoch 4 | Loss: 0.26698756217956543 | Accuracy: 89.0625%\n",
            "GB | Epoch 4 | Loss: 0.14672598242759705 | Accuracy: 98.4375%\n",
            "GB | Epoch 4 | Loss: 0.3418880105018616 | Accuracy: 87.5%\n",
            "GB | Epoch 4 | Loss: 0.17828203737735748 | Accuracy: 100.0%\n",
            "GB | Epoch 4 | Loss: 0.32508668303489685 | Accuracy: 85.9375%\n",
            "GB | Epoch 4 | Loss: 0.41243189573287964 | Accuracy: 84.375%\n",
            "GB | Epoch 4 | Loss: 0.292714387178421 | Accuracy: 90.625%\n"
          ]
        },
        {
          "output_type": "stream",
          "name": "stderr",
          "text": [
            "Epoch 4:  11%|█         | 83/751 [00:03<00:20, 32.37batch/s, accuracy=98.4375%, loss=0.134]"
          ]
        },
        {
          "output_type": "stream",
          "name": "stdout",
          "text": [
            "GB | Epoch 4 | Loss: 0.22751080989837646 | Accuracy: 95.3125%\n",
            "GB | Epoch 4 | Loss: 0.1615697145462036 | Accuracy: 96.875%\n",
            "GB | Epoch 4 | Loss: 0.17453528940677643 | Accuracy: 96.875%\n",
            "GB | Epoch 4 | Loss: 0.2110859751701355 | Accuracy: 90.625%\n",
            "GB | Epoch 4 | Loss: 0.283540815114975 | Accuracy: 90.625%\n",
            "GB | Epoch 4 | Loss: 0.28469574451446533 | Accuracy: 87.5%\n",
            "GB | Epoch 4 | Loss: 0.19691602885723114 | Accuracy: 93.75%\n"
          ]
        },
        {
          "output_type": "stream",
          "name": "stderr",
          "text": [
            "Epoch 4:  12%|█▏        | 91/751 [00:03<00:20, 32.81batch/s, accuracy=84.375%, loss=0.432]"
          ]
        },
        {
          "output_type": "stream",
          "name": "stdout",
          "text": [
            "GB | Epoch 4 | Loss: 0.13449808955192566 | Accuracy: 98.4375%\n",
            "GB | Epoch 4 | Loss: 0.21783074736595154 | Accuracy: 93.75%\n",
            "GB | Epoch 4 | Loss: 0.2930028438568115 | Accuracy: 93.75%\n",
            "GB | Epoch 4 | Loss: 0.2644881308078766 | Accuracy: 95.3125%\n",
            "GB | Epoch 4 | Loss: 0.30933406949043274 | Accuracy: 90.625%\n",
            "GB | Epoch 4 | Loss: 0.16414421796798706 | Accuracy: 93.75%\n",
            "GB | Epoch 4 | Loss: 0.4317188262939453 | Accuracy: 84.375%\n"
          ]
        },
        {
          "output_type": "stream",
          "name": "stderr",
          "text": [
            "Epoch 4:  13%|█▎        | 99/751 [00:03<00:20, 31.95batch/s, accuracy=93.75%, loss=0.252]"
          ]
        },
        {
          "output_type": "stream",
          "name": "stdout",
          "text": [
            "GB | Epoch 4 | Loss: 0.36022502183914185 | Accuracy: 93.75%\n",
            "GB | Epoch 4 | Loss: 0.2803938686847687 | Accuracy: 90.625%\n",
            "GB | Epoch 4 | Loss: 0.31915703415870667 | Accuracy: 89.0625%\n",
            "GB | Epoch 4 | Loss: 0.20714430510997772 | Accuracy: 96.875%\n",
            "GB | Epoch 4 | Loss: 0.185225248336792 | Accuracy: 93.75%\n",
            "GB | Epoch 4 | Loss: 0.25245240330696106 | Accuracy: 93.75%\n"
          ]
        },
        {
          "output_type": "stream",
          "name": "stderr",
          "text": [
            "Epoch 4:  14%|█▎        | 103/751 [00:03<00:21, 30.12batch/s, accuracy=93.75%, loss=0.176] "
          ]
        },
        {
          "output_type": "stream",
          "name": "stdout",
          "text": [
            "GB | Epoch 4 | Loss: 0.2717559337615967 | Accuracy: 90.625%\n",
            "GB | Epoch 4 | Loss: 0.31013986468315125 | Accuracy: 89.0625%\n",
            "GB | Epoch 4 | Loss: 0.2140955924987793 | Accuracy: 90.625%\n",
            "GB | Epoch 4 | Loss: 0.22082175314426422 | Accuracy: 95.3125%\n",
            "GB | Epoch 4 | Loss: 0.33534225821495056 | Accuracy: 90.625%\n",
            "GB | Epoch 4 | Loss: 0.17585311830043793 | Accuracy: 93.75%\n"
          ]
        },
        {
          "output_type": "stream",
          "name": "stderr",
          "text": [
            "Epoch 4:  15%|█▍        | 110/751 [00:03<00:22, 28.72batch/s, accuracy=93.75%, loss=0.168]"
          ]
        },
        {
          "output_type": "stream",
          "name": "stdout",
          "text": [
            "GB | Epoch 4 | Loss: 0.3053695857524872 | Accuracy: 95.3125%\n",
            "GB | Epoch 4 | Loss: 0.20490846037864685 | Accuracy: 95.3125%\n",
            "GB | Epoch 4 | Loss: 0.35952234268188477 | Accuracy: 85.9375%\n",
            "GB | Epoch 4 | Loss: 0.26075178384780884 | Accuracy: 95.3125%\n",
            "GB | Epoch 4 | Loss: 0.2603881061077118 | Accuracy: 96.875%\n",
            "GB | Epoch 4 | Loss: 0.16840843856334686 | Accuracy: 93.75%\n"
          ]
        },
        {
          "output_type": "stream",
          "name": "stderr",
          "text": [
            "Epoch 4:  15%|█▌        | 116/751 [00:04<00:23, 26.78batch/s, accuracy=90.625%, loss=0.291]"
          ]
        },
        {
          "output_type": "stream",
          "name": "stdout",
          "text": [
            "GB | Epoch 4 | Loss: 0.27676472067832947 | Accuracy: 90.625%\n",
            "GB | Epoch 4 | Loss: 0.1693316549062729 | Accuracy: 96.875%\n",
            "GB | Epoch 4 | Loss: 0.24601849913597107 | Accuracy: 92.1875%\n",
            "GB | Epoch 4 | Loss: 0.1901232749223709 | Accuracy: 95.3125%\n",
            "GB | Epoch 4 | Loss: 0.41682568192481995 | Accuracy: 87.5%\n",
            "GB | Epoch 4 | Loss: 0.2914298474788666 | Accuracy: 90.625%\n"
          ]
        },
        {
          "output_type": "stream",
          "name": "stderr",
          "text": [
            "Epoch 4:  16%|█▌        | 122/751 [00:04<00:24, 25.73batch/s, accuracy=89.0625%, loss=0.244]"
          ]
        },
        {
          "output_type": "stream",
          "name": "stdout",
          "text": [
            "GB | Epoch 4 | Loss: 0.18966315686702728 | Accuracy: 95.3125%\n",
            "GB | Epoch 4 | Loss: 0.20737811923027039 | Accuracy: 95.3125%\n",
            "GB | Epoch 4 | Loss: 0.15197275578975677 | Accuracy: 96.875%\n",
            "GB | Epoch 4 | Loss: 0.1250336766242981 | Accuracy: 93.75%\n",
            "GB | Epoch 4 | Loss: 0.2435561716556549 | Accuracy: 89.0625%\n"
          ]
        },
        {
          "output_type": "stream",
          "name": "stderr",
          "text": [
            "Epoch 4:  17%|█▋        | 128/751 [00:04<00:24, 25.40batch/s, accuracy=95.3125%, loss=0.148]"
          ]
        },
        {
          "output_type": "stream",
          "name": "stdout",
          "text": [
            "GB | Epoch 4 | Loss: 0.20083306729793549 | Accuracy: 93.75%\n",
            "GB | Epoch 4 | Loss: 0.3312036693096161 | Accuracy: 93.75%\n",
            "GB | Epoch 4 | Loss: 0.24097031354904175 | Accuracy: 92.1875%\n",
            "GB | Epoch 4 | Loss: 0.18771760165691376 | Accuracy: 95.3125%\n",
            "GB | Epoch 4 | Loss: 0.17271003127098083 | Accuracy: 98.4375%\n",
            "GB | Epoch 4 | Loss: 0.1481039673089981 | Accuracy: 95.3125%\n"
          ]
        },
        {
          "output_type": "stream",
          "name": "stderr",
          "text": [
            "Epoch 4:  18%|█▊        | 134/751 [00:04<00:24, 25.37batch/s, accuracy=90.625%, loss=0.28]"
          ]
        },
        {
          "output_type": "stream",
          "name": "stdout",
          "text": [
            "GB | Epoch 4 | Loss: 0.12306345999240875 | Accuracy: 96.875%\n",
            "GB | Epoch 4 | Loss: 0.37345606088638306 | Accuracy: 90.625%\n",
            "GB | Epoch 4 | Loss: 0.215762659907341 | Accuracy: 90.625%\n",
            "GB | Epoch 4 | Loss: 0.16531933844089508 | Accuracy: 93.75%\n",
            "GB | Epoch 4 | Loss: 0.18839815258979797 | Accuracy: 95.3125%\n",
            "GB | Epoch 4 | Loss: 0.27953076362609863 | Accuracy: 90.625%\n"
          ]
        },
        {
          "output_type": "stream",
          "name": "stderr",
          "text": [
            "Epoch 4:  19%|█▉        | 141/751 [00:05<00:21, 28.18batch/s, accuracy=87.5%, loss=0.359]"
          ]
        },
        {
          "output_type": "stream",
          "name": "stdout",
          "text": [
            "GB | Epoch 4 | Loss: 0.21193182468414307 | Accuracy: 93.75%\n",
            "GB | Epoch 4 | Loss: 0.14238116145133972 | Accuracy: 95.3125%\n",
            "GB | Epoch 4 | Loss: 0.24262693524360657 | Accuracy: 89.0625%\n",
            "GB | Epoch 4 | Loss: 0.20830762386322021 | Accuracy: 96.875%\n",
            "GB | Epoch 4 | Loss: 0.2042229324579239 | Accuracy: 93.75%\n",
            "GB | Epoch 4 | Loss: 0.23949356377124786 | Accuracy: 93.75%\n",
            "GB | Epoch 4 | Loss: 0.3588294982910156 | Accuracy: 87.5%\n"
          ]
        },
        {
          "output_type": "stream",
          "name": "stderr",
          "text": [
            "Epoch 4:  19%|█▉        | 145/751 [00:05<00:19, 30.56batch/s, accuracy=95.3125%, loss=0.2]"
          ]
        },
        {
          "output_type": "stream",
          "name": "stdout",
          "text": [
            "GB | Epoch 4 | Loss: 0.17785322666168213 | Accuracy: 92.1875%\n",
            "GB | Epoch 4 | Loss: 0.2767281234264374 | Accuracy: 85.9375%\n",
            "GB | Epoch 4 | Loss: 0.22671502828598022 | Accuracy: 95.3125%\n",
            "GB | Epoch 4 | Loss: 0.26262611150741577 | Accuracy: 92.1875%\n",
            "GB | Epoch 4 | Loss: 0.2894570529460907 | Accuracy: 89.0625%\n",
            "GB | Epoch 4 | Loss: 0.2152419537305832 | Accuracy: 95.3125%\n",
            "GB | Epoch 4 | Loss: 0.19039614498615265 | Accuracy: 96.875%\n",
            "GB | Epoch 4 | Loss: 0.19972281157970428 | Accuracy: 95.3125%\n"
          ]
        },
        {
          "output_type": "stream",
          "name": "stderr",
          "text": [
            "Epoch 4:  21%|██        | 154/751 [00:05<00:17, 34.49batch/s, accuracy=93.75%, loss=0.139]  "
          ]
        },
        {
          "output_type": "stream",
          "name": "stdout",
          "text": [
            "GB | Epoch 4 | Loss: 0.21762649714946747 | Accuracy: 93.75%\n",
            "GB | Epoch 4 | Loss: 0.3099730908870697 | Accuracy: 92.1875%\n",
            "GB | Epoch 4 | Loss: 0.17800495028495789 | Accuracy: 93.75%\n",
            "GB | Epoch 4 | Loss: 0.5078749656677246 | Accuracy: 95.3125%\n",
            "GB | Epoch 4 | Loss: 0.12276948988437653 | Accuracy: 100.0%\n",
            "GB | Epoch 4 | Loss: 0.1904061883687973 | Accuracy: 93.75%\n",
            "GB | Epoch 4 | Loss: 0.412478506565094 | Accuracy: 89.0625%\n",
            "GB | Epoch 4 | Loss: 0.1386181265115738 | Accuracy: 93.75%\n"
          ]
        },
        {
          "output_type": "stream",
          "name": "stderr",
          "text": [
            "Epoch 4:  22%|██▏       | 162/751 [00:05<00:16, 35.97batch/s, accuracy=95.3125%, loss=0.308]"
          ]
        },
        {
          "output_type": "stream",
          "name": "stdout",
          "text": [
            "GB | Epoch 4 | Loss: 0.2517170310020447 | Accuracy: 92.1875%\n",
            "GB | Epoch 4 | Loss: 0.1490711122751236 | Accuracy: 98.4375%\n",
            "GB | Epoch 4 | Loss: 0.2081797868013382 | Accuracy: 95.3125%\n",
            "GB | Epoch 4 | Loss: 0.19728219509124756 | Accuracy: 95.3125%\n",
            "GB | Epoch 4 | Loss: 0.1387956440448761 | Accuracy: 96.875%\n",
            "GB | Epoch 4 | Loss: 0.21839159727096558 | Accuracy: 89.0625%\n",
            "GB | Epoch 4 | Loss: 0.2972148656845093 | Accuracy: 90.625%\n",
            "GB | Epoch 4 | Loss: 0.3076624274253845 | Accuracy: 95.3125%\n"
          ]
        },
        {
          "output_type": "stream",
          "name": "stderr",
          "text": [
            "Epoch 4:  23%|██▎       | 170/751 [00:05<00:16, 35.72batch/s, accuracy=98.4375%, loss=0.137]"
          ]
        },
        {
          "output_type": "stream",
          "name": "stdout",
          "text": [
            "GB | Epoch 4 | Loss: 0.19645054638385773 | Accuracy: 96.875%\n",
            "GB | Epoch 4 | Loss: 0.2788277864456177 | Accuracy: 89.0625%\n",
            "GB | Epoch 4 | Loss: 0.3968854546546936 | Accuracy: 87.5%\n",
            "GB | Epoch 4 | Loss: 0.22257718443870544 | Accuracy: 92.1875%\n",
            "GB | Epoch 4 | Loss: 0.24961669743061066 | Accuracy: 92.1875%\n",
            "GB | Epoch 4 | Loss: 0.11981828510761261 | Accuracy: 98.4375%\n",
            "GB | Epoch 4 | Loss: 0.19621874392032623 | Accuracy: 93.75%\n",
            "GB | Epoch 4 | Loss: 0.13746826350688934 | Accuracy: 98.4375%\n"
          ]
        },
        {
          "output_type": "stream",
          "name": "stderr",
          "text": [
            "Epoch 4:  24%|██▎       | 178/751 [00:06<00:15, 36.13batch/s, accuracy=93.75%, loss=0.205] "
          ]
        },
        {
          "output_type": "stream",
          "name": "stdout",
          "text": [
            "GB | Epoch 4 | Loss: 0.17709867656230927 | Accuracy: 93.75%\n",
            "GB | Epoch 4 | Loss: 0.20183677971363068 | Accuracy: 95.3125%\n",
            "GB | Epoch 4 | Loss: 0.1796022206544876 | Accuracy: 95.3125%\n",
            "GB | Epoch 4 | Loss: 0.37576577067375183 | Accuracy: 89.0625%\n",
            "GB | Epoch 4 | Loss: 0.20066453516483307 | Accuracy: 96.875%\n",
            "GB | Epoch 4 | Loss: 0.13611379265785217 | Accuracy: 96.875%\n",
            "GB | Epoch 4 | Loss: 0.17169970273971558 | Accuracy: 96.875%\n",
            "GB | Epoch 4 | Loss: 0.20466753840446472 | Accuracy: 93.75%\n"
          ]
        },
        {
          "output_type": "stream",
          "name": "stderr",
          "text": [
            "Epoch 4:  25%|██▍       | 186/751 [00:06<00:15, 35.96batch/s, accuracy=93.75%, loss=0.224]  "
          ]
        },
        {
          "output_type": "stream",
          "name": "stdout",
          "text": [
            "GB | Epoch 4 | Loss: 0.16254545748233795 | Accuracy: 95.3125%\n",
            "GB | Epoch 4 | Loss: 0.3053845465183258 | Accuracy: 93.75%\n",
            "GB | Epoch 4 | Loss: 0.17246028780937195 | Accuracy: 95.3125%\n",
            "GB | Epoch 4 | Loss: 0.22931458055973053 | Accuracy: 90.625%\n",
            "GB | Epoch 4 | Loss: 0.24112586677074432 | Accuracy: 96.875%\n",
            "GB | Epoch 4 | Loss: 0.2578903138637543 | Accuracy: 90.625%\n",
            "GB | Epoch 4 | Loss: 0.19298481941223145 | Accuracy: 98.4375%\n",
            "GB | Epoch 4 | Loss: 0.2237807661294937 | Accuracy: 93.75%\n"
          ]
        },
        {
          "output_type": "stream",
          "name": "stderr",
          "text": [
            "Epoch 4:  26%|██▌       | 194/751 [00:06<00:15, 37.08batch/s, accuracy=100.0%, loss=0.0736] "
          ]
        },
        {
          "output_type": "stream",
          "name": "stdout",
          "text": [
            "GB | Epoch 4 | Loss: 0.26521697640419006 | Accuracy: 93.75%\n",
            "GB | Epoch 4 | Loss: 0.26147258281707764 | Accuracy: 95.3125%\n",
            "GB | Epoch 4 | Loss: 0.10821074992418289 | Accuracy: 95.3125%\n",
            "GB | Epoch 4 | Loss: 0.3113066852092743 | Accuracy: 85.9375%\n",
            "GB | Epoch 4 | Loss: 0.20017462968826294 | Accuracy: 93.75%\n",
            "GB | Epoch 4 | Loss: 0.09690490365028381 | Accuracy: 98.4375%\n",
            "GB | Epoch 4 | Loss: 0.22790470719337463 | Accuracy: 92.1875%\n",
            "GB | Epoch 4 | Loss: 0.07356530427932739 | Accuracy: 100.0%\n"
          ]
        },
        {
          "output_type": "stream",
          "name": "stderr",
          "text": [
            "Epoch 4:  27%|██▋       | 202/751 [00:06<00:15, 34.97batch/s, accuracy=82.8125%, loss=0.438]"
          ]
        },
        {
          "output_type": "stream",
          "name": "stdout",
          "text": [
            "GB | Epoch 4 | Loss: 0.19910520315170288 | Accuracy: 92.1875%\n",
            "GB | Epoch 4 | Loss: 0.15769465267658234 | Accuracy: 95.3125%\n",
            "GB | Epoch 4 | Loss: 0.2143612951040268 | Accuracy: 90.625%\n",
            "GB | Epoch 4 | Loss: 0.17793606221675873 | Accuracy: 96.875%\n",
            "GB | Epoch 4 | Loss: 0.144811749458313 | Accuracy: 96.875%\n",
            "GB | Epoch 4 | Loss: 0.16426917910575867 | Accuracy: 96.875%\n",
            "GB | Epoch 4 | Loss: 0.4376180171966553 | Accuracy: 82.8125%\n"
          ]
        },
        {
          "output_type": "stream",
          "name": "stderr",
          "text": [
            "Epoch 4:  28%|██▊       | 210/751 [00:06<00:14, 36.80batch/s, accuracy=92.1875%, loss=0.223]"
          ]
        },
        {
          "output_type": "stream",
          "name": "stdout",
          "text": [
            "GB | Epoch 4 | Loss: 0.26196253299713135 | Accuracy: 87.5%\n",
            "GB | Epoch 4 | Loss: 0.21625439822673798 | Accuracy: 93.75%\n",
            "GB | Epoch 4 | Loss: 0.22064357995986938 | Accuracy: 95.3125%\n",
            "GB | Epoch 4 | Loss: 0.27962249517440796 | Accuracy: 89.0625%\n",
            "GB | Epoch 4 | Loss: 0.3499193489551544 | Accuracy: 87.5%\n",
            "GB | Epoch 4 | Loss: 0.28701746463775635 | Accuracy: 92.1875%\n",
            "GB | Epoch 4 | Loss: 0.1841408610343933 | Accuracy: 95.3125%\n",
            "GB | Epoch 4 | Loss: 0.22265522181987762 | Accuracy: 92.1875%\n"
          ]
        },
        {
          "output_type": "stream",
          "name": "stderr",
          "text": [
            "Epoch 4:  29%|██▉       | 218/751 [00:07<00:14, 37.68batch/s, accuracy=98.4375%, loss=0.172]"
          ]
        },
        {
          "output_type": "stream",
          "name": "stdout",
          "text": [
            "GB | Epoch 4 | Loss: 0.11440834403038025 | Accuracy: 95.3125%\n",
            "GB | Epoch 4 | Loss: 0.18333257734775543 | Accuracy: 98.4375%\n",
            "GB | Epoch 4 | Loss: 0.23613491654396057 | Accuracy: 95.3125%\n",
            "GB | Epoch 4 | Loss: 0.16937193274497986 | Accuracy: 96.875%\n",
            "GB | Epoch 4 | Loss: 0.13217885792255402 | Accuracy: 95.3125%\n",
            "GB | Epoch 4 | Loss: 0.21628500521183014 | Accuracy: 90.625%\n",
            "GB | Epoch 4 | Loss: 0.25749409198760986 | Accuracy: 98.4375%\n",
            "GB | Epoch 4 | Loss: 0.17187540233135223 | Accuracy: 98.4375%\n"
          ]
        },
        {
          "output_type": "stream",
          "name": "stderr",
          "text": [
            "Epoch 4:  30%|███       | 226/751 [00:07<00:13, 38.40batch/s, accuracy=96.875%, loss=0.141]"
          ]
        },
        {
          "output_type": "stream",
          "name": "stdout",
          "text": [
            "GB | Epoch 4 | Loss: 0.42059752345085144 | Accuracy: 89.0625%\n",
            "GB | Epoch 4 | Loss: 0.25278568267822266 | Accuracy: 95.3125%\n",
            "GB | Epoch 4 | Loss: 0.215079665184021 | Accuracy: 95.3125%\n",
            "GB | Epoch 4 | Loss: 0.1923786848783493 | Accuracy: 95.3125%\n",
            "GB | Epoch 4 | Loss: 0.19670742750167847 | Accuracy: 92.1875%\n",
            "GB | Epoch 4 | Loss: 0.25441285967826843 | Accuracy: 93.75%\n",
            "GB | Epoch 4 | Loss: 0.2799031138420105 | Accuracy: 92.1875%\n",
            "GB | Epoch 4 | Loss: 0.14139366149902344 | Accuracy: 96.875%\n"
          ]
        },
        {
          "output_type": "stream",
          "name": "stderr",
          "text": [
            "Epoch 4:  31%|███       | 234/751 [00:07<00:13, 38.00batch/s, accuracy=95.3125%, loss=0.174]"
          ]
        },
        {
          "output_type": "stream",
          "name": "stdout",
          "text": [
            "GB | Epoch 4 | Loss: 0.19621333479881287 | Accuracy: 92.1875%\n",
            "GB | Epoch 4 | Loss: 0.14063745737075806 | Accuracy: 95.3125%\n",
            "GB | Epoch 4 | Loss: 0.34285426139831543 | Accuracy: 93.75%\n",
            "GB | Epoch 4 | Loss: 0.25395697355270386 | Accuracy: 89.0625%\n",
            "GB | Epoch 4 | Loss: 0.17490798234939575 | Accuracy: 96.875%\n",
            "GB | Epoch 4 | Loss: 0.1352430135011673 | Accuracy: 95.3125%\n",
            "GB | Epoch 4 | Loss: 0.22274887561798096 | Accuracy: 93.75%\n",
            "GB | Epoch 4 | Loss: 0.17405927181243896 | Accuracy: 95.3125%\n"
          ]
        },
        {
          "output_type": "stream",
          "name": "stderr",
          "text": [
            "Epoch 4:  32%|███▏      | 242/751 [00:07<00:14, 36.30batch/s, accuracy=92.1875%, loss=0.24] "
          ]
        },
        {
          "output_type": "stream",
          "name": "stdout",
          "text": [
            "GB | Epoch 4 | Loss: 0.1237928569316864 | Accuracy: 96.875%\n",
            "GB | Epoch 4 | Loss: 0.08713707327842712 | Accuracy: 98.4375%\n",
            "GB | Epoch 4 | Loss: 0.18890342116355896 | Accuracy: 93.75%\n",
            "GB | Epoch 4 | Loss: 0.32754233479499817 | Accuracy: 90.625%\n",
            "GB | Epoch 4 | Loss: 0.27097180485725403 | Accuracy: 90.625%\n",
            "GB | Epoch 4 | Loss: 0.1874227076768875 | Accuracy: 95.3125%\n",
            "GB | Epoch 4 | Loss: 0.20849744975566864 | Accuracy: 92.1875%\n",
            "GB | Epoch 4 | Loss: 0.23962806165218353 | Accuracy: 92.1875%\n"
          ]
        },
        {
          "output_type": "stream",
          "name": "stderr",
          "text": [
            "Epoch 4:  33%|███▎      | 250/751 [00:08<00:13, 37.23batch/s, accuracy=92.1875%, loss=0.178]"
          ]
        },
        {
          "output_type": "stream",
          "name": "stdout",
          "text": [
            "GB | Epoch 4 | Loss: 0.17140890657901764 | Accuracy: 93.75%\n",
            "GB | Epoch 4 | Loss: 0.3308204710483551 | Accuracy: 85.9375%\n",
            "GB | Epoch 4 | Loss: 0.2724178433418274 | Accuracy: 93.75%\n",
            "GB | Epoch 4 | Loss: 0.259977787733078 | Accuracy: 96.875%\n",
            "GB | Epoch 4 | Loss: 0.26451608538627625 | Accuracy: 90.625%\n",
            "GB | Epoch 4 | Loss: 0.1794411838054657 | Accuracy: 93.75%\n",
            "GB | Epoch 4 | Loss: 0.12216789275407791 | Accuracy: 95.3125%\n",
            "GB | Epoch 4 | Loss: 0.3489026129245758 | Accuracy: 90.625%\n"
          ]
        },
        {
          "output_type": "stream",
          "name": "stderr",
          "text": [
            "Epoch 4:  34%|███▍      | 259/751 [00:08<00:12, 38.11batch/s, accuracy=96.875%, loss=0.164] "
          ]
        },
        {
          "output_type": "stream",
          "name": "stdout",
          "text": [
            "GB | Epoch 4 | Loss: 0.1776588261127472 | Accuracy: 92.1875%\n",
            "GB | Epoch 4 | Loss: 0.2660113275051117 | Accuracy: 93.75%\n",
            "GB | Epoch 4 | Loss: 0.18330799043178558 | Accuracy: 93.75%\n",
            "GB | Epoch 4 | Loss: 0.2668681740760803 | Accuracy: 90.625%\n",
            "GB | Epoch 4 | Loss: 0.2413267195224762 | Accuracy: 93.75%\n",
            "GB | Epoch 4 | Loss: 0.2188398689031601 | Accuracy: 93.75%\n",
            "GB | Epoch 4 | Loss: 0.14414185285568237 | Accuracy: 95.3125%\n",
            "GB | Epoch 4 | Loss: 0.1635647565126419 | Accuracy: 96.875%\n"
          ]
        },
        {
          "output_type": "stream",
          "name": "stderr",
          "text": [
            "Epoch 4:  36%|███▌      | 267/751 [00:08<00:12, 38.31batch/s, accuracy=96.875%, loss=0.174]"
          ]
        },
        {
          "output_type": "stream",
          "name": "stdout",
          "text": [
            "GB | Epoch 4 | Loss: 0.12949348986148834 | Accuracy: 100.0%\n",
            "GB | Epoch 4 | Loss: 0.17130376398563385 | Accuracy: 93.75%\n",
            "GB | Epoch 4 | Loss: 0.29467248916625977 | Accuracy: 90.625%\n",
            "GB | Epoch 4 | Loss: 0.18825000524520874 | Accuracy: 90.625%\n",
            "GB | Epoch 4 | Loss: 0.2087375819683075 | Accuracy: 93.75%\n",
            "GB | Epoch 4 | Loss: 0.38808536529541016 | Accuracy: 93.75%\n",
            "GB | Epoch 4 | Loss: 0.20679518580436707 | Accuracy: 93.75%\n",
            "GB | Epoch 4 | Loss: 0.14320461452007294 | Accuracy: 96.875%\n"
          ]
        },
        {
          "output_type": "stream",
          "name": "stderr",
          "text": [
            "Epoch 4:  37%|███▋      | 275/751 [00:08<00:12, 37.39batch/s, accuracy=95.3125%, loss=0.168]"
          ]
        },
        {
          "output_type": "stream",
          "name": "stdout",
          "text": [
            "GB | Epoch 4 | Loss: 0.17387375235557556 | Accuracy: 96.875%\n",
            "GB | Epoch 4 | Loss: 0.09833886474370956 | Accuracy: 98.4375%\n",
            "GB | Epoch 4 | Loss: 0.21221596002578735 | Accuracy: 93.75%\n",
            "GB | Epoch 4 | Loss: 0.20398791134357452 | Accuracy: 95.3125%\n",
            "GB | Epoch 4 | Loss: 0.16245108842849731 | Accuracy: 96.875%\n",
            "GB | Epoch 4 | Loss: 0.15618030726909637 | Accuracy: 95.3125%\n",
            "GB | Epoch 4 | Loss: 0.4679785966873169 | Accuracy: 82.8125%\n",
            "GB | Epoch 4 | Loss: 0.16752837598323822 | Accuracy: 95.3125%\n"
          ]
        },
        {
          "output_type": "stream",
          "name": "stderr",
          "text": [
            "Epoch 4:  38%|███▊      | 283/751 [00:08<00:13, 35.87batch/s, accuracy=93.75%, loss=0.191] "
          ]
        },
        {
          "output_type": "stream",
          "name": "stdout",
          "text": [
            "GB | Epoch 4 | Loss: 0.1749720722436905 | Accuracy: 96.875%\n",
            "GB | Epoch 4 | Loss: 0.14979781210422516 | Accuracy: 98.4375%\n",
            "GB | Epoch 4 | Loss: 0.20907513797283173 | Accuracy: 93.75%\n",
            "GB | Epoch 4 | Loss: 0.19512605667114258 | Accuracy: 95.3125%\n",
            "GB | Epoch 4 | Loss: 0.2886241376399994 | Accuracy: 90.625%\n",
            "GB | Epoch 4 | Loss: 0.21707159280776978 | Accuracy: 92.1875%\n",
            "GB | Epoch 4 | Loss: 0.21269965171813965 | Accuracy: 96.875%\n",
            "GB | Epoch 4 | Loss: 0.19127744436264038 | Accuracy: 93.75%\n"
          ]
        },
        {
          "output_type": "stream",
          "name": "stderr",
          "text": [
            "Epoch 4:  39%|███▊      | 291/751 [00:09<00:12, 36.93batch/s, accuracy=95.3125%, loss=0.169]"
          ]
        },
        {
          "output_type": "stream",
          "name": "stdout",
          "text": [
            "GB | Epoch 4 | Loss: 0.1529419720172882 | Accuracy: 92.1875%\n",
            "GB | Epoch 4 | Loss: 0.2629142999649048 | Accuracy: 92.1875%\n",
            "GB | Epoch 4 | Loss: 0.15410496294498444 | Accuracy: 95.3125%\n",
            "GB | Epoch 4 | Loss: 0.2917632460594177 | Accuracy: 96.875%\n",
            "GB | Epoch 4 | Loss: 0.16569949686527252 | Accuracy: 96.875%\n",
            "GB | Epoch 4 | Loss: 0.08513226360082626 | Accuracy: 100.0%\n",
            "GB | Epoch 4 | Loss: 0.1673368215560913 | Accuracy: 93.75%\n",
            "GB | Epoch 4 | Loss: 0.16879145801067352 | Accuracy: 95.3125%\n"
          ]
        },
        {
          "output_type": "stream",
          "name": "stderr",
          "text": [
            "Epoch 4:  40%|███▉      | 299/751 [00:09<00:11, 38.11batch/s, accuracy=95.3125%, loss=0.173]"
          ]
        },
        {
          "output_type": "stream",
          "name": "stdout",
          "text": [
            "GB | Epoch 4 | Loss: 0.12688887119293213 | Accuracy: 98.4375%\n",
            "GB | Epoch 4 | Loss: 0.13471226394176483 | Accuracy: 96.875%\n",
            "GB | Epoch 4 | Loss: 0.11633965373039246 | Accuracy: 98.4375%\n",
            "GB | Epoch 4 | Loss: 0.1774636209011078 | Accuracy: 95.3125%\n",
            "GB | Epoch 4 | Loss: 0.17609383165836334 | Accuracy: 93.75%\n",
            "GB | Epoch 4 | Loss: 0.14572784304618835 | Accuracy: 95.3125%\n",
            "GB | Epoch 4 | Loss: 0.18394887447357178 | Accuracy: 95.3125%\n",
            "GB | Epoch 4 | Loss: 0.17323146760463715 | Accuracy: 95.3125%\n"
          ]
        },
        {
          "output_type": "stream",
          "name": "stderr",
          "text": [
            "Epoch 4:  41%|████      | 307/751 [00:09<00:11, 37.82batch/s, accuracy=95.3125%, loss=0.209]"
          ]
        },
        {
          "output_type": "stream",
          "name": "stdout",
          "text": [
            "GB | Epoch 4 | Loss: 0.375099241733551 | Accuracy: 90.625%\n",
            "GB | Epoch 4 | Loss: 0.21317099034786224 | Accuracy: 98.4375%\n",
            "GB | Epoch 4 | Loss: 0.13087157905101776 | Accuracy: 96.875%\n",
            "GB | Epoch 4 | Loss: 0.26430782675743103 | Accuracy: 90.625%\n",
            "GB | Epoch 4 | Loss: 0.1687454730272293 | Accuracy: 93.75%\n",
            "GB | Epoch 4 | Loss: 0.13930204510688782 | Accuracy: 95.3125%\n",
            "GB | Epoch 4 | Loss: 0.14094097912311554 | Accuracy: 95.3125%\n",
            "GB | Epoch 4 | Loss: 0.20917686820030212 | Accuracy: 95.3125%\n"
          ]
        },
        {
          "output_type": "stream",
          "name": "stderr",
          "text": [
            "Epoch 4:  42%|████▏     | 315/751 [00:09<00:11, 37.60batch/s, accuracy=87.5%, loss=0.366]   "
          ]
        },
        {
          "output_type": "stream",
          "name": "stdout",
          "text": [
            "GB | Epoch 4 | Loss: 0.12548238039016724 | Accuracy: 98.4375%\n",
            "GB | Epoch 4 | Loss: 0.17518138885498047 | Accuracy: 96.875%\n",
            "GB | Epoch 4 | Loss: 0.13010534644126892 | Accuracy: 98.4375%\n",
            "GB | Epoch 4 | Loss: 0.13386128842830658 | Accuracy: 96.875%\n",
            "GB | Epoch 4 | Loss: 0.30539408326148987 | Accuracy: 90.625%\n",
            "GB | Epoch 4 | Loss: 0.18808525800704956 | Accuracy: 93.75%\n",
            "GB | Epoch 4 | Loss: 0.16181343793869019 | Accuracy: 98.4375%\n",
            "GB | Epoch 4 | Loss: 0.36597850918769836 | Accuracy: 87.5%\n"
          ]
        },
        {
          "output_type": "stream",
          "name": "stderr",
          "text": [
            "Epoch 4:  43%|████▎     | 324/751 [00:09<00:11, 36.46batch/s, accuracy=93.75%, loss=0.167]"
          ]
        },
        {
          "output_type": "stream",
          "name": "stdout",
          "text": [
            "GB | Epoch 4 | Loss: 0.14693023264408112 | Accuracy: 96.875%\n",
            "GB | Epoch 4 | Loss: 0.16143149137496948 | Accuracy: 95.3125%\n",
            "GB | Epoch 4 | Loss: 0.23317766189575195 | Accuracy: 92.1875%\n",
            "GB | Epoch 4 | Loss: 0.15745963156223297 | Accuracy: 93.75%\n",
            "GB | Epoch 4 | Loss: 0.1579907238483429 | Accuracy: 96.875%\n",
            "GB | Epoch 4 | Loss: 0.38878142833709717 | Accuracy: 92.1875%\n",
            "GB | Epoch 4 | Loss: 0.17632699012756348 | Accuracy: 93.75%\n",
            "GB | Epoch 4 | Loss: 0.16668255627155304 | Accuracy: 93.75%\n"
          ]
        },
        {
          "output_type": "stream",
          "name": "stderr",
          "text": [
            "Epoch 4:  44%|████▍     | 332/751 [00:10<00:11, 37.10batch/s, accuracy=100.0%, loss=0.122]"
          ]
        },
        {
          "output_type": "stream",
          "name": "stdout",
          "text": [
            "GB | Epoch 4 | Loss: 0.18779338896274567 | Accuracy: 96.875%\n",
            "GB | Epoch 4 | Loss: 0.1411515474319458 | Accuracy: 96.875%\n",
            "GB | Epoch 4 | Loss: 0.1479245126247406 | Accuracy: 96.875%\n",
            "GB | Epoch 4 | Loss: 0.17126436531543732 | Accuracy: 95.3125%\n",
            "GB | Epoch 4 | Loss: 0.15640738606452942 | Accuracy: 96.875%\n",
            "GB | Epoch 4 | Loss: 0.17298680543899536 | Accuracy: 93.75%\n",
            "GB | Epoch 4 | Loss: 0.2956240177154541 | Accuracy: 95.3125%\n",
            "GB | Epoch 4 | Loss: 0.12210860103368759 | Accuracy: 100.0%\n"
          ]
        },
        {
          "output_type": "stream",
          "name": "stderr",
          "text": [
            "Epoch 4:  45%|████▌     | 340/751 [00:10<00:11, 37.07batch/s, accuracy=98.4375%, loss=0.0954]"
          ]
        },
        {
          "output_type": "stream",
          "name": "stdout",
          "text": [
            "GB | Epoch 4 | Loss: 0.17474909126758575 | Accuracy: 95.3125%\n",
            "GB | Epoch 4 | Loss: 0.1390935629606247 | Accuracy: 96.875%\n",
            "GB | Epoch 4 | Loss: 0.12492431700229645 | Accuracy: 96.875%\n",
            "GB | Epoch 4 | Loss: 0.1603928655385971 | Accuracy: 93.75%\n",
            "GB | Epoch 4 | Loss: 0.12305932492017746 | Accuracy: 96.875%\n",
            "GB | Epoch 4 | Loss: 0.1285504251718521 | Accuracy: 98.4375%\n",
            "GB | Epoch 4 | Loss: 0.10884328186511993 | Accuracy: 98.4375%\n",
            "GB | Epoch 4 | Loss: 0.0953623503446579 | Accuracy: 98.4375%\n"
          ]
        },
        {
          "output_type": "stream",
          "name": "stderr",
          "text": [
            "Epoch 4:  46%|████▋     | 348/751 [00:10<00:10, 37.64batch/s, accuracy=96.875%, loss=0.148]"
          ]
        },
        {
          "output_type": "stream",
          "name": "stdout",
          "text": [
            "GB | Epoch 4 | Loss: 0.2463255077600479 | Accuracy: 96.875%\n",
            "GB | Epoch 4 | Loss: 0.12203990668058395 | Accuracy: 98.4375%\n",
            "GB | Epoch 4 | Loss: 0.15428955852985382 | Accuracy: 93.75%\n",
            "GB | Epoch 4 | Loss: 0.16189312934875488 | Accuracy: 95.3125%\n",
            "GB | Epoch 4 | Loss: 0.2449726164340973 | Accuracy: 92.1875%\n",
            "GB | Epoch 4 | Loss: 0.10400909185409546 | Accuracy: 98.4375%\n",
            "GB | Epoch 4 | Loss: 0.22321349382400513 | Accuracy: 95.3125%\n",
            "GB | Epoch 4 | Loss: 0.14755526185035706 | Accuracy: 96.875%\n"
          ]
        },
        {
          "output_type": "stream",
          "name": "stderr",
          "text": [
            "Epoch 4:  47%|████▋     | 356/751 [00:10<00:10, 37.08batch/s, accuracy=96.875%, loss=0.111]"
          ]
        },
        {
          "output_type": "stream",
          "name": "stdout",
          "text": [
            "GB | Epoch 4 | Loss: 0.12756982445716858 | Accuracy: 95.3125%\n",
            "GB | Epoch 4 | Loss: 0.21805845201015472 | Accuracy: 92.1875%\n",
            "GB | Epoch 4 | Loss: 0.1705807000398636 | Accuracy: 95.3125%\n",
            "GB | Epoch 4 | Loss: 0.146745502948761 | Accuracy: 95.3125%\n",
            "GB | Epoch 4 | Loss: 0.17058372497558594 | Accuracy: 96.875%\n",
            "GB | Epoch 4 | Loss: 0.14032435417175293 | Accuracy: 96.875%\n",
            "GB | Epoch 4 | Loss: 0.256741464138031 | Accuracy: 89.0625%\n",
            "GB | Epoch 4 | Loss: 0.1106313094496727 | Accuracy: 96.875%\n"
          ]
        },
        {
          "output_type": "stream",
          "name": "stderr",
          "text": [
            "Epoch 4:  48%|████▊     | 364/751 [00:11<00:10, 36.59batch/s, accuracy=98.4375%, loss=0.126]"
          ]
        },
        {
          "output_type": "stream",
          "name": "stdout",
          "text": [
            "GB | Epoch 4 | Loss: 0.11217034608125687 | Accuracy: 98.4375%\n",
            "GB | Epoch 4 | Loss: 0.2447425276041031 | Accuracy: 92.1875%\n",
            "GB | Epoch 4 | Loss: 0.108721062541008 | Accuracy: 96.875%\n",
            "GB | Epoch 4 | Loss: 0.1247376799583435 | Accuracy: 96.875%\n",
            "GB | Epoch 4 | Loss: 0.1577896922826767 | Accuracy: 93.75%\n",
            "GB | Epoch 4 | Loss: 0.17711904644966125 | Accuracy: 93.75%\n",
            "GB | Epoch 4 | Loss: 0.1308496594429016 | Accuracy: 96.875%\n",
            "GB | Epoch 4 | Loss: 0.1256982386112213 | Accuracy: 98.4375%\n"
          ]
        },
        {
          "output_type": "stream",
          "name": "stderr",
          "text": [
            "Epoch 4:  50%|████▉     | 372/751 [00:11<00:10, 36.62batch/s, accuracy=100.0%, loss=0.146]"
          ]
        },
        {
          "output_type": "stream",
          "name": "stdout",
          "text": [
            "GB | Epoch 4 | Loss: 0.21762527525424957 | Accuracy: 93.75%\n",
            "GB | Epoch 4 | Loss: 0.31167399883270264 | Accuracy: 92.1875%\n",
            "GB | Epoch 4 | Loss: 0.20780059695243835 | Accuracy: 92.1875%\n",
            "GB | Epoch 4 | Loss: 0.2656116485595703 | Accuracy: 92.1875%\n",
            "GB | Epoch 4 | Loss: 0.3746167719364166 | Accuracy: 89.0625%\n",
            "GB | Epoch 4 | Loss: 0.13107918202877045 | Accuracy: 96.875%\n",
            "GB | Epoch 4 | Loss: 0.14635352790355682 | Accuracy: 96.875%\n",
            "GB | Epoch 4 | Loss: 0.14607588946819305 | Accuracy: 100.0%\n"
          ]
        },
        {
          "output_type": "stream",
          "name": "stderr",
          "text": [
            "Epoch 4:  51%|█████     | 380/751 [00:11<00:09, 37.57batch/s, accuracy=93.75%, loss=0.189]"
          ]
        },
        {
          "output_type": "stream",
          "name": "stdout",
          "text": [
            "GB | Epoch 4 | Loss: 0.15921247005462646 | Accuracy: 95.3125%\n",
            "GB | Epoch 4 | Loss: 0.20149992406368256 | Accuracy: 95.3125%\n",
            "GB | Epoch 4 | Loss: 0.2430209070444107 | Accuracy: 92.1875%\n",
            "GB | Epoch 4 | Loss: 0.15301962196826935 | Accuracy: 93.75%\n",
            "GB | Epoch 4 | Loss: 0.12383347004652023 | Accuracy: 98.4375%\n",
            "GB | Epoch 4 | Loss: 0.19094231724739075 | Accuracy: 92.1875%\n",
            "GB | Epoch 4 | Loss: 0.2556275725364685 | Accuracy: 95.3125%\n",
            "GB | Epoch 4 | Loss: 0.18912121653556824 | Accuracy: 93.75%\n"
          ]
        },
        {
          "output_type": "stream",
          "name": "stderr",
          "text": [
            "Epoch 4:  51%|█████     | 384/751 [00:11<00:10, 36.51batch/s, accuracy=95.3125%, loss=0.14]  "
          ]
        },
        {
          "output_type": "stream",
          "name": "stdout",
          "text": [
            "GB | Epoch 4 | Loss: 0.09768427908420563 | Accuracy: 98.4375%\n",
            "GB | Epoch 4 | Loss: 0.18558841943740845 | Accuracy: 96.875%\n",
            "GB | Epoch 4 | Loss: 0.35001227259635925 | Accuracy: 90.625%\n",
            "GB | Epoch 4 | Loss: 0.11905493587255478 | Accuracy: 98.4375%\n",
            "GB | Epoch 4 | Loss: 0.2126411348581314 | Accuracy: 96.875%\n",
            "GB | Epoch 4 | Loss: 0.09349299222230911 | Accuracy: 98.4375%\n",
            "GB | Epoch 4 | Loss: 0.1396302878856659 | Accuracy: 95.3125%\n"
          ]
        },
        {
          "output_type": "stream",
          "name": "stderr",
          "text": [
            "Epoch 4:  52%|█████▏    | 392/751 [00:11<00:11, 31.10batch/s, accuracy=100.0%, loss=0.0822]  "
          ]
        },
        {
          "output_type": "stream",
          "name": "stdout",
          "text": [
            "GB | Epoch 4 | Loss: 0.07370580732822418 | Accuracy: 98.4375%\n",
            "GB | Epoch 4 | Loss: 0.14974090456962585 | Accuracy: 96.875%\n",
            "GB | Epoch 4 | Loss: 0.146591916680336 | Accuracy: 96.875%\n",
            "GB | Epoch 4 | Loss: 0.11056595295667648 | Accuracy: 98.4375%\n",
            "GB | Epoch 4 | Loss: 0.09548553824424744 | Accuracy: 98.4375%\n",
            "GB | Epoch 4 | Loss: 0.08215057104825974 | Accuracy: 100.0%\n"
          ]
        },
        {
          "output_type": "stream",
          "name": "stderr",
          "text": [
            "Epoch 4:  53%|█████▎    | 396/751 [00:12<00:11, 29.94batch/s, accuracy=95.3125%, loss=0.178]"
          ]
        },
        {
          "output_type": "stream",
          "name": "stdout",
          "text": [
            "GB | Epoch 4 | Loss: 0.12844021618366241 | Accuracy: 95.3125%\n",
            "GB | Epoch 4 | Loss: 0.20510883629322052 | Accuracy: 96.875%\n",
            "GB | Epoch 4 | Loss: 0.27381977438926697 | Accuracy: 89.0625%\n",
            "GB | Epoch 4 | Loss: 0.12165134400129318 | Accuracy: 98.4375%\n",
            "GB | Epoch 4 | Loss: 0.2557114064693451 | Accuracy: 92.1875%\n",
            "GB | Epoch 4 | Loss: 0.17765264213085175 | Accuracy: 95.3125%\n"
          ]
        },
        {
          "output_type": "stream",
          "name": "stderr",
          "text": [
            "Epoch 4:  54%|█████▍    | 404/751 [00:12<00:11, 30.13batch/s, accuracy=93.75%, loss=0.154]  "
          ]
        },
        {
          "output_type": "stream",
          "name": "stdout",
          "text": [
            "GB | Epoch 4 | Loss: 0.13579680025577545 | Accuracy: 93.75%\n",
            "GB | Epoch 4 | Loss: 0.16571654379367828 | Accuracy: 95.3125%\n",
            "GB | Epoch 4 | Loss: 0.11564347892999649 | Accuracy: 98.4375%\n",
            "GB | Epoch 4 | Loss: 0.1527308076620102 | Accuracy: 93.75%\n",
            "GB | Epoch 4 | Loss: 0.15392819046974182 | Accuracy: 95.3125%\n",
            "GB | Epoch 4 | Loss: 0.09910916537046432 | Accuracy: 96.875%\n",
            "GB | Epoch 4 | Loss: 0.15443481504917145 | Accuracy: 93.75%\n"
          ]
        },
        {
          "output_type": "stream",
          "name": "stderr",
          "text": [
            "Epoch 4:  55%|█████▍    | 412/751 [00:12<00:10, 33.77batch/s, accuracy=96.875%, loss=0.119]"
          ]
        },
        {
          "output_type": "stream",
          "name": "stdout",
          "text": [
            "GB | Epoch 4 | Loss: 0.14666347205638885 | Accuracy: 96.875%\n",
            "GB | Epoch 4 | Loss: 0.23994311690330505 | Accuracy: 90.625%\n",
            "GB | Epoch 4 | Loss: 0.19325269758701324 | Accuracy: 95.3125%\n",
            "GB | Epoch 4 | Loss: 0.25648078322410583 | Accuracy: 92.1875%\n",
            "GB | Epoch 4 | Loss: 0.17857515811920166 | Accuracy: 95.3125%\n",
            "GB | Epoch 4 | Loss: 0.13196927309036255 | Accuracy: 98.4375%\n",
            "GB | Epoch 4 | Loss: 0.17548036575317383 | Accuracy: 93.75%\n",
            "GB | Epoch 4 | Loss: 0.11894921213388443 | Accuracy: 96.875%\n"
          ]
        },
        {
          "output_type": "stream",
          "name": "stderr",
          "text": [
            "Epoch 4:  56%|█████▌    | 420/751 [00:12<00:09, 35.37batch/s, accuracy=98.4375%, loss=0.198]"
          ]
        },
        {
          "output_type": "stream",
          "name": "stdout",
          "text": [
            "GB | Epoch 4 | Loss: 0.1609058827161789 | Accuracy: 96.875%\n",
            "GB | Epoch 4 | Loss: 0.11133959144353867 | Accuracy: 100.0%\n",
            "GB | Epoch 4 | Loss: 0.09736169129610062 | Accuracy: 96.875%\n",
            "GB | Epoch 4 | Loss: 0.17528487741947174 | Accuracy: 96.875%\n",
            "GB | Epoch 4 | Loss: 0.13983109593391418 | Accuracy: 100.0%\n",
            "GB | Epoch 4 | Loss: 0.23149608075618744 | Accuracy: 90.625%\n",
            "GB | Epoch 4 | Loss: 0.20492549240589142 | Accuracy: 92.1875%\n",
            "GB | Epoch 4 | Loss: 0.1977386325597763 | Accuracy: 98.4375%\n"
          ]
        },
        {
          "output_type": "stream",
          "name": "stderr",
          "text": [
            "Epoch 4:  57%|█████▋    | 428/751 [00:13<00:08, 37.06batch/s, accuracy=95.3125%, loss=0.123]"
          ]
        },
        {
          "output_type": "stream",
          "name": "stdout",
          "text": [
            "GB | Epoch 4 | Loss: 0.1502329558134079 | Accuracy: 95.3125%\n",
            "GB | Epoch 4 | Loss: 0.2571353316307068 | Accuracy: 93.75%\n",
            "GB | Epoch 4 | Loss: 0.0954628586769104 | Accuracy: 98.4375%\n",
            "GB | Epoch 4 | Loss: 0.11621677875518799 | Accuracy: 98.4375%\n",
            "GB | Epoch 4 | Loss: 0.12031768262386322 | Accuracy: 98.4375%\n",
            "GB | Epoch 4 | Loss: 0.21360905468463898 | Accuracy: 93.75%\n",
            "GB | Epoch 4 | Loss: 0.2783319652080536 | Accuracy: 89.0625%\n",
            "GB | Epoch 4 | Loss: 0.12282143533229828 | Accuracy: 95.3125%\n"
          ]
        },
        {
          "output_type": "stream",
          "name": "stderr",
          "text": [
            "Epoch 4:  58%|█████▊    | 436/751 [00:13<00:08, 35.78batch/s, accuracy=96.875%, loss=0.154]"
          ]
        },
        {
          "output_type": "stream",
          "name": "stdout",
          "text": [
            "GB | Epoch 4 | Loss: 0.12138161808252335 | Accuracy: 96.875%\n",
            "GB | Epoch 4 | Loss: 0.2367498129606247 | Accuracy: 95.3125%\n",
            "GB | Epoch 4 | Loss: 0.18619845807552338 | Accuracy: 93.75%\n",
            "GB | Epoch 4 | Loss: 0.16017746925354004 | Accuracy: 95.3125%\n",
            "GB | Epoch 4 | Loss: 0.1352025270462036 | Accuracy: 98.4375%\n",
            "GB | Epoch 4 | Loss: 0.1891479790210724 | Accuracy: 93.75%\n",
            "GB | Epoch 4 | Loss: 0.05927861109375954 | Accuracy: 100.0%\n",
            "GB | Epoch 4 | Loss: 0.15362422168254852 | Accuracy: 96.875%\n"
          ]
        },
        {
          "output_type": "stream",
          "name": "stderr",
          "text": [
            "Epoch 4:  59%|█████▉    | 445/751 [00:13<00:08, 37.61batch/s, accuracy=93.75%, loss=0.137]"
          ]
        },
        {
          "output_type": "stream",
          "name": "stdout",
          "text": [
            "GB | Epoch 4 | Loss: 0.29770565032958984 | Accuracy: 93.75%\n",
            "GB | Epoch 4 | Loss: 0.11369063705205917 | Accuracy: 95.3125%\n",
            "GB | Epoch 4 | Loss: 0.23370300233364105 | Accuracy: 92.1875%\n",
            "GB | Epoch 4 | Loss: 0.23982805013656616 | Accuracy: 96.875%\n",
            "GB | Epoch 4 | Loss: 0.1409890502691269 | Accuracy: 93.75%\n",
            "GB | Epoch 4 | Loss: 0.13640807569026947 | Accuracy: 96.875%\n",
            "GB | Epoch 4 | Loss: 0.17228339612483978 | Accuracy: 93.75%\n",
            "GB | Epoch 4 | Loss: 0.34278300404548645 | Accuracy: 87.5%\n",
            "GB | Epoch 4 | Loss: 0.13732892274856567 | Accuracy: 93.75%\n"
          ]
        },
        {
          "output_type": "stream",
          "name": "stderr",
          "text": [
            "Epoch 4:  60%|██████    | 453/751 [00:13<00:07, 37.55batch/s, accuracy=93.75%, loss=0.223]  "
          ]
        },
        {
          "output_type": "stream",
          "name": "stdout",
          "text": [
            "GB | Epoch 4 | Loss: 0.21313895285129547 | Accuracy: 93.75%\n",
            "GB | Epoch 4 | Loss: 0.22679464519023895 | Accuracy: 98.4375%\n",
            "GB | Epoch 4 | Loss: 0.22182229161262512 | Accuracy: 92.1875%\n",
            "GB | Epoch 4 | Loss: 0.1814194917678833 | Accuracy: 95.3125%\n",
            "GB | Epoch 4 | Loss: 0.11330608278512955 | Accuracy: 95.3125%\n",
            "GB | Epoch 4 | Loss: 0.16198821365833282 | Accuracy: 95.3125%\n",
            "GB | Epoch 4 | Loss: 0.15418560802936554 | Accuracy: 98.4375%\n",
            "GB | Epoch 4 | Loss: 0.22263668477535248 | Accuracy: 93.75%\n"
          ]
        },
        {
          "output_type": "stream",
          "name": "stderr",
          "text": [
            "Epoch 4:  61%|██████▏   | 461/751 [00:13<00:07, 37.20batch/s, accuracy=96.875%, loss=0.178] "
          ]
        },
        {
          "output_type": "stream",
          "name": "stdout",
          "text": [
            "GB | Epoch 4 | Loss: 0.11098253726959229 | Accuracy: 96.875%\n",
            "GB | Epoch 4 | Loss: 0.15213428437709808 | Accuracy: 98.4375%\n",
            "GB | Epoch 4 | Loss: 0.09005659818649292 | Accuracy: 96.875%\n",
            "GB | Epoch 4 | Loss: 0.1683863252401352 | Accuracy: 96.875%\n",
            "GB | Epoch 4 | Loss: 0.14516209065914154 | Accuracy: 98.4375%\n",
            "GB | Epoch 4 | Loss: 0.14228245615959167 | Accuracy: 96.875%\n",
            "GB | Epoch 4 | Loss: 0.16458989679813385 | Accuracy: 98.4375%\n",
            "GB | Epoch 4 | Loss: 0.17801092565059662 | Accuracy: 96.875%\n"
          ]
        },
        {
          "output_type": "stream",
          "name": "stderr",
          "text": [
            "Epoch 4:  62%|██████▏   | 469/751 [00:14<00:07, 36.17batch/s, accuracy=92.1875%, loss=0.197]"
          ]
        },
        {
          "output_type": "stream",
          "name": "stdout",
          "text": [
            "GB | Epoch 4 | Loss: 0.1749323010444641 | Accuracy: 96.875%\n",
            "GB | Epoch 4 | Loss: 0.17794810235500336 | Accuracy: 93.75%\n",
            "GB | Epoch 4 | Loss: 0.38210323452949524 | Accuracy: 90.625%\n",
            "GB | Epoch 4 | Loss: 0.158884659409523 | Accuracy: 96.875%\n",
            "GB | Epoch 4 | Loss: 0.2768155634403229 | Accuracy: 96.875%\n",
            "GB | Epoch 4 | Loss: 0.1257133185863495 | Accuracy: 100.0%\n",
            "GB | Epoch 4 | Loss: 0.1825929880142212 | Accuracy: 95.3125%\n",
            "GB | Epoch 4 | Loss: 0.1971081644296646 | Accuracy: 92.1875%\n"
          ]
        },
        {
          "output_type": "stream",
          "name": "stderr",
          "text": [
            "Epoch 4:  64%|██████▎   | 477/751 [00:14<00:07, 34.97batch/s, accuracy=92.1875%, loss=0.2]   "
          ]
        },
        {
          "output_type": "stream",
          "name": "stdout",
          "text": [
            "GB | Epoch 4 | Loss: 0.1606091856956482 | Accuracy: 93.75%\n",
            "GB | Epoch 4 | Loss: 0.14181528985500336 | Accuracy: 95.3125%\n",
            "GB | Epoch 4 | Loss: 0.15226811170578003 | Accuracy: 96.875%\n",
            "GB | Epoch 4 | Loss: 0.08448388427495956 | Accuracy: 98.4375%\n",
            "GB | Epoch 4 | Loss: 0.186533123254776 | Accuracy: 93.75%\n",
            "GB | Epoch 4 | Loss: 0.08985535800457001 | Accuracy: 95.3125%\n",
            "GB | Epoch 4 | Loss: 0.2000180184841156 | Accuracy: 92.1875%\n"
          ]
        },
        {
          "output_type": "stream",
          "name": "stderr",
          "text": [
            "Epoch 4:  65%|██████▍   | 485/751 [00:14<00:07, 36.38batch/s, accuracy=96.875%, loss=0.145]"
          ]
        },
        {
          "output_type": "stream",
          "name": "stdout",
          "text": [
            "GB | Epoch 4 | Loss: 0.17848055064678192 | Accuracy: 93.75%\n",
            "GB | Epoch 4 | Loss: 0.25806570053100586 | Accuracy: 95.3125%\n",
            "GB | Epoch 4 | Loss: 0.09613833576440811 | Accuracy: 98.4375%\n",
            "GB | Epoch 4 | Loss: 0.17094245553016663 | Accuracy: 93.75%\n",
            "GB | Epoch 4 | Loss: 0.15266747772693634 | Accuracy: 96.875%\n",
            "GB | Epoch 4 | Loss: 0.07656342536211014 | Accuracy: 100.0%\n",
            "GB | Epoch 4 | Loss: 0.2070486694574356 | Accuracy: 93.75%\n",
            "GB | Epoch 4 | Loss: 0.14454159140586853 | Accuracy: 96.875%\n"
          ]
        },
        {
          "output_type": "stream",
          "name": "stderr",
          "text": [
            "Epoch 4:  66%|██████▌   | 493/751 [00:14<00:06, 37.10batch/s, accuracy=93.75%, loss=0.25]   "
          ]
        },
        {
          "output_type": "stream",
          "name": "stdout",
          "text": [
            "GB | Epoch 4 | Loss: 0.11381654441356659 | Accuracy: 96.875%\n",
            "GB | Epoch 4 | Loss: 0.11379500478506088 | Accuracy: 96.875%\n",
            "GB | Epoch 4 | Loss: 0.12534047663211823 | Accuracy: 98.4375%\n",
            "GB | Epoch 4 | Loss: 0.21335075795650482 | Accuracy: 96.875%\n",
            "GB | Epoch 4 | Loss: 0.17024384438991547 | Accuracy: 93.75%\n",
            "GB | Epoch 4 | Loss: 0.10508870333433151 | Accuracy: 98.4375%\n",
            "GB | Epoch 4 | Loss: 0.10741044580936432 | Accuracy: 98.4375%\n",
            "GB | Epoch 4 | Loss: 0.2502732276916504 | Accuracy: 93.75%\n"
          ]
        },
        {
          "output_type": "stream",
          "name": "stderr",
          "text": [
            "Epoch 4:  67%|██████▋   | 502/751 [00:14<00:06, 38.02batch/s, accuracy=98.4375%, loss=0.131]"
          ]
        },
        {
          "output_type": "stream",
          "name": "stdout",
          "text": [
            "GB | Epoch 4 | Loss: 0.17610028386116028 | Accuracy: 96.875%\n",
            "GB | Epoch 4 | Loss: 0.3100455701351166 | Accuracy: 92.1875%\n",
            "GB | Epoch 4 | Loss: 0.20575778186321259 | Accuracy: 95.3125%\n",
            "GB | Epoch 4 | Loss: 0.11110872030258179 | Accuracy: 96.875%\n",
            "GB | Epoch 4 | Loss: 0.1142028421163559 | Accuracy: 98.4375%\n",
            "GB | Epoch 4 | Loss: 0.10816618800163269 | Accuracy: 98.4375%\n",
            "GB | Epoch 4 | Loss: 0.16499128937721252 | Accuracy: 98.4375%\n",
            "GB | Epoch 4 | Loss: 0.13055849075317383 | Accuracy: 98.4375%\n"
          ]
        },
        {
          "output_type": "stream",
          "name": "stderr",
          "text": [
            "Epoch 4:  67%|██████▋   | 506/751 [00:15<00:06, 35.46batch/s, accuracy=95.3125%, loss=0.163]"
          ]
        },
        {
          "output_type": "stream",
          "name": "stdout",
          "text": [
            "GB | Epoch 4 | Loss: 0.13560272753238678 | Accuracy: 96.875%\n",
            "GB | Epoch 4 | Loss: 0.1560882329940796 | Accuracy: 95.3125%\n",
            "GB | Epoch 4 | Loss: 0.18271411955356598 | Accuracy: 93.75%\n",
            "GB | Epoch 4 | Loss: 0.1312403678894043 | Accuracy: 95.3125%\n",
            "GB | Epoch 4 | Loss: 0.10207760334014893 | Accuracy: 96.875%\n",
            "GB | Epoch 4 | Loss: 0.11351308226585388 | Accuracy: 95.3125%\n",
            "GB | Epoch 4 | Loss: 0.1628483235836029 | Accuracy: 95.3125%\n"
          ]
        },
        {
          "output_type": "stream",
          "name": "stderr",
          "text": [
            "Epoch 4:  68%|██████▊   | 514/751 [00:15<00:07, 30.99batch/s, accuracy=100.0%, loss=0.0816]"
          ]
        },
        {
          "output_type": "stream",
          "name": "stdout",
          "text": [
            "GB | Epoch 4 | Loss: 0.05847466364502907 | Accuracy: 100.0%\n",
            "GB | Epoch 4 | Loss: 0.11149673163890839 | Accuracy: 98.4375%\n",
            "GB | Epoch 4 | Loss: 0.2346932291984558 | Accuracy: 92.1875%\n",
            "GB | Epoch 4 | Loss: 0.14607295393943787 | Accuracy: 93.75%\n",
            "GB | Epoch 4 | Loss: 0.2512802481651306 | Accuracy: 93.75%\n",
            "GB | Epoch 4 | Loss: 0.08164545148611069 | Accuracy: 100.0%\n"
          ]
        },
        {
          "output_type": "stream",
          "name": "stderr",
          "text": [
            "Epoch 4:  70%|██████▉   | 522/751 [00:15<00:07, 31.26batch/s, accuracy=96.875%, loss=0.181]"
          ]
        },
        {
          "output_type": "stream",
          "name": "stdout",
          "text": [
            "GB | Epoch 4 | Loss: 0.13511578738689423 | Accuracy: 96.875%\n",
            "GB | Epoch 4 | Loss: 0.24149903655052185 | Accuracy: 96.875%\n",
            "GB | Epoch 4 | Loss: 0.09558451920747757 | Accuracy: 98.4375%\n",
            "GB | Epoch 4 | Loss: 0.2024875283241272 | Accuracy: 92.1875%\n",
            "GB | Epoch 4 | Loss: 0.3603064715862274 | Accuracy: 87.5%\n",
            "GB | Epoch 4 | Loss: 0.13377909362316132 | Accuracy: 96.875%\n",
            "GB | Epoch 4 | Loss: 0.1809287816286087 | Accuracy: 96.875%\n"
          ]
        },
        {
          "output_type": "stream",
          "name": "stderr",
          "text": [
            "Epoch 4:  70%|███████   | 526/751 [00:15<00:07, 31.96batch/s, accuracy=95.3125%, loss=0.214] "
          ]
        },
        {
          "output_type": "stream",
          "name": "stdout",
          "text": [
            "GB | Epoch 4 | Loss: 0.17563702166080475 | Accuracy: 93.75%\n",
            "GB | Epoch 4 | Loss: 0.2120613157749176 | Accuracy: 95.3125%\n",
            "GB | Epoch 4 | Loss: 0.06380812078714371 | Accuracy: 100.0%\n",
            "GB | Epoch 4 | Loss: 0.14447325468063354 | Accuracy: 93.75%\n",
            "GB | Epoch 4 | Loss: 0.10386905074119568 | Accuracy: 95.3125%\n",
            "GB | Epoch 4 | Loss: 0.08975659310817719 | Accuracy: 98.4375%\n",
            "GB | Epoch 4 | Loss: 0.21373072266578674 | Accuracy: 95.3125%\n"
          ]
        },
        {
          "output_type": "stream",
          "name": "stderr",
          "text": [
            "Epoch 4:  71%|███████   | 534/751 [00:16<00:07, 28.64batch/s, accuracy=98.4375%, loss=0.123]"
          ]
        },
        {
          "output_type": "stream",
          "name": "stdout",
          "text": [
            "GB | Epoch 4 | Loss: 0.2124587595462799 | Accuracy: 95.3125%\n",
            "GB | Epoch 4 | Loss: 0.18360105156898499 | Accuracy: 92.1875%\n",
            "GB | Epoch 4 | Loss: 0.10145579278469086 | Accuracy: 98.4375%\n",
            "GB | Epoch 4 | Loss: 0.18296897411346436 | Accuracy: 93.75%\n",
            "GB | Epoch 4 | Loss: 0.12251820415258408 | Accuracy: 98.4375%\n"
          ]
        },
        {
          "output_type": "stream",
          "name": "stderr",
          "text": [
            "Epoch 4:  72%|███████▏  | 540/751 [00:16<00:07, 27.79batch/s, accuracy=95.3125%, loss=0.161]"
          ]
        },
        {
          "output_type": "stream",
          "name": "stdout",
          "text": [
            "GB | Epoch 4 | Loss: 0.175095334649086 | Accuracy: 98.4375%\n",
            "GB | Epoch 4 | Loss: 0.17202958464622498 | Accuracy: 92.1875%\n",
            "GB | Epoch 4 | Loss: 0.09447596967220306 | Accuracy: 98.4375%\n",
            "GB | Epoch 4 | Loss: 0.15159910917282104 | Accuracy: 96.875%\n",
            "GB | Epoch 4 | Loss: 0.13313032686710358 | Accuracy: 96.875%\n",
            "GB | Epoch 4 | Loss: 0.16145065426826477 | Accuracy: 95.3125%\n"
          ]
        },
        {
          "output_type": "stream",
          "name": "stderr",
          "text": [
            "Epoch 4:  72%|███████▏  | 543/751 [00:16<00:07, 26.85batch/s, accuracy=98.4375%, loss=0.0763]"
          ]
        },
        {
          "output_type": "stream",
          "name": "stdout",
          "text": [
            "GB | Epoch 4 | Loss: 0.19460484385490417 | Accuracy: 93.75%\n",
            "GB | Epoch 4 | Loss: 0.27478426694869995 | Accuracy: 87.5%\n",
            "GB | Epoch 4 | Loss: 0.1686519831418991 | Accuracy: 95.3125%\n",
            "GB | Epoch 4 | Loss: 0.16956037282943726 | Accuracy: 93.75%\n",
            "GB | Epoch 4 | Loss: 0.13514412939548492 | Accuracy: 96.875%\n"
          ]
        },
        {
          "output_type": "stream",
          "name": "stderr",
          "text": [
            "Epoch 4:  73%|███████▎  | 549/751 [00:16<00:07, 25.62batch/s, accuracy=96.875%, loss=0.147] "
          ]
        },
        {
          "output_type": "stream",
          "name": "stdout",
          "text": [
            "GB | Epoch 4 | Loss: 0.07625439763069153 | Accuracy: 98.4375%\n",
            "GB | Epoch 4 | Loss: 0.12100057303905487 | Accuracy: 95.3125%\n",
            "GB | Epoch 4 | Loss: 0.18813423812389374 | Accuracy: 92.1875%\n",
            "GB | Epoch 4 | Loss: 0.10082361102104187 | Accuracy: 98.4375%\n",
            "GB | Epoch 4 | Loss: 0.18948478996753693 | Accuracy: 95.3125%\n"
          ]
        },
        {
          "output_type": "stream",
          "name": "stderr",
          "text": [
            "Epoch 4:  74%|███████▍  | 555/751 [00:16<00:07, 26.15batch/s, accuracy=93.75%, loss=0.185] "
          ]
        },
        {
          "output_type": "stream",
          "name": "stdout",
          "text": [
            "GB | Epoch 4 | Loss: 0.1466607004404068 | Accuracy: 96.875%\n",
            "GB | Epoch 4 | Loss: 0.16232801973819733 | Accuracy: 98.4375%\n",
            "GB | Epoch 4 | Loss: 0.158791646361351 | Accuracy: 96.875%\n",
            "GB | Epoch 4 | Loss: 0.1383572667837143 | Accuracy: 95.3125%\n",
            "GB | Epoch 4 | Loss: 0.1946023851633072 | Accuracy: 96.875%\n",
            "GB | Epoch 4 | Loss: 0.1845737248659134 | Accuracy: 93.75%\n"
          ]
        },
        {
          "output_type": "stream",
          "name": "stderr",
          "text": [
            "Epoch 4:  75%|███████▍  | 561/751 [00:17<00:07, 26.57batch/s, accuracy=95.3125%, loss=0.312] "
          ]
        },
        {
          "output_type": "stream",
          "name": "stdout",
          "text": [
            "GB | Epoch 4 | Loss: 0.1945071816444397 | Accuracy: 95.3125%\n",
            "GB | Epoch 4 | Loss: 0.2536451518535614 | Accuracy: 90.625%\n",
            "GB | Epoch 4 | Loss: 0.19528250396251678 | Accuracy: 93.75%\n",
            "GB | Epoch 4 | Loss: 0.10784005373716354 | Accuracy: 98.4375%\n",
            "GB | Epoch 4 | Loss: 0.09855087846517563 | Accuracy: 98.4375%\n",
            "GB | Epoch 4 | Loss: 0.3121069669723511 | Accuracy: 95.3125%\n"
          ]
        },
        {
          "output_type": "stream",
          "name": "stderr",
          "text": [
            "Epoch 4:  75%|███████▌  | 567/751 [00:17<00:07, 25.35batch/s, accuracy=95.3125%, loss=0.237]"
          ]
        },
        {
          "output_type": "stream",
          "name": "stdout",
          "text": [
            "GB | Epoch 4 | Loss: 0.12829886376857758 | Accuracy: 98.4375%\n",
            "GB | Epoch 4 | Loss: 0.2543424367904663 | Accuracy: 89.0625%\n",
            "GB | Epoch 4 | Loss: 0.11077919602394104 | Accuracy: 98.4375%\n",
            "GB | Epoch 4 | Loss: 0.2231287956237793 | Accuracy: 92.1875%\n",
            "GB | Epoch 4 | Loss: 0.23725908994674683 | Accuracy: 95.3125%\n"
          ]
        },
        {
          "output_type": "stream",
          "name": "stderr",
          "text": [
            "Epoch 4:  76%|███████▌  | 570/751 [00:17<00:07, 25.00batch/s, accuracy=98.4375%, loss=0.0946]"
          ]
        },
        {
          "output_type": "stream",
          "name": "stdout",
          "text": [
            "GB | Epoch 4 | Loss: 0.24011285603046417 | Accuracy: 93.75%\n",
            "GB | Epoch 4 | Loss: 0.13461661338806152 | Accuracy: 96.875%\n",
            "GB | Epoch 4 | Loss: 0.12099537253379822 | Accuracy: 98.4375%\n",
            "GB | Epoch 4 | Loss: 0.2734459638595581 | Accuracy: 96.875%\n",
            "GB | Epoch 4 | Loss: 0.09459821879863739 | Accuracy: 98.4375%\n"
          ]
        },
        {
          "output_type": "stream",
          "name": "stderr",
          "text": [
            "Epoch 4:  77%|███████▋  | 577/751 [00:17<00:06, 25.43batch/s, accuracy=100.0%, loss=0.0645] "
          ]
        },
        {
          "output_type": "stream",
          "name": "stdout",
          "text": [
            "GB | Epoch 4 | Loss: 0.11254239082336426 | Accuracy: 98.4375%\n",
            "GB | Epoch 4 | Loss: 0.1582762449979782 | Accuracy: 96.875%\n",
            "GB | Epoch 4 | Loss: 0.17220845818519592 | Accuracy: 96.875%\n",
            "GB | Epoch 4 | Loss: 0.06891307234764099 | Accuracy: 100.0%\n",
            "GB | Epoch 4 | Loss: 0.12135785818099976 | Accuracy: 95.3125%\n",
            "GB | Epoch 4 | Loss: 0.06450876593589783 | Accuracy: 100.0%\n"
          ]
        },
        {
          "output_type": "stream",
          "name": "stderr",
          "text": [
            "Epoch 4:  78%|███████▊  | 583/751 [00:18<00:06, 24.07batch/s, accuracy=93.75%, loss=0.213]"
          ]
        },
        {
          "output_type": "stream",
          "name": "stdout",
          "text": [
            "GB | Epoch 4 | Loss: 0.28586894273757935 | Accuracy: 96.875%\n",
            "GB | Epoch 4 | Loss: 0.26476773619651794 | Accuracy: 95.3125%\n",
            "GB | Epoch 4 | Loss: 0.3070627748966217 | Accuracy: 92.1875%\n",
            "GB | Epoch 4 | Loss: 0.11906100064516068 | Accuracy: 96.875%\n",
            "GB | Epoch 4 | Loss: 0.21280626952648163 | Accuracy: 93.75%\n"
          ]
        },
        {
          "output_type": "stream",
          "name": "stderr",
          "text": [
            "Epoch 4:  78%|███████▊  | 589/751 [00:18<00:06, 25.20batch/s, accuracy=95.3125%, loss=0.118]"
          ]
        },
        {
          "output_type": "stream",
          "name": "stdout",
          "text": [
            "GB | Epoch 4 | Loss: 0.18866276741027832 | Accuracy: 96.875%\n",
            "GB | Epoch 4 | Loss: 0.10713490098714828 | Accuracy: 98.4375%\n",
            "GB | Epoch 4 | Loss: 0.12874047458171844 | Accuracy: 98.4375%\n",
            "GB | Epoch 4 | Loss: 0.11859434098005295 | Accuracy: 98.4375%\n",
            "GB | Epoch 4 | Loss: 0.10037113726139069 | Accuracy: 100.0%\n",
            "GB | Epoch 4 | Loss: 0.11751941591501236 | Accuracy: 95.3125%\n"
          ]
        },
        {
          "output_type": "stream",
          "name": "stderr",
          "text": [
            "Epoch 4:  79%|███████▉  | 592/751 [00:18<00:06, 24.89batch/s, accuracy=98.4375%, loss=0.0775]"
          ]
        },
        {
          "output_type": "stream",
          "name": "stdout",
          "text": [
            "GB | Epoch 4 | Loss: 0.19383907318115234 | Accuracy: 95.3125%\n",
            "GB | Epoch 4 | Loss: 0.14498767256736755 | Accuracy: 93.75%\n",
            "GB | Epoch 4 | Loss: 0.26904475688934326 | Accuracy: 92.1875%\n",
            "GB | Epoch 4 | Loss: 0.17108139395713806 | Accuracy: 96.875%\n",
            "GB | Epoch 4 | Loss: 0.077511265873909 | Accuracy: 98.4375%\n"
          ]
        },
        {
          "output_type": "stream",
          "name": "stderr",
          "text": [
            "Epoch 4:  80%|███████▉  | 598/751 [00:18<00:06, 24.49batch/s, accuracy=92.1875%, loss=0.245]"
          ]
        },
        {
          "output_type": "stream",
          "name": "stdout",
          "text": [
            "GB | Epoch 4 | Loss: 0.11306149512529373 | Accuracy: 96.875%\n",
            "GB | Epoch 4 | Loss: 0.22872468829154968 | Accuracy: 96.875%\n",
            "GB | Epoch 4 | Loss: 0.11512468010187149 | Accuracy: 95.3125%\n",
            "GB | Epoch 4 | Loss: 0.10355114936828613 | Accuracy: 96.875%\n",
            "GB | Epoch 4 | Loss: 0.12539483606815338 | Accuracy: 95.3125%\n",
            "GB | Epoch 4 | Loss: 0.24519073963165283 | Accuracy: 92.1875%\n"
          ]
        },
        {
          "output_type": "stream",
          "name": "stderr",
          "text": [
            "Epoch 4:  80%|████████  | 604/751 [00:18<00:05, 25.26batch/s, accuracy=95.3125%, loss=0.259]"
          ]
        },
        {
          "output_type": "stream",
          "name": "stdout",
          "text": [
            "GB | Epoch 4 | Loss: 0.2036382257938385 | Accuracy: 93.75%\n",
            "GB | Epoch 4 | Loss: 0.07979661226272583 | Accuracy: 96.875%\n",
            "GB | Epoch 4 | Loss: 0.16092298924922943 | Accuracy: 96.875%\n",
            "GB | Epoch 4 | Loss: 0.12253736704587936 | Accuracy: 96.875%\n",
            "GB | Epoch 4 | Loss: 0.1397445797920227 | Accuracy: 98.4375%\n",
            "GB | Epoch 4 | Loss: 0.2585696578025818 | Accuracy: 95.3125%\n"
          ]
        },
        {
          "output_type": "stream",
          "name": "stderr",
          "text": [
            "Epoch 4:  81%|████████  | 610/751 [00:19<00:05, 24.92batch/s, accuracy=98.4375%, loss=0.168]"
          ]
        },
        {
          "output_type": "stream",
          "name": "stdout",
          "text": [
            "GB | Epoch 4 | Loss: 0.15760642290115356 | Accuracy: 96.875%\n",
            "GB | Epoch 4 | Loss: 0.1409691572189331 | Accuracy: 96.875%\n",
            "GB | Epoch 4 | Loss: 0.1533554494380951 | Accuracy: 98.4375%\n",
            "GB | Epoch 4 | Loss: 0.19620361924171448 | Accuracy: 93.75%\n",
            "GB | Epoch 4 | Loss: 0.11063424497842789 | Accuracy: 96.875%\n",
            "GB | Epoch 4 | Loss: 0.16843853890895844 | Accuracy: 98.4375%\n"
          ]
        },
        {
          "output_type": "stream",
          "name": "stderr",
          "text": [
            "Epoch 4:  82%|████████▏ | 616/751 [00:19<00:05, 25.17batch/s, accuracy=98.4375%, loss=0.175]"
          ]
        },
        {
          "output_type": "stream",
          "name": "stdout",
          "text": [
            "GB | Epoch 4 | Loss: 0.12391000241041183 | Accuracy: 95.3125%\n",
            "GB | Epoch 4 | Loss: 0.19505493342876434 | Accuracy: 95.3125%\n",
            "GB | Epoch 4 | Loss: 0.194593146443367 | Accuracy: 98.4375%\n",
            "GB | Epoch 4 | Loss: 0.1469254344701767 | Accuracy: 93.75%\n",
            "GB | Epoch 4 | Loss: 0.07923251390457153 | Accuracy: 100.0%\n",
            "GB | Epoch 4 | Loss: 0.1864175945520401 | Accuracy: 92.1875%\n",
            "GB | Epoch 4 | Loss: 0.1747221052646637 | Accuracy: 98.4375%\n"
          ]
        },
        {
          "output_type": "stream",
          "name": "stderr",
          "text": [
            "Epoch 4:  83%|████████▎ | 624/751 [00:19<00:04, 31.47batch/s, accuracy=98.4375%, loss=0.0942]"
          ]
        },
        {
          "output_type": "stream",
          "name": "stdout",
          "text": [
            "GB | Epoch 4 | Loss: 0.046371061354875565 | Accuracy: 100.0%\n",
            "GB | Epoch 4 | Loss: 0.12814536690711975 | Accuracy: 96.875%\n",
            "GB | Epoch 4 | Loss: 0.1088428720831871 | Accuracy: 98.4375%\n",
            "GB | Epoch 4 | Loss: 0.12205392867326736 | Accuracy: 96.875%\n",
            "GB | Epoch 4 | Loss: 0.24256707727909088 | Accuracy: 95.3125%\n",
            "GB | Epoch 4 | Loss: 0.10593374073505402 | Accuracy: 95.3125%\n",
            "GB | Epoch 4 | Loss: 0.1752457469701767 | Accuracy: 95.3125%\n",
            "GB | Epoch 4 | Loss: 0.09419985115528107 | Accuracy: 98.4375%\n"
          ]
        },
        {
          "output_type": "stream",
          "name": "stderr",
          "text": [
            "Epoch 4:  84%|████████▍ | 632/751 [00:19<00:03, 32.25batch/s, accuracy=98.4375%, loss=0.138]"
          ]
        },
        {
          "output_type": "stream",
          "name": "stdout",
          "text": [
            "GB | Epoch 4 | Loss: 0.10767549276351929 | Accuracy: 98.4375%\n",
            "GB | Epoch 4 | Loss: 0.1490405648946762 | Accuracy: 96.875%\n",
            "GB | Epoch 4 | Loss: 0.3327474892139435 | Accuracy: 98.4375%\n",
            "GB | Epoch 4 | Loss: 0.088182732462883 | Accuracy: 98.4375%\n",
            "GB | Epoch 4 | Loss: 0.07479250431060791 | Accuracy: 100.0%\n",
            "GB | Epoch 4 | Loss: 0.09933853894472122 | Accuracy: 96.875%\n",
            "GB | Epoch 4 | Loss: 0.22714711725711823 | Accuracy: 93.75%\n",
            "GB | Epoch 4 | Loss: 0.13754819333553314 | Accuracy: 98.4375%\n"
          ]
        },
        {
          "output_type": "stream",
          "name": "stderr",
          "text": [
            "Epoch 4:  85%|████████▌ | 640/751 [00:20<00:03, 34.80batch/s, accuracy=96.875%, loss=0.163] "
          ]
        },
        {
          "output_type": "stream",
          "name": "stdout",
          "text": [
            "GB | Epoch 4 | Loss: 0.19244202971458435 | Accuracy: 92.1875%\n",
            "GB | Epoch 4 | Loss: 0.09083946794271469 | Accuracy: 96.875%\n",
            "GB | Epoch 4 | Loss: 0.11456447839736938 | Accuracy: 96.875%\n",
            "GB | Epoch 4 | Loss: 0.13974270224571228 | Accuracy: 95.3125%\n",
            "GB | Epoch 4 | Loss: 0.10097378492355347 | Accuracy: 96.875%\n",
            "GB | Epoch 4 | Loss: 0.13474507629871368 | Accuracy: 96.875%\n",
            "GB | Epoch 4 | Loss: 0.12838120758533478 | Accuracy: 95.3125%\n",
            "GB | Epoch 4 | Loss: 0.1632472723722458 | Accuracy: 96.875%\n"
          ]
        },
        {
          "output_type": "stream",
          "name": "stderr",
          "text": [
            "Epoch 4:  86%|████████▋ | 648/751 [00:20<00:02, 36.26batch/s, accuracy=96.875%, loss=0.11] "
          ]
        },
        {
          "output_type": "stream",
          "name": "stdout",
          "text": [
            "GB | Epoch 4 | Loss: 0.2672158181667328 | Accuracy: 90.625%\n",
            "GB | Epoch 4 | Loss: 0.1000748872756958 | Accuracy: 96.875%\n",
            "GB | Epoch 4 | Loss: 0.15296205878257751 | Accuracy: 96.875%\n",
            "GB | Epoch 4 | Loss: 0.19862458109855652 | Accuracy: 95.3125%\n",
            "GB | Epoch 4 | Loss: 0.13665775954723358 | Accuracy: 96.875%\n",
            "GB | Epoch 4 | Loss: 0.10927565395832062 | Accuracy: 93.75%\n",
            "GB | Epoch 4 | Loss: 0.10453128814697266 | Accuracy: 96.875%\n",
            "GB | Epoch 4 | Loss: 0.10953745990991592 | Accuracy: 96.875%\n"
          ]
        },
        {
          "output_type": "stream",
          "name": "stderr",
          "text": [
            "Epoch 4:  87%|████████▋ | 656/751 [00:20<00:02, 36.89batch/s, accuracy=95.3125%, loss=0.136]"
          ]
        },
        {
          "output_type": "stream",
          "name": "stdout",
          "text": [
            "GB | Epoch 4 | Loss: 0.10547123849391937 | Accuracy: 98.4375%\n",
            "GB | Epoch 4 | Loss: 0.12135972082614899 | Accuracy: 98.4375%\n",
            "GB | Epoch 4 | Loss: 0.07123445719480515 | Accuracy: 100.0%\n",
            "GB | Epoch 4 | Loss: 0.09580587595701218 | Accuracy: 98.4375%\n",
            "GB | Epoch 4 | Loss: 0.1849927306175232 | Accuracy: 96.875%\n",
            "GB | Epoch 4 | Loss: 0.1347668468952179 | Accuracy: 96.875%\n",
            "GB | Epoch 4 | Loss: 0.08396518230438232 | Accuracy: 98.4375%\n",
            "GB | Epoch 4 | Loss: 0.13642050325870514 | Accuracy: 95.3125%\n"
          ]
        },
        {
          "output_type": "stream",
          "name": "stderr",
          "text": [
            "Epoch 4:  88%|████████▊ | 664/751 [00:20<00:02, 37.02batch/s, accuracy=96.875%, loss=0.119]"
          ]
        },
        {
          "output_type": "stream",
          "name": "stdout",
          "text": [
            "GB | Epoch 4 | Loss: 0.21517212688922882 | Accuracy: 95.3125%\n",
            "GB | Epoch 4 | Loss: 0.05045008659362793 | Accuracy: 100.0%\n",
            "GB | Epoch 4 | Loss: 0.1485615372657776 | Accuracy: 95.3125%\n",
            "GB | Epoch 4 | Loss: 0.09887082874774933 | Accuracy: 95.3125%\n",
            "GB | Epoch 4 | Loss: 0.08973587304353714 | Accuracy: 98.4375%\n",
            "GB | Epoch 4 | Loss: 0.09711429476737976 | Accuracy: 95.3125%\n",
            "GB | Epoch 4 | Loss: 0.060143377631902695 | Accuracy: 100.0%\n",
            "GB | Epoch 4 | Loss: 0.11876334249973297 | Accuracy: 96.875%\n"
          ]
        },
        {
          "output_type": "stream",
          "name": "stderr",
          "text": [
            "Epoch 4:  89%|████████▉ | 672/751 [00:20<00:02, 35.73batch/s, accuracy=96.875%, loss=0.134]"
          ]
        },
        {
          "output_type": "stream",
          "name": "stdout",
          "text": [
            "GB | Epoch 4 | Loss: 0.13540387153625488 | Accuracy: 98.4375%\n",
            "GB | Epoch 4 | Loss: 0.12545983493328094 | Accuracy: 96.875%\n",
            "GB | Epoch 4 | Loss: 0.09098850190639496 | Accuracy: 98.4375%\n",
            "GB | Epoch 4 | Loss: 0.12799300253391266 | Accuracy: 96.875%\n",
            "GB | Epoch 4 | Loss: 0.08124682307243347 | Accuracy: 98.4375%\n",
            "GB | Epoch 4 | Loss: 0.10344376415014267 | Accuracy: 96.875%\n",
            "GB | Epoch 4 | Loss: 0.13013945519924164 | Accuracy: 98.4375%\n",
            "GB | Epoch 4 | Loss: 0.1344233602285385 | Accuracy: 96.875%\n"
          ]
        },
        {
          "output_type": "stream",
          "name": "stderr",
          "text": [
            "Epoch 4:  91%|█████████ | 680/751 [00:21<00:01, 36.46batch/s, accuracy=95.3125%, loss=0.119]"
          ]
        },
        {
          "output_type": "stream",
          "name": "stdout",
          "text": [
            "GB | Epoch 4 | Loss: 0.1890726089477539 | Accuracy: 92.1875%\n",
            "GB | Epoch 4 | Loss: 0.16174547374248505 | Accuracy: 96.875%\n",
            "GB | Epoch 4 | Loss: 0.06242091953754425 | Accuracy: 100.0%\n",
            "GB | Epoch 4 | Loss: 0.09888690710067749 | Accuracy: 96.875%\n",
            "GB | Epoch 4 | Loss: 0.12689773738384247 | Accuracy: 98.4375%\n",
            "GB | Epoch 4 | Loss: 0.07831383496522903 | Accuracy: 100.0%\n",
            "GB | Epoch 4 | Loss: 0.11084252595901489 | Accuracy: 96.875%\n",
            "GB | Epoch 4 | Loss: 0.11877904832363129 | Accuracy: 95.3125%\n"
          ]
        },
        {
          "output_type": "stream",
          "name": "stderr",
          "text": [
            "Epoch 4:  92%|█████████▏| 688/751 [00:21<00:01, 37.44batch/s, accuracy=96.875%, loss=0.164]"
          ]
        },
        {
          "output_type": "stream",
          "name": "stdout",
          "text": [
            "GB | Epoch 4 | Loss: 0.0562586784362793 | Accuracy: 100.0%\n",
            "GB | Epoch 4 | Loss: 0.09854968637228012 | Accuracy: 98.4375%\n",
            "GB | Epoch 4 | Loss: 0.11562728881835938 | Accuracy: 95.3125%\n",
            "GB | Epoch 4 | Loss: 0.08694007247686386 | Accuracy: 100.0%\n",
            "GB | Epoch 4 | Loss: 0.1768466979265213 | Accuracy: 98.4375%\n",
            "GB | Epoch 4 | Loss: 0.17038972675800323 | Accuracy: 96.875%\n",
            "GB | Epoch 4 | Loss: 0.0756324827671051 | Accuracy: 100.0%\n",
            "GB | Epoch 4 | Loss: 0.16361397504806519 | Accuracy: 96.875%\n"
          ]
        },
        {
          "output_type": "stream",
          "name": "stderr",
          "text": [
            "Epoch 4:  93%|█████████▎| 696/751 [00:21<00:01, 36.83batch/s, accuracy=92.1875%, loss=0.176]"
          ]
        },
        {
          "output_type": "stream",
          "name": "stdout",
          "text": [
            "GB | Epoch 4 | Loss: 0.12148873507976532 | Accuracy: 95.3125%\n",
            "GB | Epoch 4 | Loss: 0.10024586319923401 | Accuracy: 100.0%\n",
            "GB | Epoch 4 | Loss: 0.14801226556301117 | Accuracy: 98.4375%\n",
            "GB | Epoch 4 | Loss: 0.10505220293998718 | Accuracy: 95.3125%\n",
            "GB | Epoch 4 | Loss: 0.113676056265831 | Accuracy: 96.875%\n",
            "GB | Epoch 4 | Loss: 0.076978400349617 | Accuracy: 100.0%\n",
            "GB | Epoch 4 | Loss: 0.25099697709083557 | Accuracy: 95.3125%\n",
            "GB | Epoch 4 | Loss: 0.1761547029018402 | Accuracy: 92.1875%\n"
          ]
        },
        {
          "output_type": "stream",
          "name": "stderr",
          "text": [
            "Epoch 4:  94%|█████████▎| 704/751 [00:21<00:01, 36.29batch/s, accuracy=93.75%, loss=0.141] "
          ]
        },
        {
          "output_type": "stream",
          "name": "stdout",
          "text": [
            "GB | Epoch 4 | Loss: 0.1303607076406479 | Accuracy: 98.4375%\n",
            "GB | Epoch 4 | Loss: 0.1212242841720581 | Accuracy: 96.875%\n",
            "GB | Epoch 4 | Loss: 0.1401895433664322 | Accuracy: 95.3125%\n",
            "GB | Epoch 4 | Loss: 0.18268394470214844 | Accuracy: 93.75%\n",
            "GB | Epoch 4 | Loss: 0.18934665620326996 | Accuracy: 95.3125%\n",
            "GB | Epoch 4 | Loss: 0.12192888557910919 | Accuracy: 96.875%\n",
            "GB | Epoch 4 | Loss: 0.14136719703674316 | Accuracy: 93.75%\n"
          ]
        },
        {
          "output_type": "stream",
          "name": "stderr",
          "text": [
            "Epoch 4:  95%|█████████▍| 713/751 [00:22<00:01, 36.44batch/s, accuracy=98.4375%, loss=0.0703]"
          ]
        },
        {
          "output_type": "stream",
          "name": "stdout",
          "text": [
            "GB | Epoch 4 | Loss: 0.09810678660869598 | Accuracy: 96.875%\n",
            "GB | Epoch 4 | Loss: 0.09282916784286499 | Accuracy: 98.4375%\n",
            "GB | Epoch 4 | Loss: 0.09252188354730606 | Accuracy: 98.4375%\n",
            "GB | Epoch 4 | Loss: 0.0999729111790657 | Accuracy: 95.3125%\n",
            "GB | Epoch 4 | Loss: 0.11899226903915405 | Accuracy: 95.3125%\n",
            "GB | Epoch 4 | Loss: 0.07561683654785156 | Accuracy: 98.4375%\n",
            "GB | Epoch 4 | Loss: 0.0708869993686676 | Accuracy: 98.4375%\n",
            "GB | Epoch 4 | Loss: 0.07027274370193481 | Accuracy: 98.4375%\n"
          ]
        },
        {
          "output_type": "stream",
          "name": "stderr",
          "text": [
            "Epoch 4:  96%|█████████▌| 721/751 [00:22<00:00, 36.79batch/s, accuracy=95.3125%, loss=0.156] "
          ]
        },
        {
          "output_type": "stream",
          "name": "stdout",
          "text": [
            "GB | Epoch 4 | Loss: 0.13679468631744385 | Accuracy: 96.875%\n",
            "GB | Epoch 4 | Loss: 0.07203857600688934 | Accuracy: 100.0%\n",
            "GB | Epoch 4 | Loss: 0.21260780096054077 | Accuracy: 96.875%\n",
            "GB | Epoch 4 | Loss: 0.11255258321762085 | Accuracy: 98.4375%\n",
            "GB | Epoch 4 | Loss: 0.06044963374733925 | Accuracy: 100.0%\n",
            "GB | Epoch 4 | Loss: 0.13000740110874176 | Accuracy: 96.875%\n",
            "GB | Epoch 4 | Loss: 0.08787283301353455 | Accuracy: 98.4375%\n",
            "GB | Epoch 4 | Loss: 0.1559116691350937 | Accuracy: 95.3125%\n"
          ]
        },
        {
          "output_type": "stream",
          "name": "stderr",
          "text": [
            "Epoch 4:  97%|█████████▋| 730/751 [00:22<00:00, 37.86batch/s, accuracy=100.0%, loss=0.0775]"
          ]
        },
        {
          "output_type": "stream",
          "name": "stdout",
          "text": [
            "GB | Epoch 4 | Loss: 0.1346781700849533 | Accuracy: 95.3125%\n",
            "GB | Epoch 4 | Loss: 0.1097816675901413 | Accuracy: 98.4375%\n",
            "GB | Epoch 4 | Loss: 0.17967569828033447 | Accuracy: 98.4375%\n",
            "GB | Epoch 4 | Loss: 0.13566339015960693 | Accuracy: 96.875%\n",
            "GB | Epoch 4 | Loss: 0.05502638593316078 | Accuracy: 100.0%\n",
            "GB | Epoch 4 | Loss: 0.12960480153560638 | Accuracy: 95.3125%\n",
            "GB | Epoch 4 | Loss: 0.11400114744901657 | Accuracy: 96.875%\n",
            "GB | Epoch 4 | Loss: 0.07754327356815338 | Accuracy: 100.0%\n"
          ]
        },
        {
          "output_type": "stream",
          "name": "stderr",
          "text": [
            "Epoch 4:  98%|█████████▊| 738/751 [00:22<00:00, 37.77batch/s, accuracy=100.0%, loss=0.0556]"
          ]
        },
        {
          "output_type": "stream",
          "name": "stdout",
          "text": [
            "GB | Epoch 4 | Loss: 0.12993717193603516 | Accuracy: 98.4375%\n",
            "GB | Epoch 4 | Loss: 0.06735532730817795 | Accuracy: 98.4375%\n",
            "GB | Epoch 4 | Loss: 0.04513923078775406 | Accuracy: 100.0%\n",
            "GB | Epoch 4 | Loss: 0.08382555097341537 | Accuracy: 98.4375%\n",
            "GB | Epoch 4 | Loss: 0.08301378786563873 | Accuracy: 100.0%\n",
            "GB | Epoch 4 | Loss: 0.0632934719324112 | Accuracy: 100.0%\n",
            "GB | Epoch 4 | Loss: 0.07905123382806778 | Accuracy: 100.0%\n",
            "GB | Epoch 4 | Loss: 0.05562906339764595 | Accuracy: 100.0%\n"
          ]
        },
        {
          "output_type": "stream",
          "name": "stderr",
          "text": [
            "Epoch 4:  99%|█████████▉| 746/751 [00:22<00:00, 37.25batch/s, accuracy=93.75%, loss=0.205]"
          ]
        },
        {
          "output_type": "stream",
          "name": "stdout",
          "text": [
            "GB | Epoch 4 | Loss: 0.3521680235862732 | Accuracy: 92.1875%\n",
            "GB | Epoch 4 | Loss: 0.15646590292453766 | Accuracy: 96.875%\n",
            "GB | Epoch 4 | Loss: 0.13646118342876434 | Accuracy: 96.875%\n",
            "GB | Epoch 4 | Loss: 0.06927697360515594 | Accuracy: 98.4375%\n",
            "GB | Epoch 4 | Loss: 0.1172785684466362 | Accuracy: 96.875%\n",
            "GB | Epoch 4 | Loss: 0.09312152862548828 | Accuracy: 98.4375%\n",
            "GB | Epoch 4 | Loss: 0.09482520818710327 | Accuracy: 96.875%\n",
            "GB | Epoch 4 | Loss: 0.20508365333080292 | Accuracy: 93.75%\n"
          ]
        },
        {
          "output_type": "stream",
          "name": "stderr",
          "text": [
            "Epoch 4: 100%|█████████▉| 750/751 [00:23<00:00, 37.22batch/s, accuracy=100.0%, loss=0.00639]"
          ]
        },
        {
          "output_type": "stream",
          "name": "stdout",
          "text": [
            "GB | Epoch 4 | Loss: 0.12603911757469177 | Accuracy: 98.4375%\n",
            "GB | Epoch 4 | Loss: 0.07351140677928925 | Accuracy: 98.4375%\n",
            "GB | Epoch 4 | Loss: 0.11975790560245514 | Accuracy: 96.875%\n",
            "GB | Epoch 4 | Loss: 0.13758231699466705 | Accuracy: 95.3125%\n",
            "GB | Epoch 4 | Loss: 0.0063892025500535965 | Accuracy: 100.0%\n"
          ]
        },
        {
          "output_type": "stream",
          "name": "stderr",
          "text": [
            "\rEpoch 4: 100%|██████████| 751/751 [00:23<00:00, 32.43batch/s, accuracy=100.0%, loss=0.00639]\n"
          ]
        }
      ]
    },
    {
      "cell_type": "code",
      "source": [
        "evaluator = Evaluator(\n",
        "    testset=testset,\n",
        "    group_partition=testset.group_partition,\n",
        "    group_weights=trainset.group_weights,\n",
        "    batch_size=64,\n",
        "    model=model,\n",
        "    verbose=True\n",
        ")\n",
        "evaluator.evaluate()"
      ],
      "metadata": {
        "colab": {
          "base_uri": "https://localhost:8080/"
        },
        "id": "RNnGUB5bu3wu",
        "outputId": "4e63f47c-9e23-47ed-a5a1-97957ba866c6"
      },
      "execution_count": 9,
      "outputs": [
        {
          "output_type": "stream",
          "name": "stderr",
          "text": [
            "Evaluating group-wise accuracy:   4%|▍         | 1/25 [00:00<00:14,  1.71it/s]"
          ]
        },
        {
          "output_type": "stream",
          "name": "stdout",
          "text": [
            "Group (0, 0) Accuracy: 99.29078014184397\n"
          ]
        },
        {
          "output_type": "stream",
          "name": "stderr",
          "text": [
            "\rEvaluating group-wise accuracy:   8%|▊         | 2/25 [00:01<00:13,  1.70it/s]"
          ]
        },
        {
          "output_type": "stream",
          "name": "stdout",
          "text": [
            "Group (0, 1) Accuracy: 61.938534278959814\n"
          ]
        },
        {
          "output_type": "stream",
          "name": "stderr",
          "text": [
            "\rEvaluating group-wise accuracy:  12%|█▏        | 3/25 [00:01<00:12,  1.70it/s]"
          ]
        },
        {
          "output_type": "stream",
          "name": "stdout",
          "text": [
            "Group (0, 2) Accuracy: 83.68794326241135\n"
          ]
        },
        {
          "output_type": "stream",
          "name": "stderr",
          "text": [
            "\rEvaluating group-wise accuracy:  16%|█▌        | 4/25 [00:02<00:11,  1.81it/s]"
          ]
        },
        {
          "output_type": "stream",
          "name": "stdout",
          "text": [
            "Group (0, 3) Accuracy: 60.99290780141844\n"
          ]
        },
        {
          "output_type": "stream",
          "name": "stderr",
          "text": [
            "\rEvaluating group-wise accuracy:  20%|██        | 5/25 [00:02<00:09,  2.05it/s]"
          ]
        },
        {
          "output_type": "stream",
          "name": "stdout",
          "text": [
            "Group (0, 4) Accuracy: 72.57683215130024\n"
          ]
        },
        {
          "output_type": "stream",
          "name": "stderr",
          "text": [
            "\rEvaluating group-wise accuracy:  24%|██▍       | 6/25 [00:03<00:08,  2.20it/s]"
          ]
        },
        {
          "output_type": "stream",
          "name": "stdout",
          "text": [
            "Group (1, 0) Accuracy: 85.33007334963325\n"
          ]
        },
        {
          "output_type": "stream",
          "name": "stderr",
          "text": [
            "\rEvaluating group-wise accuracy:  28%|██▊       | 7/25 [00:03<00:07,  2.35it/s]"
          ]
        },
        {
          "output_type": "stream",
          "name": "stdout",
          "text": [
            "Group (1, 1) Accuracy: 96.82151589242054\n"
          ]
        },
        {
          "output_type": "stream",
          "name": "stderr",
          "text": [
            "\rEvaluating group-wise accuracy:  32%|███▏      | 8/25 [00:03<00:06,  2.45it/s]"
          ]
        },
        {
          "output_type": "stream",
          "name": "stdout",
          "text": [
            "Group (1, 2) Accuracy: 76.7156862745098\n"
          ]
        },
        {
          "output_type": "stream",
          "name": "stderr",
          "text": [
            "\rEvaluating group-wise accuracy:  36%|███▌      | 9/25 [00:04<00:06,  2.48it/s]"
          ]
        },
        {
          "output_type": "stream",
          "name": "stdout",
          "text": [
            "Group (1, 3) Accuracy: 79.16666666666667\n"
          ]
        },
        {
          "output_type": "stream",
          "name": "stderr",
          "text": [
            "\rEvaluating group-wise accuracy:  40%|████      | 10/25 [00:04<00:05,  2.52it/s]"
          ]
        },
        {
          "output_type": "stream",
          "name": "stdout",
          "text": [
            "Group (1, 4) Accuracy: 78.67647058823529\n"
          ]
        },
        {
          "output_type": "stream",
          "name": "stderr",
          "text": [
            "\rEvaluating group-wise accuracy:  44%|████▍     | 11/25 [00:04<00:05,  2.59it/s]"
          ]
        },
        {
          "output_type": "stream",
          "name": "stdout",
          "text": [
            "Group (2, 0) Accuracy: 70.66666666666667\n"
          ]
        },
        {
          "output_type": "stream",
          "name": "stderr",
          "text": [
            "\rEvaluating group-wise accuracy:  48%|████▊     | 12/25 [00:05<00:04,  2.61it/s]"
          ]
        },
        {
          "output_type": "stream",
          "name": "stdout",
          "text": [
            "Group (2, 1) Accuracy: 52.266666666666666\n"
          ]
        },
        {
          "output_type": "stream",
          "name": "stderr",
          "text": [
            "\rEvaluating group-wise accuracy:  52%|█████▏    | 13/25 [00:05<00:04,  2.65it/s]"
          ]
        },
        {
          "output_type": "stream",
          "name": "stdout",
          "text": [
            "Group (2, 2) Accuracy: 97.33333333333333\n"
          ]
        },
        {
          "output_type": "stream",
          "name": "stderr",
          "text": [
            "\rEvaluating group-wise accuracy:  56%|█████▌    | 14/25 [00:06<00:04,  2.68it/s]"
          ]
        },
        {
          "output_type": "stream",
          "name": "stdout",
          "text": [
            "Group (2, 3) Accuracy: 48.266666666666666\n"
          ]
        },
        {
          "output_type": "stream",
          "name": "stderr",
          "text": [
            "\rEvaluating group-wise accuracy:  60%|██████    | 15/25 [00:06<00:03,  2.66it/s]"
          ]
        },
        {
          "output_type": "stream",
          "name": "stdout",
          "text": [
            "Group (2, 4) Accuracy: 43.04812834224599\n"
          ]
        },
        {
          "output_type": "stream",
          "name": "stderr",
          "text": [
            "\rEvaluating group-wise accuracy:  64%|██████▍   | 16/25 [00:06<00:03,  2.65it/s]"
          ]
        },
        {
          "output_type": "stream",
          "name": "stdout",
          "text": [
            "Group (3, 0) Accuracy: 75.37688442211055\n"
          ]
        },
        {
          "output_type": "stream",
          "name": "stderr",
          "text": [
            "\rEvaluating group-wise accuracy:  68%|██████▊   | 17/25 [00:07<00:03,  2.64it/s]"
          ]
        },
        {
          "output_type": "stream",
          "name": "stdout",
          "text": [
            "Group (3, 1) Accuracy: 77.32997481108312\n"
          ]
        },
        {
          "output_type": "stream",
          "name": "stderr",
          "text": [
            "\rEvaluating group-wise accuracy:  72%|███████▏  | 18/25 [00:07<00:02,  2.66it/s]"
          ]
        },
        {
          "output_type": "stream",
          "name": "stdout",
          "text": [
            "Group (3, 2) Accuracy: 69.77329974811083\n"
          ]
        },
        {
          "output_type": "stream",
          "name": "stderr",
          "text": [
            "\rEvaluating group-wise accuracy:  76%|███████▌  | 19/25 [00:07<00:02,  2.66it/s]"
          ]
        },
        {
          "output_type": "stream",
          "name": "stdout",
          "text": [
            "Group (3, 3) Accuracy: 98.99244332493703\n"
          ]
        },
        {
          "output_type": "stream",
          "name": "stderr",
          "text": [
            "\rEvaluating group-wise accuracy:  80%|████████  | 20/25 [00:08<00:01,  2.63it/s]"
          ]
        },
        {
          "output_type": "stream",
          "name": "stdout",
          "text": [
            "Group (3, 4) Accuracy: 68.51385390428212\n"
          ]
        },
        {
          "output_type": "stream",
          "name": "stderr",
          "text": [
            "\rEvaluating group-wise accuracy:  84%|████████▍ | 21/25 [00:08<00:01,  2.65it/s]"
          ]
        },
        {
          "output_type": "stream",
          "name": "stdout",
          "text": [
            "Group (4, 0) Accuracy: 70.7808564231738\n"
          ]
        },
        {
          "output_type": "stream",
          "name": "stderr",
          "text": [
            "\rEvaluating group-wise accuracy:  88%|████████▊ | 22/25 [00:09<00:01,  2.64it/s]"
          ]
        },
        {
          "output_type": "stream",
          "name": "stdout",
          "text": [
            "Group (4, 1) Accuracy: 64.23173803526448\n"
          ]
        },
        {
          "output_type": "stream",
          "name": "stderr",
          "text": [
            "\rEvaluating group-wise accuracy:  92%|█████████▏| 23/25 [00:09<00:00,  2.64it/s]"
          ]
        },
        {
          "output_type": "stream",
          "name": "stdout",
          "text": [
            "Group (4, 2) Accuracy: 72.79596977329975\n"
          ]
        },
        {
          "output_type": "stream",
          "name": "stderr",
          "text": [
            "\rEvaluating group-wise accuracy:  96%|█████████▌| 24/25 [00:09<00:00,  2.66it/s]"
          ]
        },
        {
          "output_type": "stream",
          "name": "stdout",
          "text": [
            "Group (4, 3) Accuracy: 74.24242424242425\n"
          ]
        },
        {
          "output_type": "stream",
          "name": "stderr",
          "text": [
            "Evaluating group-wise accuracy: 100%|██████████| 25/25 [00:10<00:00,  2.46it/s]"
          ]
        },
        {
          "output_type": "stream",
          "name": "stdout",
          "text": [
            "Group (4, 4) Accuracy: 94.6969696969697\n"
          ]
        },
        {
          "output_type": "stream",
          "name": "stderr",
          "text": [
            "\n"
          ]
        },
        {
          "output_type": "execute_result",
          "data": {
            "text/plain": [
              "{(0, 0): 99.29078014184397,\n",
              " (0, 1): 61.938534278959814,\n",
              " (0, 2): 83.68794326241135,\n",
              " (0, 3): 60.99290780141844,\n",
              " (0, 4): 72.57683215130024,\n",
              " (1, 0): 85.33007334963325,\n",
              " (1, 1): 96.82151589242054,\n",
              " (1, 2): 76.7156862745098,\n",
              " (1, 3): 79.16666666666667,\n",
              " (1, 4): 78.67647058823529,\n",
              " (2, 0): 70.66666666666667,\n",
              " (2, 1): 52.266666666666666,\n",
              " (2, 2): 97.33333333333333,\n",
              " (2, 3): 48.266666666666666,\n",
              " (2, 4): 43.04812834224599,\n",
              " (3, 0): 75.37688442211055,\n",
              " (3, 1): 77.32997481108312,\n",
              " (3, 2): 69.77329974811083,\n",
              " (3, 3): 98.99244332493703,\n",
              " (3, 4): 68.51385390428212,\n",
              " (4, 0): 70.7808564231738,\n",
              " (4, 1): 64.23173803526448,\n",
              " (4, 2): 72.79596977329975,\n",
              " (4, 3): 74.24242424242425,\n",
              " (4, 4): 94.6969696969697}"
            ]
          },
          "metadata": {},
          "execution_count": 9
        }
      ]
    },
    {
      "cell_type": "code",
      "source": [
        "evaluator = Evaluator(\n",
        "    testset=trainset,\n",
        "    group_partition=testset.group_partition,\n",
        "    group_weights=trainset.group_weights,\n",
        "    batch_size=64,\n",
        "    model=model,\n",
        "    verbose=True\n",
        ")\n",
        "evaluator.evaluate()"
      ],
      "metadata": {
        "colab": {
          "base_uri": "https://localhost:8080/"
        },
        "id": "2X_aQDsjxvvi",
        "outputId": "7c56170b-d34b-4ab2-cd3c-1ce59fd810fe"
      },
      "execution_count": 10,
      "outputs": [
        {
          "output_type": "stream",
          "name": "stderr",
          "text": [
            "/usr/local/lib/python3.12/dist-packages/torch/utils/data/dataloader.py:627: UserWarning: This DataLoader will create 4 worker processes in total. Our suggested max number of worker in current system is 2, which is smaller than what this DataLoader is going to create. Please be aware that excessive worker creation might get DataLoader running slow or even freeze, lower the worker number to avoid potential slowness/freeze if necessary.\n",
            "  warnings.warn(\n",
            "Evaluating group-wise accuracy:   0%|          | 0/25 [00:00<?, ?it/s]/usr/local/lib/python3.12/dist-packages/torch/utils/data/dataloader.py:666: UserWarning: 'pin_memory' argument is set as true but no accelerator is found, then device pinned memory won't be used.\n",
            "  warnings.warn(warn_msg)\n",
            "Evaluating group-wise accuracy:   4%|▍         | 1/25 [00:00<00:16,  1.42it/s]"
          ]
        },
        {
          "output_type": "stream",
          "name": "stdout",
          "text": [
            "Group (0, 0) Accuracy: 97.87234042553192\n"
          ]
        },
        {
          "output_type": "stream",
          "name": "stderr",
          "text": [
            "\rEvaluating group-wise accuracy:   8%|▊         | 2/25 [00:01<00:15,  1.47it/s]"
          ]
        },
        {
          "output_type": "stream",
          "name": "stdout",
          "text": [
            "Group (0, 1) Accuracy: 98.58156028368795\n"
          ]
        },
        {
          "output_type": "stream",
          "name": "stderr",
          "text": [
            "\rEvaluating group-wise accuracy:  12%|█▏        | 3/25 [00:02<00:15,  1.42it/s]"
          ]
        },
        {
          "output_type": "stream",
          "name": "stdout",
          "text": [
            "Group (0, 2) Accuracy: 98.3451536643026\n"
          ]
        },
        {
          "output_type": "stream",
          "name": "stderr",
          "text": [
            "\rEvaluating group-wise accuracy:  16%|█▌        | 4/25 [00:03<00:16,  1.27it/s]"
          ]
        },
        {
          "output_type": "stream",
          "name": "stdout",
          "text": [
            "Group (0, 3) Accuracy: 97.63593380614657\n"
          ]
        },
        {
          "output_type": "stream",
          "name": "stderr",
          "text": [
            "\rEvaluating group-wise accuracy:  20%|██        | 5/25 [00:03<00:15,  1.29it/s]"
          ]
        },
        {
          "output_type": "stream",
          "name": "stdout",
          "text": [
            "Group (0, 4) Accuracy: 98.10874704491725\n"
          ]
        },
        {
          "output_type": "stream",
          "name": "stderr",
          "text": [
            "\rEvaluating group-wise accuracy:  24%|██▍       | 6/25 [00:04<00:15,  1.20it/s]"
          ]
        },
        {
          "output_type": "stream",
          "name": "stdout",
          "text": [
            "Group (1, 0) Accuracy: 96.33251833740832\n"
          ]
        },
        {
          "output_type": "stream",
          "name": "stderr",
          "text": [
            "\rEvaluating group-wise accuracy:  28%|██▊       | 7/25 [00:05<00:14,  1.24it/s]"
          ]
        },
        {
          "output_type": "stream",
          "name": "stdout",
          "text": [
            "Group (1, 1) Accuracy: 97.06601466992664\n"
          ]
        },
        {
          "output_type": "stream",
          "name": "stderr",
          "text": [
            "\rEvaluating group-wise accuracy:  32%|███▏      | 8/25 [00:06<00:12,  1.34it/s]"
          ]
        },
        {
          "output_type": "stream",
          "name": "stdout",
          "text": [
            "Group (1, 2) Accuracy: 96.56862745098039\n"
          ]
        },
        {
          "output_type": "stream",
          "name": "stderr",
          "text": [
            "\rEvaluating group-wise accuracy:  36%|███▌      | 9/25 [00:07<00:13,  1.22it/s]"
          ]
        },
        {
          "output_type": "stream",
          "name": "stdout",
          "text": [
            "Group (1, 3) Accuracy: 98.03921568627452\n"
          ]
        },
        {
          "output_type": "stream",
          "name": "stderr",
          "text": [
            "\rEvaluating group-wise accuracy:  40%|████      | 10/25 [00:07<00:11,  1.33it/s]"
          ]
        },
        {
          "output_type": "stream",
          "name": "stdout",
          "text": [
            "Group (1, 4) Accuracy: 97.79411764705883\n"
          ]
        },
        {
          "output_type": "stream",
          "name": "stderr",
          "text": [
            "\rEvaluating group-wise accuracy:  44%|████▍     | 11/25 [00:08<00:09,  1.44it/s]"
          ]
        },
        {
          "output_type": "stream",
          "name": "stdout",
          "text": [
            "Group (2, 0) Accuracy: 97.06666666666666\n"
          ]
        },
        {
          "output_type": "stream",
          "name": "stderr",
          "text": [
            "\rEvaluating group-wise accuracy:  48%|████▊     | 12/25 [00:08<00:08,  1.52it/s]"
          ]
        },
        {
          "output_type": "stream",
          "name": "stdout",
          "text": [
            "Group (2, 1) Accuracy: 98.13333333333334\n"
          ]
        },
        {
          "output_type": "stream",
          "name": "stderr",
          "text": [
            "\rEvaluating group-wise accuracy:  52%|█████▏    | 13/25 [00:09<00:07,  1.71it/s]"
          ]
        },
        {
          "output_type": "stream",
          "name": "stdout",
          "text": [
            "Group (2, 2) Accuracy: 98.4\n"
          ]
        },
        {
          "output_type": "stream",
          "name": "stderr",
          "text": [
            "\rEvaluating group-wise accuracy:  56%|█████▌    | 14/25 [00:09<00:05,  1.91it/s]"
          ]
        },
        {
          "output_type": "stream",
          "name": "stdout",
          "text": [
            "Group (2, 3) Accuracy: 97.33333333333333\n"
          ]
        },
        {
          "output_type": "stream",
          "name": "stderr",
          "text": [
            "\rEvaluating group-wise accuracy:  60%|██████    | 15/25 [00:10<00:05,  1.98it/s]"
          ]
        },
        {
          "output_type": "stream",
          "name": "stdout",
          "text": [
            "Group (2, 4) Accuracy: 98.39572192513369\n"
          ]
        },
        {
          "output_type": "stream",
          "name": "stderr",
          "text": [
            "\rEvaluating group-wise accuracy:  64%|██████▍   | 16/25 [00:10<00:04,  2.13it/s]"
          ]
        },
        {
          "output_type": "stream",
          "name": "stdout",
          "text": [
            "Group (3, 0) Accuracy: 97.73869346733669\n"
          ]
        },
        {
          "output_type": "stream",
          "name": "stderr",
          "text": [
            "\rEvaluating group-wise accuracy:  68%|██████▊   | 17/25 [00:10<00:03,  2.27it/s]"
          ]
        },
        {
          "output_type": "stream",
          "name": "stdout",
          "text": [
            "Group (3, 1) Accuracy: 97.22921914357683\n"
          ]
        },
        {
          "output_type": "stream",
          "name": "stderr",
          "text": [
            "\rEvaluating group-wise accuracy:  72%|███████▏  | 18/25 [00:11<00:02,  2.39it/s]"
          ]
        },
        {
          "output_type": "stream",
          "name": "stdout",
          "text": [
            "Group (3, 2) Accuracy: 97.73299748110831\n"
          ]
        },
        {
          "output_type": "stream",
          "name": "stderr",
          "text": [
            "\rEvaluating group-wise accuracy:  76%|███████▌  | 19/25 [00:11<00:02,  2.45it/s]"
          ]
        },
        {
          "output_type": "stream",
          "name": "stdout",
          "text": [
            "Group (3, 3) Accuracy: 97.48110831234257\n"
          ]
        },
        {
          "output_type": "stream",
          "name": "stderr",
          "text": [
            "\rEvaluating group-wise accuracy:  80%|████████  | 20/25 [00:11<00:01,  2.51it/s]"
          ]
        },
        {
          "output_type": "stream",
          "name": "stdout",
          "text": [
            "Group (3, 4) Accuracy: 97.98488664987406\n"
          ]
        },
        {
          "output_type": "stream",
          "name": "stderr",
          "text": [
            "\rEvaluating group-wise accuracy:  84%|████████▍ | 21/25 [00:12<00:01,  2.55it/s]"
          ]
        },
        {
          "output_type": "stream",
          "name": "stdout",
          "text": [
            "Group (4, 0) Accuracy: 98.48866498740554\n"
          ]
        },
        {
          "output_type": "stream",
          "name": "stderr",
          "text": [
            "\rEvaluating group-wise accuracy:  88%|████████▊ | 22/25 [00:12<00:01,  2.53it/s]"
          ]
        },
        {
          "output_type": "stream",
          "name": "stdout",
          "text": [
            "Group (4, 1) Accuracy: 98.48866498740554\n"
          ]
        },
        {
          "output_type": "stream",
          "name": "stderr",
          "text": [
            "\rEvaluating group-wise accuracy:  92%|█████████▏| 23/25 [00:13<00:00,  2.55it/s]"
          ]
        },
        {
          "output_type": "stream",
          "name": "stdout",
          "text": [
            "Group (4, 2) Accuracy: 98.48866498740554\n"
          ]
        },
        {
          "output_type": "stream",
          "name": "stderr",
          "text": [
            "\rEvaluating group-wise accuracy:  96%|█████████▌| 24/25 [00:13<00:00,  2.58it/s]"
          ]
        },
        {
          "output_type": "stream",
          "name": "stdout",
          "text": [
            "Group (4, 3) Accuracy: 97.97979797979798\n"
          ]
        },
        {
          "output_type": "stream",
          "name": "stderr",
          "text": [
            "Evaluating group-wise accuracy: 100%|██████████| 25/25 [00:13<00:00,  1.80it/s]"
          ]
        },
        {
          "output_type": "stream",
          "name": "stdout",
          "text": [
            "Group (4, 4) Accuracy: 95.70707070707071\n"
          ]
        },
        {
          "output_type": "stream",
          "name": "stderr",
          "text": [
            "\n"
          ]
        },
        {
          "output_type": "execute_result",
          "data": {
            "text/plain": [
              "{(0, 0): 97.87234042553192,\n",
              " (0, 1): 98.58156028368795,\n",
              " (0, 2): 98.3451536643026,\n",
              " (0, 3): 97.63593380614657,\n",
              " (0, 4): 98.10874704491725,\n",
              " (1, 0): 96.33251833740832,\n",
              " (1, 1): 97.06601466992664,\n",
              " (1, 2): 96.56862745098039,\n",
              " (1, 3): 98.03921568627452,\n",
              " (1, 4): 97.79411764705883,\n",
              " (2, 0): 97.06666666666666,\n",
              " (2, 1): 98.13333333333334,\n",
              " (2, 2): 98.4,\n",
              " (2, 3): 97.33333333333333,\n",
              " (2, 4): 98.39572192513369,\n",
              " (3, 0): 97.73869346733669,\n",
              " (3, 1): 97.22921914357683,\n",
              " (3, 2): 97.73299748110831,\n",
              " (3, 3): 97.48110831234257,\n",
              " (3, 4): 97.98488664987406,\n",
              " (4, 0): 98.48866498740554,\n",
              " (4, 1): 98.48866498740554,\n",
              " (4, 2): 98.48866498740554,\n",
              " (4, 3): 97.97979797979798,\n",
              " (4, 4): 95.70707070707071}"
            ]
          },
          "metadata": {},
          "execution_count": 10
        }
      ]
    }
  ]
}